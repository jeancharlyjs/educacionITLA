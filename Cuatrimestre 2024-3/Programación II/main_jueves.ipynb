{
 "cells": [
  {
   "cell_type": "markdown",
   "metadata": {},
   "source": [
    "# Introducción Python\n",
    "##### _by: Jean Charly Ph. Joseph S._"
   ]
  },
  {
   "cell_type": "markdown",
   "metadata": {},
   "source": [
    "# Tipos de Variables\n",
    "\n",
    "- Primitivo \\\n",
    "    Son todos aquellos que solo pueden almacenar un unico tipo de dato.\n",
    "    * String \" \", ' '\n",
    "    * Integer $\\mathbb{R}$\n",
    "    * Float\n",
    "    * Complejos\n",
    "    * Booleanos\n",
    "- Colectoras \\\n",
    "    Son todas las estructuras que puede almacenar N cantidad de datos e incluso ella misma\n",
    "    ### _Estructuras Mutable_\n",
    "    Son mutables debido a que se puede modificar el valor después de haber sido creado.\n",
    "    * Listas [ ]\n",
    "        - Vectores\n",
    "            - Vectores Filas [ ]\n",
    "            - Vectores Columnas [ [], [], []]\n",
    "        - Matrices\n",
    "            [[[], [], []], \n",
    "             [[], [], []], \n",
    "             [[], [], []]]\n",
    "    * Diccionarios {key: value}\n",
    "\n",
    "    ### _Estructuras Inmutable_\n",
    "    Son inmutable debido a que no se puede modificar el valor después de haber sido creado.\n",
    "    * Tuplas ()\n",
    "    * Conjuntos {}\n"
   ]
  },
  {
   "cell_type": "markdown",
   "metadata": {},
   "source": [
    "### Palabras Reservadas - Python\n"
   ]
  },
  {
   "cell_type": "code",
   "execution_count": 3,
   "metadata": {},
   "outputs": [
    {
     "name": "stdout",
     "output_type": "stream",
     "text": [
      "['False', 'None', 'True', 'and', 'as', 'assert', 'async', 'await', 'break', 'class', 'continue', 'def', 'del', 'elif', 'else', 'except', 'finally', 'for', 'from', 'global', 'if', 'import', 'in', 'is', 'lambda', 'nonlocal', 'not', 'or', 'pass', 'raise', 'return', 'try', 'while', 'with', 'yield']\n"
     ]
    }
   ],
   "source": [
    "from keyword import kwlist\n",
    "\n",
    "print(kwlist)"
   ]
  },
  {
   "cell_type": "markdown",
   "metadata": {},
   "source": [
    "#### Creacion de variables\n",
    "\n",
    "* Buenas practicas\n",
    "    - ejemplo\n",
    "    - _ejemplo\n",
    "    - ejemploEjemplo\n",
    "    - ejemplo_ejemplo\n",
    "\n",
    "* Malas practicas\n",
    "    - 1ejemplo\n",
    "    - $ejemplo\n",
    "    - PALABRAS RESERVAS"
   ]
  },
  {
   "cell_type": "code",
   "execution_count": 1,
   "metadata": {},
   "outputs": [],
   "source": [
    "# String\n",
    "nombre =  \"Jean Charly\"\n",
    "apellido = 'Joseph S'\n",
    "\n",
    "#Enteros\n",
    "edad = 32\n",
    "cantidad = 10000\n",
    "\n",
    "#Float\n",
    "pi = 3.14\n",
    "altura = 1.4\n",
    "\n",
    "#Complejo\n",
    "c = 43j\n",
    "\n",
    "#Booleano\n",
    "sexo = False #Masculino\n",
    "sexo1 = True #Femenino"
   ]
  },
  {
   "cell_type": "code",
   "execution_count": 2,
   "metadata": {},
   "outputs": [
    {
     "name": "stdout",
     "output_type": "stream",
     "text": [
      "Jean Charly Joseph S\n",
      "Jean Charly Joseph S\n",
      "Jean Charly Joseph S\n",
      "Jean Charly Joseph S\n",
      "Jean Charly Joseph S\n",
      "Jean Charly Joseph S\n"
     ]
    }
   ],
   "source": [
    "#String\n",
    "print(nombre, apellido)\n",
    "\n",
    "#Concantenar\n",
    "\n",
    "###Forma1\n",
    "nombreCompleto = nombre + \" \"+ apellido\n",
    "print(nombreCompleto)\n",
    "\n",
    "###Forma2\n",
    "nombreCompleto1 = f\"{nombre} {apellido}\"\n",
    "print(nombreCompleto1)\n",
    "\n",
    "###Forma3\n",
    "nombreCompleto2 = \"%s %s\"%(nombre, apellido)\n",
    "print(nombreCompleto2)\n",
    "\n",
    "###Forma4\n",
    "nombreCompleto3 = \"{} {}\".format(nombre, apellido)\n",
    "print(nombreCompleto3)\n",
    "\n",
    "###Forma5\n",
    "nombreCompleto4 = \" \".join([nombre, apellido])\n",
    "print(nombreCompleto4)\n"
   ]
  },
  {
   "cell_type": "code",
   "execution_count": 16,
   "metadata": {},
   "outputs": [
    {
     "data": {
      "text/plain": [
       "'Nikola Joseph S'"
      ]
     },
     "execution_count": 16,
     "metadata": {},
     "output_type": "execute_result"
    }
   ],
   "source": [
    "#String\n",
    "\n",
    "nombreCompleto4.replace(\"Jean Charly\", \"Nikola\")"
   ]
  },
  {
   "cell_type": "code",
   "execution_count": 3,
   "metadata": {},
   "outputs": [],
   "source": [
    "#Factor Numerico\n",
    "\n",
    "##Metodo 1\n",
    "a = 32\n",
    "b = 50\n",
    "c = -23\n",
    "\n",
    "##Metodo 2\n",
    "a, b, c = 32, 50, -23\n",
    "\n",
    "##Metodo 3\n",
    "a = 32; b = 50; c = -23\n",
    "\n"
   ]
  },
  {
   "cell_type": "code",
   "execution_count": 5,
   "metadata": {},
   "outputs": [
    {
     "name": "stdout",
     "output_type": "stream",
     "text": [
      "Suma:  82\n",
      "Restar:  55\n",
      "Mult:  1600\n",
      "Mult2:  288\n",
      "Division:  -1.391304347826087\n",
      "Division Res:  -2\n",
      "Exponente:  1048576\n",
      "Complejos:  (32+44j)\n"
     ]
    }
   ],
   "source": [
    "# Operaciones Aritmeticas\n",
    "\n",
    "print(\"Suma: \", a + b)\n",
    "print('Restar: ', a - c)\n",
    "print(\"Mult: \", a * b)\n",
    "print(\"Mult2: \", (a + c) * a)\n",
    "print(\"Division: \", a / c)\n",
    "print(\"Division Res: \", a // c)\n",
    "print(\"Exponente: \", a ** 4)\n",
    "print(\"Complejos: \", a + 44j)\n"
   ]
  },
  {
   "cell_type": "markdown",
   "metadata": {},
   "source": [
    "# Colectores\n",
    "\n",
    "* Tomaño -> len(elemento)\n",
    "* Indice -> elemento[n]\n",
    "* Slices -> elemento[a:b]; elemento[:2]; elemento[2:]; elemento[:]"
   ]
  },
  {
   "cell_type": "code",
   "execution_count": 10,
   "metadata": {},
   "outputs": [
    {
     "name": "stdout",
     "output_type": "stream",
     "text": [
      "['Jean Charly', 'Joseph S', 32, False, [], 82]\n",
      "Tamaño:  6\n",
      "False\n",
      "False\n"
     ]
    }
   ],
   "source": [
    "elemento = [nombre, apellido, edad, sexo, [], a+b]\n",
    "print(elemento)\n",
    "#Tamaño\n",
    "print(\"Tamaño: \", len(elemento))\n",
    "\n",
    "#Indice\n",
    "print(elemento[3])\n",
    "print(elemento[-3])\n"
   ]
  },
  {
   "cell_type": "markdown",
   "metadata": {},
   "source": [
    "#### Slices"
   ]
  },
  {
   "cell_type": "code",
   "execution_count": 15,
   "metadata": {},
   "outputs": [
    {
     "name": "stdout",
     "output_type": "stream",
     "text": [
      "[32, False]\n",
      "['Jean Charly', 'Joseph S']\n",
      "[32, False, [], 82]\n",
      "['Jean Charly', 'Joseph S', 32, False, [], 82]\n"
     ]
    }
   ],
   "source": [
    "#Slice\n",
    "#elemento[a:b]; elemento[:2]; elemento[2:]; elemento[:]\n",
    "\n",
    "#[a:b]\n",
    "print(elemento[2:4])\n",
    "\n",
    "#[:a]\n",
    "print(elemento[:2])\n",
    "\n",
    "#[a:]\n",
    "print(elemento[2:])\n",
    "\n",
    "#[:]\n",
    "print(elemento[:])"
   ]
  },
  {
   "cell_type": "markdown",
   "metadata": {},
   "source": [
    "### Matrices\n",
    "\n",
    "[\n",
    "    [[], [], []],\n",
    "    [[], [], []],\n",
    "    [[], [], []],\n",
    "]"
   ]
  },
  {
   "cell_type": "code",
   "execution_count": 29,
   "metadata": {},
   "outputs": [
    {
     "name": "stdout",
     "output_type": "stream",
     "text": [
      "[[[ 2  3  4  5  6]\n",
      "  [44 23 22 42 22]\n",
      "  [23 23 22 50 32]]\n",
      "\n",
      " [[44 23 22 42 22]\n",
      "  [23 23 22 50 32]\n",
      "  [ 2  3  4  5  6]]\n",
      "\n",
      " [[ 2  3  4  5  6]\n",
      "  [23 23 22 50 32]\n",
      "  [23 23 22 50 32]]]\n"
     ]
    }
   ],
   "source": [
    "import numpy as np\n",
    "import matplotlib.pyplot as plt\n",
    "m = np.array([\n",
    "    [[2, 3, 4, 5, 6], [44, 23, 22, 42, 22], [23, 23, 22, 50, 32]],\n",
    "    [[44, 23, 22, 42, 22], [23, 23, 22, 50, 32], [2, 3, 4, 5, 6],],\n",
    "    [[2, 3, 4, 5, 6], [23, 23, 22, 50, 32], [23, 23, 22, 50, 32]],\n",
    "])\n",
    "print(m)"
   ]
  },
  {
   "cell_type": "code",
   "execution_count": 28,
   "metadata": {},
   "outputs": [
    {
     "name": "stdout",
     "output_type": "stream",
     "text": [
      "[[44 23 22 42 22]\n",
      " [23 23 22 50 32]]\n",
      "\n",
      "[[ 3 23 23]\n",
      " [23 23  3]]\n"
     ]
    }
   ],
   "source": [
    "#Fila\n",
    "print(m[0:2 ,1, :])\n",
    "print()\n",
    "#Columnas\n",
    "print(m[0:2, :, 1])"
   ]
  },
  {
   "cell_type": "code",
   "execution_count": 33,
   "metadata": {},
   "outputs": [
    {
     "data": {
      "text/plain": [
       "<matplotlib.image.AxesImage at 0x73a42ec4adb0>"
      ]
     },
     "execution_count": 33,
     "metadata": {},
     "output_type": "execute_result"
    },
    {
     "data": {
      "image/png": "[encoded data removed]",
      "text/plain": [
       "<Figure size 640x480 with 1 Axes>"
      ]
     },
     "metadata": {},
     "output_type": "display_data"
    }
   ],
   "source": [
    "plt.imshow(m[2], cmap='grey')"
   ]
  },
  {
   "cell_type": "markdown",
   "metadata": {},
   "source": [
    "### Iteracion\n",
    "\n",
    "### $\\sum^{n}_{i=1} x_i$\n",
    "```\n",
    "- ALGORITMO -\n",
    "PARA I HASTA N ENTONCES\n",
    "    IMPRIMIR(elemento[I])\n",
    "```"
   ]
  },
  {
   "cell_type": "code",
   "execution_count": 37,
   "metadata": {},
   "outputs": [
    {
     "name": "stdout",
     "output_type": "stream",
     "text": [
      "0\n",
      "1\n",
      "2\n",
      "3\n",
      "4\n",
      "5\n",
      "6\n",
      "7\n",
      "8\n",
      "9\n",
      "10\n"
     ]
    }
   ],
   "source": [
    "n = 10\n",
    "for i in range(n+1):\n",
    "    print(i)"
   ]
  },
  {
   "cell_type": "code",
   "execution_count": 41,
   "metadata": {},
   "outputs": [
    {
     "name": "stdout",
     "output_type": "stream",
     "text": [
      "0 x 5 \t = \t0\n",
      "1 x 5 \t = \t5\n",
      "2 x 5 \t = \t10\n",
      "3 x 5 \t = \t15\n",
      "4 x 5 \t = \t20\n",
      "5 x 5 \t = \t25\n",
      "6 x 5 \t = \t30\n",
      "7 x 5 \t = \t35\n",
      "8 x 5 \t = \t40\n",
      "9 x 5 \t = \t45\n",
      "10 x 5 \t = \t50\n"
     ]
    }
   ],
   "source": [
    "n = 11\n",
    "numeroTabla = int(input(\"Ingrese numero de la tabla que quieres saber: \"))\n",
    "#int, str, float, complex\n",
    "\n",
    "for i in range(n):\n",
    "    print(f\"{i} x {numeroTabla} \\t = \\t{i * numeroTabla}\")"
   ]
  },
  {
   "cell_type": "code",
   "execution_count": 42,
   "metadata": {},
   "outputs": [
    {
     "name": "stdout",
     "output_type": "stream",
     "text": [
      "Jean Charly\n",
      "Joseph S\n",
      "32\n",
      "False\n",
      "[]\n",
      "82\n"
     ]
    }
   ],
   "source": [
    "#Mala practica\n",
    "for i in elemento:\n",
    "    print(i)"
   ]
  },
  {
   "cell_type": "code",
   "execution_count": 45,
   "metadata": {},
   "outputs": [
    {
     "name": "stdout",
     "output_type": "stream",
     "text": [
      "Jean Charly  \t <class 'str'>\n",
      "Joseph S  \t <class 'str'>\n",
      "32  \t <class 'int'>\n",
      "False  \t <class 'bool'>\n",
      "[]  \t <class 'list'>\n",
      "82  \t <class 'int'>\n"
     ]
    }
   ],
   "source": [
    "#Buena practica\n",
    "\n",
    "for i in range(len(elemento)):\n",
    "    print(elemento[i], \" \\t\", type(elemento[i]))"
   ]
  },
  {
   "cell_type": "markdown",
   "metadata": {},
   "source": [
    "# Control de Flujo\n",
    "\n",
    "```\n",
    "SI (CONDICION) ENTONCES\n",
    "    SENTENCIA\n",
    "SINO \n",
    "    SENTENCIA\n",
    "```\n",
    "\n",
    "Siempre devolvera un valor booleano\n",
    "\n",
    "Proposiciones:\n",
    "\n",
    "* Simples\n",
    "    A todo aquellos enunciados que no tienen ningun conector\n",
    "* Compuestas\n",
    "    A todo aquellos que son de dos o mas enunciados simples y que deben tener conenctores\n",
    "\n",
    "```\n",
    "### Operadores Logicos / Conectores \n",
    "\n",
    "AND -> Y  -> && ->   V = VV\n",
    "OR  -> O  -> || ->   V = VF\n",
    "NOT -> NO ->    ->   V = F; F=V\n",
    "\n",
    "### Operadores Comparacion\n",
    "\n",
    "== Igual\n",
    "<  Menor que\n",
    ">  Mayor que\n",
    "<= Menor igual que\n",
    ">= Mayor igual que\n",
    "!= Diferencia\n",
    "```"
   ]
  },
  {
   "cell_type": "code",
   "execution_count": 4,
   "metadata": {},
   "outputs": [
    {
     "data": {
      "text/plain": [
       "False"
      ]
     },
     "execution_count": 4,
     "metadata": {},
     "output_type": "execute_result"
    }
   ],
   "source": [
    "#Simple\n",
    "# a = 32\n",
    "# b = 50\n",
    "# c = -23\n",
    "\n",
    "( a > b)"
   ]
  },
  {
   "cell_type": "code",
   "execution_count": 7,
   "metadata": {},
   "outputs": [
    {
     "data": {
      "text/plain": [
       "False"
      ]
     },
     "execution_count": 7,
     "metadata": {},
     "output_type": "execute_result"
    }
   ],
   "source": [
    "#Compuesta\n",
    "\n",
    "(a <= b) and (a == c)\n",
    "#   V           F\n",
    "#         F"
   ]
  },
  {
   "cell_type": "code",
   "execution_count": 8,
   "metadata": {},
   "outputs": [
    {
     "name": "stdout",
     "output_type": "stream",
     "text": [
      "Algo esta mal\n"
     ]
    }
   ],
   "source": [
    "#Control de Flujo\n",
    "\n",
    "if (a <= b) and (a == c):\n",
    "   print(\"Excelente.... :) \")\n",
    "else:\n",
    "   print(\"Algo esta mal\")"
   ]
  },
  {
   "cell_type": "code",
   "execution_count": 16,
   "metadata": {},
   "outputs": [
    {
     "name": "stdout",
     "output_type": "stream",
     "text": [
      "['Jean Charly', 'Joseph S']\n"
     ]
    }
   ],
   "source": [
    "nuevaLista = []\n",
    "for i in range(len(elemento)):\n",
    "    if type(elemento[i]) is str:\n",
    "        nuevaLista.append(elemento[i])\n",
    "print(nuevaLista)"
   ]
  }
 ],
 "metadata": {
  "kernelspec": {
   "display_name": "Python 3",
   "language": "python",
   "name": "python3"
  },
  "language_info": {
   "codemirror_mode": {
    "name": "ipython",
    "version": 3
   },
   "file_extension": ".py",
   "mimetype": "text/x-python",
   "name": "python",
   "nbconvert_exporter": "python",
   "pygments_lexer": "ipython3",
   "version": "3.12.1"
  }
 },
 "nbformat": 4,
 "nbformat_minor": 2
}
