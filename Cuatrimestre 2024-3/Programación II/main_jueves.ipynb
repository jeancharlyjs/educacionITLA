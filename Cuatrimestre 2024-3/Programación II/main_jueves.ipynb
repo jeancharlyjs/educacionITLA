{
 "cells": [
  {
   "cell_type": "markdown",
   "metadata": {},
   "source": [
    "# Introducción Python\n",
    "##### _by: Jean Charly Ph. Joseph S._"
   ]
  },
  {
   "cell_type": "markdown",
   "metadata": {},
   "source": [
    "# Tipos de Variables\n",
    "\n",
    "- Primitivo \\\n",
    "    Son todos aquellos que solo pueden almacenar un unico tipo de dato.\n",
    "    * String \" \", ' '\n",
    "    * Integer $\\mathbb{R}$\n",
    "    * Float\n",
    "    * Complejos\n",
    "    * Booleanos\n",
    "- Colectoras \\\n",
    "    Son todas las estructuras que puede almacenar N cantidad de datos e incluso ella misma\n",
    "    ### _Estructuras Mutable_\n",
    "    Son mutables debido a que se puede modificar el valor después de haber sido creado.\n",
    "    * Listas [ ]\n",
    "        - Vectores\n",
    "            - Vectores Filas [ ]\n",
    "            - Vectores Columnas [ [], [], []]\n",
    "        - Matrices\n",
    "            [[[], [], []], \n",
    "             [[], [], []], \n",
    "             [[], [], []]]\n",
    "    * Diccionarios {key: value}\n",
    "\n",
    "    ### _Estructuras Inmutable_\n",
    "    Son inmutable debido a que no se puede modificar el valor después de haber sido creado.\n",
    "    * Tuplas ()\n",
    "    * Conjuntos {}\n"
   ]
  },
  {
   "cell_type": "markdown",
   "metadata": {},
   "source": [
    "### Palabras Reservadas - Python\n"
   ]
  },
  {
   "cell_type": "code",
   "execution_count": 3,
   "metadata": {},
   "outputs": [
    {
     "name": "stdout",
     "output_type": "stream",
     "text": [
      "['False', 'None', 'True', 'and', 'as', 'assert', 'async', 'await', 'break', 'class', 'continue', 'def', 'del', 'elif', 'else', 'except', 'finally', 'for', 'from', 'global', 'if', 'import', 'in', 'is', 'lambda', 'nonlocal', 'not', 'or', 'pass', 'raise', 'return', 'try', 'while', 'with', 'yield']\n"
     ]
    }
   ],
   "source": [
    "from keyword import kwlist\n",
    "\n",
    "print(kwlist)"
   ]
  },
  {
   "cell_type": "markdown",
   "metadata": {},
   "source": [
    "#### Creacion de variables\n",
    "\n",
    "* Buenas practicas\n",
    "    - ejemplo\n",
    "    - _ejemplo\n",
    "    - ejemploEjemplo\n",
    "    - ejemplo_ejemplo\n",
    "\n",
    "* Malas practicas\n",
    "    - 1ejemplo\n",
    "    - $ejemplo\n",
    "    - PALABRAS RESERVAS"
   ]
  },
  {
   "cell_type": "code",
   "execution_count": 1,
   "metadata": {},
   "outputs": [],
   "source": [
    "# String\n",
    "nombre =  \"Jean Charly\"\n",
    "apellido = 'Joseph S'\n",
    "\n",
    "#Enteros\n",
    "edad = 32\n",
    "cantidad = 10000\n",
    "\n",
    "#Float\n",
    "pi = 3.14\n",
    "altura = 1.4\n",
    "\n",
    "#Complejo\n",
    "c = 43j\n",
    "\n",
    "#Booleano\n",
    "sexo = False #Masculino\n",
    "sexo1 = True #Femenino"
   ]
  },
  {
   "cell_type": "code",
   "execution_count": 2,
   "metadata": {},
   "outputs": [
    {
     "name": "stdout",
     "output_type": "stream",
     "text": [
      "Jean Charly Joseph S\n",
      "Jean Charly Joseph S\n",
      "Jean Charly Joseph S\n",
      "Jean Charly Joseph S\n",
      "Jean Charly Joseph S\n",
      "Jean Charly Joseph S\n"
     ]
    }
   ],
   "source": [
    "#String\n",
    "print(nombre, apellido)\n",
    "\n",
    "#Concantenar\n",
    "\n",
    "###Forma1\n",
    "nombreCompleto = nombre + \" \"+ apellido\n",
    "print(nombreCompleto)\n",
    "\n",
    "###Forma2\n",
    "nombreCompleto1 = f\"{nombre} {apellido}\"\n",
    "print(nombreCompleto1)\n",
    "\n",
    "###Forma3\n",
    "nombreCompleto2 = \"%s %s\"%(nombre, apellido)\n",
    "print(nombreCompleto2)\n",
    "\n",
    "###Forma4\n",
    "nombreCompleto3 = \"{} {}\".format(nombre, apellido)\n",
    "print(nombreCompleto3)\n",
    "\n",
    "###Forma5\n",
    "nombreCompleto4 = \" \".join([nombre, apellido])\n",
    "print(nombreCompleto4)\n"
   ]
  },
  {
   "cell_type": "code",
   "execution_count": 16,
   "metadata": {},
   "outputs": [
    {
     "data": {
      "text/plain": [
       "'Nikola Joseph S'"
      ]
     },
     "execution_count": 16,
     "metadata": {},
     "output_type": "execute_result"
    }
   ],
   "source": [
    "#String\n",
    "\n",
    "nombreCompleto4.replace(\"Jean Charly\", \"Nikola\")"
   ]
  },
  {
   "cell_type": "code",
   "execution_count": 3,
   "metadata": {},
   "outputs": [],
   "source": [
    "#Factor Numerico\n",
    "\n",
    "##Metodo 1\n",
    "a = 32\n",
    "b = 50\n",
    "c = -23\n",
    "\n",
    "##Metodo 2\n",
    "a, b, c = 32, 50, -23\n",
    "\n",
    "##Metodo 3\n",
    "a = 32; b = 50; c = -23\n",
    "\n"
   ]
  },
  {
   "cell_type": "code",
   "execution_count": 5,
   "metadata": {},
   "outputs": [
    {
     "name": "stdout",
     "output_type": "stream",
     "text": [
      "Suma:  82\n",
      "Restar:  55\n",
      "Mult:  1600\n",
      "Mult2:  288\n",
      "Division:  -1.391304347826087\n",
      "Division Res:  -2\n",
      "Exponente:  1048576\n",
      "Complejos:  (32+44j)\n"
     ]
    }
   ],
   "source": [
    "# Operaciones Aritmeticas\n",
    "\n",
    "print(\"Suma: \", a + b)\n",
    "print('Restar: ', a - c)\n",
    "print(\"Mult: \", a * b)\n",
    "print(\"Mult2: \", (a + c) * a)\n",
    "print(\"Division: \", a / c)\n",
    "print(\"Division Res: \", a // c)\n",
    "print(\"Exponente: \", a ** 4)\n",
    "print(\"Complejos: \", a + 44j)\n"
   ]
  },
  {
   "cell_type": "markdown",
   "metadata": {},
   "source": [
    "# Colectores\n",
    "\n",
    "* Tomaño -> len(elemento)\n",
    "* Indice -> elemento[n]\n",
    "* Slices -> elemento[a:b]; elemento[:2]; elemento[2:]; elemento[:]"
   ]
  },
  {
   "cell_type": "code",
   "execution_count": 10,
   "metadata": {},
   "outputs": [
    {
     "name": "stdout",
     "output_type": "stream",
     "text": [
      "['Jean Charly', 'Joseph S', 32, False, [], 82]\n",
      "Tamaño:  6\n",
      "False\n",
      "False\n"
     ]
    }
   ],
   "source": [
    "elemento = [nombre, apellido, edad, sexo, [], a+b]\n",
    "print(elemento)\n",
    "#Tamaño\n",
    "print(\"Tamaño: \", len(elemento))\n",
    "\n",
    "#Indice\n",
    "print(elemento[3])\n",
    "print(elemento[-3])\n"
   ]
  },
  {
   "cell_type": "markdown",
   "metadata": {},
   "source": [
    "#### Slices"
   ]
  },
  {
   "cell_type": "code",
   "execution_count": 15,
   "metadata": {},
   "outputs": [
    {
     "name": "stdout",
     "output_type": "stream",
     "text": [
      "[32, False]\n",
      "['Jean Charly', 'Joseph S']\n",
      "[32, False, [], 82]\n",
      "['Jean Charly', 'Joseph S', 32, False, [], 82]\n"
     ]
    }
   ],
   "source": [
    "#Slice\n",
    "#elemento[a:b]; elemento[:2]; elemento[2:]; elemento[:]\n",
    "\n",
    "#[a:b]\n",
    "print(elemento[2:4])\n",
    "\n",
    "#[:a]\n",
    "print(elemento[:2])\n",
    "\n",
    "#[a:]\n",
    "print(elemento[2:])\n",
    "\n",
    "#[:]\n",
    "print(elemento[:])"
   ]
  },
  {
   "cell_type": "markdown",
   "metadata": {},
   "source": [
    "### Matrices\n",
    "\n",
    "[\n",
    "    [[], [], []],\n",
    "    [[], [], []],\n",
    "    [[], [], []],\n",
    "]"
   ]
  },
  {
   "cell_type": "code",
   "execution_count": 29,
   "metadata": {},
   "outputs": [
    {
     "name": "stdout",
     "output_type": "stream",
     "text": [
      "[[[ 2  3  4  5  6]\n",
      "  [44 23 22 42 22]\n",
      "  [23 23 22 50 32]]\n",
      "\n",
      " [[44 23 22 42 22]\n",
      "  [23 23 22 50 32]\n",
      "  [ 2  3  4  5  6]]\n",
      "\n",
      " [[ 2  3  4  5  6]\n",
      "  [23 23 22 50 32]\n",
      "  [23 23 22 50 32]]]\n"
     ]
    }
   ],
   "source": [
    "import numpy as np\n",
    "import matplotlib.pyplot as plt\n",
    "m = np.array([\n",
    "    [[2, 3, 4, 5, 6], [44, 23, 22, 42, 22], [23, 23, 22, 50, 32]],\n",
    "    [[44, 23, 22, 42, 22], [23, 23, 22, 50, 32], [2, 3, 4, 5, 6],],\n",
    "    [[2, 3, 4, 5, 6], [23, 23, 22, 50, 32], [23, 23, 22, 50, 32]],\n",
    "])\n",
    "print(m)"
   ]
  },
  {
   "cell_type": "code",
   "execution_count": 28,
   "metadata": {},
   "outputs": [
    {
     "name": "stdout",
     "output_type": "stream",
     "text": [
      "[[44 23 22 42 22]\n",
      " [23 23 22 50 32]]\n",
      "\n",
      "[[ 3 23 23]\n",
      " [23 23  3]]\n"
     ]
    }
   ],
   "source": [
    "#Fila\n",
    "print(m[0:2 ,1, :])\n",
    "print()\n",
    "#Columnas\n",
    "print(m[0:2, :, 1])"
   ]
  },
  {
   "cell_type": "code",
   "execution_count": 33,
   "metadata": {},
   "outputs": [
    {
     "data": {
      "text/plain": [
       "<matplotlib.image.AxesImage at 0x73a42ec4adb0>"
      ]
     },
     "execution_count": 33,
     "metadata": {},
     "output_type": "execute_result"
    },
    {
     "data": {
      "image/png": "[encoded data removed]",
      "text/plain": [
       "<Figure size 640x480 with 1 Axes>"
      ]
     },
     "metadata": {},
     "output_type": "display_data"
    }
   ],
   "source": [
    "plt.imshow(m[2], cmap='grey')"
   ]
  },
  {
   "cell_type": "markdown",
   "metadata": {},
   "source": [
    "### Iteracion\n",
    "\n",
    "### $\\sum^{n}_{i=1} x_i$\n",
    "```\n",
    "- ALGORITMO -\n",
    "PARA I HASTA N ENTONCES\n",
    "    IMPRIMIR(elemento[I])\n",
    "```"
   ]
  },
  {
   "cell_type": "code",
   "execution_count": 37,
   "metadata": {},
   "outputs": [
    {
     "name": "stdout",
     "output_type": "stream",
     "text": [
      "0\n",
      "1\n",
      "2\n",
      "3\n",
      "4\n",
      "5\n",
      "6\n",
      "7\n",
      "8\n",
      "9\n",
      "10\n"
     ]
    }
   ],
   "source": [
    "n = 10\n",
    "for i in range(n+1):\n",
    "    print(i)"
   ]
  },
  {
   "cell_type": "code",
   "execution_count": 41,
   "metadata": {},
   "outputs": [
    {
     "name": "stdout",
     "output_type": "stream",
     "text": [
      "0 x 5 \t = \t0\n",
      "1 x 5 \t = \t5\n",
      "2 x 5 \t = \t10\n",
      "3 x 5 \t = \t15\n",
      "4 x 5 \t = \t20\n",
      "5 x 5 \t = \t25\n",
      "6 x 5 \t = \t30\n",
      "7 x 5 \t = \t35\n",
      "8 x 5 \t = \t40\n",
      "9 x 5 \t = \t45\n",
      "10 x 5 \t = \t50\n"
     ]
    }
   ],
   "source": [
    "n = 11\n",
    "numeroTabla = int(input(\"Ingrese numero de la tabla que quieres saber: \"))\n",
    "#int, str, float, complex\n",
    "\n",
    "for i in range(n):\n",
    "    print(f\"{i} x {numeroTabla} \\t = \\t{i * numeroTabla}\")"
   ]
  },
  {
   "cell_type": "code",
   "execution_count": 42,
   "metadata": {},
   "outputs": [
    {
     "name": "stdout",
     "output_type": "stream",
     "text": [
      "Jean Charly\n",
      "Joseph S\n",
      "32\n",
      "False\n",
      "[]\n",
      "82\n"
     ]
    }
   ],
   "source": [
    "#Mala practica\n",
    "for i in elemento:\n",
    "    print(i)"
   ]
  },
  {
   "cell_type": "code",
   "execution_count": 45,
   "metadata": {},
   "outputs": [
    {
     "name": "stdout",
     "output_type": "stream",
     "text": [
      "Jean Charly  \t <class 'str'>\n",
      "Joseph S  \t <class 'str'>\n",
      "32  \t <class 'int'>\n",
      "False  \t <class 'bool'>\n",
      "[]  \t <class 'list'>\n",
      "82  \t <class 'int'>\n"
     ]
    }
   ],
   "source": [
    "#Buena practica\n",
    "\n",
    "for i in range(len(elemento)):\n",
    "    print(elemento[i], \" \\t\", type(elemento[i]))"
   ]
  },
  {
   "cell_type": "markdown",
   "metadata": {},
   "source": [
    "# Control de Flujo\n",
    "\n",
    "```\n",
    "SI (CONDICION) ENTONCES\n",
    "    SENTENCIA\n",
    "SINO \n",
    "    SENTENCIA\n",
    "```\n",
    "\n",
    "Siempre devolvera un valor booleano\n",
    "\n",
    "Proposiciones:\n",
    "\n",
    "* Simples\n",
    "    A todo aquellos enunciados que no tienen ningun conector\n",
    "* Compuestas\n",
    "    A todo aquellos que son de dos o mas enunciados simples y que deben tener conenctores\n",
    "\n",
    "```\n",
    "### Operadores Logicos / Conectores \n",
    "\n",
    "AND -> Y  -> && ->   V = VV\n",
    "OR  -> O  -> || ->   V = VF\n",
    "NOT -> NO ->    ->   V = F; F=V\n",
    "\n",
    "### Operadores Comparacion\n",
    "\n",
    "== Igual\n",
    "<  Menor que\n",
    ">  Mayor que\n",
    "<= Menor igual que\n",
    ">= Mayor igual que\n",
    "!= Diferencia\n",
    "```"
   ]
  },
  {
   "cell_type": "code",
   "execution_count": 4,
   "metadata": {},
   "outputs": [
    {
     "data": {
      "text/plain": [
       "False"
      ]
     },
     "execution_count": 4,
     "metadata": {},
     "output_type": "execute_result"
    }
   ],
   "source": [
    "#Simple\n",
    "# a = 32\n",
    "# b = 50\n",
    "# c = -23\n",
    "\n",
    "( a > b)"
   ]
  },
  {
   "cell_type": "code",
   "execution_count": 7,
   "metadata": {},
   "outputs": [
    {
     "data": {
      "text/plain": [
       "False"
      ]
     },
     "execution_count": 7,
     "metadata": {},
     "output_type": "execute_result"
    }
   ],
   "source": [
    "#Compuesta\n",
    "\n",
    "(a <= b) and (a == c)\n",
    "#   V           F\n",
    "#         F"
   ]
  },
  {
   "cell_type": "code",
   "execution_count": 8,
   "metadata": {},
   "outputs": [
    {
     "name": "stdout",
     "output_type": "stream",
     "text": [
      "Algo esta mal\n"
     ]
    }
   ],
   "source": [
    "#Control de Flujo\n",
    "\n",
    "if (a <= b) and (a == c):\n",
    "   print(\"Excelente.... :) \")\n",
    "else:\n",
    "   print(\"Algo esta mal\")"
   ]
  },
  {
   "cell_type": "code",
   "execution_count": 16,
   "metadata": {},
   "outputs": [
    {
     "name": "stdout",
     "output_type": "stream",
     "text": [
      "['Jean Charly', 'Joseph S']\n"
     ]
    }
   ],
   "source": [
    "nuevaLista = []\n",
    "for i in range(len(elemento)):\n",
    "    if type(elemento[i]) is str:\n",
    "        nuevaLista.append(elemento[i])\n",
    "print(nuevaLista)"
   ]
  },
  {
   "cell_type": "code",
   "execution_count": 12,
   "metadata": {},
   "outputs": [
    {
     "name": "stdout",
     "output_type": "stream",
     "text": [
      "<class 'tuple'>\n",
      "139298374334720\n",
      "('Jean Charly', 243, ['Nikola Tesla'])\n",
      "139298374334720\n"
     ]
    },
    {
     "data": {
      "text/plain": [
       "64"
      ]
     },
     "execution_count": 12,
     "metadata": {},
     "output_type": "execute_result"
    }
   ],
   "source": [
    "ejemplo = ('Jean Charly', 243, [])\n",
    "print(type(ejemplo))\n",
    "print(id(ejemplo))\n",
    "\n",
    "ejemplo[-1].append(\"Nikola Tesla\")\n",
    "print(ejemplo)\n",
    "print(id(ejemplo))\n",
    "\n",
    "import os, sys\n",
    "sys.getsizeof(ejemplo)"
   ]
  },
  {
   "cell_type": "markdown",
   "metadata": {},
   "source": [
    "### Excepciones"
   ]
  },
  {
   "cell_type": "code",
   "execution_count": 15,
   "metadata": {},
   "outputs": [
    {
     "name": "stdout",
     "output_type": "stream",
     "text": [
      "No se pude dividir entre cero :(\n"
     ]
    }
   ],
   "source": [
    "n = int(input(\"Ingrese un numero: \"))\n",
    "try:\n",
    "    23 / n\n",
    "except ZeroDivisionError:\n",
    "    print(\"No se pude dividir entre cero :(\")"
   ]
  },
  {
   "cell_type": "markdown",
   "metadata": {},
   "source": [
    "# Diccionario\n",
    "\n",
    "{clave: valor}\n",
    "\n",
    "nombreSename = {'semana': ['Lunes', 'Marte', ...], 'finSemana': ['Sabado', 'Domingo']}"
   ]
  },
  {
   "cell_type": "code",
   "execution_count": 17,
   "metadata": {},
   "outputs": [
    {
     "name": "stdout",
     "output_type": "stream",
     "text": [
      "{'semana': ['Lunes', 'Marte', 'Miercoles', 'Jueves', 'Viernes']}\n"
     ]
    }
   ],
   "source": [
    "nombreSemana = {'semana': ['Lunes', 'Marte', 'Miercoles', 'Jueves', 'Viernes']}\n",
    "print(nombreSemana)"
   ]
  },
  {
   "cell_type": "code",
   "execution_count": 18,
   "metadata": {},
   "outputs": [
    {
     "name": "stdout",
     "output_type": "stream",
     "text": [
      "{'semana': ['Lunes', 'Marte', 'Miercoles', 'Jueves', 'Viernes'], 'finSemana': ['Sabado', 'Domingo']}\n"
     ]
    }
   ],
   "source": [
    "nombreSemana['finSemana'] = ['Sabado', 'Domingo']\n",
    "print(nombreSemana)"
   ]
  },
  {
   "cell_type": "code",
   "execution_count": 19,
   "metadata": {},
   "outputs": [
    {
     "name": "stdout",
     "output_type": "stream",
     "text": [
      "{'nombres': [], 'apellidos': [], 'edad': [], 'sexo': []}\n"
     ]
    }
   ],
   "source": [
    "# Diccionario que se puede construir como base de datos\n",
    "\n",
    "\n",
    "columnas = ['nombres', 'apellidos', 'edad', 'sexo']\n",
    "\n",
    "#Espudida de hacerlo\n",
    "\n",
    "dataset = {}\n",
    "\n",
    "for i in range(len(columnas)):\n",
    "    dataset[columnas[i]] = []\n",
    "print(dataset)\n"
   ]
  },
  {
   "cell_type": "code",
   "execution_count": 31,
   "metadata": {},
   "outputs": [
    {
     "name": "stdout",
     "output_type": "stream",
     "text": [
      "{'nombres': [], 'apellidos': [], 'edad': [], 'sexo': []}\n"
     ]
    }
   ],
   "source": [
    "#Elengante\n",
    "\n",
    "dataset1 = {columnas[i]: [] for i in range(len(columnas))}\n",
    "print(dataset1)"
   ]
  },
  {
   "cell_type": "code",
   "execution_count": 28,
   "metadata": {},
   "outputs": [],
   "source": [
    "#Funcion aleatoria\n",
    "from random import randint\n",
    "import pandas as pd"
   ]
  },
  {
   "cell_type": "code",
   "execution_count": 32,
   "metadata": {},
   "outputs": [
    {
     "data": {
      "text/plain": [
       "{'nombres': ['nombres_99',\n",
       "  'nombres_34',\n",
       "  'nombres_51',\n",
       "  'nombres_52',\n",
       "  'nombres_68',\n",
       "  'nombres_5',\n",
       "  'nombres_77',\n",
       "  'nombres_63',\n",
       "  'nombres_10',\n",
       "  'nombres_59',\n",
       "  'nombres_53',\n",
       "  'nombres_43',\n",
       "  'nombres_68',\n",
       "  'nombres_5',\n",
       "  'nombres_15',\n",
       "  'nombres_60',\n",
       "  'nombres_65',\n",
       "  'nombres_87',\n",
       "  'nombres_13',\n",
       "  'nombres_8',\n",
       "  'nombres_88',\n",
       "  'nombres_50',\n",
       "  'nombres_68',\n",
       "  'nombres_34',\n",
       "  'nombres_26',\n",
       "  'nombres_6'],\n",
       " 'apellidos': ['apellidos_11',\n",
       "  'apellidos_15',\n",
       "  'apellidos_100',\n",
       "  'apellidos_70',\n",
       "  'apellidos_37',\n",
       "  'apellidos_75',\n",
       "  'apellidos_52',\n",
       "  'apellidos_23',\n",
       "  'apellidos_35',\n",
       "  'apellidos_74',\n",
       "  'apellidos_71',\n",
       "  'apellidos_12',\n",
       "  'apellidos_36',\n",
       "  'apellidos_12',\n",
       "  'apellidos_78',\n",
       "  'apellidos_48',\n",
       "  'apellidos_84',\n",
       "  'apellidos_13',\n",
       "  'apellidos_87',\n",
       "  'apellidos_72',\n",
       "  'apellidos_41',\n",
       "  'apellidos_26',\n",
       "  'apellidos_88',\n",
       "  'apellidos_48',\n",
       "  'apellidos_45',\n",
       "  'apellidos_33'],\n",
       " 'edad': [20,\n",
       "  51,\n",
       "  28,\n",
       "  51,\n",
       "  49,\n",
       "  36,\n",
       "  46,\n",
       "  31,\n",
       "  27,\n",
       "  44,\n",
       "  55,\n",
       "  43,\n",
       "  22,\n",
       "  22,\n",
       "  21,\n",
       "  50,\n",
       "  50,\n",
       "  43,\n",
       "  50,\n",
       "  39,\n",
       "  25,\n",
       "  44,\n",
       "  29,\n",
       "  53,\n",
       "  36,\n",
       "  43],\n",
       " 'sexo': [1,\n",
       "  0,\n",
       "  1,\n",
       "  0,\n",
       "  1,\n",
       "  0,\n",
       "  0,\n",
       "  1,\n",
       "  1,\n",
       "  0,\n",
       "  1,\n",
       "  1,\n",
       "  1,\n",
       "  0,\n",
       "  1,\n",
       "  0,\n",
       "  1,\n",
       "  0,\n",
       "  0,\n",
       "  0,\n",
       "  1,\n",
       "  0,\n",
       "  0,\n",
       "  0,\n",
       "  1,\n",
       "  0]}"
      ]
     },
     "execution_count": 32,
     "metadata": {},
     "output_type": "execute_result"
    }
   ],
   "source": [
    "for i in range(26):\n",
    "    dataset1['nombres'].append(\"nombres_%s\"%randint(1, 100))\n",
    "    dataset1['apellidos'].append(\"apellidos_%s\"%randint(1, 100))\n",
    "    dataset1['edad'].append(randint(18, 55))\n",
    "    dataset1['sexo'].append(randint(0, 1))\n",
    "dataset1"
   ]
  },
  {
   "cell_type": "code",
   "execution_count": 33,
   "metadata": {},
   "outputs": [
    {
     "data": {
      "text/html": [
       "<div>\n",
       "<style scoped>\n",
       "    .dataframe tbody tr th:only-of-type {\n",
       "        vertical-align: middle;\n",
       "    }\n",
       "\n",
       "    .dataframe tbody tr th {\n",
       "        vertical-align: top;\n",
       "    }\n",
       "\n",
       "    .dataframe thead th {\n",
       "        text-align: right;\n",
       "    }\n",
       "</style>\n",
       "<table border=\"1\" class=\"dataframe\">\n",
       "  <thead>\n",
       "    <tr style=\"text-align: right;\">\n",
       "      <th></th>\n",
       "      <th>nombres</th>\n",
       "      <th>apellidos</th>\n",
       "      <th>edad</th>\n",
       "      <th>sexo</th>\n",
       "    </tr>\n",
       "  </thead>\n",
       "  <tbody>\n",
       "    <tr>\n",
       "      <th>0</th>\n",
       "      <td>nombres_99</td>\n",
       "      <td>apellidos_11</td>\n",
       "      <td>20</td>\n",
       "      <td>1</td>\n",
       "    </tr>\n",
       "    <tr>\n",
       "      <th>1</th>\n",
       "      <td>nombres_34</td>\n",
       "      <td>apellidos_15</td>\n",
       "      <td>51</td>\n",
       "      <td>0</td>\n",
       "    </tr>\n",
       "    <tr>\n",
       "      <th>2</th>\n",
       "      <td>nombres_51</td>\n",
       "      <td>apellidos_100</td>\n",
       "      <td>28</td>\n",
       "      <td>1</td>\n",
       "    </tr>\n",
       "    <tr>\n",
       "      <th>3</th>\n",
       "      <td>nombres_52</td>\n",
       "      <td>apellidos_70</td>\n",
       "      <td>51</td>\n",
       "      <td>0</td>\n",
       "    </tr>\n",
       "    <tr>\n",
       "      <th>4</th>\n",
       "      <td>nombres_68</td>\n",
       "      <td>apellidos_37</td>\n",
       "      <td>49</td>\n",
       "      <td>1</td>\n",
       "    </tr>\n",
       "    <tr>\n",
       "      <th>5</th>\n",
       "      <td>nombres_5</td>\n",
       "      <td>apellidos_75</td>\n",
       "      <td>36</td>\n",
       "      <td>0</td>\n",
       "    </tr>\n",
       "    <tr>\n",
       "      <th>6</th>\n",
       "      <td>nombres_77</td>\n",
       "      <td>apellidos_52</td>\n",
       "      <td>46</td>\n",
       "      <td>0</td>\n",
       "    </tr>\n",
       "    <tr>\n",
       "      <th>7</th>\n",
       "      <td>nombres_63</td>\n",
       "      <td>apellidos_23</td>\n",
       "      <td>31</td>\n",
       "      <td>1</td>\n",
       "    </tr>\n",
       "    <tr>\n",
       "      <th>8</th>\n",
       "      <td>nombres_10</td>\n",
       "      <td>apellidos_35</td>\n",
       "      <td>27</td>\n",
       "      <td>1</td>\n",
       "    </tr>\n",
       "    <tr>\n",
       "      <th>9</th>\n",
       "      <td>nombres_59</td>\n",
       "      <td>apellidos_74</td>\n",
       "      <td>44</td>\n",
       "      <td>0</td>\n",
       "    </tr>\n",
       "    <tr>\n",
       "      <th>10</th>\n",
       "      <td>nombres_53</td>\n",
       "      <td>apellidos_71</td>\n",
       "      <td>55</td>\n",
       "      <td>1</td>\n",
       "    </tr>\n",
       "    <tr>\n",
       "      <th>11</th>\n",
       "      <td>nombres_43</td>\n",
       "      <td>apellidos_12</td>\n",
       "      <td>43</td>\n",
       "      <td>1</td>\n",
       "    </tr>\n",
       "    <tr>\n",
       "      <th>12</th>\n",
       "      <td>nombres_68</td>\n",
       "      <td>apellidos_36</td>\n",
       "      <td>22</td>\n",
       "      <td>1</td>\n",
       "    </tr>\n",
       "    <tr>\n",
       "      <th>13</th>\n",
       "      <td>nombres_5</td>\n",
       "      <td>apellidos_12</td>\n",
       "      <td>22</td>\n",
       "      <td>0</td>\n",
       "    </tr>\n",
       "    <tr>\n",
       "      <th>14</th>\n",
       "      <td>nombres_15</td>\n",
       "      <td>apellidos_78</td>\n",
       "      <td>21</td>\n",
       "      <td>1</td>\n",
       "    </tr>\n",
       "    <tr>\n",
       "      <th>15</th>\n",
       "      <td>nombres_60</td>\n",
       "      <td>apellidos_48</td>\n",
       "      <td>50</td>\n",
       "      <td>0</td>\n",
       "    </tr>\n",
       "    <tr>\n",
       "      <th>16</th>\n",
       "      <td>nombres_65</td>\n",
       "      <td>apellidos_84</td>\n",
       "      <td>50</td>\n",
       "      <td>1</td>\n",
       "    </tr>\n",
       "    <tr>\n",
       "      <th>17</th>\n",
       "      <td>nombres_87</td>\n",
       "      <td>apellidos_13</td>\n",
       "      <td>43</td>\n",
       "      <td>0</td>\n",
       "    </tr>\n",
       "    <tr>\n",
       "      <th>18</th>\n",
       "      <td>nombres_13</td>\n",
       "      <td>apellidos_87</td>\n",
       "      <td>50</td>\n",
       "      <td>0</td>\n",
       "    </tr>\n",
       "    <tr>\n",
       "      <th>19</th>\n",
       "      <td>nombres_8</td>\n",
       "      <td>apellidos_72</td>\n",
       "      <td>39</td>\n",
       "      <td>0</td>\n",
       "    </tr>\n",
       "    <tr>\n",
       "      <th>20</th>\n",
       "      <td>nombres_88</td>\n",
       "      <td>apellidos_41</td>\n",
       "      <td>25</td>\n",
       "      <td>1</td>\n",
       "    </tr>\n",
       "    <tr>\n",
       "      <th>21</th>\n",
       "      <td>nombres_50</td>\n",
       "      <td>apellidos_26</td>\n",
       "      <td>44</td>\n",
       "      <td>0</td>\n",
       "    </tr>\n",
       "    <tr>\n",
       "      <th>22</th>\n",
       "      <td>nombres_68</td>\n",
       "      <td>apellidos_88</td>\n",
       "      <td>29</td>\n",
       "      <td>0</td>\n",
       "    </tr>\n",
       "    <tr>\n",
       "      <th>23</th>\n",
       "      <td>nombres_34</td>\n",
       "      <td>apellidos_48</td>\n",
       "      <td>53</td>\n",
       "      <td>0</td>\n",
       "    </tr>\n",
       "    <tr>\n",
       "      <th>24</th>\n",
       "      <td>nombres_26</td>\n",
       "      <td>apellidos_45</td>\n",
       "      <td>36</td>\n",
       "      <td>1</td>\n",
       "    </tr>\n",
       "    <tr>\n",
       "      <th>25</th>\n",
       "      <td>nombres_6</td>\n",
       "      <td>apellidos_33</td>\n",
       "      <td>43</td>\n",
       "      <td>0</td>\n",
       "    </tr>\n",
       "  </tbody>\n",
       "</table>\n",
       "</div>"
      ],
      "text/plain": [
       "       nombres      apellidos  edad  sexo\n",
       "0   nombres_99   apellidos_11    20     1\n",
       "1   nombres_34   apellidos_15    51     0\n",
       "2   nombres_51  apellidos_100    28     1\n",
       "3   nombres_52   apellidos_70    51     0\n",
       "4   nombres_68   apellidos_37    49     1\n",
       "5    nombres_5   apellidos_75    36     0\n",
       "6   nombres_77   apellidos_52    46     0\n",
       "7   nombres_63   apellidos_23    31     1\n",
       "8   nombres_10   apellidos_35    27     1\n",
       "9   nombres_59   apellidos_74    44     0\n",
       "10  nombres_53   apellidos_71    55     1\n",
       "11  nombres_43   apellidos_12    43     1\n",
       "12  nombres_68   apellidos_36    22     1\n",
       "13   nombres_5   apellidos_12    22     0\n",
       "14  nombres_15   apellidos_78    21     1\n",
       "15  nombres_60   apellidos_48    50     0\n",
       "16  nombres_65   apellidos_84    50     1\n",
       "17  nombres_87   apellidos_13    43     0\n",
       "18  nombres_13   apellidos_87    50     0\n",
       "19   nombres_8   apellidos_72    39     0\n",
       "20  nombres_88   apellidos_41    25     1\n",
       "21  nombres_50   apellidos_26    44     0\n",
       "22  nombres_68   apellidos_88    29     0\n",
       "23  nombres_34   apellidos_48    53     0\n",
       "24  nombres_26   apellidos_45    36     1\n",
       "25   nombres_6   apellidos_33    43     0"
      ]
     },
     "execution_count": 33,
     "metadata": {},
     "output_type": "execute_result"
    }
   ],
   "source": [
    "df = pd.DataFrame(dataset1)\n",
    "df"
   ]
  },
  {
   "cell_type": "code",
   "execution_count": 35,
   "metadata": {},
   "outputs": [
    {
     "data": {
      "text/html": [
       "<div>\n",
       "<style scoped>\n",
       "    .dataframe tbody tr th:only-of-type {\n",
       "        vertical-align: middle;\n",
       "    }\n",
       "\n",
       "    .dataframe tbody tr th {\n",
       "        vertical-align: top;\n",
       "    }\n",
       "\n",
       "    .dataframe thead th {\n",
       "        text-align: right;\n",
       "    }\n",
       "</style>\n",
       "<table border=\"1\" class=\"dataframe\">\n",
       "  <thead>\n",
       "    <tr style=\"text-align: right;\">\n",
       "      <th></th>\n",
       "      <th>year</th>\n",
       "      <th>ingresos</th>\n",
       "      <th>gastos</th>\n",
       "    </tr>\n",
       "  </thead>\n",
       "  <tbody>\n",
       "    <tr>\n",
       "      <th>0</th>\n",
       "      <td>2005</td>\n",
       "      <td>3758</td>\n",
       "      <td>2054</td>\n",
       "    </tr>\n",
       "    <tr>\n",
       "      <th>1</th>\n",
       "      <td>2012</td>\n",
       "      <td>2600</td>\n",
       "      <td>5162</td>\n",
       "    </tr>\n",
       "    <tr>\n",
       "      <th>2</th>\n",
       "      <td>2011</td>\n",
       "      <td>3746</td>\n",
       "      <td>2009</td>\n",
       "    </tr>\n",
       "    <tr>\n",
       "      <th>3</th>\n",
       "      <td>2019</td>\n",
       "      <td>4366</td>\n",
       "      <td>8192</td>\n",
       "    </tr>\n",
       "    <tr>\n",
       "      <th>4</th>\n",
       "      <td>2020</td>\n",
       "      <td>7419</td>\n",
       "      <td>236</td>\n",
       "    </tr>\n",
       "    <tr>\n",
       "      <th>...</th>\n",
       "      <td>...</td>\n",
       "      <td>...</td>\n",
       "      <td>...</td>\n",
       "    </tr>\n",
       "    <tr>\n",
       "      <th>95</th>\n",
       "      <td>2013</td>\n",
       "      <td>5259</td>\n",
       "      <td>5351</td>\n",
       "    </tr>\n",
       "    <tr>\n",
       "      <th>96</th>\n",
       "      <td>2021</td>\n",
       "      <td>2966</td>\n",
       "      <td>590</td>\n",
       "    </tr>\n",
       "    <tr>\n",
       "      <th>97</th>\n",
       "      <td>2015</td>\n",
       "      <td>6894</td>\n",
       "      <td>8284</td>\n",
       "    </tr>\n",
       "    <tr>\n",
       "      <th>98</th>\n",
       "      <td>2014</td>\n",
       "      <td>289</td>\n",
       "      <td>3736</td>\n",
       "    </tr>\n",
       "    <tr>\n",
       "      <th>99</th>\n",
       "      <td>2006</td>\n",
       "      <td>1675</td>\n",
       "      <td>9995</td>\n",
       "    </tr>\n",
       "  </tbody>\n",
       "</table>\n",
       "<p>100 rows × 3 columns</p>\n",
       "</div>"
      ],
      "text/plain": [
       "    year  ingresos  gastos\n",
       "0   2005      3758    2054\n",
       "1   2012      2600    5162\n",
       "2   2011      3746    2009\n",
       "3   2019      4366    8192\n",
       "4   2020      7419     236\n",
       "..   ...       ...     ...\n",
       "95  2013      5259    5351\n",
       "96  2021      2966     590\n",
       "97  2015      6894    8284\n",
       "98  2014       289    3736\n",
       "99  2006      1675    9995\n",
       "\n",
       "[100 rows x 3 columns]"
      ]
     },
     "execution_count": 35,
     "metadata": {},
     "output_type": "execute_result"
    }
   ],
   "source": [
    "estadoCuenta = {'year': [], 'ingresos': [], 'gastos': []}\n",
    "\n",
    "for i in range(100):\n",
    "    estadoCuenta['year'].append(randint(2005, 2024))\n",
    "    estadoCuenta['ingresos'].append(randint(100, 10000))\n",
    "    estadoCuenta['gastos'].append(randint(100, 10000))\n",
    "\n",
    "df1 = pd.DataFrame(estadoCuenta)\n",
    "df1"
   ]
  },
  {
   "cell_type": "code",
   "execution_count": 37,
   "metadata": {},
   "outputs": [
    {
     "data": {
      "text/html": [
       "<div>\n",
       "<style scoped>\n",
       "    .dataframe tbody tr th:only-of-type {\n",
       "        vertical-align: middle;\n",
       "    }\n",
       "\n",
       "    .dataframe tbody tr th {\n",
       "        vertical-align: top;\n",
       "    }\n",
       "\n",
       "    .dataframe thead th {\n",
       "        text-align: right;\n",
       "    }\n",
       "</style>\n",
       "<table border=\"1\" class=\"dataframe\">\n",
       "  <thead>\n",
       "    <tr style=\"text-align: right;\">\n",
       "      <th></th>\n",
       "      <th>year</th>\n",
       "      <th>ingresos</th>\n",
       "      <th>gastos</th>\n",
       "    </tr>\n",
       "  </thead>\n",
       "  <tbody>\n",
       "    <tr>\n",
       "      <th>count</th>\n",
       "      <td>100.000000</td>\n",
       "      <td>100.000000</td>\n",
       "      <td>100.000000</td>\n",
       "    </tr>\n",
       "    <tr>\n",
       "      <th>mean</th>\n",
       "      <td>2015.150000</td>\n",
       "      <td>4969.740000</td>\n",
       "      <td>5061.580000</td>\n",
       "    </tr>\n",
       "    <tr>\n",
       "      <th>std</th>\n",
       "      <td>5.716139</td>\n",
       "      <td>2561.454435</td>\n",
       "      <td>2753.587097</td>\n",
       "    </tr>\n",
       "    <tr>\n",
       "      <th>min</th>\n",
       "      <td>2005.000000</td>\n",
       "      <td>289.000000</td>\n",
       "      <td>190.000000</td>\n",
       "    </tr>\n",
       "    <tr>\n",
       "      <th>25%</th>\n",
       "      <td>2010.000000</td>\n",
       "      <td>3054.500000</td>\n",
       "      <td>2803.000000</td>\n",
       "    </tr>\n",
       "    <tr>\n",
       "      <th>50%</th>\n",
       "      <td>2016.000000</td>\n",
       "      <td>4548.500000</td>\n",
       "      <td>5200.500000</td>\n",
       "    </tr>\n",
       "    <tr>\n",
       "      <th>75%</th>\n",
       "      <td>2020.000000</td>\n",
       "      <td>7092.000000</td>\n",
       "      <td>6967.750000</td>\n",
       "    </tr>\n",
       "    <tr>\n",
       "      <th>max</th>\n",
       "      <td>2024.000000</td>\n",
       "      <td>9369.000000</td>\n",
       "      <td>9995.000000</td>\n",
       "    </tr>\n",
       "  </tbody>\n",
       "</table>\n",
       "</div>"
      ],
      "text/plain": [
       "              year     ingresos       gastos\n",
       "count   100.000000   100.000000   100.000000\n",
       "mean   2015.150000  4969.740000  5061.580000\n",
       "std       5.716139  2561.454435  2753.587097\n",
       "min    2005.000000   289.000000   190.000000\n",
       "25%    2010.000000  3054.500000  2803.000000\n",
       "50%    2016.000000  4548.500000  5200.500000\n",
       "75%    2020.000000  7092.000000  6967.750000\n",
       "max    2024.000000  9369.000000  9995.000000"
      ]
     },
     "execution_count": 37,
     "metadata": {},
     "output_type": "execute_result"
    }
   ],
   "source": [
    "df1.describe()"
   ]
  },
  {
   "cell_type": "code",
   "execution_count": 39,
   "metadata": {},
   "outputs": [],
   "source": [
    "#Llevar a un Excel\n",
    "\n",
    "df.to_excel(\"datosNoProcesado.xlsx\")"
   ]
  },
  {
   "cell_type": "markdown",
   "metadata": {},
   "source": [
    "# Funciones\n",
    "\n",
    "$$f(x) = y$$\n",
    "$$y = f(x)$$\n",
    "\n",
    "* Tipos variables\n",
    "    - Variables independiente $x$\n",
    "    - Variables dependiente $y$\n",
    "\n",
    "```\n",
    "FUNCION <NOMBRE>(P1, P2, P3, P5, PN){\n",
    "    RESULTADO = PROCEDIMENTO(P1 + P3 / PN + P2)\n",
    "    RETORNO RESULTADO\n",
    "}\n",
    "```\n",
    "\n",
    "* Tipos de Funciones\n",
    "    - Funcion Definada\n",
    "    - Funciones Anonimas\n",
    "    - Funciones Recurivas\n",
    "    - Funciones Lenguaje\n",
    "    - Funciones Matematicas\n",
    "    - Funciones Trigonometricas\n",
    "    - Funciones Sin Retorno"
   ]
  },
  {
   "cell_type": "code",
   "execution_count": 43,
   "metadata": {},
   "outputs": [
    {
     "name": "stdout",
     "output_type": "stream",
     "text": [
      "73.66666666666667\n"
     ]
    },
    {
     "data": {
      "text/plain": [
       "96.66666666666667"
      ]
     },
     "execution_count": 43,
     "metadata": {},
     "output_type": "execute_result"
    }
   ],
   "source": [
    "#Funcion Definida\n",
    "\n",
    "def procesoMatematico(p1, p2, p3, p5, pn):\n",
    "    resultado = (p1 + p3 / pn + p2)\n",
    "    print(resultado)\n",
    "    return resultado\n",
    "\n",
    "#Argumentos\n",
    "valor = procesoMatematico(23, 43, 23, 5, 3)\n",
    "valor + 23"
   ]
  },
  {
   "cell_type": "markdown",
   "metadata": {},
   "source": [
    "### $$n = \\lambda x: x [/+-*] \\mathbb{R}$$"
   ]
  },
  {
   "cell_type": "code",
   "execution_count": 45,
   "metadata": {},
   "outputs": [
    {
     "data": {
      "text/plain": [
       "552"
      ]
     },
     "execution_count": 45,
     "metadata": {},
     "output_type": "execute_result"
    }
   ],
   "source": [
    "#Anonima\n",
    "\n",
    "n = lambda x: x * 24\n",
    "n(23)"
   ]
  },
  {
   "cell_type": "code",
   "execution_count": 46,
   "metadata": {},
   "outputs": [
    {
     "data": {
      "text/html": [
       "<div>\n",
       "<style scoped>\n",
       "    .dataframe tbody tr th:only-of-type {\n",
       "        vertical-align: middle;\n",
       "    }\n",
       "\n",
       "    .dataframe tbody tr th {\n",
       "        vertical-align: top;\n",
       "    }\n",
       "\n",
       "    .dataframe thead th {\n",
       "        text-align: right;\n",
       "    }\n",
       "</style>\n",
       "<table border=\"1\" class=\"dataframe\">\n",
       "  <thead>\n",
       "    <tr style=\"text-align: right;\">\n",
       "      <th></th>\n",
       "      <th>nombres</th>\n",
       "      <th>apellidos</th>\n",
       "      <th>edad</th>\n",
       "      <th>sexo</th>\n",
       "    </tr>\n",
       "  </thead>\n",
       "  <tbody>\n",
       "    <tr>\n",
       "      <th>0</th>\n",
       "      <td>nombres_99</td>\n",
       "      <td>apellidos_11</td>\n",
       "      <td>20</td>\n",
       "      <td>1</td>\n",
       "    </tr>\n",
       "    <tr>\n",
       "      <th>1</th>\n",
       "      <td>nombres_34</td>\n",
       "      <td>apellidos_15</td>\n",
       "      <td>51</td>\n",
       "      <td>0</td>\n",
       "    </tr>\n",
       "    <tr>\n",
       "      <th>2</th>\n",
       "      <td>nombres_51</td>\n",
       "      <td>apellidos_100</td>\n",
       "      <td>28</td>\n",
       "      <td>1</td>\n",
       "    </tr>\n",
       "    <tr>\n",
       "      <th>3</th>\n",
       "      <td>nombres_52</td>\n",
       "      <td>apellidos_70</td>\n",
       "      <td>51</td>\n",
       "      <td>0</td>\n",
       "    </tr>\n",
       "    <tr>\n",
       "      <th>4</th>\n",
       "      <td>nombres_68</td>\n",
       "      <td>apellidos_37</td>\n",
       "      <td>49</td>\n",
       "      <td>1</td>\n",
       "    </tr>\n",
       "    <tr>\n",
       "      <th>5</th>\n",
       "      <td>nombres_5</td>\n",
       "      <td>apellidos_75</td>\n",
       "      <td>36</td>\n",
       "      <td>0</td>\n",
       "    </tr>\n",
       "    <tr>\n",
       "      <th>6</th>\n",
       "      <td>nombres_77</td>\n",
       "      <td>apellidos_52</td>\n",
       "      <td>46</td>\n",
       "      <td>0</td>\n",
       "    </tr>\n",
       "    <tr>\n",
       "      <th>7</th>\n",
       "      <td>nombres_63</td>\n",
       "      <td>apellidos_23</td>\n",
       "      <td>31</td>\n",
       "      <td>1</td>\n",
       "    </tr>\n",
       "    <tr>\n",
       "      <th>8</th>\n",
       "      <td>nombres_10</td>\n",
       "      <td>apellidos_35</td>\n",
       "      <td>27</td>\n",
       "      <td>1</td>\n",
       "    </tr>\n",
       "    <tr>\n",
       "      <th>9</th>\n",
       "      <td>nombres_59</td>\n",
       "      <td>apellidos_74</td>\n",
       "      <td>44</td>\n",
       "      <td>0</td>\n",
       "    </tr>\n",
       "    <tr>\n",
       "      <th>10</th>\n",
       "      <td>nombres_53</td>\n",
       "      <td>apellidos_71</td>\n",
       "      <td>55</td>\n",
       "      <td>1</td>\n",
       "    </tr>\n",
       "    <tr>\n",
       "      <th>11</th>\n",
       "      <td>nombres_43</td>\n",
       "      <td>apellidos_12</td>\n",
       "      <td>43</td>\n",
       "      <td>1</td>\n",
       "    </tr>\n",
       "    <tr>\n",
       "      <th>12</th>\n",
       "      <td>nombres_68</td>\n",
       "      <td>apellidos_36</td>\n",
       "      <td>22</td>\n",
       "      <td>1</td>\n",
       "    </tr>\n",
       "    <tr>\n",
       "      <th>13</th>\n",
       "      <td>nombres_5</td>\n",
       "      <td>apellidos_12</td>\n",
       "      <td>22</td>\n",
       "      <td>0</td>\n",
       "    </tr>\n",
       "    <tr>\n",
       "      <th>14</th>\n",
       "      <td>nombres_15</td>\n",
       "      <td>apellidos_78</td>\n",
       "      <td>21</td>\n",
       "      <td>1</td>\n",
       "    </tr>\n",
       "    <tr>\n",
       "      <th>15</th>\n",
       "      <td>nombres_60</td>\n",
       "      <td>apellidos_48</td>\n",
       "      <td>50</td>\n",
       "      <td>0</td>\n",
       "    </tr>\n",
       "    <tr>\n",
       "      <th>16</th>\n",
       "      <td>nombres_65</td>\n",
       "      <td>apellidos_84</td>\n",
       "      <td>50</td>\n",
       "      <td>1</td>\n",
       "    </tr>\n",
       "    <tr>\n",
       "      <th>17</th>\n",
       "      <td>nombres_87</td>\n",
       "      <td>apellidos_13</td>\n",
       "      <td>43</td>\n",
       "      <td>0</td>\n",
       "    </tr>\n",
       "    <tr>\n",
       "      <th>18</th>\n",
       "      <td>nombres_13</td>\n",
       "      <td>apellidos_87</td>\n",
       "      <td>50</td>\n",
       "      <td>0</td>\n",
       "    </tr>\n",
       "    <tr>\n",
       "      <th>19</th>\n",
       "      <td>nombres_8</td>\n",
       "      <td>apellidos_72</td>\n",
       "      <td>39</td>\n",
       "      <td>0</td>\n",
       "    </tr>\n",
       "    <tr>\n",
       "      <th>20</th>\n",
       "      <td>nombres_88</td>\n",
       "      <td>apellidos_41</td>\n",
       "      <td>25</td>\n",
       "      <td>1</td>\n",
       "    </tr>\n",
       "    <tr>\n",
       "      <th>21</th>\n",
       "      <td>nombres_50</td>\n",
       "      <td>apellidos_26</td>\n",
       "      <td>44</td>\n",
       "      <td>0</td>\n",
       "    </tr>\n",
       "    <tr>\n",
       "      <th>22</th>\n",
       "      <td>nombres_68</td>\n",
       "      <td>apellidos_88</td>\n",
       "      <td>29</td>\n",
       "      <td>0</td>\n",
       "    </tr>\n",
       "    <tr>\n",
       "      <th>23</th>\n",
       "      <td>nombres_34</td>\n",
       "      <td>apellidos_48</td>\n",
       "      <td>53</td>\n",
       "      <td>0</td>\n",
       "    </tr>\n",
       "    <tr>\n",
       "      <th>24</th>\n",
       "      <td>nombres_26</td>\n",
       "      <td>apellidos_45</td>\n",
       "      <td>36</td>\n",
       "      <td>1</td>\n",
       "    </tr>\n",
       "    <tr>\n",
       "      <th>25</th>\n",
       "      <td>nombres_6</td>\n",
       "      <td>apellidos_33</td>\n",
       "      <td>43</td>\n",
       "      <td>0</td>\n",
       "    </tr>\n",
       "  </tbody>\n",
       "</table>\n",
       "</div>"
      ],
      "text/plain": [
       "       nombres      apellidos  edad  sexo\n",
       "0   nombres_99   apellidos_11    20     1\n",
       "1   nombres_34   apellidos_15    51     0\n",
       "2   nombres_51  apellidos_100    28     1\n",
       "3   nombres_52   apellidos_70    51     0\n",
       "4   nombres_68   apellidos_37    49     1\n",
       "5    nombres_5   apellidos_75    36     0\n",
       "6   nombres_77   apellidos_52    46     0\n",
       "7   nombres_63   apellidos_23    31     1\n",
       "8   nombres_10   apellidos_35    27     1\n",
       "9   nombres_59   apellidos_74    44     0\n",
       "10  nombres_53   apellidos_71    55     1\n",
       "11  nombres_43   apellidos_12    43     1\n",
       "12  nombres_68   apellidos_36    22     1\n",
       "13   nombres_5   apellidos_12    22     0\n",
       "14  nombres_15   apellidos_78    21     1\n",
       "15  nombres_60   apellidos_48    50     0\n",
       "16  nombres_65   apellidos_84    50     1\n",
       "17  nombres_87   apellidos_13    43     0\n",
       "18  nombres_13   apellidos_87    50     0\n",
       "19   nombres_8   apellidos_72    39     0\n",
       "20  nombres_88   apellidos_41    25     1\n",
       "21  nombres_50   apellidos_26    44     0\n",
       "22  nombres_68   apellidos_88    29     0\n",
       "23  nombres_34   apellidos_48    53     0\n",
       "24  nombres_26   apellidos_45    36     1\n",
       "25   nombres_6   apellidos_33    43     0"
      ]
     },
     "execution_count": 46,
     "metadata": {},
     "output_type": "execute_result"
    }
   ],
   "source": [
    "df"
   ]
  },
  {
   "cell_type": "code",
   "execution_count": 47,
   "metadata": {},
   "outputs": [],
   "source": [
    "def sexoModificado(x):\n",
    "    if x == 1:\n",
    "        return \"Femenino\"\n",
    "    return \"Masculino\""
   ]
  },
  {
   "cell_type": "code",
   "execution_count": 50,
   "metadata": {},
   "outputs": [
    {
     "data": {
      "text/html": [
       "<div>\n",
       "<style scoped>\n",
       "    .dataframe tbody tr th:only-of-type {\n",
       "        vertical-align: middle;\n",
       "    }\n",
       "\n",
       "    .dataframe tbody tr th {\n",
       "        vertical-align: top;\n",
       "    }\n",
       "\n",
       "    .dataframe thead th {\n",
       "        text-align: right;\n",
       "    }\n",
       "</style>\n",
       "<table border=\"1\" class=\"dataframe\">\n",
       "  <thead>\n",
       "    <tr style=\"text-align: right;\">\n",
       "      <th></th>\n",
       "      <th>nombres</th>\n",
       "      <th>apellidos</th>\n",
       "      <th>edad</th>\n",
       "      <th>sexo</th>\n",
       "      <th>SexoModificado1</th>\n",
       "    </tr>\n",
       "  </thead>\n",
       "  <tbody>\n",
       "    <tr>\n",
       "      <th>0</th>\n",
       "      <td>nombres_99</td>\n",
       "      <td>apellidos_11</td>\n",
       "      <td>20</td>\n",
       "      <td>1</td>\n",
       "      <td>Femenino</td>\n",
       "    </tr>\n",
       "    <tr>\n",
       "      <th>1</th>\n",
       "      <td>nombres_34</td>\n",
       "      <td>apellidos_15</td>\n",
       "      <td>51</td>\n",
       "      <td>0</td>\n",
       "      <td>Masculino</td>\n",
       "    </tr>\n",
       "    <tr>\n",
       "      <th>2</th>\n",
       "      <td>nombres_51</td>\n",
       "      <td>apellidos_100</td>\n",
       "      <td>28</td>\n",
       "      <td>1</td>\n",
       "      <td>Femenino</td>\n",
       "    </tr>\n",
       "    <tr>\n",
       "      <th>3</th>\n",
       "      <td>nombres_52</td>\n",
       "      <td>apellidos_70</td>\n",
       "      <td>51</td>\n",
       "      <td>0</td>\n",
       "      <td>Masculino</td>\n",
       "    </tr>\n",
       "    <tr>\n",
       "      <th>4</th>\n",
       "      <td>nombres_68</td>\n",
       "      <td>apellidos_37</td>\n",
       "      <td>49</td>\n",
       "      <td>1</td>\n",
       "      <td>Femenino</td>\n",
       "    </tr>\n",
       "    <tr>\n",
       "      <th>5</th>\n",
       "      <td>nombres_5</td>\n",
       "      <td>apellidos_75</td>\n",
       "      <td>36</td>\n",
       "      <td>0</td>\n",
       "      <td>Masculino</td>\n",
       "    </tr>\n",
       "    <tr>\n",
       "      <th>6</th>\n",
       "      <td>nombres_77</td>\n",
       "      <td>apellidos_52</td>\n",
       "      <td>46</td>\n",
       "      <td>0</td>\n",
       "      <td>Masculino</td>\n",
       "    </tr>\n",
       "    <tr>\n",
       "      <th>7</th>\n",
       "      <td>nombres_63</td>\n",
       "      <td>apellidos_23</td>\n",
       "      <td>31</td>\n",
       "      <td>1</td>\n",
       "      <td>Femenino</td>\n",
       "    </tr>\n",
       "    <tr>\n",
       "      <th>8</th>\n",
       "      <td>nombres_10</td>\n",
       "      <td>apellidos_35</td>\n",
       "      <td>27</td>\n",
       "      <td>1</td>\n",
       "      <td>Femenino</td>\n",
       "    </tr>\n",
       "    <tr>\n",
       "      <th>9</th>\n",
       "      <td>nombres_59</td>\n",
       "      <td>apellidos_74</td>\n",
       "      <td>44</td>\n",
       "      <td>0</td>\n",
       "      <td>Masculino</td>\n",
       "    </tr>\n",
       "    <tr>\n",
       "      <th>10</th>\n",
       "      <td>nombres_53</td>\n",
       "      <td>apellidos_71</td>\n",
       "      <td>55</td>\n",
       "      <td>1</td>\n",
       "      <td>Femenino</td>\n",
       "    </tr>\n",
       "    <tr>\n",
       "      <th>11</th>\n",
       "      <td>nombres_43</td>\n",
       "      <td>apellidos_12</td>\n",
       "      <td>43</td>\n",
       "      <td>1</td>\n",
       "      <td>Femenino</td>\n",
       "    </tr>\n",
       "    <tr>\n",
       "      <th>12</th>\n",
       "      <td>nombres_68</td>\n",
       "      <td>apellidos_36</td>\n",
       "      <td>22</td>\n",
       "      <td>1</td>\n",
       "      <td>Femenino</td>\n",
       "    </tr>\n",
       "    <tr>\n",
       "      <th>13</th>\n",
       "      <td>nombres_5</td>\n",
       "      <td>apellidos_12</td>\n",
       "      <td>22</td>\n",
       "      <td>0</td>\n",
       "      <td>Masculino</td>\n",
       "    </tr>\n",
       "    <tr>\n",
       "      <th>14</th>\n",
       "      <td>nombres_15</td>\n",
       "      <td>apellidos_78</td>\n",
       "      <td>21</td>\n",
       "      <td>1</td>\n",
       "      <td>Femenino</td>\n",
       "    </tr>\n",
       "    <tr>\n",
       "      <th>15</th>\n",
       "      <td>nombres_60</td>\n",
       "      <td>apellidos_48</td>\n",
       "      <td>50</td>\n",
       "      <td>0</td>\n",
       "      <td>Masculino</td>\n",
       "    </tr>\n",
       "    <tr>\n",
       "      <th>16</th>\n",
       "      <td>nombres_65</td>\n",
       "      <td>apellidos_84</td>\n",
       "      <td>50</td>\n",
       "      <td>1</td>\n",
       "      <td>Femenino</td>\n",
       "    </tr>\n",
       "    <tr>\n",
       "      <th>17</th>\n",
       "      <td>nombres_87</td>\n",
       "      <td>apellidos_13</td>\n",
       "      <td>43</td>\n",
       "      <td>0</td>\n",
       "      <td>Masculino</td>\n",
       "    </tr>\n",
       "    <tr>\n",
       "      <th>18</th>\n",
       "      <td>nombres_13</td>\n",
       "      <td>apellidos_87</td>\n",
       "      <td>50</td>\n",
       "      <td>0</td>\n",
       "      <td>Masculino</td>\n",
       "    </tr>\n",
       "    <tr>\n",
       "      <th>19</th>\n",
       "      <td>nombres_8</td>\n",
       "      <td>apellidos_72</td>\n",
       "      <td>39</td>\n",
       "      <td>0</td>\n",
       "      <td>Masculino</td>\n",
       "    </tr>\n",
       "    <tr>\n",
       "      <th>20</th>\n",
       "      <td>nombres_88</td>\n",
       "      <td>apellidos_41</td>\n",
       "      <td>25</td>\n",
       "      <td>1</td>\n",
       "      <td>Femenino</td>\n",
       "    </tr>\n",
       "    <tr>\n",
       "      <th>21</th>\n",
       "      <td>nombres_50</td>\n",
       "      <td>apellidos_26</td>\n",
       "      <td>44</td>\n",
       "      <td>0</td>\n",
       "      <td>Masculino</td>\n",
       "    </tr>\n",
       "    <tr>\n",
       "      <th>22</th>\n",
       "      <td>nombres_68</td>\n",
       "      <td>apellidos_88</td>\n",
       "      <td>29</td>\n",
       "      <td>0</td>\n",
       "      <td>Masculino</td>\n",
       "    </tr>\n",
       "    <tr>\n",
       "      <th>23</th>\n",
       "      <td>nombres_34</td>\n",
       "      <td>apellidos_48</td>\n",
       "      <td>53</td>\n",
       "      <td>0</td>\n",
       "      <td>Masculino</td>\n",
       "    </tr>\n",
       "    <tr>\n",
       "      <th>24</th>\n",
       "      <td>nombres_26</td>\n",
       "      <td>apellidos_45</td>\n",
       "      <td>36</td>\n",
       "      <td>1</td>\n",
       "      <td>Femenino</td>\n",
       "    </tr>\n",
       "    <tr>\n",
       "      <th>25</th>\n",
       "      <td>nombres_6</td>\n",
       "      <td>apellidos_33</td>\n",
       "      <td>43</td>\n",
       "      <td>0</td>\n",
       "      <td>Masculino</td>\n",
       "    </tr>\n",
       "  </tbody>\n",
       "</table>\n",
       "</div>"
      ],
      "text/plain": [
       "       nombres      apellidos  edad  sexo SexoModificado1\n",
       "0   nombres_99   apellidos_11    20     1        Femenino\n",
       "1   nombres_34   apellidos_15    51     0       Masculino\n",
       "2   nombres_51  apellidos_100    28     1        Femenino\n",
       "3   nombres_52   apellidos_70    51     0       Masculino\n",
       "4   nombres_68   apellidos_37    49     1        Femenino\n",
       "5    nombres_5   apellidos_75    36     0       Masculino\n",
       "6   nombres_77   apellidos_52    46     0       Masculino\n",
       "7   nombres_63   apellidos_23    31     1        Femenino\n",
       "8   nombres_10   apellidos_35    27     1        Femenino\n",
       "9   nombres_59   apellidos_74    44     0       Masculino\n",
       "10  nombres_53   apellidos_71    55     1        Femenino\n",
       "11  nombres_43   apellidos_12    43     1        Femenino\n",
       "12  nombres_68   apellidos_36    22     1        Femenino\n",
       "13   nombres_5   apellidos_12    22     0       Masculino\n",
       "14  nombres_15   apellidos_78    21     1        Femenino\n",
       "15  nombres_60   apellidos_48    50     0       Masculino\n",
       "16  nombres_65   apellidos_84    50     1        Femenino\n",
       "17  nombres_87   apellidos_13    43     0       Masculino\n",
       "18  nombres_13   apellidos_87    50     0       Masculino\n",
       "19   nombres_8   apellidos_72    39     0       Masculino\n",
       "20  nombres_88   apellidos_41    25     1        Femenino\n",
       "21  nombres_50   apellidos_26    44     0       Masculino\n",
       "22  nombres_68   apellidos_88    29     0       Masculino\n",
       "23  nombres_34   apellidos_48    53     0       Masculino\n",
       "24  nombres_26   apellidos_45    36     1        Femenino\n",
       "25   nombres_6   apellidos_33    43     0       Masculino"
      ]
     },
     "execution_count": 50,
     "metadata": {},
     "output_type": "execute_result"
    }
   ],
   "source": [
    "df[\"SexoModificado1\"] = df['sexo'].apply(lambda x: sexoModificado(x))\n",
    "df"
   ]
  },
  {
   "cell_type": "code",
   "execution_count": 51,
   "metadata": {},
   "outputs": [
    {
     "data": {
      "text/html": [
       "<div>\n",
       "<style scoped>\n",
       "    .dataframe tbody tr th:only-of-type {\n",
       "        vertical-align: middle;\n",
       "    }\n",
       "\n",
       "    .dataframe tbody tr th {\n",
       "        vertical-align: top;\n",
       "    }\n",
       "\n",
       "    .dataframe thead th {\n",
       "        text-align: right;\n",
       "    }\n",
       "</style>\n",
       "<table border=\"1\" class=\"dataframe\">\n",
       "  <thead>\n",
       "    <tr style=\"text-align: right;\">\n",
       "      <th></th>\n",
       "      <th>nombres</th>\n",
       "      <th>apellidos</th>\n",
       "      <th>edad</th>\n",
       "      <th>sexo</th>\n",
       "      <th>SexoModificado1</th>\n",
       "      <th>SexoModificado2</th>\n",
       "    </tr>\n",
       "  </thead>\n",
       "  <tbody>\n",
       "    <tr>\n",
       "      <th>0</th>\n",
       "      <td>nombres_99</td>\n",
       "      <td>apellidos_11</td>\n",
       "      <td>20</td>\n",
       "      <td>1</td>\n",
       "      <td>Femenino</td>\n",
       "      <td>Femenino</td>\n",
       "    </tr>\n",
       "    <tr>\n",
       "      <th>1</th>\n",
       "      <td>nombres_34</td>\n",
       "      <td>apellidos_15</td>\n",
       "      <td>51</td>\n",
       "      <td>0</td>\n",
       "      <td>Masculino</td>\n",
       "      <td>Masculino</td>\n",
       "    </tr>\n",
       "    <tr>\n",
       "      <th>2</th>\n",
       "      <td>nombres_51</td>\n",
       "      <td>apellidos_100</td>\n",
       "      <td>28</td>\n",
       "      <td>1</td>\n",
       "      <td>Femenino</td>\n",
       "      <td>Femenino</td>\n",
       "    </tr>\n",
       "    <tr>\n",
       "      <th>3</th>\n",
       "      <td>nombres_52</td>\n",
       "      <td>apellidos_70</td>\n",
       "      <td>51</td>\n",
       "      <td>0</td>\n",
       "      <td>Masculino</td>\n",
       "      <td>Masculino</td>\n",
       "    </tr>\n",
       "    <tr>\n",
       "      <th>4</th>\n",
       "      <td>nombres_68</td>\n",
       "      <td>apellidos_37</td>\n",
       "      <td>49</td>\n",
       "      <td>1</td>\n",
       "      <td>Femenino</td>\n",
       "      <td>Femenino</td>\n",
       "    </tr>\n",
       "    <tr>\n",
       "      <th>5</th>\n",
       "      <td>nombres_5</td>\n",
       "      <td>apellidos_75</td>\n",
       "      <td>36</td>\n",
       "      <td>0</td>\n",
       "      <td>Masculino</td>\n",
       "      <td>Masculino</td>\n",
       "    </tr>\n",
       "    <tr>\n",
       "      <th>6</th>\n",
       "      <td>nombres_77</td>\n",
       "      <td>apellidos_52</td>\n",
       "      <td>46</td>\n",
       "      <td>0</td>\n",
       "      <td>Masculino</td>\n",
       "      <td>Masculino</td>\n",
       "    </tr>\n",
       "    <tr>\n",
       "      <th>7</th>\n",
       "      <td>nombres_63</td>\n",
       "      <td>apellidos_23</td>\n",
       "      <td>31</td>\n",
       "      <td>1</td>\n",
       "      <td>Femenino</td>\n",
       "      <td>Femenino</td>\n",
       "    </tr>\n",
       "    <tr>\n",
       "      <th>8</th>\n",
       "      <td>nombres_10</td>\n",
       "      <td>apellidos_35</td>\n",
       "      <td>27</td>\n",
       "      <td>1</td>\n",
       "      <td>Femenino</td>\n",
       "      <td>Femenino</td>\n",
       "    </tr>\n",
       "    <tr>\n",
       "      <th>9</th>\n",
       "      <td>nombres_59</td>\n",
       "      <td>apellidos_74</td>\n",
       "      <td>44</td>\n",
       "      <td>0</td>\n",
       "      <td>Masculino</td>\n",
       "      <td>Masculino</td>\n",
       "    </tr>\n",
       "    <tr>\n",
       "      <th>10</th>\n",
       "      <td>nombres_53</td>\n",
       "      <td>apellidos_71</td>\n",
       "      <td>55</td>\n",
       "      <td>1</td>\n",
       "      <td>Femenino</td>\n",
       "      <td>Femenino</td>\n",
       "    </tr>\n",
       "    <tr>\n",
       "      <th>11</th>\n",
       "      <td>nombres_43</td>\n",
       "      <td>apellidos_12</td>\n",
       "      <td>43</td>\n",
       "      <td>1</td>\n",
       "      <td>Femenino</td>\n",
       "      <td>Femenino</td>\n",
       "    </tr>\n",
       "    <tr>\n",
       "      <th>12</th>\n",
       "      <td>nombres_68</td>\n",
       "      <td>apellidos_36</td>\n",
       "      <td>22</td>\n",
       "      <td>1</td>\n",
       "      <td>Femenino</td>\n",
       "      <td>Femenino</td>\n",
       "    </tr>\n",
       "    <tr>\n",
       "      <th>13</th>\n",
       "      <td>nombres_5</td>\n",
       "      <td>apellidos_12</td>\n",
       "      <td>22</td>\n",
       "      <td>0</td>\n",
       "      <td>Masculino</td>\n",
       "      <td>Masculino</td>\n",
       "    </tr>\n",
       "    <tr>\n",
       "      <th>14</th>\n",
       "      <td>nombres_15</td>\n",
       "      <td>apellidos_78</td>\n",
       "      <td>21</td>\n",
       "      <td>1</td>\n",
       "      <td>Femenino</td>\n",
       "      <td>Femenino</td>\n",
       "    </tr>\n",
       "    <tr>\n",
       "      <th>15</th>\n",
       "      <td>nombres_60</td>\n",
       "      <td>apellidos_48</td>\n",
       "      <td>50</td>\n",
       "      <td>0</td>\n",
       "      <td>Masculino</td>\n",
       "      <td>Masculino</td>\n",
       "    </tr>\n",
       "    <tr>\n",
       "      <th>16</th>\n",
       "      <td>nombres_65</td>\n",
       "      <td>apellidos_84</td>\n",
       "      <td>50</td>\n",
       "      <td>1</td>\n",
       "      <td>Femenino</td>\n",
       "      <td>Femenino</td>\n",
       "    </tr>\n",
       "    <tr>\n",
       "      <th>17</th>\n",
       "      <td>nombres_87</td>\n",
       "      <td>apellidos_13</td>\n",
       "      <td>43</td>\n",
       "      <td>0</td>\n",
       "      <td>Masculino</td>\n",
       "      <td>Masculino</td>\n",
       "    </tr>\n",
       "    <tr>\n",
       "      <th>18</th>\n",
       "      <td>nombres_13</td>\n",
       "      <td>apellidos_87</td>\n",
       "      <td>50</td>\n",
       "      <td>0</td>\n",
       "      <td>Masculino</td>\n",
       "      <td>Masculino</td>\n",
       "    </tr>\n",
       "    <tr>\n",
       "      <th>19</th>\n",
       "      <td>nombres_8</td>\n",
       "      <td>apellidos_72</td>\n",
       "      <td>39</td>\n",
       "      <td>0</td>\n",
       "      <td>Masculino</td>\n",
       "      <td>Masculino</td>\n",
       "    </tr>\n",
       "    <tr>\n",
       "      <th>20</th>\n",
       "      <td>nombres_88</td>\n",
       "      <td>apellidos_41</td>\n",
       "      <td>25</td>\n",
       "      <td>1</td>\n",
       "      <td>Femenino</td>\n",
       "      <td>Femenino</td>\n",
       "    </tr>\n",
       "    <tr>\n",
       "      <th>21</th>\n",
       "      <td>nombres_50</td>\n",
       "      <td>apellidos_26</td>\n",
       "      <td>44</td>\n",
       "      <td>0</td>\n",
       "      <td>Masculino</td>\n",
       "      <td>Masculino</td>\n",
       "    </tr>\n",
       "    <tr>\n",
       "      <th>22</th>\n",
       "      <td>nombres_68</td>\n",
       "      <td>apellidos_88</td>\n",
       "      <td>29</td>\n",
       "      <td>0</td>\n",
       "      <td>Masculino</td>\n",
       "      <td>Masculino</td>\n",
       "    </tr>\n",
       "    <tr>\n",
       "      <th>23</th>\n",
       "      <td>nombres_34</td>\n",
       "      <td>apellidos_48</td>\n",
       "      <td>53</td>\n",
       "      <td>0</td>\n",
       "      <td>Masculino</td>\n",
       "      <td>Masculino</td>\n",
       "    </tr>\n",
       "    <tr>\n",
       "      <th>24</th>\n",
       "      <td>nombres_26</td>\n",
       "      <td>apellidos_45</td>\n",
       "      <td>36</td>\n",
       "      <td>1</td>\n",
       "      <td>Femenino</td>\n",
       "      <td>Femenino</td>\n",
       "    </tr>\n",
       "    <tr>\n",
       "      <th>25</th>\n",
       "      <td>nombres_6</td>\n",
       "      <td>apellidos_33</td>\n",
       "      <td>43</td>\n",
       "      <td>0</td>\n",
       "      <td>Masculino</td>\n",
       "      <td>Masculino</td>\n",
       "    </tr>\n",
       "  </tbody>\n",
       "</table>\n",
       "</div>"
      ],
      "text/plain": [
       "       nombres      apellidos  edad  sexo SexoModificado1 SexoModificado2\n",
       "0   nombres_99   apellidos_11    20     1        Femenino        Femenino\n",
       "1   nombres_34   apellidos_15    51     0       Masculino       Masculino\n",
       "2   nombres_51  apellidos_100    28     1        Femenino        Femenino\n",
       "3   nombres_52   apellidos_70    51     0       Masculino       Masculino\n",
       "4   nombres_68   apellidos_37    49     1        Femenino        Femenino\n",
       "5    nombres_5   apellidos_75    36     0       Masculino       Masculino\n",
       "6   nombres_77   apellidos_52    46     0       Masculino       Masculino\n",
       "7   nombres_63   apellidos_23    31     1        Femenino        Femenino\n",
       "8   nombres_10   apellidos_35    27     1        Femenino        Femenino\n",
       "9   nombres_59   apellidos_74    44     0       Masculino       Masculino\n",
       "10  nombres_53   apellidos_71    55     1        Femenino        Femenino\n",
       "11  nombres_43   apellidos_12    43     1        Femenino        Femenino\n",
       "12  nombres_68   apellidos_36    22     1        Femenino        Femenino\n",
       "13   nombres_5   apellidos_12    22     0       Masculino       Masculino\n",
       "14  nombres_15   apellidos_78    21     1        Femenino        Femenino\n",
       "15  nombres_60   apellidos_48    50     0       Masculino       Masculino\n",
       "16  nombres_65   apellidos_84    50     1        Femenino        Femenino\n",
       "17  nombres_87   apellidos_13    43     0       Masculino       Masculino\n",
       "18  nombres_13   apellidos_87    50     0       Masculino       Masculino\n",
       "19   nombres_8   apellidos_72    39     0       Masculino       Masculino\n",
       "20  nombres_88   apellidos_41    25     1        Femenino        Femenino\n",
       "21  nombres_50   apellidos_26    44     0       Masculino       Masculino\n",
       "22  nombres_68   apellidos_88    29     0       Masculino       Masculino\n",
       "23  nombres_34   apellidos_48    53     0       Masculino       Masculino\n",
       "24  nombres_26   apellidos_45    36     1        Femenino        Femenino\n",
       "25   nombres_6   apellidos_33    43     0       Masculino       Masculino"
      ]
     },
     "execution_count": 51,
     "metadata": {},
     "output_type": "execute_result"
    }
   ],
   "source": [
    "df[\"SexoModificado2\"] = df['sexo'].apply(lambda x: \"Femenino\" if x == 1 else \"Masculino\")\n",
    "df"
   ]
  },
  {
   "cell_type": "code",
   "execution_count": 52,
   "metadata": {},
   "outputs": [],
   "source": [
    "df.to_excel(\"datosNoProcesado.xlsx\", index=False)"
   ]
  },
  {
   "cell_type": "markdown",
   "metadata": {},
   "source": [
    "# Conjuntos - set\n",
    "\n",
    "* Union ( | )\n",
    "* Intersecccion ( & )\n",
    "* Diferencia ( - )\n",
    "* Diferencia Simetrica ( ^ )"
   ]
  },
  {
   "cell_type": "code",
   "execution_count": 56,
   "metadata": {},
   "outputs": [
    {
     "name": "stdout",
     "output_type": "stream",
     "text": [
      "{1, 2, 3, 4, 5, 100, 10, 23}\n",
      "{1, 3, 4, 5, 200}\n"
     ]
    }
   ],
   "source": [
    "conjuntos = {23, 3, 3, 3, 4, 2, 1, 5, 100, 10, 2, 1, 1}\n",
    "conjuntos1 = {3, 4, 5, 5, 200, 1}\n",
    "\n",
    "print(conjuntos)\n",
    "print(conjuntos1)"
   ]
  },
  {
   "cell_type": "code",
   "execution_count": 57,
   "metadata": {},
   "outputs": [
    {
     "name": "stdout",
     "output_type": "stream",
     "text": [
      "{1, 3, 4, 5, 500, 200}\n"
     ]
    }
   ],
   "source": [
    "#add\n",
    "conjuntos1.add(500)\n",
    "print(conjuntos1)\n"
   ]
  },
  {
   "cell_type": "code",
   "execution_count": 58,
   "metadata": {},
   "outputs": [
    {
     "name": "stdout",
     "output_type": "stream",
     "text": [
      "{1, 3, 4, 5, 200}\n"
     ]
    }
   ],
   "source": [
    "#Remover\n",
    "conjuntos1.remove(500)\n",
    "print(conjuntos1)"
   ]
  },
  {
   "cell_type": "code",
   "execution_count": 59,
   "metadata": {},
   "outputs": [
    {
     "name": "stdout",
     "output_type": "stream",
     "text": [
      "{1, 2, 3, 4, 5, 100, 200, 10, 23}\n"
     ]
    }
   ],
   "source": [
    "#Union\n",
    "print(conjuntos1 | conjuntos)"
   ]
  },
  {
   "cell_type": "code",
   "execution_count": 60,
   "metadata": {},
   "outputs": [
    {
     "name": "stdout",
     "output_type": "stream",
     "text": [
      "{1, 3, 4, 5}\n"
     ]
    }
   ],
   "source": [
    "#Interseccion\n",
    "print(conjuntos1 &  conjuntos)"
   ]
  },
  {
   "cell_type": "code",
   "execution_count": 62,
   "metadata": {},
   "outputs": [
    {
     "name": "stdout",
     "output_type": "stream",
     "text": [
      "{200}\n",
      "{2, 10, 100, 23}\n"
     ]
    }
   ],
   "source": [
    "#Diferencia\n",
    "print(conjuntos1 -  conjuntos)\n",
    "print(conjuntos -  conjuntos1)"
   ]
  },
  {
   "cell_type": "code",
   "execution_count": 63,
   "metadata": {},
   "outputs": [
    {
     "name": "stdout",
     "output_type": "stream",
     "text": [
      "{2, 100, 200, 10, 23}\n"
     ]
    }
   ],
   "source": [
    "#Diferencia Simetrica\n",
    "print(conjuntos1 ^  conjuntos)"
   ]
  },
  {
   "cell_type": "code",
   "execution_count": 70,
   "metadata": {},
   "outputs": [],
   "source": [
    "# Base de datos - Columnas\n",
    "\n",
    "A = {'nombres', \"apellidos\", 'edad'}\n",
    "B = {'nombres', 'sexo'}\n",
    "C = {'id', 'apellidos'}"
   ]
  },
  {
   "cell_type": "code",
   "execution_count": 66,
   "metadata": {},
   "outputs": [
    {
     "data": {
      "text/plain": [
       "{'apellidos', 'edad'}"
      ]
     },
     "execution_count": 66,
     "metadata": {},
     "output_type": "execute_result"
    }
   ],
   "source": [
    "A - B"
   ]
  },
  {
   "cell_type": "code",
   "execution_count": 71,
   "metadata": {},
   "outputs": [
    {
     "data": {
      "text/plain": [
       "{'apellidos', 'edad', 'id', 'nombres'}"
      ]
     },
     "execution_count": 71,
     "metadata": {},
     "output_type": "execute_result"
    }
   ],
   "source": [
    "A | C - B"
   ]
  },
  {
   "cell_type": "code",
   "execution_count": 73,
   "metadata": {},
   "outputs": [
    {
     "name": "stdout",
     "output_type": "stream",
     "text": [
      "   id nombre\n",
      "0   1     n1\n",
      "1   2     n2\n",
      "2   3     n3\n",
      "3   4     n4\n",
      "4   5     n5\n",
      "5   9     n9\n",
      "   id nombre\n",
      "0   1     n1\n",
      "1   2     n2\n",
      "2   5     n3\n",
      "3   4     n4\n"
     ]
    }
   ],
   "source": [
    "df3 = pd.DataFrame({'id': [1, 2, 3, 4, 5, 9], 'nombre': ['n1', 'n2', 'n3', 'n4', 'n5', 'n9']})\n",
    "df4 = pd.DataFrame({'id': [1, 2, 5, 4], 'nombre': ['n1', 'n2', 'n3', 'n4']})\n",
    "\n",
    "print(df3)\n",
    "print(df4)"
   ]
  },
  {
   "cell_type": "code",
   "execution_count": 74,
   "metadata": {},
   "outputs": [
    {
     "data": {
      "text/html": [
       "<div>\n",
       "<style scoped>\n",
       "    .dataframe tbody tr th:only-of-type {\n",
       "        vertical-align: middle;\n",
       "    }\n",
       "\n",
       "    .dataframe tbody tr th {\n",
       "        vertical-align: top;\n",
       "    }\n",
       "\n",
       "    .dataframe thead th {\n",
       "        text-align: right;\n",
       "    }\n",
       "</style>\n",
       "<table border=\"1\" class=\"dataframe\">\n",
       "  <thead>\n",
       "    <tr style=\"text-align: right;\">\n",
       "      <th></th>\n",
       "      <th>id</th>\n",
       "      <th>nombre_x</th>\n",
       "      <th>nombre_y</th>\n",
       "    </tr>\n",
       "  </thead>\n",
       "  <tbody>\n",
       "    <tr>\n",
       "      <th>0</th>\n",
       "      <td>1</td>\n",
       "      <td>n1</td>\n",
       "      <td>n1</td>\n",
       "    </tr>\n",
       "    <tr>\n",
       "      <th>1</th>\n",
       "      <td>2</td>\n",
       "      <td>n2</td>\n",
       "      <td>n2</td>\n",
       "    </tr>\n",
       "    <tr>\n",
       "      <th>2</th>\n",
       "      <td>4</td>\n",
       "      <td>n4</td>\n",
       "      <td>n4</td>\n",
       "    </tr>\n",
       "    <tr>\n",
       "      <th>3</th>\n",
       "      <td>5</td>\n",
       "      <td>n5</td>\n",
       "      <td>n3</td>\n",
       "    </tr>\n",
       "  </tbody>\n",
       "</table>\n",
       "</div>"
      ],
      "text/plain": [
       "   id nombre_x nombre_y\n",
       "0   1       n1       n1\n",
       "1   2       n2       n2\n",
       "2   4       n4       n4\n",
       "3   5       n5       n3"
      ]
     },
     "execution_count": 74,
     "metadata": {},
     "output_type": "execute_result"
    }
   ],
   "source": [
    "df3.merge(df4, on='id')"
   ]
  },
  {
   "cell_type": "code",
   "execution_count": 85,
   "metadata": {},
   "outputs": [
    {
     "data": {
      "text/html": [
       "<div>\n",
       "<style scoped>\n",
       "    .dataframe tbody tr th:only-of-type {\n",
       "        vertical-align: middle;\n",
       "    }\n",
       "\n",
       "    .dataframe tbody tr th {\n",
       "        vertical-align: top;\n",
       "    }\n",
       "\n",
       "    .dataframe thead th {\n",
       "        text-align: right;\n",
       "    }\n",
       "</style>\n",
       "<table border=\"1\" class=\"dataframe\">\n",
       "  <thead>\n",
       "    <tr style=\"text-align: right;\">\n",
       "      <th></th>\n",
       "      <th>id</th>\n",
       "      <th>nombre_x</th>\n",
       "      <th>nombre_y</th>\n",
       "    </tr>\n",
       "  </thead>\n",
       "  <tbody>\n",
       "    <tr>\n",
       "      <th>3</th>\n",
       "      <td>5</td>\n",
       "      <td>n5</td>\n",
       "      <td>n3</td>\n",
       "    </tr>\n",
       "  </tbody>\n",
       "</table>\n",
       "</div>"
      ],
      "text/plain": [
       "   id nombre_x nombre_y\n",
       "3   5       n5       n3"
      ]
     },
     "execution_count": 85,
     "metadata": {},
     "output_type": "execute_result"
    }
   ],
   "source": [
    "def validacion(n: int):\n",
    "    df5 = df3.merge(df4, on='id', how='inner')\n",
    "    return df5[df5['id'] == n]\n",
    "validacion(5)"
   ]
  }
 ],
 "metadata": {
  "kernelspec": {
   "display_name": "Python 3",
   "language": "python",
   "name": "python3"
  },
  "language_info": {
   "codemirror_mode": {
    "name": "ipython",
    "version": 3
   },
   "file_extension": ".py",
   "mimetype": "text/x-python",
   "name": "python",
   "nbconvert_exporter": "python",
   "pygments_lexer": "ipython3",
   "version": "3.12.1"
  }
 },
 "nbformat": 4,
 "nbformat_minor": 2
}
