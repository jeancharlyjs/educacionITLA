{
 "cells": [
  {
   "cell_type": "markdown",
   "metadata": {},
   "source": [
    "# Introducción Python\n",
    "###### by: Jean Charly Ph. Joseph S.\n",
    "\n"
   ]
  },
  {
   "cell_type": "markdown",
   "metadata": {},
   "source": [
    "# Tipos de Variables\n",
    "* Primitiva\n",
    "    Son primitivas todas aquellas que solo puede almacenar un unico tipo de dato.\n",
    "\n",
    "    - String ' ', \" \"\n",
    "    - Integer $\\mathbb{R}$\n",
    "    - Float\n",
    "    - Complejos\n",
    "    - Booleanos\n",
    "\n",
    "* Colectora\n",
    "    Son colectores todas las estructuras que puede almacenar mas de un tipo de datos en si mismo\\\n",
    "    e incluso la misma estructura.\n",
    "    \n",
    "    ##### _Mutables_\n",
    "    Son mutables las estructuras que su valor puede modificarse\\\n",
    "    despues de haber sido creada, mediante su indice.\n",
    "    - Listas\n",
    "        - Vectores\n",
    "            - Vector Columnas [[[], [], []]]\n",
    "            - Vector Filas [[]]\n",
    "        - Matrices [[[ ] [ ] [ ] ], \n",
    "                    [[ ] [ ] [ ] ], \n",
    "                    [[ ] [ ] [ ] ]]\n",
    "    - Diccionarios {key: valor}\n",
    "\n",
    "    ##### _Inmutables_\n",
    "    Son todas aquellas que despues de haber sido creada\\\n",
    "    no puede ser modificada en ningua aspecto.\n",
    "\n",
    "    - Tuplas ()\n",
    "    - Conjuntos {}"
   ]
  },
  {
   "cell_type": "markdown",
   "metadata": {},
   "source": [
    "##### Palabras Reservadas del Lenguaje - Python"
   ]
  },
  {
   "cell_type": "code",
   "execution_count": 3,
   "metadata": {},
   "outputs": [
    {
     "name": "stdout",
     "output_type": "stream",
     "text": [
      "['False', 'None', 'True', 'and', 'as', 'assert', 'async', 'await', 'break', 'class', 'continue', 'def', 'del', 'elif', 'else', 'except', 'finally', 'for', 'from', 'global', 'if', 'import', 'in', 'is', 'lambda', 'nonlocal', 'not', 'or', 'pass', 'raise', 'return', 'try', 'while', 'with', 'yield']\n"
     ]
    }
   ],
   "source": [
    "from keyword import kwlist\n",
    "\n",
    "print(kwlist)"
   ]
  },
  {
   "cell_type": "markdown",
   "metadata": {},
   "source": [
    "##### Creacion de variables - Buenas practicas.\n",
    "\n",
    "\n",
    "* Buenas Practicas\n",
    "    - _ejemplo \n",
    "    - ejemplo\n",
    "    - ejemploEjemplo\n",
    "    - ejemplo_ejemplo\n",
    "\n",
    "* Mala Practica\n",
    "\n",
    "   - 1ejemplo\n",
    "   - $ejemplo\n",
    "   - PALABRAS RESERVAS."
   ]
  },
  {
   "cell_type": "code",
   "execution_count": 44,
   "metadata": {},
   "outputs": [
    {
     "name": "stdout",
     "output_type": "stream",
     "text": [
      "Jean Charly Joseph S\n"
     ]
    }
   ],
   "source": [
    "nombre = \"Jean Charly\"\n",
    "apellido = 'Joseph S'\n",
    "\n",
    "edad = 24\n",
    "pi = 3.14\n",
    "\n",
    "sexo = False\n",
    "print(nombre, apellido)"
   ]
  },
  {
   "cell_type": "code",
   "execution_count": 31,
   "metadata": {},
   "outputs": [
    {
     "name": "stdout",
     "output_type": "stream",
     "text": [
      "Jean Charly Joseph S\n"
     ]
    }
   ],
   "source": [
    "print(f'{nombre} {apellido}')"
   ]
  },
  {
   "cell_type": "code",
   "execution_count": 34,
   "metadata": {},
   "outputs": [
    {
     "name": "stdout",
     "output_type": "stream",
     "text": [
      "Jean Charly    Joseph S\n"
     ]
    }
   ],
   "source": [
    "print(nombre,\" \" + \" \", apellido)"
   ]
  },
  {
   "cell_type": "code",
   "execution_count": 36,
   "metadata": {},
   "outputs": [
    {
     "name": "stdout",
     "output_type": "stream",
     "text": [
      "Jean Charly Joseph S\n"
     ]
    }
   ],
   "source": [
    "print(\"%s %s\"%(nombre, apellido))"
   ]
  },
  {
   "cell_type": "code",
   "execution_count": 39,
   "metadata": {},
   "outputs": [
    {
     "name": "stdout",
     "output_type": "stream",
     "text": [
      "Jean Charly Joseph S\n"
     ]
    }
   ],
   "source": [
    "print(\"{} {}\".format(nombre, apellido))"
   ]
  },
  {
   "cell_type": "code",
   "execution_count": 51,
   "metadata": {},
   "outputs": [
    {
     "data": {
      "text/plain": [
       "'Jean Charly Joseph S'"
      ]
     },
     "execution_count": 51,
     "metadata": {},
     "output_type": "execute_result"
    }
   ],
   "source": [
    "nombreCompleto = \" \".join([nombre, apellido])\n",
    "nombreCompleto"
   ]
  },
  {
   "cell_type": "code",
   "execution_count": 52,
   "metadata": {},
   "outputs": [
    {
     "data": {
      "text/plain": [
       "'Nikola Joseph S'"
      ]
     },
     "execution_count": 52,
     "metadata": {},
     "output_type": "execute_result"
    }
   ],
   "source": [
    "nombreCompleto.replace(\"Jean Charly \", \"Nikola \")\n"
   ]
  },
  {
   "cell_type": "code",
   "execution_count": 53,
   "metadata": {},
   "outputs": [],
   "source": [
    "#Factores Numericos\n",
    "## Metodo 1\n",
    "\n",
    "a = 24\n",
    "b = 49\n",
    "c = 42\n",
    "\n",
    "## Metodo 2\n",
    "a = 24; b = 49;  c = 42\n",
    "\n",
    "## Metodo 3\n",
    "\n",
    "a, b, c = 24, 49, 42"
   ]
  },
  {
   "cell_type": "code",
   "execution_count": 61,
   "metadata": {},
   "outputs": [
    {
     "name": "stdout",
     "output_type": "stream",
     "text": [
      "Suma:  73\n",
      "Resta:  -18\n",
      "Mult:  1218\n",
      "Division:  0.5714285714285714\n",
      "Division Res:  0\n",
      "Exponente:  576\n",
      "Complejos:  (24+43j)\n",
      "10j\n",
      "10\n"
     ]
    }
   ],
   "source": [
    "# Operaciones Aritemicas\n",
    "\n",
    "print(\"Suma: \", a + b)\n",
    "print(\"Resta: \", a - c)\n",
    "print(\"Mult: \", (a * b) + c )\n",
    "print(\"Division: \", a / c)\n",
    "print(\"Division Res: \", a // c)\n",
    "print(\"Exponente: \", a ** 2)\n",
    "print(\"Complejos: \", a + 43j)\n"
   ]
  },
  {
   "cell_type": "markdown",
   "metadata": {},
   "source": [
    "# Colectoras\n",
    "```\n",
    "Tamaño\tlen\n",
    "Indice\tnombre[n] > 0\n",
    "Slices\t[a:b], [:a], [a:], [:]\n",
    "Iterable\tnombre[i]> 0\n",
    "\n",
    "```"
   ]
  },
  {
   "cell_type": "code",
   "execution_count": 66,
   "metadata": {},
   "outputs": [
    {
     "name": "stdout",
     "output_type": "stream",
     "text": [
      "['Jean Charly', 'Joseph S', 24, 4j, 73, None, [331776]]\n",
      "Tamaño:  7\n",
      "73\n",
      "73\n"
     ]
    }
   ],
   "source": [
    "elementos = [nombre, apellido, edad, 4j, a+b, None, [a**4]]\n",
    "print(elementos)\n",
    "\n",
    "#Tamaño\n",
    "print(\"Tamaño: \", len(elementos))\n",
    "\n",
    "#Indice\n",
    "print(elementos[4])\n",
    "print(elementos[-3])"
   ]
  },
  {
   "cell_type": "markdown",
   "metadata": {},
   "source": [
    "#### Slice"
   ]
  },
  {
   "cell_type": "code",
   "execution_count": 72,
   "metadata": {},
   "outputs": [
    {
     "name": "stdout",
     "output_type": "stream",
     "text": [
      "['Jean Charly', 'Joseph S', 24]\n",
      "[4j, 73, None, [331776]]\n",
      "[73, None]\n",
      "['Jean Charly', 'Joseph S', 24, 4j, 73, None, [331776]]\n"
     ]
    }
   ],
   "source": [
    "#[:a]\n",
    "print(elementos[:3])\n",
    "\n",
    "#[a:]\n",
    "print(elementos[3:])\n",
    "\n",
    "#[a:b]\n",
    "print(elementos[4:6])\n",
    "\n",
    "#[:]\n",
    "print(elementos)"
   ]
  },
  {
   "cell_type": "markdown",
   "metadata": {},
   "source": [
    "### Matrices"
   ]
  },
  {
   "cell_type": "code",
   "execution_count": 83,
   "metadata": {},
   "outputs": [
    {
     "data": {
      "text/plain": [
       "array([[ 3,  4,  5,  6],\n",
       "       [ 2,  3,  4,  5],\n",
       "       [33,  2,  1,  3]])"
      ]
     },
     "execution_count": 83,
     "metadata": {},
     "output_type": "execute_result"
    }
   ],
   "source": [
    "import numpy as np\n",
    "\n",
    "elemento1 = np.array([[3, 4, 5, 6], [2, 3, 4, 5], [33, 2, 1, 3]])\n",
    "elemento1"
   ]
  },
  {
   "cell_type": "code",
   "execution_count": 120,
   "metadata": {},
   "outputs": [
    {
     "data": {
      "image/png": "[encoded data removed]",
      "text/plain": [
       "<Figure size 640x480 with 1 Axes>"
      ]
     },
     "metadata": {},
     "output_type": "display_data"
    }
   ],
   "source": [
    "import matplotlib.pyplot as plt\n",
    "\n",
    "\n",
    "plt.imshow(elemento1, cmap='grey'); plt.show()"
   ]
  },
  {
   "cell_type": "code",
   "execution_count": 91,
   "metadata": {},
   "outputs": [
    {
     "data": {
      "text/plain": [
       "array([2, 3, 4, 5])"
      ]
     },
     "execution_count": 91,
     "metadata": {},
     "output_type": "execute_result"
    }
   ],
   "source": [
    "elemento1[1, :]"
   ]
  },
  {
   "cell_type": "markdown",
   "metadata": {},
   "source": [
    "# Iteración\n",
    "## $\\sum^{n}_{i=1} x_i$\n",
    "```\n",
    "- ALGORITMO -\n",
    "PARA I EN RANGO(N) ENTONCES\n",
    "     IMPRIMIR(I)\n",
    "```"
   ]
  },
  {
   "cell_type": "code",
   "execution_count": 94,
   "metadata": {},
   "outputs": [
    {
     "name": "stdout",
     "output_type": "stream",
     "text": [
      "0\n",
      "1\n",
      "2\n",
      "3\n",
      "4\n",
      "5\n",
      "6\n",
      "7\n",
      "8\n",
      "9\n"
     ]
    }
   ],
   "source": [
    "n = 10\n",
    "for i in range(n):\n",
    "    print(i)"
   ]
  },
  {
   "cell_type": "code",
   "execution_count": 99,
   "metadata": {},
   "outputs": [
    {
     "name": "stdout",
     "output_type": "stream",
     "text": [
      "0 * 5 \t = 0\n",
      "1 * 5 \t = 5\n",
      "2 * 5 \t = 10\n",
      "3 * 5 \t = 15\n",
      "4 * 5 \t = 20\n",
      "5 * 5 \t = 25\n",
      "6 * 5 \t = 30\n",
      "7 * 5 \t = 35\n",
      "8 * 5 \t = 40\n",
      "9 * 5 \t = 45\n",
      "10 * 5 \t = 50\n"
     ]
    }
   ],
   "source": [
    "n = 11\n",
    "numeroMultplica = int(input(\"Ingrese un numero: \"))\n",
    "\n",
    "for i in range(n):\n",
    "    print(\"%s * %s \\t = %s\"%(i, numeroMultplica, (i*numeroMultplica)))\n"
   ]
  },
  {
   "cell_type": "code",
   "execution_count": 102,
   "metadata": {},
   "outputs": [
    {
     "name": "stdout",
     "output_type": "stream",
     "text": [
      "Jean Charly\n",
      "Joseph S\n",
      "24\n",
      "4j\n",
      "73\n",
      "None\n",
      "[331776]\n"
     ]
    }
   ],
   "source": [
    "#Mala practica\n",
    "for i in elementos:\n",
    "    print(i)"
   ]
  },
  {
   "cell_type": "code",
   "execution_count": 103,
   "metadata": {},
   "outputs": [
    {
     "name": "stdout",
     "output_type": "stream",
     "text": [
      "Jean Charly\n",
      "Joseph S\n",
      "24\n",
      "4j\n",
      "73\n",
      "None\n",
      "[331776]\n"
     ]
    }
   ],
   "source": [
    "# Buena practica\n",
    "\n",
    "for i in range(len(elementos)):\n",
    "    print(elementos[i])"
   ]
  },
  {
   "cell_type": "code",
   "execution_count": 104,
   "metadata": {},
   "outputs": [
    {
     "name": "stdout",
     "output_type": "stream",
     "text": [
      "<class 'str'>\n",
      "<class 'str'>\n",
      "<class 'int'>\n",
      "<class 'complex'>\n",
      "<class 'int'>\n",
      "<class 'NoneType'>\n",
      "<class 'list'>\n"
     ]
    }
   ],
   "source": [
    "for i in range(len(elementos)):\n",
    "    print(type(elementos[i]))"
   ]
  },
  {
   "cell_type": "markdown",
   "metadata": {},
   "source": [
    "### Control de Flujo\n",
    "\n",
    "```\n",
    "SI (CONDICION) ENTONCES:\n",
    "     SENTENCIA\n",
    "SINO\n",
    "    SENTENCIA\n",
    "```\n",
    "\n",
    "Siempre será un valor booleanos\n",
    "\n",
    "Enunciados\n",
    "\n",
    "- Simple -> Son todas aquellas que no tienen conectores\n",
    "- Compuesta -> Son aquellas que tiene dos o mas proposiciones y a la misma vez debe estas\\ \n",
    "adherida a un o varios conectores logicos\n"
   ]
  },
  {
   "cell_type": "markdown",
   "metadata": {},
   "source": [
    "### Operadores Logicos\n",
    "\n",
    "```\n",
    "    AND  -> Y -> && -> V = VV\n",
    "    OR   -> O -> || -> V = VF\n",
    "    NOT  -> NO ->   -> V = F; F = V\n",
    "\n",
    "```"
   ]
  },
  {
   "cell_type": "markdown",
   "metadata": {},
   "source": [
    "### Operadores Comparacion\n",
    "\n",
    "Son factores booleanos\n",
    "```\n",
    "== Igual\n",
    "<  Menor que\n",
    ">  Mayor que\n",
    "<= Menor igual\n",
    ">= Mayor igual\n",
    "!= Diferencia\n",
    "```"
   ]
  },
  {
   "cell_type": "code",
   "execution_count": 109,
   "metadata": {},
   "outputs": [
    {
     "data": {
      "text/plain": [
       "True"
      ]
     },
     "execution_count": 109,
     "metadata": {},
     "output_type": "execute_result"
    }
   ],
   "source": [
    "#Simple\n",
    "\n",
    "(a <= b)"
   ]
  },
  {
   "cell_type": "code",
   "execution_count": 111,
   "metadata": {},
   "outputs": [
    {
     "data": {
      "text/plain": [
       "False"
      ]
     },
     "execution_count": 111,
     "metadata": {},
     "output_type": "execute_result"
    }
   ],
   "source": [
    "#Compuesta\n",
    "\n",
    "(a > b) and (c == a)\n",
    "#  F            F\n",
    "#        F"
   ]
  },
  {
   "cell_type": "code",
   "execution_count": 112,
   "metadata": {},
   "outputs": [
    {
     "name": "stdout",
     "output_type": "stream",
     "text": [
      "Algo paso aqui... :(\n"
     ]
    }
   ],
   "source": [
    "if (a > b) and (c == a):\n",
    "    print(\"Excelente\")\n",
    "else:\n",
    "    print(\"Algo paso aqui... :(\")"
   ]
  },
  {
   "cell_type": "code",
   "execution_count": 119,
   "metadata": {},
   "outputs": [
    {
     "name": "stdout",
     "output_type": "stream",
     "text": [
      "[4j]\n"
     ]
    }
   ],
   "source": [
    "nuevaLista = []\n",
    "for i in range(len(elementos)):\n",
    "    if type(elementos[i]) is complex:\n",
    "        nuevaLista.append(elementos[i])\n",
    "\n",
    "print(nuevaLista)"
   ]
  }
 ],
 "metadata": {
  "kernelspec": {
   "display_name": "Python 3",
   "language": "python",
   "name": "python3"
  },
  "language_info": {
   "codemirror_mode": {
    "name": "ipython",
    "version": 3
   },
   "file_extension": ".py",
   "mimetype": "text/x-python",
   "name": "python",
   "nbconvert_exporter": "python",
   "pygments_lexer": "ipython3",
   "version": "3.12.1"
  }
 },
 "nbformat": 4,
 "nbformat_minor": 2
}
