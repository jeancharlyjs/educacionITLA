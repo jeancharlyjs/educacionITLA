{
 "cells": [
  {
   "cell_type": "markdown",
   "metadata": {},
   "source": [
    "# Introducción Python\n",
    "###### by: Jean Charly Ph. Joseph S.\n",
    "\n"
   ]
  },
  {
   "cell_type": "markdown",
   "metadata": {},
   "source": [
    "# Tipos de Variables\n",
    "* Primitiva\n",
    "    Son primitivas todas aquellas que solo puede almacenar un unico tipo de dato.\n",
    "\n",
    "    - String ' ', \" \"\n",
    "    - Integer $\\mathbb{R}$\n",
    "    - Float\n",
    "    - Complejos\n",
    "    - Booleanos\n",
    "\n",
    "* Colectora\n",
    "    Son colectores todas las estructuras que puede almacenar mas de un tipo de datos en si mismo\\\n",
    "    e incluso la misma estructura.\n",
    "    \n",
    "    ##### _Mutables_\n",
    "    Son mutables las estructuras que su valor puede modificarse\\\n",
    "    despues de haber sido creada, mediante su indice.\n",
    "    - Listas\n",
    "        - Vectores\n",
    "            - Vector Columnas [[[], [], []]]\n",
    "            - Vector Filas [[]]\n",
    "        - Matrices [[[ ] [ ] [ ] ], \n",
    "                    [[ ] [ ] [ ] ], \n",
    "                    [[ ] [ ] [ ] ]]\n",
    "    - Diccionarios {key: valor}\n",
    "\n",
    "    ##### _Inmutables_\n",
    "    Son todas aquellas que despues de haber sido creada\\\n",
    "    no puede ser modificada en ningua aspecto.\n",
    "\n",
    "    - Tuplas ()\n",
    "    - Conjuntos {}"
   ]
  },
  {
   "cell_type": "markdown",
   "metadata": {},
   "source": [
    "##### Palabras Reservadas del Lenguaje - Python"
   ]
  },
  {
   "cell_type": "code",
   "execution_count": 3,
   "metadata": {},
   "outputs": [
    {
     "name": "stdout",
     "output_type": "stream",
     "text": [
      "['False', 'None', 'True', 'and', 'as', 'assert', 'async', 'await', 'break', 'class', 'continue', 'def', 'del', 'elif', 'else', 'except', 'finally', 'for', 'from', 'global', 'if', 'import', 'in', 'is', 'lambda', 'nonlocal', 'not', 'or', 'pass', 'raise', 'return', 'try', 'while', 'with', 'yield']\n"
     ]
    }
   ],
   "source": [
    "from keyword import kwlist\n",
    "\n",
    "print(kwlist)"
   ]
  },
  {
   "cell_type": "markdown",
   "metadata": {},
   "source": [
    "##### Creacion de variables - Buenas practicas.\n",
    "\n",
    "\n",
    "* Buenas Practicas\n",
    "    - _ejemplo \n",
    "    - ejemplo\n",
    "    - ejemploEjemplo\n",
    "    - ejemplo_ejemplo\n",
    "\n",
    "* Mala Practica\n",
    "\n",
    "   - 1ejemplo\n",
    "   - $ejemplo\n",
    "   - PALABRAS RESERVAS."
   ]
  },
  {
   "cell_type": "code",
   "execution_count": 44,
   "metadata": {},
   "outputs": [
    {
     "name": "stdout",
     "output_type": "stream",
     "text": [
      "Jean Charly Joseph S\n"
     ]
    }
   ],
   "source": [
    "nombre = \"Jean Charly\"\n",
    "apellido = 'Joseph S'\n",
    "\n",
    "edad = 24\n",
    "pi = 3.14\n",
    "\n",
    "sexo = False\n",
    "print(nombre, apellido)"
   ]
  },
  {
   "cell_type": "code",
   "execution_count": 31,
   "metadata": {},
   "outputs": [
    {
     "name": "stdout",
     "output_type": "stream",
     "text": [
      "Jean Charly Joseph S\n"
     ]
    }
   ],
   "source": [
    "print(f'{nombre} {apellido}')"
   ]
  },
  {
   "cell_type": "code",
   "execution_count": 34,
   "metadata": {},
   "outputs": [
    {
     "name": "stdout",
     "output_type": "stream",
     "text": [
      "Jean Charly    Joseph S\n"
     ]
    }
   ],
   "source": [
    "print(nombre,\" \" + \" \", apellido)"
   ]
  },
  {
   "cell_type": "code",
   "execution_count": 36,
   "metadata": {},
   "outputs": [
    {
     "name": "stdout",
     "output_type": "stream",
     "text": [
      "Jean Charly Joseph S\n"
     ]
    }
   ],
   "source": [
    "print(\"%s %s\"%(nombre, apellido))"
   ]
  },
  {
   "cell_type": "code",
   "execution_count": 39,
   "metadata": {},
   "outputs": [
    {
     "name": "stdout",
     "output_type": "stream",
     "text": [
      "Jean Charly Joseph S\n"
     ]
    }
   ],
   "source": [
    "print(\"{} {}\".format(nombre, apellido))"
   ]
  },
  {
   "cell_type": "code",
   "execution_count": 51,
   "metadata": {},
   "outputs": [
    {
     "data": {
      "text/plain": [
       "'Jean Charly Joseph S'"
      ]
     },
     "execution_count": 51,
     "metadata": {},
     "output_type": "execute_result"
    }
   ],
   "source": [
    "nombreCompleto = \" \".join([nombre, apellido])\n",
    "nombreCompleto"
   ]
  },
  {
   "cell_type": "code",
   "execution_count": 52,
   "metadata": {},
   "outputs": [
    {
     "data": {
      "text/plain": [
       "'Nikola Joseph S'"
      ]
     },
     "execution_count": 52,
     "metadata": {},
     "output_type": "execute_result"
    }
   ],
   "source": [
    "nombreCompleto.replace(\"Jean Charly \", \"Nikola \")\n"
   ]
  },
  {
   "cell_type": "code",
   "execution_count": 53,
   "metadata": {},
   "outputs": [],
   "source": [
    "#Factores Numericos\n",
    "## Metodo 1\n",
    "\n",
    "a = 24\n",
    "b = 49\n",
    "c = 42\n",
    "\n",
    "## Metodo 2\n",
    "a = 24; b = 49;  c = 42\n",
    "\n",
    "## Metodo 3\n",
    "\n",
    "a, b, c = 24, 49, 42"
   ]
  },
  {
   "cell_type": "code",
   "execution_count": 61,
   "metadata": {},
   "outputs": [
    {
     "name": "stdout",
     "output_type": "stream",
     "text": [
      "Suma:  73\n",
      "Resta:  -18\n",
      "Mult:  1218\n",
      "Division:  0.5714285714285714\n",
      "Division Res:  0\n",
      "Exponente:  576\n",
      "Complejos:  (24+43j)\n",
      "10j\n",
      "10\n"
     ]
    }
   ],
   "source": [
    "# Operaciones Aritemicas\n",
    "\n",
    "print(\"Suma: \", a + b)\n",
    "print(\"Resta: \", a - c)\n",
    "print(\"Mult: \", (a * b) + c )\n",
    "print(\"Division: \", a / c)\n",
    "print(\"Division Res: \", a // c)\n",
    "print(\"Exponente: \", a ** 2)\n",
    "print(\"Complejos: \", a + 43j)\n"
   ]
  },
  {
   "cell_type": "markdown",
   "metadata": {},
   "source": [
    "# Colectoras\n",
    "```\n",
    "Tamaño\tlen\n",
    "Indice\tnombre[n] > 0\n",
    "Slices\t[a:b], [:a], [a:], [:]\n",
    "Iterable\tnombre[i]> 0\n",
    "\n",
    "```"
   ]
  },
  {
   "cell_type": "code",
   "execution_count": 66,
   "metadata": {},
   "outputs": [
    {
     "name": "stdout",
     "output_type": "stream",
     "text": [
      "['Jean Charly', 'Joseph S', 24, 4j, 73, None, [331776]]\n",
      "Tamaño:  7\n",
      "73\n",
      "73\n"
     ]
    }
   ],
   "source": [
    "elementos = [nombre, apellido, edad, 4j, a+b, None, [a**4]]\n",
    "print(elementos)\n",
    "\n",
    "#Tamaño\n",
    "print(\"Tamaño: \", len(elementos))\n",
    "\n",
    "#Indice\n",
    "print(elementos[4])\n",
    "print(elementos[-3])"
   ]
  },
  {
   "cell_type": "markdown",
   "metadata": {},
   "source": [
    "#### Slice"
   ]
  },
  {
   "cell_type": "code",
   "execution_count": 72,
   "metadata": {},
   "outputs": [
    {
     "name": "stdout",
     "output_type": "stream",
     "text": [
      "['Jean Charly', 'Joseph S', 24]\n",
      "[4j, 73, None, [331776]]\n",
      "[73, None]\n",
      "['Jean Charly', 'Joseph S', 24, 4j, 73, None, [331776]]\n"
     ]
    }
   ],
   "source": [
    "#[:a]\n",
    "print(elementos[:3])\n",
    "\n",
    "#[a:]\n",
    "print(elementos[3:])\n",
    "\n",
    "#[a:b]\n",
    "print(elementos[4:6])\n",
    "\n",
    "#[:]\n",
    "print(elementos)"
   ]
  },
  {
   "cell_type": "markdown",
   "metadata": {},
   "source": [
    "### Matrices"
   ]
  },
  {
   "cell_type": "code",
   "execution_count": 83,
   "metadata": {},
   "outputs": [
    {
     "data": {
      "text/plain": [
       "array([[ 3,  4,  5,  6],\n",
       "       [ 2,  3,  4,  5],\n",
       "       [33,  2,  1,  3]])"
      ]
     },
     "execution_count": 83,
     "metadata": {},
     "output_type": "execute_result"
    }
   ],
   "source": [
    "import numpy as np\n",
    "\n",
    "elemento1 = np.array([[3, 4, 5, 6], [2, 3, 4, 5], [33, 2, 1, 3]])\n",
    "elemento1"
   ]
  },
  {
   "cell_type": "code",
   "execution_count": 120,
   "metadata": {},
   "outputs": [
    {
     "data": {
      "image/png": "[encoded data removed]",
      "text/plain": [
       "<Figure size 640x480 with 1 Axes>"
      ]
     },
     "metadata": {},
     "output_type": "display_data"
    }
   ],
   "source": [
    "import matplotlib.pyplot as plt\n",
    "\n",
    "\n",
    "plt.imshow(elemento1, cmap='grey'); plt.show()"
   ]
  },
  {
   "cell_type": "code",
   "execution_count": 91,
   "metadata": {},
   "outputs": [
    {
     "data": {
      "text/plain": [
       "array([2, 3, 4, 5])"
      ]
     },
     "execution_count": 91,
     "metadata": {},
     "output_type": "execute_result"
    }
   ],
   "source": [
    "elemento1[1, :]"
   ]
  },
  {
   "cell_type": "markdown",
   "metadata": {},
   "source": [
    "# Iteración\n",
    "## $\\sum^{n}_{i=1} x_i$\n",
    "```\n",
    "- ALGORITMO -\n",
    "PARA I EN RANGO(N) ENTONCES\n",
    "     IMPRIMIR(I)\n",
    "```"
   ]
  },
  {
   "cell_type": "code",
   "execution_count": 94,
   "metadata": {},
   "outputs": [
    {
     "name": "stdout",
     "output_type": "stream",
     "text": [
      "0\n",
      "1\n",
      "2\n",
      "3\n",
      "4\n",
      "5\n",
      "6\n",
      "7\n",
      "8\n",
      "9\n"
     ]
    }
   ],
   "source": [
    "n = 10\n",
    "for i in range(n):\n",
    "    print(i)"
   ]
  },
  {
   "cell_type": "code",
   "execution_count": 99,
   "metadata": {},
   "outputs": [
    {
     "name": "stdout",
     "output_type": "stream",
     "text": [
      "0 * 5 \t = 0\n",
      "1 * 5 \t = 5\n",
      "2 * 5 \t = 10\n",
      "3 * 5 \t = 15\n",
      "4 * 5 \t = 20\n",
      "5 * 5 \t = 25\n",
      "6 * 5 \t = 30\n",
      "7 * 5 \t = 35\n",
      "8 * 5 \t = 40\n",
      "9 * 5 \t = 45\n",
      "10 * 5 \t = 50\n"
     ]
    }
   ],
   "source": [
    "n = 11\n",
    "numeroMultplica = int(input(\"Ingrese un numero: \"))\n",
    "\n",
    "for i in range(n):\n",
    "    print(\"%s * %s \\t = %s\"%(i, numeroMultplica, (i*numeroMultplica)))\n"
   ]
  },
  {
   "cell_type": "code",
   "execution_count": 102,
   "metadata": {},
   "outputs": [
    {
     "name": "stdout",
     "output_type": "stream",
     "text": [
      "Jean Charly\n",
      "Joseph S\n",
      "24\n",
      "4j\n",
      "73\n",
      "None\n",
      "[331776]\n"
     ]
    }
   ],
   "source": [
    "#Mala practica\n",
    "for i in elementos:\n",
    "    print(i)"
   ]
  },
  {
   "cell_type": "code",
   "execution_count": 103,
   "metadata": {},
   "outputs": [
    {
     "name": "stdout",
     "output_type": "stream",
     "text": [
      "Jean Charly\n",
      "Joseph S\n",
      "24\n",
      "4j\n",
      "73\n",
      "None\n",
      "[331776]\n"
     ]
    }
   ],
   "source": [
    "# Buena practica\n",
    "\n",
    "for i in range(len(elementos)):\n",
    "    print(elementos[i])"
   ]
  },
  {
   "cell_type": "code",
   "execution_count": 104,
   "metadata": {},
   "outputs": [
    {
     "name": "stdout",
     "output_type": "stream",
     "text": [
      "<class 'str'>\n",
      "<class 'str'>\n",
      "<class 'int'>\n",
      "<class 'complex'>\n",
      "<class 'int'>\n",
      "<class 'NoneType'>\n",
      "<class 'list'>\n"
     ]
    }
   ],
   "source": [
    "for i in range(len(elementos)):\n",
    "    print(type(elementos[i]))"
   ]
  },
  {
   "cell_type": "markdown",
   "metadata": {},
   "source": [
    "### Control de Flujo\n",
    "\n",
    "```\n",
    "SI (CONDICION) ENTONCES:\n",
    "     SENTENCIA\n",
    "SINO\n",
    "    SENTENCIA\n",
    "```\n",
    "\n",
    "Siempre será un valor booleanos\n",
    "\n",
    "Enunciados\n",
    "\n",
    "- Simple -> Son todas aquellas que no tienen conectores\n",
    "- Compuesta -> Son aquellas que tiene dos o mas proposiciones y a la misma vez debe estas\\ \n",
    "adherida a un o varios conectores logicos\n"
   ]
  },
  {
   "cell_type": "markdown",
   "metadata": {},
   "source": [
    "### Operadores Logicos\n",
    "\n",
    "```\n",
    "    AND  -> Y -> && -> V = VV\n",
    "    OR   -> O -> || -> V = VF\n",
    "    NOT  -> NO ->   -> V = F; F = V\n",
    "\n",
    "```"
   ]
  },
  {
   "cell_type": "markdown",
   "metadata": {},
   "source": [
    "### Operadores Comparacion\n",
    "\n",
    "Son factores booleanos\n",
    "```\n",
    "== Igual\n",
    "<  Menor que\n",
    ">  Mayor que\n",
    "<= Menor igual\n",
    ">= Mayor igual\n",
    "!= Diferencia\n",
    "```"
   ]
  },
  {
   "cell_type": "code",
   "execution_count": 109,
   "metadata": {},
   "outputs": [
    {
     "data": {
      "text/plain": [
       "True"
      ]
     },
     "execution_count": 109,
     "metadata": {},
     "output_type": "execute_result"
    }
   ],
   "source": [
    "#Simple\n",
    "\n",
    "(a <= b)"
   ]
  },
  {
   "cell_type": "code",
   "execution_count": 111,
   "metadata": {},
   "outputs": [
    {
     "data": {
      "text/plain": [
       "False"
      ]
     },
     "execution_count": 111,
     "metadata": {},
     "output_type": "execute_result"
    }
   ],
   "source": [
    "#Compuesta\n",
    "\n",
    "(a > b) and (c == a)\n",
    "#  F            F\n",
    "#        F"
   ]
  },
  {
   "cell_type": "code",
   "execution_count": 112,
   "metadata": {},
   "outputs": [
    {
     "name": "stdout",
     "output_type": "stream",
     "text": [
      "Algo paso aqui... :(\n"
     ]
    }
   ],
   "source": [
    "if (a > b) and (c == a):\n",
    "    print(\"Excelente\")\n",
    "else:\n",
    "    print(\"Algo paso aqui... :(\")"
   ]
  },
  {
   "cell_type": "code",
   "execution_count": 119,
   "metadata": {},
   "outputs": [
    {
     "name": "stdout",
     "output_type": "stream",
     "text": [
      "[4j]\n"
     ]
    }
   ],
   "source": [
    "nuevaLista = []\n",
    "for i in range(len(elementos)):\n",
    "    if type(elementos[i]) is complex:\n",
    "        nuevaLista.append(elementos[i])\n",
    "\n",
    "print(nuevaLista)"
   ]
  },
  {
   "cell_type": "code",
   "execution_count": 2,
   "metadata": {},
   "outputs": [
    {
     "name": "stdout",
     "output_type": "stream",
     "text": [
      "<class 'tuple'>\n",
      "138339891993344\n"
     ]
    }
   ],
   "source": [
    "prueba = ('Jean Charly', [24])\n",
    "print(type(prueba))\n",
    "print(id(prueba))"
   ]
  },
  {
   "cell_type": "code",
   "execution_count": 4,
   "metadata": {},
   "outputs": [],
   "source": [
    "prueba[1].append(\"Nikola Tesla\")"
   ]
  },
  {
   "cell_type": "code",
   "execution_count": 6,
   "metadata": {},
   "outputs": [
    {
     "name": "stdout",
     "output_type": "stream",
     "text": [
      "('Jean Charly', [24, 'Nikola Tesla'])\n",
      "<class 'tuple'>\n",
      "138339891993344\n"
     ]
    }
   ],
   "source": [
    "print(prueba)\n",
    "print(type(prueba))\n",
    "print(id(prueba))"
   ]
  },
  {
   "cell_type": "code",
   "execution_count": 30,
   "metadata": {},
   "outputs": [],
   "source": [
    "elemento = [1, 24, 3, 3]\n",
    "elemento1 = [3, 4, 5, 1]"
   ]
  },
  {
   "cell_type": "code",
   "execution_count": 12,
   "metadata": {},
   "outputs": [
    {
     "data": {
      "text/plain": [
       "[True, None]"
      ]
     },
     "execution_count": 12,
     "metadata": {},
     "output_type": "execute_result"
    }
   ],
   "source": [
    "elemento[int(len(elemento)/2):]"
   ]
  },
  {
   "cell_type": "code",
   "execution_count": 32,
   "metadata": {},
   "outputs": [
    {
     "ename": "ValueError",
     "evalue": "invalid literal for int() with base 10: 'j'",
     "output_type": "error",
     "traceback": [
      "\u001b[0;31m---------------------------------------------------------------------------\u001b[0m",
      "\u001b[0;31mValueError\u001b[0m                                Traceback (most recent call last)",
      "Cell \u001b[0;32mIn[32], line 5\u001b[0m\n\u001b[1;32m      3\u001b[0m a \u001b[38;5;241m=\u001b[39m np\u001b[38;5;241m.\u001b[39marray(elemento)\n\u001b[1;32m      4\u001b[0m b \u001b[38;5;241m=\u001b[39m np\u001b[38;5;241m.\u001b[39marray(elemento1)\n\u001b[0;32m----> 5\u001b[0m \u001b[43ma\u001b[49m\u001b[43m[\u001b[49m\u001b[38;5;241;43m0\u001b[39;49m\u001b[43m]\u001b[49m \u001b[38;5;241m=\u001b[39m \u001b[38;5;124m'\u001b[39m\u001b[38;5;124mj\u001b[39m\u001b[38;5;124m'\u001b[39m\n\u001b[1;32m      6\u001b[0m \u001b[38;5;28mprint\u001b[39m(a)\n",
      "\u001b[0;31mValueError\u001b[0m: invalid literal for int() with base 10: 'j'"
     ]
    }
   ],
   "source": [
    "import numpy as np\n",
    "\n",
    "a = np.array(elemento)\n",
    "b = np.array(elemento1)\n",
    "a[0] = 'j'\n",
    "print(a)"
   ]
  },
  {
   "cell_type": "code",
   "execution_count": 24,
   "metadata": {},
   "outputs": [
    {
     "name": "stdout",
     "output_type": "stream",
     "text": [
      "[3, 96, 'jjjjj', 3]\n"
     ]
    }
   ],
   "source": [
    "\n",
    "elemento2 = []\n",
    "\n",
    "for i in range(len(elemento)):\n",
    "    elemento2.append(elemento[i] * elemento1[i])\n",
    "print(elemento2)"
   ]
  },
  {
   "cell_type": "code",
   "execution_count": 35,
   "metadata": {},
   "outputs": [
    {
     "name": "stdout",
     "output_type": "stream",
     "text": [
      "No puede dividir entre cero :(\n"
     ]
    }
   ],
   "source": [
    "n = int(input(\"Ingrese un numero: \"))\n",
    "\n",
    "try:\n",
    "    print(234 /n)\n",
    "except ZeroDivisionError:\n",
    "    print(\"No puede dividir entre cero :(\")"
   ]
  },
  {
   "cell_type": "markdown",
   "metadata": {},
   "source": [
    "# Diccionarios\n",
    "\n",
    "{key: value}\n",
    "\n",
    "nombreSemana = {'semana': ['Lunes', 'Marte', ...], 'finSemana': ['Sabado', 'Domingo']}"
   ]
  },
  {
   "cell_type": "code",
   "execution_count": 36,
   "metadata": {},
   "outputs": [
    {
     "data": {
      "text/plain": [
       "{'semana': ['Lunes', 'Marte', 'Miercoles', 'Jueves', 'Viernes']}"
      ]
     },
     "execution_count": 36,
     "metadata": {},
     "output_type": "execute_result"
    }
   ],
   "source": [
    "diasSemanas = {'semana': ['Lunes', 'Marte', 'Miercoles', 'Jueves', 'Viernes'],}\n",
    "diasSemanas"
   ]
  },
  {
   "cell_type": "code",
   "execution_count": 40,
   "metadata": {},
   "outputs": [
    {
     "name": "stdout",
     "output_type": "stream",
     "text": [
      "['Lunes', 'Marte', 'Miercoles', 'Jueves', 'Viernes']\n"
     ]
    }
   ],
   "source": [
    "print(diasSemanas['semana'])"
   ]
  },
  {
   "cell_type": "code",
   "execution_count": 41,
   "metadata": {},
   "outputs": [
    {
     "name": "stdout",
     "output_type": "stream",
     "text": [
      "{'semana': ['Lunes', 'Marte', 'Miercoles', 'Jueves', 'Viernes'], 'finSemana': ['Sabado', 'Domingo']}\n"
     ]
    }
   ],
   "source": [
    "diasSemanas['finSemana'] = ['Sabado', 'Domingo']\n",
    "print(diasSemanas)"
   ]
  },
  {
   "cell_type": "code",
   "execution_count": 55,
   "metadata": {},
   "outputs": [
    {
     "data": {
      "text/plain": [
       "{'nombre': [], 'apellidos': [], 'edad': [], 'sexo': []}"
      ]
     },
     "execution_count": 55,
     "metadata": {},
     "output_type": "execute_result"
    }
   ],
   "source": [
    "#Diccionario como una Base de datos\n",
    "\n",
    "\n",
    "columnas = ['nombre', 'apellidos', 'edad', 'sexo']\n",
    "\n",
    "#Incomoda  - Estupida\n",
    "#{nombre: [], apellido: []}\n",
    "dataset = {}\n",
    "\n",
    "for i in range(len(columnas)):\n",
    "    dataset[columnas[i]] = []\n",
    "dataset"
   ]
  },
  {
   "cell_type": "code",
   "execution_count": 60,
   "metadata": {},
   "outputs": [
    {
     "name": "stdout",
     "output_type": "stream",
     "text": [
      "{'nombre': [], 'apellidos': [], 'edad': [], 'sexo': []}\n"
     ]
    }
   ],
   "source": [
    "#Forma elegante\n",
    "\n",
    "dataset1 = {columnas[i]: [] for i in range(len(columnas))}\n",
    "print(dataset1)"
   ]
  },
  {
   "cell_type": "code",
   "execution_count": 49,
   "metadata": {},
   "outputs": [],
   "source": [
    "#Funciones Aleatorias\n",
    "from random import randint"
   ]
  },
  {
   "cell_type": "code",
   "execution_count": 56,
   "metadata": {},
   "outputs": [
    {
     "data": {
      "text/plain": [
       "'809-123-2344'"
      ]
     },
     "execution_count": 56,
     "metadata": {},
     "output_type": "execute_result"
    }
   ],
   "source": [
    "telefono = '08091232344'\n",
    "\"%s-%s-%s\"%(telefono[:3], telefono[3:6], telefono[6:])"
   ]
  },
  {
   "cell_type": "code",
   "execution_count": 61,
   "metadata": {},
   "outputs": [
    {
     "data": {
      "text/plain": [
       "{'nombre': ['nombre_45',\n",
       "  'nombre_18',\n",
       "  'nombre_25',\n",
       "  'nombre_6',\n",
       "  'nombre_35',\n",
       "  'nombre_35',\n",
       "  'nombre_36',\n",
       "  'nombre_2',\n",
       "  'nombre_27',\n",
       "  'nombre_30',\n",
       "  'nombre_5',\n",
       "  'nombre_47',\n",
       "  'nombre_22',\n",
       "  'nombre_43',\n",
       "  'nombre_47',\n",
       "  'nombre_21',\n",
       "  'nombre_15',\n",
       "  'nombre_32',\n",
       "  'nombre_27',\n",
       "  'nombre_49',\n",
       "  'nombre_45'],\n",
       " 'apellidos': ['apellidos_36',\n",
       "  'apellidos_26',\n",
       "  'apellidos_2',\n",
       "  'apellidos_15',\n",
       "  'apellidos_14',\n",
       "  'apellidos_35',\n",
       "  'apellidos_27',\n",
       "  'apellidos_27',\n",
       "  'apellidos_37',\n",
       "  'apellidos_31',\n",
       "  'apellidos_35',\n",
       "  'apellidos_4',\n",
       "  'apellidos_18',\n",
       "  'apellidos_7',\n",
       "  'apellidos_3',\n",
       "  'apellidos_24',\n",
       "  'apellidos_49',\n",
       "  'apellidos_35',\n",
       "  'apellidos_43',\n",
       "  'apellidos_25',\n",
       "  'apellidos_50'],\n",
       " 'edad': [22,\n",
       "  39,\n",
       "  19,\n",
       "  47,\n",
       "  36,\n",
       "  46,\n",
       "  19,\n",
       "  50,\n",
       "  28,\n",
       "  18,\n",
       "  35,\n",
       "  19,\n",
       "  18,\n",
       "  50,\n",
       "  33,\n",
       "  30,\n",
       "  27,\n",
       "  29,\n",
       "  39,\n",
       "  28,\n",
       "  33],\n",
       " 'sexo': [1, 0, 0, 1, 0, 1, 1, 1, 0, 1, 0, 0, 1, 0, 0, 1, 0, 1, 1, 0, 1]}"
      ]
     },
     "execution_count": 61,
     "metadata": {},
     "output_type": "execute_result"
    }
   ],
   "source": [
    "for i in range(21):\n",
    "    dataset1['nombre'].append(\"nombre_%s\"%randint(1, 50))\n",
    "    dataset1['apellidos'].append(\"apellidos_%s\"%randint(1, 50))\n",
    "    dataset1['edad'].append(randint(18, 50))\n",
    "    dataset1['sexo'].append(randint(0, 1))\n",
    "dataset1"
   ]
  },
  {
   "cell_type": "code",
   "execution_count": 63,
   "metadata": {},
   "outputs": [],
   "source": [
    "#Pandas\n",
    "\n",
    "# import pandas as pd\n",
    "from pandas import DataFrame"
   ]
  },
  {
   "cell_type": "code",
   "execution_count": 65,
   "metadata": {},
   "outputs": [
    {
     "data": {
      "text/html": [
       "<div>\n",
       "<style scoped>\n",
       "    .dataframe tbody tr th:only-of-type {\n",
       "        vertical-align: middle;\n",
       "    }\n",
       "\n",
       "    .dataframe tbody tr th {\n",
       "        vertical-align: top;\n",
       "    }\n",
       "\n",
       "    .dataframe thead th {\n",
       "        text-align: right;\n",
       "    }\n",
       "</style>\n",
       "<table border=\"1\" class=\"dataframe\">\n",
       "  <thead>\n",
       "    <tr style=\"text-align: right;\">\n",
       "      <th></th>\n",
       "      <th>nombre</th>\n",
       "      <th>apellidos</th>\n",
       "      <th>edad</th>\n",
       "      <th>sexo</th>\n",
       "    </tr>\n",
       "  </thead>\n",
       "  <tbody>\n",
       "    <tr>\n",
       "      <th>0</th>\n",
       "      <td>nombre_45</td>\n",
       "      <td>apellidos_36</td>\n",
       "      <td>22</td>\n",
       "      <td>1</td>\n",
       "    </tr>\n",
       "    <tr>\n",
       "      <th>1</th>\n",
       "      <td>nombre_18</td>\n",
       "      <td>apellidos_26</td>\n",
       "      <td>39</td>\n",
       "      <td>0</td>\n",
       "    </tr>\n",
       "    <tr>\n",
       "      <th>2</th>\n",
       "      <td>nombre_25</td>\n",
       "      <td>apellidos_2</td>\n",
       "      <td>19</td>\n",
       "      <td>0</td>\n",
       "    </tr>\n",
       "    <tr>\n",
       "      <th>3</th>\n",
       "      <td>nombre_6</td>\n",
       "      <td>apellidos_15</td>\n",
       "      <td>47</td>\n",
       "      <td>1</td>\n",
       "    </tr>\n",
       "    <tr>\n",
       "      <th>4</th>\n",
       "      <td>nombre_35</td>\n",
       "      <td>apellidos_14</td>\n",
       "      <td>36</td>\n",
       "      <td>0</td>\n",
       "    </tr>\n",
       "    <tr>\n",
       "      <th>5</th>\n",
       "      <td>nombre_35</td>\n",
       "      <td>apellidos_35</td>\n",
       "      <td>46</td>\n",
       "      <td>1</td>\n",
       "    </tr>\n",
       "    <tr>\n",
       "      <th>6</th>\n",
       "      <td>nombre_36</td>\n",
       "      <td>apellidos_27</td>\n",
       "      <td>19</td>\n",
       "      <td>1</td>\n",
       "    </tr>\n",
       "    <tr>\n",
       "      <th>7</th>\n",
       "      <td>nombre_2</td>\n",
       "      <td>apellidos_27</td>\n",
       "      <td>50</td>\n",
       "      <td>1</td>\n",
       "    </tr>\n",
       "    <tr>\n",
       "      <th>8</th>\n",
       "      <td>nombre_27</td>\n",
       "      <td>apellidos_37</td>\n",
       "      <td>28</td>\n",
       "      <td>0</td>\n",
       "    </tr>\n",
       "    <tr>\n",
       "      <th>9</th>\n",
       "      <td>nombre_30</td>\n",
       "      <td>apellidos_31</td>\n",
       "      <td>18</td>\n",
       "      <td>1</td>\n",
       "    </tr>\n",
       "    <tr>\n",
       "      <th>10</th>\n",
       "      <td>nombre_5</td>\n",
       "      <td>apellidos_35</td>\n",
       "      <td>35</td>\n",
       "      <td>0</td>\n",
       "    </tr>\n",
       "    <tr>\n",
       "      <th>11</th>\n",
       "      <td>nombre_47</td>\n",
       "      <td>apellidos_4</td>\n",
       "      <td>19</td>\n",
       "      <td>0</td>\n",
       "    </tr>\n",
       "    <tr>\n",
       "      <th>12</th>\n",
       "      <td>nombre_22</td>\n",
       "      <td>apellidos_18</td>\n",
       "      <td>18</td>\n",
       "      <td>1</td>\n",
       "    </tr>\n",
       "    <tr>\n",
       "      <th>13</th>\n",
       "      <td>nombre_43</td>\n",
       "      <td>apellidos_7</td>\n",
       "      <td>50</td>\n",
       "      <td>0</td>\n",
       "    </tr>\n",
       "    <tr>\n",
       "      <th>14</th>\n",
       "      <td>nombre_47</td>\n",
       "      <td>apellidos_3</td>\n",
       "      <td>33</td>\n",
       "      <td>0</td>\n",
       "    </tr>\n",
       "    <tr>\n",
       "      <th>15</th>\n",
       "      <td>nombre_21</td>\n",
       "      <td>apellidos_24</td>\n",
       "      <td>30</td>\n",
       "      <td>1</td>\n",
       "    </tr>\n",
       "    <tr>\n",
       "      <th>16</th>\n",
       "      <td>nombre_15</td>\n",
       "      <td>apellidos_49</td>\n",
       "      <td>27</td>\n",
       "      <td>0</td>\n",
       "    </tr>\n",
       "    <tr>\n",
       "      <th>17</th>\n",
       "      <td>nombre_32</td>\n",
       "      <td>apellidos_35</td>\n",
       "      <td>29</td>\n",
       "      <td>1</td>\n",
       "    </tr>\n",
       "    <tr>\n",
       "      <th>18</th>\n",
       "      <td>nombre_27</td>\n",
       "      <td>apellidos_43</td>\n",
       "      <td>39</td>\n",
       "      <td>1</td>\n",
       "    </tr>\n",
       "    <tr>\n",
       "      <th>19</th>\n",
       "      <td>nombre_49</td>\n",
       "      <td>apellidos_25</td>\n",
       "      <td>28</td>\n",
       "      <td>0</td>\n",
       "    </tr>\n",
       "    <tr>\n",
       "      <th>20</th>\n",
       "      <td>nombre_45</td>\n",
       "      <td>apellidos_50</td>\n",
       "      <td>33</td>\n",
       "      <td>1</td>\n",
       "    </tr>\n",
       "  </tbody>\n",
       "</table>\n",
       "</div>"
      ],
      "text/plain": [
       "       nombre     apellidos  edad  sexo\n",
       "0   nombre_45  apellidos_36    22     1\n",
       "1   nombre_18  apellidos_26    39     0\n",
       "2   nombre_25   apellidos_2    19     0\n",
       "3    nombre_6  apellidos_15    47     1\n",
       "4   nombre_35  apellidos_14    36     0\n",
       "5   nombre_35  apellidos_35    46     1\n",
       "6   nombre_36  apellidos_27    19     1\n",
       "7    nombre_2  apellidos_27    50     1\n",
       "8   nombre_27  apellidos_37    28     0\n",
       "9   nombre_30  apellidos_31    18     1\n",
       "10   nombre_5  apellidos_35    35     0\n",
       "11  nombre_47   apellidos_4    19     0\n",
       "12  nombre_22  apellidos_18    18     1\n",
       "13  nombre_43   apellidos_7    50     0\n",
       "14  nombre_47   apellidos_3    33     0\n",
       "15  nombre_21  apellidos_24    30     1\n",
       "16  nombre_15  apellidos_49    27     0\n",
       "17  nombre_32  apellidos_35    29     1\n",
       "18  nombre_27  apellidos_43    39     1\n",
       "19  nombre_49  apellidos_25    28     0\n",
       "20  nombre_45  apellidos_50    33     1"
      ]
     },
     "execution_count": 65,
     "metadata": {},
     "output_type": "execute_result"
    }
   ],
   "source": [
    "df = DataFrame(dataset1)\n",
    "df"
   ]
  },
  {
   "cell_type": "markdown",
   "metadata": {},
   "source": [
    "# Funcion\n",
    "\n",
    "$$f(x) = y$$\n",
    "$$y = f(x)$$\n",
    "\n",
    "* Tipos de Variables\n",
    "    - Variables independiente $x$\n",
    "    - Variables dependientes $y$\n",
    "\n",
    "\n",
    "```\n",
    "FUNCION <NOMBRE>(P1, P2, P3, PN) {\n",
    "    VALOR = (P1 + PN * (P3 / P2))\n",
    "    RETORNAR VALOR\n",
    "}\n",
    "NOMBRE(23, 43, 22, 0)\n",
    "```\n",
    "* Tipos de Funciones\n",
    "    - Funciones Definida\n",
    "    - Funciones Lenguaje (Sintaxis o Palabras Resevas)\n",
    "    - Funciones Anonimas\n",
    "    - Funciones Recursiva"
   ]
  },
  {
   "cell_type": "code",
   "execution_count": 78,
   "metadata": {},
   "outputs": [
    {
     "name": "stdout",
     "output_type": "stream",
     "text": [
      "338.3333333333333\n"
     ]
    },
    {
     "data": {
      "text/plain": [
       "181008.3333333333"
      ]
     },
     "execution_count": 78,
     "metadata": {},
     "output_type": "execute_result"
    }
   ],
   "source": [
    "#Funciones Definida\n",
    "def operacion(p1, pn, p3, p2):\n",
    "    valor = (p1 + pn * (p3 / p2))\n",
    "    print(valor)\n",
    "    return valor\n",
    "a = operacion(23, 43, 22, 3)\n",
    "a * 535"
   ]
  },
  {
   "cell_type": "code",
   "execution_count": 79,
   "metadata": {},
   "outputs": [
    {
     "name": "stdout",
     "output_type": "stream",
     "text": [
      "['False', 'None', 'True', 'and', 'as', 'assert', 'async', 'await', 'break', 'class', 'continue', 'def', 'del', 'elif', 'else', 'except', 'finally', 'for', 'from', 'global', 'if', 'import', 'in', 'is', 'lambda', 'nonlocal', 'not', 'or', 'pass', 'raise', 'return', 'try', 'while', 'with', 'yield']\n"
     ]
    }
   ],
   "source": [
    "#Funciones del Lenguaje\n",
    "from keyword import kwlist\n",
    "\n",
    "print(kwlist)"
   ]
  },
  {
   "cell_type": "markdown",
   "metadata": {},
   "source": [
    "### Funcion Anonima\n",
    "## $$x(n) = \\lambda x:x * \\mathbb{R}$$"
   ]
  },
  {
   "cell_type": "code",
   "execution_count": 80,
   "metadata": {},
   "outputs": [
    {
     "data": {
      "text/plain": [
       "265"
      ]
     },
     "execution_count": 80,
     "metadata": {},
     "output_type": "execute_result"
    }
   ],
   "source": [
    "#Funciones Anonimas\n",
    "\n",
    "a = lambda x: x * 5\n",
    "a(53)"
   ]
  },
  {
   "cell_type": "markdown",
   "metadata": {},
   "source": [
    "### Funcion Recursiva\n",
    "\n",
    "# $$f(f(x))$$"
   ]
  },
  {
   "cell_type": "code",
   "execution_count": 91,
   "metadata": {},
   "outputs": [
    {
     "name": "stdout",
     "output_type": "stream",
     "text": [
      "Aun debes seguir trabajo... porque es semana laboral.... jejeje 5\n",
      "Aun debes seguir trabajo... porque es semana laboral.... jejeje 4\n",
      "Aun debes seguir trabajo... porque es semana laboral.... jejeje 3\n",
      "Aun debes seguir trabajo... porque es semana laboral.... jejeje 2\n",
      "Aun debes seguir trabajo... porque es semana laboral.... jejeje 1\n"
     ]
    },
    {
     "data": {
      "text/plain": [
       "'Feliz fin de semana'"
      ]
     },
     "execution_count": 91,
     "metadata": {},
     "output_type": "execute_result"
    }
   ],
   "source": [
    "# Funcion Recursivas\n",
    "\n",
    "def recursion(n):\n",
    "    if n == 0:\n",
    "        return \"Feliz fin de semana\"\n",
    "    else:\n",
    "        print(\"Aun debes seguir trabajo... porque es semana laboral.... jejeje %s\"%n)\n",
    "        return recursion(n -1)\n",
    "recursion(5)"
   ]
  },
  {
   "cell_type": "code",
   "execution_count": 92,
   "metadata": {},
   "outputs": [
    {
     "data": {
      "text/html": [
       "<div>\n",
       "<style scoped>\n",
       "    .dataframe tbody tr th:only-of-type {\n",
       "        vertical-align: middle;\n",
       "    }\n",
       "\n",
       "    .dataframe tbody tr th {\n",
       "        vertical-align: top;\n",
       "    }\n",
       "\n",
       "    .dataframe thead th {\n",
       "        text-align: right;\n",
       "    }\n",
       "</style>\n",
       "<table border=\"1\" class=\"dataframe\">\n",
       "  <thead>\n",
       "    <tr style=\"text-align: right;\">\n",
       "      <th></th>\n",
       "      <th>nombre</th>\n",
       "      <th>apellidos</th>\n",
       "      <th>edad</th>\n",
       "      <th>sexo</th>\n",
       "    </tr>\n",
       "  </thead>\n",
       "  <tbody>\n",
       "    <tr>\n",
       "      <th>0</th>\n",
       "      <td>nombre_45</td>\n",
       "      <td>apellidos_36</td>\n",
       "      <td>22</td>\n",
       "      <td>1</td>\n",
       "    </tr>\n",
       "    <tr>\n",
       "      <th>1</th>\n",
       "      <td>nombre_18</td>\n",
       "      <td>apellidos_26</td>\n",
       "      <td>39</td>\n",
       "      <td>0</td>\n",
       "    </tr>\n",
       "    <tr>\n",
       "      <th>2</th>\n",
       "      <td>nombre_25</td>\n",
       "      <td>apellidos_2</td>\n",
       "      <td>19</td>\n",
       "      <td>0</td>\n",
       "    </tr>\n",
       "    <tr>\n",
       "      <th>3</th>\n",
       "      <td>nombre_6</td>\n",
       "      <td>apellidos_15</td>\n",
       "      <td>47</td>\n",
       "      <td>1</td>\n",
       "    </tr>\n",
       "    <tr>\n",
       "      <th>4</th>\n",
       "      <td>nombre_35</td>\n",
       "      <td>apellidos_14</td>\n",
       "      <td>36</td>\n",
       "      <td>0</td>\n",
       "    </tr>\n",
       "    <tr>\n",
       "      <th>5</th>\n",
       "      <td>nombre_35</td>\n",
       "      <td>apellidos_35</td>\n",
       "      <td>46</td>\n",
       "      <td>1</td>\n",
       "    </tr>\n",
       "    <tr>\n",
       "      <th>6</th>\n",
       "      <td>nombre_36</td>\n",
       "      <td>apellidos_27</td>\n",
       "      <td>19</td>\n",
       "      <td>1</td>\n",
       "    </tr>\n",
       "    <tr>\n",
       "      <th>7</th>\n",
       "      <td>nombre_2</td>\n",
       "      <td>apellidos_27</td>\n",
       "      <td>50</td>\n",
       "      <td>1</td>\n",
       "    </tr>\n",
       "    <tr>\n",
       "      <th>8</th>\n",
       "      <td>nombre_27</td>\n",
       "      <td>apellidos_37</td>\n",
       "      <td>28</td>\n",
       "      <td>0</td>\n",
       "    </tr>\n",
       "    <tr>\n",
       "      <th>9</th>\n",
       "      <td>nombre_30</td>\n",
       "      <td>apellidos_31</td>\n",
       "      <td>18</td>\n",
       "      <td>1</td>\n",
       "    </tr>\n",
       "    <tr>\n",
       "      <th>10</th>\n",
       "      <td>nombre_5</td>\n",
       "      <td>apellidos_35</td>\n",
       "      <td>35</td>\n",
       "      <td>0</td>\n",
       "    </tr>\n",
       "    <tr>\n",
       "      <th>11</th>\n",
       "      <td>nombre_47</td>\n",
       "      <td>apellidos_4</td>\n",
       "      <td>19</td>\n",
       "      <td>0</td>\n",
       "    </tr>\n",
       "    <tr>\n",
       "      <th>12</th>\n",
       "      <td>nombre_22</td>\n",
       "      <td>apellidos_18</td>\n",
       "      <td>18</td>\n",
       "      <td>1</td>\n",
       "    </tr>\n",
       "    <tr>\n",
       "      <th>13</th>\n",
       "      <td>nombre_43</td>\n",
       "      <td>apellidos_7</td>\n",
       "      <td>50</td>\n",
       "      <td>0</td>\n",
       "    </tr>\n",
       "    <tr>\n",
       "      <th>14</th>\n",
       "      <td>nombre_47</td>\n",
       "      <td>apellidos_3</td>\n",
       "      <td>33</td>\n",
       "      <td>0</td>\n",
       "    </tr>\n",
       "    <tr>\n",
       "      <th>15</th>\n",
       "      <td>nombre_21</td>\n",
       "      <td>apellidos_24</td>\n",
       "      <td>30</td>\n",
       "      <td>1</td>\n",
       "    </tr>\n",
       "    <tr>\n",
       "      <th>16</th>\n",
       "      <td>nombre_15</td>\n",
       "      <td>apellidos_49</td>\n",
       "      <td>27</td>\n",
       "      <td>0</td>\n",
       "    </tr>\n",
       "    <tr>\n",
       "      <th>17</th>\n",
       "      <td>nombre_32</td>\n",
       "      <td>apellidos_35</td>\n",
       "      <td>29</td>\n",
       "      <td>1</td>\n",
       "    </tr>\n",
       "    <tr>\n",
       "      <th>18</th>\n",
       "      <td>nombre_27</td>\n",
       "      <td>apellidos_43</td>\n",
       "      <td>39</td>\n",
       "      <td>1</td>\n",
       "    </tr>\n",
       "    <tr>\n",
       "      <th>19</th>\n",
       "      <td>nombre_49</td>\n",
       "      <td>apellidos_25</td>\n",
       "      <td>28</td>\n",
       "      <td>0</td>\n",
       "    </tr>\n",
       "    <tr>\n",
       "      <th>20</th>\n",
       "      <td>nombre_45</td>\n",
       "      <td>apellidos_50</td>\n",
       "      <td>33</td>\n",
       "      <td>1</td>\n",
       "    </tr>\n",
       "  </tbody>\n",
       "</table>\n",
       "</div>"
      ],
      "text/plain": [
       "       nombre     apellidos  edad  sexo\n",
       "0   nombre_45  apellidos_36    22     1\n",
       "1   nombre_18  apellidos_26    39     0\n",
       "2   nombre_25   apellidos_2    19     0\n",
       "3    nombre_6  apellidos_15    47     1\n",
       "4   nombre_35  apellidos_14    36     0\n",
       "5   nombre_35  apellidos_35    46     1\n",
       "6   nombre_36  apellidos_27    19     1\n",
       "7    nombre_2  apellidos_27    50     1\n",
       "8   nombre_27  apellidos_37    28     0\n",
       "9   nombre_30  apellidos_31    18     1\n",
       "10   nombre_5  apellidos_35    35     0\n",
       "11  nombre_47   apellidos_4    19     0\n",
       "12  nombre_22  apellidos_18    18     1\n",
       "13  nombre_43   apellidos_7    50     0\n",
       "14  nombre_47   apellidos_3    33     0\n",
       "15  nombre_21  apellidos_24    30     1\n",
       "16  nombre_15  apellidos_49    27     0\n",
       "17  nombre_32  apellidos_35    29     1\n",
       "18  nombre_27  apellidos_43    39     1\n",
       "19  nombre_49  apellidos_25    28     0\n",
       "20  nombre_45  apellidos_50    33     1"
      ]
     },
     "execution_count": 92,
     "metadata": {},
     "output_type": "execute_result"
    }
   ],
   "source": [
    "df = DataFrame(dataset1)\n",
    "df"
   ]
  },
  {
   "cell_type": "code",
   "execution_count": 95,
   "metadata": {},
   "outputs": [],
   "source": [
    "def modificarSexo(x):\n",
    "    if x == 1:\n",
    "        return \"Femenino\"\n",
    "    return \"Masculino\""
   ]
  },
  {
   "cell_type": "code",
   "execution_count": 96,
   "metadata": {},
   "outputs": [
    {
     "data": {
      "text/html": [
       "<div>\n",
       "<style scoped>\n",
       "    .dataframe tbody tr th:only-of-type {\n",
       "        vertical-align: middle;\n",
       "    }\n",
       "\n",
       "    .dataframe tbody tr th {\n",
       "        vertical-align: top;\n",
       "    }\n",
       "\n",
       "    .dataframe thead th {\n",
       "        text-align: right;\n",
       "    }\n",
       "</style>\n",
       "<table border=\"1\" class=\"dataframe\">\n",
       "  <thead>\n",
       "    <tr style=\"text-align: right;\">\n",
       "      <th></th>\n",
       "      <th>nombre</th>\n",
       "      <th>apellidos</th>\n",
       "      <th>edad</th>\n",
       "      <th>sexo</th>\n",
       "      <th>SexoModificado1</th>\n",
       "    </tr>\n",
       "  </thead>\n",
       "  <tbody>\n",
       "    <tr>\n",
       "      <th>0</th>\n",
       "      <td>nombre_45</td>\n",
       "      <td>apellidos_36</td>\n",
       "      <td>22</td>\n",
       "      <td>1</td>\n",
       "      <td>Femenino</td>\n",
       "    </tr>\n",
       "    <tr>\n",
       "      <th>1</th>\n",
       "      <td>nombre_18</td>\n",
       "      <td>apellidos_26</td>\n",
       "      <td>39</td>\n",
       "      <td>0</td>\n",
       "      <td>Masculino</td>\n",
       "    </tr>\n",
       "    <tr>\n",
       "      <th>2</th>\n",
       "      <td>nombre_25</td>\n",
       "      <td>apellidos_2</td>\n",
       "      <td>19</td>\n",
       "      <td>0</td>\n",
       "      <td>Masculino</td>\n",
       "    </tr>\n",
       "    <tr>\n",
       "      <th>3</th>\n",
       "      <td>nombre_6</td>\n",
       "      <td>apellidos_15</td>\n",
       "      <td>47</td>\n",
       "      <td>1</td>\n",
       "      <td>Femenino</td>\n",
       "    </tr>\n",
       "    <tr>\n",
       "      <th>4</th>\n",
       "      <td>nombre_35</td>\n",
       "      <td>apellidos_14</td>\n",
       "      <td>36</td>\n",
       "      <td>0</td>\n",
       "      <td>Masculino</td>\n",
       "    </tr>\n",
       "    <tr>\n",
       "      <th>5</th>\n",
       "      <td>nombre_35</td>\n",
       "      <td>apellidos_35</td>\n",
       "      <td>46</td>\n",
       "      <td>1</td>\n",
       "      <td>Femenino</td>\n",
       "    </tr>\n",
       "    <tr>\n",
       "      <th>6</th>\n",
       "      <td>nombre_36</td>\n",
       "      <td>apellidos_27</td>\n",
       "      <td>19</td>\n",
       "      <td>1</td>\n",
       "      <td>Femenino</td>\n",
       "    </tr>\n",
       "    <tr>\n",
       "      <th>7</th>\n",
       "      <td>nombre_2</td>\n",
       "      <td>apellidos_27</td>\n",
       "      <td>50</td>\n",
       "      <td>1</td>\n",
       "      <td>Femenino</td>\n",
       "    </tr>\n",
       "    <tr>\n",
       "      <th>8</th>\n",
       "      <td>nombre_27</td>\n",
       "      <td>apellidos_37</td>\n",
       "      <td>28</td>\n",
       "      <td>0</td>\n",
       "      <td>Masculino</td>\n",
       "    </tr>\n",
       "    <tr>\n",
       "      <th>9</th>\n",
       "      <td>nombre_30</td>\n",
       "      <td>apellidos_31</td>\n",
       "      <td>18</td>\n",
       "      <td>1</td>\n",
       "      <td>Femenino</td>\n",
       "    </tr>\n",
       "    <tr>\n",
       "      <th>10</th>\n",
       "      <td>nombre_5</td>\n",
       "      <td>apellidos_35</td>\n",
       "      <td>35</td>\n",
       "      <td>0</td>\n",
       "      <td>Masculino</td>\n",
       "    </tr>\n",
       "    <tr>\n",
       "      <th>11</th>\n",
       "      <td>nombre_47</td>\n",
       "      <td>apellidos_4</td>\n",
       "      <td>19</td>\n",
       "      <td>0</td>\n",
       "      <td>Masculino</td>\n",
       "    </tr>\n",
       "    <tr>\n",
       "      <th>12</th>\n",
       "      <td>nombre_22</td>\n",
       "      <td>apellidos_18</td>\n",
       "      <td>18</td>\n",
       "      <td>1</td>\n",
       "      <td>Femenino</td>\n",
       "    </tr>\n",
       "    <tr>\n",
       "      <th>13</th>\n",
       "      <td>nombre_43</td>\n",
       "      <td>apellidos_7</td>\n",
       "      <td>50</td>\n",
       "      <td>0</td>\n",
       "      <td>Masculino</td>\n",
       "    </tr>\n",
       "    <tr>\n",
       "      <th>14</th>\n",
       "      <td>nombre_47</td>\n",
       "      <td>apellidos_3</td>\n",
       "      <td>33</td>\n",
       "      <td>0</td>\n",
       "      <td>Masculino</td>\n",
       "    </tr>\n",
       "    <tr>\n",
       "      <th>15</th>\n",
       "      <td>nombre_21</td>\n",
       "      <td>apellidos_24</td>\n",
       "      <td>30</td>\n",
       "      <td>1</td>\n",
       "      <td>Femenino</td>\n",
       "    </tr>\n",
       "    <tr>\n",
       "      <th>16</th>\n",
       "      <td>nombre_15</td>\n",
       "      <td>apellidos_49</td>\n",
       "      <td>27</td>\n",
       "      <td>0</td>\n",
       "      <td>Masculino</td>\n",
       "    </tr>\n",
       "    <tr>\n",
       "      <th>17</th>\n",
       "      <td>nombre_32</td>\n",
       "      <td>apellidos_35</td>\n",
       "      <td>29</td>\n",
       "      <td>1</td>\n",
       "      <td>Femenino</td>\n",
       "    </tr>\n",
       "    <tr>\n",
       "      <th>18</th>\n",
       "      <td>nombre_27</td>\n",
       "      <td>apellidos_43</td>\n",
       "      <td>39</td>\n",
       "      <td>1</td>\n",
       "      <td>Femenino</td>\n",
       "    </tr>\n",
       "    <tr>\n",
       "      <th>19</th>\n",
       "      <td>nombre_49</td>\n",
       "      <td>apellidos_25</td>\n",
       "      <td>28</td>\n",
       "      <td>0</td>\n",
       "      <td>Masculino</td>\n",
       "    </tr>\n",
       "    <tr>\n",
       "      <th>20</th>\n",
       "      <td>nombre_45</td>\n",
       "      <td>apellidos_50</td>\n",
       "      <td>33</td>\n",
       "      <td>1</td>\n",
       "      <td>Femenino</td>\n",
       "    </tr>\n",
       "  </tbody>\n",
       "</table>\n",
       "</div>"
      ],
      "text/plain": [
       "       nombre     apellidos  edad  sexo SexoModificado1\n",
       "0   nombre_45  apellidos_36    22     1        Femenino\n",
       "1   nombre_18  apellidos_26    39     0       Masculino\n",
       "2   nombre_25   apellidos_2    19     0       Masculino\n",
       "3    nombre_6  apellidos_15    47     1        Femenino\n",
       "4   nombre_35  apellidos_14    36     0       Masculino\n",
       "5   nombre_35  apellidos_35    46     1        Femenino\n",
       "6   nombre_36  apellidos_27    19     1        Femenino\n",
       "7    nombre_2  apellidos_27    50     1        Femenino\n",
       "8   nombre_27  apellidos_37    28     0       Masculino\n",
       "9   nombre_30  apellidos_31    18     1        Femenino\n",
       "10   nombre_5  apellidos_35    35     0       Masculino\n",
       "11  nombre_47   apellidos_4    19     0       Masculino\n",
       "12  nombre_22  apellidos_18    18     1        Femenino\n",
       "13  nombre_43   apellidos_7    50     0       Masculino\n",
       "14  nombre_47   apellidos_3    33     0       Masculino\n",
       "15  nombre_21  apellidos_24    30     1        Femenino\n",
       "16  nombre_15  apellidos_49    27     0       Masculino\n",
       "17  nombre_32  apellidos_35    29     1        Femenino\n",
       "18  nombre_27  apellidos_43    39     1        Femenino\n",
       "19  nombre_49  apellidos_25    28     0       Masculino\n",
       "20  nombre_45  apellidos_50    33     1        Femenino"
      ]
     },
     "execution_count": 96,
     "metadata": {},
     "output_type": "execute_result"
    }
   ],
   "source": [
    "df['SexoModificado1'] = df['sexo'].apply(lambda x: modificarSexo(x))\n",
    "df"
   ]
  },
  {
   "cell_type": "code",
   "execution_count": 97,
   "metadata": {},
   "outputs": [
    {
     "data": {
      "text/html": [
       "<div>\n",
       "<style scoped>\n",
       "    .dataframe tbody tr th:only-of-type {\n",
       "        vertical-align: middle;\n",
       "    }\n",
       "\n",
       "    .dataframe tbody tr th {\n",
       "        vertical-align: top;\n",
       "    }\n",
       "\n",
       "    .dataframe thead th {\n",
       "        text-align: right;\n",
       "    }\n",
       "</style>\n",
       "<table border=\"1\" class=\"dataframe\">\n",
       "  <thead>\n",
       "    <tr style=\"text-align: right;\">\n",
       "      <th></th>\n",
       "      <th>nombre</th>\n",
       "      <th>apellidos</th>\n",
       "      <th>edad</th>\n",
       "      <th>sexo</th>\n",
       "      <th>SexoModificado1</th>\n",
       "      <th>SexoModificado2</th>\n",
       "    </tr>\n",
       "  </thead>\n",
       "  <tbody>\n",
       "    <tr>\n",
       "      <th>0</th>\n",
       "      <td>nombre_45</td>\n",
       "      <td>apellidos_36</td>\n",
       "      <td>22</td>\n",
       "      <td>1</td>\n",
       "      <td>Femenino</td>\n",
       "      <td>Femenio</td>\n",
       "    </tr>\n",
       "    <tr>\n",
       "      <th>1</th>\n",
       "      <td>nombre_18</td>\n",
       "      <td>apellidos_26</td>\n",
       "      <td>39</td>\n",
       "      <td>0</td>\n",
       "      <td>Masculino</td>\n",
       "      <td>Masculino</td>\n",
       "    </tr>\n",
       "    <tr>\n",
       "      <th>2</th>\n",
       "      <td>nombre_25</td>\n",
       "      <td>apellidos_2</td>\n",
       "      <td>19</td>\n",
       "      <td>0</td>\n",
       "      <td>Masculino</td>\n",
       "      <td>Masculino</td>\n",
       "    </tr>\n",
       "    <tr>\n",
       "      <th>3</th>\n",
       "      <td>nombre_6</td>\n",
       "      <td>apellidos_15</td>\n",
       "      <td>47</td>\n",
       "      <td>1</td>\n",
       "      <td>Femenino</td>\n",
       "      <td>Femenio</td>\n",
       "    </tr>\n",
       "    <tr>\n",
       "      <th>4</th>\n",
       "      <td>nombre_35</td>\n",
       "      <td>apellidos_14</td>\n",
       "      <td>36</td>\n",
       "      <td>0</td>\n",
       "      <td>Masculino</td>\n",
       "      <td>Masculino</td>\n",
       "    </tr>\n",
       "    <tr>\n",
       "      <th>5</th>\n",
       "      <td>nombre_35</td>\n",
       "      <td>apellidos_35</td>\n",
       "      <td>46</td>\n",
       "      <td>1</td>\n",
       "      <td>Femenino</td>\n",
       "      <td>Femenio</td>\n",
       "    </tr>\n",
       "    <tr>\n",
       "      <th>6</th>\n",
       "      <td>nombre_36</td>\n",
       "      <td>apellidos_27</td>\n",
       "      <td>19</td>\n",
       "      <td>1</td>\n",
       "      <td>Femenino</td>\n",
       "      <td>Femenio</td>\n",
       "    </tr>\n",
       "    <tr>\n",
       "      <th>7</th>\n",
       "      <td>nombre_2</td>\n",
       "      <td>apellidos_27</td>\n",
       "      <td>50</td>\n",
       "      <td>1</td>\n",
       "      <td>Femenino</td>\n",
       "      <td>Femenio</td>\n",
       "    </tr>\n",
       "    <tr>\n",
       "      <th>8</th>\n",
       "      <td>nombre_27</td>\n",
       "      <td>apellidos_37</td>\n",
       "      <td>28</td>\n",
       "      <td>0</td>\n",
       "      <td>Masculino</td>\n",
       "      <td>Masculino</td>\n",
       "    </tr>\n",
       "    <tr>\n",
       "      <th>9</th>\n",
       "      <td>nombre_30</td>\n",
       "      <td>apellidos_31</td>\n",
       "      <td>18</td>\n",
       "      <td>1</td>\n",
       "      <td>Femenino</td>\n",
       "      <td>Femenio</td>\n",
       "    </tr>\n",
       "    <tr>\n",
       "      <th>10</th>\n",
       "      <td>nombre_5</td>\n",
       "      <td>apellidos_35</td>\n",
       "      <td>35</td>\n",
       "      <td>0</td>\n",
       "      <td>Masculino</td>\n",
       "      <td>Masculino</td>\n",
       "    </tr>\n",
       "    <tr>\n",
       "      <th>11</th>\n",
       "      <td>nombre_47</td>\n",
       "      <td>apellidos_4</td>\n",
       "      <td>19</td>\n",
       "      <td>0</td>\n",
       "      <td>Masculino</td>\n",
       "      <td>Masculino</td>\n",
       "    </tr>\n",
       "    <tr>\n",
       "      <th>12</th>\n",
       "      <td>nombre_22</td>\n",
       "      <td>apellidos_18</td>\n",
       "      <td>18</td>\n",
       "      <td>1</td>\n",
       "      <td>Femenino</td>\n",
       "      <td>Femenio</td>\n",
       "    </tr>\n",
       "    <tr>\n",
       "      <th>13</th>\n",
       "      <td>nombre_43</td>\n",
       "      <td>apellidos_7</td>\n",
       "      <td>50</td>\n",
       "      <td>0</td>\n",
       "      <td>Masculino</td>\n",
       "      <td>Masculino</td>\n",
       "    </tr>\n",
       "    <tr>\n",
       "      <th>14</th>\n",
       "      <td>nombre_47</td>\n",
       "      <td>apellidos_3</td>\n",
       "      <td>33</td>\n",
       "      <td>0</td>\n",
       "      <td>Masculino</td>\n",
       "      <td>Masculino</td>\n",
       "    </tr>\n",
       "    <tr>\n",
       "      <th>15</th>\n",
       "      <td>nombre_21</td>\n",
       "      <td>apellidos_24</td>\n",
       "      <td>30</td>\n",
       "      <td>1</td>\n",
       "      <td>Femenino</td>\n",
       "      <td>Femenio</td>\n",
       "    </tr>\n",
       "    <tr>\n",
       "      <th>16</th>\n",
       "      <td>nombre_15</td>\n",
       "      <td>apellidos_49</td>\n",
       "      <td>27</td>\n",
       "      <td>0</td>\n",
       "      <td>Masculino</td>\n",
       "      <td>Masculino</td>\n",
       "    </tr>\n",
       "    <tr>\n",
       "      <th>17</th>\n",
       "      <td>nombre_32</td>\n",
       "      <td>apellidos_35</td>\n",
       "      <td>29</td>\n",
       "      <td>1</td>\n",
       "      <td>Femenino</td>\n",
       "      <td>Femenio</td>\n",
       "    </tr>\n",
       "    <tr>\n",
       "      <th>18</th>\n",
       "      <td>nombre_27</td>\n",
       "      <td>apellidos_43</td>\n",
       "      <td>39</td>\n",
       "      <td>1</td>\n",
       "      <td>Femenino</td>\n",
       "      <td>Femenio</td>\n",
       "    </tr>\n",
       "    <tr>\n",
       "      <th>19</th>\n",
       "      <td>nombre_49</td>\n",
       "      <td>apellidos_25</td>\n",
       "      <td>28</td>\n",
       "      <td>0</td>\n",
       "      <td>Masculino</td>\n",
       "      <td>Masculino</td>\n",
       "    </tr>\n",
       "    <tr>\n",
       "      <th>20</th>\n",
       "      <td>nombre_45</td>\n",
       "      <td>apellidos_50</td>\n",
       "      <td>33</td>\n",
       "      <td>1</td>\n",
       "      <td>Femenino</td>\n",
       "      <td>Femenio</td>\n",
       "    </tr>\n",
       "  </tbody>\n",
       "</table>\n",
       "</div>"
      ],
      "text/plain": [
       "       nombre     apellidos  edad  sexo SexoModificado1 SexoModificado2\n",
       "0   nombre_45  apellidos_36    22     1        Femenino         Femenio\n",
       "1   nombre_18  apellidos_26    39     0       Masculino       Masculino\n",
       "2   nombre_25   apellidos_2    19     0       Masculino       Masculino\n",
       "3    nombre_6  apellidos_15    47     1        Femenino         Femenio\n",
       "4   nombre_35  apellidos_14    36     0       Masculino       Masculino\n",
       "5   nombre_35  apellidos_35    46     1        Femenino         Femenio\n",
       "6   nombre_36  apellidos_27    19     1        Femenino         Femenio\n",
       "7    nombre_2  apellidos_27    50     1        Femenino         Femenio\n",
       "8   nombre_27  apellidos_37    28     0       Masculino       Masculino\n",
       "9   nombre_30  apellidos_31    18     1        Femenino         Femenio\n",
       "10   nombre_5  apellidos_35    35     0       Masculino       Masculino\n",
       "11  nombre_47   apellidos_4    19     0       Masculino       Masculino\n",
       "12  nombre_22  apellidos_18    18     1        Femenino         Femenio\n",
       "13  nombre_43   apellidos_7    50     0       Masculino       Masculino\n",
       "14  nombre_47   apellidos_3    33     0       Masculino       Masculino\n",
       "15  nombre_21  apellidos_24    30     1        Femenino         Femenio\n",
       "16  nombre_15  apellidos_49    27     0       Masculino       Masculino\n",
       "17  nombre_32  apellidos_35    29     1        Femenino         Femenio\n",
       "18  nombre_27  apellidos_43    39     1        Femenino         Femenio\n",
       "19  nombre_49  apellidos_25    28     0       Masculino       Masculino\n",
       "20  nombre_45  apellidos_50    33     1        Femenino         Femenio"
      ]
     },
     "execution_count": 97,
     "metadata": {},
     "output_type": "execute_result"
    }
   ],
   "source": [
    "df['SexoModificado2'] = df['sexo'].apply(lambda x: \"Femenio\" if x ==1 else \"Masculino\")\n",
    "df"
   ]
  },
  {
   "cell_type": "code",
   "execution_count": 99,
   "metadata": {},
   "outputs": [],
   "source": [
    "df.to_excel(\"DataDeEncuesta.xlsx\", index=False)"
   ]
  },
  {
   "cell_type": "markdown",
   "metadata": {},
   "source": [
    "# Conjuntos - set\n",
    "\n",
    "- Union ( | )\n",
    "- Interserccion ( & )\n",
    "- Diferencia ( - )\n",
    "- Diferencia Simetrica ( ^ )"
   ]
  },
  {
   "cell_type": "code",
   "execution_count": 100,
   "metadata": {},
   "outputs": [
    {
     "name": "stdout",
     "output_type": "stream",
     "text": [
      "{3, 4, 5, 6, 7, 23}\n",
      "{1, 3, 4, 5, 22}\n"
     ]
    }
   ],
   "source": [
    "conjuntos = {23, 3, 4, 5, 6, 7, 5}\n",
    "conjuntos1 = {3, 4, 22, 5, 1}\n",
    "\n",
    "\n",
    "print(conjuntos)\n",
    "print(conjuntos1)"
   ]
  },
  {
   "cell_type": "code",
   "execution_count": 102,
   "metadata": {},
   "outputs": [
    {
     "name": "stdout",
     "output_type": "stream",
     "text": [
      "{1, 3, 4, 5, 22, 55}\n"
     ]
    }
   ],
   "source": [
    "#add\n",
    "\n",
    "conjuntos1.add(55)\n",
    "print(conjuntos1)"
   ]
  },
  {
   "cell_type": "code",
   "execution_count": 103,
   "metadata": {},
   "outputs": [
    {
     "name": "stdout",
     "output_type": "stream",
     "text": [
      "{3, 4, 5, 7, 23}\n"
     ]
    }
   ],
   "source": [
    "#Remove\n",
    "\n",
    "conjuntos.remove(6)\n",
    "print(conjuntos)"
   ]
  },
  {
   "cell_type": "code",
   "execution_count": 104,
   "metadata": {},
   "outputs": [
    {
     "name": "stdout",
     "output_type": "stream",
     "text": [
      "{1, 3, 4, 5, 7, 23, 22, 55}\n"
     ]
    }
   ],
   "source": [
    "#Union\n",
    "print(conjuntos1 | conjuntos)"
   ]
  },
  {
   "cell_type": "code",
   "execution_count": 106,
   "metadata": {},
   "outputs": [
    {
     "name": "stdout",
     "output_type": "stream",
     "text": [
      "{3, 4, 5}\n",
      "{3, 4, 5}\n"
     ]
    }
   ],
   "source": [
    "#Interserccion \n",
    "print(conjuntos1 & conjuntos)\n",
    "print(conjuntos & conjuntos1)"
   ]
  },
  {
   "cell_type": "code",
   "execution_count": 107,
   "metadata": {},
   "outputs": [
    {
     "name": "stdout",
     "output_type": "stream",
     "text": [
      "{1, 22, 55}\n",
      "{23, 7}\n"
     ]
    }
   ],
   "source": [
    "#Diferencia \n",
    "print(conjuntos1 - conjuntos)\n",
    "print(conjuntos -  conjuntos1)"
   ]
  },
  {
   "cell_type": "code",
   "execution_count": 108,
   "metadata": {},
   "outputs": [
    {
     "name": "stdout",
     "output_type": "stream",
     "text": [
      "{1, 55, 23, 7, 22}\n"
     ]
    }
   ],
   "source": [
    "#Diferencia Simetrica\n",
    "print(conjuntos1 ^ conjuntos)\n"
   ]
  },
  {
   "cell_type": "code",
   "execution_count": 111,
   "metadata": {},
   "outputs": [],
   "source": [
    "# Bases de datos\n",
    "\n",
    "\n",
    "A = {\"Nombre\", \"Apellidos\", \"Edad\"}\n",
    "B = {\"Nombre\", \"Edad\", \"Telefono\"}\n",
    "C = {\"Edad\", \"Apellidos\"}"
   ]
  },
  {
   "cell_type": "code",
   "execution_count": 112,
   "metadata": {},
   "outputs": [
    {
     "data": {
      "text/plain": [
       "{'Nombre', 'Telefono'}"
      ]
     },
     "execution_count": 112,
     "metadata": {},
     "output_type": "execute_result"
    }
   ],
   "source": [
    "B - C"
   ]
  },
  {
   "cell_type": "code",
   "execution_count": 113,
   "metadata": {},
   "outputs": [
    {
     "data": {
      "text/plain": [
       "{'Apellidos'}"
      ]
     },
     "execution_count": 113,
     "metadata": {},
     "output_type": "execute_result"
    }
   ],
   "source": [
    "C - B"
   ]
  },
  {
   "cell_type": "code",
   "execution_count": 118,
   "metadata": {},
   "outputs": [
    {
     "data": {
      "text/plain": [
       "{'Apellidos', 'Edad', 'Nombre', 'Telefono'}"
      ]
     },
     "execution_count": 118,
     "metadata": {},
     "output_type": "execute_result"
    }
   ],
   "source": [
    "(B | A) | (C - B)"
   ]
  },
  {
   "cell_type": "code",
   "execution_count": 123,
   "metadata": {},
   "outputs": [
    {
     "data": {
      "text/html": [
       "<div>\n",
       "<style scoped>\n",
       "    .dataframe tbody tr th:only-of-type {\n",
       "        vertical-align: middle;\n",
       "    }\n",
       "\n",
       "    .dataframe tbody tr th {\n",
       "        vertical-align: top;\n",
       "    }\n",
       "\n",
       "    .dataframe thead th {\n",
       "        text-align: right;\n",
       "    }\n",
       "</style>\n",
       "<table border=\"1\" class=\"dataframe\">\n",
       "  <thead>\n",
       "    <tr style=\"text-align: right;\">\n",
       "      <th></th>\n",
       "      <th>id</th>\n",
       "      <th>nombre_x</th>\n",
       "      <th>nombre_y</th>\n",
       "    </tr>\n",
       "  </thead>\n",
       "  <tbody>\n",
       "    <tr>\n",
       "      <th>0</th>\n",
       "      <td>3</td>\n",
       "      <td>df2</td>\n",
       "      <td>df3</td>\n",
       "    </tr>\n",
       "    <tr>\n",
       "      <th>1</th>\n",
       "      <td>4</td>\n",
       "      <td>df2-1</td>\n",
       "      <td>df3-1</td>\n",
       "    </tr>\n",
       "  </tbody>\n",
       "</table>\n",
       "</div>"
      ],
      "text/plain": [
       "   id nombre_x nombre_y\n",
       "0   3      df2      df3\n",
       "1   4    df2-1    df3-1"
      ]
     },
     "execution_count": 123,
     "metadata": {},
     "output_type": "execute_result"
    }
   ],
   "source": [
    "df2 = DataFrame({\"id\": [3, 4, 5, 6], \"nombre\": ['df2', 'df2-1', 'c', 'd']})\n",
    "df3 = DataFrame({\"id\": [3, 4, 7, 8], \"nombre\": ['df3', 'df3-1', 'f', 'g']})\n",
    "\n",
    "\n",
    "df2.merge(df3, on='id')"
   ]
  },
  {
   "cell_type": "code",
   "execution_count": 126,
   "metadata": {},
   "outputs": [
    {
     "data": {
      "text/html": [
       "<div>\n",
       "<style scoped>\n",
       "    .dataframe tbody tr th:only-of-type {\n",
       "        vertical-align: middle;\n",
       "    }\n",
       "\n",
       "    .dataframe tbody tr th {\n",
       "        vertical-align: top;\n",
       "    }\n",
       "\n",
       "    .dataframe thead th {\n",
       "        text-align: right;\n",
       "    }\n",
       "</style>\n",
       "<table border=\"1\" class=\"dataframe\">\n",
       "  <thead>\n",
       "    <tr style=\"text-align: right;\">\n",
       "      <th></th>\n",
       "      <th>id</th>\n",
       "      <th>nombre_x</th>\n",
       "      <th>nombre_y</th>\n",
       "    </tr>\n",
       "  </thead>\n",
       "  <tbody>\n",
       "    <tr>\n",
       "      <th>0</th>\n",
       "      <td>3</td>\n",
       "      <td>df3</td>\n",
       "      <td>df2</td>\n",
       "    </tr>\n",
       "    <tr>\n",
       "      <th>1</th>\n",
       "      <td>4</td>\n",
       "      <td>df3-1</td>\n",
       "      <td>df2-1</td>\n",
       "    </tr>\n",
       "    <tr>\n",
       "      <th>2</th>\n",
       "      <td>7</td>\n",
       "      <td>f</td>\n",
       "      <td>NaN</td>\n",
       "    </tr>\n",
       "    <tr>\n",
       "      <th>3</th>\n",
       "      <td>8</td>\n",
       "      <td>g</td>\n",
       "      <td>NaN</td>\n",
       "    </tr>\n",
       "  </tbody>\n",
       "</table>\n",
       "</div>"
      ],
      "text/plain": [
       "   id nombre_x nombre_y\n",
       "0   3      df3      df2\n",
       "1   4    df3-1    df2-1\n",
       "2   7        f      NaN\n",
       "3   8        g      NaN"
      ]
     },
     "execution_count": 126,
     "metadata": {},
     "output_type": "execute_result"
    }
   ],
   "source": [
    "df3.merge(df2, on='id', how='left')"
   ]
  },
  {
   "cell_type": "code",
   "execution_count": 127,
   "metadata": {},
   "outputs": [],
   "source": [
    "import numpy as np\n",
    "import pandas as pd"
   ]
  },
  {
   "cell_type": "code",
   "execution_count": 131,
   "metadata": {},
   "outputs": [
    {
     "data": {
      "text/plain": [
       "0     1.0\n",
       "1     2.0\n",
       "2     3.0\n",
       "3     NaN\n",
       "4     6.0\n",
       "5     7.0\n",
       "6     8.0\n",
       "7    10.0\n",
       "dtype: float64"
      ]
     },
     "execution_count": 131,
     "metadata": {},
     "output_type": "execute_result"
    }
   ],
   "source": [
    "s = pd.Series([1, 2, 3, np.nan, 6, 7, 8, 10])\n",
    "s\n",
    "#Esta funcion Series, es diferente a la Datafreme\n",
    "#La diferencia es que solo esta admite una sola columan.\n",
    "#En la misma, se incluyo valor faltante como lo es np.nan (None, null)"
   ]
  }
 ],
 "metadata": {
  "kernelspec": {
   "display_name": "Python 3",
   "language": "python",
   "name": "python3"
  },
  "language_info": {
   "codemirror_mode": {
    "name": "ipython",
    "version": 3
   },
   "file_extension": ".py",
   "mimetype": "text/x-python",
   "name": "python",
   "nbconvert_exporter": "python",
   "pygments_lexer": "ipython3",
   "version": "3.12.1"
  }
 },
 "nbformat": 4,
 "nbformat_minor": 2
}
