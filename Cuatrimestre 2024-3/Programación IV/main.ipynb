{
 "cells": [
  {
   "cell_type": "markdown",
   "metadata": {},
   "source": [
    "# Tipos de Variables\n",
    "\n",
    "* Primitivas\\\n",
    "        Son todos aquellos que pueden almacenar un unico tipo de valor\n",
    "    - String \" \", ' '\n",
    "    - Integer $\\mathbb{R}^{+}$\n",
    "    - Floante\n",
    "    - Booleanos\n",
    "    - Complejos\n",
    "* Colectoras\\\n",
    "    Son todas aquellas estructuras que pueden almacenar N cantidad de datos e incluso ella misma.\n",
    "    ### _Mutable_\n",
    "        Son mutables aquellas estructuras que pueden ser modificada despues de haber sido creadas.\n",
    "    \n",
    "    - Listas []\n",
    "        - Vectores\n",
    "            - Vectores Filas [ ]\n",
    "            - Vectores Columnas [ [ ], [ ], [ ] ]\n",
    "        - Matrices\n",
    "            [ [ [ ], [ ], [ ] ],\n",
    "              [ [ ], [ ], [ ] ], \n",
    "              [ [ ], [ ], [ ] ]]\n",
    "    - Diccionarios {key: value}\n",
    "\n",
    "    ### _Inmutable_\n",
    "        Son mutables aquellas estructuras que no pueden ser modificada despues de haber sido creadas.\n",
    "        - Tuplas ()\n",
    "        - Conjuntos { }"
   ]
  },
  {
   "cell_type": "markdown",
   "metadata": {},
   "source": [
    "#### Palabras Reservas - Python"
   ]
  },
  {
   "cell_type": "code",
   "execution_count": 2,
   "metadata": {},
   "outputs": [
    {
     "name": "stdout",
     "output_type": "stream",
     "text": [
      "['False', 'None', 'True', 'and', 'as', 'assert', 'async', 'await', 'break', 'class', 'continue', 'def', 'del', 'elif', 'else', 'except', 'finally', 'for', 'from', 'global', 'if', 'import', 'in', 'is', 'lambda', 'nonlocal', 'not', 'or', 'pass', 'raise', 'return', 'try', 'while', 'with', 'yield']\n"
     ]
    }
   ],
   "source": [
    "from keyword import  kwlist\n",
    "\n",
    "print(kwlist)"
   ]
  },
  {
   "cell_type": "markdown",
   "metadata": {},
   "source": [
    "### Creacion de variables\n",
    "\n",
    "- Buenas Practicas\n",
    "    - ejemplo\n",
    "    - _ejemplo\n",
    "    - ejemploEjemplo\n",
    "    - ejemplo_ejemplo\n",
    "\n",
    "- Mala Practicas\n",
    "    - 1ejemplo\n",
    "    - $ejemplo\n",
    "    - PALABRA RESERVAS"
   ]
  },
  {
   "cell_type": "code",
   "execution_count": 5,
   "metadata": {},
   "outputs": [],
   "source": [
    "#String\n",
    "nombre = \"Jean Charly\"\n",
    "apellido = 'Joseph S'\n",
    "\n",
    "#Enteros\n",
    "edad = 32\n",
    "cantidad = 1_000_000\n",
    "\n",
    "#Float\n",
    "pi = 3.14\n",
    "altura = 1.5\n",
    "\n",
    "#Complejo\n",
    "c = 43j\n",
    "\n",
    "#Booleanos\n",
    "sexo =  True   #Femenino\n",
    "sexo1 = False #Masculino"
   ]
  },
  {
   "cell_type": "code",
   "execution_count": 16,
   "metadata": {},
   "outputs": [
    {
     "name": "stdout",
     "output_type": "stream",
     "text": [
      "Jean Charly Joseph S\n",
      "Jean Charly Joseph S\n",
      "Jean Charly Joseph S\n",
      "Jean Charly Joseph S\n",
      "Jean Charly Joseph S\n",
      "Jean Charly Joseph S\n"
     ]
    }
   ],
   "source": [
    "#String\n",
    "\n",
    "print(nombre, apellido)\n",
    "\n",
    "#Concatenar\n",
    "\n",
    "###Forma1\n",
    "nombreCompleto = nombre + \" \" + apellido\n",
    "print(nombreCompleto)\n",
    "\n",
    "###Forma2\n",
    "nombreCompleto1 = f'{nombre} {apellido}'\n",
    "print(nombreCompleto1)\n",
    "\n",
    "###Forma3\n",
    "nombreCompleto2 = \"{} {}\".format(nombre, apellido)\n",
    "print(nombreCompleto2)\n",
    "\n",
    "###Forma4\n",
    "nombreCompleto3 = \"%s %s\"%(nombre, apellido)\n",
    "print(nombreCompleto3)\n",
    "\n",
    "###Forma5\n",
    "nombreCompleto4 = \" \".join([nombre, apellido])\n",
    "print(nombreCompleto4)"
   ]
  },
  {
   "cell_type": "code",
   "execution_count": 17,
   "metadata": {},
   "outputs": [
    {
     "data": {
      "text/plain": [
       "'Nikola Joseph S'"
      ]
     },
     "execution_count": 17,
     "metadata": {},
     "output_type": "execute_result"
    }
   ],
   "source": [
    "#String\n",
    "nombreCompleto4.replace(\"Jean Charly\", \"Nikola\")"
   ]
  },
  {
   "cell_type": "code",
   "execution_count": 18,
   "metadata": {},
   "outputs": [
    {
     "name": "stdout",
     "output_type": "stream",
     "text": [
      "24 43 -34\n"
     ]
    }
   ],
   "source": [
    "#Factores Numericos\n",
    "\n",
    "#### Metodo1\n",
    "\n",
    "a = 24\n",
    "b = 43\n",
    "c = -34\n",
    "\n",
    "#### Metodo2\n",
    "a = 24; b = 43; c = -34\n",
    "\n",
    "#### Metodo3\n",
    "\n",
    "a, b, c = 24, 43, -34\n",
    "print(a, b, c)"
   ]
  },
  {
   "cell_type": "code",
   "execution_count": 19,
   "metadata": {},
   "outputs": [
    {
     "name": "stdout",
     "output_type": "stream",
     "text": [
      "Suma:  67\n",
      "Resta:  58\n",
      "Mult:  1032\n",
      "Multi1:  -2278\n",
      "Division:  -0.7058823529411765\n",
      "Division:  -1\n",
      "Exponente:  576\n",
      "Compleja:  (24+43j)\n"
     ]
    }
   ],
   "source": [
    "#Operaciones Aritmeticas\n",
    "\n",
    "print(\"Suma: \", a + b)\n",
    "print(\"Resta: \", a - c)\n",
    "print(\"Mult: \", a * b)\n",
    "print(\"Multi1: \", (a + b) * c)\n",
    "print(\"Division: \", a / c) #Mayor que cero\n",
    "print(\"Division: \", a // c)\n",
    "print(\"Exponente: \", a ** 2)\n",
    "print(\"Compleja: \", a + 43j)"
   ]
  },
  {
   "cell_type": "markdown",
   "metadata": {},
   "source": [
    "## Colectoras\n",
    "* Tomaña   -> len(elemento)\n",
    "* Indice   -> elemento[n]\n",
    "* Iterable -> elemento[i]> 0\n",
    "* Slices   -> \n",
    "    - [:a]\n",
    "    - [a:]\n",
    "    - [a:b]\n",
    "    - [:]"
   ]
  },
  {
   "cell_type": "code",
   "execution_count": 24,
   "metadata": {},
   "outputs": [
    {
     "name": "stdout",
     "output_type": "stream",
     "text": [
      "['Jean Charly', 'Joseph S', 32, 4j, None, []]\n",
      "Tamaño:  6\n",
      "Joseph S\n",
      "Joseph S\n"
     ]
    }
   ],
   "source": [
    "elementos = [nombre, apellido, edad, 4j, None, []]\n",
    "print(elementos)\n",
    "\n",
    "#Tamaño\n",
    "print(\"Tamaño: \", len(elementos))\n",
    "\n",
    "#Indice\n",
    "print(elementos[1])\n",
    "print(elementos[-5])"
   ]
  },
  {
   "cell_type": "code",
   "execution_count": 32,
   "metadata": {},
   "outputs": [
    {
     "name": "stdout",
     "output_type": "stream",
     "text": [
      "['Jean Charly', 'Joseph S']\n",
      "[32, 4j, None, []]\n",
      "[32, 4j]\n",
      "['Jean Charly', 'Joseph S', 32, 4j, None, []]\n"
     ]
    }
   ],
   "source": [
    "#Slices\n",
    "#### elemento[:a]; elemento[a:]; elemento[a:b]; elemento[:]\n",
    "\n",
    "#[:a]\n",
    "print(elementos[:2])\n",
    "\n",
    "#[a:]\n",
    "print(elementos[2:])\n",
    "\n",
    "#[a:b]\n",
    "print(elementos[2:4])\n",
    "\n",
    "#[:]\n",
    "print(elementos)"
   ]
  },
  {
   "cell_type": "code",
   "execution_count": 33,
   "metadata": {},
   "outputs": [
    {
     "data": {
      "text/plain": [
       "[32, 4j, None, [], 'Jean Charly', 'Joseph S']"
      ]
     },
     "execution_count": 33,
     "metadata": {},
     "output_type": "execute_result"
    }
   ],
   "source": [
    "#Concatenacion\n",
    "elementos[2:] + elementos[:2]"
   ]
  },
  {
   "cell_type": "markdown",
   "metadata": {},
   "source": [
    "## Matrices\n",
    "```\n",
    "    [[2, 3, 4, 5, 6], [44, 23, 22, 42, 22], [23, 23, 22, 50, 32]],\n",
    "    [[44, 23, 22, 42, 22], [23, 23, 22, 50, 32], [2, 3, 4, 5, 6],],\n",
    "    [[2, 3, 4, 5, 6], [23, 23, 22, 50, 32], [23, 23, 22, 50, 32]],\n",
    "```"
   ]
  },
  {
   "cell_type": "code",
   "execution_count": 39,
   "metadata": {},
   "outputs": [
    {
     "name": "stdout",
     "output_type": "stream",
     "text": [
      "[[[  2   3   4   5   6]\n",
      "  [ 44  23  22  42  22]\n",
      "  [ 23  23  22  50  32]]\n",
      "\n",
      " [[ 44  23  22  42  22]\n",
      "  [123  23  22  50  32]\n",
      "  [  2   3   4   5   6]]\n",
      "\n",
      " [[  2   3   4   5   6]\n",
      "  [ 23  23  22  50  32]\n",
      "  [ 23  23  22  50  32]]]\n"
     ]
    }
   ],
   "source": [
    "import numpy as np\n",
    "import matplotlib.pyplot as plt\n",
    "\n",
    "m = np.array([[[2, 3, 4, 5, 6], [44, 23, 22, 42, 22], [23, 23, 22, 50, 32]],\n",
    "    [[44, 23, 22, 42, 22], [123, 23, 22, 50, 32], [2, 3, 4, 5, 6],],\n",
    "    [[2, 3, 4, 5, 6], [23, 23, 22, 50, 32], [23, 23, 22, 50, 32]]])\n",
    "\n",
    "print(m)"
   ]
  },
  {
   "cell_type": "code",
   "execution_count": 46,
   "metadata": {},
   "outputs": [
    {
     "name": "stdout",
     "output_type": "stream",
     "text": [
      "[[ 2  3  4  5  6]\n",
      " [44 23 22 42 22]\n",
      " [ 2  3  4  5  6]]\n"
     ]
    },
    {
     "data": {
      "image/png": "[encoded data removed]",
      "text/plain": [
       "<Figure size 640x480 with 1 Axes>"
      ]
     },
     "metadata": {},
     "output_type": "display_data"
    }
   ],
   "source": [
    "#Filas\n",
    "\n",
    "print(m[:, 0, :])\n",
    "plt.imshow(m[:, 2, :], cmap='grey');plt.show()"
   ]
  },
  {
   "cell_type": "markdown",
   "metadata": {},
   "source": [
    "# Iteración\n",
    "\n",
    "## $$\\sum^{n}_{i=1} x_i$$\n",
    "\n",
    "```\n",
    " - ALGORITMO\n",
    "\n",
    " PARA I HASTA N ENTONCES\n",
    "    IMPRIMIR(elemento[I])\n",
    "```"
   ]
  },
  {
   "cell_type": "code",
   "execution_count": 50,
   "metadata": {},
   "outputs": [
    {
     "name": "stdout",
     "output_type": "stream",
     "text": [
      "0\n",
      "1\n",
      "2\n",
      "3\n",
      "4\n",
      "5\n",
      "6\n",
      "7\n",
      "8\n",
      "9\n",
      "10\n"
     ]
    }
   ],
   "source": [
    "n = 10 \n",
    "\n",
    "for i in range(n+1):\n",
    "    print(i)"
   ]
  },
  {
   "cell_type": "code",
   "execution_count": 60,
   "metadata": {},
   "outputs": [
    {
     "name": "stdout",
     "output_type": "stream",
     "text": [
      "0 * 6\t = 0\n",
      "1 * 6\t = 6\n",
      "2 * 6\t = 12\n",
      "3 * 6\t = 18\n",
      "4 * 6\t = 24\n",
      "5 * 6\t = 30\n",
      "6 * 6\t = 36\n",
      "7 * 6\t = 42\n",
      "8 * 6\t = 48\n",
      "9 * 6\t = 54\n",
      "10 * 6\t = 60\n"
     ]
    }
   ],
   "source": [
    "n = 11\n",
    "numeroTabla = int(input(\"Ingrese la tabla que desea multiplicar: \")) #str(ARGUMENTOS), int, complex, list, tuple\n",
    "\n",
    "for i in range(n):\n",
    "    print(f\"{i} * {numeroTabla}\\t = {i * numeroTabla}\")\n",
    "    # print(\"%s * %s =\\t %d\"%(i, numeroTabla, (i * numeroTabla)))"
   ]
  },
  {
   "cell_type": "code",
   "execution_count": 63,
   "metadata": {},
   "outputs": [
    {
     "name": "stdout",
     "output_type": "stream",
     "text": [
      "Jean Charly\n",
      "Joseph S\n",
      "32\n",
      "4j\n",
      "None\n",
      "[]\n"
     ]
    }
   ],
   "source": [
    "#Mala practica\n",
    "\n",
    "for i in elementos:\n",
    "    print(i)"
   ]
  },
  {
   "cell_type": "code",
   "execution_count": 64,
   "metadata": {},
   "outputs": [
    {
     "name": "stdout",
     "output_type": "stream",
     "text": [
      "Jean Charly\n",
      "Joseph S\n",
      "32\n",
      "4j\n",
      "None\n",
      "[]\n"
     ]
    }
   ],
   "source": [
    "#Buena practica\n",
    "\n",
    "for i in range(len(elementos)):\n",
    "    print(elementos[i]) "
   ]
  },
  {
   "cell_type": "code",
   "execution_count": 65,
   "metadata": {},
   "outputs": [
    {
     "name": "stdout",
     "output_type": "stream",
     "text": [
      "<class 'str'>\n",
      "<class 'str'>\n",
      "<class 'int'>\n",
      "<class 'complex'>\n",
      "<class 'NoneType'>\n",
      "<class 'list'>\n"
     ]
    }
   ],
   "source": [
    "\n",
    "for i in range(len(elementos)):\n",
    "    print(type(elementos[i])) "
   ]
  },
  {
   "cell_type": "markdown",
   "metadata": {},
   "source": [
    "# Control de Flujo\n",
    "\n",
    "```\n",
    "SI (CONDICION) ENTONCES\n",
    "    SENTENCIA\n",
    "SINO\n",
    "    SENTENCIA\n",
    "```\n",
    "\n",
    "Siempre esto sera un booleano\n",
    "\n",
    "#### Proposiciones\n",
    "\n",
    "* Simple\\\n",
    "    Son aquellos enunciados que no poseen conectores\n",
    "* Compuesta\\\n",
    "    Son aquellos enunciados que estan adherido a dos  o mas proposiciones y poseen conectores.\n",
    "\n",
    "\n",
    "### Operadores Logicos\n",
    "```\n",
    "AND         ->      Y       -> &&       -> V = VV\n",
    "OR          ->      O       -> ||       -> V = VF\n",
    "NOT         ->      NO      ->          -> V = F; F = V\n",
    "```\n",
    "\n",
    "### Operadores Comparación\n",
    "```\n",
    "==  Igual que\n",
    "<   Menor que\n",
    ">   Mayor que\n",
    "<=  Menor igual que\n",
    ">=  Mayor igual que\n",
    "!=  Diferencia\n",
    "```"
   ]
  },
  {
   "cell_type": "code",
   "execution_count": 69,
   "metadata": {},
   "outputs": [
    {
     "data": {
      "text/plain": [
       "True"
      ]
     },
     "execution_count": 69,
     "metadata": {},
     "output_type": "execute_result"
    }
   ],
   "source": [
    "#Simple\n",
    "a, b, c = 24, 43, -34\n",
    "\n",
    "(a != b)\n"
   ]
  },
  {
   "cell_type": "code",
   "execution_count": 70,
   "metadata": {},
   "outputs": [
    {
     "data": {
      "text/plain": [
       "False"
      ]
     },
     "execution_count": 70,
     "metadata": {},
     "output_type": "execute_result"
    }
   ],
   "source": [
    "# Compuesta\n",
    "\n",
    "(a > b) and (c != a)\n",
    "#   V          V\n",
    "#        V"
   ]
  },
  {
   "cell_type": "code",
   "execution_count": 72,
   "metadata": {},
   "outputs": [
    {
     "name": "stdout",
     "output_type": "stream",
     "text": [
      "Excelente\n"
     ]
    }
   ],
   "source": [
    "#Control Flujo\n",
    "\n",
    "if (a < b) and (c != a):\n",
    "    print(\"Excelente\")\n",
    "else:\n",
    "    print(\"Vamos de aqui...\")"
   ]
  },
  {
   "cell_type": "code",
   "execution_count": 80,
   "metadata": {},
   "outputs": [
    {
     "data": {
      "text/plain": [
       "[4j]"
      ]
     },
     "execution_count": 80,
     "metadata": {},
     "output_type": "execute_result"
    }
   ],
   "source": [
    "nuevaLista = []\n",
    "\n",
    "for i in range(len(elementos)):\n",
    "    if type(elementos[i]) is complex:\n",
    "        nuevaLista.append(elementos[i])\n",
    "\n",
    "nuevaLista"
   ]
  },
  {
   "cell_type": "markdown",
   "metadata": {},
   "source": [
    "# Excepciones"
   ]
  },
  {
   "cell_type": "code",
   "execution_count": 5,
   "metadata": {},
   "outputs": [
    {
     "name": "stdout",
     "output_type": "stream",
     "text": [
      "No puedes dividir entre cero :(\n"
     ]
    }
   ],
   "source": [
    "num1 = int(input(\"Ingrese un numero: \"))\n",
    "num2 = int(input(\"Ingrese otro numero: \"))\n",
    "\n",
    "try:\n",
    "    print(num1 / num2)\n",
    "except ZeroDivisionError:\n",
    "    print(\"No puedes dividir entre cero :(\")"
   ]
  },
  {
   "cell_type": "markdown",
   "metadata": {},
   "source": [
    "# Diccionarios\n",
    "\n",
    "{Clave: Valor}\n",
    "\n",
    "nombreSemana = {'semana': [\"Lunes', 'Martes', 'Miercoles', ...], 'finSemana': ['Sabado', 'Domingo]}"
   ]
  },
  {
   "cell_type": "code",
   "execution_count": 6,
   "metadata": {},
   "outputs": [
    {
     "name": "stdout",
     "output_type": "stream",
     "text": [
      "{'semana': ['Lunes', 'Martes', 'Miercoles', 'Jueves', 'Viernes']}\n"
     ]
    }
   ],
   "source": [
    "nombreSemana = {'semana': [\"Lunes\", 'Martes', 'Miercoles', \"Jueves\", 'Viernes']}\n",
    "print(nombreSemana)"
   ]
  },
  {
   "cell_type": "code",
   "execution_count": 8,
   "metadata": {},
   "outputs": [
    {
     "name": "stdout",
     "output_type": "stream",
     "text": [
      "['Lunes', 'Martes', 'Miercoles', 'Jueves', 'Viernes']\n"
     ]
    }
   ],
   "source": [
    "print(nombreSemana['semana'])"
   ]
  },
  {
   "cell_type": "code",
   "execution_count": 22,
   "metadata": {},
   "outputs": [
    {
     "name": "stdout",
     "output_type": "stream",
     "text": [
      "['Sabado', 'Domingo']\n"
     ]
    }
   ],
   "source": [
    "nombreSemana['finSemana'] = ['Sabado', 'Domingo']\n",
    "print(nombreSemana['finSemana'])"
   ]
  },
  {
   "cell_type": "code",
   "execution_count": 15,
   "metadata": {},
   "outputs": [
    {
     "name": "stdout",
     "output_type": "stream",
     "text": [
      "{'nombre': [], 'apellidos': [], 'edad': [], 'sexo': []}\n"
     ]
    }
   ],
   "source": [
    "#Diccionario que podemos construir como una base de datos.\n",
    "\n",
    "columnas = ['nombre', 'apellidos', 'edad', 'sexo']\n",
    "\n",
    "#Forma tonta\n",
    "\n",
    "dataset = {}\n",
    "\n",
    "for i in range(len(columnas)):\n",
    "    dataset[columnas[i]] = []\n",
    "\n",
    "print(dataset)"
   ]
  },
  {
   "cell_type": "code",
   "execution_count": 16,
   "metadata": {},
   "outputs": [
    {
     "name": "stdout",
     "output_type": "stream",
     "text": [
      "{'nombre': [], 'apellidos': [], 'edad': [], 'sexo': []}\n"
     ]
    }
   ],
   "source": [
    "#Elegante\n",
    "\n",
    "dataset1 = {columnas[i]: [] for i in range(len(columnas))}\n",
    "print(dataset1)"
   ]
  },
  {
   "cell_type": "code",
   "execution_count": 17,
   "metadata": {},
   "outputs": [],
   "source": [
    "#Funciones Aleatoria\n",
    "from random import randint \n",
    "import pandas as pd"
   ]
  },
  {
   "cell_type": "code",
   "execution_count": 24,
   "metadata": {},
   "outputs": [
    {
     "data": {
      "text/plain": [
       "{'nombre': ['nombre_0',\n",
       "  'nombre_1',\n",
       "  'nombre_2',\n",
       "  'nombre_3',\n",
       "  'nombre_4',\n",
       "  'nombre_5',\n",
       "  'nombre_6',\n",
       "  'nombre_7',\n",
       "  'nombre_8',\n",
       "  'nombre_9',\n",
       "  'nombre_10',\n",
       "  'nombre_11',\n",
       "  'nombre_12',\n",
       "  'nombre_13',\n",
       "  'nombre_14',\n",
       "  'nombre_15',\n",
       "  'nombre_16',\n",
       "  'nombre_17',\n",
       "  'nombre_18',\n",
       "  'nombre_19',\n",
       "  'nombre_20',\n",
       "  'nombre_21',\n",
       "  'nombre_22',\n",
       "  'nombre_23',\n",
       "  'nombre_24',\n",
       "  'nombre_25',\n",
       "  'nombre_26',\n",
       "  'nombre_27',\n",
       "  'nombre_28',\n",
       "  'nombre_29',\n",
       "  'nombre_30',\n",
       "  'nombre_0',\n",
       "  'nombre_1',\n",
       "  'nombre_2',\n",
       "  'nombre_3',\n",
       "  'nombre_4',\n",
       "  'nombre_5',\n",
       "  'nombre_6',\n",
       "  'nombre_7',\n",
       "  'nombre_8',\n",
       "  'nombre_9',\n",
       "  'nombre_10',\n",
       "  'nombre_11',\n",
       "  'nombre_12',\n",
       "  'nombre_13',\n",
       "  'nombre_14',\n",
       "  'nombre_15',\n",
       "  'nombre_16',\n",
       "  'nombre_17',\n",
       "  'nombre_18',\n",
       "  'nombre_19',\n",
       "  'nombre_20',\n",
       "  'nombre_21',\n",
       "  'nombre_22',\n",
       "  'nombre_23',\n",
       "  'nombre_24',\n",
       "  'nombre_25',\n",
       "  'nombre_26',\n",
       "  'nombre_27',\n",
       "  'nombre_28',\n",
       "  'nombre_29',\n",
       "  'nombre_30'],\n",
       " 'apellidos': ['apellidos_0',\n",
       "  'apellidos_1',\n",
       "  'apellidos_2',\n",
       "  'apellidos_3',\n",
       "  'apellidos_4',\n",
       "  'apellidos_5',\n",
       "  'apellidos_6',\n",
       "  'apellidos_7',\n",
       "  'apellidos_8',\n",
       "  'apellidos_9',\n",
       "  'apellidos_10',\n",
       "  'apellidos_11',\n",
       "  'apellidos_12',\n",
       "  'apellidos_13',\n",
       "  'apellidos_14',\n",
       "  'apellidos_15',\n",
       "  'apellidos_16',\n",
       "  'apellidos_17',\n",
       "  'apellidos_18',\n",
       "  'apellidos_19',\n",
       "  'apellidos_20',\n",
       "  'apellidos_21',\n",
       "  'apellidos_22',\n",
       "  'apellidos_23',\n",
       "  'apellidos_24',\n",
       "  'apellidos_25',\n",
       "  'apellidos_26',\n",
       "  'apellidos_27',\n",
       "  'apellidos_28',\n",
       "  'apellidos_29',\n",
       "  'apellidos_30',\n",
       "  'apellidos_0',\n",
       "  'apellidos_1',\n",
       "  'apellidos_2',\n",
       "  'apellidos_3',\n",
       "  'apellidos_4',\n",
       "  'apellidos_5',\n",
       "  'apellidos_6',\n",
       "  'apellidos_7',\n",
       "  'apellidos_8',\n",
       "  'apellidos_9',\n",
       "  'apellidos_10',\n",
       "  'apellidos_11',\n",
       "  'apellidos_12',\n",
       "  'apellidos_13',\n",
       "  'apellidos_14',\n",
       "  'apellidos_15',\n",
       "  'apellidos_16',\n",
       "  'apellidos_17',\n",
       "  'apellidos_18',\n",
       "  'apellidos_19',\n",
       "  'apellidos_20',\n",
       "  'apellidos_21',\n",
       "  'apellidos_22',\n",
       "  'apellidos_23',\n",
       "  'apellidos_24',\n",
       "  'apellidos_25',\n",
       "  'apellidos_26',\n",
       "  'apellidos_27',\n",
       "  'apellidos_28',\n",
       "  'apellidos_29',\n",
       "  'apellidos_30'],\n",
       " 'edad': [49,\n",
       "  50,\n",
       "  55,\n",
       "  33,\n",
       "  24,\n",
       "  39,\n",
       "  30,\n",
       "  49,\n",
       "  36,\n",
       "  37,\n",
       "  56,\n",
       "  24,\n",
       "  27,\n",
       "  42,\n",
       "  40,\n",
       "  43,\n",
       "  22,\n",
       "  29,\n",
       "  53,\n",
       "  47,\n",
       "  18,\n",
       "  46,\n",
       "  42,\n",
       "  27,\n",
       "  36,\n",
       "  46,\n",
       "  48,\n",
       "  41,\n",
       "  43,\n",
       "  58,\n",
       "  47,\n",
       "  40,\n",
       "  34,\n",
       "  33,\n",
       "  22,\n",
       "  32,\n",
       "  56,\n",
       "  19,\n",
       "  28,\n",
       "  53,\n",
       "  41,\n",
       "  44,\n",
       "  56,\n",
       "  47,\n",
       "  37,\n",
       "  32,\n",
       "  31,\n",
       "  52,\n",
       "  37,\n",
       "  37,\n",
       "  47,\n",
       "  39,\n",
       "  58,\n",
       "  29,\n",
       "  19,\n",
       "  33,\n",
       "  44,\n",
       "  38,\n",
       "  57,\n",
       "  38,\n",
       "  45,\n",
       "  57],\n",
       " 'sexo': [1,\n",
       "  1,\n",
       "  1,\n",
       "  1,\n",
       "  1,\n",
       "  1,\n",
       "  0,\n",
       "  0,\n",
       "  0,\n",
       "  1,\n",
       "  0,\n",
       "  1,\n",
       "  1,\n",
       "  0,\n",
       "  1,\n",
       "  1,\n",
       "  1,\n",
       "  0,\n",
       "  0,\n",
       "  0,\n",
       "  0,\n",
       "  1,\n",
       "  0,\n",
       "  1,\n",
       "  1,\n",
       "  1,\n",
       "  0,\n",
       "  1,\n",
       "  1,\n",
       "  1,\n",
       "  1,\n",
       "  0,\n",
       "  1,\n",
       "  0,\n",
       "  1,\n",
       "  1,\n",
       "  1,\n",
       "  0,\n",
       "  0,\n",
       "  1,\n",
       "  0,\n",
       "  0,\n",
       "  1,\n",
       "  1,\n",
       "  1,\n",
       "  1,\n",
       "  1,\n",
       "  1,\n",
       "  0,\n",
       "  1,\n",
       "  1,\n",
       "  0,\n",
       "  0,\n",
       "  0,\n",
       "  0,\n",
       "  1,\n",
       "  0,\n",
       "  1,\n",
       "  1,\n",
       "  0,\n",
       "  1,\n",
       "  1]}"
      ]
     },
     "execution_count": 24,
     "metadata": {},
     "output_type": "execute_result"
    }
   ],
   "source": [
    "for i in range(31):\n",
    "    dataset1['nombre'].append(\"nombre_%s\"%(i))\n",
    "    dataset1['apellidos'].append(\"apellidos_%s\"%(i))\n",
    "    dataset1['edad'].append(randint(18, 58))\n",
    "    dataset1['sexo'].append(randint(0, 1))\n",
    "\n",
    "dataset1"
   ]
  },
  {
   "cell_type": "code",
   "execution_count": 43,
   "metadata": {},
   "outputs": [
    {
     "data": {
      "text/html": [
       "<div>\n",
       "<style scoped>\n",
       "    .dataframe tbody tr th:only-of-type {\n",
       "        vertical-align: middle;\n",
       "    }\n",
       "\n",
       "    .dataframe tbody tr th {\n",
       "        vertical-align: top;\n",
       "    }\n",
       "\n",
       "    .dataframe thead th {\n",
       "        text-align: right;\n",
       "    }\n",
       "</style>\n",
       "<table border=\"1\" class=\"dataframe\">\n",
       "  <thead>\n",
       "    <tr style=\"text-align: right;\">\n",
       "      <th></th>\n",
       "      <th>nombre</th>\n",
       "      <th>apellidos</th>\n",
       "      <th>edad</th>\n",
       "      <th>sexo</th>\n",
       "    </tr>\n",
       "  </thead>\n",
       "  <tbody>\n",
       "    <tr>\n",
       "      <th>0</th>\n",
       "      <td>nombre_0</td>\n",
       "      <td>apellidos_0</td>\n",
       "      <td>49</td>\n",
       "      <td>1</td>\n",
       "    </tr>\n",
       "    <tr>\n",
       "      <th>1</th>\n",
       "      <td>nombre_1</td>\n",
       "      <td>apellidos_1</td>\n",
       "      <td>50</td>\n",
       "      <td>1</td>\n",
       "    </tr>\n",
       "    <tr>\n",
       "      <th>2</th>\n",
       "      <td>nombre_2</td>\n",
       "      <td>apellidos_2</td>\n",
       "      <td>55</td>\n",
       "      <td>1</td>\n",
       "    </tr>\n",
       "    <tr>\n",
       "      <th>3</th>\n",
       "      <td>nombre_3</td>\n",
       "      <td>apellidos_3</td>\n",
       "      <td>33</td>\n",
       "      <td>1</td>\n",
       "    </tr>\n",
       "    <tr>\n",
       "      <th>4</th>\n",
       "      <td>nombre_4</td>\n",
       "      <td>apellidos_4</td>\n",
       "      <td>24</td>\n",
       "      <td>1</td>\n",
       "    </tr>\n",
       "    <tr>\n",
       "      <th>...</th>\n",
       "      <td>...</td>\n",
       "      <td>...</td>\n",
       "      <td>...</td>\n",
       "      <td>...</td>\n",
       "    </tr>\n",
       "    <tr>\n",
       "      <th>57</th>\n",
       "      <td>nombre_26</td>\n",
       "      <td>apellidos_26</td>\n",
       "      <td>38</td>\n",
       "      <td>1</td>\n",
       "    </tr>\n",
       "    <tr>\n",
       "      <th>58</th>\n",
       "      <td>nombre_27</td>\n",
       "      <td>apellidos_27</td>\n",
       "      <td>57</td>\n",
       "      <td>1</td>\n",
       "    </tr>\n",
       "    <tr>\n",
       "      <th>59</th>\n",
       "      <td>nombre_28</td>\n",
       "      <td>apellidos_28</td>\n",
       "      <td>38</td>\n",
       "      <td>0</td>\n",
       "    </tr>\n",
       "    <tr>\n",
       "      <th>60</th>\n",
       "      <td>nombre_29</td>\n",
       "      <td>apellidos_29</td>\n",
       "      <td>45</td>\n",
       "      <td>1</td>\n",
       "    </tr>\n",
       "    <tr>\n",
       "      <th>61</th>\n",
       "      <td>nombre_30</td>\n",
       "      <td>apellidos_30</td>\n",
       "      <td>57</td>\n",
       "      <td>1</td>\n",
       "    </tr>\n",
       "  </tbody>\n",
       "</table>\n",
       "<p>62 rows × 4 columns</p>\n",
       "</div>"
      ],
      "text/plain": [
       "       nombre     apellidos  edad  sexo\n",
       "0    nombre_0   apellidos_0    49     1\n",
       "1    nombre_1   apellidos_1    50     1\n",
       "2    nombre_2   apellidos_2    55     1\n",
       "3    nombre_3   apellidos_3    33     1\n",
       "4    nombre_4   apellidos_4    24     1\n",
       "..        ...           ...   ...   ...\n",
       "57  nombre_26  apellidos_26    38     1\n",
       "58  nombre_27  apellidos_27    57     1\n",
       "59  nombre_28  apellidos_28    38     0\n",
       "60  nombre_29  apellidos_29    45     1\n",
       "61  nombre_30  apellidos_30    57     1\n",
       "\n",
       "[62 rows x 4 columns]"
      ]
     },
     "execution_count": 43,
     "metadata": {},
     "output_type": "execute_result"
    }
   ],
   "source": [
    "df = pd.DataFrame(dataset1)\n",
    "df"
   ]
  },
  {
   "cell_type": "code",
   "execution_count": 44,
   "metadata": {},
   "outputs": [],
   "source": [
    "df.to_excel(\"AnalisisEncuenta.xlsx\")"
   ]
  },
  {
   "cell_type": "markdown",
   "metadata": {},
   "source": [
    "# Funciones\n",
    "\n",
    "$$f(x) = y$$\n",
    "$$y = f(x)$$\n",
    "\n",
    "\n",
    "* Tipos de variables\n",
    "    * Variable Independiente $x$\n",
    "    * Variable Dependiente $y$\n",
    "\n",
    "\n",
    "```\n",
    "FUNCION <NOMBRE>(P1, P2, P3, PN){\n",
    "    PROCES(P1 + P2 * P3 / PN)\n",
    "} RETURN\n",
    "```\n",
    "\n",
    "* Tipos de Funciones\n",
    "    - Funcion Definas \n",
    "    - Funcion Anonimas\n",
    "    - Funcion Lenguaje -> Sintaxis\n",
    "    - Funcion Matematicas\n",
    "    - Funcion Trigonometricas\n",
    "    - Funcion Sin retorno\n",
    "    "
   ]
  },
  {
   "cell_type": "code",
   "execution_count": 54,
   "metadata": {},
   "outputs": [
    {
     "name": "stdout",
     "output_type": "stream",
     "text": [
      "65.66666666666666\n"
     ]
    },
    {
     "data": {
      "text/plain": [
       "65.66666666666666"
      ]
     },
     "execution_count": 54,
     "metadata": {},
     "output_type": "execute_result"
    }
   ],
   "source": [
    "#Funcion Defina\n",
    "\n",
    "def calculoOperacion(p1, p2, p3, pn):\n",
    "    try:\n",
    "        valor = (p1 + p2 * p3 / pn)\n",
    "        print(valor)\n",
    "        return valor\n",
    "    except ZeroDivisionError:\n",
    "        print(\"No se puede dividir entre cero :(\")\n",
    "\n",
    "valor1 = calculoOperacion(23, 32, 4, 3)\n",
    "valor1"
   ]
  },
  {
   "cell_type": "markdown",
   "metadata": {},
   "source": [
    "##### Funcion Anonima\n",
    "\n",
    "### $$n = \\lambda x: x [+-* **]\\mathbb{R}$$"
   ]
  },
  {
   "cell_type": "code",
   "execution_count": 55,
   "metadata": {},
   "outputs": [
    {
     "data": {
      "text/plain": [
       "576"
      ]
     },
     "execution_count": 55,
     "metadata": {},
     "output_type": "execute_result"
    }
   ],
   "source": [
    "animo = lambda x: x * 24\n",
    "animo(24)"
   ]
  },
  {
   "cell_type": "markdown",
   "metadata": {},
   "source": [
    "### Funcion Recursiva\n",
    "\n",
    "$$f(f(x))$$"
   ]
  },
  {
   "cell_type": "code",
   "execution_count": 58,
   "metadata": {},
   "outputs": [],
   "source": [
    "def recursiva(x):\n",
    "    return recursiva(x)\n",
    "# recursiva(23)"
   ]
  },
  {
   "cell_type": "code",
   "execution_count": 61,
   "metadata": {},
   "outputs": [
    {
     "name": "stdout",
     "output_type": "stream",
     "text": [
      "No resolviste el probelma: 10\n",
      "No resolviste el probelma: 9\n",
      "No resolviste el probelma: 8\n",
      "No resolviste el probelma: 7\n",
      "No resolviste el probelma: 6\n",
      "No resolviste el probelma: 5\n",
      "No resolviste el probelma: 4\n",
      "No resolviste el probelma: 3\n",
      "No resolviste el probelma: 2\n",
      "No resolviste el probelma: 1\n",
      "No mereces el libro \n"
     ]
    }
   ],
   "source": [
    "def recursiva(x):\n",
    "    if x == 0:\n",
    "        print(\"No mereces el libro \")\n",
    "    else:\n",
    "        print(\"No resolviste el probelma: %s\"%x)\n",
    "        return recursiva(x - 1)\n",
    "recursiva(10)"
   ]
  },
  {
   "cell_type": "code",
   "execution_count": 63,
   "metadata": {},
   "outputs": [
    {
     "data": {
      "text/html": [
       "<div>\n",
       "<style scoped>\n",
       "    .dataframe tbody tr th:only-of-type {\n",
       "        vertical-align: middle;\n",
       "    }\n",
       "\n",
       "    .dataframe tbody tr th {\n",
       "        vertical-align: top;\n",
       "    }\n",
       "\n",
       "    .dataframe thead th {\n",
       "        text-align: right;\n",
       "    }\n",
       "</style>\n",
       "<table border=\"1\" class=\"dataframe\">\n",
       "  <thead>\n",
       "    <tr style=\"text-align: right;\">\n",
       "      <th></th>\n",
       "      <th>nombre</th>\n",
       "      <th>apellidos</th>\n",
       "      <th>edad</th>\n",
       "      <th>sexo</th>\n",
       "    </tr>\n",
       "  </thead>\n",
       "  <tbody>\n",
       "    <tr>\n",
       "      <th>0</th>\n",
       "      <td>nombre_0</td>\n",
       "      <td>apellidos_0</td>\n",
       "      <td>49</td>\n",
       "      <td>1</td>\n",
       "    </tr>\n",
       "    <tr>\n",
       "      <th>1</th>\n",
       "      <td>nombre_1</td>\n",
       "      <td>apellidos_1</td>\n",
       "      <td>50</td>\n",
       "      <td>1</td>\n",
       "    </tr>\n",
       "    <tr>\n",
       "      <th>2</th>\n",
       "      <td>nombre_2</td>\n",
       "      <td>apellidos_2</td>\n",
       "      <td>55</td>\n",
       "      <td>1</td>\n",
       "    </tr>\n",
       "    <tr>\n",
       "      <th>3</th>\n",
       "      <td>nombre_3</td>\n",
       "      <td>apellidos_3</td>\n",
       "      <td>33</td>\n",
       "      <td>1</td>\n",
       "    </tr>\n",
       "    <tr>\n",
       "      <th>4</th>\n",
       "      <td>nombre_4</td>\n",
       "      <td>apellidos_4</td>\n",
       "      <td>24</td>\n",
       "      <td>1</td>\n",
       "    </tr>\n",
       "    <tr>\n",
       "      <th>...</th>\n",
       "      <td>...</td>\n",
       "      <td>...</td>\n",
       "      <td>...</td>\n",
       "      <td>...</td>\n",
       "    </tr>\n",
       "    <tr>\n",
       "      <th>57</th>\n",
       "      <td>nombre_26</td>\n",
       "      <td>apellidos_26</td>\n",
       "      <td>38</td>\n",
       "      <td>1</td>\n",
       "    </tr>\n",
       "    <tr>\n",
       "      <th>58</th>\n",
       "      <td>nombre_27</td>\n",
       "      <td>apellidos_27</td>\n",
       "      <td>57</td>\n",
       "      <td>1</td>\n",
       "    </tr>\n",
       "    <tr>\n",
       "      <th>59</th>\n",
       "      <td>nombre_28</td>\n",
       "      <td>apellidos_28</td>\n",
       "      <td>38</td>\n",
       "      <td>0</td>\n",
       "    </tr>\n",
       "    <tr>\n",
       "      <th>60</th>\n",
       "      <td>nombre_29</td>\n",
       "      <td>apellidos_29</td>\n",
       "      <td>45</td>\n",
       "      <td>1</td>\n",
       "    </tr>\n",
       "    <tr>\n",
       "      <th>61</th>\n",
       "      <td>nombre_30</td>\n",
       "      <td>apellidos_30</td>\n",
       "      <td>57</td>\n",
       "      <td>1</td>\n",
       "    </tr>\n",
       "  </tbody>\n",
       "</table>\n",
       "<p>62 rows × 4 columns</p>\n",
       "</div>"
      ],
      "text/plain": [
       "       nombre     apellidos  edad  sexo\n",
       "0    nombre_0   apellidos_0    49     1\n",
       "1    nombre_1   apellidos_1    50     1\n",
       "2    nombre_2   apellidos_2    55     1\n",
       "3    nombre_3   apellidos_3    33     1\n",
       "4    nombre_4   apellidos_4    24     1\n",
       "..        ...           ...   ...   ...\n",
       "57  nombre_26  apellidos_26    38     1\n",
       "58  nombre_27  apellidos_27    57     1\n",
       "59  nombre_28  apellidos_28    38     0\n",
       "60  nombre_29  apellidos_29    45     1\n",
       "61  nombre_30  apellidos_30    57     1\n",
       "\n",
       "[62 rows x 4 columns]"
      ]
     },
     "execution_count": 63,
     "metadata": {},
     "output_type": "execute_result"
    }
   ],
   "source": [
    "df"
   ]
  },
  {
   "cell_type": "code",
   "execution_count": 64,
   "metadata": {},
   "outputs": [],
   "source": [
    "#Forma - Funcion Definida\n",
    "\n",
    "def ModificadorSexo(x):\n",
    "    if x == 1:\n",
    "        return \"Femenino\"\n",
    "    return \"Masculino\""
   ]
  },
  {
   "cell_type": "code",
   "execution_count": 69,
   "metadata": {},
   "outputs": [
    {
     "data": {
      "text/html": [
       "<div>\n",
       "<style scoped>\n",
       "    .dataframe tbody tr th:only-of-type {\n",
       "        vertical-align: middle;\n",
       "    }\n",
       "\n",
       "    .dataframe tbody tr th {\n",
       "        vertical-align: top;\n",
       "    }\n",
       "\n",
       "    .dataframe thead th {\n",
       "        text-align: right;\n",
       "    }\n",
       "</style>\n",
       "<table border=\"1\" class=\"dataframe\">\n",
       "  <thead>\n",
       "    <tr style=\"text-align: right;\">\n",
       "      <th></th>\n",
       "      <th>nombre</th>\n",
       "      <th>apellidos</th>\n",
       "      <th>edad</th>\n",
       "      <th>sexo</th>\n",
       "      <th>sexoModificado1</th>\n",
       "      <th>sexoModificado2</th>\n",
       "      <th>sexoModificado3</th>\n",
       "    </tr>\n",
       "  </thead>\n",
       "  <tbody>\n",
       "    <tr>\n",
       "      <th>0</th>\n",
       "      <td>nombre_0</td>\n",
       "      <td>apellidos_0</td>\n",
       "      <td>49</td>\n",
       "      <td>1</td>\n",
       "      <td>Femenino</td>\n",
       "      <td>Femenino</td>\n",
       "      <td>Femenino</td>\n",
       "    </tr>\n",
       "    <tr>\n",
       "      <th>1</th>\n",
       "      <td>nombre_1</td>\n",
       "      <td>apellidos_1</td>\n",
       "      <td>50</td>\n",
       "      <td>1</td>\n",
       "      <td>Femenino</td>\n",
       "      <td>Femenino</td>\n",
       "      <td>Femenino</td>\n",
       "    </tr>\n",
       "    <tr>\n",
       "      <th>2</th>\n",
       "      <td>nombre_2</td>\n",
       "      <td>apellidos_2</td>\n",
       "      <td>55</td>\n",
       "      <td>1</td>\n",
       "      <td>Femenino</td>\n",
       "      <td>Femenino</td>\n",
       "      <td>Femenino</td>\n",
       "    </tr>\n",
       "    <tr>\n",
       "      <th>3</th>\n",
       "      <td>nombre_3</td>\n",
       "      <td>apellidos_3</td>\n",
       "      <td>33</td>\n",
       "      <td>1</td>\n",
       "      <td>Femenino</td>\n",
       "      <td>Femenino</td>\n",
       "      <td>Femenino</td>\n",
       "    </tr>\n",
       "    <tr>\n",
       "      <th>4</th>\n",
       "      <td>nombre_4</td>\n",
       "      <td>apellidos_4</td>\n",
       "      <td>24</td>\n",
       "      <td>1</td>\n",
       "      <td>Femenino</td>\n",
       "      <td>Femenino</td>\n",
       "      <td>Femenino</td>\n",
       "    </tr>\n",
       "    <tr>\n",
       "      <th>...</th>\n",
       "      <td>...</td>\n",
       "      <td>...</td>\n",
       "      <td>...</td>\n",
       "      <td>...</td>\n",
       "      <td>...</td>\n",
       "      <td>...</td>\n",
       "      <td>...</td>\n",
       "    </tr>\n",
       "    <tr>\n",
       "      <th>57</th>\n",
       "      <td>nombre_26</td>\n",
       "      <td>apellidos_26</td>\n",
       "      <td>38</td>\n",
       "      <td>1</td>\n",
       "      <td>Femenino</td>\n",
       "      <td>Femenino</td>\n",
       "      <td>Femenino</td>\n",
       "    </tr>\n",
       "    <tr>\n",
       "      <th>58</th>\n",
       "      <td>nombre_27</td>\n",
       "      <td>apellidos_27</td>\n",
       "      <td>57</td>\n",
       "      <td>1</td>\n",
       "      <td>Femenino</td>\n",
       "      <td>Femenino</td>\n",
       "      <td>Femenino</td>\n",
       "    </tr>\n",
       "    <tr>\n",
       "      <th>59</th>\n",
       "      <td>nombre_28</td>\n",
       "      <td>apellidos_28</td>\n",
       "      <td>38</td>\n",
       "      <td>0</td>\n",
       "      <td>Masculino</td>\n",
       "      <td>Masculino</td>\n",
       "      <td>Masculino</td>\n",
       "    </tr>\n",
       "    <tr>\n",
       "      <th>60</th>\n",
       "      <td>nombre_29</td>\n",
       "      <td>apellidos_29</td>\n",
       "      <td>45</td>\n",
       "      <td>1</td>\n",
       "      <td>Femenino</td>\n",
       "      <td>Femenino</td>\n",
       "      <td>Femenino</td>\n",
       "    </tr>\n",
       "    <tr>\n",
       "      <th>61</th>\n",
       "      <td>nombre_30</td>\n",
       "      <td>apellidos_30</td>\n",
       "      <td>57</td>\n",
       "      <td>1</td>\n",
       "      <td>Femenino</td>\n",
       "      <td>Femenino</td>\n",
       "      <td>Femenino</td>\n",
       "    </tr>\n",
       "  </tbody>\n",
       "</table>\n",
       "<p>62 rows × 7 columns</p>\n",
       "</div>"
      ],
      "text/plain": [
       "       nombre     apellidos  edad  sexo sexoModificado1 sexoModificado2  \\\n",
       "0    nombre_0   apellidos_0    49     1        Femenino        Femenino   \n",
       "1    nombre_1   apellidos_1    50     1        Femenino        Femenino   \n",
       "2    nombre_2   apellidos_2    55     1        Femenino        Femenino   \n",
       "3    nombre_3   apellidos_3    33     1        Femenino        Femenino   \n",
       "4    nombre_4   apellidos_4    24     1        Femenino        Femenino   \n",
       "..        ...           ...   ...   ...             ...             ...   \n",
       "57  nombre_26  apellidos_26    38     1        Femenino        Femenino   \n",
       "58  nombre_27  apellidos_27    57     1        Femenino        Femenino   \n",
       "59  nombre_28  apellidos_28    38     0       Masculino       Masculino   \n",
       "60  nombre_29  apellidos_29    45     1        Femenino        Femenino   \n",
       "61  nombre_30  apellidos_30    57     1        Femenino        Femenino   \n",
       "\n",
       "   sexoModificado3  \n",
       "0         Femenino  \n",
       "1         Femenino  \n",
       "2         Femenino  \n",
       "3         Femenino  \n",
       "4         Femenino  \n",
       "..             ...  \n",
       "57        Femenino  \n",
       "58        Femenino  \n",
       "59       Masculino  \n",
       "60        Femenino  \n",
       "61        Femenino  \n",
       "\n",
       "[62 rows x 7 columns]"
      ]
     },
     "execution_count": 69,
     "metadata": {},
     "output_type": "execute_result"
    }
   ],
   "source": [
    "df['sexoModificado3'] = df['sexo'].apply(lambda x: matchSexo(x))\n",
    "df"
   ]
  },
  {
   "cell_type": "code",
   "execution_count": 66,
   "metadata": {},
   "outputs": [
    {
     "data": {
      "text/html": [
       "<div>\n",
       "<style scoped>\n",
       "    .dataframe tbody tr th:only-of-type {\n",
       "        vertical-align: middle;\n",
       "    }\n",
       "\n",
       "    .dataframe tbody tr th {\n",
       "        vertical-align: top;\n",
       "    }\n",
       "\n",
       "    .dataframe thead th {\n",
       "        text-align: right;\n",
       "    }\n",
       "</style>\n",
       "<table border=\"1\" class=\"dataframe\">\n",
       "  <thead>\n",
       "    <tr style=\"text-align: right;\">\n",
       "      <th></th>\n",
       "      <th>nombre</th>\n",
       "      <th>apellidos</th>\n",
       "      <th>edad</th>\n",
       "      <th>sexo</th>\n",
       "      <th>sexoModificado1</th>\n",
       "      <th>sexoModificado2</th>\n",
       "    </tr>\n",
       "  </thead>\n",
       "  <tbody>\n",
       "    <tr>\n",
       "      <th>0</th>\n",
       "      <td>nombre_0</td>\n",
       "      <td>apellidos_0</td>\n",
       "      <td>49</td>\n",
       "      <td>1</td>\n",
       "      <td>Femenino</td>\n",
       "      <td>Femenino</td>\n",
       "    </tr>\n",
       "    <tr>\n",
       "      <th>1</th>\n",
       "      <td>nombre_1</td>\n",
       "      <td>apellidos_1</td>\n",
       "      <td>50</td>\n",
       "      <td>1</td>\n",
       "      <td>Femenino</td>\n",
       "      <td>Femenino</td>\n",
       "    </tr>\n",
       "    <tr>\n",
       "      <th>2</th>\n",
       "      <td>nombre_2</td>\n",
       "      <td>apellidos_2</td>\n",
       "      <td>55</td>\n",
       "      <td>1</td>\n",
       "      <td>Femenino</td>\n",
       "      <td>Femenino</td>\n",
       "    </tr>\n",
       "    <tr>\n",
       "      <th>3</th>\n",
       "      <td>nombre_3</td>\n",
       "      <td>apellidos_3</td>\n",
       "      <td>33</td>\n",
       "      <td>1</td>\n",
       "      <td>Femenino</td>\n",
       "      <td>Femenino</td>\n",
       "    </tr>\n",
       "    <tr>\n",
       "      <th>4</th>\n",
       "      <td>nombre_4</td>\n",
       "      <td>apellidos_4</td>\n",
       "      <td>24</td>\n",
       "      <td>1</td>\n",
       "      <td>Femenino</td>\n",
       "      <td>Femenino</td>\n",
       "    </tr>\n",
       "    <tr>\n",
       "      <th>...</th>\n",
       "      <td>...</td>\n",
       "      <td>...</td>\n",
       "      <td>...</td>\n",
       "      <td>...</td>\n",
       "      <td>...</td>\n",
       "      <td>...</td>\n",
       "    </tr>\n",
       "    <tr>\n",
       "      <th>57</th>\n",
       "      <td>nombre_26</td>\n",
       "      <td>apellidos_26</td>\n",
       "      <td>38</td>\n",
       "      <td>1</td>\n",
       "      <td>Femenino</td>\n",
       "      <td>Femenino</td>\n",
       "    </tr>\n",
       "    <tr>\n",
       "      <th>58</th>\n",
       "      <td>nombre_27</td>\n",
       "      <td>apellidos_27</td>\n",
       "      <td>57</td>\n",
       "      <td>1</td>\n",
       "      <td>Femenino</td>\n",
       "      <td>Femenino</td>\n",
       "    </tr>\n",
       "    <tr>\n",
       "      <th>59</th>\n",
       "      <td>nombre_28</td>\n",
       "      <td>apellidos_28</td>\n",
       "      <td>38</td>\n",
       "      <td>0</td>\n",
       "      <td>Masculino</td>\n",
       "      <td>Masculino</td>\n",
       "    </tr>\n",
       "    <tr>\n",
       "      <th>60</th>\n",
       "      <td>nombre_29</td>\n",
       "      <td>apellidos_29</td>\n",
       "      <td>45</td>\n",
       "      <td>1</td>\n",
       "      <td>Femenino</td>\n",
       "      <td>Femenino</td>\n",
       "    </tr>\n",
       "    <tr>\n",
       "      <th>61</th>\n",
       "      <td>nombre_30</td>\n",
       "      <td>apellidos_30</td>\n",
       "      <td>57</td>\n",
       "      <td>1</td>\n",
       "      <td>Femenino</td>\n",
       "      <td>Femenino</td>\n",
       "    </tr>\n",
       "  </tbody>\n",
       "</table>\n",
       "<p>62 rows × 6 columns</p>\n",
       "</div>"
      ],
      "text/plain": [
       "       nombre     apellidos  edad  sexo sexoModificado1 sexoModificado2\n",
       "0    nombre_0   apellidos_0    49     1        Femenino        Femenino\n",
       "1    nombre_1   apellidos_1    50     1        Femenino        Femenino\n",
       "2    nombre_2   apellidos_2    55     1        Femenino        Femenino\n",
       "3    nombre_3   apellidos_3    33     1        Femenino        Femenino\n",
       "4    nombre_4   apellidos_4    24     1        Femenino        Femenino\n",
       "..        ...           ...   ...   ...             ...             ...\n",
       "57  nombre_26  apellidos_26    38     1        Femenino        Femenino\n",
       "58  nombre_27  apellidos_27    57     1        Femenino        Femenino\n",
       "59  nombre_28  apellidos_28    38     0       Masculino       Masculino\n",
       "60  nombre_29  apellidos_29    45     1        Femenino        Femenino\n",
       "61  nombre_30  apellidos_30    57     1        Femenino        Femenino\n",
       "\n",
       "[62 rows x 6 columns]"
      ]
     },
     "execution_count": 66,
     "metadata": {},
     "output_type": "execute_result"
    }
   ],
   "source": [
    "#Forma Anonima\n",
    "\n",
    "df['sexoModificado2'] = df['sexo'].apply(lambda x: \"Femenino\" if x ==1 else \"Masculino\")\n",
    "df"
   ]
  },
  {
   "cell_type": "code",
   "execution_count": 68,
   "metadata": {},
   "outputs": [
    {
     "data": {
      "text/plain": [
       "'Femenino'"
      ]
     },
     "execution_count": 68,
     "metadata": {},
     "output_type": "execute_result"
    }
   ],
   "source": [
    "def matchSexo(x):\n",
    "    match x:\n",
    "        case 1:\n",
    "            return \"Femenino\"\n",
    "        case 0:\n",
    "            return \"Masculino\"\n",
    "matchSexo(1)"
   ]
  },
  {
   "cell_type": "code",
   "execution_count": 70,
   "metadata": {},
   "outputs": [],
   "source": [
    "df.to_excel(\"AnalisisEncuenta.xlsx\", index=False)"
   ]
  },
  {
   "cell_type": "markdown",
   "metadata": {},
   "source": [
    "# Conjuntos - set\n",
    "\n",
    "* Union ( | )\n",
    "* Interserccion ( & )\n",
    "* Diferencia ( - )\n",
    "* Diferencia Simetrica ( ^ )\n",
    "\n",
    "{}"
   ]
  },
  {
   "cell_type": "code",
   "execution_count": 73,
   "metadata": {},
   "outputs": [
    {
     "name": "stdout",
     "output_type": "stream",
     "text": [
      "{2, 3, 4, 5, 6, 7, 10, 12, 44, 22}\n",
      "{3, 4, 5, 8, 11}\n"
     ]
    }
   ],
   "source": [
    "A1 = {2,  3, 3, 4, 5, 6, 7, 6, 10, 12, 10, 44, 22}\n",
    "B1 = {3, 4, 5, 3, 8, 11, 11}\n",
    "\n",
    "print(A1)\n",
    "print(B1)"
   ]
  },
  {
   "cell_type": "code",
   "execution_count": 75,
   "metadata": {},
   "outputs": [
    {
     "name": "stdout",
     "output_type": "stream",
     "text": [
      "{2, 3, 4, 5, 6, 7, 100, 10, 12, 44, 22}\n",
      "{3, 4, 5, 500, 8, 11}\n"
     ]
    }
   ],
   "source": [
    "#add\n",
    "A1.add(100)\n",
    "print(A1)\n",
    "\n",
    "B1.add(500)\n",
    "print(B1)"
   ]
  },
  {
   "cell_type": "code",
   "execution_count": 77,
   "metadata": {},
   "outputs": [
    {
     "name": "stdout",
     "output_type": "stream",
     "text": [
      "{2, 3, 4, 5, 6, 7, 10, 12, 44, 22}\n"
     ]
    }
   ],
   "source": [
    "#remove\n",
    "\n",
    "A1.remove(100)\n",
    "print(A1)"
   ]
  },
  {
   "cell_type": "code",
   "execution_count": 79,
   "metadata": {},
   "outputs": [
    {
     "name": "stdout",
     "output_type": "stream",
     "text": [
      "{2, 3, 4, 5, 6, 7, 8, 10, 11, 12, 44, 500, 22}\n"
     ]
    }
   ],
   "source": [
    "#Union |\n",
    "\n",
    "print(A1 | B1)"
   ]
  },
  {
   "cell_type": "code",
   "execution_count": 81,
   "metadata": {},
   "outputs": [
    {
     "name": "stdout",
     "output_type": "stream",
     "text": [
      "{3, 4, 5}\n"
     ]
    }
   ],
   "source": [
    "#Interseccion & \n",
    "print(A1 & B1)"
   ]
  },
  {
   "cell_type": "code",
   "execution_count": 83,
   "metadata": {},
   "outputs": [
    {
     "name": "stdout",
     "output_type": "stream",
     "text": [
      "{2, 6, 7, 10, 12, 44, 22}\n",
      "{8, 11, 500}\n"
     ]
    }
   ],
   "source": [
    "#Diferencia\n",
    "print(A1 - B1)\n",
    "print(B1 - A1)"
   ]
  },
  {
   "cell_type": "code",
   "execution_count": 84,
   "metadata": {},
   "outputs": [
    {
     "name": "stdout",
     "output_type": "stream",
     "text": [
      "{2, 6, 7, 8, 10, 11, 12, 44, 500, 22}\n"
     ]
    }
   ],
   "source": [
    "#Diferencia Simetrica\n",
    "print(A1 ^ B1)"
   ]
  },
  {
   "cell_type": "code",
   "execution_count": 88,
   "metadata": {},
   "outputs": [
    {
     "name": "stdout",
     "output_type": "stream",
     "text": [
      "{'apellidos', 'nombre', 'sexoModificado2', 'sexoModificado1', 'edad', 'sexo', 'sexoModificado3'}\n",
      "{'tel', 'apellidos', 'edad'}\n",
      "{'calidadVida', 'nombre'}\n"
     ]
    }
   ],
   "source": [
    "#Base de datos - Columanas\n",
    "\n",
    "A = set(df.columns.to_list())\n",
    "B = {'apellidos', 'edad', 'tel'}\n",
    "C = {'calidadVida', 'nombre'}\n",
    "\n",
    "print(A)\n",
    "print(B)\n",
    "print(C)"
   ]
  },
  {
   "cell_type": "code",
   "execution_count": 89,
   "metadata": {},
   "outputs": [
    {
     "data": {
      "text/plain": [
       "{'calidadVida',\n",
       " 'sexo',\n",
       " 'sexoModificado1',\n",
       " 'sexoModificado2',\n",
       " 'sexoModificado3'}"
      ]
     },
     "execution_count": 89,
     "metadata": {},
     "output_type": "execute_result"
    }
   ],
   "source": [
    "A - B ^ C"
   ]
  },
  {
   "cell_type": "code",
   "execution_count": 90,
   "metadata": {},
   "outputs": [
    {
     "data": {
      "text/plain": [
       "{'apellidos',\n",
       " 'edad',\n",
       " 'nombre',\n",
       " 'sexo',\n",
       " 'sexoModificado1',\n",
       " 'sexoModificado2',\n",
       " 'sexoModificado3',\n",
       " 'tel'}"
      ]
     },
     "execution_count": 90,
     "metadata": {},
     "output_type": "execute_result"
    }
   ],
   "source": [
    "A | B - C"
   ]
  },
  {
   "cell_type": "code",
   "execution_count": 96,
   "metadata": {},
   "outputs": [],
   "source": [
    "df3 = pd.DataFrame({\n",
    "    'id': [1, 2, 3, 4, 5],\n",
    "    'nombre': ['n1', 'n2', 'n3', 'n19', 'n18']\n",
    "})\n",
    "\n",
    "df4 = pd.DataFrame({\n",
    "    'id': [1, 2, 6, 8],\n",
    "    'nombre': ['n1', 'n2', 'n3', 'np3']\n",
    "})\n"
   ]
  },
  {
   "cell_type": "code",
   "execution_count": 97,
   "metadata": {},
   "outputs": [
    {
     "name": "stdout",
     "output_type": "stream",
     "text": [
      "   id nombre\n",
      "0   1     n1\n",
      "1   2     n2\n",
      "2   3     n3\n",
      "3   4    n19\n",
      "4   5    n18\n",
      "   id nombre\n",
      "0   1     n1\n",
      "1   2     n2\n",
      "2   6     n3\n",
      "3   8    np3\n"
     ]
    }
   ],
   "source": [
    "print(df3)\n",
    "print(df4)"
   ]
  },
  {
   "cell_type": "code",
   "execution_count": 103,
   "metadata": {},
   "outputs": [
    {
     "data": {
      "text/html": [
       "<div>\n",
       "<style scoped>\n",
       "    .dataframe tbody tr th:only-of-type {\n",
       "        vertical-align: middle;\n",
       "    }\n",
       "\n",
       "    .dataframe tbody tr th {\n",
       "        vertical-align: top;\n",
       "    }\n",
       "\n",
       "    .dataframe thead th {\n",
       "        text-align: right;\n",
       "    }\n",
       "</style>\n",
       "<table border=\"1\" class=\"dataframe\">\n",
       "  <thead>\n",
       "    <tr style=\"text-align: right;\">\n",
       "      <th></th>\n",
       "      <th>id</th>\n",
       "      <th>nombre_x</th>\n",
       "      <th>nombre_y</th>\n",
       "    </tr>\n",
       "  </thead>\n",
       "  <tbody>\n",
       "    <tr>\n",
       "      <th>0</th>\n",
       "      <td>1</td>\n",
       "      <td>n1</td>\n",
       "      <td>n1</td>\n",
       "    </tr>\n",
       "    <tr>\n",
       "      <th>1</th>\n",
       "      <td>2</td>\n",
       "      <td>n2</td>\n",
       "      <td>n2</td>\n",
       "    </tr>\n",
       "    <tr>\n",
       "      <th>2</th>\n",
       "      <td>6</td>\n",
       "      <td>NaN</td>\n",
       "      <td>n3</td>\n",
       "    </tr>\n",
       "    <tr>\n",
       "      <th>3</th>\n",
       "      <td>8</td>\n",
       "      <td>NaN</td>\n",
       "      <td>np3</td>\n",
       "    </tr>\n",
       "  </tbody>\n",
       "</table>\n",
       "</div>"
      ],
      "text/plain": [
       "   id nombre_x nombre_y\n",
       "0   1       n1       n1\n",
       "1   2       n2       n2\n",
       "2   6      NaN       n3\n",
       "3   8      NaN      np3"
      ]
     },
     "execution_count": 103,
     "metadata": {},
     "output_type": "execute_result"
    }
   ],
   "source": [
    "df3.merge(df4, on='id', how='right')"
   ]
  },
  {
   "cell_type": "markdown",
   "metadata": {},
   "source": [
    "### Primera Parte"
   ]
  },
  {
   "cell_type": "code",
   "execution_count": 107,
   "metadata": {},
   "outputs": [],
   "source": [
    "import numpy as np\n",
    "import pandas as pd\n",
    "\n",
    "#Se acaba de importar la libreria de Numpy y Pandas,\n",
    "#donde Numpy es una libreria que nos permite trabajar con vectores\n",
    "#y realizar calculos matematicas, mientras que pandas, nos permite\n",
    "#analizar conjuntos de datos."
   ]
  },
  {
   "cell_type": "code",
   "execution_count": 109,
   "metadata": {},
   "outputs": [
    {
     "data": {
      "text/plain": [
       "0     2.0\n",
       "1     3.0\n",
       "2    34.0\n",
       "3     4.0\n",
       "4     NaN\n",
       "5    23.0\n",
       "6     3.0\n",
       "7    32.0\n",
       "dtype: float64"
      ]
     },
     "execution_count": 109,
     "metadata": {},
     "output_type": "execute_result"
    }
   ],
   "source": [
    "s = pd.Series([2,3, 34,4, np.nan, 23,3, 32])\n",
    "s\n",
    "#Esto corresponde una Series, que es una funcion que nos permite\n",
    "#crear una sola columna de datos tipos Series."
   ]
  }
 ],
 "metadata": {
  "kernelspec": {
   "display_name": "Python 3",
   "language": "python",
   "name": "python3"
  },
  "language_info": {
   "codemirror_mode": {
    "name": "ipython",
    "version": 3
   },
   "file_extension": ".py",
   "mimetype": "text/x-python",
   "name": "python",
   "nbconvert_exporter": "python",
   "pygments_lexer": "ipython3",
   "version": "3.12.1"
  }
 },
 "nbformat": 4,
 "nbformat_minor": 2
}
