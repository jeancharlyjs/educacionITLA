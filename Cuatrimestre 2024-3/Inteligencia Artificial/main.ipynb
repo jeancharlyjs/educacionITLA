{
 "cells": [
  {
   "cell_type": "markdown",
   "metadata": {},
   "source": [
    "# Tipos de Variables\n",
    "\n",
    "* Variables Primitivas\n",
    "    - String\n",
    "    - Integer\n",
    "    - Booleanos\n",
    "    - Complejos\n",
    "    - Float\n",
    "\n",
    "* Variables Colectoras\n",
    "    ```\n",
    "    * Lista (Estatica, Dinamica) [ ... ]\n",
    "        *  Vectores\n",
    "            * Vector Fila(Arreglo/elementos)\n",
    "            * Vector Columnas\n",
    "        * Matriz\n",
    "    - Diccionarios {key: valor}\n",
    "#### Inmutables\n",
    "    - Conjuntos {...}\n",
    "    - Tuplas (...)\n",
    "```\n"
   ]
  },
  {
   "cell_type": "markdown",
   "metadata": {},
   "source": [
    "# Palabras Reservas de Python"
   ]
  },
  {
   "cell_type": "code",
   "execution_count": 6,
   "metadata": {},
   "outputs": [
    {
     "data": {
      "text/plain": [
       "['False',\n",
       " 'None',\n",
       " 'True',\n",
       " 'and',\n",
       " 'as',\n",
       " 'assert',\n",
       " 'async',\n",
       " 'await',\n",
       " 'break',\n",
       " 'class',\n",
       " 'continue',\n",
       " 'def',\n",
       " 'del',\n",
       " 'elif',\n",
       " 'else',\n",
       " 'except',\n",
       " 'finally',\n",
       " 'for',\n",
       " 'from',\n",
       " 'global',\n",
       " 'if',\n",
       " 'import',\n",
       " 'in',\n",
       " 'is',\n",
       " 'lambda',\n",
       " 'nonlocal',\n",
       " 'not',\n",
       " 'or',\n",
       " 'pass',\n",
       " 'raise',\n",
       " 'return',\n",
       " 'try',\n",
       " 'while',\n",
       " 'with',\n",
       " 'yield']"
      ]
     },
     "execution_count": 6,
     "metadata": {},
     "output_type": "execute_result"
    }
   ],
   "source": [
    "import keyword\n",
    "\n",
    "keyword.kwlist"
   ]
  },
  {
   "cell_type": "code",
   "execution_count": 17,
   "metadata": {},
   "outputs": [
    {
     "name": "stdout",
     "output_type": "stream",
     "text": [
      "Jean Charly\n",
      "Forma 1\n",
      "Jean CharlyJoseph\n",
      "Forma 2\n",
      "Jean Charly Joseph\n",
      "Forma 3\n",
      "nombre: Jean Charly apellido: Joseph\n",
      "Forma 4\n",
      "Jean Charly Joseph\n",
      "Forma 5\n",
      "Jean Charly Joseph\n"
     ]
    }
   ],
   "source": [
    "# Variables Primitivas \n",
    "\n",
    "#String ' ', \" \"\n",
    "\n",
    "nombre = \"Jean Charly\"\n",
    "apellido = \"Joseph\"\n",
    "print(nombre)\n",
    "\n",
    "#Concatenar\n",
    "print(\"Forma 1\")\n",
    "nombreCompleto = nombre + apellido\n",
    "print(nombreCompleto)\n",
    "\n",
    "print(\"Forma 2\")\n",
    "\n",
    "nombreCompleto1 = nombre + \" \" + apellido\n",
    "print(nombreCompleto1)\n",
    "\n",
    "print(\"Forma 3\")\n",
    "\n",
    "nombreCompleto2 = 'nombre: %s apellido: %s'%(nombre, apellido)\n",
    "print(nombreCompleto2)\n",
    "\n",
    "print(\"Forma 4\")\n",
    "\n",
    "nombreCompleto3 = \"{} {}\".format(nombre, apellido)\n",
    "print(nombreCompleto3)\n",
    "\n",
    "print(\"Forma 5\")\n",
    "\n",
    "nombreCompleto4 = f\"{nombre} {apellido}\"\n",
    "print(nombreCompleto4)\n"
   ]
  },
  {
   "cell_type": "code",
   "execution_count": 20,
   "metadata": {},
   "outputs": [
    {
     "ename": "ValueError",
     "evalue": "invalid literal for int() with base 10: 'Jean Charly'",
     "output_type": "error",
     "traceback": [
      "\u001b[0;31m---------------------------------------------------------------------------\u001b[0m",
      "\u001b[0;31mValueError\u001b[0m                                Traceback (most recent call last)",
      "Cell \u001b[0;32mIn[20], line 5\u001b[0m\n\u001b[1;32m      1\u001b[0m \u001b[38;5;66;03m# No concatenar\u001b[39;00m\n\u001b[1;32m      3\u001b[0m edad \u001b[38;5;241m=\u001b[39m \u001b[38;5;241m30\u001b[39m\n\u001b[0;32m----> 5\u001b[0m nombreEdad \u001b[38;5;241m=\u001b[39m \u001b[38;5;28;43mint\u001b[39;49m\u001b[43m(\u001b[49m\u001b[43mnombre\u001b[49m\u001b[43m)\u001b[49m \u001b[38;5;241m+\u001b[39m \u001b[38;5;28mstr\u001b[39m(edad)\n\u001b[1;32m      6\u001b[0m \u001b[38;5;28mprint\u001b[39m(nombreEdad)\n",
      "\u001b[0;31mValueError\u001b[0m: invalid literal for int() with base 10: 'Jean Charly'"
     ]
    }
   ],
   "source": [
    "# No concatenar\n",
    "\n",
    "edad = 30\n",
    "\n",
    "nombreEdad = int(nombre) + str(edad)\n",
    "print(nombreEdad)"
   ]
  },
  {
   "cell_type": "code",
   "execution_count": 22,
   "metadata": {},
   "outputs": [],
   "source": [
    "# Numericos\n",
    "\n",
    "a = 40   # Entero\n",
    "b = 3.14 #Decimal\n",
    "c = 3j   #Complejo"
   ]
  },
  {
   "cell_type": "code",
   "execution_count": 28,
   "metadata": {},
   "outputs": [
    {
     "name": "stdout",
     "output_type": "stream",
     "text": [
      "Suma\n",
      "\n",
      "(40+3j)\n",
      "43.14\n",
      "(3.14+3j)\n",
      "\tResta\n",
      "\n",
      "(40-3j)\n",
      "36.86\n",
      "(-3.14+3j)\n"
     ]
    }
   ],
   "source": [
    "#Operaciones\n",
    "\n",
    "#Suma\n",
    "print(\"Suma\\n\")\n",
    "print(a + c)\n",
    "print(a + b)\n",
    "print(c + b)\n",
    "\n",
    "#Resta\n",
    "print(\"\\tResta\\n\")\n",
    "print(a - c)\n",
    "print(a - b)\n",
    "print(c - b)\n"
   ]
  },
  {
   "cell_type": "code",
   "execution_count": 34,
   "metadata": {},
   "outputs": [
    {
     "name": "stdout",
     "output_type": "stream",
     "text": [
      "Jean Charly Joseph\n",
      "Jean CharlyJean CharlyJean CharlyJean CharlyJean Charly\n"
     ]
    }
   ],
   "source": [
    "#Operaciones con String\n",
    "\n",
    "#Con signo de suma podemos concatenar\n",
    "\n",
    "print(nombre + \" \" +apellido)\n",
    "\n",
    "#Con signo de multiplicacion se repite n cantidad de veces\n",
    "print(nombre * 5)"
   ]
  },
  {
   "cell_type": "markdown",
   "metadata": {},
   "source": [
    "# Variables Colectoras"
   ]
  },
  {
   "cell_type": "code",
   "execution_count": 13,
   "metadata": {},
   "outputs": [
    {
     "name": "stdout",
     "output_type": "stream",
     "text": [
      "['Jean Charly', 'Joseph', 32, True, None, 3.14, 43j, [], ['Nikola', 'Tesla']]\n"
     ]
    }
   ],
   "source": [
    "#Listas \n",
    "\n",
    "elementos = [\"Jean Charly\", \"Joseph\", 32, True, None, 3.14, 43j, [], ['Nikola', \"Tesla\"]]\n",
    "print(elementos)"
   ]
  },
  {
   "cell_type": "markdown",
   "metadata": {},
   "source": [
    "### Indice"
   ]
  },
  {
   "cell_type": "code",
   "execution_count": 38,
   "metadata": {},
   "outputs": [
    {
     "data": {
      "text/plain": [
       "32"
      ]
     },
     "execution_count": 38,
     "metadata": {},
     "output_type": "execute_result"
    }
   ],
   "source": [
    "elementos[2]"
   ]
  },
  {
   "cell_type": "markdown",
   "metadata": {},
   "source": [
    "### Slices"
   ]
  },
  {
   "cell_type": "code",
   "execution_count": 39,
   "metadata": {},
   "outputs": [
    {
     "data": {
      "text/plain": [
       "['Jean Charly', 'Joseph']"
      ]
     },
     "execution_count": 39,
     "metadata": {},
     "output_type": "execute_result"
    }
   ],
   "source": [
    "elementos[:2]"
   ]
  },
  {
   "cell_type": "code",
   "execution_count": 40,
   "metadata": {},
   "outputs": [
    {
     "data": {
      "text/plain": [
       "[32, True, None, 3.14, 43j, [], ['Nikola', 'Tesla']]"
      ]
     },
     "execution_count": 40,
     "metadata": {},
     "output_type": "execute_result"
    }
   ],
   "source": [
    "elementos[2:]"
   ]
  },
  {
   "cell_type": "code",
   "execution_count": 41,
   "metadata": {},
   "outputs": [
    {
     "data": {
      "text/plain": [
       "[32, True, None, 3.14]"
      ]
     },
     "execution_count": 41,
     "metadata": {},
     "output_type": "execute_result"
    }
   ],
   "source": [
    "elementos[2:6]"
   ]
  },
  {
   "cell_type": "code",
   "execution_count": 44,
   "metadata": {},
   "outputs": [
    {
     "data": {
      "text/plain": [
       "'JosephJean Charly'"
      ]
     },
     "execution_count": 44,
     "metadata": {},
     "output_type": "execute_result"
    }
   ],
   "source": [
    "elementos[1] + \"Jean Charly\""
   ]
  },
  {
   "cell_type": "code",
   "execution_count": 48,
   "metadata": {},
   "outputs": [
    {
     "data": {
      "text/plain": [
       "9"
      ]
     },
     "execution_count": 48,
     "metadata": {},
     "output_type": "execute_result"
    }
   ],
   "source": [
    "# Tamaño de la Lista\n",
    "\n",
    "len(elementos)"
   ]
  },
  {
   "cell_type": "code",
   "execution_count": 53,
   "metadata": {},
   "outputs": [
    {
     "data": {
      "text/plain": [
       "str"
      ]
     },
     "execution_count": 53,
     "metadata": {},
     "output_type": "execute_result"
    }
   ],
   "source": [
    "#Tipo de datos o elementos\n",
    "\n",
    "type(elementos[0])"
   ]
  },
  {
   "cell_type": "markdown",
   "metadata": {},
   "source": [
    "## $\\sum^{n}_{i=1} x_i$\n",
    "\n",
    "```\n",
    "PARA i EN RANGO(INTERVALO):\n",
    "    IMPRIMIR(i)\n",
    "```"
   ]
  },
  {
   "cell_type": "code",
   "execution_count": 55,
   "metadata": {},
   "outputs": [
    {
     "name": "stdout",
     "output_type": "stream",
     "text": [
      "0  >>> Jean Charly  \t\t <class 'str'>\n",
      "1  >>> Joseph  \t\t <class 'str'>\n",
      "2  >>> 32  \t\t <class 'int'>\n",
      "3  >>> True  \t\t <class 'bool'>\n",
      "4  >>> None  \t\t <class 'NoneType'>\n",
      "5  >>> 3.14  \t\t <class 'float'>\n",
      "6  >>> 43j  \t\t <class 'complex'>\n",
      "7  >>> []  \t\t <class 'list'>\n",
      "8  >>> ['Nikola', 'Tesla']  \t\t <class 'list'>\n"
     ]
    }
   ],
   "source": [
    "for i in range(len(elementos)):\n",
    "    print(i, \" >>>\", elementos[i], \" \\t\\t\", type(elementos[i]))"
   ]
  },
  {
   "cell_type": "markdown",
   "metadata": {},
   "source": [
    "# Control de Flujos\n",
    "\n",
    "\n",
    "```\n",
    "SI (CONDICION) ENTONCES:\n",
    "     SENTENCIA\n",
    "SINO\n",
    "     SENTENCIA\n",
    "```\n",
    "\n",
    "## Operadores\n",
    "Son factores booleanos\n",
    "\n",
    "```\n",
    "== Igual\n",
    "<  Menor\n",
    ">  Mayor\n",
    "<= Menor Igual\n",
    ">= Mayor Igual\n",
    "!= Diferente\n",
    "```"
   ]
  },
  {
   "cell_type": "code",
   "execution_count": null,
   "metadata": {},
   "outputs": [],
   "source": [
    "#Enunciado\n",
    "##Simple\n",
    "(2 < 1)\n"
   ]
  },
  {
   "cell_type": "markdown",
   "metadata": {},
   "source": [
    "### Conectores\n",
    "\n",
    "* Y (and &) #V = VV\n",
    "* O (or ||) #V = VF\n",
    "* No (not ) #V = F"
   ]
  },
  {
   "cell_type": "code",
   "execution_count": 1,
   "metadata": {},
   "outputs": [
    {
     "name": "stdout",
     "output_type": "stream",
     "text": [
      "True\n",
      "False\n"
     ]
    }
   ],
   "source": [
    "#Compuesto\n",
    "### Conectores Logicos\n",
    "\n",
    "a = (4 > 1)\n",
    "b = (5 == 10)\n",
    "print(a)\n",
    "print(b)"
   ]
  },
  {
   "cell_type": "code",
   "execution_count": 4,
   "metadata": {},
   "outputs": [
    {
     "name": "stdout",
     "output_type": "stream",
     "text": [
      "Soy AND\n",
      "False \n",
      "\n",
      "Soy OR\n",
      "True\n"
     ]
    }
   ],
   "source": [
    "#AND\n",
    "print(\"Soy AND\")\n",
    "print((4 > 1) and (5 == 10), '\\n')\n",
    "# V            F\n",
    "# F\n",
    "\n",
    "#OR\n",
    "print(\"Soy OR\")\n",
    "print((4 > 1) or (5 == 10))\n",
    "# V            F\n",
    "# V"
   ]
  },
  {
   "cell_type": "code",
   "execution_count": 5,
   "metadata": {},
   "outputs": [
    {
     "name": "stdout",
     "output_type": "stream",
     "text": [
      "Excelente\n"
     ]
    }
   ],
   "source": [
    "#Condicion Simple\n",
    "\n",
    "if (4 > 1):\n",
    "    print(\"Excelente\")\n",
    "else:\n",
    "    print(\"Algo esta mal...\")"
   ]
  },
  {
   "cell_type": "code",
   "execution_count": 6,
   "metadata": {},
   "outputs": [
    {
     "name": "stdout",
     "output_type": "stream",
     "text": [
      "Algo esta mal\n"
     ]
    }
   ],
   "source": [
    "#Condicion Compuesta\n",
    "\n",
    "# And\n",
    "if (4 > 1) and (5 == 10):\n",
    "    print(\"Excelente\")\n",
    "else:\n",
    "    print(\"Algo esta mal\")"
   ]
  },
  {
   "cell_type": "code",
   "execution_count": 7,
   "metadata": {},
   "outputs": [
    {
     "name": "stdout",
     "output_type": "stream",
     "text": [
      "Excelente\n"
     ]
    }
   ],
   "source": [
    "# OR\n",
    "if (4 > 1) or (5 == 10):\n",
    "    print(\"Excelente\")\n",
    "else:\n",
    "    print(\"Algo esta mal\")"
   ]
  },
  {
   "cell_type": "code",
   "execution_count": 8,
   "metadata": {},
   "outputs": [
    {
     "name": "stdout",
     "output_type": "stream",
     "text": [
      "Excelente\n"
     ]
    }
   ],
   "source": [
    "# And\n",
    "if (4 > 1) and not(5 == 10):\n",
    "    print(\"Excelente\")\n",
    "else:\n",
    "    print(\"Algo esta mal\")"
   ]
  },
  {
   "cell_type": "code",
   "execution_count": 10,
   "metadata": {},
   "outputs": [
    {
     "name": "stdout",
     "output_type": "stream",
     "text": [
      "Excelente\n"
     ]
    }
   ],
   "source": [
    "# OR\n",
    "if (4 > 1) or not(5 == 10):\n",
    "    print(\"Excelente\")\n",
    "else:\n",
    "    print(\"Algo esta mal\")"
   ]
  },
  {
   "cell_type": "markdown",
   "metadata": {},
   "source": [
    "## Evaluacion de Elementos"
   ]
  },
  {
   "cell_type": "code",
   "execution_count": 53,
   "metadata": {},
   "outputs": [
    {
     "name": "stdout",
     "output_type": "stream",
     "text": [
      "Jean Charly\n",
      "Joseph\n",
      "['Nikola', 'Tesla']\n"
     ]
    }
   ],
   "source": [
    "elementosEvaluados = []\n",
    "for i in range(len(elementos)):\n",
    "    if type(elementos[i]) is str or type(elementos[i]) is list:\n",
    "        if len(elementos[i]) != 0:\n",
    "            print(elementos[i])\n"
   ]
  },
  {
   "cell_type": "code",
   "execution_count": 3,
   "metadata": {},
   "outputs": [
    {
     "name": "stdout",
     "output_type": "stream",
     "text": [
      "No puede divir entre cero.... :(\n"
     ]
    }
   ],
   "source": [
    "n = int(input(\"Ingrese un numero: \"))\n",
    "try:\n",
    "    print(2 / n)\n",
    "except ZeroDivisionError:\n",
    "    print(\"No puede divir entre cero.... :(\")"
   ]
  },
  {
   "cell_type": "code",
   "execution_count": 5,
   "metadata": {},
   "outputs": [
    {
     "name": "stdout",
     "output_type": "stream",
     "text": [
      "Esto es una lista: \n",
      " [2, 3, 4, 5, 'Jean Charly', 2, 'Jean Charly']\n",
      "\n",
      "Esto es un conjunto: \n",
      " {2, 3, 4, 5, 'Jean Charly'}\n"
     ]
    }
   ],
   "source": [
    "lista = [2, 3, 4, 5, \"Jean Charly\", 2, 'Jean Charly']\n",
    "print(\"Esto es una lista: \\n\", lista)\n",
    "print(\"\")\n",
    "\n",
    "conjunto = set(lista)\n",
    "print(\"Esto es un conjunto: \\n\", conjunto)\n"
   ]
  },
  {
   "cell_type": "code",
   "execution_count": 11,
   "metadata": {},
   "outputs": [
    {
     "data": {
      "text/plain": [
       "['Issac Newton', 'Nika Tesla', 'Marie Curie']"
      ]
     },
     "execution_count": 11,
     "metadata": {},
     "output_type": "execute_result"
    }
   ],
   "source": [
    "nombres = [\"Jean Charly\", \"Nika Tesla\", \"Marie Curie\"]\n",
    "nombres[0] = \"Issac Newton\"\n",
    "nombres"
   ]
  },
  {
   "cell_type": "markdown",
   "metadata": {},
   "source": [
    "# Diccionarios\n",
    "Mutables\\\n",
    "{Key : Value}\n",
    "\n",
    "nombres = {'semanas': [\"Lunes\", \"Martes\", ...]}"
   ]
  },
  {
   "cell_type": "code",
   "execution_count": 15,
   "metadata": {},
   "outputs": [
    {
     "name": "stdout",
     "output_type": "stream",
     "text": [
      "{'diaSemana': ['lunes', 'Martes', 'Miercoles', 'Jueves', 'Viernes']}\n",
      "['Lunes', 'Martes', 'Miercoles', 'Jueves', 'Viernes']\n"
     ]
    }
   ],
   "source": [
    "diasSemana = {\"diaSemana\": ['lunes', 'Martes', 'Miercoles', 'Jueves', 'Viernes']}\n",
    "print(diasSemana)\n",
    "diasSemana['diaSemana'][0] = \"Lunes\"\n",
    "print(diasSemana['diaSemana'])"
   ]
  },
  {
   "cell_type": "code",
   "execution_count": 16,
   "metadata": {},
   "outputs": [
    {
     "name": "stdout",
     "output_type": "stream",
     "text": [
      "{'diaSemana': ['Lunes', 'Martes', 'Miercoles', 'Jueves', 'Viernes'], 'finSemana': ['Sabado', 'Domingo']}\n"
     ]
    }
   ],
   "source": [
    "diasSemana['finSemana'] = ['Sabado', 'Domingo']\n",
    "print(diasSemana)"
   ]
  },
  {
   "cell_type": "code",
   "execution_count": 57,
   "metadata": {},
   "outputs": [
    {
     "data": {
      "text/plain": [
       "{'nombres': [], 'apellidos': [], 'edad': []}"
      ]
     },
     "execution_count": 57,
     "metadata": {},
     "output_type": "execute_result"
    }
   ],
   "source": [
    "## Diccionario como Base de Datos\n",
    "\n",
    "columnas = [\"nombres\", 'apellidos', 'edad']\n",
    "\n",
    "#Incomoda\n",
    "\n",
    "dataset = {}\n",
    "\n",
    "for i in range(len(columnas)):\n",
    "    dataset[columnas[i]] = []\n",
    "dataset\n",
    "\n",
    "\n",
    "#Elegante\n",
    "dataset1 = {columnas[i]: [] for i in range(len(columnas))}\n",
    "dataset1"
   ]
  },
  {
   "cell_type": "code",
   "execution_count": 24,
   "metadata": {},
   "outputs": [],
   "source": [
    "#Funcion random, pandas\n",
    "\n",
    "from random import  randint\n",
    "import pandas as pd"
   ]
  },
  {
   "cell_type": "code",
   "execution_count": 58,
   "metadata": {},
   "outputs": [
    {
     "data": {
      "text/plain": [
       "{'nombres': ['nombre_6',\n",
       "  'nombre_4',\n",
       "  'nombre_31',\n",
       "  'nombre_24',\n",
       "  'nombre_19',\n",
       "  'nombre_23',\n",
       "  'nombre_2',\n",
       "  'nombre_43',\n",
       "  'nombre_25',\n",
       "  'nombre_45'],\n",
       " 'apellidos': ['apellidos_9',\n",
       "  'apellidos_28',\n",
       "  'apellidos_6',\n",
       "  'apellidos_35',\n",
       "  'apellidos_41',\n",
       "  'apellidos_12',\n",
       "  'apellidos_29',\n",
       "  'apellidos_9',\n",
       "  'apellidos_20',\n",
       "  'apellidos_17'],\n",
       " 'edad': [32, 22, 32, 45, 32, 31, 35, 20, 26, 43],\n",
       " 'sexo': [0, 1, 0, 1, 0, 0, 0, 0, 1, 1]}"
      ]
     },
     "execution_count": 58,
     "metadata": {},
     "output_type": "execute_result"
    }
   ],
   "source": [
    "dataset1['sexo'] = []\n",
    "for i in range(10):\n",
    "    dataset1['nombres'].append(\"nombre_%s\"%randint(1, 50))\n",
    "    dataset1['apellidos'].append(\"apellidos_%s\"%(randint(1, 50)))\n",
    "    dataset1['edad'].append(randint(18, 50))\n",
    "    dataset1['sexo'].append(randint(0, 1))\n",
    "dataset1"
   ]
  },
  {
   "cell_type": "code",
   "execution_count": 28,
   "metadata": {},
   "outputs": [
    {
     "data": {
      "text/plain": [
       "'nombre_25'"
      ]
     },
     "execution_count": 28,
     "metadata": {},
     "output_type": "execute_result"
    }
   ],
   "source": [
    "#Eliminar el ultimo elemento de una lista, siempre y cuando no se le \n",
    "#indique el indice\n",
    "dataset1['nombres'].pop(0)"
   ]
  },
  {
   "cell_type": "code",
   "execution_count": 35,
   "metadata": {},
   "outputs": [],
   "source": [
    "df = pd.DataFrame(dataset1)\n",
    "df.to_excel(\"ListadoNombres.xlsx\", index=False)"
   ]
  },
  {
   "cell_type": "markdown",
   "metadata": {},
   "source": [
    "# Función\n",
    "\n",
    "$$f(x) = y\\\\$$\n",
    "$$y = f(x)$$\n",
    "\n",
    "- Variables\n",
    "    * Variables Independientes $x$\n",
    "    * Variables Dependientes $y$\n",
    "\n",
    "```\n",
    "FUNCION NOMBRE_(P_1, P_2, P_N) ENTONCES\n",
    "    <type> VALUE = PRCESO(P_1 + P_2 / (P_N))\n",
    "    RETORNAR VALUE\n",
    "    PRITN(VALUE)\n",
    "```\n",
    "\n",
    "- Tipos de Funciones\n",
    "\n",
    "- Funciones definidas\n",
    "- Funciones Lenguaje (Sintaxis)\n",
    "- Funciones Anonimas\n",
    "- Funciones Recursivas\n",
    "- Funciones Modulares\n",
    "- Fuciones  Matematicas\n",
    "- Funciones Trigonometricas\n",
    "- Funciones Sistema Operativo\n",
    "\n"
   ]
  },
  {
   "cell_type": "code",
   "execution_count": 48,
   "metadata": {},
   "outputs": [
    {
     "name": "stdout",
     "output_type": "stream",
     "text": [
      "2.75\n"
     ]
    },
    {
     "data": {
      "text/plain": [
       "11.0"
      ]
     },
     "execution_count": 48,
     "metadata": {},
     "output_type": "execute_result"
    }
   ],
   "source": [
    "def nombre_(p1, p2, pN):\n",
    "    try:\n",
    "        valor = (p1 + p2 / pN)\n",
    "        print(valor)\n",
    "        return valor\n",
    "    except ZeroDivisionError:\n",
    "        print(\"No se puede imprimir entre 0 :(\")\n",
    "\n",
    "resultado = nombre_(2, 3, 4) \n",
    "resultado * 4"
   ]
  },
  {
   "cell_type": "code",
   "execution_count": 52,
   "metadata": {},
   "outputs": [
    {
     "name": "stdout",
     "output_type": "stream",
     "text": [
      "Valor de N:  10\n",
      "Valor de N:  9\n",
      "Valor de N:  8\n",
      "Valor de N:  7\n",
      "Valor de N:  6\n",
      "Valor de N:  5\n",
      "Valor de N:  4\n",
      "Valor de N:  3\n",
      "Valor de N:  2\n",
      "Valor de N:  1\n",
      "Valor de N:  Adios!!!\n"
     ]
    },
    {
     "ename": "TypeError",
     "evalue": "unsupported operand type(s) for -: 'str' and 'int'",
     "output_type": "error",
     "traceback": [
      "\u001b[0;31m---------------------------------------------------------------------------\u001b[0m",
      "\u001b[0;31mTypeError\u001b[0m                                 Traceback (most recent call last)",
      "Cell \u001b[0;32mIn[52], line 9\u001b[0m\n\u001b[1;32m      7\u001b[0m         \u001b[38;5;28mprint\u001b[39m(\u001b[38;5;124m\"\u001b[39m\u001b[38;5;124mValor de N: \u001b[39m\u001b[38;5;124m\"\u001b[39m, n)\n\u001b[1;32m      8\u001b[0m         \u001b[38;5;28;01mreturn\u001b[39;00m recursion(recursion(n \u001b[38;5;241m-\u001b[39m\u001b[38;5;241m1\u001b[39m))\n\u001b[0;32m----> 9\u001b[0m \u001b[43mrecursion\u001b[49m\u001b[43m(\u001b[49m\u001b[38;5;241;43m10\u001b[39;49m\u001b[43m)\u001b[49m\n",
      "Cell \u001b[0;32mIn[52], line 8\u001b[0m, in \u001b[0;36mrecursion\u001b[0;34m(n)\u001b[0m\n\u001b[1;32m      6\u001b[0m \u001b[38;5;28;01melse\u001b[39;00m:\n\u001b[1;32m      7\u001b[0m     \u001b[38;5;28mprint\u001b[39m(\u001b[38;5;124m\"\u001b[39m\u001b[38;5;124mValor de N: \u001b[39m\u001b[38;5;124m\"\u001b[39m, n)\n\u001b[0;32m----> 8\u001b[0m     \u001b[38;5;28;01mreturn\u001b[39;00m recursion(\u001b[43mrecursion\u001b[49m\u001b[43m(\u001b[49m\u001b[43mn\u001b[49m\u001b[43m \u001b[49m\u001b[38;5;241;43m-\u001b[39;49m\u001b[38;5;241;43m1\u001b[39;49m\u001b[43m)\u001b[49m)\n",
      "Cell \u001b[0;32mIn[52], line 8\u001b[0m, in \u001b[0;36mrecursion\u001b[0;34m(n)\u001b[0m\n\u001b[1;32m      6\u001b[0m \u001b[38;5;28;01melse\u001b[39;00m:\n\u001b[1;32m      7\u001b[0m     \u001b[38;5;28mprint\u001b[39m(\u001b[38;5;124m\"\u001b[39m\u001b[38;5;124mValor de N: \u001b[39m\u001b[38;5;124m\"\u001b[39m, n)\n\u001b[0;32m----> 8\u001b[0m     \u001b[38;5;28;01mreturn\u001b[39;00m recursion(\u001b[43mrecursion\u001b[49m\u001b[43m(\u001b[49m\u001b[43mn\u001b[49m\u001b[43m \u001b[49m\u001b[38;5;241;43m-\u001b[39;49m\u001b[38;5;241;43m1\u001b[39;49m\u001b[43m)\u001b[49m)\n",
      "    \u001b[0;31m[... skipping similar frames: recursion at line 8 (8 times)]\u001b[0m\n",
      "Cell \u001b[0;32mIn[52], line 8\u001b[0m, in \u001b[0;36mrecursion\u001b[0;34m(n)\u001b[0m\n\u001b[1;32m      6\u001b[0m \u001b[38;5;28;01melse\u001b[39;00m:\n\u001b[1;32m      7\u001b[0m     \u001b[38;5;28mprint\u001b[39m(\u001b[38;5;124m\"\u001b[39m\u001b[38;5;124mValor de N: \u001b[39m\u001b[38;5;124m\"\u001b[39m, n)\n\u001b[0;32m----> 8\u001b[0m     \u001b[38;5;28;01mreturn\u001b[39;00m recursion(recursion(\u001b[43mn\u001b[49m\u001b[43m \u001b[49m\u001b[38;5;241;43m-\u001b[39;49m\u001b[38;5;241;43m1\u001b[39;49m))\n",
      "\u001b[0;31mTypeError\u001b[0m: unsupported operand type(s) for -: 'str' and 'int'"
     ]
    }
   ],
   "source": [
    "#Funcion recursiva\n",
    "\n",
    "def recursion(n):\n",
    "    if n == 0:\n",
    "        return \"Adios!!!\"\n",
    "    else:\n",
    "        print(\"Valor de N: \", n)\n",
    "        return recursion(recursion(n -1))\n",
    "recursion(10)"
   ]
  },
  {
   "cell_type": "code",
   "execution_count": 68,
   "metadata": {},
   "outputs": [],
   "source": [
    "def modificacionSexo(x):\n",
    "    if x == 1:\n",
    "        return 'Femenino'\n",
    "    return \"Masculino\""
   ]
  },
  {
   "cell_type": "code",
   "execution_count": 71,
   "metadata": {},
   "outputs": [
    {
     "data": {
      "text/html": [
       "<div>\n",
       "<style scoped>\n",
       "    .dataframe tbody tr th:only-of-type {\n",
       "        vertical-align: middle;\n",
       "    }\n",
       "\n",
       "    .dataframe tbody tr th {\n",
       "        vertical-align: top;\n",
       "    }\n",
       "\n",
       "    .dataframe thead th {\n",
       "        text-align: right;\n",
       "    }\n",
       "</style>\n",
       "<table border=\"1\" class=\"dataframe\">\n",
       "  <thead>\n",
       "    <tr style=\"text-align: right;\">\n",
       "      <th></th>\n",
       "      <th>nombres</th>\n",
       "      <th>apellidos</th>\n",
       "      <th>edad</th>\n",
       "      <th>sexo</th>\n",
       "      <th>sexoModificado1</th>\n",
       "      <th>sexoModificado2</th>\n",
       "    </tr>\n",
       "  </thead>\n",
       "  <tbody>\n",
       "    <tr>\n",
       "      <th>0</th>\n",
       "      <td>nombre_15</td>\n",
       "      <td>apellidos_26</td>\n",
       "      <td>21</td>\n",
       "      <td>0</td>\n",
       "      <td>Masculino</td>\n",
       "      <td>Masculino</td>\n",
       "    </tr>\n",
       "    <tr>\n",
       "      <th>1</th>\n",
       "      <td>nombre_24</td>\n",
       "      <td>apellidos_15</td>\n",
       "      <td>44</td>\n",
       "      <td>1</td>\n",
       "      <td>Femenino</td>\n",
       "      <td>Femenio</td>\n",
       "    </tr>\n",
       "    <tr>\n",
       "      <th>2</th>\n",
       "      <td>nombre_9</td>\n",
       "      <td>apellidos_39</td>\n",
       "      <td>40</td>\n",
       "      <td>1</td>\n",
       "      <td>Femenino</td>\n",
       "      <td>Femenio</td>\n",
       "    </tr>\n",
       "    <tr>\n",
       "      <th>3</th>\n",
       "      <td>nombre_31</td>\n",
       "      <td>apellidos_29</td>\n",
       "      <td>25</td>\n",
       "      <td>0</td>\n",
       "      <td>Masculino</td>\n",
       "      <td>Masculino</td>\n",
       "    </tr>\n",
       "    <tr>\n",
       "      <th>4</th>\n",
       "      <td>nombre_6</td>\n",
       "      <td>apellidos_25</td>\n",
       "      <td>34</td>\n",
       "      <td>0</td>\n",
       "      <td>Masculino</td>\n",
       "      <td>Masculino</td>\n",
       "    </tr>\n",
       "    <tr>\n",
       "      <th>5</th>\n",
       "      <td>nombre_18</td>\n",
       "      <td>apellidos_7</td>\n",
       "      <td>26</td>\n",
       "      <td>0</td>\n",
       "      <td>Masculino</td>\n",
       "      <td>Masculino</td>\n",
       "    </tr>\n",
       "    <tr>\n",
       "      <th>6</th>\n",
       "      <td>nombre_29</td>\n",
       "      <td>apellidos_5</td>\n",
       "      <td>23</td>\n",
       "      <td>0</td>\n",
       "      <td>Masculino</td>\n",
       "      <td>Masculino</td>\n",
       "    </tr>\n",
       "    <tr>\n",
       "      <th>7</th>\n",
       "      <td>nombre_28</td>\n",
       "      <td>apellidos_16</td>\n",
       "      <td>45</td>\n",
       "      <td>1</td>\n",
       "      <td>Femenino</td>\n",
       "      <td>Femenio</td>\n",
       "    </tr>\n",
       "    <tr>\n",
       "      <th>8</th>\n",
       "      <td>nombre_22</td>\n",
       "      <td>apellidos_21</td>\n",
       "      <td>43</td>\n",
       "      <td>0</td>\n",
       "      <td>Masculino</td>\n",
       "      <td>Masculino</td>\n",
       "    </tr>\n",
       "    <tr>\n",
       "      <th>9</th>\n",
       "      <td>nombre_9</td>\n",
       "      <td>apellidos_11</td>\n",
       "      <td>42</td>\n",
       "      <td>0</td>\n",
       "      <td>Masculino</td>\n",
       "      <td>Masculino</td>\n",
       "    </tr>\n",
       "  </tbody>\n",
       "</table>\n",
       "</div>"
      ],
      "text/plain": [
       "     nombres     apellidos  edad  sexo sexoModificado1 sexoModificado2\n",
       "0  nombre_15  apellidos_26    21     0       Masculino       Masculino\n",
       "1  nombre_24  apellidos_15    44     1        Femenino         Femenio\n",
       "2   nombre_9  apellidos_39    40     1        Femenino         Femenio\n",
       "3  nombre_31  apellidos_29    25     0       Masculino       Masculino\n",
       "4   nombre_6  apellidos_25    34     0       Masculino       Masculino\n",
       "5  nombre_18   apellidos_7    26     0       Masculino       Masculino\n",
       "6  nombre_29   apellidos_5    23     0       Masculino       Masculino\n",
       "7  nombre_28  apellidos_16    45     1        Femenino         Femenio\n",
       "8  nombre_22  apellidos_21    43     0       Masculino       Masculino\n",
       "9   nombre_9  apellidos_11    42     0       Masculino       Masculino"
      ]
     },
     "execution_count": 71,
     "metadata": {},
     "output_type": "execute_result"
    }
   ],
   "source": [
    "df['sexoModificado1'] = df['sexo'].apply(lambda x: modificacionSexo(x))\n",
    "# df['sexo'].apply(lambda x: modificacionSexo(x))\n",
    "\n",
    "df['sexoModificado2'] = df['sexo'].apply(lambda x: \"Femenio\" if x == 1 else \"Masculino\")\n"
   ]
  },
  {
   "cell_type": "code",
   "execution_count": 74,
   "metadata": {},
   "outputs": [
    {
     "data": {
      "text/plain": [
       "20"
      ]
     },
     "execution_count": 74,
     "metadata": {},
     "output_type": "execute_result"
    }
   ],
   "source": [
    "#  Lambda \n",
    "a = lambda x: x*10\n",
    "a(2)\n"
   ]
  },
  {
   "cell_type": "code",
   "execution_count": 55,
   "metadata": {},
   "outputs": [
    {
     "name": "stdout",
     "output_type": "stream",
     "text": [
      "b.csv\n",
      "bb.csv\n",
      "bbc.csv\n"
     ]
    }
   ],
   "source": [
    "elementos = ['a.xlsx', 'b.csv', 'c.doc', 'd.jpg', 'bb.csv', 'bbc.csv']\n",
    "for i in range(len(elementos)):\n",
    "    if 'csv' in elementos[i].split('.'):\n",
    "        print(elementos[i])"
   ]
  },
  {
   "cell_type": "markdown",
   "metadata": {},
   "source": [
    "# Conjuntos - set\n",
    "\n",
    "\n",
    "### Operaciones de Conjutos\n",
    "\n",
    "* Union ( | )\n",
    "* Interserccion ( & )\n",
    "* Diferencia ( - )\n",
    "* Diferencia Simetrica ( ^ )\n"
   ]
  },
  {
   "cell_type": "code",
   "execution_count": 78,
   "metadata": {},
   "outputs": [
    {
     "name": "stdout",
     "output_type": "stream",
     "text": [
      "{2, 3, 4, 5, 6, 10}\n"
     ]
    }
   ],
   "source": [
    "conjunto1 = {10,2, 4, 3, 5, 6,6}\n",
    "print(conjunto1)"
   ]
  },
  {
   "cell_type": "code",
   "execution_count": 79,
   "metadata": {},
   "outputs": [
    {
     "name": "stdout",
     "output_type": "stream",
     "text": [
      "{0, 2, 3, 4, 5, 6, 10}\n"
     ]
    }
   ],
   "source": [
    "#add\n",
    "conjunto1.add(0)\n",
    "print(conjunto1)"
   ]
  },
  {
   "cell_type": "code",
   "execution_count": 80,
   "metadata": {},
   "outputs": [
    {
     "name": "stdout",
     "output_type": "stream",
     "text": [
      "{0, 2, 3, 4, 5, 10}\n"
     ]
    }
   ],
   "source": [
    "#Remover\n",
    "conjunto1.remove(6)\n",
    "print(conjunto1)"
   ]
  },
  {
   "cell_type": "code",
   "execution_count": 81,
   "metadata": {},
   "outputs": [
    {
     "name": "stdout",
     "output_type": "stream",
     "text": [
      "{0, 2, 4, 5, 10}\n"
     ]
    }
   ],
   "source": [
    "#Descargar\n",
    "conjunto1.discard(3)\n",
    "print(conjunto1)"
   ]
  },
  {
   "cell_type": "code",
   "execution_count": 87,
   "metadata": {},
   "outputs": [
    {
     "name": "stdout",
     "output_type": "stream",
     "text": [
      "Conjuntos de A:\t {2, 3, 4, 5, 6, 22, 10}\n",
      "Conjuntos de B:\t {2, 4, 5, 7}\n"
     ]
    }
   ],
   "source": [
    "# * Union ( | )\n",
    "# * Interserccion ( & )\n",
    "# * Diferencia ( - )\n",
    "# * Diferencia Simetrica ( ^ )\n",
    "\n",
    "\n",
    "A = {3, 4, 5, 6, 2, 10, 22}\n",
    "B = {4, 2, 5, 7}\n",
    "print(f\"Conjuntos de A:\\t {A}\\nConjuntos de B:\\t {B}\")"
   ]
  },
  {
   "cell_type": "code",
   "execution_count": 88,
   "metadata": {},
   "outputs": [
    {
     "name": "stdout",
     "output_type": "stream",
     "text": [
      "{2, 3, 4, 5, 6, 7, 10, 22}\n"
     ]
    }
   ],
   "source": [
    "#Union ( | )\n",
    "print( A | B)"
   ]
  },
  {
   "cell_type": "code",
   "execution_count": 90,
   "metadata": {},
   "outputs": [
    {
     "name": "stdout",
     "output_type": "stream",
     "text": [
      "{2, 4, 5}\n",
      "{2, 4, 5}\n"
     ]
    }
   ],
   "source": [
    "#Interseccion ( & )\n",
    "print(A & B)\n",
    "print(B & A)"
   ]
  },
  {
   "cell_type": "code",
   "execution_count": 91,
   "metadata": {},
   "outputs": [
    {
     "name": "stdout",
     "output_type": "stream",
     "text": [
      "{10, 3, 6, 22}\n",
      "{7}\n"
     ]
    }
   ],
   "source": [
    "#Diferencia ( - )\n",
    "print(A -  B)\n",
    "print(B - A)"
   ]
  },
  {
   "cell_type": "code",
   "execution_count": 92,
   "metadata": {},
   "outputs": [
    {
     "name": "stdout",
     "output_type": "stream",
     "text": [
      "{3, 6, 7, 10, 22}\n",
      "{3, 7, 6, 22, 10}\n"
     ]
    }
   ],
   "source": [
    "#Diferencia Simetrica ( ^ )\n",
    "print(A ^ B)\n",
    "print(B ^ A)"
   ]
  }
 ],
 "metadata": {
  "kernelspec": {
   "display_name": "Python 3",
   "language": "python",
   "name": "python3"
  },
  "language_info": {
   "codemirror_mode": {
    "name": "ipython",
    "version": 3
   },
   "file_extension": ".py",
   "mimetype": "text/x-python",
   "name": "python",
   "nbconvert_exporter": "python",
   "pygments_lexer": "ipython3",
   "version": "3.12.1"
  }
 },
 "nbformat": 4,
 "nbformat_minor": 2
}
