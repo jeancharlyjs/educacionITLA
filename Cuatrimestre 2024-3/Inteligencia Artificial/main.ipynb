{
 "cells": [
  {
   "cell_type": "markdown",
   "metadata": {},
   "source": [
    "# Tipos de Variables\n",
    "\n",
    "* Variables Primitivas\n",
    "    - String\n",
    "    - Integer\n",
    "    - Booleanos\n",
    "    - Complejos\n",
    "    - Float\n",
    "\n",
    "* Variables Colectoras\n",
    "    ```\n",
    "    * Lista (Estatica, Dinamica) [ ... ]\n",
    "        *  Vectores\n",
    "            * Vector Fila(Arreglo/elementos)\n",
    "            * Vector Columnas\n",
    "        * Matriz\n",
    "    - Diccionarios {key: valor}\n",
    "#### Inmutables\n",
    "    - Conjuntos {...}\n",
    "    - Tuplas (...)\n",
    "```\n"
   ]
  },
  {
   "cell_type": "markdown",
   "metadata": {},
   "source": [
    "# Palabras Reservas de Python"
   ]
  },
  {
   "cell_type": "code",
   "execution_count": 6,
   "metadata": {},
   "outputs": [
    {
     "data": {
      "text/plain": [
       "['False',\n",
       " 'None',\n",
       " 'True',\n",
       " 'and',\n",
       " 'as',\n",
       " 'assert',\n",
       " 'async',\n",
       " 'await',\n",
       " 'break',\n",
       " 'class',\n",
       " 'continue',\n",
       " 'def',\n",
       " 'del',\n",
       " 'elif',\n",
       " 'else',\n",
       " 'except',\n",
       " 'finally',\n",
       " 'for',\n",
       " 'from',\n",
       " 'global',\n",
       " 'if',\n",
       " 'import',\n",
       " 'in',\n",
       " 'is',\n",
       " 'lambda',\n",
       " 'nonlocal',\n",
       " 'not',\n",
       " 'or',\n",
       " 'pass',\n",
       " 'raise',\n",
       " 'return',\n",
       " 'try',\n",
       " 'while',\n",
       " 'with',\n",
       " 'yield']"
      ]
     },
     "execution_count": 6,
     "metadata": {},
     "output_type": "execute_result"
    }
   ],
   "source": [
    "import keyword\n",
    "\n",
    "keyword.kwlist"
   ]
  },
  {
   "cell_type": "code",
   "execution_count": 17,
   "metadata": {},
   "outputs": [
    {
     "name": "stdout",
     "output_type": "stream",
     "text": [
      "Jean Charly\n",
      "Forma 1\n",
      "Jean CharlyJoseph\n",
      "Forma 2\n",
      "Jean Charly Joseph\n",
      "Forma 3\n",
      "nombre: Jean Charly apellido: Joseph\n",
      "Forma 4\n",
      "Jean Charly Joseph\n",
      "Forma 5\n",
      "Jean Charly Joseph\n"
     ]
    }
   ],
   "source": [
    "# Variables Primitivas \n",
    "\n",
    "#String ' ', \" \"\n",
    "\n",
    "nombre = \"Jean Charly\"\n",
    "apellido = \"Joseph\"\n",
    "print(nombre)\n",
    "\n",
    "#Concatenar\n",
    "print(\"Forma 1\")\n",
    "nombreCompleto = nombre + apellido\n",
    "print(nombreCompleto)\n",
    "\n",
    "print(\"Forma 2\")\n",
    "\n",
    "nombreCompleto1 = nombre + \" \" + apellido\n",
    "print(nombreCompleto1)\n",
    "\n",
    "print(\"Forma 3\")\n",
    "\n",
    "nombreCompleto2 = 'nombre: %s apellido: %s'%(nombre, apellido)\n",
    "print(nombreCompleto2)\n",
    "\n",
    "print(\"Forma 4\")\n",
    "\n",
    "nombreCompleto3 = \"{} {}\".format(nombre, apellido)\n",
    "print(nombreCompleto3)\n",
    "\n",
    "print(\"Forma 5\")\n",
    "\n",
    "nombreCompleto4 = f\"{nombre} {apellido}\"\n",
    "print(nombreCompleto4)\n"
   ]
  },
  {
   "cell_type": "code",
   "execution_count": 20,
   "metadata": {},
   "outputs": [
    {
     "ename": "ValueError",
     "evalue": "invalid literal for int() with base 10: 'Jean Charly'",
     "output_type": "error",
     "traceback": [
      "\u001b[0;31m---------------------------------------------------------------------------\u001b[0m",
      "\u001b[0;31mValueError\u001b[0m                                Traceback (most recent call last)",
      "Cell \u001b[0;32mIn[20], line 5\u001b[0m\n\u001b[1;32m      1\u001b[0m \u001b[38;5;66;03m# No concatenar\u001b[39;00m\n\u001b[1;32m      3\u001b[0m edad \u001b[38;5;241m=\u001b[39m \u001b[38;5;241m30\u001b[39m\n\u001b[0;32m----> 5\u001b[0m nombreEdad \u001b[38;5;241m=\u001b[39m \u001b[38;5;28;43mint\u001b[39;49m\u001b[43m(\u001b[49m\u001b[43mnombre\u001b[49m\u001b[43m)\u001b[49m \u001b[38;5;241m+\u001b[39m \u001b[38;5;28mstr\u001b[39m(edad)\n\u001b[1;32m      6\u001b[0m \u001b[38;5;28mprint\u001b[39m(nombreEdad)\n",
      "\u001b[0;31mValueError\u001b[0m: invalid literal for int() with base 10: 'Jean Charly'"
     ]
    }
   ],
   "source": [
    "# No concatenar\n",
    "\n",
    "edad = 30\n",
    "\n",
    "nombreEdad = int(nombre) + str(edad)\n",
    "print(nombreEdad)"
   ]
  },
  {
   "cell_type": "code",
   "execution_count": 22,
   "metadata": {},
   "outputs": [],
   "source": [
    "# Numericos\n",
    "\n",
    "a = 40   # Entero\n",
    "b = 3.14 #Decimal\n",
    "c = 3j   #Complejo"
   ]
  },
  {
   "cell_type": "code",
   "execution_count": 28,
   "metadata": {},
   "outputs": [
    {
     "name": "stdout",
     "output_type": "stream",
     "text": [
      "Suma\n",
      "\n",
      "(40+3j)\n",
      "43.14\n",
      "(3.14+3j)\n",
      "\tResta\n",
      "\n",
      "(40-3j)\n",
      "36.86\n",
      "(-3.14+3j)\n"
     ]
    }
   ],
   "source": [
    "#Operaciones\n",
    "\n",
    "#Suma\n",
    "print(\"Suma\\n\")\n",
    "print(a + c)\n",
    "print(a + b)\n",
    "print(c + b)\n",
    "\n",
    "#Resta\n",
    "print(\"\\tResta\\n\")\n",
    "print(a - c)\n",
    "print(a - b)\n",
    "print(c - b)\n"
   ]
  },
  {
   "cell_type": "code",
   "execution_count": 34,
   "metadata": {},
   "outputs": [
    {
     "name": "stdout",
     "output_type": "stream",
     "text": [
      "Jean Charly Joseph\n",
      "Jean CharlyJean CharlyJean CharlyJean CharlyJean Charly\n"
     ]
    }
   ],
   "source": [
    "#Operaciones con String\n",
    "\n",
    "#Con signo de suma podemos concatenar\n",
    "\n",
    "print(nombre + \" \" +apellido)\n",
    "\n",
    "#Con signo de multiplicacion se repite n cantidad de veces\n",
    "print(nombre * 5)"
   ]
  },
  {
   "cell_type": "markdown",
   "metadata": {},
   "source": [
    "# Variables Colectoras"
   ]
  },
  {
   "cell_type": "code",
   "execution_count": 13,
   "metadata": {},
   "outputs": [
    {
     "name": "stdout",
     "output_type": "stream",
     "text": [
      "['Jean Charly', 'Joseph', 32, True, None, 3.14, 43j, [], ['Nikola', 'Tesla']]\n"
     ]
    }
   ],
   "source": [
    "#Listas \n",
    "\n",
    "elementos = [\"Jean Charly\", \"Joseph\", 32, True, None, 3.14, 43j, [], ['Nikola', \"Tesla\"]]\n",
    "print(elementos)"
   ]
  },
  {
   "cell_type": "markdown",
   "metadata": {},
   "source": [
    "### Indice"
   ]
  },
  {
   "cell_type": "code",
   "execution_count": 38,
   "metadata": {},
   "outputs": [
    {
     "data": {
      "text/plain": [
       "32"
      ]
     },
     "execution_count": 38,
     "metadata": {},
     "output_type": "execute_result"
    }
   ],
   "source": [
    "elementos[2]"
   ]
  },
  {
   "cell_type": "markdown",
   "metadata": {},
   "source": [
    "### Slices"
   ]
  },
  {
   "cell_type": "code",
   "execution_count": 39,
   "metadata": {},
   "outputs": [
    {
     "data": {
      "text/plain": [
       "['Jean Charly', 'Joseph']"
      ]
     },
     "execution_count": 39,
     "metadata": {},
     "output_type": "execute_result"
    }
   ],
   "source": [
    "elementos[:2]"
   ]
  },
  {
   "cell_type": "code",
   "execution_count": 40,
   "metadata": {},
   "outputs": [
    {
     "data": {
      "text/plain": [
       "[32, True, None, 3.14, 43j, [], ['Nikola', 'Tesla']]"
      ]
     },
     "execution_count": 40,
     "metadata": {},
     "output_type": "execute_result"
    }
   ],
   "source": [
    "elementos[2:]"
   ]
  },
  {
   "cell_type": "code",
   "execution_count": 41,
   "metadata": {},
   "outputs": [
    {
     "data": {
      "text/plain": [
       "[32, True, None, 3.14]"
      ]
     },
     "execution_count": 41,
     "metadata": {},
     "output_type": "execute_result"
    }
   ],
   "source": [
    "elementos[2:6]"
   ]
  },
  {
   "cell_type": "code",
   "execution_count": 44,
   "metadata": {},
   "outputs": [
    {
     "data": {
      "text/plain": [
       "'JosephJean Charly'"
      ]
     },
     "execution_count": 44,
     "metadata": {},
     "output_type": "execute_result"
    }
   ],
   "source": [
    "elementos[1] + \"Jean Charly\""
   ]
  },
  {
   "cell_type": "code",
   "execution_count": 48,
   "metadata": {},
   "outputs": [
    {
     "data": {
      "text/plain": [
       "9"
      ]
     },
     "execution_count": 48,
     "metadata": {},
     "output_type": "execute_result"
    }
   ],
   "source": [
    "# Tamaño de la Lista\n",
    "\n",
    "len(elementos)"
   ]
  },
  {
   "cell_type": "code",
   "execution_count": 53,
   "metadata": {},
   "outputs": [
    {
     "data": {
      "text/plain": [
       "str"
      ]
     },
     "execution_count": 53,
     "metadata": {},
     "output_type": "execute_result"
    }
   ],
   "source": [
    "#Tipo de datos o elementos\n",
    "\n",
    "type(elementos[0])"
   ]
  },
  {
   "cell_type": "markdown",
   "metadata": {},
   "source": [
    "## $\\sum^{n}_{i=1} x_i$\n",
    "\n",
    "```\n",
    "PARA i EN RANGO(INTERVALO):\n",
    "    IMPRIMIR(i)\n",
    "```"
   ]
  },
  {
   "cell_type": "code",
   "execution_count": 55,
   "metadata": {},
   "outputs": [
    {
     "name": "stdout",
     "output_type": "stream",
     "text": [
      "0  >>> Jean Charly  \t\t <class 'str'>\n",
      "1  >>> Joseph  \t\t <class 'str'>\n",
      "2  >>> 32  \t\t <class 'int'>\n",
      "3  >>> True  \t\t <class 'bool'>\n",
      "4  >>> None  \t\t <class 'NoneType'>\n",
      "5  >>> 3.14  \t\t <class 'float'>\n",
      "6  >>> 43j  \t\t <class 'complex'>\n",
      "7  >>> []  \t\t <class 'list'>\n",
      "8  >>> ['Nikola', 'Tesla']  \t\t <class 'list'>\n"
     ]
    }
   ],
   "source": [
    "for i in range(len(elementos)):\n",
    "    print(i, \" >>>\", elementos[i], \" \\t\\t\", type(elementos[i]))"
   ]
  },
  {
   "cell_type": "markdown",
   "metadata": {},
   "source": [
    "# Control de Flujos\n",
    "\n",
    "\n",
    "```\n",
    "SI (CONDICION) ENTONCES:\n",
    "     SENTENCIA\n",
    "SINO\n",
    "     SENTENCIA\n",
    "```\n",
    "\n",
    "## Operadores\n",
    "Son factores booleanos\n",
    "\n",
    "```\n",
    "== Igual\n",
    "<  Menor\n",
    ">  Mayor\n",
    "<= Menor Igual\n",
    ">= Mayor Igual\n",
    "!= Diferente\n",
    "```"
   ]
  },
  {
   "cell_type": "code",
   "execution_count": null,
   "metadata": {},
   "outputs": [],
   "source": [
    "#Enunciado\n",
    "##Simple\n",
    "(2 < 1)\n"
   ]
  },
  {
   "cell_type": "markdown",
   "metadata": {},
   "source": [
    "### Conectores\n",
    "\n",
    "* Y (and &) #V = VV\n",
    "* O (or ||) #V = VF\n",
    "* No (not ) #V = F"
   ]
  },
  {
   "cell_type": "code",
   "execution_count": 1,
   "metadata": {},
   "outputs": [
    {
     "name": "stdout",
     "output_type": "stream",
     "text": [
      "True\n",
      "False\n"
     ]
    }
   ],
   "source": [
    "#Compuesto\n",
    "### Conectores Logicos\n",
    "\n",
    "a = (4 > 1)\n",
    "b = (5 == 10)\n",
    "print(a)\n",
    "print(b)"
   ]
  },
  {
   "cell_type": "code",
   "execution_count": 4,
   "metadata": {},
   "outputs": [
    {
     "name": "stdout",
     "output_type": "stream",
     "text": [
      "Soy AND\n",
      "False \n",
      "\n",
      "Soy OR\n",
      "True\n"
     ]
    }
   ],
   "source": [
    "#AND\n",
    "print(\"Soy AND\")\n",
    "print((4 > 1) and (5 == 10), '\\n')\n",
    "# V            F\n",
    "# F\n",
    "\n",
    "#OR\n",
    "print(\"Soy OR\")\n",
    "print((4 > 1) or (5 == 10))\n",
    "# V            F\n",
    "# V"
   ]
  },
  {
   "cell_type": "code",
   "execution_count": 5,
   "metadata": {},
   "outputs": [
    {
     "name": "stdout",
     "output_type": "stream",
     "text": [
      "Excelente\n"
     ]
    }
   ],
   "source": [
    "#Condicion Simple\n",
    "\n",
    "if (4 > 1):\n",
    "    print(\"Excelente\")\n",
    "else:\n",
    "    print(\"Algo esta mal...\")"
   ]
  },
  {
   "cell_type": "code",
   "execution_count": 6,
   "metadata": {},
   "outputs": [
    {
     "name": "stdout",
     "output_type": "stream",
     "text": [
      "Algo esta mal\n"
     ]
    }
   ],
   "source": [
    "#Condicion Compuesta\n",
    "\n",
    "# And\n",
    "if (4 > 1) and (5 == 10):\n",
    "    print(\"Excelente\")\n",
    "else:\n",
    "    print(\"Algo esta mal\")"
   ]
  },
  {
   "cell_type": "code",
   "execution_count": 7,
   "metadata": {},
   "outputs": [
    {
     "name": "stdout",
     "output_type": "stream",
     "text": [
      "Excelente\n"
     ]
    }
   ],
   "source": [
    "# OR\n",
    "if (4 > 1) or (5 == 10):\n",
    "    print(\"Excelente\")\n",
    "else:\n",
    "    print(\"Algo esta mal\")"
   ]
  },
  {
   "cell_type": "code",
   "execution_count": 8,
   "metadata": {},
   "outputs": [
    {
     "name": "stdout",
     "output_type": "stream",
     "text": [
      "Excelente\n"
     ]
    }
   ],
   "source": [
    "# And\n",
    "if (4 > 1) and not(5 == 10):\n",
    "    print(\"Excelente\")\n",
    "else:\n",
    "    print(\"Algo esta mal\")"
   ]
  },
  {
   "cell_type": "code",
   "execution_count": 10,
   "metadata": {},
   "outputs": [
    {
     "name": "stdout",
     "output_type": "stream",
     "text": [
      "Excelente\n"
     ]
    }
   ],
   "source": [
    "# OR\n",
    "if (4 > 1) or not(5 == 10):\n",
    "    print(\"Excelente\")\n",
    "else:\n",
    "    print(\"Algo esta mal\")"
   ]
  },
  {
   "cell_type": "markdown",
   "metadata": {},
   "source": [
    "## Evaluacion de Elementos"
   ]
  },
  {
   "cell_type": "code",
   "execution_count": 53,
   "metadata": {},
   "outputs": [
    {
     "name": "stdout",
     "output_type": "stream",
     "text": [
      "Jean Charly\n",
      "Joseph\n",
      "['Nikola', 'Tesla']\n"
     ]
    }
   ],
   "source": [
    "elementosEvaluados = []\n",
    "for i in range(len(elementos)):\n",
    "    if type(elementos[i]) is str or type(elementos[i]) is list:\n",
    "        if len(elementos[i]) != 0:\n",
    "            print(elementos[i])\n"
   ]
  }
 ],
 "metadata": {
  "kernelspec": {
   "display_name": "Python 3",
   "language": "python",
   "name": "python3"
  },
  "language_info": {
   "codemirror_mode": {
    "name": "ipython",
    "version": 3
   },
   "file_extension": ".py",
   "mimetype": "text/x-python",
   "name": "python",
   "nbconvert_exporter": "python",
   "pygments_lexer": "ipython3",
   "version": "3.12.1"
  }
 },
 "nbformat": 4,
 "nbformat_minor": 2
}
