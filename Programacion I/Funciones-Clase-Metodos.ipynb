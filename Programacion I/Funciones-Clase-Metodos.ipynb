{
 "cells": [
  {
   "cell_type": "markdown",
   "id": "ee0ca78c-0775-44d1-9a19-fddc688b8e90",
   "metadata": {},
   "source": [
    "_Prof. Jean Charly Ph. Joseph S._\n",
    "\n",
    "# Funciones\n",
    "$$y = f(x)$$\n",
    "\n",
    "```\n",
    "En programación, una función es un bloque de código que realiza una tarea específica. Una función se puede llamar desde cualquier lugar del programa donde se necesite realizar esa tarea en particular.\n",
    "\n",
    "Las funciones ayudan a organizar el código en piezas más pequeñas y manejables, lo que facilita la escritura, el mantenimiento y la depuración del programa. En lugar de tener un programa largo y desordenado con todo el código en un solo lugar, las funciones permiten dividir el programa en módulos más pequeños y enfocados. Esto hace que el código sea más fácil de entender y de trabajar.\n",
    "\n",
    "Además, las funciones se pueden reutilizar en diferentes partes del programa, lo que reduce la duplicación de código y hace que el programa sea más eficiente en términos de memoria y tiempo de ejecución. También permiten la modularidad, lo que significa que se pueden agregar o eliminar funciones sin afectar al resto del programa.\n",
    "\n",
    "Las funciones pueden recibir uno o varios argumentos como entrada, y pueden devolver un valor como salida. En algunos casos, una función no necesita devolver ningún valor, sino que realiza una tarea específica en su lugar.\n",
    "```\n",
    "\n",
    "* Funciones Definidas\n",
    "* Funciones del Lenguaje\n",
    "* Funciones Anonimas\n",
    "* Funcion Recursiva\n",
    "\n",
    "```\n",
    "Funcion nombreFuncion(p1, p2, pn){\n",
    "        productoFuncion\n",
    "    retorna valor\n",
    "}\n",
    "```"
   ]
  },
  {
   "cell_type": "markdown",
   "id": "0e21f938-b780-4317-abea-f160dff034c8",
   "metadata": {},
   "source": [
    "### Funcion Definidas\n",
    "\n",
    "__Son aquellas que sea crean de manera propiea para resolver un problema en cuesetion y pueden recibir N cantidad de parametros__\n",
    "\n",
    "```\n",
    "funcion nombreCrear(par1, par2):\n",
    "    proceso\n",
    "    retorno valor\n",
    "```\n",
    "```\n",
    "Las funciones definidas son aquellas que se definen mediante una sintaxis específica en el código de un programa. Estas funciones tienen un nombre y pueden ser llamadas desde cualquier lugar del código que tenga acceso a ellas. Las funciones definidas son una forma común de organizar el código y hacerlo más modular y fácil de mantener\n",
    "```"
   ]
  },
  {
   "cell_type": "code",
   "execution_count": 1,
   "id": "8da27f2d-1414-4afd-99ac-67b4841b5f8f",
   "metadata": {},
   "outputs": [
    {
     "name": "stdin",
     "output_type": "stream",
     "text": [
      "Ingrese un numero:  25\n",
      "Ingrese otro numero:  25\n"
     ]
    }
   ],
   "source": [
    "num1 = float(input(\"Ingrese un numero: \"))\n",
    "num2 = float(input(\"Ingrese otro numero: \"))"
   ]
  },
  {
   "cell_type": "code",
   "execution_count": 2,
   "id": "316069bf-e4b9-43d7-a672-05a926acac7d",
   "metadata": {},
   "outputs": [
    {
     "data": {
      "text/plain": [
       "25.0"
      ]
     },
     "execution_count": 2,
     "metadata": {},
     "output_type": "execute_result"
    }
   ],
   "source": [
    "num1"
   ]
  },
  {
   "cell_type": "code",
   "execution_count": 3,
   "id": "cef525f6-ecac-4176-ad44-847b1fbc7595",
   "metadata": {},
   "outputs": [
    {
     "data": {
      "text/plain": [
       "25.0"
      ]
     },
     "execution_count": 3,
     "metadata": {},
     "output_type": "execute_result"
    }
   ],
   "source": [
    "num2"
   ]
  },
  {
   "cell_type": "code",
   "execution_count": 4,
   "id": "8a443187-57d1-4b22-a55f-913e476ec314",
   "metadata": {},
   "outputs": [
    {
     "data": {
      "text/plain": [
       "50.0"
      ]
     },
     "execution_count": 4,
     "metadata": {},
     "output_type": "execute_result"
    }
   ],
   "source": [
    "resultado = num1 + num2\n",
    "resultado"
   ]
  },
  {
   "cell_type": "code",
   "execution_count": 11,
   "id": "e64db042-dc9b-4450-9bbc-11af5af8ba19",
   "metadata": {},
   "outputs": [
    {
     "name": "stdout",
     "output_type": "stream",
     "text": [
      "elemento 44\n"
     ]
    },
    {
     "data": {
      "text/plain": [
       "44"
      ]
     },
     "execution_count": 11,
     "metadata": {},
     "output_type": "execute_result"
    }
   ],
   "source": [
    "def suma(n1, n2):\n",
    "    valor = n1+n2\n",
    "    print(\"elemento\", valor)\n",
    "    return (valor)\n",
    "suma(24, 20)"
   ]
  },
  {
   "cell_type": "code",
   "execution_count": 13,
   "id": "66407586-5fe4-4abd-8cca-56af647d71dd",
   "metadata": {},
   "outputs": [
    {
     "name": "stdout",
     "output_type": "stream",
     "text": [
      "23.15\n"
     ]
    }
   ],
   "source": [
    "def suma1(n1, n2):\n",
    "    print(n1+n2)\n",
    "valor = suma1(20, 3.15)"
   ]
  },
  {
   "cell_type": "code",
   "execution_count": 24,
   "id": "b459b446-cd6d-46b5-9777-a5d8af9caf50",
   "metadata": {},
   "outputs": [],
   "source": [
    "valor"
   ]
  },
  {
   "cell_type": "code",
   "execution_count": 25,
   "id": "31c9d861-228c-44aa-ab56-0fc44be7671b",
   "metadata": {},
   "outputs": [
    {
     "data": {
      "text/plain": [
       "140703291436232"
      ]
     },
     "execution_count": 25,
     "metadata": {},
     "output_type": "execute_result"
    }
   ],
   "source": [
    "id(valor)"
   ]
  },
  {
   "cell_type": "code",
   "execution_count": 26,
   "id": "13bf1e6f-2cf5-448b-8989-4f6dc24ad9c4",
   "metadata": {},
   "outputs": [
    {
     "name": "stdout",
     "output_type": "stream",
     "text": [
      "Esto es print:  23.15\n"
     ]
    }
   ],
   "source": [
    "def suma1(n1, n2):\n",
    "    print(\"Esto es print: \", n1+n2)\n",
    "    return n1 + n2\n",
    "    print(\"Esto es despues de return.\")\n",
    "valor1 = suma1(20, 3.15)"
   ]
  },
  {
   "cell_type": "code",
   "execution_count": 27,
   "id": "4b6b9685-1e74-4915-80e0-c9a9be388f8b",
   "metadata": {},
   "outputs": [
    {
     "data": {
      "text/plain": [
       "23.15"
      ]
     },
     "execution_count": 27,
     "metadata": {},
     "output_type": "execute_result"
    }
   ],
   "source": [
    "valor1"
   ]
  },
  {
   "cell_type": "markdown",
   "id": "c422e302-7515-4712-8d93-13f4b9b784fe",
   "metadata": {},
   "source": [
    "### Funcion Del Lenguaje\n",
    "__Son aquellas que estan adheridas al lenguaje de programacion mismo.__ (No hay una regla general en cuestion de sintaxis).\n",
    "\n",
    "```\n",
    "Las funciones del lenguaje son aquellas que están incorporadas en el lenguaje de programación en sí mismo. Estas funciones realizan tareas comunes como la entrada y salida de datos, la manipulación de cadenas, la creación de archivos, entre otras. Las funciones del lenguaje están disponibles para cualquier programa que esté escrito en ese lenguaje.\n",
    "```"
   ]
  },
  {
   "cell_type": "code",
   "execution_count": 1,
   "id": "c8b9f538-fb44-4e9e-9ced-599711010138",
   "metadata": {},
   "outputs": [],
   "source": [
    "#String \n",
    "saludo = \"Hola estudiantes del ITLA.\""
   ]
  },
  {
   "cell_type": "code",
   "execution_count": 49,
   "id": "b59bd64a-4400-42b2-b3de-9eae6214d444",
   "metadata": {},
   "outputs": [
    {
     "ename": "TypeError",
     "evalue": "'str' object does not support item assignment",
     "output_type": "error",
     "traceback": [
      "\u001b[1;31m---------------------------------------------------------------------------\u001b[0m",
      "\u001b[1;31mTypeError\u001b[0m                                 Traceback (most recent call last)",
      "Cell \u001b[1;32mIn [49], line 1\u001b[0m\n\u001b[1;32m----> 1\u001b[0m \u001b[43msaludo\u001b[49m\u001b[43m[\u001b[49m\u001b[38;5;241;43m1\u001b[39;49m\u001b[43m]\u001b[49m \u001b[38;5;241m=\u001b[39m \u001b[38;5;124m\"\u001b[39m\u001b[38;5;124ma\u001b[39m\u001b[38;5;124m\"\u001b[39m\n",
      "\u001b[1;31mTypeError\u001b[0m: 'str' object does not support item assignment"
     ]
    }
   ],
   "source": [
    "#Los String son tuplas que siendo una cadena de texto no se puede acceder y modificar un caracter.\n",
    "saludo[1] = \"a\""
   ]
  },
  {
   "cell_type": "code",
   "execution_count": 30,
   "id": "d4d35dc3-157b-4fb7-8f2c-5f6ff6875ba8",
   "metadata": {},
   "outputs": [
    {
     "data": {
      "text/plain": [
       "26"
      ]
     },
     "execution_count": 30,
     "metadata": {},
     "output_type": "execute_result"
    }
   ],
   "source": [
    "len(saludo)"
   ]
  },
  {
   "cell_type": "code",
   "execution_count": 41,
   "id": "860dac87-42cd-4442-bb43-228a0b93f1be",
   "metadata": {},
   "outputs": [
    {
     "data": {
      "text/plain": [
       "['Hola', 'estudiantes', 'del', 'ITLA.']"
      ]
     },
     "execution_count": 41,
     "metadata": {},
     "output_type": "execute_result"
    }
   ],
   "source": [
    "s = saludo.split(\" \")\n",
    "s"
   ]
  },
  {
   "cell_type": "code",
   "execution_count": 43,
   "id": "c79f0252-0df1-41b6-a334-d71463de9ea6",
   "metadata": {},
   "outputs": [],
   "source": [
    "s[1] = \"Personas\""
   ]
  },
  {
   "cell_type": "code",
   "execution_count": 45,
   "id": "ee7076c4-8abc-4760-ad06-f124dcf4e0bc",
   "metadata": {},
   "outputs": [
    {
     "data": {
      "text/plain": [
       "'Hola Personas del ITLA.'"
      ]
     },
     "execution_count": 45,
     "metadata": {},
     "output_type": "execute_result"
    }
   ],
   "source": [
    "\" \".join(s)"
   ]
  },
  {
   "cell_type": "code",
   "execution_count": null,
   "id": "7eb7923e-da0d-4e38-a660-3e94de4341de",
   "metadata": {},
   "outputs": [],
   "source": []
  },
  {
   "cell_type": "code",
   "execution_count": 50,
   "id": "34de9acc-3cc8-4d78-8b21-421f5ecf0ddf",
   "metadata": {},
   "outputs": [
    {
     "data": {
      "text/plain": [
       "4"
      ]
     },
     "execution_count": 50,
     "metadata": {},
     "output_type": "execute_result"
    }
   ],
   "source": [
    "len(saludo.split(\" \"))"
   ]
  },
  {
   "cell_type": "code",
   "execution_count": 51,
   "id": "ec62ad68-fdbe-4be7-b021-7d2adad1d3fe",
   "metadata": {},
   "outputs": [
    {
     "data": {
      "text/plain": [
       "['Hola', 'estudiantes', 'del', 'ITLA.']"
      ]
     },
     "execution_count": 51,
     "metadata": {},
     "output_type": "execute_result"
    }
   ],
   "source": [
    "lista = saludo.split(\" \")\n",
    "lista"
   ]
  },
  {
   "cell_type": "code",
   "execution_count": 58,
   "id": "1ca11450-ea5a-455a-bf6b-cb41e6cd7e7c",
   "metadata": {},
   "outputs": [
    {
     "data": {
      "text/plain": [
       "'Hola estudiantes del ITLA.'"
      ]
     },
     "execution_count": 58,
     "metadata": {},
     "output_type": "execute_result"
    }
   ],
   "source": [
    "\" \".join(lista)"
   ]
  },
  {
   "cell_type": "code",
   "execution_count": 54,
   "id": "67664b62-ba73-4a72-b7cb-510a4b423f13",
   "metadata": {},
   "outputs": [
    {
     "name": "stdout",
     "output_type": "stream",
     "text": [
      "0 Hola\n",
      "1 estudiantes\n",
      "2 del\n",
      "3 ITLA.\n"
     ]
    }
   ],
   "source": [
    "#Lista\n",
    "for i in range(len(saludo.split(\" \"))):\n",
    "    print(i, saludo.split(\" \")[i])"
   ]
  },
  {
   "cell_type": "code",
   "execution_count": 2,
   "id": "662123fd-7077-4f62-8bd3-3d1b17e70451",
   "metadata": {},
   "outputs": [
    {
     "name": "stdout",
     "output_type": "stream",
     "text": [
      "<class 'str'>\n"
     ]
    }
   ],
   "source": [
    "print(type(\"Hola\")) # - Clases - Objeto - Atributos - Metodos"
   ]
  },
  {
   "cell_type": "code",
   "execution_count": 43,
   "id": "27e30e81-a43e-45d9-aeec-3909fc6f8368",
   "metadata": {},
   "outputs": [],
   "source": [
    "# dir(\"Hola\")"
   ]
  },
  {
   "cell_type": "code",
   "execution_count": null,
   "id": "3fc8bc12-e07b-4681-93e4-04ae01fe23e5",
   "metadata": {},
   "outputs": [],
   "source": [
    "#Funciones primitivas\n",
    "str()\n",
    "int()\n",
    "bool()\n",
    "float()\n",
    "complex()"
   ]
  },
  {
   "cell_type": "markdown",
   "id": "6f963949-a04a-4dca-8489-7e9aa7f76ca9",
   "metadata": {},
   "source": [
    "### Funcion Anonimas\n",
    "\n",
    "__Son pequellas funciones sin nombre que se utiliza en el momento en que se necesite realizar una operacion especifica__\n",
    "\n",
    "```\n",
    "Las funciones anónimas son aquellas que no tienen un nombre definido. Estas funciones se crean y se utilizan en el momento, sin necesidad de definirlas previamente. Las funciones anónimas son útiles cuando se necesitan realizar operaciones rápidas en un solo lugar, sin tener que definir una función separada.\n",
    "```"
   ]
  },
  {
   "cell_type": "code",
   "execution_count": 72,
   "id": "1a0c7fe5-6756-4426-8228-70fc4a0755a7",
   "metadata": {},
   "outputs": [],
   "source": [
    "p = lambda x, y: x ** 2 + y"
   ]
  },
  {
   "cell_type": "code",
   "execution_count": 74,
   "id": "4797303a-cf23-42a1-9f8f-85bad1238560",
   "metadata": {},
   "outputs": [
    {
     "data": {
      "text/plain": [
       "41"
      ]
     },
     "execution_count": 74,
     "metadata": {},
     "output_type": "execute_result"
    }
   ],
   "source": [
    "p(6, 5)"
   ]
  },
  {
   "cell_type": "code",
   "execution_count": 71,
   "id": "c7cdab94-a93f-44ba-9a18-20b27f38d94f",
   "metadata": {},
   "outputs": [
    {
     "data": {
      "text/plain": [
       "4"
      ]
     },
     "execution_count": 71,
     "metadata": {},
     "output_type": "execute_result"
    }
   ],
   "source": [
    "p(2)"
   ]
  },
  {
   "cell_type": "markdown",
   "id": "c2006991-2f10-447b-a81a-9d466f7fd606",
   "metadata": {},
   "source": [
    "### Funcion Recursivas\n",
    "\n",
    "__Son aquellas funciones que al momento de ser creada existe en si mismo.__\n",
    "\n",
    "```\n",
    "Las funciones recursivas son aquellas que se llaman a sí mismas durante su ejecución. Estas funciones son útiles cuando se necesita repetir una tarea varias veces, como por ejemplo en la búsqueda de un elemento en una estructura de datos. Las funciones recursivas deben tener una condición de parada para evitar una llamada infinita.\n",
    "```"
   ]
  },
  {
   "cell_type": "code",
   "execution_count": 56,
   "id": "58ecd6fe-d608-4f94-bca4-c303f77b7b55",
   "metadata": {},
   "outputs": [],
   "source": [
    "def fact(n):\n",
    "    if n == 1:\n",
    "        print(\"Excelente N >>>> %s == 1\"%n)\n",
    "        return 1\n",
    "    else:\n",
    "        print(\"%s != 1\"%n)\n",
    "        # print(n, end=\" \")\n",
    "        return n * fact(n-1)"
   ]
  },
  {
   "cell_type": "code",
   "execution_count": 59,
   "id": "e88c4ae1-7f7f-4e34-972f-192a8e61b1c4",
   "metadata": {},
   "outputs": [
    {
     "name": "stdout",
     "output_type": "stream",
     "text": [
      "5 != 1\n",
      "4 != 1\n",
      "3 != 1\n",
      "2 != 1\n",
      "Excelente N >>>> 1 == 1\n"
     ]
    },
    {
     "data": {
      "text/plain": [
       "120"
      ]
     },
     "execution_count": 59,
     "metadata": {},
     "output_type": "execute_result"
    }
   ],
   "source": [
    "fact(5)"
   ]
  },
  {
   "cell_type": "code",
   "execution_count": 82,
   "id": "d0681e9f-d00c-4f74-80b7-f3aab4454723",
   "metadata": {},
   "outputs": [],
   "source": [
    "def hola():\n",
    "    print(\"Hola, como estas\")\n",
    "    hola()\n",
    "    return \"hola\""
   ]
  },
  {
   "cell_type": "code",
   "execution_count": 96,
   "id": "8ae4e0fd-890f-4b79-9cac-8811cdbd89db",
   "metadata": {},
   "outputs": [],
   "source": [
    "# hola()"
   ]
  },
  {
   "cell_type": "markdown",
   "id": "ef6e7f28-ddb5-4376-9266-c9d41d428b93",
   "metadata": {},
   "source": [
    "# Clases\n",
    "* Objeto\n",
    "    - Atribuntos"
   ]
  },
  {
   "cell_type": "markdown",
   "id": "9bdd3d38-dd66-44bf-b2cd-947a1c597194",
   "metadata": {},
   "source": [
    "# Metodos"
   ]
  }
 ],
 "metadata": {
  "kernelspec": {
   "display_name": "Python 3 (ipykernel)",
   "language": "python",
   "name": "python3"
  },
  "language_info": {
   "codemirror_mode": {
    "name": "ipython",
    "version": 3
   },
   "file_extension": ".py",
   "mimetype": "text/x-python",
   "name": "python",
   "nbconvert_exporter": "python",
   "pygments_lexer": "ipython3",
   "version": "3.11.0"
  }
 },
 "nbformat": 4,
 "nbformat_minor": 5
}
