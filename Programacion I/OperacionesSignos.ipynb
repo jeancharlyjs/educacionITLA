{
 "cells": [
  {
   "cell_type": "markdown",
   "id": "a86628d5-092a-410e-9123-e7369408e222",
   "metadata": {},
   "source": [
    "# Operaciones de Aritmetica\n",
    "- Suma  +\n",
    "- Resta -\n",
    "- Multiplicacion *\n",
    "- Division /\n",
    "- Modulo //"
   ]
  },
  {
   "cell_type": "code",
   "execution_count": null,
   "id": "92f17092-f1eb-4648-bc56-36c2cdc33af7",
   "metadata": {},
   "outputs": [
    {
     "data": {
      "text/plain": [
       "7"
      ]
     },
     "execution_count": 3,
     "metadata": {},
     "output_type": "execute_result"
    }
   ],
   "source": [
    "# Suma\n",
    "2 + 5\n",
    "n1 = 2\n",
    "n2 = 5\n",
    "r = n1 + n2\n",
    "r"
   ]
  },
  {
   "cell_type": "code",
   "execution_count": null,
   "id": "f252c533-eaea-474f-b8ce-331793b142cd",
   "metadata": {},
   "outputs": [
    {
     "data": {
      "text/plain": [
       "-3"
      ]
     },
     "execution_count": 5,
     "metadata": {},
     "output_type": "execute_result"
    }
   ],
   "source": [
    "## Resta\n",
    "2 - 5\n",
    "n1 = 2\n",
    "n2 = 5\n",
    "r = n1 - n2\n",
    "r"
   ]
  },
  {
   "cell_type": "code",
   "execution_count": null,
   "id": "31526a0e-c1b8-47d9-b63f-5b8f2176aed7",
   "metadata": {},
   "outputs": [],
   "source": [
    "# String\n",
    "# Suma - Concatenacion\n",
    "\n",
    "\"Hola\" + \" Mundo\"\n",
    "\"Hola\" * 5"
   ]
  },
  {
   "cell_type": "code",
   "execution_count": null,
   "id": "0f7c58d5-de08-4237-becc-d5926269ac9a",
   "metadata": {},
   "outputs": [
    {
     "data": {
      "text/plain": [
       "'HolaHola Como estas'"
      ]
     },
     "execution_count": 18,
     "metadata": {},
     "output_type": "execute_result"
    }
   ],
   "source": [
    "((\"Hola\" *2 ) + \" Como estas\")"
   ]
  },
  {
   "cell_type": "code",
   "execution_count": null,
   "id": "ce31931b-c3e2-47db-8cf7-1cfb912da0ec",
   "metadata": {},
   "outputs": [],
   "source": [
    "elemento = [\"Hola\", 2, 3.14, False, 5j]\n",
    "elemento2 = [2, 3, 4, \"Jean\"]"
   ]
  },
  {
   "cell_type": "code",
   "execution_count": null,
   "id": "2501152e-c8db-42be-b8bb-42a33c094370",
   "metadata": {},
   "outputs": [
    {
     "data": {
      "text/plain": [
       "['Hola', 2, 3.14, False, 5j, 2, 3, 4, 'Jean']"
      ]
     },
     "execution_count": 6,
     "metadata": {},
     "output_type": "execute_result"
    }
   ],
   "source": [
    "elemento  + elemento2\n"
   ]
  },
  {
   "cell_type": "code",
   "execution_count": 30,
   "id": "9ee60c3a-a6b2-492c-9a0c-21babe79270a",
   "metadata": {},
   "outputs": [],
   "source": [
    "elementoT = tuple(elemento)\n",
    "elementot2 = tuple(elemento2)"
   ]
  },
  {
   "cell_type": "code",
   "execution_count": 31,
   "id": "7f0c956f-1f81-4f16-8cca-4335f471cd6a",
   "metadata": {},
   "outputs": [
    {
     "data": {
      "text/plain": [
       "('Hola', 2, 3.14, False, 5j, 2, 3, 4, 'Jean')"
      ]
     },
     "execution_count": 31,
     "metadata": {},
     "output_type": "execute_result"
    }
   ],
   "source": [
    "elementoT + elementot2"
   ]
  },
  {
   "cell_type": "markdown",
   "id": "207112b2-ee8b-440b-adb4-f571babc457a",
   "metadata": {},
   "source": [
    "# Operaciones de Asignacion y Comparacion\n",
    "\n",
    "- Asignacion =\n",
    "- Comparacion ==\n",
    "- Igual Tipo Que === -> JavaScript\n",
    "- Menor que <\n",
    "- Mayor que >\n",
    "- Mayor igual que >=\n",
    "- Menor igual que <=\n",
    "- Diferencia que  != <>"
   ]
  },
  {
   "cell_type": "code",
   "execution_count": 34,
   "id": "a1a13485-b7c5-4c4d-9113-47a86c6c9305",
   "metadata": {},
   "outputs": [
    {
     "data": {
      "text/plain": [
       "True"
      ]
     },
     "execution_count": 34,
     "metadata": {},
     "output_type": "execute_result"
    }
   ],
   "source": []
  },
  {
   "cell_type": "code",
   "execution_count": 38,
   "id": "5d1c7a29-a465-4097-8941-b92174bbe986",
   "metadata": {},
   "outputs": [
    {
     "name": "stdin",
     "output_type": "stream",
     "text": [
      "Ingrese su numero:  23\n"
     ]
    }
   ],
   "source": [
    "nombre = int(input(\"Ingrese su numero: \"))"
   ]
  },
  {
   "cell_type": "code",
   "execution_count": 39,
   "id": "b2bc40b1-eb72-4bfb-b765-2e371bc67aa7",
   "metadata": {},
   "outputs": [
    {
     "name": "stdout",
     "output_type": "stream",
     "text": [
      "Verifique\n"
     ]
    }
   ],
   "source": [
    "if type(nombre) == str:\n",
    "    print(\"excelente\")\n",
    "else:\n",
    "    print(\"Verifique\")"
   ]
  },
  {
   "cell_type": "code",
   "execution_count": null,
   "id": "f1341a0c-c66b-4fec-8a76-7b9bef7abed7",
   "metadata": {},
   "outputs": [],
   "source": [
    "hola = \"HOla, como estas\"\n"
   ]
  },
  {
   "cell_type": "markdown",
   "id": "5849c804-b56f-4bc5-99a9-de317884c6cc",
   "metadata": {},
   "source": [
    "# Operaciones Incremento\n",
    "\n",
    "- +=\n",
    "- -=\n",
    "- **=\n",
    "- //=\n",
    "- /=\n",
    "- *=\n"
   ]
  },
  {
   "cell_type": "code",
   "execution_count": 49,
   "id": "27cc542b-26b6-4695-82f5-62a645aaa322",
   "metadata": {},
   "outputs": [
    {
     "data": {
      "text/plain": [
       "5"
      ]
     },
     "execution_count": 49,
     "metadata": {},
     "output_type": "execute_result"
    }
   ],
   "source": [
    "n1 = 5\n",
    "n1"
   ]
  },
  {
   "cell_type": "code",
   "execution_count": 50,
   "id": "28fb18f4-415f-4e64-b740-14d92f4e6125",
   "metadata": {},
   "outputs": [],
   "source": [
    "n1 =+ 10"
   ]
  },
  {
   "cell_type": "code",
   "execution_count": 52,
   "id": "acbfd7a5-4e6f-43d4-9a83-32fc7b34c622",
   "metadata": {},
   "outputs": [],
   "source": [
    "n1 = n1 + 10"
   ]
  },
  {
   "cell_type": "code",
   "execution_count": 73,
   "id": "36e4ff0b-5716-4423-a70e-a90ded1a06b5",
   "metadata": {},
   "outputs": [],
   "source": [
    "n2 = 0"
   ]
  },
  {
   "cell_type": "code",
   "execution_count": 74,
   "id": "14feb1f9-cbfe-4a86-aa2d-93910597fd99",
   "metadata": {},
   "outputs": [],
   "source": [
    "for i in range(101):\n",
    "    total += i"
   ]
  },
  {
   "cell_type": "code",
   "execution_count": 75,
   "id": "aa1d8da0-3a01-4337-bd6b-c09ab97ff50b",
   "metadata": {},
   "outputs": [
    {
     "data": {
      "text/plain": [
       "5050"
      ]
     },
     "execution_count": 75,
     "metadata": {},
     "output_type": "execute_result"
    }
   ],
   "source": [
    "n2"
   ]
  },
  {
   "cell_type": "markdown",
   "id": "d50c37e2-6ec4-4fd5-b978-f0824f32b334",
   "metadata": {},
   "source": [
    "# Operaciones Binarias\n",
    "\n",
    "* Mover bits hacia la derecha  <<\n",
    "* Mover bits hacia la izquida  >>"
   ]
  },
  {
   "cell_type": "code",
   "execution_count": 84,
   "id": "3f0d75ac-0b1d-4f44-88c9-80deb60599b8",
   "metadata": {},
   "outputs": [
    {
     "data": {
      "text/plain": [
       "'0b101'"
      ]
     },
     "execution_count": 84,
     "metadata": {},
     "output_type": "execute_result"
    }
   ],
   "source": [
    " num = 5\n",
    "bin(num)"
   ]
  },
  {
   "cell_type": "code",
   "execution_count": 82,
   "id": "8467617d-6b6d-40c6-a3a8-70d8ce593a24",
   "metadata": {},
   "outputs": [],
   "source": [
    "num = num << 4"
   ]
  },
  {
   "cell_type": "code",
   "execution_count": 85,
   "id": "f8c5e316-ae52-410f-83f6-5b500c1dcd10",
   "metadata": {},
   "outputs": [
    {
     "data": {
      "text/plain": [
       "'0b101'"
      ]
     },
     "execution_count": 85,
     "metadata": {},
     "output_type": "execute_result"
    }
   ],
   "source": [
    "bin(num)"
   ]
  },
  {
   "cell_type": "markdown",
   "id": "7c350d8c-fc75-41af-bb8f-68ec8332040f",
   "metadata": {},
   "source": [
    "# Controles Flujos"
   ]
  },
  {
   "cell_type": "markdown",
   "id": "45fd0406-30a2-4256-98d0-6cc209d195fb",
   "metadata": {},
   "source": [
    "## Proposicion\n",
    "##### Simple\n",
    "##### Compuesta\n",
    "* 3 tipos de conectores\n",
    "    - Y AND &&\n",
    "    - O OR ||\n",
    "    - no NOT\n",
    "    \n"
   ]
  },
  {
   "cell_type": "code",
   "execution_count": 87,
   "id": "83461332-e17b-434b-b796-02dfa5c19492",
   "metadata": {},
   "outputs": [],
   "source": [
    "num1 = 10\n",
    "num2 = 30"
   ]
  },
  {
   "cell_type": "code",
   "execution_count": 91,
   "id": "921558aa-4049-4e86-a312-dd25e7bf0a13",
   "metadata": {},
   "outputs": [
    {
     "name": "stdout",
     "output_type": "stream",
     "text": [
      "False\n"
     ]
    }
   ],
   "source": [
    "if (num1 > num2) and (num2 < num1):\n",
    "    print(True)\n",
    "else:\n",
    "    print(False)\n",
    "    "
   ]
  },
  {
   "cell_type": "code",
   "execution_count": 92,
   "id": "3c652a65-8665-4c2b-9467-26b0f4fe7f40",
   "metadata": {},
   "outputs": [],
   "source": [
    "from datetime import datetime"
   ]
  },
  {
   "cell_type": "code",
   "execution_count": 141,
   "id": "d10f5277-c849-40c7-920f-60b64f242294",
   "metadata": {},
   "outputs": [],
   "source": [
    "import datetime \n",
    "# from datetime import datetime\n",
    "# from datetime import <otros>\n",
    "\n",
    "# datetime.now().strftime(\"%Y/%d/%m %H:%M:%S\")  "
   ]
  },
  {
   "cell_type": "code",
   "execution_count": 148,
   "id": "baa10d59-fbad-404a-8568-b08fdf79b2c1",
   "metadata": {},
   "outputs": [
    {
     "data": {
      "text/plain": [
       "datetime.timedelta(days=-33, seconds=72314, microseconds=936934)"
      ]
     },
     "execution_count": 148,
     "metadata": {},
     "output_type": "execute_result"
    }
   ],
   "source": [
    "(datetime.datetime(1990, 12, 19) - datetime.datetime.now()) / 365"
   ]
  },
  {
   "cell_type": "code",
   "execution_count": 151,
   "id": "1a825e9e-a7c7-40a4-8c96-aa09197ab594",
   "metadata": {},
   "outputs": [],
   "source": [
    "with open(\"log.txt\", 'w', encoding='UTF-8') as f:\n",
    "    #while True:\n",
    "  #      f.writelines(\"Fecha de ingreso a la base de dat\n",
    "    f.close()\n",
    "    "
   ]
  }
 ],
 "metadata": {
  "kernelspec": {
   "display_name": "Python 3 (ipykernel)",
   "language": "python",
   "name": "python3"
  },
  "language_info": {
   "codemirror_mode": {
    "name": "ipython",
    "version": 3
   },
   "file_extension": ".py",
   "mimetype": "text/x-python",
   "name": "python",
   "nbconvert_exporter": "python",
   "pygments_lexer": "ipython3",
   "version": "3.11.0"
  }
 },
 "nbformat": 4,
 "nbformat_minor": 5
}
