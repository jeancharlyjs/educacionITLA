{
 "cells": [
  {
   "cell_type": "markdown",
   "id": "dcc3cf7a-c02b-444b-b0c1-d19105e8894a",
   "metadata": {},
   "source": [
    "# Clases - Objetos - Metodos"
   ]
  },
  {
   "cell_type": "code",
   "execution_count": 1,
   "id": "e223460e-a36a-4a47-99cb-5d1c0197e5c1",
   "metadata": {},
   "outputs": [],
   "source": [
    "#Crear un clase, Estudiante\n",
    "\n",
    "class Estudiante:\n",
    "    def __init__(self, nombre, apellido, edad, sexo):\n",
    "        self.nombre = nombre\n",
    "        self.apellido = apellido\n",
    "        self.edad = edad\n",
    "        self.sexo = sexo\n",
    "    def __str__(self):\n",
    "        if self.sexo == 1:\n",
    "            return f\"Bienvenida Sra. {self.nombre}\"\n",
    "        else:\n",
    "            return f\"Bienvenido Sr. {self.nombre}\"\n",
    "    \n",
    "    def cambioSexo(self):\n",
    "        if self.sexo == 1:\n",
    "            self.sexo = \"Femenino\"\n",
    "            return \"Femenino\"\n",
    "        else:\n",
    "            self.sexo = \"Masculino\"\n",
    "            return \"Masculino\"\n",
    "    def info(self):\n",
    "        return (self.nombre, self.apellido, self.edad, self.sexo)\n",
    "            "
   ]
  },
  {
   "cell_type": "markdown",
   "id": "fac6fb99-3192-4648-9157-ab093ee5fa66",
   "metadata": {},
   "source": [
    "# Crear  compotente Clase Celular - App"
   ]
  },
  {
   "cell_type": "code",
   "execution_count": 1,
   "id": "4fed63b8-9513-48cc-9cf7-9d7a521c2288",
   "metadata": {},
   "outputs": [],
   "source": [
    "contar = 0\n",
    "class Aplicacion:\n",
    "\n",
    "    def __init__(self, nombre, apellido, sexo, correo, numeroTelefono, status=None):\n",
    "        self.nombre  = nombre\n",
    "        self.apellido = apellido\n",
    "        self.sexo = sexo\n",
    "        self.correo = correo\n",
    "        self.numeroTelefono = numeroTelefono\n",
    "        self.status =None\n",
    "        \n",
    "        \n",
    "    def __str__(self):\n",
    "        correo = input(\"Ingrese su correo: \")\n",
    "        if correo != self.correo:\n",
    "            self.status = \"No puede inicilizado\"\n",
    "            return self.status\n",
    "        else:\n",
    "            self.status = \"Inicializado\"\n",
    "            return self.status\n",
    "        \n",
    "        \n",
    "    def Inicializacion(self):\n",
    "        if self.status == None:\n",
    "            return \"El estado no esta inicializado\"\n",
    "        else:\n",
    "            return \"El estado  esta inicializado\"\n",
    "    \n",
    "    def resetFabrica(self):\n",
    "        \n",
    "        self.nombre  = None\n",
    "        self.apellido = None\n",
    "        self.sexo = None\n",
    "        self.numeroTelefono = None\n",
    "        self.status = None\n",
    "        global contar\n",
    "        contar +=1\n",
    "        return contar\n",
    "        \n",
    "        "
   ]
  },
  {
   "cell_type": "code",
   "execution_count": 11,
   "id": "1dde0981-a00b-4913-bf93-461d403e7b9d",
   "metadata": {},
   "outputs": [],
   "source": [
    "a1 = Aplicacion(\"Jean Charly\", \"Joseph\", 0, \"jeancharly@gmail.com\", \"234828934\")"
   ]
  },
  {
   "cell_type": "code",
   "execution_count": 4,
   "id": "37f41a15-a06b-4025-a77c-9d0910d27df6",
   "metadata": {},
   "outputs": [
    {
     "name": "stdin",
     "output_type": "stream",
     "text": [
      "Ingrese su correo:  jeancharly@gmail.com\n"
     ]
    },
    {
     "data": {
      "text/plain": [
       "'Inicializado'"
      ]
     },
     "execution_count": 4,
     "metadata": {},
     "output_type": "execute_result"
    }
   ],
   "source": [
    "a1.__str__()"
   ]
  },
  {
   "cell_type": "code",
   "execution_count": 5,
   "id": "c4b7a7de-4350-4f71-9528-936291f5b341",
   "metadata": {},
   "outputs": [
    {
     "data": {
      "text/plain": [
       "'El estado  esta inicializado'"
      ]
     },
     "execution_count": 5,
     "metadata": {},
     "output_type": "execute_result"
    }
   ],
   "source": [
    "a1.Inicializacion()"
   ]
  },
  {
   "cell_type": "code",
   "execution_count": 13,
   "id": "990dad7c-fad9-4176-bda3-92a23dd63a3b",
   "metadata": {},
   "outputs": [
    {
     "data": {
      "text/plain": [
       "2"
      ]
     },
     "execution_count": 13,
     "metadata": {},
     "output_type": "execute_result"
    }
   ],
   "source": [
    "a1.resetFabrica()"
   ]
  },
  {
   "cell_type": "code",
   "execution_count": 15,
   "id": "d675c068-f440-4f9c-8bdc-b8c128d83cef",
   "metadata": {},
   "outputs": [],
   "source": [
    "a1.apellido = \"Tesla\""
   ]
  },
  {
   "cell_type": "code",
   "execution_count": 16,
   "id": "860eb53a-8561-45a6-b829-25538de61e02",
   "metadata": {},
   "outputs": [
    {
     "data": {
      "text/plain": [
       "'Tesla'"
      ]
     },
     "execution_count": 16,
     "metadata": {},
     "output_type": "execute_result"
    }
   ],
   "source": [
    "a1.apellido"
   ]
  },
  {
   "cell_type": "code",
   "execution_count": 2,
   "id": "e2f19aef-9a45-4955-8704-baac8be0fc8a",
   "metadata": {},
   "outputs": [],
   "source": [
    "# Instanciar el objeto\n",
    "\n",
    "e1 = Estudiante(\"Jean Charly\", \"Joseph\", 32, 0)"
   ]
  },
  {
   "cell_type": "code",
   "execution_count": 3,
   "id": "619f55c4-2285-4be3-b9fc-e466380a8ac2",
   "metadata": {},
   "outputs": [
    {
     "data": {
      "text/plain": [
       "'Bienvenido Sr. Jean Charly'"
      ]
     },
     "execution_count": 3,
     "metadata": {},
     "output_type": "execute_result"
    }
   ],
   "source": [
    "e1.__str__()"
   ]
  },
  {
   "cell_type": "code",
   "execution_count": 4,
   "id": "c506b869-bacd-438e-a6c4-bfcfa31deb1c",
   "metadata": {},
   "outputs": [
    {
     "data": {
      "text/plain": [
       "'Bienvenida Sra. Marie'"
      ]
     },
     "execution_count": 4,
     "metadata": {},
     "output_type": "execute_result"
    }
   ],
   "source": [
    "e2 = Estudiante(\"Marie\", \"Curie\", 20, 1)\n",
    "e2.__str__()"
   ]
  },
  {
   "cell_type": "code",
   "execution_count": 5,
   "id": "8e6f469c-03be-4ebe-b488-a3cc097ae1a3",
   "metadata": {},
   "outputs": [
    {
     "data": {
      "text/plain": [
       "('Marie', 'Curie', 20, 1)"
      ]
     },
     "execution_count": 5,
     "metadata": {},
     "output_type": "execute_result"
    }
   ],
   "source": [
    "e2.info()"
   ]
  },
  {
   "cell_type": "code",
   "execution_count": 6,
   "id": "7e26bd79-0d54-40ec-97cc-73ddbb7f35f8",
   "metadata": {},
   "outputs": [
    {
     "data": {
      "text/plain": [
       "'Femenino'"
      ]
     },
     "execution_count": 6,
     "metadata": {},
     "output_type": "execute_result"
    }
   ],
   "source": [
    "e2.cambioSexo()"
   ]
  },
  {
   "cell_type": "code",
   "execution_count": 7,
   "id": "acf6ce45-af18-4027-b93e-9cfd764a6947",
   "metadata": {},
   "outputs": [
    {
     "data": {
      "text/plain": [
       "('Marie', 'Curie', 20, 'Femenino')"
      ]
     },
     "execution_count": 7,
     "metadata": {},
     "output_type": "execute_result"
    }
   ],
   "source": [
    "e2.info()"
   ]
  },
  {
   "cell_type": "code",
   "execution_count": 8,
   "id": "d21b5bc2-1306-451f-9154-d4f44cd87fb0",
   "metadata": {},
   "outputs": [],
   "source": [
    "with open(\"Elemento.csv\", \"w\", encoding=\"UTF-8\") as f:\n",
    "    f.writelines(\"nombres, apellidos, edad, sexo\\n\")\n",
    "    f.close()"
   ]
  },
  {
   "cell_type": "code",
   "execution_count": 9,
   "id": "a5c21201-061c-4480-94bc-db02bead02b7",
   "metadata": {},
   "outputs": [],
   "source": [
    "import os"
   ]
  },
  {
   "cell_type": "code",
   "execution_count": 11,
   "id": "eb165013-346a-4747-a6c8-df0a43f8f618",
   "metadata": {},
   "outputs": [
    {
     "data": {
      "text/plain": [
       "False"
      ]
     },
     "execution_count": 11,
     "metadata": {},
     "output_type": "execute_result"
    }
   ],
   "source": [
    "os.path.exists(\"Elemento1.csv\")"
   ]
  },
  {
   "cell_type": "code",
   "execution_count": 12,
   "id": "4b7f7f9d-ca9c-4864-af82-901e3b196abd",
   "metadata": {},
   "outputs": [],
   "source": [
    "if not os.path.exists(\"Elemento.csv\"):\n",
    "    with open(\"Elemento.csv\", \"w\", encoding=\"UTF-8\") as f:\n",
    "        f.writelines(\"nombre, apellidos, edad, sexo\\n\")\n",
    "        f.close()\n",
    "else:\n",
    "    with open(\"Elemento.csv\", \"a\", encoding=\"UTF-8\") as f:\n",
    "        f.writelines(\"%s, %s, %s, %s\\n\"%(e2.nombre, e2.apellido, e2.edad, e2.sexo))\n",
    "        f.close()"
   ]
  },
  {
   "cell_type": "code",
   "execution_count": 41,
   "id": "7b1b3f57-fb6e-4371-a46c-e2ff352624f2",
   "metadata": {},
   "outputs": [],
   "source": [
    "extension = \"doc,xlsx,txt,csv,pdf\""
   ]
  },
  {
   "cell_type": "code",
   "execution_count": 43,
   "id": "a11ea9eb-0891-4d9d-95da-83729a5d2010",
   "metadata": {},
   "outputs": [],
   "source": [
    "e = extension.split(\",\")"
   ]
  },
  {
   "cell_type": "code",
   "execution_count": 47,
   "id": "72f96409-f114-4cc1-bddb-30f0f15e896e",
   "metadata": {},
   "outputs": [],
   "source": [
    "for i in range(len(e)):\n",
    "    with open(\"prueba.%s\"%e[i], 'w', encoding=\"UTF-8\") as f:\n",
    "        f.writelines(\"Esto es una prueba, jejeje\")\n",
    "        f.close()"
   ]
  },
  {
   "cell_type": "code",
   "execution_count": 16,
   "id": "de287edc-287e-4daa-90ba-cbe44908a257",
   "metadata": {},
   "outputs": [
    {
     "name": "stdin",
     "output_type": "stream",
     "text": [
      "Ingrese su nombre:  Marie\n",
      "Ingrese su apellidos:  Curie\n",
      "Ingrese su edad:  20\n",
      "Ingrese su sexo [F=1, M=0]:  1\n"
     ]
    },
    {
     "name": "stdout",
     "output_type": "stream",
     "text": [
      "Usuario registrado Marie\n"
     ]
    }
   ],
   "source": [
    "nombre = input(\"Ingrese su nombre: \")\n",
    "apellidos = input(\"Ingrese su apellidos: \")\n",
    "edad = int(input(\"Ingrese su edad: \"))\n",
    "sexo = int(input(\"Ingrese su sexo [F=1, M=0]: \"))\n",
    "e1 = Estudiante(nombre, apellidos, edad, sexo)\n",
    "e1.cambioSexo()\n",
    "with open(\"Elemento.csv\", \"a\", encoding=\"UTF-8\") as f:\n",
    "    f.writelines(f\"%s, %s, %s, {e1.sexo}\\n\"%(e1.nombre, e1.apellido, e1.edad))\n",
    "    f.close()\n",
    "print(\"Usuario registrado %s\"%e1.nombre)\n",
    "\n"
   ]
  },
  {
   "cell_type": "code",
   "execution_count": null,
   "id": "c83bb76a-c93f-4eda-b4be-6518285b1114",
   "metadata": {},
   "outputs": [],
   "source": []
  },
  {
   "cell_type": "code",
   "execution_count": 18,
   "id": "095da69e-1e76-4c22-8b2b-0113f7fe2d75",
   "metadata": {},
   "outputs": [],
   "source": [
    "import sqlite3 as s"
   ]
  },
  {
   "cell_type": "code",
   "execution_count": 19,
   "id": "81bf3a46-2bb9-4605-b876-31b39d26b4eb",
   "metadata": {},
   "outputs": [],
   "source": [
    "with open(\"ElementoDB.db\", \"w\", encoding=\"UTF-8\") as f:\n",
    "    f.close()"
   ]
  },
  {
   "cell_type": "code",
   "execution_count": null,
   "id": "7f8f5236-47bf-4e4d-9c6b-9b4924216c94",
   "metadata": {},
   "outputs": [],
   "source": []
  },
  {
   "cell_type": "code",
   "execution_count": 20,
   "id": "ba82784a-6a31-4d0c-b714-cdebf3fc4cc0",
   "metadata": {},
   "outputs": [],
   "source": [
    "conn = s.connect(\"ElementDB.db\")"
   ]
  },
  {
   "cell_type": "code",
   "execution_count": null,
   "id": "6686c27a-2cf5-44b2-a98e-1b88ff4d06dc",
   "metadata": {},
   "outputs": [],
   "source": [
    "curso = conn.cursor()"
   ]
  },
  {
   "cell_type": "code",
   "execution_count": 76,
   "id": "d176c37e-6692-4501-bad0-28a00437c503",
   "metadata": {},
   "outputs": [
    {
     "data": {
      "text/plain": [
       "<sqlite3.Cursor at 0x1b9c155bd40>"
      ]
     },
     "execution_count": 76,
     "metadata": {},
     "output_type": "execute_result"
    }
   ],
   "source": [
    "curso.execute(\"CREATE TABLE estudiantes(nombre VARCHAR(50), apellidos VARCHAR (50), edad REAL, sexo)\") "
   ]
  },
  {
   "cell_type": "code",
   "execution_count": 80,
   "id": "c8705bdc-897c-42e0-83f3-0e2571f4761b",
   "metadata": {},
   "outputs": [],
   "source": [
    "conn.commit()"
   ]
  },
  {
   "cell_type": "code",
   "execution_count": 79,
   "id": "a39c830d-4f50-4879-966e-7d1f68e4e521",
   "metadata": {},
   "outputs": [
    {
     "data": {
      "text/plain": [
       "<sqlite3.Cursor at 0x1b9c155bd40>"
      ]
     },
     "execution_count": 79,
     "metadata": {},
     "output_type": "execute_result"
    }
   ],
   "source": [
    "curso.execute(\"INSERT INTO estudaintes VALUES (?, ?, ?, ?)\", (\"Jean Charly\", \"Joseph\", 32, \"Masculino\"))"
   ]
  },
  {
   "cell_type": "code",
   "execution_count": 83,
   "id": "72e1bf92-e32f-4071-8e8a-fa93b48ac5c0",
   "metadata": {},
   "outputs": [
    {
     "name": "stdin",
     "output_type": "stream",
     "text": [
      "Ingrese su nombre:  Marie\n",
      "Ingrese su apellidos:  Curie\n",
      "Ingrese su edad:  30\n",
      "Ingrese su sexo [F=1, M=0]:  1\n"
     ]
    }
   ],
   "source": [
    "nombre = input(\"Ingrese su nombre: \")\n",
    "apellidos = input(\"Ingrese su apellidos: \")\n",
    "edad = int(input(\"Ingrese su edad: \"))\n",
    "sexo = int(input(\"Ingrese su sexo [F=1, M=0]: \"))\n",
    "e1 = Estudiante(nombre, apellidos, edad, sexo)\n",
    "e1.cambioSexo()\n",
    "\n",
    "registroTupla = (e1.nombre, e1.apellido, e1.edad, e1.sexo)\n",
    "curso.execute(\"INSERT INTO estudaintes VALUES(?, ?, ?, ?)\", registroTupla)\n",
    "conn.commit()\n"
   ]
  },
  {
   "cell_type": "code",
   "execution_count": 77,
   "id": "0178e8ae-52c0-4c08-8d5a-42a6f0e16fef",
   "metadata": {},
   "outputs": [],
   "source": [
    "conn.commit()"
   ]
  },
  {
   "cell_type": "code",
   "execution_count": 101,
   "id": "2882238e-b386-412f-abb3-60e17d158450",
   "metadata": {},
   "outputs": [
    {
     "name": "stdout",
     "output_type": "stream",
     "text": [
      "Cola 20\n",
      "Mandarina 24\n"
     ]
    },
    {
     "name": "stdin",
     "output_type": "stream",
     "text": [
      "Desea comprar algun articulo:  y\n"
     ]
    },
    {
     "name": "stdout",
     "output_type": "stream",
     "text": [
      "0  -  {'Cola': 20}\n",
      "1  -  {'Mandarina': 24}\n"
     ]
    },
    {
     "name": "stdin",
     "output_type": "stream",
     "text": [
      "\\Digite el nombre del producto:  n\n",
      "Ingrese la cantidad:  n\n"
     ]
    },
    {
     "ename": "ValueError",
     "evalue": "invalid literal for int() with base 10: 'n'",
     "output_type": "error",
     "traceback": [
      "\u001b[1;31m---------------------------------------------------------------------------\u001b[0m",
      "\u001b[1;31mValueError\u001b[0m                                Traceback (most recent call last)",
      "Cell \u001b[1;32mIn [101], line 42\u001b[0m\n\u001b[0;32m     40\u001b[0m c1\u001b[38;5;241m.\u001b[39mingresoProducto(\u001b[38;5;124m\"\u001b[39m\u001b[38;5;124mCola\u001b[39m\u001b[38;5;124m\"\u001b[39m, \u001b[38;5;241m20\u001b[39m)\n\u001b[0;32m     41\u001b[0m c1\u001b[38;5;241m.\u001b[39mingresoProducto(\u001b[38;5;124m\"\u001b[39m\u001b[38;5;124mMandarina\u001b[39m\u001b[38;5;124m\"\u001b[39m, \u001b[38;5;241m24\u001b[39m)\n\u001b[1;32m---> 42\u001b[0m \u001b[43mc1\u001b[49m\u001b[38;5;241;43m.\u001b[39;49m\u001b[43mcompraProducto\u001b[49m\u001b[43m(\u001b[49m\u001b[43m)\u001b[49m\n",
      "Cell \u001b[1;32mIn [101], line 31\u001b[0m, in \u001b[0;36mInventarioProducto.compraProducto\u001b[1;34m(self)\u001b[0m\n\u001b[0;32m     29\u001b[0m     \u001b[38;5;28mprint\u001b[39m(listar, \u001b[38;5;124m\"\u001b[39m\u001b[38;5;124m - \u001b[39m\u001b[38;5;124m\"\u001b[39m, \u001b[38;5;28mself\u001b[39m\u001b[38;5;241m.\u001b[39mstock[listar])\n\u001b[0;32m     30\u001b[0m producto \u001b[38;5;241m=\u001b[39m \u001b[38;5;28minput\u001b[39m(\u001b[38;5;124m\"\u001b[39m\u001b[38;5;124m\\\u001b[39m\u001b[38;5;124mDigite el nombre del producto: \u001b[39m\u001b[38;5;124m\"\u001b[39m)\n\u001b[1;32m---> 31\u001b[0m cantidad \u001b[38;5;241m=\u001b[39m \u001b[38;5;28;43mint\u001b[39;49m\u001b[43m(\u001b[49m\u001b[38;5;28;43minput\u001b[39;49m\u001b[43m(\u001b[49m\u001b[38;5;124;43m\"\u001b[39;49m\u001b[38;5;124;43mIngrese la cantidad: \u001b[39;49m\u001b[38;5;124;43m\"\u001b[39;49m\u001b[43m)\u001b[49m\u001b[43m)\u001b[49m\n\u001b[0;32m     32\u001b[0m \u001b[38;5;66;03m# self.stock[producto]  = self.stock.values - cantidad\u001b[39;00m\n\u001b[0;32m     33\u001b[0m \u001b[38;5;28mprint\u001b[39m(\u001b[38;5;28mself\u001b[39m\u001b[38;5;241m.\u001b[39mstock)\n",
      "\u001b[1;31mValueError\u001b[0m: invalid literal for int() with base 10: 'n'"
     ]
    }
   ],
   "source": [
    "class InventarioProducto:\n",
    "    def __init__(self, nombre, producto, cantidad, precio):\n",
    "        self.nombre = nombre\n",
    "        self.producto = producto\n",
    "        self.cantidad = cantidad\n",
    "        self.precio = precio\n",
    "        self.stock = []\n",
    "        \n",
    "    def ingresoProducto(self, nombre, cantidad):\n",
    "        dictsProductos = {}\n",
    "        self.producto = nombre #input(\"Ingrese el nombre de un producto: \")\n",
    "        self.cantidad = cantidad #int(input(\"Ingrese la cantidad del producto: \"))\n",
    "        dictsProductos[self.producto] = self.cantidad\n",
    "        self.stock.append(dictsProductos)\n",
    "    def listaProductos(self):\n",
    "        return self.stock\n",
    "    \n",
    "    def compraProducto(self):\n",
    "        if len(self.stock) == 0:\n",
    "            return \"No existe productos\"\n",
    "        else:\n",
    "            for i in range(len(self.stock)):\n",
    "                for keys, value in zip(self.stock[i], self.stock[i].values()):\n",
    "                    print(keys, value)\n",
    "        resp = input(\"Desea comprar algun articulo: \")\n",
    "        while True:\n",
    "            if resp in [\"si\", \"Si\", \"y\"]:\n",
    "                for listar in range(len(self.stock)):\n",
    "                    print(listar, \" - \", self.stock[listar])\n",
    "                producto = input(\"\\Digite el nombre del producto: \")\n",
    "                cantidad = int(input(\"Ingrese la cantidad: \"))\n",
    "                # self.stock[producto]  = self.stock.values - cantidad\n",
    "                print(self.stock)\n",
    "                break\n",
    "            else:\n",
    "                break\n",
    "        \n",
    "\n",
    "c1 = InventarioProducto(\"Colmado 1\", \"Platano\", 30, 25)\n",
    "c1.ingresoProducto(\"Cola\", 20)\n",
    "c1.ingresoProducto(\"Mandarina\", 24)\n",
    "c1.compraProducto()"
   ]
  },
  {
   "cell_type": "code",
   "execution_count": null,
   "id": "edfe675b-082d-4926-b5d3-d0b112fd5edb",
   "metadata": {},
   "outputs": [],
   "source": [
    "c1.listaProductos()"
   ]
  },
  {
   "cell_type": "code",
   "execution_count": 78,
   "id": "c53b2f05-cd6a-48e7-86b4-8051844be6ff",
   "metadata": {},
   "outputs": [],
   "source": [
    "c1 = InventarioProducto(\"Colmado 1\", \"Platano\", 30, 25)"
   ]
  },
  {
   "cell_type": "code",
   "execution_count": 79,
   "id": "4cc44198-f796-4f6e-a6f9-689584b62084",
   "metadata": {},
   "outputs": [],
   "source": [
    "c1.ingresoProducto(\"Cola Cola\", 20)"
   ]
  },
  {
   "cell_type": "code",
   "execution_count": 80,
   "id": "09ba63ea-75b1-41c0-a05c-e36c13abf15f",
   "metadata": {},
   "outputs": [
    {
     "name": "stdout",
     "output_type": "stream",
     "text": [
      "20\n"
     ]
    }
   ],
   "source": [
    "c1.compraProducto()"
   ]
  },
  {
   "cell_type": "code",
   "execution_count": 85,
   "id": "ba1cb08c-fc4a-4b72-a28d-94f63352e111",
   "metadata": {},
   "outputs": [
    {
     "name": "stdin",
     "output_type": "stream",
     "text": [
      "Ingrese el nombre de un producto:  Platano\n",
      "Ingrese la cantidad del producto:  30\n"
     ]
    }
   ],
   "source": [
    "dictsProductos = {}\n",
    "producto = input(\"Ingrese el nombre de un producto: \")\n",
    "cantidad = int(input(\"Ingrese la cantidad del producto: \"))\n",
    "dictsProductos[producto] = cantidad"
   ]
  },
  {
   "cell_type": "code",
   "execution_count": 14,
   "id": "5ef3d4fd-0a36-4ef3-b824-3deccebd7a6a",
   "metadata": {},
   "outputs": [
    {
     "ename": "NameError",
     "evalue": "name 'dictsProductos' is not defined",
     "output_type": "error",
     "traceback": [
      "\u001b[1;31m---------------------------------------------------------------------------\u001b[0m",
      "\u001b[1;31mNameError\u001b[0m                                 Traceback (most recent call last)",
      "Cell \u001b[1;32mIn [14], line 1\u001b[0m\n\u001b[1;32m----> 1\u001b[0m \u001b[43mdictsProductos\u001b[49m\n",
      "\u001b[1;31mNameError\u001b[0m: name 'dictsProductos' is not defined"
     ]
    }
   ],
   "source": [
    "dictsProductos"
   ]
  },
  {
   "cell_type": "code",
   "execution_count": 15,
   "id": "afd12e9f-1f5e-44bd-a569-bdcbbcf3deb8",
   "metadata": {},
   "outputs": [],
   "source": [
    "c1.compraProducto()"
   ]
  },
  {
   "cell_type": "code",
   "execution_count": 78,
   "id": "49c50523-3394-481d-ae9f-f10ccb2db828",
   "metadata": {},
   "outputs": [],
   "source": [
    "conn.close()"
   ]
  },
  {
   "cell_type": "code",
   "execution_count": 79,
   "id": "2a87ee87-8ccd-4561-8705-02e5635510b2",
   "metadata": {},
   "outputs": [],
   "source": [
    "import pandas as pd"
   ]
  },
  {
   "cell_type": "code",
   "execution_count": 88,
   "id": "337596c8-fef7-4cca-9bf9-54826d1fa13a",
   "metadata": {},
   "outputs": [],
   "source": [
    "pd.read_sql(\"SELECT * FROM estudiantes \", conn).to_excel(\"Elemento.xlsx\")"
   ]
  }
 ],
 "metadata": {
  "kernelspec": {
   "display_name": "Python 3 (ipykernel)",
   "language": "python",
   "name": "python3"
  },
  "language_info": {
   "codemirror_mode": {
    "name": "ipython",
    "version": 3
   },
   "file_extension": ".py",
   "mimetype": "text/x-python",
   "name": "python",
   "nbconvert_exporter": "python",
   "pygments_lexer": "ipython3",
   "version": "3.11.0"
  }
 },
 "nbformat": 4,
 "nbformat_minor": 5
}
