{
 "cells": [
  {
   "cell_type": "markdown",
   "id": "7fa562db-08b9-4060-9580-81cb389321e0",
   "metadata": {},
   "source": [
    "# Variables \n",
    "* Primitiva\n",
    "* Colectora\n",
    "* Sistema Operativo"
   ]
  },
  {
   "cell_type": "markdown",
   "id": "1185ca59-2f48-460e-baa3-cdf7258f32d5",
   "metadata": {},
   "source": [
    "### Primitivas\n",
    "* String\n",
    "* Integer\n",
    "* Boolean\n",
    "* Float\n",
    "* Complex"
   ]
  },
  {
   "cell_type": "markdown",
   "id": "fa0bea60",
   "metadata": {},
   "source": [
    "## String"
   ]
  },
  {
   "cell_type": "code",
   "execution_count": 1,
   "id": "370c0abd-5406-40b8-a8f0-6966f8c257ed",
   "metadata": {},
   "outputs": [],
   "source": [
    "nombre = \"Jean Charly\""
   ]
  },
  {
   "cell_type": "code",
   "execution_count": 4,
   "id": "09c1ac9b-f0d5-4311-bd92-c2723acecd6b",
   "metadata": {},
   "outputs": [
    {
     "name": "stdout",
     "output_type": "stream",
     "text": [
      "<class 'str'>\n"
     ]
    }
   ],
   "source": [
    "print(type(nombre))"
   ]
  },
  {
   "cell_type": "code",
   "execution_count": 6,
   "id": "5167a2d6-f8c3-475c-9ca0-a57798194107",
   "metadata": {},
   "outputs": [
    {
     "name": "stdout",
     "output_type": "stream",
     "text": [
      "jean cHarLy\n"
     ]
    }
   ],
   "source": [
    "nombre1 = \"jean cHarLy\"\n",
    "print(nombre1)"
   ]
  },
  {
   "cell_type": "code",
   "execution_count": 10,
   "id": "5971b830-9bf0-4c12-bba3-bfa462d66ea3",
   "metadata": {},
   "outputs": [
    {
     "data": {
      "text/plain": [
       "'Jean Charly'"
      ]
     },
     "execution_count": 10,
     "metadata": {},
     "output_type": "execute_result"
    }
   ],
   "source": [
    "nombre1.title()"
   ]
  },
  {
   "cell_type": "code",
   "execution_count": 12,
   "id": "d6ee6aa4-6a45-47a3-a948-9eb0efdd9c58",
   "metadata": {},
   "outputs": [
    {
     "data": {
      "text/plain": [
       "'Jean charly'"
      ]
     },
     "execution_count": 12,
     "metadata": {},
     "output_type": "execute_result"
    }
   ],
   "source": [
    "nombre1.capitalize()"
   ]
  },
  {
   "cell_type": "code",
   "execution_count": 15,
   "id": "0f00a295-f543-45ee-99b8-1e227e5d75e8",
   "metadata": {},
   "outputs": [
    {
     "data": {
      "text/plain": [
       "'Jean Charly'"
      ]
     },
     "execution_count": 15,
     "metadata": {},
     "output_type": "execute_result"
    }
   ],
   "source": [
    "nombre1 = nombre1.title()\n",
    "nombre1"
   ]
  },
  {
   "cell_type": "markdown",
   "id": "20b59fcf",
   "metadata": {},
   "source": [
    "## Integer"
   ]
  },
  {
   "cell_type": "code",
   "execution_count": 1,
   "id": "16f3b42c",
   "metadata": {},
   "outputs": [],
   "source": [
    "numero = 20"
   ]
  },
  {
   "cell_type": "code",
   "execution_count": 2,
   "id": "45bf2cb7",
   "metadata": {},
   "outputs": [
    {
     "data": {
      "text/plain": [
       "['__abs__',\n",
       " '__add__',\n",
       " '__and__',\n",
       " '__bool__',\n",
       " '__ceil__',\n",
       " '__class__',\n",
       " '__delattr__',\n",
       " '__dir__',\n",
       " '__divmod__',\n",
       " '__doc__',\n",
       " '__eq__',\n",
       " '__float__',\n",
       " '__floor__',\n",
       " '__floordiv__',\n",
       " '__format__',\n",
       " '__ge__',\n",
       " '__getattribute__',\n",
       " '__getnewargs__',\n",
       " '__gt__',\n",
       " '__hash__',\n",
       " '__index__',\n",
       " '__init__',\n",
       " '__init_subclass__',\n",
       " '__int__',\n",
       " '__invert__',\n",
       " '__le__',\n",
       " '__lshift__',\n",
       " '__lt__',\n",
       " '__mod__',\n",
       " '__mul__',\n",
       " '__ne__',\n",
       " '__neg__',\n",
       " '__new__',\n",
       " '__or__',\n",
       " '__pos__',\n",
       " '__pow__',\n",
       " '__radd__',\n",
       " '__rand__',\n",
       " '__rdivmod__',\n",
       " '__reduce__',\n",
       " '__reduce_ex__',\n",
       " '__repr__',\n",
       " '__rfloordiv__',\n",
       " '__rlshift__',\n",
       " '__rmod__',\n",
       " '__rmul__',\n",
       " '__ror__',\n",
       " '__round__',\n",
       " '__rpow__',\n",
       " '__rrshift__',\n",
       " '__rshift__',\n",
       " '__rsub__',\n",
       " '__rtruediv__',\n",
       " '__rxor__',\n",
       " '__setattr__',\n",
       " '__sizeof__',\n",
       " '__str__',\n",
       " '__sub__',\n",
       " '__subclasshook__',\n",
       " '__truediv__',\n",
       " '__trunc__',\n",
       " '__xor__',\n",
       " 'as_integer_ratio',\n",
       " 'bit_count',\n",
       " 'bit_length',\n",
       " 'conjugate',\n",
       " 'denominator',\n",
       " 'from_bytes',\n",
       " 'imag',\n",
       " 'numerator',\n",
       " 'real',\n",
       " 'to_bytes']"
      ]
     },
     "execution_count": 2,
     "metadata": {},
     "output_type": "execute_result"
    }
   ],
   "source": [
    "dir(numero)"
   ]
  },
  {
   "cell_type": "code",
   "execution_count": 5,
   "id": "547869e1",
   "metadata": {},
   "outputs": [
    {
     "data": {
      "text/plain": [
       "int"
      ]
     },
     "execution_count": 5,
     "metadata": {},
     "output_type": "execute_result"
    }
   ],
   "source": [
    "numero = '20'\n",
    "numero = int(numero)\n",
    "type(numero)\n"
   ]
  },
  {
   "cell_type": "markdown",
   "id": "c7b2c5eb",
   "metadata": {},
   "source": [
    "## String - Numeros"
   ]
  },
  {
   "cell_type": "code",
   "execution_count": 8,
   "id": "4c7d7620",
   "metadata": {},
   "outputs": [],
   "source": [
    "nombre = \"Jean Charly \"\n",
    "edad = 32"
   ]
  },
  {
   "cell_type": "code",
   "execution_count": 6,
   "id": "64a2892a",
   "metadata": {},
   "outputs": [
    {
     "ename": "TypeError",
     "evalue": "can only concatenate str (not \"float\") to str",
     "output_type": "error",
     "traceback": [
      "\u001b[0;31m---------------------------------------------------------------------------\u001b[0m",
      "\u001b[0;31mTypeError\u001b[0m                                 Traceback (most recent call last)",
      "\u001b[1;32m/workspaces/educacionITLA/Introd. Programacion I.ipynb Celda 16\u001b[0m line \u001b[0;36m1\n\u001b[0;32m----> <a href='vscode-notebook-cell://codespaces%2Bhumble-space-carnival-5gwvg7qrr4qhv79/workspaces/educacionITLA/Introd.%20Programacion%20I.ipynb#X21sdnNjb2RlLXJlbW90ZQ%3D%3D?line=0'>1</a>\u001b[0m nombre \u001b[39m+\u001b[39;49m \u001b[39m3.14\u001b[39;49m\n",
      "\u001b[0;31mTypeError\u001b[0m: can only concatenate str (not \"float\") to str"
     ]
    }
   ],
   "source": [
    "nombre + 3.14"
   ]
  },
  {
   "cell_type": "code",
   "execution_count": 15,
   "id": "36f258ea",
   "metadata": {},
   "outputs": [
    {
     "data": {
      "text/plain": [
       "'Jean Charly Jean Charly '"
      ]
     },
     "execution_count": 15,
     "metadata": {},
     "output_type": "execute_result"
    }
   ],
   "source": [
    "nombre * 2"
   ]
  },
  {
   "cell_type": "code",
   "execution_count": 19,
   "id": "d4fe784b",
   "metadata": {},
   "outputs": [],
   "source": [
    "nombre = \"Jean Charly Ph.\"\n",
    "apellido = \"Joseph S.\""
   ]
  },
  {
   "cell_type": "code",
   "execution_count": 22,
   "id": "b8517ad6",
   "metadata": {},
   "outputs": [
    {
     "data": {
      "text/plain": [
       "'Jean Charly Ph.Joseph S.'"
      ]
     },
     "execution_count": 22,
     "metadata": {},
     "output_type": "execute_result"
    }
   ],
   "source": [
    "nombreCompleto = nombre + apellido\n",
    "nombreCompleto"
   ]
  },
  {
   "cell_type": "code",
   "execution_count": 2,
   "id": "02462e6f",
   "metadata": {},
   "outputs": [
    {
     "ename": "ValueError",
     "evalue": "invalid literal for int() with base 10: '\"Hola\"'",
     "output_type": "error",
     "traceback": [
      "\u001b[0;31m---------------------------------------------------------------------------\u001b[0m",
      "\u001b[0;31mValueError\u001b[0m                                Traceback (most recent call last)",
      "\u001b[1;32m/workspaces/educacionITLA/Introd. Programacion I.ipynb Celda 20\u001b[0m line \u001b[0;36m1\n\u001b[0;32m----> <a href='vscode-notebook-cell://codespaces%2Bhumble-space-carnival-5gwvg7qrr4qhv79/workspaces/educacionITLA/Introd.%20Programacion%20I.ipynb#X25sdnNjb2RlLXJlbW90ZQ%3D%3D?line=0'>1</a>\u001b[0m edad \u001b[39m=\u001b[39m \u001b[39mint\u001b[39;49m(\u001b[39minput\u001b[39;49m(\u001b[39m\"\u001b[39;49m\u001b[39mIngrese su edad: \u001b[39;49m\u001b[39m\"\u001b[39;49m))\n\u001b[1;32m      <a href='vscode-notebook-cell://codespaces%2Bhumble-space-carnival-5gwvg7qrr4qhv79/workspaces/educacionITLA/Introd.%20Programacion%20I.ipynb#X25sdnNjb2RlLXJlbW90ZQ%3D%3D?line=1'>2</a>\u001b[0m \u001b[39mtype\u001b[39m(edad)\n",
      "\u001b[0;31mValueError\u001b[0m: invalid literal for int() with base 10: '\"Hola\"'"
     ]
    }
   ],
   "source": [
    "edad = int(input(\"Ingrese su edad: \"))\n",
    "type(edad)"
   ]
  },
  {
   "cell_type": "markdown",
   "id": "395b125f",
   "metadata": {},
   "source": [
    "#No Tipado\n",
    "\n",
    "<tipo> <variable> = <valor>\n",
    "\n",
    "\n",
    "#Tipado\n",
    "<variable> = <valor>"
   ]
  },
  {
   "cell_type": "markdown",
   "id": "fe13a327",
   "metadata": {},
   "source": [
    "# Colectoras"
   ]
  },
  {
   "cell_type": "markdown",
   "id": "ea745383",
   "metadata": {},
   "source": [
    "#### Lista"
   ]
  },
  {
   "cell_type": "code",
   "execution_count": 2,
   "id": "bc4d1f79",
   "metadata": {},
   "outputs": [],
   "source": [
    "# Listas - > [ ]\n",
    "\n",
    "- append\n",
    "- extend\n",
    "- clear\n",
    "- pop\n",
    "- remove"
   ]
  },
  {
   "cell_type": "code",
   "execution_count": 3,
   "id": "60fffb6d",
   "metadata": {},
   "outputs": [],
   "source": [
    "elemento = [\"Jean Charly\", 32, 1.8, 4j, [\"Ciencia\", \"Documentales\", \"Lectura\"]]"
   ]
  },
  {
   "cell_type": "code",
   "execution_count": 5,
   "id": "b3887e5f",
   "metadata": {},
   "outputs": [
    {
     "data": {
      "text/plain": [
       "140491668276736"
      ]
     },
     "execution_count": 5,
     "metadata": {},
     "output_type": "execute_result"
    }
   ],
   "source": [
    "id(elemento)"
   ]
  },
  {
   "cell_type": "code",
   "execution_count": 6,
   "id": "bf7e7b4d",
   "metadata": {},
   "outputs": [],
   "source": [
    "elemento1 = elemento"
   ]
  },
  {
   "cell_type": "code",
   "execution_count": 8,
   "id": "9f2368dd",
   "metadata": {},
   "outputs": [],
   "source": [
    "elemento1.append([\"Nikola Tesla\", \"Marie Curie\"])"
   ]
  },
  {
   "cell_type": "code",
   "execution_count": 10,
   "id": "94e6c793",
   "metadata": {},
   "outputs": [
    {
     "data": {
      "text/plain": [
       "['Jean Charly',\n",
       " 32,\n",
       " 1.8,\n",
       " 4j,\n",
       " ['Ciencia', 'Documentales', 'Lectura'],\n",
       " ['Nikola Tesla', 'Marie Curie']]"
      ]
     },
     "execution_count": 10,
     "metadata": {},
     "output_type": "execute_result"
    }
   ],
   "source": [
    "elemento1"
   ]
  },
  {
   "cell_type": "code",
   "execution_count": 12,
   "id": "75f03757",
   "metadata": {},
   "outputs": [
    {
     "data": {
      "text/plain": [
       "['Jean Charly',\n",
       " 32,\n",
       " 1.8,\n",
       " 4j,\n",
       " ['Ciencia', 'Documentales', 'Lectura'],\n",
       " ['Nikola Tesla', 'Marie Curie']]"
      ]
     },
     "execution_count": 12,
     "metadata": {},
     "output_type": "execute_result"
    }
   ],
   "source": [
    "elemento"
   ]
  },
  {
   "cell_type": "code",
   "execution_count": 14,
   "id": "f2338495",
   "metadata": {},
   "outputs": [
    {
     "data": {
      "text/plain": [
       "140491668276736"
      ]
     },
     "execution_count": 14,
     "metadata": {},
     "output_type": "execute_result"
    }
   ],
   "source": [
    "id(elemento)"
   ]
  },
  {
   "cell_type": "code",
   "execution_count": 15,
   "id": "46eaa7c7",
   "metadata": {},
   "outputs": [
    {
     "data": {
      "text/plain": [
       "140491668276736"
      ]
     },
     "execution_count": 15,
     "metadata": {},
     "output_type": "execute_result"
    }
   ],
   "source": [
    "id(elemento1)"
   ]
  },
  {
   "cell_type": "markdown",
   "id": "1e64f07d",
   "metadata": {},
   "source": [
    "## $$\\sum^{N}_{i=1} x_i$$\n",
    "\n",
    "* N = Cantidad de elementos\n",
    "* i = Indice del elemento"
   ]
  },
  {
   "cell_type": "code",
   "execution_count": 23,
   "id": "1a28952d",
   "metadata": {},
   "outputs": [
    {
     "data": {
      "text/plain": [
       "6"
      ]
     },
     "execution_count": 23,
     "metadata": {},
     "output_type": "execute_result"
    }
   ],
   "source": [
    "len(elemento)"
   ]
  },
  {
   "cell_type": "code",
   "execution_count": 27,
   "id": "f8587c30",
   "metadata": {},
   "outputs": [
    {
     "data": {
      "text/plain": [
       "'Jean Charly'"
      ]
     },
     "execution_count": 27,
     "metadata": {},
     "output_type": "execute_result"
    }
   ],
   "source": [
    "elemento[0]"
   ]
  },
  {
   "cell_type": "code",
   "execution_count": 22,
   "id": "74ab88d8",
   "metadata": {},
   "outputs": [
    {
     "name": "stdout",
     "output_type": "stream",
     "text": [
      "0\n",
      "1\n",
      "2\n",
      "3\n",
      "4\n",
      "5\n",
      "6\n"
     ]
    }
   ],
   "source": [
    "for i in range(7):\n",
    "    print(i)"
   ]
  },
  {
   "cell_type": "code",
   "execution_count": 28,
   "id": "2ba65759",
   "metadata": {},
   "outputs": [
    {
     "name": "stdout",
     "output_type": "stream",
     "text": [
      "0 <<<>>> Jean Charly\n",
      "1 <<<>>> 32\n",
      "2 <<<>>> 1.8\n",
      "3 <<<>>> 4j\n",
      "4 <<<>>> ['Ciencia', 'Documentales', 'Lectura']\n",
      "5 <<<>>> ['Nikola Tesla', 'Marie Curie']\n"
     ]
    }
   ],
   "source": [
    "for i in range(len(elemento)):\n",
    "    print(i, \"<<<>>>\", elemento[i])"
   ]
  },
  {
   "cell_type": "code",
   "execution_count": 40,
   "id": "37da13d6",
   "metadata": {},
   "outputs": [
    {
     "name": "stdout",
     "output_type": "stream",
     "text": [
      "0 <<<>>> Jean Charly <<<<>>> <class 'str'>\n",
      "1 <<<>>> 32 <<<<>>> <class 'int'>\n",
      "2 <<<>>> 1.8 <<<<>>> <class 'float'>\n",
      "3 <<<>>> 4j <<<<>>> <class 'complex'>\n",
      "4 <<<>>> ['Ciencia', 'Documentales', 'Lectura'] <<<<>>> <class 'list'>\n",
      "5 <<<>>> ['Nikola Tesla', 'Marie Curie'] <<<<>>> <class 'list'>\n",
      "6 <<<>>> () <<<<>>> <class 'tuple'>\n",
      "7 <<<>>> () <<<<>>> <class 'tuple'>\n"
     ]
    }
   ],
   "source": [
    "elemento.append(())\n",
    "for i in range(len(elemento)):\n",
    "    print(i, \"<<<>>>\", elemento[i], \"<<<<>>>\", type(elemento[i]))"
   ]
  },
  {
   "cell_type": "code",
   "execution_count": 42,
   "id": "fa8c83d4",
   "metadata": {},
   "outputs": [
    {
     "data": {
      "text/plain": [
       "['Jean Charly',\n",
       " 32,\n",
       " 1.8,\n",
       " 4j,\n",
       " ['Ciencia', 'Documentales', 'Lectura'],\n",
       " ['Nikola Tesla', 'Marie Curie'],\n",
       " (),\n",
       " (),\n",
       " 'Gauss']"
      ]
     },
     "execution_count": 42,
     "metadata": {},
     "output_type": "execute_result"
    }
   ],
   "source": [
    "elemento + [\"Gauss\"]"
   ]
  },
  {
   "cell_type": "markdown",
   "id": "8a74639c",
   "metadata": {},
   "source": [
    "#### Arreglo / Vectores\n",
    "\n",
    "* Vector Filas\n",
    "* Vector Columna"
   ]
  },
  {
   "cell_type": "code",
   "execution_count": 32,
   "id": "6c56834a",
   "metadata": {},
   "outputs": [
    {
     "data": {
      "text/plain": [
       "[2, 4, 5, 6, 7]"
      ]
     },
     "execution_count": 32,
     "metadata": {},
     "output_type": "execute_result"
    }
   ],
   "source": [
    "v = [2, 4, 5, 6, 7] #Numerico\n",
    "v"
   ]
  },
  {
   "cell_type": "code",
   "execution_count": 34,
   "id": "f55cb2a9",
   "metadata": {},
   "outputs": [
    {
     "data": {
      "text/plain": [
       "[2, 4, 5, 6, 7, 2, 4, 5, 6, 7, 2, 4, 5, 6, 7, 2, 4, 5, 6, 7, 2, 4, 5, 6, 7]"
      ]
     },
     "execution_count": 34,
     "metadata": {},
     "output_type": "execute_result"
    }
   ],
   "source": [
    "v * 5"
   ]
  },
  {
   "cell_type": "code",
   "execution_count": 35,
   "id": "c0f82701",
   "metadata": {},
   "outputs": [
    {
     "ename": "TypeError",
     "evalue": "can only concatenate list (not \"int\") to list",
     "output_type": "error",
     "traceback": [
      "\u001b[0;31m---------------------------------------------------------------------------\u001b[0m",
      "\u001b[0;31mTypeError\u001b[0m                                 Traceback (most recent call last)",
      "\u001b[1;32m/workspaces/educacionITLA/Introd. Programacion I.ipynb Celda 42\u001b[0m line \u001b[0;36m1\n\u001b[0;32m----> <a href='vscode-notebook-cell://codespaces%2Bhumble-space-carnival-5gwvg7qrr4qhv79/workspaces/educacionITLA/Introd.%20Programacion%20I.ipynb#X65sdnNjb2RlLXJlbW90ZQ%3D%3D?line=0'>1</a>\u001b[0m v \u001b[39m+\u001b[39;49m \u001b[39m1\u001b[39;49m\n",
      "\u001b[0;31mTypeError\u001b[0m: can only concatenate list (not \"int\") to list"
     ]
    }
   ],
   "source": [
    "v + 1"
   ]
  },
  {
   "cell_type": "code",
   "execution_count": 36,
   "id": "a445ac0d",
   "metadata": {},
   "outputs": [
    {
     "data": {
      "text/plain": [
       "[2, 4, 5, 6, 7, 3, 4, 5]"
      ]
     },
     "execution_count": 36,
     "metadata": {},
     "output_type": "execute_result"
    }
   ],
   "source": [
    "v + [3, 4, 5]"
   ]
  },
  {
   "cell_type": "code",
   "execution_count": 38,
   "id": "aaddc965",
   "metadata": {},
   "outputs": [
    {
     "ename": "TypeError",
     "evalue": "unsupported operand type(s) for -: 'list' and 'list'",
     "output_type": "error",
     "traceback": [
      "\u001b[0;31m---------------------------------------------------------------------------\u001b[0m",
      "\u001b[0;31mTypeError\u001b[0m                                 Traceback (most recent call last)",
      "\u001b[1;32m/workspaces/educacionITLA/Introd. Programacion I.ipynb Celda 44\u001b[0m line \u001b[0;36m1\n\u001b[0;32m----> <a href='vscode-notebook-cell://codespaces%2Bhumble-space-carnival-5gwvg7qrr4qhv79/workspaces/educacionITLA/Introd.%20Programacion%20I.ipynb#X66sdnNjb2RlLXJlbW90ZQ%3D%3D?line=0'>1</a>\u001b[0m v \u001b[39m-\u001b[39;49m [\u001b[39m3\u001b[39;49m, \u001b[39m4\u001b[39;49m, \u001b[39m5\u001b[39;49m]\n",
      "\u001b[0;31mTypeError\u001b[0m: unsupported operand type(s) for -: 'list' and 'list'"
     ]
    }
   ],
   "source": [
    "v - [3, 4, 5]"
   ]
  },
  {
   "cell_type": "code",
   "execution_count": 43,
   "id": "d923c04a",
   "metadata": {},
   "outputs": [
    {
     "ename": "TypeError",
     "evalue": "unsupported operand type(s) for /: 'list' and 'list'",
     "output_type": "error",
     "traceback": [
      "\u001b[0;31m---------------------------------------------------------------------------\u001b[0m",
      "\u001b[0;31mTypeError\u001b[0m                                 Traceback (most recent call last)",
      "\u001b[1;32m/workspaces/educacionITLA/Introd. Programacion I.ipynb Celda 46\u001b[0m line \u001b[0;36m1\n\u001b[0;32m----> <a href='vscode-notebook-cell://codespaces%2Bhumble-space-carnival-5gwvg7qrr4qhv79/workspaces/educacionITLA/Introd.%20Programacion%20I.ipynb#Y100sdnNjb2RlLXJlbW90ZQ%3D%3D?line=0'>1</a>\u001b[0m v \u001b[39m/\u001b[39;49m [\u001b[39m3\u001b[39;49m, \u001b[39m4\u001b[39;49m, \u001b[39m5\u001b[39;49m]\n",
      "\u001b[0;31mTypeError\u001b[0m: unsupported operand type(s) for /: 'list' and 'list'"
     ]
    }
   ],
   "source": [
    "v / [3, 4, 5]"
   ]
  },
  {
   "cell_type": "code",
   "execution_count": 44,
   "id": "950894c8",
   "metadata": {},
   "outputs": [],
   "source": [
    "#numpy \n",
    "\n",
    "import numpy as np"
   ]
  },
  {
   "cell_type": "code",
   "execution_count": 45,
   "id": "f1ec118b",
   "metadata": {},
   "outputs": [],
   "source": [
    "v_1 = np.array([2, 3, 4, 5])"
   ]
  },
  {
   "cell_type": "code",
   "execution_count": 47,
   "id": "1c18fae4",
   "metadata": {},
   "outputs": [
    {
     "data": {
      "text/plain": [
       "array([10, 15, 20, 25])"
      ]
     },
     "execution_count": 47,
     "metadata": {},
     "output_type": "execute_result"
    }
   ],
   "source": [
    "v_1 * 5 "
   ]
  },
  {
   "cell_type": "code",
   "execution_count": 50,
   "id": "d548cf76",
   "metadata": {},
   "outputs": [
    {
     "data": {
      "text/plain": [
       "array([[ 4,  6,  8, 10],\n",
       "       [ 6,  9, 12, 15],\n",
       "       [ 8, 12, 16, 20],\n",
       "       [10, 15, 20, 25]])"
      ]
     },
     "execution_count": 50,
     "metadata": {},
     "output_type": "execute_result"
    }
   ],
   "source": [
    "v_1.reshape(-1, 1) * v_1"
   ]
  },
  {
   "cell_type": "markdown",
   "id": "fe16d3b6",
   "metadata": {},
   "source": [
    "### Tupla"
   ]
  },
  {
   "cell_type": "code",
   "execution_count": 1,
   "id": "c4950c84-0820-4c59-8d09-ed1fb08a073e",
   "metadata": {},
   "outputs": [],
   "source": [
    "registro = (234234, \"Jean Charly\", \"Josh\", False, [\"Hola\"])"
   ]
  },
  {
   "cell_type": "code",
   "execution_count": 4,
   "id": "63dbd87d-7bd6-475c-a3b3-4e8b82c398ef",
   "metadata": {},
   "outputs": [
    {
     "ename": "TypeError",
     "evalue": "'tuple' object does not support item assignment",
     "output_type": "error",
     "traceback": [
      "\u001b[1;31m---------------------------------------------------------------------------\u001b[0m",
      "\u001b[1;31mTypeError\u001b[0m                                 Traceback (most recent call last)",
      "Cell \u001b[1;32mIn [4], line 1\u001b[0m\n\u001b[1;32m----> 1\u001b[0m \u001b[43mregistro\u001b[49m\u001b[43m[\u001b[49m\u001b[38;5;241;43m2\u001b[39;49m\u001b[43m]\u001b[49m \u001b[38;5;241m=\u001b[39m \u001b[38;5;124m\"\u001b[39m\u001b[38;5;124mJoseph\u001b[39m\u001b[38;5;124m\"\u001b[39m\n",
      "\u001b[1;31mTypeError\u001b[0m: 'tuple' object does not support item assignment"
     ]
    }
   ],
   "source": [
    "registro[2] = \"Joseph\""
   ]
  },
  {
   "cell_type": "code",
   "execution_count": 9,
   "id": "72be0fc8-e357-464e-b65f-b676961059b4",
   "metadata": {},
   "outputs": [],
   "source": [
    "registro[-1].append(\"Nikola Tesla\")"
   ]
  },
  {
   "cell_type": "code",
   "execution_count": 10,
   "id": "1b1bfabb-ca06-4152-8bfe-54d89ff3bb5b",
   "metadata": {},
   "outputs": [
    {
     "data": {
      "text/plain": [
       "(234234, 'Jean Charly', 'Josh', False, ['Hola', 'Nikola Tesla'])"
      ]
     },
     "execution_count": 10,
     "metadata": {},
     "output_type": "execute_result"
    }
   ],
   "source": [
    "registro"
   ]
  },
  {
   "cell_type": "code",
   "execution_count": 11,
   "id": "004ec344-9e2a-4b11-8ee4-87f028ba4d27",
   "metadata": {},
   "outputs": [],
   "source": [
    "registro[-1].append(\"Nueva contraseña\")"
   ]
  },
  {
   "cell_type": "code",
   "execution_count": 17,
   "id": "9418270c-4182-4d36-af8e-e343ae5e275d",
   "metadata": {},
   "outputs": [
    {
     "data": {
      "text/plain": [
       "(234234, 'Jean Charly', 'Josh', False)"
      ]
     },
     "execution_count": 17,
     "metadata": {},
     "output_type": "execute_result"
    }
   ],
   "source": [
    "registro[0:4]"
   ]
  },
  {
   "cell_type": "code",
   "execution_count": 1,
   "id": "3d67b9c1-3f8c-401d-be12-5d2736a443ec",
   "metadata": {},
   "outputs": [
    {
     "ename": "NameError",
     "evalue": "name 'registro' is not defined",
     "output_type": "error",
     "traceback": [
      "\u001b[0;31m---------------------------------------------------------------------------\u001b[0m",
      "\u001b[0;31mNameError\u001b[0m                                 Traceback (most recent call last)",
      "Cell \u001b[0;32mIn[1], line 1\u001b[0m\n\u001b[0;32m----> 1\u001b[0m \u001b[38;5;28mdir\u001b[39m(\u001b[43mregistro\u001b[49m)\n",
      "\u001b[0;31mNameError\u001b[0m: name 'registro' is not defined"
     ]
    }
   ],
   "source": [
    "dir(registro)"
   ]
  },
  {
   "cell_type": "code",
   "execution_count": null,
   "id": "d89a8315-316d-4f0d-bad5-b2d0e79c0853",
   "metadata": {},
   "outputs": [],
   "source": []
  },
  {
   "cell_type": "code",
   "execution_count": null,
   "id": "303e20bb-73cf-4d94-91aa-adbb973ab21b",
   "metadata": {},
   "outputs": [],
   "source": []
  },
  {
   "cell_type": "markdown",
   "id": "7032b786-4ef2-4adf-bd98-e7cfdf9841d8",
   "metadata": {},
   "source": [
    "# Diccionario\n",
    "\n",
    "### { llave : valor }\n",
    "\n",
    "### Componentes:\n",
    "- Estructurados\n",
    "- Semi estructurado\n",
    "- No estructurado"
   ]
  },
  {
   "cell_type": "code",
   "execution_count": 10,
   "id": "2bc13ff8-e0ad-40d2-a80e-1e7a8ce57f02",
   "metadata": {},
   "outputs": [],
   "source": [
    "import polars as pl"
   ]
  },
  {
   "cell_type": "code",
   "execution_count": 4,
   "id": "8e1be906-49db-415c-ab45-bea6b2391285",
   "metadata": {},
   "outputs": [],
   "source": [
    "registroEstudiantil = {\n",
    "    \"Jean Charly\": [23423, \"Jean Charly\", \"Joseph\", 32, False, 29384729834,],\n",
    "    \"Nikola Tesla\": [23423, \"Jean Charly\", \"Joseph\", None, False, 29384729834,]\n",
    "}"
   ]
  },
  {
   "cell_type": "code",
   "execution_count": 5,
   "id": "bfc889cb-8d6e-4739-910f-d91b43082cd7",
   "metadata": {},
   "outputs": [
    {
     "data": {
      "text/plain": [
       "[23423, 'Jean Charly', 'Joseph', 32, False, 29384729834]"
      ]
     },
     "execution_count": 5,
     "metadata": {},
     "output_type": "execute_result"
    }
   ],
   "source": [
    "registroEstudiantil[\"Jean Charly\"]"
   ]
  },
  {
   "cell_type": "code",
   "execution_count": 7,
   "id": "d88dcf58-4e11-4b3d-b28b-d7d97f17c48f",
   "metadata": {},
   "outputs": [],
   "source": [
    "registroEstudiantil[\"Marie Curie\"] = []"
   ]
  },
  {
   "cell_type": "code",
   "execution_count": 8,
   "id": "97a59265-cdd6-48d0-85ed-bc4f851f1a71",
   "metadata": {},
   "outputs": [
    {
     "data": {
      "text/plain": [
       "{'Jean Charly': [23423, 'Jean Charly', 'Joseph', 32, False, 29384729834],\n",
       " 'Nikola Tesla': [23423, 'Jean Charly', 'Joseph', None, False, 29384729834],\n",
       " 'Marie Curie': []}"
      ]
     },
     "execution_count": 8,
     "metadata": {},
     "output_type": "execute_result"
    }
   ],
   "source": [
    "registroEstudiantil"
   ]
  },
  {
   "cell_type": "code",
   "execution_count": 19,
   "id": "729a54a5-a1f7-4a22-b9a6-4b9d55f1472f",
   "metadata": {},
   "outputs": [],
   "source": [
    "registroEstudiantil[\"Marie Curie\"] = [None, None, None, None, None, None]"
   ]
  },
  {
   "cell_type": "code",
   "execution_count": 20,
   "id": "5747e792-410c-4dd2-9aee-a9817865871e",
   "metadata": {},
   "outputs": [
    {
     "data": {
      "text/html": [
       "<div><style>\n",
       ".dataframe > thead > tr > th,\n",
       ".dataframe > tbody > tr > td {\n",
       "  text-align: right;\n",
       "  white-space: pre-wrap;\n",
       "}\n",
       "</style>\n",
       "<small>shape: (6, 3)</small><table border=\"1\" class=\"dataframe\"><thead><tr><th>Jean Charly</th><th>Nikola Tesla</th><th>Marie Curie</th></tr><tr><td>str</td><td>str</td><td>f32</td></tr></thead><tbody><tr><td>null</td><td>null</td><td>null</td></tr><tr><td>&quot;Jean Charly&quot;</td><td>&quot;Jean Charly&quot;</td><td>null</td></tr><tr><td>&quot;Joseph&quot;</td><td>&quot;Joseph&quot;</td><td>null</td></tr><tr><td>null</td><td>null</td><td>null</td></tr><tr><td>null</td><td>null</td><td>null</td></tr><tr><td>null</td><td>null</td><td>null</td></tr></tbody></table></div>"
      ],
      "text/plain": [
       "shape: (6, 3)\n",
       "┌─────────────┬──────────────┬─────────────┐\n",
       "│ Jean Charly ┆ Nikola Tesla ┆ Marie Curie │\n",
       "│ ---         ┆ ---          ┆ ---         │\n",
       "│ str         ┆ str          ┆ f32         │\n",
       "╞═════════════╪══════════════╪═════════════╡\n",
       "│ null        ┆ null         ┆ null        │\n",
       "│ Jean Charly ┆ Jean Charly  ┆ null        │\n",
       "│ Joseph      ┆ Joseph       ┆ null        │\n",
       "│ null        ┆ null         ┆ null        │\n",
       "│ null        ┆ null         ┆ null        │\n",
       "│ null        ┆ null         ┆ null        │\n",
       "└─────────────┴──────────────┴─────────────┘"
      ]
     },
     "execution_count": 20,
     "metadata": {},
     "output_type": "execute_result"
    }
   ],
   "source": [
    "pl.DataFrame(registroEstudiantil)"
   ]
  },
  {
   "cell_type": "code",
   "execution_count": 27,
   "id": "2030bf60-abf1-4fff-997d-a1b9c01d89e2",
   "metadata": {},
   "outputs": [],
   "source": [
    "ITLA = {\n",
    "    \"Matematicas\": {\n",
    "        \"Estudiantes\":{\n",
    "            \"Estua1\": [],\n",
    "            \"Estua2\": []\n",
    "        }\n",
    "    },\n",
    "    \"Fisica\": {\n",
    "        \"Estudiantes\": {\n",
    "            \"Estua1\":[],\n",
    "            \"Estua2\":[],\n",
    "            \"Estua3\":[]\n",
    "        }\n",
    "    }\n",
    "}"
   ]
  },
  {
   "cell_type": "code",
   "execution_count": 31,
   "id": "a6e10d02-c533-4d07-ac62-fe6293f5ef9d",
   "metadata": {},
   "outputs": [
    {
     "data": {
      "text/plain": [
       "{'Nombre': ['Jean Charly', 'Nikola'],\n",
       " 'Apellido': ['Joseph', 'Tesla'],\n",
       " 'Edad': [32, 20],\n",
       " 'Sexo': [False, False]}"
      ]
     },
     "execution_count": 31,
     "metadata": {},
     "output_type": "execute_result"
    }
   ],
   "source": [
    "elementoDicc = {\"Nombre\": [\"Jean Charly\", \"Nikola\"], \"Apellido\": [\"Joseph\", \"Tesla\"], \"Edad\": [32, 20], \"Sexo\": [False, False]}\n",
    "elementoDicc"
   ]
  },
  {
   "cell_type": "code",
   "execution_count": 32,
   "id": "3e05aa29-1b82-46af-8641-1f7a0e285923",
   "metadata": {},
   "outputs": [
    {
     "data": {
      "text/plain": [
       "['Jean Charly', 'Nikola']"
      ]
     },
     "execution_count": 32,
     "metadata": {},
     "output_type": "execute_result"
    }
   ],
   "source": [
    "elementoDicc['Nombre']"
   ]
  },
  {
   "cell_type": "code",
   "execution_count": 34,
   "id": "1b24a5e3-b500-4bbe-9176-4f65f9a58e7c",
   "metadata": {},
   "outputs": [],
   "source": [
    "elemento1 = [\n",
    "    {\n",
    "        \"elemento\": [1, 2, 3, 4]\n",
    "    },\n",
    "    {\n",
    "        \"elemento2\": [2, 4, 5, 4]\n",
    "    }\n",
    "]"
   ]
  },
  {
   "cell_type": "code",
   "execution_count": 38,
   "id": "71bb545b-998f-42e3-b341-131cec264deb",
   "metadata": {},
   "outputs": [
    {
     "data": {
      "text/plain": [
       "[{'elemento': [1, 2, 'Jean Charly', 4]}, {'elemento2': [2, 4, 5, 4]}]"
      ]
     },
     "execution_count": 38,
     "metadata": {},
     "output_type": "execute_result"
    }
   ],
   "source": [
    "elemento1[0]['elemento'][2] = \"Jean Charly\"\n",
    "elemento1"
   ]
  },
  {
   "cell_type": "code",
   "execution_count": null,
   "id": "a7ffec32-6fdf-48c4-a6ca-a95f395a9087",
   "metadata": {},
   "outputs": [],
   "source": []
  },
  {
   "cell_type": "code",
   "execution_count": null,
   "id": "fdb12ee1-b398-4306-a173-689d59065db7",
   "metadata": {},
   "outputs": [],
   "source": []
  },
  {
   "cell_type": "code",
   "execution_count": null,
   "id": "fd8a81bc-2ec1-40f3-8bba-0138ae44912a",
   "metadata": {},
   "outputs": [],
   "source": []
  },
  {
   "cell_type": "code",
   "execution_count": null,
   "id": "73934001-b463-45f3-a790-fbfdc940e701",
   "metadata": {},
   "outputs": [],
   "source": []
  }
 ],
 "metadata": {
  "kernelspec": {
   "display_name": "Python 3 (ipykernel)",
   "language": "python",
   "name": "python3"
  },
  "language_info": {
   "codemirror_mode": {
    "name": "ipython",
    "version": 3
   },
   "file_extension": ".py",
   "mimetype": "text/x-python",
   "name": "python",
   "nbconvert_exporter": "python",
   "pygments_lexer": "ipython3",
   "version": "3.11.4"
  }
 },
 "nbformat": 4,
 "nbformat_minor": 5
}
