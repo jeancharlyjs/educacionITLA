{
 "cells": [
  {
   "cell_type": "code",
   "execution_count": 6,
   "metadata": {},
   "outputs": [
    {
     "data": {
      "text/plain": [
       "False"
      ]
     },
     "execution_count": 6,
     "metadata": {},
     "output_type": "execute_result"
    }
   ],
   "source": [
    "edad = int(input(\"Ingrese su edad: \"))\n",
    "5 > 3 and 19 < edad"
   ]
  },
  {
   "cell_type": "code",
   "execution_count": 3,
   "metadata": {},
   "outputs": [
    {
     "data": {
      "text/plain": [
       "False"
      ]
     },
     "execution_count": 3,
     "metadata": {},
     "output_type": "execute_result"
    }
   ],
   "source": [
    "edad < 19"
   ]
  },
  {
   "cell_type": "code",
   "execution_count": 7,
   "metadata": {},
   "outputs": [
    {
     "data": {
      "text/plain": [
       "False"
      ]
     },
     "execution_count": 7,
     "metadata": {},
     "output_type": "execute_result"
    }
   ],
   "source": [
    "20 < 19"
   ]
  },
  {
   "cell_type": "code",
   "execution_count": 9,
   "metadata": {},
   "outputs": [
    {
     "data": {
      "text/plain": [
       "True"
      ]
     },
     "execution_count": 9,
     "metadata": {},
     "output_type": "execute_result"
    }
   ],
   "source": [
    "19 < 20"
   ]
  },
  {
   "cell_type": "markdown",
   "metadata": {},
   "source": [
    "### Condiciones Anidada\n",
    "\n",
    "```\n",
    "SI CONDICION (){\n",
    "    RESULTADO\n",
    "    SI CONDICION () {\n",
    "        RESULTADO\n",
    "    } DE LO CONTRARIO {\n",
    "        RESULTADO\n",
    "    }\n",
    "}DE LO CONTRARIO{\n",
    "    RESULTADO\n",
    "}\n",
    "```"
   ]
  },
  {
   "cell_type": "code",
   "execution_count": 18,
   "metadata": {},
   "outputs": [
    {
     "name": "stdout",
     "output_type": "stream",
     "text": [
      "Excelente\n",
      "Algo paso\n"
     ]
    }
   ],
   "source": [
    "edad = 20\n",
    "sexo = 2\n",
    "\n",
    "if edad > 19: #Primera Condicion\n",
    "    print(\"Excelente\")\n",
    "    if sexo == 1: #Segunda Condicion\n",
    "        print(\"Excelente, ella es muy inteligente\")\n",
    "    else:\n",
    "        print(\"Algo paso\")\n",
    "else:\n",
    "    print(\"Usted es menor que 19\")"
   ]
  },
  {
   "cell_type": "code",
   "execution_count": 20,
   "metadata": {},
   "outputs": [
    {
     "name": "stdout",
     "output_type": "stream",
     "text": [
      "Algo paso\n"
     ]
    }
   ],
   "source": [
    "if edad > 19 and sexo ==1:\n",
    "    print(\"Excelnte. Ella es muy inteligente\")\n",
    "else:\n",
    "    print(\"Algo paso\")"
   ]
  },
  {
   "cell_type": "code",
   "execution_count": null,
   "metadata": {},
   "outputs": [],
   "source": []
  },
  {
   "cell_type": "code",
   "execution_count": 23,
   "metadata": {},
   "outputs": [
    {
     "name": "stdout",
     "output_type": "stream",
     "text": [
      "Adolencente\n"
     ]
    }
   ],
   "source": [
    "edad = int(input(\"Ingrese su edad: \"))\n",
    "if edad >= 18:\n",
    "    print(\"Es mayor de edad.\")\n",
    "elif edad >= 14 and edad <= 18:\n",
    "    print(\"Adolencente\")\n",
    "else:\n",
    "    print(\"es un menor\")\n"
   ]
  },
  {
   "cell_type": "code",
   "execution_count": null,
   "metadata": {},
   "outputs": [],
   "source": [
    "edad = int(input(\"Ingrese su edad: \"))"
   ]
  }
 ],
 "metadata": {
  "kernelspec": {
   "display_name": "Python 3",
   "language": "python",
   "name": "python3"
  },
  "language_info": {
   "codemirror_mode": {
    "name": "ipython",
    "version": 3
   },
   "file_extension": ".py",
   "mimetype": "text/x-python",
   "name": "python",
   "nbconvert_exporter": "python",
   "pygments_lexer": "ipython3",
   "version": "3.10.8"
  }
 },
 "nbformat": 4,
 "nbformat_minor": 2
}
