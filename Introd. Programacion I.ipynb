{
 "cells": [
  {
   "cell_type": "markdown",
   "id": "7fa562db-08b9-4060-9580-81cb389321e0",
   "metadata": {},
   "source": [
    "# Variables \n",
    "* Primitiva\n",
    "* Colectora\n",
    "* Sistema Operativo"
   ]
  },
  {
   "cell_type": "markdown",
   "id": "1185ca59-2f48-460e-baa3-cdf7258f32d5",
   "metadata": {},
   "source": [
    "### Primitivas\n",
    "* String\n",
    "* Integer\n",
    "* Boolean\n",
    "* Float\n",
    "* Complex"
   ]
  },
  {
   "cell_type": "markdown",
   "id": "fa0bea60",
   "metadata": {},
   "source": [
    "## String"
   ]
  },
  {
   "cell_type": "code",
   "execution_count": 1,
   "id": "370c0abd-5406-40b8-a8f0-6966f8c257ed",
   "metadata": {},
   "outputs": [],
   "source": [
    "nombre = \"Jean Charly\""
   ]
  },
  {
   "cell_type": "code",
   "execution_count": 4,
   "id": "09c1ac9b-f0d5-4311-bd92-c2723acecd6b",
   "metadata": {},
   "outputs": [
    {
     "name": "stdout",
     "output_type": "stream",
     "text": [
      "<class 'str'>\n"
     ]
    }
   ],
   "source": [
    "print(type(nombre))"
   ]
  },
  {
   "cell_type": "code",
   "execution_count": 6,
   "id": "5167a2d6-f8c3-475c-9ca0-a57798194107",
   "metadata": {},
   "outputs": [
    {
     "name": "stdout",
     "output_type": "stream",
     "text": [
      "jean cHarLy\n"
     ]
    }
   ],
   "source": [
    "nombre1 = \"jean cHarLy\"\n",
    "print(nombre1)"
   ]
  },
  {
   "cell_type": "code",
   "execution_count": 10,
   "id": "5971b830-9bf0-4c12-bba3-bfa462d66ea3",
   "metadata": {},
   "outputs": [
    {
     "data": {
      "text/plain": [
       "'Jean Charly'"
      ]
     },
     "execution_count": 10,
     "metadata": {},
     "output_type": "execute_result"
    }
   ],
   "source": [
    "nombre1.title()"
   ]
  },
  {
   "cell_type": "code",
   "execution_count": 12,
   "id": "d6ee6aa4-6a45-47a3-a948-9eb0efdd9c58",
   "metadata": {},
   "outputs": [
    {
     "data": {
      "text/plain": [
       "'Jean charly'"
      ]
     },
     "execution_count": 12,
     "metadata": {},
     "output_type": "execute_result"
    }
   ],
   "source": [
    "nombre1.capitalize()"
   ]
  },
  {
   "cell_type": "code",
   "execution_count": 15,
   "id": "0f00a295-f543-45ee-99b8-1e227e5d75e8",
   "metadata": {},
   "outputs": [
    {
     "data": {
      "text/plain": [
       "'Jean Charly'"
      ]
     },
     "execution_count": 15,
     "metadata": {},
     "output_type": "execute_result"
    }
   ],
   "source": [
    "nombre1 = nombre1.title()\n",
    "nombre1"
   ]
  },
  {
   "cell_type": "markdown",
   "id": "20b59fcf",
   "metadata": {},
   "source": [
    "## Integer"
   ]
  },
  {
   "cell_type": "code",
   "execution_count": 1,
   "id": "16f3b42c",
   "metadata": {},
   "outputs": [],
   "source": [
    "numero = 20"
   ]
  },
  {
   "cell_type": "code",
   "execution_count": 2,
   "id": "45bf2cb7",
   "metadata": {},
   "outputs": [
    {
     "data": {
      "text/plain": [
       "['__abs__',\n",
       " '__add__',\n",
       " '__and__',\n",
       " '__bool__',\n",
       " '__ceil__',\n",
       " '__class__',\n",
       " '__delattr__',\n",
       " '__dir__',\n",
       " '__divmod__',\n",
       " '__doc__',\n",
       " '__eq__',\n",
       " '__float__',\n",
       " '__floor__',\n",
       " '__floordiv__',\n",
       " '__format__',\n",
       " '__ge__',\n",
       " '__getattribute__',\n",
       " '__getnewargs__',\n",
       " '__gt__',\n",
       " '__hash__',\n",
       " '__index__',\n",
       " '__init__',\n",
       " '__init_subclass__',\n",
       " '__int__',\n",
       " '__invert__',\n",
       " '__le__',\n",
       " '__lshift__',\n",
       " '__lt__',\n",
       " '__mod__',\n",
       " '__mul__',\n",
       " '__ne__',\n",
       " '__neg__',\n",
       " '__new__',\n",
       " '__or__',\n",
       " '__pos__',\n",
       " '__pow__',\n",
       " '__radd__',\n",
       " '__rand__',\n",
       " '__rdivmod__',\n",
       " '__reduce__',\n",
       " '__reduce_ex__',\n",
       " '__repr__',\n",
       " '__rfloordiv__',\n",
       " '__rlshift__',\n",
       " '__rmod__',\n",
       " '__rmul__',\n",
       " '__ror__',\n",
       " '__round__',\n",
       " '__rpow__',\n",
       " '__rrshift__',\n",
       " '__rshift__',\n",
       " '__rsub__',\n",
       " '__rtruediv__',\n",
       " '__rxor__',\n",
       " '__setattr__',\n",
       " '__sizeof__',\n",
       " '__str__',\n",
       " '__sub__',\n",
       " '__subclasshook__',\n",
       " '__truediv__',\n",
       " '__trunc__',\n",
       " '__xor__',\n",
       " 'as_integer_ratio',\n",
       " 'bit_count',\n",
       " 'bit_length',\n",
       " 'conjugate',\n",
       " 'denominator',\n",
       " 'from_bytes',\n",
       " 'imag',\n",
       " 'numerator',\n",
       " 'real',\n",
       " 'to_bytes']"
      ]
     },
     "execution_count": 2,
     "metadata": {},
     "output_type": "execute_result"
    }
   ],
   "source": [
    "dir(numero)"
   ]
  },
  {
   "cell_type": "code",
   "execution_count": 5,
   "id": "547869e1",
   "metadata": {},
   "outputs": [
    {
     "data": {
      "text/plain": [
       "int"
      ]
     },
     "execution_count": 5,
     "metadata": {},
     "output_type": "execute_result"
    }
   ],
   "source": [
    "numero = '20'\n",
    "numero = int(numero)\n",
    "type(numero)\n"
   ]
  },
  {
   "cell_type": "markdown",
   "id": "c7b2c5eb",
   "metadata": {},
   "source": [
    "## String - Numeros"
   ]
  },
  {
   "cell_type": "code",
   "execution_count": 8,
   "id": "4c7d7620",
   "metadata": {},
   "outputs": [],
   "source": [
    "nombre = \"Jean Charly \"\n",
    "edad = 32"
   ]
  },
  {
   "cell_type": "code",
   "execution_count": 6,
   "id": "64a2892a",
   "metadata": {},
   "outputs": [
    {
     "ename": "TypeError",
     "evalue": "can only concatenate str (not \"float\") to str",
     "output_type": "error",
     "traceback": [
      "\u001b[0;31m---------------------------------------------------------------------------\u001b[0m",
      "\u001b[0;31mTypeError\u001b[0m                                 Traceback (most recent call last)",
      "\u001b[1;32m/workspaces/educacionITLA/Introd. Programacion I.ipynb Celda 16\u001b[0m line \u001b[0;36m1\n\u001b[0;32m----> <a href='vscode-notebook-cell://codespaces%2Bhumble-space-carnival-5gwvg7qrr4qhv79/workspaces/educacionITLA/Introd.%20Programacion%20I.ipynb#X21sdnNjb2RlLXJlbW90ZQ%3D%3D?line=0'>1</a>\u001b[0m nombre \u001b[39m+\u001b[39;49m \u001b[39m3.14\u001b[39;49m\n",
      "\u001b[0;31mTypeError\u001b[0m: can only concatenate str (not \"float\") to str"
     ]
    }
   ],
   "source": [
    "nombre + 3.14"
   ]
  },
  {
   "cell_type": "code",
   "execution_count": 15,
   "id": "36f258ea",
   "metadata": {},
   "outputs": [
    {
     "data": {
      "text/plain": [
       "'Jean Charly Jean Charly '"
      ]
     },
     "execution_count": 15,
     "metadata": {},
     "output_type": "execute_result"
    }
   ],
   "source": [
    "nombre * 2"
   ]
  },
  {
   "cell_type": "code",
   "execution_count": 19,
   "id": "d4fe784b",
   "metadata": {},
   "outputs": [],
   "source": [
    "nombre = \"Jean Charly Ph.\"\n",
    "apellido = \"Joseph S.\""
   ]
  },
  {
   "cell_type": "code",
   "execution_count": 22,
   "id": "b8517ad6",
   "metadata": {},
   "outputs": [
    {
     "data": {
      "text/plain": [
       "'Jean Charly Ph.Joseph S.'"
      ]
     },
     "execution_count": 22,
     "metadata": {},
     "output_type": "execute_result"
    }
   ],
   "source": [
    "nombreCompleto = nombre + apellido\n",
    "nombreCompleto"
   ]
  },
  {
   "cell_type": "code",
   "execution_count": 2,
   "id": "02462e6f",
   "metadata": {},
   "outputs": [
    {
     "ename": "ValueError",
     "evalue": "invalid literal for int() with base 10: '\"Hola\"'",
     "output_type": "error",
     "traceback": [
      "\u001b[0;31m---------------------------------------------------------------------------\u001b[0m",
      "\u001b[0;31mValueError\u001b[0m                                Traceback (most recent call last)",
      "\u001b[1;32m/workspaces/educacionITLA/Introd. Programacion I.ipynb Celda 20\u001b[0m line \u001b[0;36m1\n\u001b[0;32m----> <a href='vscode-notebook-cell://codespaces%2Bhumble-space-carnival-5gwvg7qrr4qhv79/workspaces/educacionITLA/Introd.%20Programacion%20I.ipynb#X25sdnNjb2RlLXJlbW90ZQ%3D%3D?line=0'>1</a>\u001b[0m edad \u001b[39m=\u001b[39m \u001b[39mint\u001b[39;49m(\u001b[39minput\u001b[39;49m(\u001b[39m\"\u001b[39;49m\u001b[39mIngrese su edad: \u001b[39;49m\u001b[39m\"\u001b[39;49m))\n\u001b[1;32m      <a href='vscode-notebook-cell://codespaces%2Bhumble-space-carnival-5gwvg7qrr4qhv79/workspaces/educacionITLA/Introd.%20Programacion%20I.ipynb#X25sdnNjb2RlLXJlbW90ZQ%3D%3D?line=1'>2</a>\u001b[0m \u001b[39mtype\u001b[39m(edad)\n",
      "\u001b[0;31mValueError\u001b[0m: invalid literal for int() with base 10: '\"Hola\"'"
     ]
    }
   ],
   "source": [
    "edad = int(input(\"Ingrese su edad: \"))\n",
    "type(edad)"
   ]
  },
  {
   "cell_type": "markdown",
   "id": "395b125f",
   "metadata": {},
   "source": [
    "#No Tipado\n",
    "\n",
    "<tipo> <variable> = <valor>\n",
    "\n",
    "\n",
    "#Tipado\n",
    "<variable> = <valor>"
   ]
  }
 ],
 "metadata": {
  "kernelspec": {
   "display_name": "Python 3 (ipykernel)",
   "language": "python",
   "name": "python3"
  },
  "language_info": {
   "codemirror_mode": {
    "name": "ipython",
    "version": 3
   },
   "file_extension": ".py",
   "mimetype": "text/x-python",
   "name": "python",
   "nbconvert_exporter": "python",
   "pygments_lexer": "ipython3",
   "version": "3.10.8"
  }
 },
 "nbformat": 4,
 "nbformat_minor": 5
}
