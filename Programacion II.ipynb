{
 "cells": [
  {
   "cell_type": "markdown",
   "metadata": {},
   "source": [
    "# Funciones\n",
    "\n",
    "### $y = f(x)$\n",
    "\n",
    "* Función Definadas\n",
    "* Función del Lenguaje\n",
    "* Función Anonimas\n",
    "* Función Recursiva\n",
    "\n",
    "```\n",
    "FUNCION <NOMBRE_FUNCION>(P1, P2, P_N){\n",
    "    PROCESOFUNCION\n",
    "    RETORNO VALOR_PROCESADO\n",
    "}\n",
    "```"
   ]
  },
  {
   "cell_type": "markdown",
   "metadata": {},
   "source": [
    "### Funcion Definada"
   ]
  },
  {
   "cell_type": "code",
   "execution_count": 27,
   "metadata": {},
   "outputs": [],
   "source": [
    "def elemento(n):\n",
    "    valor = n * 2\n",
    "    return valor"
   ]
  },
  {
   "cell_type": "code",
   "execution_count": 28,
   "metadata": {},
   "outputs": [
    {
     "data": {
      "text/plain": [
       "10"
      ]
     },
     "execution_count": 28,
     "metadata": {},
     "output_type": "execute_result"
    }
   ],
   "source": [
    "elemento(5)"
   ]
  },
  {
   "cell_type": "markdown",
   "metadata": {},
   "source": [
    "### $$\\sum_{i=1}^{n}f(x) = 2x_i + 5$$"
   ]
  },
  {
   "cell_type": "code",
   "execution_count": 41,
   "metadata": {},
   "outputs": [
    {
     "name": "stdout",
     "output_type": "stream",
     "text": [
      "Resuleto!!! :)\n",
      "Resuleto!!! :)\n",
      "Resuleto!!! :)\n"
     ]
    }
   ],
   "source": [
    "x = [2 ,3 , 4]\n",
    "y = []\n",
    "def ecuacion_1(x):\n",
    "    y_ = 2 * x + 5\n",
    "    y.append(y_)\n",
    "    return y_\n",
    "\n",
    "for i in range(len(x)):\n",
    "    ecuacion_1(x[i])\n",
    "    print(\"Resuleto!!! :)\")"
   ]
  },
  {
   "cell_type": "code",
   "execution_count": 43,
   "metadata": {},
   "outputs": [
    {
     "data": {
      "text/plain": [
       "3"
      ]
     },
     "execution_count": 43,
     "metadata": {},
     "output_type": "execute_result"
    }
   ],
   "source": [
    "len(y)"
   ]
  },
  {
   "cell_type": "code",
   "execution_count": 44,
   "metadata": {},
   "outputs": [
    {
     "data": {
      "text/plain": [
       "[9, 11, 13]"
      ]
     },
     "execution_count": 44,
     "metadata": {},
     "output_type": "execute_result"
    }
   ],
   "source": [
    "y"
   ]
  },
  {
   "cell_type": "code",
   "execution_count": 14,
   "metadata": {},
   "outputs": [
    {
     "data": {
      "image/png": "[encoded data removed]",
      "text/plain": [
       "<Figure size 640x480 with 1 Axes>"
      ]
     },
     "metadata": {},
     "output_type": "display_data"
    }
   ],
   "source": [
    "import matplotlib.pyplot as plt\n",
    "\n",
    "plt.plot(x, y);plt.show()"
   ]
  },
  {
   "cell_type": "markdown",
   "metadata": {},
   "source": [
    "#### Función del Lenguaje"
   ]
  },
  {
   "cell_type": "code",
   "execution_count": 29,
   "metadata": {},
   "outputs": [
    {
     "data": {
      "text/plain": [
       "8"
      ]
     },
     "execution_count": 29,
     "metadata": {},
     "output_type": "execute_result"
    }
   ],
   "source": [
    "a = [3, 3, 4, 5, 3, 5, 6, 3]\n",
    "len(a)"
   ]
  },
  {
   "cell_type": "code",
   "execution_count": 46,
   "metadata": {},
   "outputs": [
    {
     "data": {
      "text/plain": [
       "[0, 1, 2, 3, 4, 5, 6, 7, 8, 9]"
      ]
     },
     "execution_count": 46,
     "metadata": {},
     "output_type": "execute_result"
    }
   ],
   "source": [
    "[i for i in range(10)]"
   ]
  },
  {
   "cell_type": "markdown",
   "metadata": {},
   "source": [
    "### Funcion Anonima\n",
    "## $\\lambda x:x$"
   ]
  },
  {
   "cell_type": "code",
   "execution_count": 50,
   "metadata": {},
   "outputs": [],
   "source": [
    "a = lambda x:x*2"
   ]
  },
  {
   "cell_type": "code",
   "execution_count": 51,
   "metadata": {},
   "outputs": [
    {
     "data": {
      "text/plain": [
       "10"
      ]
     },
     "execution_count": 51,
     "metadata": {},
     "output_type": "execute_result"
    }
   ],
   "source": [
    "a(5)"
   ]
  },
  {
   "cell_type": "code",
   "execution_count": 8,
   "metadata": {},
   "outputs": [],
   "source": [
    "from random import randint\n",
    "import pandas as pd\n",
    "\n",
    "elemento1 = {\"Ventas\": [randint(4000, 5000) for i in range(100)],\n",
    "             \"Gastos\": [randint(4000, 5000) for i in range(100)],\n",
    "             \"Sexo\": [randint(0, 1) for i in range(100)]}"
   ]
  },
  {
   "cell_type": "code",
   "execution_count": 25,
   "metadata": {},
   "outputs": [],
   "source": [
    "df = pd.DataFrame(elemento1)\n",
    "df[\"Sexo_\"] = df[\"Sexo\"].apply(lambda x: \"Femenino\" if x==1 else \"Masculino\")"
   ]
  },
  {
   "cell_type": "code",
   "execution_count": 21,
   "metadata": {},
   "outputs": [],
   "source": [
    "def elemento(x):\n",
    "    if x == 1:\n",
    "        return \"Femenino\"\n",
    "    else:\n",
    "        return \"Masculino\""
   ]
  },
  {
   "cell_type": "code",
   "execution_count": 26,
   "metadata": {},
   "outputs": [],
   "source": [
    "df[\"Sexo_1\"] = df[\"Sexo\"].apply(elemento)"
   ]
  },
  {
   "cell_type": "code",
   "execution_count": 27,
   "metadata": {},
   "outputs": [
    {
     "data": {
      "text/html": [
       "<div>\n",
       "<style scoped>\n",
       "    .dataframe tbody tr th:only-of-type {\n",
       "        vertical-align: middle;\n",
       "    }\n",
       "\n",
       "    .dataframe tbody tr th {\n",
       "        vertical-align: top;\n",
       "    }\n",
       "\n",
       "    .dataframe thead th {\n",
       "        text-align: right;\n",
       "    }\n",
       "</style>\n",
       "<table border=\"1\" class=\"dataframe\">\n",
       "  <thead>\n",
       "    <tr style=\"text-align: right;\">\n",
       "      <th></th>\n",
       "      <th>Ventas</th>\n",
       "      <th>Gastos</th>\n",
       "      <th>Sexo</th>\n",
       "      <th>Sexo_</th>\n",
       "      <th>Sexo_1</th>\n",
       "    </tr>\n",
       "  </thead>\n",
       "  <tbody>\n",
       "    <tr>\n",
       "      <th>0</th>\n",
       "      <td>4560</td>\n",
       "      <td>4226</td>\n",
       "      <td>1</td>\n",
       "      <td>Femenino</td>\n",
       "      <td>Femenino</td>\n",
       "    </tr>\n",
       "    <tr>\n",
       "      <th>1</th>\n",
       "      <td>4810</td>\n",
       "      <td>4885</td>\n",
       "      <td>0</td>\n",
       "      <td>Masculino</td>\n",
       "      <td>Masculino</td>\n",
       "    </tr>\n",
       "    <tr>\n",
       "      <th>2</th>\n",
       "      <td>4327</td>\n",
       "      <td>4866</td>\n",
       "      <td>0</td>\n",
       "      <td>Masculino</td>\n",
       "      <td>Masculino</td>\n",
       "    </tr>\n",
       "    <tr>\n",
       "      <th>3</th>\n",
       "      <td>4682</td>\n",
       "      <td>4893</td>\n",
       "      <td>1</td>\n",
       "      <td>Femenino</td>\n",
       "      <td>Femenino</td>\n",
       "    </tr>\n",
       "    <tr>\n",
       "      <th>4</th>\n",
       "      <td>4201</td>\n",
       "      <td>4762</td>\n",
       "      <td>1</td>\n",
       "      <td>Femenino</td>\n",
       "      <td>Femenino</td>\n",
       "    </tr>\n",
       "    <tr>\n",
       "      <th>...</th>\n",
       "      <td>...</td>\n",
       "      <td>...</td>\n",
       "      <td>...</td>\n",
       "      <td>...</td>\n",
       "      <td>...</td>\n",
       "    </tr>\n",
       "    <tr>\n",
       "      <th>95</th>\n",
       "      <td>4206</td>\n",
       "      <td>4227</td>\n",
       "      <td>1</td>\n",
       "      <td>Femenino</td>\n",
       "      <td>Femenino</td>\n",
       "    </tr>\n",
       "    <tr>\n",
       "      <th>96</th>\n",
       "      <td>4214</td>\n",
       "      <td>4338</td>\n",
       "      <td>1</td>\n",
       "      <td>Femenino</td>\n",
       "      <td>Femenino</td>\n",
       "    </tr>\n",
       "    <tr>\n",
       "      <th>97</th>\n",
       "      <td>4449</td>\n",
       "      <td>4456</td>\n",
       "      <td>1</td>\n",
       "      <td>Femenino</td>\n",
       "      <td>Femenino</td>\n",
       "    </tr>\n",
       "    <tr>\n",
       "      <th>98</th>\n",
       "      <td>4563</td>\n",
       "      <td>4753</td>\n",
       "      <td>0</td>\n",
       "      <td>Masculino</td>\n",
       "      <td>Masculino</td>\n",
       "    </tr>\n",
       "    <tr>\n",
       "      <th>99</th>\n",
       "      <td>4004</td>\n",
       "      <td>4328</td>\n",
       "      <td>1</td>\n",
       "      <td>Femenino</td>\n",
       "      <td>Femenino</td>\n",
       "    </tr>\n",
       "  </tbody>\n",
       "</table>\n",
       "<p>100 rows × 5 columns</p>\n",
       "</div>"
      ],
      "text/plain": [
       "    Ventas  Gastos  Sexo      Sexo_     Sexo_1\n",
       "0     4560    4226     1   Femenino   Femenino\n",
       "1     4810    4885     0  Masculino  Masculino\n",
       "2     4327    4866     0  Masculino  Masculino\n",
       "3     4682    4893     1   Femenino   Femenino\n",
       "4     4201    4762     1   Femenino   Femenino\n",
       "..     ...     ...   ...        ...        ...\n",
       "95    4206    4227     1   Femenino   Femenino\n",
       "96    4214    4338     1   Femenino   Femenino\n",
       "97    4449    4456     1   Femenino   Femenino\n",
       "98    4563    4753     0  Masculino  Masculino\n",
       "99    4004    4328     1   Femenino   Femenino\n",
       "\n",
       "[100 rows x 5 columns]"
      ]
     },
     "execution_count": 27,
     "metadata": {},
     "output_type": "execute_result"
    }
   ],
   "source": [
    "df"
   ]
  },
  {
   "cell_type": "code",
   "execution_count": 6,
   "metadata": {},
   "outputs": [],
   "source": [
    "import math\n",
    "import statistics\n",
    "import numpy as np"
   ]
  },
  {
   "cell_type": "markdown",
   "metadata": {},
   "source": [
    "${\\begin{array}{l}x=a+r\\,\\cos \\theta \\\\y=b+r\\,\\operatorname {sen} \\theta \\end{array}}$"
   ]
  },
  {
   "cell_type": "code",
   "execution_count": 18,
   "metadata": {},
   "outputs": [
    {
     "data": {
      "image/png": "[encoded data removed]",
      "text/plain": [
       "<Figure size 640x480 with 1 Axes>"
      ]
     },
     "metadata": {},
     "output_type": "display_data"
    }
   ],
   "source": [
    "x = np.linspace(1, 5, 100000)\n",
    "y = np.linspace(1, 5, 100000)\n",
    "\n",
    "# plt.plot(/x, label=\"Lineal\")\n",
    "plt.plot(np.sin(x), label=\"Sen\")\n",
    "plt.plot(np.cos(y), label=\"Cos\")\n",
    "plt.legend()\n",
    "plt.show()"
   ]
  },
  {
   "cell_type": "markdown",
   "metadata": {},
   "source": [
    "${\\begin{array}{l}x=a+r\\,\\cos \\theta \\\\y=b+r\\,\\operatorname {sen} \\theta \\end{array}}$"
   ]
  },
  {
   "cell_type": "code",
   "execution_count": 33,
   "metadata": {},
   "outputs": [],
   "source": [
    "def circ(h, k, r, t):\n",
    "    contar = 0\n",
    "    for i in range(5):\n",
    "        c = np.linspace(0, 2*np.pi, t)\n",
    "        x = h + r * np.cos(c)\n",
    "        y = k + r * np.sin(c)\n",
    "        contar += 1\n",
    "        plt.plot(x*np.log(contar/4), y/np.log(contar/4))\n",
    "    return (plt.show())"
   ]
  },
  {
   "cell_type": "code",
   "execution_count": 34,
   "metadata": {},
   "outputs": [
    {
     "name": "stderr",
     "output_type": "stream",
     "text": [
      "/tmp/ipykernel_1022/1521281393.py:8: RuntimeWarning: divide by zero encountered in divide\n",
      "  plt.plot(x*np.log(contar/4), y/np.log(contar/4))\n"
     ]
    },
    {
     "data": {
      "image/png": "[encoded data removed]",
      "text/plain": [
       "<Figure size 640x480 with 1 Axes>"
      ]
     },
     "metadata": {},
     "output_type": "display_data"
    }
   ],
   "source": [
    "circ(10, 10, 5, 100000)"
   ]
  },
  {
   "cell_type": "markdown",
   "metadata": {},
   "source": [
    "# Programación Orientada Objeto"
   ]
  },
  {
   "cell_type": "code",
   "execution_count": 3,
   "metadata": {},
   "outputs": [],
   "source": [
    "class Estudiantes:\n",
    "    def __init__(self, nombre, apellido, edad, sexo, altura):\n",
    "        self.nombre = nombre\n",
    "        self.apellido = apellido\n",
    "        self.edad = edad\n",
    "        self.sexo = sexo\n",
    "        self.altura = altura\n",
    "    def __str__(self):\n",
    "        return \"Bienvenido seas %s\"%self.nombre"
   ]
  },
  {
   "cell_type": "code",
   "execution_count": 4,
   "metadata": {},
   "outputs": [],
   "source": [
    "e1 = Estudiantes(\"Jean Charly\", \"Joseph\", 32, False, 1.2)"
   ]
  },
  {
   "cell_type": "code",
   "execution_count": 5,
   "metadata": {},
   "outputs": [
    {
     "data": {
      "text/plain": [
       "'Bienvenido seas Jean Charly'"
      ]
     },
     "execution_count": 5,
     "metadata": {},
     "output_type": "execute_result"
    }
   ],
   "source": [
    "e1.__str__()"
   ]
  },
  {
   "cell_type": "code",
   "execution_count": 6,
   "metadata": {},
   "outputs": [
    {
     "data": {
      "text/plain": [
       "<__main__.Estudiantes at 0x7f119c156b90>"
      ]
     },
     "execution_count": 6,
     "metadata": {},
     "output_type": "execute_result"
    }
   ],
   "source": [
    "e2 = Estudiantes(\"Nikola\", \"Tesla\", 30, False, 1.0)\n",
    "e2"
   ]
  },
  {
   "cell_type": "code",
   "execution_count": 12,
   "metadata": {},
   "outputs": [],
   "source": [
    "with open('registro.csv', 'w', encoding='UTF-8') as f:\n",
    "    f.writelines(\"nombre, apellido, edad, sexo, altura\\n\")\n",
    "    f.close()"
   ]
  },
  {
   "cell_type": "code",
   "execution_count": 14,
   "metadata": {},
   "outputs": [],
   "source": [
    "nombre = e2.nombre\n",
    "apellido = e2.apellido\n",
    "edad = e2.edad\n",
    "sexo = e2.sexo\n",
    "altura = e2.altura\n",
    "\n",
    "with open('registro.csv', 'a', encoding='UTF-8') as f:\n",
    "    f.writelines(\"%s, %s, %s, %s, %s\\n\"%(nombre, apellido, edad, sexo, altura))\n",
    "    f.close()"
   ]
  },
  {
   "cell_type": "markdown",
   "metadata": {},
   "source": [
    "# Segunda Etapa - Programacion Orientada a Objeto, Herencia"
   ]
  },
  {
   "cell_type": "code",
   "execution_count": 36,
   "metadata": {},
   "outputs": [],
   "source": [
    "# Persona\n",
    "# Estudiantes\n",
    "# Maestro\n",
    "# Aula\n",
    "\n",
    "class Persona:\n",
    "    \"\"\"\n",
    "    Esta clase será utilizada para no repetir códifo en función de \n",
    "    otras clases que se estarán definiendo.\n",
    "    \"\"\"\n",
    "    def __init__(self, nombre, apellido, edad, sexo, altura):\n",
    "        self.nombre = nombre\n",
    "        self. apellido = apellido\n",
    "        self.edad = edad\n",
    "        self.sexo = sexo\n",
    "        self.altura = altura\n",
    "\n",
    "class Estudiante(Persona):\n",
    "    \"\"\"\n",
    "    Clase para registrar estudiantes\n",
    "    \"\"\"\n",
    "    def __init__(self,  nombre, apellido, edad, sexo, altura):\n",
    "        super().__init__( nombre, apellido, edad, sexo, altura)\n",
    "        \n",
    "    def __str__(self):\n",
    "        return \"Bienvenido %s\"%self.nombre\n",
    "    \n",
    "class Maestro(Persona):\n",
    "    \"\"\"\n",
    "    Clase para registrar maestros.\n",
    "    \"\"\"\n",
    "    def __init__(self,  nombre, apellido, edad, sexo, altura, materia):\n",
    "        super().__init__(nombre, apellido, edad, sexo, altura)\n",
    "        self.materia = materia\n",
    "\n",
    "\n",
    "    def __str__(self):\n",
    "        return \"Bienvenido %s\"%self.nombre\n",
    "class Aula:\n",
    "    def __init__(self, aula, estudiante, maestro):\n",
    "        self.aula = aula\n",
    "        self.estudiante = estudiante\n",
    "        self.maestro = maestro\n",
    "\n",
    "# class Aula(Estudiante, Maestro):\n",
    "    \n",
    "#     def __init__(self, nombre_estudiante, apellido_estudiante, edad_estudiante, sexo_estudiante, altura_estudiante,  nombre_maestro, apellido_maestro, edad_maestro, sexo_maestro, altura_maestro, materia_maestro):\n",
    "#         Estudiante.__init__(self, nombre, apellido, edad, sexo, altura)\n",
    "#         Maestro.__init__(self,  nombre, apellido, edad, sexo, altura, materia)\n",
    "\n",
    "\n"
   ]
  },
  {
   "cell_type": "code",
   "execution_count": 37,
   "metadata": {},
   "outputs": [],
   "source": [
    "e1 = Estudiante(\"Jean Charly\", \"Joseph\", 32, False, 1.4)\n",
    "m1 = Maestro(\"Nikola\", \"Tesla\", 39, False, 1.8, \"Fisica\")\n",
    "a1 = Aula(\"Aula1\", e1, m1)"
   ]
  }
 ],
 "metadata": {
  "kernelspec": {
   "display_name": "Python 3",
   "language": "python",
   "name": "python3"
  },
  "language_info": {
   "codemirror_mode": {
    "name": "ipython",
    "version": 3
   },
   "file_extension": ".py",
   "mimetype": "text/x-python",
   "name": "python",
   "nbconvert_exporter": "python",
   "pygments_lexer": "ipython3",
   "version": "3.10.8"
  },
  "orig_nbformat": 4
 },
 "nbformat": 4,
 "nbformat_minor": 2
}
