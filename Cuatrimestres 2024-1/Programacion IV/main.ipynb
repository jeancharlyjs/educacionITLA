{
 "cells": [
  {
   "cell_type": "markdown",
   "metadata": {},
   "source": [
    "# Programacion Orientada a Objeto\n",
    "```\n",
    "- Objeto\n",
    "    Estudiantes\n",
    "- Atributos\n",
    "    nombre -> No se requiere identificar el tipo de dato\n",
    "- Metodos\n",
    "    - Deriva de una o varias funciones\n",
    "\n",
    "```\n"
   ]
  },
  {
   "cell_type": "code",
   "execution_count": 9,
   "metadata": {},
   "outputs": [],
   "source": [
    "class PerfilEstudiante:\n",
    "    CONTADOR = []\n",
    "    def __init__(self, cedula, nombre, apellido, edad, sexo, peso, altura):\n",
    "        self.cedula = cedula\n",
    "        self.nombre = nombre\n",
    "        self.apellido = apellido\n",
    "        self.edad = edad\n",
    "        self.sexo = sexo\n",
    "        self.peso = peso\n",
    "        self.altura = altura\n",
    "\n",
    "    def __repr__(self):\n",
    "        if self.sexo is True:\n",
    "            return \"Bienvenida Sra. %s %s\"%(self.nombre, self.apellido)\n",
    "        return \"Bienvenido Sr. %s %s\"%(self.nombre, self.apellido)\n",
    "    \n",
    "    def validacionCedula(cedula):\n",
    "        if len(cedula) < 11 or len(cedula) > 11:\n",
    "            return \"Su cedula no corresponde a la longitud\"\n",
    "        else:\n",
    "            return \"%s-%s-%s\"%(cedula[0:3], cedula[0:7], cedula[-1])\n",
    "    def agregar(self):\n",
    "        if self.cedula in self.CONTADOR:\n",
    "            return \"Esta cedula ya existe... Lo siento :(\"\n",
    "        return self.CONTADOR.append(self.cedula)\n",
    "    "
   ]
  },
  {
   "cell_type": "code",
   "execution_count": 6,
   "metadata": {},
   "outputs": [
    {
     "data": {
      "text/plain": [
       "'Bienvenido Sr. Jean Charly Joseph'"
      ]
     },
     "execution_count": 6,
     "metadata": {},
     "output_type": "execute_result"
    }
   ],
   "source": [
    "pe1 = PerfilEstudiante(\"28934723421\", \"Jean Charly\", \"Joseph\", 23, False, 170, 1.5)\n",
    "PerfilEstudiante.validacionCedula(pe1.cedula)\n",
    "pe1.agregar()\n",
    "pe1.__repr__()"
   ]
  },
  {
   "cell_type": "code",
   "execution_count": 22,
   "metadata": {},
   "outputs": [
    {
     "data": {
      "text/plain": [
       "'Bienvenido Nikola Joseph'"
      ]
     },
     "execution_count": 22,
     "metadata": {},
     "output_type": "execute_result"
    }
   ],
   "source": [
    "pe1.__repr__()"
   ]
  },
  {
   "cell_type": "code",
   "execution_count": 7,
   "metadata": {},
   "outputs": [
    {
     "data": {
      "text/plain": [
       "'Esta cedula ya existe... Lo siento :('"
      ]
     },
     "execution_count": 7,
     "metadata": {},
     "output_type": "execute_result"
    }
   ],
   "source": [
    "pe2 = PerfilEstudiante(\"28934723421\", \"Nikola\", \"Tesla\", False, 32, 180, 3.2)\n",
    "pe2.__repr__()\n",
    "pe2.agregar()"
   ]
  },
  {
   "cell_type": "code",
   "execution_count": 34,
   "metadata": {},
   "outputs": [
    {
     "data": {
      "text/plain": [
       "set()"
      ]
     },
     "execution_count": 34,
     "metadata": {},
     "output_type": "execute_result"
    }
   ],
   "source": [
    "PerfilEstudiante.CONTADOR"
   ]
  },
  {
   "cell_type": "code",
   "execution_count": 8,
   "metadata": {},
   "outputs": [
    {
     "data": {
      "text/plain": [
       "'Bienvenida Sra. Marie Curie'"
      ]
     },
     "execution_count": 8,
     "metadata": {},
     "output_type": "execute_result"
    }
   ],
   "source": [
    "pe3 = PerfilEstudiante(\"392847234234\", \"Marie\", \"Curie\", None, True, 140, 1.3)\n",
    "pe3.agregar()\n",
    "pe3.__repr__()\n"
   ]
  },
  {
   "cell_type": "code",
   "execution_count": 44,
   "metadata": {},
   "outputs": [
    {
     "data": {
      "text/plain": [
       "30"
      ]
     },
     "execution_count": 44,
     "metadata": {},
     "output_type": "execute_result"
    }
   ],
   "source": [
    "pe3.edad = 30\n",
    "pe3.edad"
   ]
  },
  {
   "cell_type": "code",
   "execution_count": 51,
   "metadata": {},
   "outputs": [],
   "source": [
    "def solitudDatos():\n",
    "    cedula = input(\"Ingrese su cedula de identidad: \")\n",
    "    nombre = input(\"Ingrese su nombre: \")\n",
    "    apellidos = input(\"Ingrese sus apellidos: \")\n",
    "    edad = int(input(\"Ingrese su edad: \"))\n",
    "    sexo = bool(input(\"Ingrese su sexo: \"))\n",
    "    peso = float(input(\"Cual es su peso: \"))\n",
    "    altura = float(input(\"Ingrese su altura: \"))\n",
    "    return (cedula, nombre, apellidos, edad, sexo, peso, altura)\n",
    "\n",
    "s = solitudDatos()"
   ]
  },
  {
   "cell_type": "code",
   "execution_count": 53,
   "metadata": {},
   "outputs": [
    {
     "data": {
      "text/plain": [
       "'Bienvenido Jean Charly Joseph'"
      ]
     },
     "execution_count": 53,
     "metadata": {},
     "output_type": "execute_result"
    }
   ],
   "source": [
    "\n",
    "pe4 = PerfilEstudiante(s[0], s[1], s[2], s[3], s[4], s[5], s[6])\n",
    "pe4.__repr__()\n"
   ]
  },
  {
   "cell_type": "code",
   "execution_count": 54,
   "metadata": {},
   "outputs": [
    {
     "data": {
      "text/plain": [
       "tuple"
      ]
     },
     "execution_count": 54,
     "metadata": {},
     "output_type": "execute_result"
    }
   ],
   "source": []
  }
 ],
 "metadata": {
  "kernelspec": {
   "display_name": "Python 3",
   "language": "python",
   "name": "python3"
  },
  "language_info": {
   "codemirror_mode": {
    "name": "ipython",
    "version": 3
   },
   "file_extension": ".py",
   "mimetype": "text/x-python",
   "name": "python",
   "nbconvert_exporter": "python",
   "pygments_lexer": "ipython3",
   "version": "3.10.13"
  }
 },
 "nbformat": 4,
 "nbformat_minor": 2
}
