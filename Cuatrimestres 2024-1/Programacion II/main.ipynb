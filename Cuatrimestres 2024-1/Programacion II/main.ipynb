{
 "cells": [
  {
   "cell_type": "markdown",
   "metadata": {},
   "source": [
    "# Variables\n",
    "```\n",
    "Estructuras Primitivas\n",
    "- String '', \"\"\n",
    "- Integer $\\mathbb{R}$\n",
    "- Boolen [Verdadero - Falso]\n",
    "- Complejo [$\\mathbb{R}$ j]\n",
    "- Float - $\\pi$\n",
    "\n",
    "- Lenguaje No tipado\n",
    "\n",
    "<tipo> <nombreVariable> = <valorVariable>\n",
    "\n",
    "- lenguaje tipado\n",
    "\n",
    "<nombreVariable> = <valorVariable>\n",
    "``````"
   ]
  },
  {
   "cell_type": "code",
   "execution_count": 17,
   "metadata": {},
   "outputs": [
    {
     "name": "stdout",
     "output_type": "stream",
     "text": [
      "Jean Charly\n"
     ]
    }
   ],
   "source": [
    "nombre = \"Jean Charly\"\n",
    "#string nombre = valor\n",
    "print(nombre)\n",
    "\n",
    "edad = 23\n",
    "pi = 3.14\n",
    "sexo = False\n",
    "comple = 43j"
   ]
  },
  {
   "cell_type": "markdown",
   "metadata": {},
   "source": [
    "# Variables Estructuradas\n",
    "\n",
    "- Mutables\n",
    "    \n",
    "    ''' Son todas aquellas que se puede modificar despues de haber sido creadas\n",
    "        llamandolo por su indice'''\n",
    "\n",
    "    * Listas -> []\n",
    "        - Listas\n",
    "            \"\"\"Es una lista cuando existen diferentes elementos que no son del mismo tipo\"\"\"\n",
    "        - Arreglos\n",
    "            \"\"\"Es un arreglo cuando el tipo de datos corresponde todo a lo mismo\"\"\"\n",
    "        - Matrices\n",
    "                \"\"\"Es una matriz cuando exite N cantidad de Arreglos con valores de mismo tipo\"\"\"\n",
    "    * Diccionarios -> {<keys>: <valor>}\n",
    "    \n",
    "- Inmutables\n",
    "'''No se puede modificar despues de haber sido creadas'''\n",
    "    * Tuplas -> ( )\n",
    "    * Conjuntos -> { }"
   ]
  },
  {
   "cell_type": "markdown",
   "metadata": {},
   "source": [
    "## Listas"
   ]
  },
  {
   "cell_type": "code",
   "execution_count": 43,
   "metadata": {},
   "outputs": [
    {
     "data": {
      "text/plain": [
       "['Jean Charly', 'Joseph', 32, False]"
      ]
     },
     "execution_count": 43,
     "metadata": {},
     "output_type": "execute_result"
    }
   ],
   "source": [
    "elementos = [\"Jean Charly\", \"Joseph\", 32, False]\n",
    "elementos"
   ]
  },
  {
   "cell_type": "code",
   "execution_count": 44,
   "metadata": {},
   "outputs": [
    {
     "data": {
      "text/plain": [
       "['Jean Charly', 'Joseph', 32, False, 'Leer']"
      ]
     },
     "execution_count": 44,
     "metadata": {},
     "output_type": "execute_result"
    }
   ],
   "source": [
    "elementos.append(\"Leer\")\n",
    "elementos"
   ]
  },
  {
   "cell_type": "markdown",
   "metadata": {},
   "source": [
    "### Indices\n",
    "\n",
    "```\n",
    " -5                 -4    -3    -2        -1\n",
    "['Jean Charly', 'Joseph', 32, False, 'Leer']\n",
    "        0           1      2   3        4\n",
    "```"
   ]
  },
  {
   "cell_type": "code",
   "execution_count": 29,
   "metadata": {},
   "outputs": [
    {
     "data": {
      "text/plain": [
       "['Jose Tesla', 'Joseph', 32, False, 'Leer']"
      ]
     },
     "execution_count": 29,
     "metadata": {},
     "output_type": "execute_result"
    }
   ],
   "source": [
    "elementos[0] = \"Jose Tesla\"\n",
    "elementos"
   ]
  },
  {
   "cell_type": "code",
   "execution_count": 31,
   "metadata": {},
   "outputs": [
    {
     "data": {
      "text/plain": [
       "['Jose Tesla', 'Joseph', 32]"
      ]
     },
     "execution_count": 31,
     "metadata": {},
     "output_type": "execute_result"
    }
   ],
   "source": [
    "elementos[0:3]"
   ]
  },
  {
   "cell_type": "code",
   "execution_count": 45,
   "metadata": {},
   "outputs": [
    {
     "data": {
      "text/plain": [
       "['Joseph', 32, False, 'Leer']"
      ]
     },
     "execution_count": 45,
     "metadata": {},
     "output_type": "execute_result"
    }
   ],
   "source": [
    "buffer = []\n",
    "numIndice = int(input(\"Ingrese el valor que desea borrar: \"))\n",
    "buffer.append(elementos[numIndice])\n",
    "elementos.pop(numIndice)\n",
    "elementos"
   ]
  },
  {
   "cell_type": "code",
   "execution_count": 46,
   "metadata": {},
   "outputs": [
    {
     "data": {
      "text/plain": [
       "['Jean Charly']"
      ]
     },
     "execution_count": 46,
     "metadata": {},
     "output_type": "execute_result"
    }
   ],
   "source": [
    "buffer"
   ]
  },
  {
   "cell_type": "code",
   "execution_count": 47,
   "metadata": {},
   "outputs": [
    {
     "data": {
      "text/plain": [
       "['Jean Charly', 'Joseph', 32, False, 'Leer']"
      ]
     },
     "execution_count": 47,
     "metadata": {},
     "output_type": "execute_result"
    }
   ],
   "source": [
    "elementos.insert(0, buffer[0])\n",
    "elementos"
   ]
  },
  {
   "cell_type": "code",
   "execution_count": 48,
   "metadata": {},
   "outputs": [
    {
     "data": {
      "text/plain": [
       "['Charly', 'Joseph', 32, False, 'Leer']"
      ]
     },
     "execution_count": 48,
     "metadata": {},
     "output_type": "execute_result"
    }
   ],
   "source": [
    "elementos[0] = \"Charly\"\n",
    "elementos"
   ]
  },
  {
   "cell_type": "markdown",
   "metadata": {},
   "source": [
    "# Tupla"
   ]
  },
  {
   "cell_type": "code",
   "execution_count": 51,
   "metadata": {},
   "outputs": [
    {
     "data": {
      "text/plain": [
       "('Jean Charly', 'Joseph', 32, False)"
      ]
     },
     "execution_count": 51,
     "metadata": {},
     "output_type": "execute_result"
    }
   ],
   "source": [
    "elementoTuplas = (\"Jean Charly\", \"Joseph\", 32, False)\n",
    "elementoTuplas"
   ]
  },
  {
   "cell_type": "code",
   "execution_count": 53,
   "metadata": {},
   "outputs": [
    {
     "ename": "TypeError",
     "evalue": "'tuple' object does not support item assignment",
     "output_type": "error",
     "traceback": [
      "\u001b[0;31m---------------------------------------------------------------------------\u001b[0m",
      "\u001b[0;31mTypeError\u001b[0m                                 Traceback (most recent call last)",
      "Cell \u001b[0;32mIn[53], line 1\u001b[0m\n\u001b[0;32m----> 1\u001b[0m \u001b[43melementoTuplas\u001b[49m\u001b[43m[\u001b[49m\u001b[38;5;241;43m0\u001b[39;49m\u001b[43m]\u001b[49m \u001b[38;5;241m=\u001b[39m \u001b[38;5;124m\"\u001b[39m\u001b[38;5;124mCharly\u001b[39m\u001b[38;5;124m\"\u001b[39m\n",
      "\u001b[0;31mTypeError\u001b[0m: 'tuple' object does not support item assignment"
     ]
    }
   ],
   "source": [
    "elementoTuplas[0] = \"Charly\""
   ]
  },
  {
   "cell_type": "markdown",
   "metadata": {},
   "source": [
    "# Diccionarios\n",
    "```\n",
    "{<keys>: <valor>}\n",
    "```\n"
   ]
  },
  {
   "cell_type": "code",
   "execution_count": 56,
   "metadata": {},
   "outputs": [
    {
     "data": {
      "text/plain": [
       "{'nombre': 'Jean Charly', 'apellidos': 'Joseph', 'edad': 32, 'sexo': False}"
      ]
     },
     "execution_count": 56,
     "metadata": {},
     "output_type": "execute_result"
    }
   ],
   "source": [
    "elementosDicc = {\"nombre\": \"Jean Charly\", \"apellidos\": \"Joseph\", \"edad\": 32, \"sexo\": False}\n",
    "elementosDicc"
   ]
  },
  {
   "cell_type": "code",
   "execution_count": 59,
   "metadata": {},
   "outputs": [
    {
     "data": {
      "text/plain": [
       "{'nombre': 'Nikola', 'apellidos': 'Joseph', 'edad': 32, 'sexo': False}"
      ]
     },
     "execution_count": 59,
     "metadata": {},
     "output_type": "execute_result"
    }
   ],
   "source": [
    "elementosDicc['nombre'] = \"Nikola\"\n",
    "elementosDicc"
   ]
  },
  {
   "cell_type": "code",
   "execution_count": 73,
   "metadata": {},
   "outputs": [
    {
     "data": {
      "text/plain": [
       "{'nombres': ['Jean Charly', 'Nikola', 'Marie'],\n",
       " 'apellidos': ['Joseph', 'Tesla', 'Curie'],\n",
       " 'edad': [32, 18, 22],\n",
       " 'sexo': [False, False, True]}"
      ]
     },
     "execution_count": 73,
     "metadata": {},
     "output_type": "execute_result"
    }
   ],
   "source": [
    "elementosDiccM = {'nombres': [\"Jean Charly\", \"Nikola\", \"Marie\"], \"apellidos\": [\"Joseph\", \"Tesla\", \"Curie\"], \"edad\": [32, 18, 22], \"sexo\": [False, False, True]}\n",
    "elementosDiccM"
   ]
  },
  {
   "cell_type": "code",
   "execution_count": 61,
   "metadata": {},
   "outputs": [
    {
     "data": {
      "text/html": [
       "<div><style>\n",
       ".dataframe > thead > tr,\n",
       ".dataframe > tbody > tr {\n",
       "  text-align: right;\n",
       "  white-space: pre-wrap;\n",
       "}\n",
       "</style>\n",
       "<small>shape: (3, 4)</small><table border=\"1\" class=\"dataframe\"><thead><tr><th>nombres</th><th>apellidos</th><th>edad</th><th>sexo</th></tr><tr><td>str</td><td>str</td><td>i64</td><td>bool</td></tr></thead><tbody><tr><td>&quot;Jean Charly&quot;</td><td>&quot;Joseph&quot;</td><td>32</td><td>false</td></tr><tr><td>&quot;Nikola&quot;</td><td>&quot;Tesla&quot;</td><td>18</td><td>false</td></tr><tr><td>&quot;Marie&quot;</td><td>&quot;Curie&quot;</td><td>22</td><td>true</td></tr></tbody></table></div>"
      ],
      "text/plain": [
       "shape: (3, 4)\n",
       "┌─────────────┬───────────┬──────┬───────┐\n",
       "│ nombres     ┆ apellidos ┆ edad ┆ sexo  │\n",
       "│ ---         ┆ ---       ┆ ---  ┆ ---   │\n",
       "│ str         ┆ str       ┆ i64  ┆ bool  │\n",
       "╞═════════════╪═══════════╪══════╪═══════╡\n",
       "│ Jean Charly ┆ Joseph    ┆ 32   ┆ false │\n",
       "│ Nikola      ┆ Tesla     ┆ 18   ┆ false │\n",
       "│ Marie       ┆ Curie     ┆ 22   ┆ true  │\n",
       "└─────────────┴───────────┴──────┴───────┘"
      ]
     },
     "execution_count": 61,
     "metadata": {},
     "output_type": "execute_result"
    }
   ],
   "source": [
    "import polars as pl\n",
    "\n",
    "pl.DataFrame(elementosDiccM)"
   ]
  },
  {
   "cell_type": "code",
   "execution_count": 64,
   "metadata": {},
   "outputs": [],
   "source": [
    "elementosDiccM['nombres'][0] = \"Frederic\""
   ]
  },
  {
   "cell_type": "code",
   "execution_count": 68,
   "metadata": {},
   "outputs": [],
   "source": [
    "elementosDiccM['nombres'][0:2] = \"Jean Charly\""
   ]
  },
  {
   "cell_type": "code",
   "execution_count": 75,
   "metadata": {},
   "outputs": [
    {
     "data": {
      "text/plain": [
       "[True, True, True]"
      ]
     },
     "execution_count": 75,
     "metadata": {},
     "output_type": "execute_result"
    }
   ],
   "source": [
    "for i in range(len(elementosDiccM[\"sexo\"])):\n",
    "    if elementosDiccM[\"sexo\"][i] == False:\n",
    "        elementosDiccM[\"sexo\"][i] = True\n",
    "    else:\n",
    "        elementosDiccM[\"sexo\"][i] = True\n",
    "\n",
    "elementosDiccM[\"sexo\"]"
   ]
  },
  {
   "cell_type": "code",
   "execution_count": 77,
   "metadata": {},
   "outputs": [],
   "source": [
    "import numpy as np"
   ]
  },
  {
   "cell_type": "code",
   "execution_count": 80,
   "metadata": {},
   "outputs": [],
   "source": [
    "elemento2 = np.array(elementosDiccM[\"sexo\"])"
   ]
  },
  {
   "cell_type": "code",
   "execution_count": 82,
   "metadata": {},
   "outputs": [
    {
     "data": {
      "text/plain": [
       "array([False, False, False])"
      ]
     },
     "execution_count": 82,
     "metadata": {},
     "output_type": "execute_result"
    }
   ],
   "source": [
    "np.vectorize(lambda x: False if x == True else False)(elemento2)"
   ]
  },
  {
   "cell_type": "code",
   "execution_count": 83,
   "metadata": {},
   "outputs": [
    {
     "data": {
      "text/plain": [
       "[3, 3, 4, 5, 6, 7, 29, 3, 3, 4, 5, 6, 7, 29]"
      ]
     },
     "execution_count": 83,
     "metadata": {},
     "output_type": "execute_result"
    }
   ],
   "source": [
    "arreglo1 = [3, 3, 4, 5, 6, 7, 29]\n",
    "arreglo1 * 2"
   ]
  },
  {
   "cell_type": "code",
   "execution_count": 84,
   "metadata": {},
   "outputs": [
    {
     "data": {
      "text/plain": [
       "[6, 6, 8, 10, 12, 14, 58]"
      ]
     },
     "execution_count": 84,
     "metadata": {},
     "output_type": "execute_result"
    }
   ],
   "source": [
    "[arreglo1[i] * 2 for i in range(len(arreglo1))]"
   ]
  },
  {
   "cell_type": "code",
   "execution_count": 85,
   "metadata": {},
   "outputs": [
    {
     "data": {
      "text/plain": [
       "[6, 6, 8, 10, 12, 14, 58]"
      ]
     },
     "execution_count": 85,
     "metadata": {},
     "output_type": "execute_result"
    }
   ],
   "source": [
    "nuevoArreglo = []\n",
    "for i in range(len(arreglo1)):\n",
    "    nuevoArreglo.append(arreglo1[i] * 2 )\n",
    "nuevoArreglo"
   ]
  },
  {
   "cell_type": "code",
   "execution_count": 86,
   "metadata": {},
   "outputs": [
    {
     "data": {
      "text/plain": [
       "array([ 6,  6,  8, 10, 12, 14, 58])"
      ]
     },
     "execution_count": 86,
     "metadata": {},
     "output_type": "execute_result"
    }
   ],
   "source": [
    "np.array(arreglo1) * 2"
   ]
  },
  {
   "cell_type": "markdown",
   "metadata": {},
   "source": [
    "# Conjuntos"
   ]
  },
  {
   "cell_type": "code",
   "execution_count": 89,
   "metadata": {},
   "outputs": [
    {
     "data": {
      "text/plain": [
       "{2, 3, 4, 5, 6, 33}"
      ]
     },
     "execution_count": 89,
     "metadata": {},
     "output_type": "execute_result"
    }
   ],
   "source": [
    "conjunto1 = {2, 3, 3, 4, 455, 4, 3, }\n",
    "conjunto1\n",
    "\n",
    "conjunto2 = {2, 3, 33, 4, 5, 6}\n",
    "conjunto2"
   ]
  },
  {
   "cell_type": "code",
   "execution_count": 91,
   "metadata": {},
   "outputs": [
    {
     "data": {
      "text/plain": [
       "{5, 6, 33}"
      ]
     },
     "execution_count": 91,
     "metadata": {},
     "output_type": "execute_result"
    }
   ],
   "source": [
    "conjunto2 - conjunto1"
   ]
  },
  {
   "cell_type": "code",
   "execution_count": 93,
   "metadata": {},
   "outputs": [
    {
     "data": {
      "text/plain": [
       "{2, 3, 4}"
      ]
     },
     "execution_count": 93,
     "metadata": {},
     "output_type": "execute_result"
    }
   ],
   "source": [
    "conjunto2.intersection(conjunto1)"
   ]
  },
  {
   "cell_type": "code",
   "execution_count": 12,
   "metadata": {},
   "outputs": [
    {
     "data": {
      "text/plain": [
       "[97, 83, 17, 99, 79, 63, 73, 30, 83, 82]"
      ]
     },
     "execution_count": 12,
     "metadata": {},
     "output_type": "execute_result"
    }
   ],
   "source": [
    "from random import randint\n",
    "import math\n",
    "import numpy as np\n",
    "\n",
    "\n",
    "elementos = [randint(1, 100) for i in range(10)]\n",
    "elementos"
   ]
  },
  {
   "cell_type": "code",
   "execution_count": 19,
   "metadata": {},
   "outputs": [
    {
     "data": {
      "text/plain": [
       "array([485, 415,  85, 495, 395, 315, 365, 150, 415, 410])"
      ]
     },
     "execution_count": 19,
     "metadata": {},
     "output_type": "execute_result"
    }
   ],
   "source": [
    "def prueba(x):\n",
    "    valor = np.array(elementos) * x\n",
    "    return valor\n",
    "prueba(5)\n",
    "            "
   ]
  },
  {
   "cell_type": "code",
   "execution_count": 15,
   "metadata": {},
   "outputs": [],
   "source": [
    "elemento4 = lambda x: np.array(elementos) * x"
   ]
  },
  {
   "cell_type": "code",
   "execution_count": 18,
   "metadata": {},
   "outputs": [
    {
     "data": {
      "text/plain": [
       "array([582, 498, 102, 594, 474, 378, 438, 180, 498, 492])"
      ]
     },
     "execution_count": 18,
     "metadata": {},
     "output_type": "execute_result"
    }
   ],
   "source": [
    "elemento4(6)"
   ]
  },
  {
   "cell_type": "code",
   "execution_count": 20,
   "metadata": {},
   "outputs": [
    {
     "data": {
      "text/html": [
       "<div>\n",
       "<style scoped>\n",
       "    .dataframe tbody tr th:only-of-type {\n",
       "        vertical-align: middle;\n",
       "    }\n",
       "\n",
       "    .dataframe tbody tr th {\n",
       "        vertical-align: top;\n",
       "    }\n",
       "\n",
       "    .dataframe thead th {\n",
       "        text-align: right;\n",
       "    }\n",
       "</style>\n",
       "<table border=\"1\" class=\"dataframe\">\n",
       "  <thead>\n",
       "    <tr style=\"text-align: right;\">\n",
       "      <th></th>\n",
       "      <th>Nombre</th>\n",
       "      <th>Apellido</th>\n",
       "      <th>Sexo</th>\n",
       "    </tr>\n",
       "  </thead>\n",
       "  <tbody>\n",
       "    <tr>\n",
       "      <th>0</th>\n",
       "      <td>Elemento_22</td>\n",
       "      <td>Elemento_86</td>\n",
       "      <td>1</td>\n",
       "    </tr>\n",
       "    <tr>\n",
       "      <th>1</th>\n",
       "      <td>Elemento_5</td>\n",
       "      <td>Elemento_62</td>\n",
       "      <td>0</td>\n",
       "    </tr>\n",
       "    <tr>\n",
       "      <th>2</th>\n",
       "      <td>Elemento_67</td>\n",
       "      <td>Elemento_17</td>\n",
       "      <td>1</td>\n",
       "    </tr>\n",
       "    <tr>\n",
       "      <th>3</th>\n",
       "      <td>Elemento_79</td>\n",
       "      <td>Elemento_90</td>\n",
       "      <td>0</td>\n",
       "    </tr>\n",
       "    <tr>\n",
       "      <th>4</th>\n",
       "      <td>Elemento_99</td>\n",
       "      <td>Elemento_92</td>\n",
       "      <td>0</td>\n",
       "    </tr>\n",
       "    <tr>\n",
       "      <th>5</th>\n",
       "      <td>Elemento_65</td>\n",
       "      <td>Elemento_62</td>\n",
       "      <td>1</td>\n",
       "    </tr>\n",
       "    <tr>\n",
       "      <th>6</th>\n",
       "      <td>Elemento_100</td>\n",
       "      <td>Elemento_69</td>\n",
       "      <td>1</td>\n",
       "    </tr>\n",
       "    <tr>\n",
       "      <th>7</th>\n",
       "      <td>Elemento_91</td>\n",
       "      <td>Elemento_56</td>\n",
       "      <td>1</td>\n",
       "    </tr>\n",
       "    <tr>\n",
       "      <th>8</th>\n",
       "      <td>Elemento_60</td>\n",
       "      <td>Elemento_49</td>\n",
       "      <td>1</td>\n",
       "    </tr>\n",
       "    <tr>\n",
       "      <th>9</th>\n",
       "      <td>Elemento_88</td>\n",
       "      <td>Elemento_56</td>\n",
       "      <td>1</td>\n",
       "    </tr>\n",
       "    <tr>\n",
       "      <th>10</th>\n",
       "      <td>Elemento_46</td>\n",
       "      <td>Elemento_48</td>\n",
       "      <td>0</td>\n",
       "    </tr>\n",
       "    <tr>\n",
       "      <th>11</th>\n",
       "      <td>Elemento_18</td>\n",
       "      <td>Elemento_8</td>\n",
       "      <td>0</td>\n",
       "    </tr>\n",
       "    <tr>\n",
       "      <th>12</th>\n",
       "      <td>Elemento_12</td>\n",
       "      <td>Elemento_32</td>\n",
       "      <td>1</td>\n",
       "    </tr>\n",
       "    <tr>\n",
       "      <th>13</th>\n",
       "      <td>Elemento_7</td>\n",
       "      <td>Elemento_57</td>\n",
       "      <td>1</td>\n",
       "    </tr>\n",
       "    <tr>\n",
       "      <th>14</th>\n",
       "      <td>Elemento_78</td>\n",
       "      <td>Elemento_5</td>\n",
       "      <td>1</td>\n",
       "    </tr>\n",
       "    <tr>\n",
       "      <th>15</th>\n",
       "      <td>Elemento_33</td>\n",
       "      <td>Elemento_22</td>\n",
       "      <td>1</td>\n",
       "    </tr>\n",
       "    <tr>\n",
       "      <th>16</th>\n",
       "      <td>Elemento_10</td>\n",
       "      <td>Elemento_30</td>\n",
       "      <td>0</td>\n",
       "    </tr>\n",
       "    <tr>\n",
       "      <th>17</th>\n",
       "      <td>Elemento_3</td>\n",
       "      <td>Elemento_99</td>\n",
       "      <td>0</td>\n",
       "    </tr>\n",
       "    <tr>\n",
       "      <th>18</th>\n",
       "      <td>Elemento_33</td>\n",
       "      <td>Elemento_95</td>\n",
       "      <td>0</td>\n",
       "    </tr>\n",
       "    <tr>\n",
       "      <th>19</th>\n",
       "      <td>Elemento_6</td>\n",
       "      <td>Elemento_62</td>\n",
       "      <td>1</td>\n",
       "    </tr>\n",
       "  </tbody>\n",
       "</table>\n",
       "</div>"
      ],
      "text/plain": [
       "          Nombre     Apellido  Sexo\n",
       "0    Elemento_22  Elemento_86     1\n",
       "1     Elemento_5  Elemento_62     0\n",
       "2    Elemento_67  Elemento_17     1\n",
       "3    Elemento_79  Elemento_90     0\n",
       "4    Elemento_99  Elemento_92     0\n",
       "5    Elemento_65  Elemento_62     1\n",
       "6   Elemento_100  Elemento_69     1\n",
       "7    Elemento_91  Elemento_56     1\n",
       "8    Elemento_60  Elemento_49     1\n",
       "9    Elemento_88  Elemento_56     1\n",
       "10   Elemento_46  Elemento_48     0\n",
       "11   Elemento_18   Elemento_8     0\n",
       "12   Elemento_12  Elemento_32     1\n",
       "13    Elemento_7  Elemento_57     1\n",
       "14   Elemento_78   Elemento_5     1\n",
       "15   Elemento_33  Elemento_22     1\n",
       "16   Elemento_10  Elemento_30     0\n",
       "17    Elemento_3  Elemento_99     0\n",
       "18   Elemento_33  Elemento_95     0\n",
       "19    Elemento_6  Elemento_62     1"
      ]
     },
     "execution_count": 20,
     "metadata": {},
     "output_type": "execute_result"
    }
   ],
   "source": [
    "import pandas as pd\n",
    "\n",
    "dataset = {\n",
    "        \"Nombre\": [\"Elemento_%s\"%randint(1,100) for i in range(20)],\n",
    "        \"Apellido\": [\"Elemento_%s\"%randint(1,100) for i in range(20)],\n",
    "        \"Sexo\": [randint(0, 1) for i in range(20)]\n",
    "}\n",
    "df = pd.DataFrame(dataset)\n",
    "df"
   ]
  },
  {
   "cell_type": "code",
   "execution_count": 23,
   "metadata": {},
   "outputs": [],
   "source": [
    "def cambioSexo(x):\n",
    "    if x == 1:\n",
    "        return \"Femenino\"\n",
    "    else:\n",
    "        return \"Masculino\""
   ]
  },
  {
   "cell_type": "code",
   "execution_count": 24,
   "metadata": {},
   "outputs": [],
   "source": [
    "df[\"Sexo Cualif\"] = df['Sexo'].apply(lambda x: \"Feminino\" if x == 1 else \"Masculino\")\n",
    "df[\"Sexo Funcion\"] = df['Sexo'].apply(cambioSexo)"
   ]
  },
  {
   "cell_type": "code",
   "execution_count": 25,
   "metadata": {},
   "outputs": [
    {
     "data": {
      "text/html": [
       "<div>\n",
       "<style scoped>\n",
       "    .dataframe tbody tr th:only-of-type {\n",
       "        vertical-align: middle;\n",
       "    }\n",
       "\n",
       "    .dataframe tbody tr th {\n",
       "        vertical-align: top;\n",
       "    }\n",
       "\n",
       "    .dataframe thead th {\n",
       "        text-align: right;\n",
       "    }\n",
       "</style>\n",
       "<table border=\"1\" class=\"dataframe\">\n",
       "  <thead>\n",
       "    <tr style=\"text-align: right;\">\n",
       "      <th></th>\n",
       "      <th>Nombre</th>\n",
       "      <th>Apellido</th>\n",
       "      <th>Sexo</th>\n",
       "      <th>Sexo Cualif</th>\n",
       "      <th>Sexo Funcion</th>\n",
       "    </tr>\n",
       "  </thead>\n",
       "  <tbody>\n",
       "    <tr>\n",
       "      <th>0</th>\n",
       "      <td>Elemento_22</td>\n",
       "      <td>Elemento_86</td>\n",
       "      <td>1</td>\n",
       "      <td>Feminino</td>\n",
       "      <td>Femenino</td>\n",
       "    </tr>\n",
       "    <tr>\n",
       "      <th>1</th>\n",
       "      <td>Elemento_5</td>\n",
       "      <td>Elemento_62</td>\n",
       "      <td>0</td>\n",
       "      <td>Masculino</td>\n",
       "      <td>Masculino</td>\n",
       "    </tr>\n",
       "    <tr>\n",
       "      <th>2</th>\n",
       "      <td>Elemento_67</td>\n",
       "      <td>Elemento_17</td>\n",
       "      <td>1</td>\n",
       "      <td>Feminino</td>\n",
       "      <td>Femenino</td>\n",
       "    </tr>\n",
       "    <tr>\n",
       "      <th>3</th>\n",
       "      <td>Elemento_79</td>\n",
       "      <td>Elemento_90</td>\n",
       "      <td>0</td>\n",
       "      <td>Masculino</td>\n",
       "      <td>Masculino</td>\n",
       "    </tr>\n",
       "    <tr>\n",
       "      <th>4</th>\n",
       "      <td>Elemento_99</td>\n",
       "      <td>Elemento_92</td>\n",
       "      <td>0</td>\n",
       "      <td>Masculino</td>\n",
       "      <td>Masculino</td>\n",
       "    </tr>\n",
       "    <tr>\n",
       "      <th>5</th>\n",
       "      <td>Elemento_65</td>\n",
       "      <td>Elemento_62</td>\n",
       "      <td>1</td>\n",
       "      <td>Feminino</td>\n",
       "      <td>Femenino</td>\n",
       "    </tr>\n",
       "    <tr>\n",
       "      <th>6</th>\n",
       "      <td>Elemento_100</td>\n",
       "      <td>Elemento_69</td>\n",
       "      <td>1</td>\n",
       "      <td>Feminino</td>\n",
       "      <td>Femenino</td>\n",
       "    </tr>\n",
       "    <tr>\n",
       "      <th>7</th>\n",
       "      <td>Elemento_91</td>\n",
       "      <td>Elemento_56</td>\n",
       "      <td>1</td>\n",
       "      <td>Feminino</td>\n",
       "      <td>Femenino</td>\n",
       "    </tr>\n",
       "    <tr>\n",
       "      <th>8</th>\n",
       "      <td>Elemento_60</td>\n",
       "      <td>Elemento_49</td>\n",
       "      <td>1</td>\n",
       "      <td>Feminino</td>\n",
       "      <td>Femenino</td>\n",
       "    </tr>\n",
       "    <tr>\n",
       "      <th>9</th>\n",
       "      <td>Elemento_88</td>\n",
       "      <td>Elemento_56</td>\n",
       "      <td>1</td>\n",
       "      <td>Feminino</td>\n",
       "      <td>Femenino</td>\n",
       "    </tr>\n",
       "    <tr>\n",
       "      <th>10</th>\n",
       "      <td>Elemento_46</td>\n",
       "      <td>Elemento_48</td>\n",
       "      <td>0</td>\n",
       "      <td>Masculino</td>\n",
       "      <td>Masculino</td>\n",
       "    </tr>\n",
       "    <tr>\n",
       "      <th>11</th>\n",
       "      <td>Elemento_18</td>\n",
       "      <td>Elemento_8</td>\n",
       "      <td>0</td>\n",
       "      <td>Masculino</td>\n",
       "      <td>Masculino</td>\n",
       "    </tr>\n",
       "    <tr>\n",
       "      <th>12</th>\n",
       "      <td>Elemento_12</td>\n",
       "      <td>Elemento_32</td>\n",
       "      <td>1</td>\n",
       "      <td>Feminino</td>\n",
       "      <td>Femenino</td>\n",
       "    </tr>\n",
       "    <tr>\n",
       "      <th>13</th>\n",
       "      <td>Elemento_7</td>\n",
       "      <td>Elemento_57</td>\n",
       "      <td>1</td>\n",
       "      <td>Feminino</td>\n",
       "      <td>Femenino</td>\n",
       "    </tr>\n",
       "    <tr>\n",
       "      <th>14</th>\n",
       "      <td>Elemento_78</td>\n",
       "      <td>Elemento_5</td>\n",
       "      <td>1</td>\n",
       "      <td>Feminino</td>\n",
       "      <td>Femenino</td>\n",
       "    </tr>\n",
       "    <tr>\n",
       "      <th>15</th>\n",
       "      <td>Elemento_33</td>\n",
       "      <td>Elemento_22</td>\n",
       "      <td>1</td>\n",
       "      <td>Feminino</td>\n",
       "      <td>Femenino</td>\n",
       "    </tr>\n",
       "    <tr>\n",
       "      <th>16</th>\n",
       "      <td>Elemento_10</td>\n",
       "      <td>Elemento_30</td>\n",
       "      <td>0</td>\n",
       "      <td>Masculino</td>\n",
       "      <td>Masculino</td>\n",
       "    </tr>\n",
       "    <tr>\n",
       "      <th>17</th>\n",
       "      <td>Elemento_3</td>\n",
       "      <td>Elemento_99</td>\n",
       "      <td>0</td>\n",
       "      <td>Masculino</td>\n",
       "      <td>Masculino</td>\n",
       "    </tr>\n",
       "    <tr>\n",
       "      <th>18</th>\n",
       "      <td>Elemento_33</td>\n",
       "      <td>Elemento_95</td>\n",
       "      <td>0</td>\n",
       "      <td>Masculino</td>\n",
       "      <td>Masculino</td>\n",
       "    </tr>\n",
       "    <tr>\n",
       "      <th>19</th>\n",
       "      <td>Elemento_6</td>\n",
       "      <td>Elemento_62</td>\n",
       "      <td>1</td>\n",
       "      <td>Feminino</td>\n",
       "      <td>Femenino</td>\n",
       "    </tr>\n",
       "  </tbody>\n",
       "</table>\n",
       "</div>"
      ],
      "text/plain": [
       "          Nombre     Apellido  Sexo Sexo Cualif Sexo Funcion\n",
       "0    Elemento_22  Elemento_86     1    Feminino     Femenino\n",
       "1     Elemento_5  Elemento_62     0   Masculino    Masculino\n",
       "2    Elemento_67  Elemento_17     1    Feminino     Femenino\n",
       "3    Elemento_79  Elemento_90     0   Masculino    Masculino\n",
       "4    Elemento_99  Elemento_92     0   Masculino    Masculino\n",
       "5    Elemento_65  Elemento_62     1    Feminino     Femenino\n",
       "6   Elemento_100  Elemento_69     1    Feminino     Femenino\n",
       "7    Elemento_91  Elemento_56     1    Feminino     Femenino\n",
       "8    Elemento_60  Elemento_49     1    Feminino     Femenino\n",
       "9    Elemento_88  Elemento_56     1    Feminino     Femenino\n",
       "10   Elemento_46  Elemento_48     0   Masculino    Masculino\n",
       "11   Elemento_18   Elemento_8     0   Masculino    Masculino\n",
       "12   Elemento_12  Elemento_32     1    Feminino     Femenino\n",
       "13    Elemento_7  Elemento_57     1    Feminino     Femenino\n",
       "14   Elemento_78   Elemento_5     1    Feminino     Femenino\n",
       "15   Elemento_33  Elemento_22     1    Feminino     Femenino\n",
       "16   Elemento_10  Elemento_30     0   Masculino    Masculino\n",
       "17    Elemento_3  Elemento_99     0   Masculino    Masculino\n",
       "18   Elemento_33  Elemento_95     0   Masculino    Masculino\n",
       "19    Elemento_6  Elemento_62     1    Feminino     Femenino"
      ]
     },
     "execution_count": 25,
     "metadata": {},
     "output_type": "execute_result"
    }
   ],
   "source": [
    "df"
   ]
  },
  {
   "cell_type": "code",
   "execution_count": 28,
   "metadata": {},
   "outputs": [],
   "source": [
    "df['Sexo Vectorizado'] = np.vectorize(lambda x: \"Feminino\" if x == 1 else \"Masculino\")(df['Sexo'].to_numpy())"
   ]
  },
  {
   "cell_type": "code",
   "execution_count": 29,
   "metadata": {},
   "outputs": [
    {
     "data": {
      "text/html": [
       "<div>\n",
       "<style scoped>\n",
       "    .dataframe tbody tr th:only-of-type {\n",
       "        vertical-align: middle;\n",
       "    }\n",
       "\n",
       "    .dataframe tbody tr th {\n",
       "        vertical-align: top;\n",
       "    }\n",
       "\n",
       "    .dataframe thead th {\n",
       "        text-align: right;\n",
       "    }\n",
       "</style>\n",
       "<table border=\"1\" class=\"dataframe\">\n",
       "  <thead>\n",
       "    <tr style=\"text-align: right;\">\n",
       "      <th></th>\n",
       "      <th>Nombre</th>\n",
       "      <th>Apellido</th>\n",
       "      <th>Sexo</th>\n",
       "      <th>Sexo Cualif</th>\n",
       "      <th>Sexo Funcion</th>\n",
       "      <th>Sexo Vectorizado</th>\n",
       "    </tr>\n",
       "  </thead>\n",
       "  <tbody>\n",
       "    <tr>\n",
       "      <th>0</th>\n",
       "      <td>Elemento_22</td>\n",
       "      <td>Elemento_86</td>\n",
       "      <td>1</td>\n",
       "      <td>Feminino</td>\n",
       "      <td>Femenino</td>\n",
       "      <td>Feminino</td>\n",
       "    </tr>\n",
       "    <tr>\n",
       "      <th>1</th>\n",
       "      <td>Elemento_5</td>\n",
       "      <td>Elemento_62</td>\n",
       "      <td>0</td>\n",
       "      <td>Masculino</td>\n",
       "      <td>Masculino</td>\n",
       "      <td>Masculino</td>\n",
       "    </tr>\n",
       "    <tr>\n",
       "      <th>2</th>\n",
       "      <td>Elemento_67</td>\n",
       "      <td>Elemento_17</td>\n",
       "      <td>1</td>\n",
       "      <td>Feminino</td>\n",
       "      <td>Femenino</td>\n",
       "      <td>Feminino</td>\n",
       "    </tr>\n",
       "    <tr>\n",
       "      <th>3</th>\n",
       "      <td>Elemento_79</td>\n",
       "      <td>Elemento_90</td>\n",
       "      <td>0</td>\n",
       "      <td>Masculino</td>\n",
       "      <td>Masculino</td>\n",
       "      <td>Masculino</td>\n",
       "    </tr>\n",
       "    <tr>\n",
       "      <th>4</th>\n",
       "      <td>Elemento_99</td>\n",
       "      <td>Elemento_92</td>\n",
       "      <td>0</td>\n",
       "      <td>Masculino</td>\n",
       "      <td>Masculino</td>\n",
       "      <td>Masculino</td>\n",
       "    </tr>\n",
       "    <tr>\n",
       "      <th>5</th>\n",
       "      <td>Elemento_65</td>\n",
       "      <td>Elemento_62</td>\n",
       "      <td>1</td>\n",
       "      <td>Feminino</td>\n",
       "      <td>Femenino</td>\n",
       "      <td>Feminino</td>\n",
       "    </tr>\n",
       "    <tr>\n",
       "      <th>6</th>\n",
       "      <td>Elemento_100</td>\n",
       "      <td>Elemento_69</td>\n",
       "      <td>1</td>\n",
       "      <td>Feminino</td>\n",
       "      <td>Femenino</td>\n",
       "      <td>Feminino</td>\n",
       "    </tr>\n",
       "    <tr>\n",
       "      <th>7</th>\n",
       "      <td>Elemento_91</td>\n",
       "      <td>Elemento_56</td>\n",
       "      <td>1</td>\n",
       "      <td>Feminino</td>\n",
       "      <td>Femenino</td>\n",
       "      <td>Feminino</td>\n",
       "    </tr>\n",
       "    <tr>\n",
       "      <th>8</th>\n",
       "      <td>Elemento_60</td>\n",
       "      <td>Elemento_49</td>\n",
       "      <td>1</td>\n",
       "      <td>Feminino</td>\n",
       "      <td>Femenino</td>\n",
       "      <td>Feminino</td>\n",
       "    </tr>\n",
       "    <tr>\n",
       "      <th>9</th>\n",
       "      <td>Elemento_88</td>\n",
       "      <td>Elemento_56</td>\n",
       "      <td>1</td>\n",
       "      <td>Feminino</td>\n",
       "      <td>Femenino</td>\n",
       "      <td>Feminino</td>\n",
       "    </tr>\n",
       "    <tr>\n",
       "      <th>10</th>\n",
       "      <td>Elemento_46</td>\n",
       "      <td>Elemento_48</td>\n",
       "      <td>0</td>\n",
       "      <td>Masculino</td>\n",
       "      <td>Masculino</td>\n",
       "      <td>Masculino</td>\n",
       "    </tr>\n",
       "    <tr>\n",
       "      <th>11</th>\n",
       "      <td>Elemento_18</td>\n",
       "      <td>Elemento_8</td>\n",
       "      <td>0</td>\n",
       "      <td>Masculino</td>\n",
       "      <td>Masculino</td>\n",
       "      <td>Masculino</td>\n",
       "    </tr>\n",
       "    <tr>\n",
       "      <th>12</th>\n",
       "      <td>Elemento_12</td>\n",
       "      <td>Elemento_32</td>\n",
       "      <td>1</td>\n",
       "      <td>Feminino</td>\n",
       "      <td>Femenino</td>\n",
       "      <td>Feminino</td>\n",
       "    </tr>\n",
       "    <tr>\n",
       "      <th>13</th>\n",
       "      <td>Elemento_7</td>\n",
       "      <td>Elemento_57</td>\n",
       "      <td>1</td>\n",
       "      <td>Feminino</td>\n",
       "      <td>Femenino</td>\n",
       "      <td>Feminino</td>\n",
       "    </tr>\n",
       "    <tr>\n",
       "      <th>14</th>\n",
       "      <td>Elemento_78</td>\n",
       "      <td>Elemento_5</td>\n",
       "      <td>1</td>\n",
       "      <td>Feminino</td>\n",
       "      <td>Femenino</td>\n",
       "      <td>Feminino</td>\n",
       "    </tr>\n",
       "    <tr>\n",
       "      <th>15</th>\n",
       "      <td>Elemento_33</td>\n",
       "      <td>Elemento_22</td>\n",
       "      <td>1</td>\n",
       "      <td>Feminino</td>\n",
       "      <td>Femenino</td>\n",
       "      <td>Feminino</td>\n",
       "    </tr>\n",
       "    <tr>\n",
       "      <th>16</th>\n",
       "      <td>Elemento_10</td>\n",
       "      <td>Elemento_30</td>\n",
       "      <td>0</td>\n",
       "      <td>Masculino</td>\n",
       "      <td>Masculino</td>\n",
       "      <td>Masculino</td>\n",
       "    </tr>\n",
       "    <tr>\n",
       "      <th>17</th>\n",
       "      <td>Elemento_3</td>\n",
       "      <td>Elemento_99</td>\n",
       "      <td>0</td>\n",
       "      <td>Masculino</td>\n",
       "      <td>Masculino</td>\n",
       "      <td>Masculino</td>\n",
       "    </tr>\n",
       "    <tr>\n",
       "      <th>18</th>\n",
       "      <td>Elemento_33</td>\n",
       "      <td>Elemento_95</td>\n",
       "      <td>0</td>\n",
       "      <td>Masculino</td>\n",
       "      <td>Masculino</td>\n",
       "      <td>Masculino</td>\n",
       "    </tr>\n",
       "    <tr>\n",
       "      <th>19</th>\n",
       "      <td>Elemento_6</td>\n",
       "      <td>Elemento_62</td>\n",
       "      <td>1</td>\n",
       "      <td>Feminino</td>\n",
       "      <td>Femenino</td>\n",
       "      <td>Feminino</td>\n",
       "    </tr>\n",
       "  </tbody>\n",
       "</table>\n",
       "</div>"
      ],
      "text/plain": [
       "          Nombre     Apellido  Sexo Sexo Cualif Sexo Funcion Sexo Vectorizado\n",
       "0    Elemento_22  Elemento_86     1    Feminino     Femenino         Feminino\n",
       "1     Elemento_5  Elemento_62     0   Masculino    Masculino        Masculino\n",
       "2    Elemento_67  Elemento_17     1    Feminino     Femenino         Feminino\n",
       "3    Elemento_79  Elemento_90     0   Masculino    Masculino        Masculino\n",
       "4    Elemento_99  Elemento_92     0   Masculino    Masculino        Masculino\n",
       "5    Elemento_65  Elemento_62     1    Feminino     Femenino         Feminino\n",
       "6   Elemento_100  Elemento_69     1    Feminino     Femenino         Feminino\n",
       "7    Elemento_91  Elemento_56     1    Feminino     Femenino         Feminino\n",
       "8    Elemento_60  Elemento_49     1    Feminino     Femenino         Feminino\n",
       "9    Elemento_88  Elemento_56     1    Feminino     Femenino         Feminino\n",
       "10   Elemento_46  Elemento_48     0   Masculino    Masculino        Masculino\n",
       "11   Elemento_18   Elemento_8     0   Masculino    Masculino        Masculino\n",
       "12   Elemento_12  Elemento_32     1    Feminino     Femenino         Feminino\n",
       "13    Elemento_7  Elemento_57     1    Feminino     Femenino         Feminino\n",
       "14   Elemento_78   Elemento_5     1    Feminino     Femenino         Feminino\n",
       "15   Elemento_33  Elemento_22     1    Feminino     Femenino         Feminino\n",
       "16   Elemento_10  Elemento_30     0   Masculino    Masculino        Masculino\n",
       "17    Elemento_3  Elemento_99     0   Masculino    Masculino        Masculino\n",
       "18   Elemento_33  Elemento_95     0   Masculino    Masculino        Masculino\n",
       "19    Elemento_6  Elemento_62     1    Feminino     Femenino         Feminino"
      ]
     },
     "execution_count": 29,
     "metadata": {},
     "output_type": "execute_result"
    }
   ],
   "source": [
    "df"
   ]
  },
  {
   "cell_type": "markdown",
   "metadata": {},
   "source": [
    "# Clases"
   ]
  },
  {
   "cell_type": "code",
   "execution_count": 35,
   "metadata": {},
   "outputs": [],
   "source": [
    "class Perfil:\n",
    "    def __init__(self, nombre, apellido, sexo, edad, altura):\n",
    "        self.nombre = nombre\n",
    "        self.apellido = apellido\n",
    "        self.sexo = sexo\n",
    "        self.edad = edad \n",
    "        self.altura = altura\n",
    "        self.estado = None\n",
    "\n",
    "    def __repr__(self):\n",
    "        return \"Bienvenido %s %s\"%(self.nombre, self.apellido)\n",
    "    \n",
    "    def cambioEstado(self, est):\n",
    "        self.estado = est\n",
    "        return self.estado\n",
    "    \n",
    "\n",
    "\n"
   ]
  },
  {
   "cell_type": "code",
   "execution_count": 38,
   "metadata": {},
   "outputs": [
    {
     "data": {
      "text/plain": [
       "''"
      ]
     },
     "execution_count": 38,
     "metadata": {},
     "output_type": "execute_result"
    }
   ],
   "source": [
    "p1 = Perfil(\"Jean Charly\", \"Joseph\", False, 32, 1.3)\n",
    "p1.__repr__()\n",
    "p1.cambioEstado(\"\")\n"
   ]
  },
  {
   "cell_type": "markdown",
   "metadata": {},
   "source": [
    "# Crear DataFrame"
   ]
  },
  {
   "cell_type": "code",
   "execution_count": 45,
   "metadata": {},
   "outputs": [
    {
     "data": {
      "text/plain": [
       "{'Nombres': [],\n",
       " 'Apellidos': [],\n",
       " 'Sexo': [],\n",
       " 'Edad': [],\n",
       " 'Altura': [],\n",
       " 'Estado': []}"
      ]
     },
     "execution_count": 45,
     "metadata": {},
     "output_type": "execute_result"
    }
   ],
   "source": [
    "columnas = [\"Nombres\", \"Apellidos\", \"Sexo\", \"Edad\", \"Altura\", \"Estado\"]\n",
    "dataset = {columnas[i]: [] for i in range(len(columnas))}\n",
    "dataset"
   ]
  },
  {
   "cell_type": "code",
   "execution_count": 50,
   "metadata": {},
   "outputs": [
    {
     "data": {
      "text/plain": [
       "{'Nombres': ['Jean Charly', 'Jean Charly', 'Nikola', 'Marie'],\n",
       " 'Apellidos': ['Joseph', 'Joseph', 'Tesla', 'Curie'],\n",
       " 'Sexo': [True, True, True, True],\n",
       " 'Edad': [32, 32, 43, 20],\n",
       " 'Altura': [1.4, 1.4, 2.1, 1.2],\n",
       " 'Estado': []}"
      ]
     },
     "execution_count": 50,
     "metadata": {},
     "output_type": "execute_result"
    }
   ],
   "source": [
    "\n",
    "nombre = input(\"Ingrese su nombre: \")\n",
    "apellidos = input(\"Ingrese su apelidos: \")\n",
    "sexo = bool(input(\"Ingrese su sexo  [F=True, M=False]: \"))\n",
    "edad = int(input(\"Ingrese su edad : \"))\n",
    "altura = float(input(\"Ingrese su altura: \"))\n",
    "\n",
    "perfil = Perfil(nombre, apellidos, sexo, edad, altura)\n",
    "perfil.__repr__()\n",
    "# estado = input(\"En que estado se cuentra actualmente: \")\n",
    "# perfil.cambioEstado(estado)\n",
    "\n",
    "\n",
    "#Registro al dataset\n",
    "\n",
    "dataset['Nombres'].append(perfil.nombre)\n",
    "dataset['Apellidos'].append(perfil.apellido)\n",
    "dataset['Sexo'].append(perfil.sexo)\n",
    "dataset['Edad'].append(perfil.edad)\n",
    "dataset['Altura'].append(perfil.altura)\n",
    "# dataset['estado'].append(perfil.estado)\n",
    "\n",
    "dataset"
   ]
  },
  {
   "cell_type": "code",
   "execution_count": 57,
   "metadata": {},
   "outputs": [
    {
     "data": {
      "text/html": [
       "<div>\n",
       "<style scoped>\n",
       "    .dataframe tbody tr th:only-of-type {\n",
       "        vertical-align: middle;\n",
       "    }\n",
       "\n",
       "    .dataframe tbody tr th {\n",
       "        vertical-align: top;\n",
       "    }\n",
       "\n",
       "    .dataframe thead th {\n",
       "        text-align: right;\n",
       "    }\n",
       "</style>\n",
       "<table border=\"1\" class=\"dataframe\">\n",
       "  <thead>\n",
       "    <tr style=\"text-align: right;\">\n",
       "      <th></th>\n",
       "      <th>Nombres</th>\n",
       "      <th>Apellidos</th>\n",
       "      <th>Sexo</th>\n",
       "      <th>Edad</th>\n",
       "      <th>Altura</th>\n",
       "      <th>Estado</th>\n",
       "    </tr>\n",
       "  </thead>\n",
       "  <tbody>\n",
       "    <tr>\n",
       "      <th>0</th>\n",
       "      <td>Jean Charly</td>\n",
       "      <td>Joseph</td>\n",
       "      <td>True</td>\n",
       "      <td>32</td>\n",
       "      <td>1.4</td>\n",
       "      <td>None</td>\n",
       "    </tr>\n",
       "    <tr>\n",
       "      <th>1</th>\n",
       "      <td>Jean Charly</td>\n",
       "      <td>Joseph</td>\n",
       "      <td>True</td>\n",
       "      <td>32</td>\n",
       "      <td>1.4</td>\n",
       "      <td>None</td>\n",
       "    </tr>\n",
       "    <tr>\n",
       "      <th>2</th>\n",
       "      <td>Nikola</td>\n",
       "      <td>Tesla</td>\n",
       "      <td>True</td>\n",
       "      <td>43</td>\n",
       "      <td>2.1</td>\n",
       "      <td>None</td>\n",
       "    </tr>\n",
       "    <tr>\n",
       "      <th>3</th>\n",
       "      <td>Marie</td>\n",
       "      <td>Curie</td>\n",
       "      <td>True</td>\n",
       "      <td>20</td>\n",
       "      <td>1.2</td>\n",
       "      <td>None</td>\n",
       "    </tr>\n",
       "  </tbody>\n",
       "</table>\n",
       "</div>"
      ],
      "text/plain": [
       "       Nombres Apellidos  Sexo  Edad  Altura Estado\n",
       "0  Jean Charly    Joseph  True    32     1.4   None\n",
       "1  Jean Charly    Joseph  True    32     1.4   None\n",
       "2       Nikola     Tesla  True    43     2.1   None\n",
       "3        Marie     Curie  True    20     1.2   None"
      ]
     },
     "execution_count": 57,
     "metadata": {},
     "output_type": "execute_result"
    }
   ],
   "source": [
    "df = pd.DataFrame(dataset)\n",
    "df"
   ]
  },
  {
   "cell_type": "markdown",
   "metadata": {},
   "source": [
    "# Ficheros - Escritura de Archivo\n",
    "\n",
    "```\n",
    "    OPEN <NOMBRE>.[CSV, XLSX, TXT, DOCS], [PERMISO <r, w, a, x>], encoding='UTF-8' \n",
    "```\n"
   ]
  },
  {
   "cell_type": "code",
   "execution_count": 1,
   "metadata": {},
   "outputs": [],
   "source": [
    "EXTENSIONES = ['xlsx', 'csv', 'txt', 'docs', 'sql']\n",
    "\n",
    "for i in range(len(EXTENSIONES)):\n",
    "    with open(\"PruebaArchivos/Elemento.%s\"%EXTENSIONES[i], 'w', encoding='UTF-8') as f:\n",
    "        f.close()"
   ]
  },
  {
   "cell_type": "code",
   "execution_count": 2,
   "metadata": {},
   "outputs": [],
   "source": [
    "with open(\"PruebaArchivos/Elemento.csv\", 'w', encoding='UTF-8') as f:\n",
    "    f.writelines(\"Esto es una prueba... jejejejejej\")\n",
    "    f.close()"
   ]
  },
  {
   "cell_type": "code",
   "execution_count": 56,
   "metadata": {},
   "outputs": [
    {
     "name": "stdout",
     "output_type": "stream",
     "text": [
      "Este documento ya existe.....\n"
     ]
    }
   ],
   "source": [
    "import os\n",
    "\n",
    "if os.path.exists(\"PruebaArchivos/Elemento.csv\"):\n",
    "    print(\"Este documento ya existe.....\")\n",
    "else:\n",
    "    with open(\"PruebaArchivos/Elemento.csv\", 'w', encoding='UTF-8') as f:\n",
    "        f.writelines(\"Bienvenido, estudiantes del ITLA\")\n",
    "        f.close()"
   ]
  },
  {
   "cell_type": "code",
   "execution_count": 55,
   "metadata": {},
   "outputs": [],
   "source": [
    "with open(\"PruebaArchivos/Elemento.csv\", 'a', encoding='UTF-8') as f:\n",
    "    f.writelines(\"\\nEsto es una prueba... jejejejejej\")\n",
    "    \n",
    "    f.close()"
   ]
  },
  {
   "cell_type": "code",
   "execution_count": 60,
   "metadata": {},
   "outputs": [],
   "source": [
    "#Modelo\n",
    "class Estudiante:\n",
    "    def __init__(self, nombre, apellido, edad):\n",
    "        self.nombre = nombre\n",
    "        self.apellido = apellido\n",
    "        self.edad = edad\n",
    "    def __str__(self):\n",
    "        return \"Bienvenido %s\"%self.nombre\n",
    "    "
   ]
  },
  {
   "cell_type": "code",
   "execution_count": 63,
   "metadata": {},
   "outputs": [],
   "source": [
    "#\"Vista\"\n",
    "def registro():\n",
    "    nombre = input(\"Ingrese su nombre: \")\n",
    "    apellido = input(\"Ingrese su apellidos: \")\n",
    "    edad = int(input(\"Ingrese su edad: \"))\n",
    "    return nombre, apellido, edad\n"
   ]
  },
  {
   "cell_type": "code",
   "execution_count": 67,
   "metadata": {},
   "outputs": [],
   "source": [
    "#Controlador\n",
    "reg = registro()\n",
    "estudianteInstancia = Estudiante(reg[0], reg[1], reg[2])\n",
    "with open(\"RegistroEstudiantes.csv\", 'a', encoding='UTF-8') as f:\n",
    "    f.writelines(\"%s |%s| %s\\n\"%(estudianteInstancia.nombre, estudianteInstancia.apellido, estudianteInstancia.edad))\n",
    "    f.close()"
   ]
  },
  {
   "cell_type": "code",
   "execution_count": 57,
   "metadata": {},
   "outputs": [],
   "source": [
    "if os.path.exists(\"RegistroEstudiantes.csv\"):\n",
    "    print(\"Este archivo, ya existe.\")\n",
    "else:\n",
    "    with open(\"RegistroEstudiantes.csv\", 'a', encoding='UTF-8') as f:\n",
    "        f.writelines(\"Nombre |Apellidos| edad\\n\")\n",
    "        f.close()\n"
   ]
  },
  {
   "cell_type": "code",
   "execution_count": 66,
   "metadata": {},
   "outputs": [],
   "source": [
    "#Registrar datos\n",
    "\n",
    "with open(\"RegistroEstudiantes.csv\", 'a', encoding='UTF-8') as f:\n",
    "    f.writelines(\"%s |%s| %s\\n\"%(estudianteInstancia.nombre, estudianteInstancia.apellido, estudianteInstancia.edad))\n",
    "    f.close()"
   ]
  }
 ],
 "metadata": {
  "kernelspec": {
   "display_name": "Python 3",
   "language": "python",
   "name": "python3"
  },
  "language_info": {
   "codemirror_mode": {
    "name": "ipython",
    "version": 3
   },
   "file_extension": ".py",
   "mimetype": "text/x-python",
   "name": "python",
   "nbconvert_exporter": "python",
   "pygments_lexer": "ipython3",
   "version": "3.10.13"
  }
 },
 "nbformat": 4,
 "nbformat_minor": 2
}
