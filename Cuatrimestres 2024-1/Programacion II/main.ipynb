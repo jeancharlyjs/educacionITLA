{
 "cells": [
  {
   "cell_type": "markdown",
   "metadata": {},
   "source": [
    "# Variables\n",
    "```\n",
    "Estructuras Primitivas\n",
    "- String '', \"\"\n",
    "- Integer $\\mathbb{R}$\n",
    "- Boolen [Verdadero - Falso]\n",
    "- Complejo [$\\mathbb{R}$ j]\n",
    "- Float - $\\pi$\n",
    "\n",
    "- Lenguaje No tipado\n",
    "\n",
    "<tipo> <nombreVariable> = <valorVariable>\n",
    "\n",
    "- lenguaje tipado\n",
    "\n",
    "<nombreVariable> = <valorVariable>\n",
    "``````"
   ]
  },
  {
   "cell_type": "code",
   "execution_count": 17,
   "metadata": {},
   "outputs": [
    {
     "name": "stdout",
     "output_type": "stream",
     "text": [
      "Jean Charly\n"
     ]
    }
   ],
   "source": [
    "nombre = \"Jean Charly\"\n",
    "#string nombre = valor\n",
    "print(nombre)\n",
    "\n",
    "edad = 23\n",
    "pi = 3.14\n",
    "sexo = False\n",
    "comple = 43j"
   ]
  },
  {
   "cell_type": "markdown",
   "metadata": {},
   "source": [
    "# Variables Estructuradas\n",
    "\n",
    "- Mutables\n",
    "    \n",
    "    ''' Son todas aquellas que se puede modificar despues de haber sido creadas\n",
    "        llamandolo por su indice'''\n",
    "\n",
    "    * Listas -> []\n",
    "        - Listas\n",
    "            \"\"\"Es una lista cuando existen diferentes elementos que no son del mismo tipo\"\"\"\n",
    "        - Arreglos\n",
    "            \"\"\"Es un arreglo cuando el tipo de datos corresponde todo a lo mismo\"\"\"\n",
    "        - Matrices\n",
    "                \"\"\"Es una matriz cuando exite N cantidad de Arreglos con valores de mismo tipo\"\"\"\n",
    "    * Diccionarios -> {<keys>: <valor>}\n",
    "    \n",
    "- Inmutables\n",
    "'''No se puede modificar despues de haber sido creadas'''\n",
    "    * Tuplas -> ( )\n",
    "    * Conjuntos -> { }"
   ]
  },
  {
   "cell_type": "markdown",
   "metadata": {},
   "source": [
    "## Listas"
   ]
  },
  {
   "cell_type": "code",
   "execution_count": 43,
   "metadata": {},
   "outputs": [
    {
     "data": {
      "text/plain": [
       "['Jean Charly', 'Joseph', 32, False]"
      ]
     },
     "execution_count": 43,
     "metadata": {},
     "output_type": "execute_result"
    }
   ],
   "source": [
    "elementos = [\"Jean Charly\", \"Joseph\", 32, False]\n",
    "elementos"
   ]
  },
  {
   "cell_type": "code",
   "execution_count": 44,
   "metadata": {},
   "outputs": [
    {
     "data": {
      "text/plain": [
       "['Jean Charly', 'Joseph', 32, False, 'Leer']"
      ]
     },
     "execution_count": 44,
     "metadata": {},
     "output_type": "execute_result"
    }
   ],
   "source": [
    "elementos.append(\"Leer\")\n",
    "elementos"
   ]
  },
  {
   "cell_type": "markdown",
   "metadata": {},
   "source": [
    "### Indices\n",
    "\n",
    "```\n",
    " -5                 -4    -3    -2        -1\n",
    "['Jean Charly', 'Joseph', 32, False, 'Leer']\n",
    "        0           1      2   3        4\n",
    "```"
   ]
  },
  {
   "cell_type": "code",
   "execution_count": 29,
   "metadata": {},
   "outputs": [
    {
     "data": {
      "text/plain": [
       "['Jose Tesla', 'Joseph', 32, False, 'Leer']"
      ]
     },
     "execution_count": 29,
     "metadata": {},
     "output_type": "execute_result"
    }
   ],
   "source": [
    "elementos[0] = \"Jose Tesla\"\n",
    "elementos"
   ]
  },
  {
   "cell_type": "code",
   "execution_count": 31,
   "metadata": {},
   "outputs": [
    {
     "data": {
      "text/plain": [
       "['Jose Tesla', 'Joseph', 32]"
      ]
     },
     "execution_count": 31,
     "metadata": {},
     "output_type": "execute_result"
    }
   ],
   "source": [
    "elementos[0:3]"
   ]
  },
  {
   "cell_type": "code",
   "execution_count": 45,
   "metadata": {},
   "outputs": [
    {
     "data": {
      "text/plain": [
       "['Joseph', 32, False, 'Leer']"
      ]
     },
     "execution_count": 45,
     "metadata": {},
     "output_type": "execute_result"
    }
   ],
   "source": [
    "buffer = []\n",
    "numIndice = int(input(\"Ingrese el valor que desea borrar: \"))\n",
    "buffer.append(elementos[numIndice])\n",
    "elementos.pop(numIndice)\n",
    "elementos"
   ]
  },
  {
   "cell_type": "code",
   "execution_count": 46,
   "metadata": {},
   "outputs": [
    {
     "data": {
      "text/plain": [
       "['Jean Charly']"
      ]
     },
     "execution_count": 46,
     "metadata": {},
     "output_type": "execute_result"
    }
   ],
   "source": [
    "buffer"
   ]
  },
  {
   "cell_type": "code",
   "execution_count": 47,
   "metadata": {},
   "outputs": [
    {
     "data": {
      "text/plain": [
       "['Jean Charly', 'Joseph', 32, False, 'Leer']"
      ]
     },
     "execution_count": 47,
     "metadata": {},
     "output_type": "execute_result"
    }
   ],
   "source": [
    "elementos.insert(0, buffer[0])\n",
    "elementos"
   ]
  },
  {
   "cell_type": "code",
   "execution_count": 48,
   "metadata": {},
   "outputs": [
    {
     "data": {
      "text/plain": [
       "['Charly', 'Joseph', 32, False, 'Leer']"
      ]
     },
     "execution_count": 48,
     "metadata": {},
     "output_type": "execute_result"
    }
   ],
   "source": [
    "elementos[0] = \"Charly\"\n",
    "elementos"
   ]
  },
  {
   "cell_type": "markdown",
   "metadata": {},
   "source": [
    "# Tupla"
   ]
  },
  {
   "cell_type": "code",
   "execution_count": 51,
   "metadata": {},
   "outputs": [
    {
     "data": {
      "text/plain": [
       "('Jean Charly', 'Joseph', 32, False)"
      ]
     },
     "execution_count": 51,
     "metadata": {},
     "output_type": "execute_result"
    }
   ],
   "source": [
    "elementoTuplas = (\"Jean Charly\", \"Joseph\", 32, False)\n",
    "elementoTuplas"
   ]
  },
  {
   "cell_type": "code",
   "execution_count": 53,
   "metadata": {},
   "outputs": [
    {
     "ename": "TypeError",
     "evalue": "'tuple' object does not support item assignment",
     "output_type": "error",
     "traceback": [
      "\u001b[0;31m---------------------------------------------------------------------------\u001b[0m",
      "\u001b[0;31mTypeError\u001b[0m                                 Traceback (most recent call last)",
      "Cell \u001b[0;32mIn[53], line 1\u001b[0m\n\u001b[0;32m----> 1\u001b[0m \u001b[43melementoTuplas\u001b[49m\u001b[43m[\u001b[49m\u001b[38;5;241;43m0\u001b[39;49m\u001b[43m]\u001b[49m \u001b[38;5;241m=\u001b[39m \u001b[38;5;124m\"\u001b[39m\u001b[38;5;124mCharly\u001b[39m\u001b[38;5;124m\"\u001b[39m\n",
      "\u001b[0;31mTypeError\u001b[0m: 'tuple' object does not support item assignment"
     ]
    }
   ],
   "source": [
    "elementoTuplas[0] = \"Charly\""
   ]
  },
  {
   "cell_type": "markdown",
   "metadata": {},
   "source": [
    "# Diccionarios\n",
    "```\n",
    "{<keys>: <valor>}\n",
    "```\n"
   ]
  },
  {
   "cell_type": "code",
   "execution_count": 56,
   "metadata": {},
   "outputs": [
    {
     "data": {
      "text/plain": [
       "{'nombre': 'Jean Charly', 'apellidos': 'Joseph', 'edad': 32, 'sexo': False}"
      ]
     },
     "execution_count": 56,
     "metadata": {},
     "output_type": "execute_result"
    }
   ],
   "source": [
    "elementosDicc = {\"nombre\": \"Jean Charly\", \"apellidos\": \"Joseph\", \"edad\": 32, \"sexo\": False}\n",
    "elementosDicc"
   ]
  },
  {
   "cell_type": "code",
   "execution_count": 59,
   "metadata": {},
   "outputs": [
    {
     "data": {
      "text/plain": [
       "{'nombre': 'Nikola', 'apellidos': 'Joseph', 'edad': 32, 'sexo': False}"
      ]
     },
     "execution_count": 59,
     "metadata": {},
     "output_type": "execute_result"
    }
   ],
   "source": [
    "elementosDicc['nombre'] = \"Nikola\"\n",
    "elementosDicc"
   ]
  },
  {
   "cell_type": "code",
   "execution_count": 73,
   "metadata": {},
   "outputs": [
    {
     "data": {
      "text/plain": [
       "{'nombres': ['Jean Charly', 'Nikola', 'Marie'],\n",
       " 'apellidos': ['Joseph', 'Tesla', 'Curie'],\n",
       " 'edad': [32, 18, 22],\n",
       " 'sexo': [False, False, True]}"
      ]
     },
     "execution_count": 73,
     "metadata": {},
     "output_type": "execute_result"
    }
   ],
   "source": [
    "elementosDiccM = {'nombres': [\"Jean Charly\", \"Nikola\", \"Marie\"], \"apellidos\": [\"Joseph\", \"Tesla\", \"Curie\"], \"edad\": [32, 18, 22], \"sexo\": [False, False, True]}\n",
    "elementosDiccM"
   ]
  },
  {
   "cell_type": "code",
   "execution_count": 61,
   "metadata": {},
   "outputs": [
    {
     "data": {
      "text/html": [
       "<div><style>\n",
       ".dataframe > thead > tr,\n",
       ".dataframe > tbody > tr {\n",
       "  text-align: right;\n",
       "  white-space: pre-wrap;\n",
       "}\n",
       "</style>\n",
       "<small>shape: (3, 4)</small><table border=\"1\" class=\"dataframe\"><thead><tr><th>nombres</th><th>apellidos</th><th>edad</th><th>sexo</th></tr><tr><td>str</td><td>str</td><td>i64</td><td>bool</td></tr></thead><tbody><tr><td>&quot;Jean Charly&quot;</td><td>&quot;Joseph&quot;</td><td>32</td><td>false</td></tr><tr><td>&quot;Nikola&quot;</td><td>&quot;Tesla&quot;</td><td>18</td><td>false</td></tr><tr><td>&quot;Marie&quot;</td><td>&quot;Curie&quot;</td><td>22</td><td>true</td></tr></tbody></table></div>"
      ],
      "text/plain": [
       "shape: (3, 4)\n",
       "┌─────────────┬───────────┬──────┬───────┐\n",
       "│ nombres     ┆ apellidos ┆ edad ┆ sexo  │\n",
       "│ ---         ┆ ---       ┆ ---  ┆ ---   │\n",
       "│ str         ┆ str       ┆ i64  ┆ bool  │\n",
       "╞═════════════╪═══════════╪══════╪═══════╡\n",
       "│ Jean Charly ┆ Joseph    ┆ 32   ┆ false │\n",
       "│ Nikola      ┆ Tesla     ┆ 18   ┆ false │\n",
       "│ Marie       ┆ Curie     ┆ 22   ┆ true  │\n",
       "└─────────────┴───────────┴──────┴───────┘"
      ]
     },
     "execution_count": 61,
     "metadata": {},
     "output_type": "execute_result"
    }
   ],
   "source": [
    "import polars as pl\n",
    "\n",
    "pl.DataFrame(elementosDiccM)"
   ]
  },
  {
   "cell_type": "code",
   "execution_count": 64,
   "metadata": {},
   "outputs": [],
   "source": [
    "elementosDiccM['nombres'][0] = \"Frederic\""
   ]
  },
  {
   "cell_type": "code",
   "execution_count": 68,
   "metadata": {},
   "outputs": [],
   "source": [
    "elementosDiccM['nombres'][0:2] = \"Jean Charly\""
   ]
  },
  {
   "cell_type": "code",
   "execution_count": 75,
   "metadata": {},
   "outputs": [
    {
     "data": {
      "text/plain": [
       "[True, True, True]"
      ]
     },
     "execution_count": 75,
     "metadata": {},
     "output_type": "execute_result"
    }
   ],
   "source": [
    "for i in range(len(elementosDiccM[\"sexo\"])):\n",
    "    if elementosDiccM[\"sexo\"][i] == False:\n",
    "        elementosDiccM[\"sexo\"][i] = True\n",
    "    else:\n",
    "        elementosDiccM[\"sexo\"][i] = True\n",
    "\n",
    "elementosDiccM[\"sexo\"]"
   ]
  },
  {
   "cell_type": "code",
   "execution_count": 77,
   "metadata": {},
   "outputs": [],
   "source": [
    "import numpy as np"
   ]
  },
  {
   "cell_type": "code",
   "execution_count": 80,
   "metadata": {},
   "outputs": [],
   "source": [
    "elemento2 = np.array(elementosDiccM[\"sexo\"])"
   ]
  },
  {
   "cell_type": "code",
   "execution_count": 82,
   "metadata": {},
   "outputs": [
    {
     "data": {
      "text/plain": [
       "array([False, False, False])"
      ]
     },
     "execution_count": 82,
     "metadata": {},
     "output_type": "execute_result"
    }
   ],
   "source": [
    "np.vectorize(lambda x: False if x == True else False)(elemento2)"
   ]
  },
  {
   "cell_type": "code",
   "execution_count": 83,
   "metadata": {},
   "outputs": [
    {
     "data": {
      "text/plain": [
       "[3, 3, 4, 5, 6, 7, 29, 3, 3, 4, 5, 6, 7, 29]"
      ]
     },
     "execution_count": 83,
     "metadata": {},
     "output_type": "execute_result"
    }
   ],
   "source": [
    "arreglo1 = [3, 3, 4, 5, 6, 7, 29]\n",
    "arreglo1 * 2"
   ]
  },
  {
   "cell_type": "code",
   "execution_count": 84,
   "metadata": {},
   "outputs": [
    {
     "data": {
      "text/plain": [
       "[6, 6, 8, 10, 12, 14, 58]"
      ]
     },
     "execution_count": 84,
     "metadata": {},
     "output_type": "execute_result"
    }
   ],
   "source": [
    "[arreglo1[i] * 2 for i in range(len(arreglo1))]"
   ]
  },
  {
   "cell_type": "code",
   "execution_count": 85,
   "metadata": {},
   "outputs": [
    {
     "data": {
      "text/plain": [
       "[6, 6, 8, 10, 12, 14, 58]"
      ]
     },
     "execution_count": 85,
     "metadata": {},
     "output_type": "execute_result"
    }
   ],
   "source": [
    "nuevoArreglo = []\n",
    "for i in range(len(arreglo1)):\n",
    "    nuevoArreglo.append(arreglo1[i] * 2 )\n",
    "nuevoArreglo"
   ]
  },
  {
   "cell_type": "code",
   "execution_count": 86,
   "metadata": {},
   "outputs": [
    {
     "data": {
      "text/plain": [
       "array([ 6,  6,  8, 10, 12, 14, 58])"
      ]
     },
     "execution_count": 86,
     "metadata": {},
     "output_type": "execute_result"
    }
   ],
   "source": [
    "np.array(arreglo1) * 2"
   ]
  },
  {
   "cell_type": "markdown",
   "metadata": {},
   "source": [
    "# Conjuntos"
   ]
  },
  {
   "cell_type": "code",
   "execution_count": 89,
   "metadata": {},
   "outputs": [
    {
     "data": {
      "text/plain": [
       "{2, 3, 4, 5, 6, 33}"
      ]
     },
     "execution_count": 89,
     "metadata": {},
     "output_type": "execute_result"
    }
   ],
   "source": [
    "conjunto1 = {2, 3, 3, 4, 455, 4, 3, }\n",
    "conjunto1\n",
    "\n",
    "conjunto2 = {2, 3, 33, 4, 5, 6}\n",
    "conjunto2"
   ]
  },
  {
   "cell_type": "code",
   "execution_count": 91,
   "metadata": {},
   "outputs": [
    {
     "data": {
      "text/plain": [
       "{5, 6, 33}"
      ]
     },
     "execution_count": 91,
     "metadata": {},
     "output_type": "execute_result"
    }
   ],
   "source": [
    "conjunto2 - conjunto1"
   ]
  },
  {
   "cell_type": "code",
   "execution_count": 93,
   "metadata": {},
   "outputs": [
    {
     "data": {
      "text/plain": [
       "{2, 3, 4}"
      ]
     },
     "execution_count": 93,
     "metadata": {},
     "output_type": "execute_result"
    }
   ],
   "source": [
    "conjunto2.intersection(conjunto1)"
   ]
  }
 ],
 "metadata": {
  "kernelspec": {
   "display_name": "Python 3",
   "language": "python",
   "name": "python3"
  },
  "language_info": {
   "codemirror_mode": {
    "name": "ipython",
    "version": 3
   },
   "file_extension": ".py",
   "mimetype": "text/x-python",
   "name": "python",
   "nbconvert_exporter": "python",
   "pygments_lexer": "ipython3",
   "version": "3.10.13"
  }
 },
 "nbformat": 4,
 "nbformat_minor": 2
}
