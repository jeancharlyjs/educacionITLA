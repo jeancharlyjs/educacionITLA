{
 "cells": [
  {
   "cell_type": "code",
   "execution_count": null,
   "metadata": {},
   "outputs": [],
   "source": []
  },
  {
   "cell_type": "markdown",
   "metadata": {},
   "source": [
    "# Operadores \n",
    "\n",
    "## Aritmeticos\n",
    "\n",
    "```\n",
    "+, - , *, **,  /, //, %\n",
    "```\n",
    "\n",
    "## Comparativos \n",
    "Los son estructuras booleanas\n",
    "```\n",
    ">, <, >=, <=, ==, ===, !=, <>\n",
    "```\n",
    "\n",
    "## Incremento\n",
    "```\n",
    "+=, -=, *=, /=, //=, **=\n",
    "```\n",
    "\n",
    "## Proposicional Compuesta\n",
    "```\n",
    "Y -> and -> &\n",
    "O -> or -> ||\n",
    "no -> not -> ~\n",
    "```\n",
    "\n"
   ]
  },
  {
   "cell_type": "markdown",
   "metadata": {},
   "source": [
    "## Ejemplo Aritmeticos\n",
    "\n",
    "### $\\mathbb{R}$"
   ]
  },
  {
   "cell_type": "code",
   "execution_count": 28,
   "metadata": {},
   "outputs": [
    {
     "data": {
      "text/plain": [
       "[6, 9, 12]"
      ]
     },
     "execution_count": 28,
     "metadata": {},
     "output_type": "execute_result"
    }
   ],
   "source": [
    "numero1 = 5\n",
    "numero2 = 10\n",
    "\n",
    "#Suma \n",
    "numero1 = numero1 + numero2\n",
    "numero1\n",
    "\n",
    "#Resta\n",
    "numero1 = numero1 - numero2\n",
    "numero1\n",
    "\n",
    "#String\n",
    "\n",
    "nombre = \"Jean\"\n",
    "apellido = \"Joseph\"\n",
    "nombreCompleto = nombre +\" \"+ apellido\n",
    "nombreCompleto\n",
    "\n",
    "nombreCompleto1 = \"%s %s\"%(apellido, nombre)\n",
    "nombreCompleto1\n",
    "\n",
    "\n",
    "# nombreCompleto2 = f\"Mi nombre completo es: {nombre} {apellido}\"\n",
    "\n",
    "# nombreCompleto2\n",
    "\n",
    "nombreCompleto3 = \"{}, {}\".format(apellido, nombre)\n",
    "nombreCompleto3\n",
    "\n",
    "\n",
    "\n",
    "# nombre -\" \"- apellido\n",
    "\n",
    "nombre * 1000\n",
    "\n",
    "#Colectores\n",
    "## Lista\n",
    "elemento1 = [1, \"Jean\", 3, True]\n",
    "elemento2 = [2, 3, 4]\n",
    "\n",
    "elemento1 + elemento2\n",
    "# elemento1 - elemento2\n",
    "elemento2 * 3\n",
    "[elemento2[i] * 3 for i in range(len(elemento2))]\n"
   ]
  },
  {
   "cell_type": "markdown",
   "metadata": {},
   "source": [
    "## Ejemplo Compartivo"
   ]
  },
  {
   "cell_type": "code",
   "execution_count": 46,
   "metadata": {},
   "outputs": [
    {
     "name": "stdout",
     "output_type": "stream",
     "text": [
      "Excelente\n"
     ]
    },
    {
     "data": {
      "text/plain": [
       "True"
      ]
     },
     "execution_count": 46,
     "metadata": {},
     "output_type": "execute_result"
    }
   ],
   "source": [
    "#String\n",
    "nombre2  = 'Jean Charly'\n",
    "nombre3 = 'Nikla'\n",
    "nombre3 > nombre2 \n",
    "\n",
    "if nombre3 > nombre2 :\n",
    "    print(\"Excelente\")\n",
    "else:\n",
    "    print(\"Algo esta mal\")\n",
    "\n",
    "#Colectores (Listas, Tuplas, Diccionario, Cojuntos)\n",
    "# elemento3 = [3, 34, 5,3,]\n",
    "# elemento4 = [3, 4, 3, 4, 5]\n",
    "# elemento3 <= elemento4\n",
    "# elemento3 >= elemento4\n",
    "\n",
    "#Tupla\n",
    "elementoT = ('1', \"Jean Charly\", \"Joseph\", 34, False)\n",
    "elementoT1 = ('1', \"Jean Charly\", \"Joseph\", 34, False)\n",
    "\n",
    "elementoT == elementoT1"
   ]
  },
  {
   "cell_type": "code",
   "execution_count": 137,
   "metadata": {},
   "outputs": [
    {
     "name": "stdout",
     "output_type": "stream",
     "text": [
      "5.033133220527016e+203\n"
     ]
    }
   ],
   "source": [
    "# contar  = 0\n",
    "\n",
    "contar //= 2\n",
    "print(contar)"
   ]
  },
  {
   "cell_type": "code",
   "execution_count": 153,
   "metadata": {},
   "outputs": [
    {
     "data": {
      "text/plain": [
       "True"
      ]
     },
     "execution_count": 153,
     "metadata": {},
     "output_type": "execute_result"
    }
   ],
   "source": [
    "NUMERO = 40\n",
    "NUMERO >- 1233234234\n"
   ]
  },
  {
   "cell_type": "markdown",
   "metadata": {},
   "source": [
    "####  Y   =   v  ->  P1 and P2 -> v|v\n",
    "####  O   =   v  ->  P1 or P2 ->  v|f\n",
    "####  no  =   v  ->  not P1 and P2 f|v"
   ]
  },
  {
   "cell_type": "code",
   "execution_count": 163,
   "metadata": {},
   "outputs": [
    {
     "name": "stdout",
     "output_type": "stream",
     "text": [
      "Excelente\n"
     ]
    }
   ],
   "source": [
    "numero1 = 25\n",
    "numero2 = 30\n",
    "if numero1 < 30 and numero2 < 60:\n",
    "    print(\"Excelente\")\n",
    "else:\n",
    "    print(\"Resuelva su problema... jejeje\")"
   ]
  },
  {
   "cell_type": "code",
   "execution_count": 167,
   "metadata": {},
   "outputs": [
    {
     "name": "stdout",
     "output_type": "stream",
     "text": [
      "Excelente\n"
     ]
    }
   ],
   "source": [
    "numero1 = 25\n",
    "numero2 = 30\n",
    "if numero1 < 30 or not numero2 > 60:\n",
    "    print(\"Excelente\")\n",
    "else:\n",
    "    print(\"Resuelva su problema... jejeje\")"
   ]
  }
 ],
 "metadata": {
  "kernelspec": {
   "display_name": "Python 3",
   "language": "python",
   "name": "python3"
  },
  "language_info": {
   "codemirror_mode": {
    "name": "ipython",
    "version": 3
   },
   "file_extension": ".py",
   "mimetype": "text/x-python",
   "name": "python",
   "nbconvert_exporter": "python",
   "pygments_lexer": "ipython3",
   "version": "3.10.13"
  }
 },
 "nbformat": 4,
 "nbformat_minor": 2
}
