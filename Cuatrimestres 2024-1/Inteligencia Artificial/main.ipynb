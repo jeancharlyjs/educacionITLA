{
 "cells": [
  {
   "cell_type": "markdown",
   "metadata": {},
   "source": [
    "# Variables\n",
    "\n",
    "* Estructura Primitivas  \n",
    "    - String\n",
    "    - Integer\n",
    "    - Float\n",
    "    - Boole\n",
    "    - Complex\n",
    "* Estructuradas Colectoras\n",
    "    - Listas\n",
    "    - Tuplas\n",
    "    - Diccionario\n",
    "    - Conjutos\n",
    "\n",
    "* Sistama Operativo\n",
    "    - Variables Entorno\n",
    "\n",
    "    "
   ]
  },
  {
   "cell_type": "code",
   "execution_count": 3,
   "metadata": {},
   "outputs": [],
   "source": [
    "# String\n",
    "nombre = \"Jean Charly\"\n"
   ]
  },
  {
   "cell_type": "code",
   "execution_count": 6,
   "metadata": {},
   "outputs": [
    {
     "data": {
      "text/plain": [
       "'Jean Charly \"Nikola Tesla\"'"
      ]
     },
     "execution_count": 6,
     "metadata": {},
     "output_type": "execute_result"
    }
   ],
   "source": [
    "nombre1 = 'Jean Charly \"Nikola Tesla\"'\n",
    "nombre1"
   ]
  },
  {
   "cell_type": "code",
   "execution_count": 15,
   "metadata": {},
   "outputs": [
    {
     "data": {
      "text/plain": [
       "'Jean Charl'"
      ]
     },
     "execution_count": 15,
     "metadata": {},
     "output_type": "execute_result"
    }
   ],
   "source": [
    "nombre1[0:10]"
   ]
  },
  {
   "cell_type": "code",
   "execution_count": 21,
   "metadata": {},
   "outputs": [
    {
     "ename": "TypeError",
     "evalue": "'str' object does not support item assignment",
     "output_type": "error",
     "traceback": [
      "\u001b[0;31m---------------------------------------------------------------------------\u001b[0m",
      "\u001b[0;31mTypeError\u001b[0m                                 Traceback (most recent call last)",
      "Cell \u001b[0;32mIn[21], line 1\u001b[0m\n\u001b[0;32m----> 1\u001b[0m \u001b[43mnombre1\u001b[49m\u001b[43m[\u001b[49m\u001b[38;5;241;43m0\u001b[39;49m\u001b[43m:\u001b[49m\u001b[38;5;241;43m4\u001b[39;49m\u001b[43m]\u001b[49m \u001b[38;5;241m=\u001b[39m \u001b[38;5;124m\"\u001b[39m\u001b[38;5;124mNikola Tesla\u001b[39m\u001b[38;5;124m\"\u001b[39m\n",
      "\u001b[0;31mTypeError\u001b[0m: 'str' object does not support item assignment"
     ]
    }
   ],
   "source": [
    "nombre1[0:4] = \"Nikola Tesla\""
   ]
  },
  {
   "cell_type": "code",
   "execution_count": 25,
   "metadata": {},
   "outputs": [],
   "source": [
    "nombre2 = nombre1[0:4].split()[0] = \"Nikola Tesla\""
   ]
  },
  {
   "cell_type": "code",
   "execution_count": 29,
   "metadata": {},
   "outputs": [
    {
     "data": {
      "text/plain": [
       "['Shannon', 'Charly', '\"Nikola', 'Tesla\"']"
      ]
     },
     "execution_count": 29,
     "metadata": {},
     "output_type": "execute_result"
    }
   ],
   "source": [
    "nombre3 = nombre1.split()\n",
    "nombre3[0] = 'Shannon'\n",
    "nombre3"
   ]
  },
  {
   "cell_type": "code",
   "execution_count": 30,
   "metadata": {},
   "outputs": [
    {
     "data": {
      "text/plain": [
       "'Shannon Charly \"Nikola Tesla\"'"
      ]
     },
     "execution_count": 30,
     "metadata": {},
     "output_type": "execute_result"
    }
   ],
   "source": [
    "\" \".join(nombre3)"
   ]
  },
  {
   "cell_type": "code",
   "execution_count": 32,
   "metadata": {},
   "outputs": [
    {
     "data": {
      "text/plain": [
       "'Hola como estas'"
      ]
     },
     "execution_count": 32,
     "metadata": {},
     "output_type": "execute_result"
    }
   ],
   "source": [
    "\"Hola \" + \"como estas\""
   ]
  },
  {
   "cell_type": "code",
   "execution_count": 35,
   "metadata": {},
   "outputs": [
    {
     "data": {
      "text/plain": [
       "'Hola Hola '"
      ]
     },
     "execution_count": 35,
     "metadata": {},
     "output_type": "execute_result"
    }
   ],
   "source": [
    "\"Hola \" * 2"
   ]
  },
  {
   "cell_type": "code",
   "execution_count": 37,
   "metadata": {},
   "outputs": [
    {
     "data": {
      "text/plain": [
       "'Hola 2'"
      ]
     },
     "execution_count": 37,
     "metadata": {},
     "output_type": "execute_result"
    }
   ],
   "source": [
    "\"Hola \" + str(2)"
   ]
  },
  {
   "cell_type": "code",
   "execution_count": 39,
   "metadata": {},
   "outputs": [
    {
     "data": {
      "text/plain": [
       "2"
      ]
     },
     "execution_count": 39,
     "metadata": {},
     "output_type": "execute_result"
    }
   ],
   "source": [
    "int(\"2\")"
   ]
  },
  {
   "cell_type": "markdown",
   "metadata": {},
   "source": [
    "# Operadores Aritmeticos\n",
    " +, - , *, **, //, /, %\n",
    "\n",
    "# Operadores Logicos\n",
    "AND, OR, NOT, None\n",
    "== , !=, >=, <= <, >\n",
    "\n",
    "# Operadores de Incremento\n",
    "\n",
    "+= , -=, *=, **=, //=, /=\n",
    "\n",
    "# Operadores Binarios\n",
    "<< , >>,\n"
   ]
  },
  {
   "cell_type": "code",
   "execution_count": 41,
   "metadata": {},
   "outputs": [
    {
     "data": {
      "text/plain": [
       "7j"
      ]
     },
     "execution_count": 41,
     "metadata": {},
     "output_type": "execute_result"
    }
   ],
   "source": [
    "2j+ 5j\n"
   ]
  },
  {
   "cell_type": "code",
   "execution_count": 42,
   "metadata": {},
   "outputs": [
    {
     "data": {
      "text/plain": [
       "(2+5j)"
      ]
     },
     "execution_count": 42,
     "metadata": {},
     "output_type": "execute_result"
    }
   ],
   "source": [
    "2 + 5j"
   ]
  },
  {
   "cell_type": "markdown",
   "metadata": {},
   "source": [
    "# Proposiciones\n",
    "    * Simple\n",
    "    * Compuesta"
   ]
  },
  {
   "cell_type": "code",
   "execution_count": 44,
   "metadata": {},
   "outputs": [
    {
     "data": {
      "text/plain": [
       "False"
      ]
     },
     "execution_count": 44,
     "metadata": {},
     "output_type": "execute_result"
    }
   ],
   "source": [
    "# Simple\n",
    "\n",
    "2 * 5 == 11\n"
   ]
  },
  {
   "cell_type": "code",
   "execution_count": 46,
   "metadata": {},
   "outputs": [
    {
     "data": {
      "text/plain": [
       "True"
      ]
     },
     "execution_count": 46,
     "metadata": {},
     "output_type": "execute_result"
    }
   ],
   "source": [
    "# Compuesta\n",
    "\n",
    "2 * 5 == 11 or 5 <= 10\n",
    "#FALSE.           TRUE"
   ]
  },
  {
   "cell_type": "markdown",
   "metadata": {},
   "source": [
    "# Control de Flujo\n",
    "    * Simple\n",
    "    * Anidado\n",
    "    * Cascada"
   ]
  },
  {
   "cell_type": "code",
   "execution_count": 51,
   "metadata": {},
   "outputs": [
    {
     "name": "stdout",
     "output_type": "stream",
     "text": [
      "Excelente, traste de hacer algo genial.... \n"
     ]
    }
   ],
   "source": [
    "#Simple\n",
    "\n",
    "if (2 * 5) + 1== 11:\n",
    "    print(\"Excelente, traste de hacer algo genial.... \") #True\n",
    "else:\n",
    "    print(\"Hiciste el calculo bien.\") #False"
   ]
  },
  {
   "cell_type": "code",
   "execution_count": 55,
   "metadata": {},
   "outputs": [
    {
     "name": "stdout",
     "output_type": "stream",
     "text": [
      "Excelente, traste de hacer algo genial.... \n",
      "Excelente\n"
     ]
    }
   ],
   "source": [
    "#Compuesto\n",
    "\n",
    "if (2 * 5) + 1== 11:\n",
    "    print(\"Excelente, traste de hacer algo genial.... \") #True\n",
    "    if 2 < 5:\n",
    "        print(\"Excelente\")\n",
    "    else:\n",
    "        print(\"Algo tienes que ver mejor.\")\n",
    "else:\n",
    "    print(\"Hiciste el calculo bien.\") #False"
   ]
  },
  {
   "cell_type": "code",
   "execution_count": 60,
   "metadata": {},
   "outputs": [
    {
     "name": "stdout",
     "output_type": "stream",
     "text": [
      "Excelente, lo lograste\n"
     ]
    }
   ],
   "source": [
    "nombre4 = \"Jean Charly\"\n",
    "\n",
    "if nombre4 == \"Nikla\":\n",
    "    print(\"Algo esta mal\")\n",
    "elif nombre4 == \"Jean Charly\":\n",
    "    print(\"Excelente, lo lograste\")\n",
    "elif nombre4 == \"Mari\":\n",
    "    print(\"Pero tienes problema...\")\n",
    "else:\n",
    "    print(\"No estas digitando el nombre bien.\")"
   ]
  },
  {
   "cell_type": "markdown",
   "metadata": {},
   "source": [
    "# Estrucutra\n",
    "    * Lista\n",
    "        - Listas -> \"Cuando existe diferentes elementos\" [\"Jean Charly\", 24, True, 5j]\n",
    "            * Funciones\n",
    "                - Agregar elemento\n",
    "                - eliminar elemento\n",
    "                - Expandir\n",
    "        - Vectores -> \"Cuando los valores Reales\"\n",
    "            - Vectores Columnas\n",
    "            - Vecores Filas\n",
    "        - Matrices -> \"Cuando existe Filas y Columnas N_d\""
   ]
  },
  {
   "cell_type": "markdown",
   "metadata": {},
   "source": []
  },
  {
   "cell_type": "code",
   "execution_count": 62,
   "metadata": {},
   "outputs": [],
   "source": [
    "elemento1 = [1, 2, 34, 30]\n",
    "elemento1.append(50)"
   ]
  },
  {
   "cell_type": "code",
   "execution_count": 65,
   "metadata": {},
   "outputs": [
    {
     "data": {
      "text/plain": [
       "1"
      ]
     },
     "execution_count": 65,
     "metadata": {},
     "output_type": "execute_result"
    }
   ],
   "source": [
    "elemento1.pop(0)"
   ]
  },
  {
   "cell_type": "code",
   "execution_count": 69,
   "metadata": {},
   "outputs": [
    {
     "data": {
      "text/plain": [
       "30"
      ]
     },
     "execution_count": 69,
     "metadata": {},
     "output_type": "execute_result"
    }
   ],
   "source": [
    "elemento1[0] = 100\n",
    "elemento1.pop()"
   ]
  },
  {
   "cell_type": "code",
   "execution_count": 75,
   "metadata": {},
   "outputs": [
    {
     "data": {
      "text/plain": [
       "[100, 34, 100, 34, 23]"
      ]
     },
     "execution_count": 75,
     "metadata": {},
     "output_type": "execute_result"
    }
   ],
   "source": [
    "elemento1 + elemento1 + [23]"
   ]
  },
  {
   "cell_type": "code",
   "execution_count": 77,
   "metadata": {},
   "outputs": [
    {
     "data": {
      "text/plain": [
       "[100, 34]"
      ]
     },
     "execution_count": 77,
     "metadata": {},
     "output_type": "execute_result"
    }
   ],
   "source": [
    "elemento2 = elemento1\n",
    "elemento2"
   ]
  },
  {
   "cell_type": "code",
   "execution_count": 79,
   "metadata": {},
   "outputs": [
    {
     "data": {
      "text/plain": [
       "[100, 34]"
      ]
     },
     "execution_count": 79,
     "metadata": {},
     "output_type": "execute_result"
    }
   ],
   "source": [
    "elemento3 = elemento1.copy()\n",
    "elemento3"
   ]
  },
  {
   "cell_type": "code",
   "execution_count": 83,
   "metadata": {},
   "outputs": [
    {
     "name": "stdout",
     "output_type": "stream",
     "text": [
      "Elemento1: 139747555757376 \n",
      " Elemento2:  139747555757376 \n",
      " Elemento3:  139747555813248\n"
     ]
    }
   ],
   "source": [
    "print(\"Elemento1:\", id(elemento1),\"\\n\", \"Elemento2: \", id(elemento2),\"\\n\", \"Elemento3: \", id(elemento3))\n"
   ]
  },
  {
   "cell_type": "code",
   "execution_count": 81,
   "metadata": {},
   "outputs": [
    {
     "data": {
      "text/plain": [
       "[100, 34, 234234]"
      ]
     },
     "execution_count": 81,
     "metadata": {},
     "output_type": "execute_result"
    }
   ],
   "source": [
    "elemento2.append(234234)\n",
    "elemento1"
   ]
  },
  {
   "cell_type": "code",
   "execution_count": 85,
   "metadata": {},
   "outputs": [
    {
     "data": {
      "text/plain": [
       "[100, 34, 234234]"
      ]
     },
     "execution_count": 85,
     "metadata": {},
     "output_type": "execute_result"
    }
   ],
   "source": [
    "elemento2"
   ]
  },
  {
   "cell_type": "code",
   "execution_count": 88,
   "metadata": {},
   "outputs": [
    {
     "data": {
      "text/plain": [
       "[100, 34]"
      ]
     },
     "execution_count": 88,
     "metadata": {},
     "output_type": "execute_result"
    }
   ],
   "source": [
    "elemento3"
   ]
  },
  {
   "cell_type": "code",
   "execution_count": null,
   "metadata": {},
   "outputs": [],
   "source": [
    "#Vector Fila\n",
    "[3, 3, 4, 5,6]\n",
    "\n",
    "#Vector Columna\n",
    "[[3], [4], [4]]"
   ]
  },
  {
   "cell_type": "code",
   "execution_count": 89,
   "metadata": {},
   "outputs": [],
   "source": [
    "#Matrices\n",
    "\n",
    "matriz = [\n",
    "#.  0.  1  2  3\n",
    "    [1, 2, 3, 4], #0[0][1]\n",
    "    [3, 4, 5, 6], #1\n",
    "    [3, 4, 5, 5]  #2\n",
    "\n",
    "]"
   ]
  },
  {
   "cell_type": "code",
   "execution_count": 90,
   "metadata": {},
   "outputs": [
    {
     "data": {
      "text/plain": [
       "[[1, 2, 3, 4], [3, 4, 5, 6], [3, 4, 5, 5]]"
      ]
     },
     "execution_count": 90,
     "metadata": {},
     "output_type": "execute_result"
    }
   ],
   "source": [
    "matriz"
   ]
  },
  {
   "cell_type": "code",
   "execution_count": 126,
   "metadata": {},
   "outputs": [
    {
     "data": {
      "text/plain": [
       "[[1, 2, 3, 1000], [3, 4, 5, 6], [3, 4, 5, 5]]"
      ]
     },
     "execution_count": 126,
     "metadata": {},
     "output_type": "execute_result"
    }
   ],
   "source": [
    "matriz[0][-1] = 1000\n",
    "matriz"
   ]
  },
  {
   "cell_type": "markdown",
   "metadata": {},
   "source": [
    "# Tuplas\n",
    "```\n",
    "    Son todo aquellos que despues de haber sido creado, no puede ser modificado.\n",
    "```"
   ]
  },
  {
   "cell_type": "code",
   "execution_count": 95,
   "metadata": {},
   "outputs": [
    {
     "data": {
      "text/plain": [
       "('Jean Charly', 'Joseph', 24, 'False')"
      ]
     },
     "execution_count": 95,
     "metadata": {},
     "output_type": "execute_result"
    }
   ],
   "source": [
    "tupla1 = (\"Jean Charly\", \"Joseph\", 24, \"False\")\n",
    "tupla1"
   ]
  },
  {
   "cell_type": "code",
   "execution_count": 97,
   "metadata": {},
   "outputs": [
    {
     "ename": "TypeError",
     "evalue": "'tuple' object does not support item assignment",
     "output_type": "error",
     "traceback": [
      "\u001b[0;31m---------------------------------------------------------------------------\u001b[0m",
      "\u001b[0;31mTypeError\u001b[0m                                 Traceback (most recent call last)",
      "Cell \u001b[0;32mIn[97], line 1\u001b[0m\n\u001b[0;32m----> 1\u001b[0m \u001b[43mtupla1\u001b[49m\u001b[43m[\u001b[49m\u001b[38;5;241;43m0\u001b[39;49m\u001b[43m]\u001b[49m \u001b[38;5;241m=\u001b[39m \u001b[38;5;124m\"\u001b[39m\u001b[38;5;124mNikola Tesla\u001b[39m\u001b[38;5;124m\"\u001b[39m\n",
      "\u001b[0;31mTypeError\u001b[0m: 'tuple' object does not support item assignment"
     ]
    }
   ],
   "source": [
    "tupla1[0] = \"Nikola Tesla\""
   ]
  },
  {
   "cell_type": "markdown",
   "metadata": {},
   "source": [
    "# Diccionario\n",
    "\n",
    "```\n",
    "{'key': valor}\n",
    "```"
   ]
  },
  {
   "cell_type": "code",
   "execution_count": 98,
   "metadata": {},
   "outputs": [
    {
     "data": {
      "text/plain": [
       "{'nombre': 'Jean Charly', 'apellido': 'Joseph'}"
      ]
     },
     "execution_count": 98,
     "metadata": {},
     "output_type": "execute_result"
    }
   ],
   "source": [
    "perfil = {'nombre': \"Jean Charly\", \"apellido\": \"Joseph\"}\n",
    "perfil"
   ]
  },
  {
   "cell_type": "code",
   "execution_count": 103,
   "metadata": {},
   "outputs": [
    {
     "data": {
      "text/plain": [
       "'Joseph'"
      ]
     },
     "execution_count": 103,
     "metadata": {},
     "output_type": "execute_result"
    }
   ],
   "source": [
    "perfil['apellido']"
   ]
  },
  {
   "cell_type": "code",
   "execution_count": 122,
   "metadata": {},
   "outputs": [
    {
     "data": {
      "text/plain": [
       "{'nombres': ['Nikola', 'Marie', 'Jean'],\n",
       " 'apellidos': ['Tesla', 'Curie', 'Tesla'],\n",
       " 'edad': [None, 18, 33]}"
      ]
     },
     "execution_count": 122,
     "metadata": {},
     "output_type": "execute_result"
    }
   ],
   "source": [
    "perfil1 = {'nombres': [\"Nikola\", \"Marie\", \"Jean\"], \"apellidos\": ['Tesla', \"Curie\", 'Tesla'], 'edad': [None, 18, 33]}\n",
    "perfil1"
   ]
  },
  {
   "cell_type": "code",
   "execution_count": 113,
   "metadata": {},
   "outputs": [
    {
     "data": {
      "text/html": [
       "<div><style>\n",
       ".dataframe > thead > tr,\n",
       ".dataframe > tbody > tr {\n",
       "  text-align: right;\n",
       "  white-space: pre-wrap;\n",
       "}\n",
       "</style>\n",
       "<small>shape: (3, 3)</small><table border=\"1\" class=\"dataframe\"><thead><tr><th>nombres</th><th>apellidos</th><th>edad</th></tr><tr><td>str</td><td>str</td><td>i64</td></tr></thead><tbody><tr><td>&quot;Nikola&quot;</td><td>&quot;Tesla&quot;</td><td>null</td></tr><tr><td>&quot;Marie&quot;</td><td>&quot;Curie&quot;</td><td>18</td></tr><tr><td>&quot;Jean&quot;</td><td>&quot;Joseph&quot;</td><td>33</td></tr></tbody></table></div>"
      ],
      "text/plain": [
       "shape: (3, 3)\n",
       "┌─────────┬───────────┬──────┐\n",
       "│ nombres ┆ apellidos ┆ edad │\n",
       "│ ---     ┆ ---       ┆ ---  │\n",
       "│ str     ┆ str       ┆ i64  │\n",
       "╞═════════╪═══════════╪══════╡\n",
       "│ Nikola  ┆ Tesla     ┆ null │\n",
       "│ Marie   ┆ Curie     ┆ 18   │\n",
       "│ Jean    ┆ Joseph    ┆ 33   │\n",
       "└─────────┴───────────┴──────┘"
      ]
     },
     "execution_count": 113,
     "metadata": {},
     "output_type": "execute_result"
    }
   ],
   "source": [
    "import polars as pl\n",
    "pl.DataFrame(perfil1)"
   ]
  },
  {
   "cell_type": "code",
   "execution_count": null,
   "metadata": {},
   "outputs": [],
   "source": []
  },
  {
   "cell_type": "markdown",
   "metadata": {},
   "source": [
    "# Conjuntos"
   ]
  },
  {
   "cell_type": "code",
   "execution_count": null,
   "metadata": {},
   "outputs": [],
   "source": []
  },
  {
   "cell_type": "code",
   "execution_count": 116,
   "metadata": {},
   "outputs": [],
   "source": [
    "A = {2, 2, 2, 4, 4, 5, 5, 6, 7, 8}\n",
    "B = {2, 3, 5, 7}\n",
    "C = {1, 11, 44}"
   ]
  },
  {
   "cell_type": "code",
   "execution_count": 121,
   "metadata": {},
   "outputs": [
    {
     "data": {
      "text/plain": [
       "{2, 5, 7}"
      ]
     },
     "execution_count": 121,
     "metadata": {},
     "output_type": "execute_result"
    }
   ],
   "source": [
    "A.intersection(B)"
   ]
  },
  {
   "cell_type": "code",
   "execution_count": 125,
   "metadata": {},
   "outputs": [
    {
     "data": {
      "text/plain": [
       "{'Curie', 'Tesla'}"
      ]
     },
     "execution_count": 125,
     "metadata": {},
     "output_type": "execute_result"
    }
   ],
   "source": [
    "set(perfil1[\"apellidos\"])"
   ]
  },
  {
   "cell_type": "markdown",
   "metadata": {},
   "source": [
    "# Funciones\n",
    "\n",
    "## $f(x) = y$\n",
    "\n",
    "Donde $x$ es la variable independiente, mientras que $y$ es la variable dependiente\n",
    "\n",
    "```\n",
    "FUNCION <nombre>(p1, p2, p_n)\n",
    "    PROCESO\n",
    "    RETORNA VALOR\n",
    "```\n"
   ]
  },
  {
   "cell_type": "code",
   "execution_count": 9,
   "metadata": {},
   "outputs": [
    {
     "data": {
      "text/plain": [
       "7"
      ]
     },
     "execution_count": 9,
     "metadata": {},
     "output_type": "execute_result"
    }
   ],
   "source": [
    "def suma(n1, n2):\n",
    "    return n1 + n2\n",
    "\n",
    "suma(3, 4)"
   ]
  },
  {
   "cell_type": "code",
   "execution_count": 17,
   "metadata": {},
   "outputs": [
    {
     "data": {
      "text/plain": [
       "2"
      ]
     },
     "execution_count": 17,
     "metadata": {},
     "output_type": "execute_result"
    }
   ],
   "source": [
    "def nombres(n:str) -> str:\n",
    "    # nombre1 = nombre1.title()\n",
    "    # print(nombre1)\n",
    "    return n\n",
    "\n",
    "nombres(2)"
   ]
  },
  {
   "cell_type": "code",
   "execution_count": 39,
   "metadata": {},
   "outputs": [
    {
     "data": {
      "text/plain": [
       "'<function listaNombre at 0x7f2f582952d0>'"
      ]
     },
     "execution_count": 39,
     "metadata": {},
     "output_type": "execute_result"
    }
   ],
   "source": [
    "def listaNombre(elemento: list, nombre):\n",
    "    \n",
    "    return elemento.append(nombre)\n",
    "listaNombre([], \"Jean Charly\")\n",
    "listaNombre.__str__()"
   ]
  },
  {
   "cell_type": "code",
   "execution_count": 35,
   "metadata": {},
   "outputs": [
    {
     "ename": "TypeError",
     "evalue": "listaNombre() missing 1 required positional argument: 'nombre'",
     "output_type": "error",
     "traceback": [
      "\u001b[0;31m---------------------------------------------------------------------------\u001b[0m",
      "\u001b[0;31mTypeError\u001b[0m                                 Traceback (most recent call last)",
      "Cell \u001b[0;32mIn[35], line 1\u001b[0m\n\u001b[0;32m----> 1\u001b[0m prueba \u001b[38;5;241m=\u001b[39m \u001b[43mlistaNombre\u001b[49m\u001b[43m(\u001b[49m\u001b[38;5;124;43m\"\u001b[39;49m\u001b[38;5;124;43mNikola Tesla\u001b[39;49m\u001b[38;5;124;43m\"\u001b[39;49m\u001b[43m)\u001b[49m\n",
      "\u001b[0;31mTypeError\u001b[0m: listaNombre() missing 1 required positional argument: 'nombre'"
     ]
    }
   ],
   "source": [
    "prueba = listaNombre([], \"Nikola Tesla\")"
   ]
  },
  {
   "cell_type": "code",
   "execution_count": 34,
   "metadata": {},
   "outputs": [
    {
     "name": "stdout",
     "output_type": "stream",
     "text": [
      "None\n"
     ]
    }
   ],
   "source": [
    "print(prueba)"
   ]
  },
  {
   "cell_type": "code",
   "execution_count": 49,
   "metadata": {},
   "outputs": [
    {
     "data": {
      "text/plain": [
       "False"
      ]
     },
     "execution_count": 49,
     "metadata": {},
     "output_type": "execute_result"
    }
   ],
   "source": [
    "anonima1 = lambda x: x* 2\n",
    "id(anonima1(5)) == id(anonima2(50))"
   ]
  },
  {
   "cell_type": "code",
   "execution_count": 50,
   "metadata": {},
   "outputs": [
    {
     "data": {
      "text/plain": [
       "139841396788560"
      ]
     },
     "execution_count": 50,
     "metadata": {},
     "output_type": "execute_result"
    }
   ],
   "source": [
    "def anonima2(x):\n",
    "    return x* 2\n",
    "\n",
    "id(anonima2(50))"
   ]
  },
  {
   "cell_type": "code",
   "execution_count": 59,
   "metadata": {},
   "outputs": [
    {
     "name": "stdout",
     "output_type": "stream",
     "text": [
      "Despegando en... 5\n",
      "Despegando en... 4\n",
      "Despegando en... 3\n",
      "Despegando en... 2\n",
      "Despegando en... 1\n",
      "Excelente\n"
     ]
    }
   ],
   "source": [
    "# Funciones Recursivas\n",
    "\n",
    "def recursivas(n):\n",
    "    if n == 0:\n",
    "        print(\"Excelente\")\n",
    "        \n",
    "    else:\n",
    "        print(f\"Despegando en... {n}\")\n",
    "        return recursivas(n -1)\n",
    "    \n",
    "recursivas(5)"
   ]
  },
  {
   "cell_type": "markdown",
   "metadata": {},
   "source": [
    "### Variable Entorno"
   ]
  },
  {
   "cell_type": "code",
   "execution_count": 1,
   "metadata": {},
   "outputs": [],
   "source": [
    "import os, sys"
   ]
  },
  {
   "cell_type": "code",
   "execution_count": 1,
   "metadata": {},
   "outputs": [],
   "source": [
    "# os.environ['JEANCHARLY']"
   ]
  },
  {
   "cell_type": "markdown",
   "metadata": {},
   "source": [
    "# Segunda Parte\n"
   ]
  },
  {
   "cell_type": "code",
   "execution_count": 27,
   "metadata": {},
   "outputs": [],
   "source": [
    "class Persona:\n",
    "    def __init__(self, ids, nombre, apellido, edad, sexo, estatura, estado):\n",
    "        self.ids = ids\n",
    "        self.nombre = nombre\n",
    "        self.apellido = apellido\n",
    "        self.edad = edad\n",
    "        self.sexo = sexo\n",
    "        self.estatura = estatura\n",
    "        self.estado = None\n",
    "\n",
    "    def __repr__(self):\n",
    "        return \"Bienvenido %s %s\"%(self.nombre, self.apellido)\n",
    "    \n",
    "    def modificador(self, n):\n",
    "        if n is None:\n",
    "            self.estado = None\n",
    "        else:\n",
    "            self.estado = n\n",
    "            return self.estado\n"
   ]
  },
  {
   "cell_type": "code",
   "execution_count": 16,
   "metadata": {},
   "outputs": [
    {
     "data": {
      "text/plain": [
       "'Trabjando'"
      ]
     },
     "execution_count": 16,
     "metadata": {},
     "output_type": "execute_result"
    }
   ],
   "source": [
    "p1 = Persona(\"234234\", \"Jean Charly\", \"Joseph\",  33, False, 1.2, None)\n",
    "p1.__repr__()\n",
    "p1.modificador(\"Trabjando\")\n",
    "p1.estado"
   ]
  },
  {
   "cell_type": "code",
   "execution_count": 20,
   "metadata": {},
   "outputs": [
    {
     "data": {
      "text/plain": [
       "'Trabjando'"
      ]
     },
     "execution_count": 20,
     "metadata": {},
     "output_type": "execute_result"
    }
   ],
   "source": [
    "p2 = Persona(\"2123123\", \"Nikola\", \"Tesla\", 22, False, 2.1, \"Trabjando\")\n",
    "p2.__repr__()\n",
    "p2.modificador(\"Trabjando\")\n",
    "p2.estado"
   ]
  },
  {
   "cell_type": "markdown",
   "metadata": {},
   "source": [
    "# Manejador De Archivo\n",
    "```\n",
    "<with open>|nombreArchivo.[txt, csv, xlsx, doc, ...] | Permisos[r, w, a] | codificador['UTF-8]\n",
    "```"
   ]
  },
  {
   "cell_type": "code",
   "execution_count": 23,
   "metadata": {},
   "outputs": [],
   "source": [
    "with open(\"/workspaces/educacionITLA/Cuatrimestres 2024-1/Inteligencia Artificial/Registro.csv\", 'w', encoding='UTF-8') as f:\n",
    "    f.writelines(\"id|nombre|apellido|edad|sexo|estatura|estado\\n\")\n",
    "    f.close()"
   ]
  },
  {
   "cell_type": "code",
   "execution_count": 25,
   "metadata": {},
   "outputs": [],
   "source": [
    "with open(\"/workspaces/educacionITLA/Cuatrimestres 2024-1/Inteligencia Artificial/Registro.csv\", 'a', encoding='UTF-8') as f:\n",
    "    f.writelines(\"%s|%s|%s|%s|%s|%s|%s\\n\"%(p2.ids, p2.nombre, p2.apellido, p2.edad, p2.sexo, p2.estatura, p2.estado))\n",
    "    f.close()"
   ]
  },
  {
   "cell_type": "code",
   "execution_count": 29,
   "metadata": {},
   "outputs": [],
   "source": [
    "ids = input(\"Ingrese iDS: \")\n",
    "nombre = input(\"Ingrese un nombre: \")\n",
    "apellido = input(\"Ingrese un apellido: \")\n",
    "edad = int(input(\"Ingrese su edad: \"))\n",
    "sexo = bool(input(\"Ingrese sexo [True = F, False=M]: \"))\n",
    "estatura = float(input(\"Ingrese su estatura: \"))\n",
    "estatus = input(\"Ques haces: \")\n",
    "p = Persona(ids, nombre, apellido, edad, sexo, estatura, None)\n",
    "p.modificador(estatus)\n",
    "p.__repr__()\n",
    "with open(\"/workspaces/educacionITLA/Cuatrimestres 2024-1/Inteligencia Artificial/Registro.csv\", 'a', encoding='UTF-8') as f:\n",
    "    f.writelines(\"%s|%s|%s|%s|%s|%s|%s\\n\"%(p.ids, p.nombre, p.apellido, p.edad, p.sexo, p.estatura, p.estado))\n",
    "    f.close()"
   ]
  },
  {
   "cell_type": "markdown",
   "metadata": {},
   "source": [
    "## Numpy\n",
    "\n",
    "pip3 install numpy\n",
    "\n",
    "import numpy as np\n",
    "\n",
    "## Matplotlib\n",
    "pip3 install matplotlib\n",
    "\n",
    "import matplotlib.pyplot as plt\n",
    "\n"
   ]
  },
  {
   "cell_type": "code",
   "execution_count": 30,
   "metadata": {},
   "outputs": [],
   "source": [
    "import numpy as np\n",
    "import matplotlib.pyplot as plt"
   ]
  },
  {
   "cell_type": "code",
   "execution_count": 67,
   "metadata": {},
   "outputs": [
    {
     "data": {
      "image/png": "[encoded data removed]",
      "text/plain": [
       "<Figure size 800x500 with 1 Axes>"
      ]
     },
     "metadata": {},
     "output_type": "display_data"
    }
   ],
   "source": [
    "x = np.linspace(-10, 10, 1000)\n",
    "y = np.sin(x)** 2\n",
    "y2 = np.cos(x) ** 2\n",
    "\n",
    "plt.figure(figsize=(8, 5))\n",
    "plt.plot(x,y, \"-\", color='blue', label=\"$\\sin(x)^2$\")\n",
    "plt.plot(x,y2, \"-\", color='green', label=\"$\\cos(x)^2$\")\n",
    "plt.title(\"Representacion grafica \\ndel seno $\\sin(x)^2$\", fontdict={\"fontsize\": 23})\n",
    "plt.xlabel(\"Eje X\", fontdict={\"fontsize\": 12})\n",
    "plt.ylabel(\"Eje Y\", fontdict={\"fontsize\": 12})\n",
    "plt.grid()\n",
    "plt.legend()\n",
    "plt.savefig(\"Fig 1.png\")"
   ]
  },
  {
   "cell_type": "code",
   "execution_count": 68,
   "metadata": {},
   "outputs": [
    {
     "data": {
      "image/png": "[encoded data removed]",
      "text/plain": [
       "<Figure size 640x480 with 1 Axes>"
      ]
     },
     "metadata": {},
     "output_type": "display_data"
    }
   ],
   "source": [
    "import random\n",
    "\n",
    "x1 = [random.randint(1, 100) for i in range(100)]\n",
    "y1 = [random.randint(1, 100) for i in range(100)]\n",
    "\n",
    "plt.scatter(x1, y1)\n",
    "plt.show()"
   ]
  },
  {
   "cell_type": "code",
   "execution_count": 72,
   "metadata": {},
   "outputs": [
    {
     "data": {
      "text/plain": [
       "array([1, 2, 3, 4, 5])"
      ]
     },
     "execution_count": 72,
     "metadata": {},
     "output_type": "execute_result"
    }
   ],
   "source": [
    "#Vectorial\n",
    "np.array([1,2, 3, 4, 5])"
   ]
  },
  {
   "cell_type": "code",
   "execution_count": 76,
   "metadata": {},
   "outputs": [
    {
     "data": {
      "text/plain": [
       "array([[3., 3., 4., 5., 6.],\n",
       "       [3., 4., 5., 5., 4.]], dtype=float16)"
      ]
     },
     "execution_count": 76,
     "metadata": {},
     "output_type": "execute_result"
    }
   ],
   "source": [
    "#Soporte de tamaño y tipo de dato\n",
    "np.array([\n",
    "    [3, 3, 4, 5, 6],\n",
    "    [3, 4, 5, 5, 4]\n",
    "], np.float16)"
   ]
  },
  {
   "cell_type": "code",
   "execution_count": 86,
   "metadata": {},
   "outputs": [
    {
     "data": {
      "text/plain": [
       "(2, 5)"
      ]
     },
     "execution_count": 86,
     "metadata": {},
     "output_type": "execute_result"
    }
   ],
   "source": [
    "#Shape - Fila y Columna\n",
    "\n",
    "np.array([\n",
    "    [3, 3, 4, 5, 6],\n",
    "    [3, 4, 5, 5, 4]\n",
    "], np.float16).shape"
   ]
  },
  {
   "cell_type": "markdown",
   "metadata": {},
   "source": [
    "$C_{ij} = A_i + B_j$"
   ]
  },
  {
   "cell_type": "code",
   "execution_count": 87,
   "metadata": {},
   "outputs": [
    {
     "data": {
      "text/plain": [
       "array([ 5, 57, 10,  7])"
      ]
     },
     "execution_count": 87,
     "metadata": {},
     "output_type": "execute_result"
    }
   ],
   "source": [
    "arreglo1 = np.array([3, 3, 4, 5])\n",
    "arreglo2 = np.array([2, 54, 6, 2])\n",
    "\n",
    "arreglo1 + arreglo2"
   ]
  },
  {
   "cell_type": "code",
   "execution_count": 89,
   "metadata": {},
   "outputs": [
    {
     "data": {
      "text/plain": [
       "[5, 57, 10, 7]"
      ]
     },
     "execution_count": 89,
     "metadata": {},
     "output_type": "execute_result"
    }
   ],
   "source": [
    "A = [3, 3, 4, 5]\n",
    "B = [2, 54, 6, 2]\n",
    "C = []\n",
    "\n",
    "for i in range(len(A)):\n",
    "    C.append(A[i] + B[i])\n",
    "C"
   ]
  },
  {
   "cell_type": "markdown",
   "metadata": {},
   "source": [
    "$\\lambda$\n",
    "\n",
    "Representa la constante que afecta a todos los elementos de una matriz o vector\n",
    "\n",
    "$$\\lambda + \\begin{vmatrix} 1 & 2 & 5 & 5\\end{vmatrix}$$\n",
    "$$ C = \\lambda + \\begin{vmatrix} 1+ \\lambda & 2+ \\lambda & 5+ \\lambda & 5+ \\lambda\\end{vmatrix}$$\n"
   ]
  },
  {
   "cell_type": "code",
   "execution_count": 101,
   "metadata": {},
   "outputs": [
    {
     "data": {
      "text/plain": [
       "array([[ 5, 57,  9,  5],\n",
       "       [ 6,  7,  8,  9]])"
      ]
     },
     "execution_count": 101,
     "metadata": {},
     "output_type": "execute_result"
    }
   ],
   "source": [
    "np.array([[2, 54, 6, 2], [3, 4, 5, 6]]) + 3"
   ]
  },
  {
   "cell_type": "code",
   "execution_count": 103,
   "metadata": {},
   "outputs": [
    {
     "data": {
      "text/plain": [
       "array([ 5, 57,  9,  5])"
      ]
     },
     "execution_count": 103,
     "metadata": {},
     "output_type": "execute_result"
    }
   ],
   "source": [
    "np.array([2, 54, 6, 2]) + np.array([3])"
   ]
  },
  {
   "cell_type": "code",
   "execution_count": 107,
   "metadata": {},
   "outputs": [
    {
     "ename": "TypeError",
     "evalue": "hexbin() missing 1 required positional argument: 'y'",
     "output_type": "error",
     "traceback": [
      "\u001b[0;31m---------------------------------------------------------------------------\u001b[0m",
      "\u001b[0;31mTypeError\u001b[0m                                 Traceback (most recent call last)",
      "Cell \u001b[0;32mIn[107], line 1\u001b[0m\n\u001b[0;32m----> 1\u001b[0m \u001b[43mplt\u001b[49m\u001b[38;5;241;43m.\u001b[39;49m\u001b[43mhexbin\u001b[49m\u001b[43m(\u001b[49m\u001b[43mnp\u001b[49m\u001b[38;5;241;43m.\u001b[39;49m\u001b[43marray\u001b[49m\u001b[43m(\u001b[49m\u001b[43m[\u001b[49m\u001b[38;5;241;43m2\u001b[39;49m\u001b[43m,\u001b[49m\u001b[43m \u001b[49m\u001b[38;5;241;43m54\u001b[39;49m\u001b[43m,\u001b[49m\u001b[43m \u001b[49m\u001b[38;5;241;43m6\u001b[39;49m\u001b[43m,\u001b[49m\u001b[43m \u001b[49m\u001b[38;5;241;43m2\u001b[39;49m\u001b[43m]\u001b[49m\u001b[43m)\u001b[49m\u001b[43m \u001b[49m\u001b[38;5;241;43m+\u001b[39;49m\u001b[43m \u001b[49m\u001b[43mnp\u001b[49m\u001b[38;5;241;43m.\u001b[39;49m\u001b[43marray\u001b[49m\u001b[43m(\u001b[49m\u001b[43m[\u001b[49m\u001b[43m[\u001b[49m\u001b[38;5;241;43m3\u001b[39;49m\u001b[43m]\u001b[49m\u001b[43m,\u001b[49m\u001b[43m \u001b[49m\u001b[43m[\u001b[49m\u001b[38;5;241;43m4\u001b[39;49m\u001b[43m]\u001b[49m\u001b[43m]\u001b[49m\u001b[43m)\u001b[49m\u001b[43m)\u001b[49m\n",
      "\u001b[0;31mTypeError\u001b[0m: hexbin() missing 1 required positional argument: 'y'"
     ]
    }
   ],
   "source": [
    "np.array([2, 54, 6, 2]) + np.array([[3], [4]])"
   ]
  },
  {
   "cell_type": "markdown",
   "metadata": {},
   "source": [
    "$$C = \\lambda * \\begin{vmatrix} 1 & 2 & 5 & 5\\\\ 4 & 3 & 5 & 5\\\\ 8 & 3 & 4 & 9\\end{vmatrix}$$\n",
    "\n",
    "Dimension = 3 x 4"
   ]
  },
  {
   "cell_type": "code",
   "execution_count": 114,
   "metadata": {},
   "outputs": [
    {
     "data": {
      "text/plain": [
       "<matplotlib.image.AxesImage at 0x7fb15c00ef20>"
      ]
     },
     "execution_count": 114,
     "metadata": {},
     "output_type": "execute_result"
    },
    {
     "data": {
      "image/png": "[encoded data removed]",
      "text/plain": [
       "<Figure size 640x480 with 1 Axes>"
      ]
     },
     "metadata": {},
     "output_type": "display_data"
    }
   ],
   "source": [
    "plt.imshow(np.array([[23, 9, 0 , 255], [100, 24, 256, 0 ], [23, 9, 0 , 255], [100, 24, 256, 0 ]]), cmap='grey')"
   ]
  },
  {
   "cell_type": "markdown",
   "metadata": {},
   "source": [
    "$$a_{11}x_1 + a_{12}x_2+ a_{13}x_3 = b_1$$\n",
    "$$a_{21}x_1 + a_{22}x_2+ a_{23}x_3 = b_2$$\n",
    "$$a_{31}x_1 + a_{32}x_2+ a_{33}x_3 = b_3$$\n",
    "\n",
    "$$\n",
    "\\begin{vmatrix}a & b & c\\\\\n",
    "a_{11} & a_{12} & a_{13}\\\\\n",
    "a_{21} & a_{22} & a_{23} \\\\ \n",
    "a_{31} & a_{32} & a_{33}\n",
    "\\end{vmatrix}\n",
    "\\begin{vmatrix}x_1 \\\\ x_2 \\\\ x_3\n",
    "\\end{vmatrix}\n",
    "= \\begin{vmatrix}b_1 \\\\ b_2 \\\\ b_3\n",
    "\\end{vmatrix}\n",
    "$$\n"
   ]
  },
  {
   "cell_type": "code",
   "execution_count": 115,
   "metadata": {},
   "outputs": [],
   "source": [
    "elemento = np.array([[23, 9, 0 , 255], [100, 24, 256, 0 ], [23, 9, 0 , 255], [100, 24, 256, 0 ]])"
   ]
  },
  {
   "cell_type": "code",
   "execution_count": 123,
   "metadata": {},
   "outputs": [
    {
     "data": {
      "text/plain": [
       "array([[    0,  2304,     0, 65280],\n",
       "       [    0,  6144,     0,     0],\n",
       "       [    0,  2304,     0, 65280],\n",
       "       [    0,  6144,     0,     0]])"
      ]
     },
     "execution_count": 123,
     "metadata": {},
     "output_type": "execute_result"
    }
   ],
   "source": [
    "elemento * np.array([ 0, 256,   0, 256])"
   ]
  }
 ],
 "metadata": {
  "kernelspec": {
   "display_name": "Python 3",
   "language": "python",
   "name": "python3"
  },
  "language_info": {
   "codemirror_mode": {
    "name": "ipython",
    "version": 3
   },
   "file_extension": ".py",
   "mimetype": "text/x-python",
   "name": "python",
   "nbconvert_exporter": "python",
   "pygments_lexer": "ipython3",
   "version": "3.10.13"
  }
 },
 "nbformat": 4,
 "nbformat_minor": 2
}
