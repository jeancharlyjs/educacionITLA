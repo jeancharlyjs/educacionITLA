{
 "cells": [
  {
   "cell_type": "markdown",
   "metadata": {},
   "source": [
    "# Ficheros\n",
    "\n",
    "#### Permisos\n",
    "* r -> Read  (Lectura)\n",
    "* w -> Write (Escritura)\n",
    "* x -> Eject (Ejecucion)\n",
    "* a -> Editar\n",
    "\n",
    "### Caracteristica\n",
    "\n",
    "* Nombre\n",
    "* Formato\n",
    "* Extension"
   ]
  },
  {
   "cell_type": "markdown",
   "metadata": {},
   "source": [
    "{\n",
    "\n",
    "    Nombre: \"Jean Charly\"\n",
    "    Apellido: \"Joseph\"\n",
    "    Edad: 32\n",
    "}\n",
    "\n",
    "nombre, apellido, edad\n",
    "Jean Charly, Joseph, 32"
   ]
  },
  {
   "cell_type": "code",
   "execution_count": 2,
   "metadata": {},
   "outputs": [],
   "source": [
    "extensiones = [\"csv\", \"xlsx\", \"json\", \"docs\"]"
   ]
  },
  {
   "cell_type": "markdown",
   "metadata": {},
   "source": [
    "##### Forma de crear un fichero en Python\n",
    "\n",
    "```\n",
    "open(nombreArchivo, permiso(r, w, a), codificador='utf-8')\n",
    "    Constructor\n",
    "close()\n",
    "```"
   ]
  },
  {
   "cell_type": "code",
   "execution_count": 7,
   "metadata": {},
   "outputs": [],
   "source": [
    "# Write -> w\n",
    "\n",
    "for i in range(len(extensiones)):\n",
    "    with open(\"extension/elemento.%s\"%extensiones[i], 'w', encoding='UTF-8') as f:\n",
    "        f.writelines(\"Bienvenidos estudiantes Excelente....... :)\")\n",
    "        f.close()\n"
   ]
  },
  {
   "cell_type": "code",
   "execution_count": null,
   "metadata": {},
   "outputs": [],
   "source": [
    "# Read -> r\n",
    "for i in range(len(extensiones)):\n",
    "    with open(\"extension/elemento.%s\"%extensiones[i], 'r', encoding='UTF-8') as f:\n",
    "        f.writelines(\"Bienvenidos estudiantes... :)\")\n",
    "        f.close()"
   ]
  },
  {
   "cell_type": "code",
   "execution_count": 9,
   "metadata": {},
   "outputs": [],
   "source": [
    "# Edit -> a\n",
    "for i in range(len(extensiones)):\n",
    "    with open(\"extension/elemento.%s\"%extensiones[i], 'a', encoding='UTF-8') as f:\n",
    "        f.writelines(\"Bienvenidos estudiantes... :)\")\n",
    "        f.writelines(\"\\nPrueba de prueba... jejejej\")\n",
    "        f.close()"
   ]
  },
  {
   "cell_type": "code",
   "execution_count": 35,
   "metadata": {},
   "outputs": [],
   "source": [
    "# Construir modelo de registro\n",
    "\n",
    "with open('registro.csv', 'w', encoding='UTF-8') as f:\n",
    "    #Header\n",
    "    f.writelines(\"nombre;apellido;edad;sexo\\n\")\n",
    "    f.close()\n"
   ]
  },
  {
   "cell_type": "code",
   "execution_count": 18,
   "metadata": {},
   "outputs": [],
   "source": [
    "with open('registro.csv', 'a', encoding='UTF-8') as f:\n",
    "    #Registros\n",
    "    f.writelines(\"Jean Charly Joseph 32 0\\n\")\n",
    "    f.writelines(\"Nikola Tesla 39 0\\n\")\n",
    "    f.writelines(\"Marie Curie 20 1\\n\")\n",
    "    f.close()"
   ]
  },
  {
   "cell_type": "code",
   "execution_count": 19,
   "metadata": {},
   "outputs": [],
   "source": [
    "class Registros:\n",
    "    def __init__(self, nombre, apellido, edad, sexo):\n",
    "        self.nombre = nombre\n",
    "        self.apellido = apellido\n",
    "        self.edad = edad \n",
    "        self.sexo = sexo\n",
    "    def __repr__(self):\n",
    "        return \"Registro!!!\"\n"
   ]
  },
  {
   "cell_type": "code",
   "execution_count": 38,
   "metadata": {},
   "outputs": [],
   "source": [
    "nombre = input(\"Ingrese su nombre: \")\n",
    "apellidos = input(\"Ingrese su apellido: \")\n",
    "edad = int(input(\"Ingrese su edad: \"))\n",
    "sexo = input(\"Ingrese su sexo [0=M, 1=F]: \")\n",
    "\n",
    "registro1 = Registros(nombre, apellidos, edad, int(sexo))\n",
    "with open('registro.csv', 'a', encoding='UTF-8') as f:\n",
    "    #Registros\n",
    "    if registro1.sexo >= 0 or registro1.sexo <=1:\n",
    "        f.writelines(\"%s; %s; %s; %s\\n\"%(registro1.nombre, registro1.apellido, registro1.edad, registro1.sexo))\n",
    "    else:\n",
    "        print(\"Lo siendo, verifique su sexo...\")\n",
    "    f.close()"
   ]
  },
  {
   "cell_type": "code",
   "execution_count": 30,
   "metadata": {},
   "outputs": [],
   "source": [
    "import pandas as pd"
   ]
  },
  {
   "cell_type": "code",
   "execution_count": 54,
   "metadata": {},
   "outputs": [
    {
     "data": {
      "text/html": [
       "<div>\n",
       "<style scoped>\n",
       "    .dataframe tbody tr th:only-of-type {\n",
       "        vertical-align: middle;\n",
       "    }\n",
       "\n",
       "    .dataframe tbody tr th {\n",
       "        vertical-align: top;\n",
       "    }\n",
       "\n",
       "    .dataframe thead th {\n",
       "        text-align: right;\n",
       "    }\n",
       "</style>\n",
       "<table border=\"1\" class=\"dataframe\">\n",
       "  <thead>\n",
       "    <tr style=\"text-align: right;\">\n",
       "      <th></th>\n",
       "      <th>nombre</th>\n",
       "      <th>apellido</th>\n",
       "      <th>edad</th>\n",
       "      <th>sexo</th>\n",
       "      <th>Sexo 1</th>\n",
       "    </tr>\n",
       "  </thead>\n",
       "  <tbody>\n",
       "    <tr>\n",
       "      <th>0</th>\n",
       "      <td>Priana</td>\n",
       "      <td>Santana</td>\n",
       "      <td>19</td>\n",
       "      <td>1</td>\n",
       "      <td>Femenino</td>\n",
       "    </tr>\n",
       "    <tr>\n",
       "      <th>1</th>\n",
       "      <td>Jesus Alberto</td>\n",
       "      <td>Araujo</td>\n",
       "      <td>24</td>\n",
       "      <td>0</td>\n",
       "      <td>Masculino</td>\n",
       "    </tr>\n",
       "    <tr>\n",
       "      <th>2</th>\n",
       "      <td>Oscar</td>\n",
       "      <td>Suero Dominguez</td>\n",
       "      <td>18</td>\n",
       "      <td>0</td>\n",
       "      <td>Masculino</td>\n",
       "    </tr>\n",
       "  </tbody>\n",
       "</table>\n",
       "</div>"
      ],
      "text/plain": [
       "          nombre          apellido   edad   sexo     Sexo 1\n",
       "0         Priana           Santana     19      1   Femenino\n",
       "1  Jesus Alberto            Araujo     24      0  Masculino\n",
       "2          Oscar   Suero Dominguez     18      0  Masculino"
      ]
     },
     "execution_count": 54,
     "metadata": {},
     "output_type": "execute_result"
    }
   ],
   "source": [
    "df = pd.read_csv(\"registro.csv\", delimiter=';')\n",
    "df[\"Sexo 1\"] = df[' sexo'].apply(lambda x: \"Femenino\" if x == 1 else \"Masculino\")\n",
    "df"
   ]
  },
  {
   "cell_type": "code",
   "execution_count": 56,
   "metadata": {},
   "outputs": [
    {
     "data": {
      "text/plain": [
       "20"
      ]
     },
     "execution_count": 56,
     "metadata": {},
     "output_type": "execute_result"
    }
   ],
   "source": [
    "int(df[' edad'].mean())"
   ]
  },
  {
   "cell_type": "code",
   "execution_count": 60,
   "metadata": {},
   "outputs": [
    {
     "data": {
      "text/html": [
       "<div>\n",
       "<style scoped>\n",
       "    .dataframe tbody tr th:only-of-type {\n",
       "        vertical-align: middle;\n",
       "    }\n",
       "\n",
       "    .dataframe tbody tr th {\n",
       "        vertical-align: top;\n",
       "    }\n",
       "\n",
       "    .dataframe thead th {\n",
       "        text-align: right;\n",
       "    }\n",
       "</style>\n",
       "<table border=\"1\" class=\"dataframe\">\n",
       "  <thead>\n",
       "    <tr style=\"text-align: right;\">\n",
       "      <th></th>\n",
       "      <th>nombre</th>\n",
       "      <th>apellido</th>\n",
       "      <th>edad</th>\n",
       "    </tr>\n",
       "  </thead>\n",
       "  <tbody>\n",
       "    <tr>\n",
       "      <th>nombre</th>\n",
       "      <td>apellido</td>\n",
       "      <td>edad</td>\n",
       "      <td>sexo</td>\n",
       "    </tr>\n",
       "    <tr>\n",
       "      <th>Priana</th>\n",
       "      <td>Santana</td>\n",
       "      <td>19</td>\n",
       "      <td>1</td>\n",
       "    </tr>\n",
       "    <tr>\n",
       "      <th>Jesus Alberto</th>\n",
       "      <td>Araujo</td>\n",
       "      <td>24</td>\n",
       "      <td>0</td>\n",
       "    </tr>\n",
       "    <tr>\n",
       "      <th>Oscar</th>\n",
       "      <td>Suero Dominguez</td>\n",
       "      <td>18</td>\n",
       "      <td>0</td>\n",
       "    </tr>\n",
       "  </tbody>\n",
       "</table>\n",
       "</div>"
      ],
      "text/plain": [
       "                         nombre  apellido   edad\n",
       "nombre                 apellido      edad   sexo\n",
       "Priana                  Santana        19      1\n",
       "Jesus Alberto            Araujo        24      0\n",
       "Oscar           Suero Dominguez        18      0"
      ]
     },
     "execution_count": 60,
     "metadata": {},
     "output_type": "execute_result"
    }
   ],
   "source": [
    "columnas = [\" nombre\", \" apellido\", \" edad\"]\n",
    "df = pd.read_csv(\"registro.csv\", delimiter=';', names=columnas)\n",
    "df"
   ]
  }
 ],
 "metadata": {
  "kernelspec": {
   "display_name": "Python 3",
   "language": "python",
   "name": "python3"
  },
  "language_info": {
   "codemirror_mode": {
    "name": "ipython",
    "version": 3
   },
   "file_extension": ".py",
   "mimetype": "text/x-python",
   "name": "python",
   "nbconvert_exporter": "python",
   "pygments_lexer": "ipython3",
   "version": "3.10.8"
  }
 },
 "nbformat": 4,
 "nbformat_minor": 2
}
