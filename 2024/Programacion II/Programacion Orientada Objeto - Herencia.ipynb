{
 "cells": [
  {
   "cell_type": "code",
   "execution_count": 9,
   "id": "c9337ae1-13cf-4b6a-bc1b-5e72e81c2fdb",
   "metadata": {},
   "outputs": [],
   "source": [
    "import sqlite3\n",
    "\n",
    "conn = sqlite3.connect(\"registro2.db\")\n",
    "curso = conn.cursor()\n",
    "curso.execute(\"CREATE TABLE estudiante(nombre, apelledio, edad, sexo, altura)\")\n",
    "curso.close()\n",
    "\n",
    "# with open('registro1.db', 'w', encoding='UTF-8') as f:\n",
    "#     f.writelines(\"nombre, apellido, edad, sexo, altura\\n\")\n",
    "#     f.close()"
   ]
  },
  {
   "cell_type": "code",
   "execution_count": 36,
   "id": "ddfba136-83fe-4362-8163-cb421d8c4cd0",
   "metadata": {},
   "outputs": [],
   "source": [
    "# Persona\n",
    "# Estudiantes\n",
    "# Maestro\n",
    "# Aula\n",
    "\n",
    "class Persona:\n",
    "    \"\"\"\n",
    "    Esta clase será utilizada para no repetir códifo en función de \n",
    "    otras clases que se estarán definiendo.\n",
    "    \"\"\"\n",
    "    def __init__(self, nombre, apellido, edad, sexo, altura):\n",
    "        self.nombre = nombre\n",
    "        self. apellido = apellido\n",
    "        self.edad = edad\n",
    "        self.sexo = sexo\n",
    "        self.altura = altura\n",
    "\n",
    "class Estudiante(Persona):\n",
    "    \"\"\"\n",
    "    Clase para registrar estudiantes\n",
    "    \"\"\"\n",
    "    def __init__(self,  nombre, apellido, edad, sexo, altura):\n",
    "        super().__init__( nombre, apellido, edad, sexo, altura)\n",
    "        \n",
    "    def __str__(self):\n",
    "        return \"Bienvenido %s\"%self.nombre\n",
    "    \n",
    "class Maestro(Persona):\n",
    "    \"\"\"\n",
    "    Clase para registrar maestros.\n",
    "    \"\"\"\n",
    "    def __init__(self,  nombre, apellido, edad, sexo, altura, materia):\n",
    "        super().__init__(nombre, apellido, sexo, altura, materia)\n",
    "\n",
    "\n",
    "    def __str__(self):\n",
    "        return \"Bienvenido %s\"%self.nombre\n",
    "class Aula:\n",
    "    def __init__(self, aula, estudiante, maestro):\n",
    "        self.aula = aula\n",
    "        self.estudiante = estudiante\n",
    "        self.maestro = maestro\n",
    "        \n",
    "\n",
    "    "
   ]
  },
  {
   "cell_type": "code",
   "execution_count": 37,
   "id": "6435d5a6-0b6a-4105-9340-0c295cb13164",
   "metadata": {},
   "outputs": [],
   "source": [
    "e1 = Estudiante(\"Jean Charly\", \"Joseph\", 32, False, 1.4)\n",
    "m1 = Maestro(\"Nikola\", \"Tesla\", 39, False, 1.8, \"Fisica\")\n",
    "a1 = Aula(\"Aula1\", e1, m1)"
   ]
  },
  {
   "cell_type": "code",
   "execution_count": 38,
   "id": "0c129fdd-e6ce-4353-a6fa-c83d90b72207",
   "metadata": {},
   "outputs": [],
   "source": [
    "a1 = Aula(\"Aula1\", e1, m1)"
   ]
  },
  {
   "cell_type": "code",
   "execution_count": 35,
   "id": "2c1f7f6a-a291-43f6-b0a6-fc21246f0771",
   "metadata": {},
   "outputs": [
    {
     "ename": "NameError",
     "evalue": "name 'nombre' is not defined",
     "output_type": "error",
     "traceback": [
      "\u001b[1;31m---------------------------------------------------------------------------\u001b[0m",
      "\u001b[1;31mNameError\u001b[0m                                 Traceback (most recent call last)",
      "Cell \u001b[1;32mIn [35], line 1\u001b[0m\n\u001b[1;32m----> 1\u001b[0m \u001b[43mAula\u001b[49m\u001b[43m(\u001b[49m\u001b[38;5;124;43m\"\u001b[39;49m\u001b[38;5;124;43mJean Charly\u001b[39;49m\u001b[38;5;124;43m\"\u001b[39;49m\u001b[43m,\u001b[49m\u001b[43m \u001b[49m\u001b[38;5;124;43m\"\u001b[39;49m\u001b[38;5;124;43mJoseph\u001b[39;49m\u001b[38;5;124;43m\"\u001b[39;49m\u001b[43m,\u001b[49m\u001b[43m \u001b[49m\u001b[38;5;241;43m32\u001b[39;49m\u001b[43m,\u001b[49m\u001b[43m \u001b[49m\u001b[38;5;28;43;01mFalse\u001b[39;49;00m\u001b[43m,\u001b[49m\u001b[43m \u001b[49m\u001b[38;5;241;43m1.4\u001b[39;49m\u001b[43m,\u001b[49m\u001b[43m \u001b[49m\u001b[38;5;124;43m\"\u001b[39;49m\u001b[38;5;124;43mNikola\u001b[39;49m\u001b[38;5;124;43m\"\u001b[39;49m\u001b[43m,\u001b[49m\u001b[43m \u001b[49m\u001b[38;5;124;43m\"\u001b[39;49m\u001b[38;5;124;43mTesla\u001b[39;49m\u001b[38;5;124;43m\"\u001b[39;49m\u001b[43m,\u001b[49m\u001b[43m \u001b[49m\u001b[38;5;241;43m39\u001b[39;49m\u001b[43m,\u001b[49m\u001b[43m \u001b[49m\u001b[38;5;28;43;01mFalse\u001b[39;49;00m\u001b[43m,\u001b[49m\u001b[43m \u001b[49m\u001b[38;5;241;43m1.8\u001b[39;49m\u001b[43m,\u001b[49m\u001b[43m \u001b[49m\u001b[38;5;124;43m\"\u001b[39;49m\u001b[38;5;124;43mFisica\u001b[39;49m\u001b[38;5;124;43m\"\u001b[39;49m\u001b[43m)\u001b[49m\n",
      "Cell \u001b[1;32mIn [33], line 47\u001b[0m, in \u001b[0;36mAula.__init__\u001b[1;34m(self, nombre_estudiante, apellido_estudiante, edad_estudiante, sexo_estudiante, altura_estudiante, nombre_maestro, apellido_maestro, edad_maestro, sexo_maestro, altura_maestro, materia_maestro)\u001b[0m\n\u001b[0;32m     46\u001b[0m \u001b[38;5;28;01mdef\u001b[39;00m \u001b[38;5;21m__init__\u001b[39m(\u001b[38;5;28mself\u001b[39m, nombre_estudiante, apellido_estudiante, edad_estudiante, sexo_estudiante, altura_estudiante,  nombre_maestro, apellido_maestro, edad_maestro, sexo_maestro, altura_maestro, materia_maestro):\n\u001b[1;32m---> 47\u001b[0m     Estudiante\u001b[38;5;241m.\u001b[39m\u001b[38;5;21m__init__\u001b[39m(\u001b[38;5;28mself\u001b[39m, \u001b[43mnombre\u001b[49m, apellido, edad, sexo, altura)\n\u001b[0;32m     48\u001b[0m     Maestro\u001b[38;5;241m.\u001b[39m\u001b[38;5;21m__init__\u001b[39m(\u001b[38;5;28mself\u001b[39m,  nombre, apellido, edad, sexo, altura, materia)\n",
      "\u001b[1;31mNameError\u001b[0m: name 'nombre' is not defined"
     ]
    }
   ],
   "source": [
    "Aula(\"Jean Charly\", \"Joseph\", 32, False, 1.4, \"Nikola\", \"Tesla\", 39, False, 1.8, \"Fisica\")"
   ]
  }
 ],
 "metadata": {
  "kernelspec": {
   "display_name": "Python 3 (ipykernel)",
   "language": "python",
   "name": "python3"
  },
  "language_info": {
   "codemirror_mode": {
    "name": "ipython",
    "version": 3
   },
   "file_extension": ".py",
   "mimetype": "text/x-python",
   "name": "python",
   "nbconvert_exporter": "python",
   "pygments_lexer": "ipython3",
   "version": "3.11.0"
  }
 },
 "nbformat": 4,
 "nbformat_minor": 5
}
