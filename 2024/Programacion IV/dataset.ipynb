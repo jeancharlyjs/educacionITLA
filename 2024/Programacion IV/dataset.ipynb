{
 "cells": [
  {
   "cell_type": "code",
   "execution_count": 23,
   "metadata": {},
   "outputs": [],
   "source": [
    "import urllib3\n",
    "\n",
    "path = 'https://raw.githubusercontent.com/curran/data/gh-pages/airbnb/airbnb_session_data.txt'\n",
    "\n",
    "HTTPS = urllib3.PoolManager()\n",
    "URL = HTTPS.request(\"GET\", path)\n",
    "datosNormal = URL.data.decode(\"UTF-8\")\n",
    "\n"
   ]
  },
  {
   "cell_type": "code",
   "execution_count": 20,
   "metadata": {},
   "outputs": [],
   "source": [
    "#Creacion de Columnas\n",
    "columnas = datosNormal.split(\"\\n\")[0].split(\"|\")\n",
    "dataset = {}\n",
    "for i in range(len(columnas)):\n",
    "    dataset[columnas[i]] = []"
   ]
  },
  {
   "cell_type": "code",
   "execution_count": 21,
   "metadata": {},
   "outputs": [],
   "source": [
    "#Creacion de Filas\n",
    "elementosFilas = []\n",
    "def cargaDatosLista(n):\n",
    "    return datosNormal.split(\"\\n\")[1:][n].split(\"|\")\n",
    "for i in range(50):\n",
    "    elementosFilas.append(cargaDatosLista(i))"
   ]
  },
  {
   "cell_type": "code",
   "execution_count": 22,
   "metadata": {},
   "outputs": [
    {
     "name": "stdout",
     "output_type": "stream",
     "text": [
      "['ed1329a6-064d-47e9-93bc-93f5a50822df', 'a8dfb8ed5aa79e00ff14b2da297c9778', '83', 'Airbnb/6.0 iPhone/8.1.2', 'iPhone - iOS', '2015-02-16', '2015-02-16 21:50:41', '2015-02-16 22:13:42', '0', '0', '0', 'b812bf56bf89b0b31f4e5b50d0c15ff8', '84', 'Mozilla/5.0 (Windows NT 6.1; WOW64) AppleWebKit/537.36 (KHTML, like Gecko) Chrome/40.0.2214.115 Safari/537.36', 'Desktop - Chrome', '2015-02-18', '2015-02-18 11:57:15', '2015-02-18 12:12:48', '0', '0', '0']\n",
      "['ed1329a6-064d-47e9-93bc-93f5a50822df', '950277daef16f86dc2c05d2b212eea81', '84', 'Mozilla/5.0 (Windows NT 6.1; WOW64) AppleWebKit/537.36 (KHTML, like Gecko) Chrome/40.0.2214.115 Safari/537.36', 'Desktop - Chrome', '2015-02-18', '2015-02-18 11:57:15', '2015-02-18 12:12:48', '0', '0', '0', '456083b5f5506ad125d595006819de1d', '85', 'Mozilla/5.0 (Windows NT 6.1; WOW64) AppleWebKit/537.36 (KHTML, like Gecko) Chrome/40.0.2214.115 Safari/537.36', 'Desktop - Chrome', '2015-02-18', '2015-02-18 13:02:13', '2015-02-18 13:05:36', '0', '0', '0']\n",
      "['ed1329a6-064d-47e9-93bc-93f5a50822df', 'ee4e2f99dd0c0bef2d40e4bdf880c862', '85', 'Mozilla/5.0 (Windows NT 6.1; WOW64) AppleWebKit/537.36 (KHTML, like Gecko) Chrome/40.0.2214.115 Safari/537.36', 'Desktop - Chrome', '2015-02-18', '2015-02-18 13:02:13', '2015-02-18 13:05:36', '0', '0', '0', '94d30e9f3c8f92ae691e49d77a884777', '86', 'Mozilla/5.0 (Windows NT 6.1; WOW64) AppleWebKit/537.36 (KHTML, like Gecko) Chrome/40.0.2214.115 Safari/537.36', 'Desktop - Chrome', '2015-02-18', '2015-02-18 14:18:17', '2015-02-18 14:28:47', '0', '0', '0']\n",
      "['ed1329a6-064d-47e9-93bc-93f5a50822df', '59fbde7b5d35403116c461fa7fc1ab6e', '86', 'Mozilla/5.0 (Windows NT 6.1; WOW64) AppleWebKit/537.36 (KHTML, like Gecko) Chrome/40.0.2214.115 Safari/537.36', 'Desktop - Chrome', '2015-02-18', '2015-02-18 14:18:17', '2015-02-18 14:28:47', '0', '0', '0', 'ab02139dc81bea4b126cf5043faf53d9', '87', 'Mozilla/5.0 (Windows NT 6.1; WOW64) AppleWebKit/537.36 (KHTML, like Gecko) Chrome/40.0.2214.115 Safari/537.36', 'Desktop - Chrome', '2015-02-19', '2015-02-19 12:24:57', '2015-02-19 12:24:59', '0', '0', '0']\n",
      "['ed1329a6-064d-47e9-93bc-93f5a50822df', 'ec8972a3c7256ea4dcba61ee2bd9e3a8', '87', 'Mozilla/5.0 (Windows NT 6.1; WOW64) AppleWebKit/537.36 (KHTML, like Gecko) Chrome/40.0.2214.115 Safari/537.36', 'Desktop - Chrome', '2015-02-19', '2015-02-19 12:24:57', '2015-02-19 12:24:59', '0', '0', '0', '6a69db1a5876e9798947f20e2c52bcc8', '88', 'Mozilla/5.0 (Windows NT 6.1; WOW64) AppleWebKit/537.36 (KHTML, like Gecko) Chrome/41.0.2272.89 Safari/537.36', 'Desktop - Chrome', '2015-02-19', '2015-02-19 22:21:58', '2015-02-19 22:22:02', '0', '0', '0']\n",
      "['ed1329a6-064d-47e9-93bc-93f5a50822df', 'e355c8539d540d9d429b568e3efc3129', '88', 'Mozilla/5.0 (Windows NT 6.1; WOW64) AppleWebKit/537.36 (KHTML, like Gecko) Chrome/41.0.2272.89 Safari/537.36', 'Desktop - Chrome', '2015-02-19', '2015-02-19 22:21:58', '2015-02-19 22:22:02', '0', '0', '0', '5d0a6e207b9eafaf9203a2d04e59f238', '89', 'Mozilla/5.0 (Windows NT 6.1; WOW64) AppleWebKit/537.36 (KHTML, like Gecko) Chrome/41.0.2272.89 Safari/537.36', 'Desktop - Chrome', '2015-02-25', '2015-02-25 09:04:03', '2015-02-25 09:05:16', '0', '0', '0']\n",
      "['ed1329a6-064d-47e9-93bc-93f5a50822df', '864516aa97805ca3e155363489bbb7e7', '89', 'Mozilla/5.0 (Windows NT 6.1; WOW64) AppleWebKit/537.36 (KHTML, like Gecko) Chrome/41.0.2272.89 Safari/537.36', 'Desktop - Chrome', '2015-02-25', '2015-02-25 09:04:03', '2015-02-25 09:05:16', '0', '0', '0', 'NULL', 'NULL', 'NULL', 'NULL', 'NULL', 'NULL', 'NULL', 'NULL', 'NULL', 'NULL']\n",
      "['ed1329a6-064d-47e9-93bc-93f5a50822df', 'a87b0eedf2d5b0d7cca1427276ff7ce8', '1', 'Mozilla/5.0 (Windows NT 6.1; WOW64) AppleWebKit/537.36 (KHTML, like Gecko) Chrome/35.0.1916.114 Safari/537.36', 'Desktop - Chrome', '2014-05-31', '2014-05-31 21:04:21', '2014-05-31 21:08:48', '0', '0', '0', '5d05913e04afff14c82e30050ba58949', '2', 'Mozilla/5.0 (Windows NT 6.1; WOW64) AppleWebKit/537.36 (KHTML, like Gecko) Chrome/35.0.1916.153 Safari/537.36', 'Desktop - Chrome', '2014-06-10', '2014-06-10 04:20:15', '2014-06-10 04:20:48', '0', '0', '0']\n",
      "['ed1329a6-064d-47e9-93bc-93f5a50822df', 'c4295a45eb7d96a2b1f873a888a23068', '2', 'Mozilla/5.0 (Windows NT 6.1; WOW64) AppleWebKit/537.36 (KHTML, like Gecko) Chrome/35.0.1916.153 Safari/537.36', 'Desktop - Chrome', '2014-06-10', '2014-06-10 04:20:15', '2014-06-10 04:20:48', '0', '0', '0', 'b6f28f090b4bc2a86fb7f70ce08ac629', '3', 'Mozilla/5.0 (Windows NT 6.1; WOW64) AppleWebKit/537.36 (KHTML, like Gecko) Chrome/39.0.2171.95 Safari/537.36', 'Desktop - Chrome', '2014-11-24', '2014-11-24 09:40:49', '2014-11-24 10:08:27', '1', '0', '0']\n",
      "['ed1329a6-064d-47e9-93bc-93f5a50822df', 'fa6b8318a9fe0bfa928e0ac3ec9ec16a', '3', 'Mozilla/5.0 (Windows NT 6.1; WOW64) AppleWebKit/537.36 (KHTML, like Gecko) Chrome/39.0.2171.95 Safari/537.36', 'Desktop - Chrome', '2014-11-24', '2014-11-24 09:40:49', '2014-11-24 10:08:27', '1', '0', '0', '3e155a2bdd066c9b5b8dae5155a81378', '4', 'Mozilla/5.0 (Windows NT 6.1; WOW64) AppleWebKit/537.36 (KHTML, like Gecko) Chrome/39.0.2171.95 Safari/537.36', 'Desktop - Chrome', '2014-11-24', '2014-11-24 11:50:57', '2014-11-24 12:04:07', '1', '0', '0']\n",
      "['ed1329a6-064d-47e9-93bc-93f5a50822df', 'fd29a8d80ee53db081afe070d59874c1', '4', 'Mozilla/5.0 (Windows NT 6.1; WOW64) AppleWebKit/537.36 (KHTML, like Gecko) Chrome/39.0.2171.95 Safari/537.36', 'Desktop - Chrome', '2014-11-24', '2014-11-24 11:50:57', '2014-11-24 12:04:07', '1', '0', '0', '3f1714edf24b008a9dda1e54e18053e8', '5', 'Mozilla/5.0 (Windows NT 6.1; WOW64) AppleWebKit/537.36 (KHTML, like Gecko) Chrome/39.0.2171.95 Safari/537.36', 'Desktop - Chrome', '2014-11-24', '2014-11-24 14:31:55', '2014-11-24 14:58:20', '1', '0', '0']\n",
      "['ed1329a6-064d-47e9-93bc-93f5a50822df', '9786f2fd96da51d49ece9bd09ef8ae81', '5', 'Mozilla/5.0 (Windows NT 6.1; WOW64) AppleWebKit/537.36 (KHTML, like Gecko) Chrome/39.0.2171.95 Safari/537.36', 'Desktop - Chrome', '2014-11-24', '2014-11-24 14:31:55', '2014-11-24 14:58:20', '1', '0', '0', '031f28f1f45bc68cc8b5f84dd9a7d329', '6', 'Mozilla/5.0 (Windows NT 6.1; WOW64) AppleWebKit/537.36 (KHTML, like Gecko) Chrome/39.0.2171.95 Safari/537.36', 'Desktop - Chrome', '2014-11-25', '2014-11-25 10:00:49', '2014-11-25 10:00:53', '0', '0', '0']\n",
      "['ed1329a6-064d-47e9-93bc-93f5a50822df', '44427a3375695f800c4d7bae9c9ef8d7', '6', 'Mozilla/5.0 (Windows NT 6.1; WOW64) AppleWebKit/537.36 (KHTML, like Gecko) Chrome/39.0.2171.95 Safari/537.36', 'Desktop - Chrome', '2014-11-25', '2014-11-25 10:00:49', '2014-11-25 10:00:53', '0', '0', '0', 'df09c1fcba967d21d3c0d4340910bc44', '7', 'Mozilla/5.0 (Windows NT 6.1; WOW64) AppleWebKit/537.36 (KHTML, like Gecko) Chrome/39.0.2171.95 Safari/537.36', 'Desktop - Chrome', '2014-12-02', '2014-12-02 11:44:42', '2014-12-02 11:47:51', '1', '0', '0']\n",
      "['ed1329a6-064d-47e9-93bc-93f5a50822df', '3fb527df475f0848e5d0b63a42af27e5', '7', 'Mozilla/5.0 (Windows NT 6.1; WOW64) AppleWebKit/537.36 (KHTML, like Gecko) Chrome/39.0.2171.95 Safari/537.36', 'Desktop - Chrome', '2014-12-02', '2014-12-02 11:44:42', '2014-12-02 11:47:51', '1', '0', '0', '4899793447e044e2c990045abca26408', '8', 'Mozilla/5.0 (Windows NT 6.1; WOW64) AppleWebKit/537.36 (KHTML, like Gecko) Chrome/39.0.2171.95 Safari/537.36', 'Desktop - Chrome', '2014-12-03', '2014-12-03 02:49:56', '2014-12-03 02:50:01', '0', '0', '0']\n",
      "['ed1329a6-064d-47e9-93bc-93f5a50822df', 'b4866da222c0df57681bf013c40d9e00', '8', 'Mozilla/5.0 (Windows NT 6.1; WOW64) AppleWebKit/537.36 (KHTML, like Gecko) Chrome/39.0.2171.95 Safari/537.36', 'Desktop - Chrome', '2014-12-03', '2014-12-03 02:49:56', '2014-12-03 02:50:01', '0', '0', '0', '090a4e7194835e8adcf61e53fb4c5627', '9', 'Mozilla/5.0 (Windows NT 6.1; WOW64) AppleWebKit/537.36 (KHTML, like Gecko) Chrome/39.0.2171.95 Safari/537.36', 'Desktop - Chrome', '2014-12-04', '2014-12-04 06:07:06', '2014-12-04 06:09:52', '1', '0', '0']\n",
      "['ed1329a6-064d-47e9-93bc-93f5a50822df', '51763de7272debc59991de716e90a110', '9', 'Mozilla/5.0 (Windows NT 6.1; WOW64) AppleWebKit/537.36 (KHTML, like Gecko) Chrome/39.0.2171.95 Safari/537.36', 'Desktop - Chrome', '2014-12-04', '2014-12-04 06:07:06', '2014-12-04 06:09:52', '1', '0', '0', 'fc0d978c15ceb305df8d78ac069248dc', '10', 'Mozilla/5.0 (Windows NT 6.1; WOW64) AppleWebKit/537.36 (KHTML, like Gecko) Chrome/39.0.2171.95 Safari/537.36', 'Desktop - Chrome', '2014-12-04', '2014-12-04 06:46:27', '2014-12-04 06:55:41', '1', '1', '1']\n",
      "['ed1329a6-064d-47e9-93bc-93f5a50822df', '758baaf258e747d67b7dce6b414860ef', '10', 'Mozilla/5.0 (Windows NT 6.1; WOW64) AppleWebKit/537.36 (KHTML, like Gecko) Chrome/39.0.2171.95 Safari/537.36', 'Desktop - Chrome', '2014-12-04', '2014-12-04 06:46:27', '2014-12-04 06:55:41', '1', '1', '1', '1e3c3f5cb50478b32155072a5b383d8f', '11', 'Airbnb/3.3.1 iPhone/8.1.2', 'iPhone - iOS', '2014-12-04', '2014-12-04 08:42:34', '2014-12-04 08:42:35', '0', '0', '0']\n",
      "['ed1329a6-064d-47e9-93bc-93f5a50822df', 'e5eaf6ed7205ff92f2a2ce3e8706230d', '11', 'Airbnb/3.3.1 iPhone/8.1.2', 'iPhone - iOS', '2014-12-04', '2014-12-04 08:42:34', '2014-12-04 08:42:35', '0', '0', '0', '1e3c3f5cb50478b32155072a5b383d8f', '12', 'Airbnb/4.7.0 iPhone/8.1.2', 'iPhone - iOS', '2014-12-04', '2014-12-04 08:44:22', '2014-12-04 09:30:00', '1', '0', '0']\n",
      "['ed1329a6-064d-47e9-93bc-93f5a50822df', '02a335df52433dccad176a8cfa08b49c', '12', 'Airbnb/4.7.0 iPhone/8.1.2', 'iPhone - iOS', '2014-12-04', '2014-12-04 08:44:22', '2014-12-04 09:30:00', '1', '0', '0', 'c3f66f543d6ee5b1d50927de3dee1c38', '13', 'Mozilla/5.0 (Windows NT 6.1; WOW64) AppleWebKit/537.36 (KHTML, like Gecko) Chrome/39.0.2171.95 Safari/537.36', 'Desktop - Chrome', '2014-12-04', '2014-12-04 10:35:12', '2014-12-04 10:35:22', '0', '0', '0']\n",
      "['ed1329a6-064d-47e9-93bc-93f5a50822df', '424c4aaff63cbd5cb82957c30bd43b41', '13', 'Mozilla/5.0 (Windows NT 6.1; WOW64) AppleWebKit/537.36 (KHTML, like Gecko) Chrome/39.0.2171.95 Safari/537.36', 'Desktop - Chrome', '2014-12-04', '2014-12-04 10:35:12', '2014-12-04 10:35:22', '0', '0', '0', '69f1d4f4a1ca096d335362233c1b52be', '14', 'Airbnb/4.7.0 iPhone/8.1.2', 'iPhone - iOS', '2014-12-04', '2014-12-04 20:03:30', '2014-12-04 20:03:34', '0', '0', '0']\n",
      "['ed1329a6-064d-47e9-93bc-93f5a50822df', 'ebbfb835927bdc66a51c49dbfca188cb', '14', 'Airbnb/4.7.0 iPhone/8.1.2', 'iPhone - iOS', '2014-12-04', '2014-12-04 20:03:30', '2014-12-04 20:03:34', '0', '0', '0', '05b09924d93ae91da544a8e18ca2add8', '15', 'Mozilla/5.0 (Windows NT 6.1; WOW64) AppleWebKit/537.36 (KHTML, like Gecko) Chrome/39.0.2171.95 Safari/537.36', 'Desktop - Chrome', '2014-12-05', '2014-12-05 02:29:54', '2014-12-05 02:48:50', '0', '1', '1']\n",
      "['ed1329a6-064d-47e9-93bc-93f5a50822df', 'fb1915e2d157054490c6376af0f86c6b', '15', 'Mozilla/5.0 (Windows NT 6.1; WOW64) AppleWebKit/537.36 (KHTML, like Gecko) Chrome/39.0.2171.95 Safari/537.36', 'Desktop - Chrome', '2014-12-05', '2014-12-05 02:29:54', '2014-12-05 02:48:50', '0', '1', '1', 'e0b61643441fcde87e4c109f025b7a60', '16', 'Mozilla/5.0 (Windows NT 6.1; WOW64) AppleWebKit/537.36 (KHTML, like Gecko) Chrome/39.0.2171.95 Safari/537.36', 'Desktop - Chrome', '2014-12-05', '2014-12-05 04:12:03', '2014-12-05 04:20:44', '1', '0', '0']\n",
      "['ed1329a6-064d-47e9-93bc-93f5a50822df', '3e484e8a4b5c640fb2b5e997d298d26e', '16', 'Mozilla/5.0 (Windows NT 6.1; WOW64) AppleWebKit/537.36 (KHTML, like Gecko) Chrome/39.0.2171.95 Safari/537.36', 'Desktop - Chrome', '2014-12-05', '2014-12-05 04:12:03', '2014-12-05 04:20:44', '1', '0', '0', '6bbb9103d61149e21a45185671ea6336', '17', 'Mozilla/5.0 (Windows NT 6.1; WOW64) AppleWebKit/537.36 (KHTML, like Gecko) Chrome/39.0.2171.95 Safari/537.36', 'Desktop - Chrome', '2014-12-05', '2014-12-05 04:54:34', '2014-12-05 05:16:45', '1', '0', '0']\n",
      "['ed1329a6-064d-47e9-93bc-93f5a50822df', '1e6b38a5bff3d7c053c3cf85282aacc7', '17', 'Mozilla/5.0 (Windows NT 6.1; WOW64) AppleWebKit/537.36 (KHTML, like Gecko) Chrome/39.0.2171.95 Safari/537.36', 'Desktop - Chrome', '2014-12-05', '2014-12-05 04:54:34', '2014-12-05 05:16:45', '1', '0', '0', 'a4e0d17992382c3a2c487491a8e9dff7', '18', 'Mozilla/5.0 (Windows NT 6.1; WOW64) AppleWebKit/537.36 (KHTML, like Gecko) Chrome/39.0.2171.95 Safari/537.36', 'Desktop - Chrome', '2014-12-05', '2014-12-05 06:20:19', '2014-12-05 09:18:12', '1', '1', '1']\n",
      "['ed1329a6-064d-47e9-93bc-93f5a50822df', '0b5c0b5b707cfe3e4bb1d8fd1819249f', '18', 'Mozilla/5.0 (Windows NT 6.1; WOW64) AppleWebKit/537.36 (KHTML, like Gecko) Chrome/39.0.2171.95 Safari/537.36', 'Desktop - Chrome', '2014-12-05', '2014-12-05 06:20:19', '2014-12-05 09:18:12', '1', '1', '1', '32e7fb4b8a8bb49d860beaa9ac123337', '19', 'Mozilla/5.0 (Windows NT 6.1; WOW64) AppleWebKit/537.36 (KHTML, like Gecko) Chrome/39.0.2171.95 Safari/537.36', 'Desktop - Chrome', '2014-12-05', '2014-12-05 11:37:13', '2014-12-05 11:40:47', '1', '0', '0']\n",
      "['ed1329a6-064d-47e9-93bc-93f5a50822df', '3cc701303689b5d94782d043020c8cb9', '19', 'Mozilla/5.0 (Windows NT 6.1; WOW64) AppleWebKit/537.36 (KHTML, like Gecko) Chrome/39.0.2171.95 Safari/537.36', 'Desktop - Chrome', '2014-12-05', '2014-12-05 11:37:13', '2014-12-05 11:40:47', '1', '0', '0', 'f8ba0f2d7b62d60a5ef547199ed73711', '20', 'Mozilla/5.0 (Windows NT 6.1; WOW64) AppleWebKit/537.36 (KHTML, like Gecko) Chrome/39.0.2171.95 Safari/537.36', 'Desktop - Chrome', '2014-12-05', '2014-12-05 12:28:42', '2014-12-05 12:31:07', '1', '0', '0']\n",
      "['ed1329a6-064d-47e9-93bc-93f5a50822df', '2a46cd341ceb395603442d298e8d002c', '20', 'Mozilla/5.0 (Windows NT 6.1; WOW64) AppleWebKit/537.36 (KHTML, like Gecko) Chrome/39.0.2171.95 Safari/537.36', 'Desktop - Chrome', '2014-12-05', '2014-12-05 12:28:42', '2014-12-05 12:31:07', '1', '0', '0', 'a69d46d19585022f756b0723dc85a887', '21', 'Mozilla/5.0 (Windows NT 6.1; WOW64) AppleWebKit/537.36 (KHTML, like Gecko) Chrome/39.0.2171.95 Safari/537.36', 'Desktop - Chrome', '2014-12-05', '2014-12-05 13:05:35', '2014-12-05 13:32:38', '1', '0', '0']\n",
      "['ed1329a6-064d-47e9-93bc-93f5a50822df', '9765498fc3b09926045eed53477552cd', '21', 'Mozilla/5.0 (Windows NT 6.1; WOW64) AppleWebKit/537.36 (KHTML, like Gecko) Chrome/39.0.2171.95 Safari/537.36', 'Desktop - Chrome', '2014-12-05', '2014-12-05 13:05:35', '2014-12-05 13:32:38', '1', '0', '0', 'b5795227e1b717afea74acab7950da4c', '22', 'Mozilla/5.0 (Windows NT 6.1; WOW64) AppleWebKit/537.36 (KHTML, like Gecko) Chrome/39.0.2171.95 Safari/537.36', 'Desktop - Chrome', '2014-12-05', '2014-12-05 14:20:13', '2014-12-05 14:39:19', '1', '0', '0']\n",
      "['ed1329a6-064d-47e9-93bc-93f5a50822df', '8e6e03f9e24251abfa0cc4bbe88f77cd', '22', 'Mozilla/5.0 (Windows NT 6.1; WOW64) AppleWebKit/537.36 (KHTML, like Gecko) Chrome/39.0.2171.95 Safari/537.36', 'Desktop - Chrome', '2014-12-05', '2014-12-05 14:20:13', '2014-12-05 14:39:19', '1', '0', '0', '3a18e969d576e257469ac6870c698499', '23', 'Mozilla/5.0 (Windows NT 6.1; WOW64) AppleWebKit/537.36 (KHTML, like Gecko) Chrome/39.0.2171.95 Safari/537.36', 'Desktop - Chrome', '2014-12-05', '2014-12-05 23:16:08', '2014-12-06 01:42:40', '1', '1', '1']\n",
      "['ed1329a6-064d-47e9-93bc-93f5a50822df', '533fa9135c335505ca00e5e9fab1b10e', '23', 'Mozilla/5.0 (Windows NT 6.1; WOW64) AppleWebKit/537.36 (KHTML, like Gecko) Chrome/39.0.2171.95 Safari/537.36', 'Desktop - Chrome', '2014-12-05', '2014-12-05 23:16:08', '2014-12-06 01:42:40', '1', '1', '1', 'e80a6eb393ab993655eb28eca5164dc7', '24', 'Mozilla/5.0 (Windows NT 6.1; WOW64) AppleWebKit/537.36 (KHTML, like Gecko) Chrome/39.0.2171.95 Safari/537.36', 'Desktop - Chrome', '2014-12-06', '2014-12-06 03:17:06', '2014-12-06 04:20:31', '1', '0', '0']\n",
      "['ed1329a6-064d-47e9-93bc-93f5a50822df', '4dd432c1e66b4f2762e3dbfb7fcb516d', '24', 'Mozilla/5.0 (Windows NT 6.1; WOW64) AppleWebKit/537.36 (KHTML, like Gecko) Chrome/39.0.2171.95 Safari/537.36', 'Desktop - Chrome', '2014-12-06', '2014-12-06 03:17:06', '2014-12-06 04:20:31', '1', '0', '0', 'c2afda2a55bb4d955c98172a2b2578ab', '25', 'Mozilla/5.0 (Windows NT 6.1; WOW64) AppleWebKit/537.36 (KHTML, like Gecko) Chrome/39.0.2171.95 Safari/537.36', 'Desktop - Chrome', '2014-12-06', '2014-12-06 11:50:11', '2014-12-06 12:40:43', '1', '1', '1']\n",
      "['ed1329a6-064d-47e9-93bc-93f5a50822df', '989591352f867a8080a3d61fd066fa08', '25', 'Mozilla/5.0 (Windows NT 6.1; WOW64) AppleWebKit/537.36 (KHTML, like Gecko) Chrome/39.0.2171.95 Safari/537.36', 'Desktop - Chrome', '2014-12-06', '2014-12-06 11:50:11', '2014-12-06 12:40:43', '1', '1', '1', 'cd5c457a8301802f403eefe62f7de4e0', '26', 'Airbnb/4.7.0 iPhone/8.1.2', 'iPhone - iOS', '2014-12-06', '2014-12-06 22:38:49', '2014-12-06 22:40:00', '0', '0', '0']\n",
      "['ed1329a6-064d-47e9-93bc-93f5a50822df', 'd28dba3d0922222709cbd74fec2c3575', '26', 'Airbnb/4.7.0 iPhone/8.1.2', 'iPhone - iOS', '2014-12-06', '2014-12-06 22:38:49', '2014-12-06 22:40:00', '0', '0', '0', 'a986ebe2289836d7ca3e18cc62464ad0', '27', 'Mozilla/5.0 (Windows NT 6.1; WOW64) AppleWebKit/537.36 (KHTML, like Gecko) Chrome/39.0.2171.95 Safari/537.36', 'Desktop - Chrome', '2014-12-07', '2014-12-07 02:01:24', '2014-12-07 02:03:17', '0', '0', '1']\n",
      "['ed1329a6-064d-47e9-93bc-93f5a50822df', 'c8bb2b82c753d39c9a5d2940a18f8223', '27', 'Mozilla/5.0 (Windows NT 6.1; WOW64) AppleWebKit/537.36 (KHTML, like Gecko) Chrome/39.0.2171.95 Safari/537.36', 'Desktop - Chrome', '2014-12-07', '2014-12-07 02:01:24', '2014-12-07 02:03:17', '0', '0', '1', 'f700ec56c60710a03bbfdbd731c0593f', '28', 'Mozilla/5.0 (Windows NT 6.1; WOW64) AppleWebKit/537.36 (KHTML, like Gecko) Chrome/39.0.2171.95 Safari/537.36', 'Desktop - Chrome', '2014-12-07', '2014-12-07 13:01:22', '2014-12-07 13:03:12', '0', '0', '1']\n",
      "['ed1329a6-064d-47e9-93bc-93f5a50822df', '5d2ecd157991eb732e8e5b659b86de51', '28', 'Mozilla/5.0 (Windows NT 6.1; WOW64) AppleWebKit/537.36 (KHTML, like Gecko) Chrome/39.0.2171.95 Safari/537.36', 'Desktop - Chrome', '2014-12-07', '2014-12-07 13:01:22', '2014-12-07 13:03:12', '0', '0', '1', 'd3f8b5114ad2e5343135442a025179bd', '29', 'Mozilla/5.0 (Windows NT 6.1; WOW64) AppleWebKit/537.36 (KHTML, like Gecko) Chrome/39.0.2171.95 Safari/537.36', 'Desktop - Chrome', '2014-12-07', '2014-12-07 22:36:11', '2014-12-07 22:38:08', '0', '0', '0']\n",
      "['ed1329a6-064d-47e9-93bc-93f5a50822df', '54b8c954f01857c218ab8723461ed50a', '29', 'Mozilla/5.0 (Windows NT 6.1; WOW64) AppleWebKit/537.36 (KHTML, like Gecko) Chrome/39.0.2171.95 Safari/537.36', 'Desktop - Chrome', '2014-12-07', '2014-12-07 22:36:11', '2014-12-07 22:38:08', '0', '0', '0', '199f1eacf720b2652f28d2c71fd4acc3', '30', 'Mozilla/5.0 (Windows NT 6.1; WOW64) AppleWebKit/537.36 (KHTML, like Gecko) Chrome/39.0.2171.95 Safari/537.36', 'Desktop - Chrome', '2014-12-08', '2014-12-08 04:06:53', '2014-12-08 04:06:57', '0', '1', '0']\n",
      "['ed1329a6-064d-47e9-93bc-93f5a50822df', '6ae4542bd1f92591796c056fa89e6222', '30', 'Mozilla/5.0 (Windows NT 6.1; WOW64) AppleWebKit/537.36 (KHTML, like Gecko) Chrome/39.0.2171.95 Safari/537.36', 'Desktop - Chrome', '2014-12-08', '2014-12-08 04:06:53', '2014-12-08 04:06:57', '0', '1', '0', '43df114da85ab2a72da7afff68957d33', '31', 'Mozilla/5.0 (Windows NT 6.1; WOW64) AppleWebKit/537.36 (KHTML, like Gecko) Chrome/39.0.2171.95 Safari/537.36', 'Desktop - Chrome', '2014-12-08', '2014-12-08 05:19:01', '2014-12-08 05:19:04', '0', '0', '0']\n",
      "['ed1329a6-064d-47e9-93bc-93f5a50822df', '6450c2adb9ae354c423b0d74f67c0ba7', '31', 'Mozilla/5.0 (Windows NT 6.1; WOW64) AppleWebKit/537.36 (KHTML, like Gecko) Chrome/39.0.2171.95 Safari/537.36', 'Desktop - Chrome', '2014-12-08', '2014-12-08 05:19:01', '2014-12-08 05:19:04', '0', '0', '0', '53b8aeba66e89785d9ef176fecf1e8dc', '32', 'Mozilla/5.0 (Windows NT 6.1; WOW64) AppleWebKit/537.36 (KHTML, like Gecko) Chrome/39.0.2171.95 Safari/537.36', 'Desktop - Chrome', '2014-12-08', '2014-12-08 21:30:43', '2014-12-08 21:30:45', '0', '0', '0']\n",
      "['ed1329a6-064d-47e9-93bc-93f5a50822df', 'a8066a07985646d3a720eb78cf55be73', '32', 'Mozilla/5.0 (Windows NT 6.1; WOW64) AppleWebKit/537.36 (KHTML, like Gecko) Chrome/39.0.2171.95 Safari/537.36', 'Desktop - Chrome', '2014-12-08', '2014-12-08 21:30:43', '2014-12-08 21:30:45', '0', '0', '0', 'f4ba3e7527ec4853fc06bad62e3e36ac', '33', 'Mozilla/5.0 (Windows NT 6.1; WOW64) AppleWebKit/537.36 (KHTML, like Gecko) Chrome/39.0.2171.95 Safari/537.36', 'Desktop - Chrome', '2014-12-09', '2014-12-09 09:24:54', '2014-12-09 09:28:09', '0', '1', '1']\n",
      "['ed1329a6-064d-47e9-93bc-93f5a50822df', '7b848974c1d51818d97364310edac06e', '33', 'Mozilla/5.0 (Windows NT 6.1; WOW64) AppleWebKit/537.36 (KHTML, like Gecko) Chrome/39.0.2171.95 Safari/537.36', 'Desktop - Chrome', '2014-12-09', '2014-12-09 09:24:54', '2014-12-09 09:28:09', '0', '1', '1', '9ce24629d6fc648b4763757beb707a1c', '34', 'Mozilla/5.0 (Windows NT 6.1; WOW64) AppleWebKit/537.36 (KHTML, like Gecko) Chrome/39.0.2171.95 Safari/537.36', 'Desktop - Chrome', '2014-12-11', '2014-12-11 14:36:43', '2014-12-11 14:47:50', '1', '0', '1']\n",
      "['ed1329a6-064d-47e9-93bc-93f5a50822df', 'd6e3fc4fc864b67d95a8b2079e399aef', '34', 'Mozilla/5.0 (Windows NT 6.1; WOW64) AppleWebKit/537.36 (KHTML, like Gecko) Chrome/39.0.2171.95 Safari/537.36', 'Desktop - Chrome', '2014-12-11', '2014-12-11 14:36:43', '2014-12-11 14:47:50', '1', '0', '1', '794f56beef849db1b1d69c74c9be39ac', '35', 'Mozilla/5.0 (Windows NT 6.1; WOW64) AppleWebKit/537.36 (KHTML, like Gecko) Chrome/39.0.2171.95 Safari/537.36', 'Desktop - Chrome', '2014-12-15', '2014-12-15 11:24:44', '2014-12-15 11:45:43', '1', '1', '1']\n",
      "['ed1329a6-064d-47e9-93bc-93f5a50822df', '53b543b106b7cc228b8751434641d79e', '35', 'Mozilla/5.0 (Windows NT 6.1; WOW64) AppleWebKit/537.36 (KHTML, like Gecko) Chrome/39.0.2171.95 Safari/537.36', 'Desktop - Chrome', '2014-12-15', '2014-12-15 11:24:44', '2014-12-15 11:45:43', '1', '1', '1', '1776cce0c098085cb01012cecc24ab99', '36', 'Mozilla/5.0 (Windows NT 6.1; WOW64) AppleWebKit/537.36 (KHTML, like Gecko) Chrome/39.0.2171.95 Safari/537.36', 'Desktop - Chrome', '2014-12-15', '2014-12-15 12:17:42', '2014-12-15 12:29:05', '1', '1', '1']\n",
      "['ed1329a6-064d-47e9-93bc-93f5a50822df', '7d430b3c943bafbabaab99d461451dca', '36', 'Mozilla/5.0 (Windows NT 6.1; WOW64) AppleWebKit/537.36 (KHTML, like Gecko) Chrome/39.0.2171.95 Safari/537.36', 'Desktop - Chrome', '2014-12-15', '2014-12-15 12:17:42', '2014-12-15 12:29:05', '1', '1', '1', 'c65dea43a7593976e90ee76a7e89c262', '37', 'Mozilla/5.0 (Windows NT 6.1; WOW64) AppleWebKit/537.36 (KHTML, like Gecko) Chrome/39.0.2171.95 Safari/537.36', 'Desktop - Chrome', '2014-12-15', '2014-12-15 23:23:42', '2014-12-15 23:25:38', '0', '1', '0']\n",
      "['ed1329a6-064d-47e9-93bc-93f5a50822df', 'c11a78abb7434b3c4782772fbea4db89', '37', 'Mozilla/5.0 (Windows NT 6.1; WOW64) AppleWebKit/537.36 (KHTML, like Gecko) Chrome/39.0.2171.95 Safari/537.36', 'Desktop - Chrome', '2014-12-15', '2014-12-15 23:23:42', '2014-12-15 23:25:38', '0', '1', '0', '4fe16995cf1995e8bcb5de0a9152f7f3', '38', 'Mozilla/5.0 (Windows NT 6.1; WOW64) AppleWebKit/537.36 (KHTML, like Gecko) Chrome/39.0.2171.95 Safari/537.36', 'Desktop - Chrome', '2014-12-16', '2014-12-16 12:04:35', '2014-12-16 12:05:00', '0', '0', '1']\n",
      "['ed1329a6-064d-47e9-93bc-93f5a50822df', 'c64d187ce3211c0744361f92b9674d4f', '38', 'Mozilla/5.0 (Windows NT 6.1; WOW64) AppleWebKit/537.36 (KHTML, like Gecko) Chrome/39.0.2171.95 Safari/537.36', 'Desktop - Chrome', '2014-12-16', '2014-12-16 12:04:35', '2014-12-16 12:05:00', '0', '0', '1', '3266c70c72fce3559f8a561494925de2', '39', 'Mozilla/5.0 (Windows NT 6.1; WOW64) AppleWebKit/537.36 (KHTML, like Gecko) Chrome/39.0.2171.95 Safari/537.36', 'Desktop - Chrome', '2014-12-17', '2014-12-17 13:13:50', '2014-12-17 14:24:06', '1', '1', '1']\n",
      "['ed1329a6-064d-47e9-93bc-93f5a50822df', 'b3688e3787d4df91f7a0f3d3e3760afb', '39', 'Mozilla/5.0 (Windows NT 6.1; WOW64) AppleWebKit/537.36 (KHTML, like Gecko) Chrome/39.0.2171.95 Safari/537.36', 'Desktop - Chrome', '2014-12-17', '2014-12-17 13:13:50', '2014-12-17 14:24:06', '1', '1', '1', '3266c70c72fce3559f8a561494925de2', '40', 'Airbnb/4.7.0 iPhone/8.1.2', 'iPhone - iOS', '2014-12-17', '2014-12-17 13:47:34', '2014-12-17 14:51:43', '0', '1', '0']\n",
      "['ed1329a6-064d-47e9-93bc-93f5a50822df', '727d8c9ddb9ce5d6e969bb54405b9f25', '40', 'Airbnb/4.7.0 iPhone/8.1.2', 'iPhone - iOS', '2014-12-17', '2014-12-17 13:47:34', '2014-12-17 14:51:43', '0', '1', '0', 'e0f2042de3aabe8d48da94274d1913e9', '41', 'Mozilla/5.0 (Windows NT 6.1; WOW64) AppleWebKit/537.36 (KHTML, like Gecko) Chrome/39.0.2171.95 Safari/537.36', 'Desktop - Chrome', '2014-12-19', '2014-12-19 11:30:42', '2014-12-19 11:30:57', '0', '0', '0']\n",
      "['ed1329a6-064d-47e9-93bc-93f5a50822df', 'e0c90b32768b3cddb92e9b7c76a9c53e', '41', 'Mozilla/5.0 (Windows NT 6.1; WOW64) AppleWebKit/537.36 (KHTML, like Gecko) Chrome/39.0.2171.95 Safari/537.36', 'Desktop - Chrome', '2014-12-19', '2014-12-19 11:30:42', '2014-12-19 11:30:57', '0', '0', '0', '0357654d783294abf29e225731a7d970', '42', 'Mozilla/5.0 (Windows NT 6.1; WOW64) AppleWebKit/537.36 (KHTML, like Gecko) Chrome/39.0.2171.95 Safari/537.36', 'Desktop - Chrome', '2014-12-24', '2014-12-24 15:51:56', '2014-12-24 15:56:32', '0', '1', '0']\n",
      "['ed1329a6-064d-47e9-93bc-93f5a50822df', '87512aff80fc01ac275ba91b39b9517f', '42', 'Mozilla/5.0 (Windows NT 6.1; WOW64) AppleWebKit/537.36 (KHTML, like Gecko) Chrome/39.0.2171.95 Safari/537.36', 'Desktop - Chrome', '2014-12-24', '2014-12-24 15:51:56', '2014-12-24 15:56:32', '0', '1', '0', 'b1256d5b3aa52e834ba7e8efb882aa21', '43', 'Mozilla/5.0 (Windows NT 6.1; WOW64) AppleWebKit/537.36 (KHTML, like Gecko) Chrome/39.0.2171.95 Safari/537.36', 'Desktop - Chrome', '2014-12-24', '2014-12-24 16:30:33', '2014-12-24 16:30:36', '0', '0', '0']\n",
      "['ed1329a6-064d-47e9-93bc-93f5a50822df', '9679d6939ae18183b3d8d1713d1388ac', '43', 'Mozilla/5.0 (Windows NT 6.1; WOW64) AppleWebKit/537.36 (KHTML, like Gecko) Chrome/39.0.2171.95 Safari/537.36', 'Desktop - Chrome', '2014-12-24', '2014-12-24 16:30:33', '2014-12-24 16:30:36', '0', '0', '0', 'd9cc6b3b7402c292b89072e06d09d8ff', '44', 'Mozilla/5.0 (Windows NT 6.1; WOW64) AppleWebKit/537.36 (KHTML, like Gecko) Chrome/39.0.2171.99 Safari/537.36', 'Desktop - Chrome', '2014-12-27', '2014-12-27 00:02:25', '2014-12-27 00:03:30', '0', '1', '0']\n"
     ]
    },
    {
     "ename": "IndexError",
     "evalue": "list index out of range",
     "output_type": "error",
     "traceback": [
      "\u001b[0;31m---------------------------------------------------------------------------\u001b[0m",
      "\u001b[0;31mIndexError\u001b[0m                                Traceback (most recent call last)",
      "\u001b[1;32m/workspaces/educacionITLA/Programacion IV/dataset.ipynb Celda 5\u001b[0m line \u001b[0;36m2\n\u001b[1;32m      <a href='vscode-notebook-cell://codespaces%2Beffective-pancake-jjxrjp577xx3q59q/workspaces/educacionITLA/Programacion%20IV/dataset.ipynb#W3sdnNjb2RlLXJlbW90ZQ%3D%3D?line=0'>1</a>\u001b[0m \u001b[39mfor\u001b[39;00m i \u001b[39min\u001b[39;00m \u001b[39mrange\u001b[39m(\u001b[39m1000\u001b[39m):\n\u001b[0;32m----> <a href='vscode-notebook-cell://codespaces%2Beffective-pancake-jjxrjp577xx3q59q/workspaces/educacionITLA/Programacion%20IV/dataset.ipynb#W3sdnNjb2RlLXJlbW90ZQ%3D%3D?line=1'>2</a>\u001b[0m     \u001b[39mprint\u001b[39m(elementosFilas[i])\n",
      "\u001b[0;31mIndexError\u001b[0m: list index out of range"
     ]
    }
   ],
   "source": [
    "for i in range(1000):\n",
    "    print(elementosFilas[i])"
   ]
  },
  {
   "cell_type": "code",
   "execution_count": 23,
   "metadata": {},
   "outputs": [],
   "source": [
    "for filas in range(len(elementosFilas)):\n",
    "    for i in range(len(elementosFilas[filas])):\n",
    "        valor = elementosFilas[filas]\n",
    "        for col in range(len(dataset)):\n",
    "           dataset[columnas[col]].append(valor[col])"
   ]
  },
  {
   "cell_type": "code",
   "execution_count": 28,
   "metadata": {},
   "outputs": [],
   "source": [
    "from pandas import DataFrame\n",
    "\n",
    "DataFrame(dataset).to_excel(\"Elemento.xlsx\")"
   ]
  }
 ],
 "metadata": {
  "kernelspec": {
   "display_name": "Python 3",
   "language": "python",
   "name": "python3"
  },
  "language_info": {
   "codemirror_mode": {
    "name": "ipython",
    "version": 3
   },
   "file_extension": ".py",
   "mimetype": "text/x-python",
   "name": "python",
   "nbconvert_exporter": "python",
   "pygments_lexer": "ipython3",
   "version": "3.10.8"
  }
 },
 "nbformat": 4,
 "nbformat_minor": 2
}
