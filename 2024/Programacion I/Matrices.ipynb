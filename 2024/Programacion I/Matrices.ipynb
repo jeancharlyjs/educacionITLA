{
 "cells": [
  {
   "cell_type": "markdown",
   "id": "63135a8a-cc5b-4c29-927c-c9506f4c1662",
   "metadata": {},
   "source": [
    "# Matriz"
   ]
  },
  {
   "cell_type": "code",
   "execution_count": 13,
   "id": "03e4ea65-c45d-4f42-b120-590e44e67bdf",
   "metadata": {},
   "outputs": [],
   "source": [
    "n =  [\n",
    "        [3, 4, 5, 6, 6],\n",
    "        [3, 4, 4, 2, 1],\n",
    "        [0, 0, 0, 0, 0]\n",
    "] #5x3\n",
    "\n",
    "c = []\n",
    "d = 8"
   ]
  },
  {
   "cell_type": "code",
   "execution_count": 14,
   "id": "67122c71-e349-43ca-a18e-ea1bf683552e",
   "metadata": {},
   "outputs": [
    {
     "data": {
      "text/plain": [
       "[[11, 12, 13, 14, 14], [11, 12, 12, 10, 9], [8, 8, 8, 8, 8]]"
      ]
     },
     "execution_count": 14,
     "metadata": {},
     "output_type": "execute_result"
    }
   ],
   "source": [
    "for i in range(len(n)):\n",
    "    # print(n[i])\n",
    "    cc = []\n",
    "    for j in range(len(n[i])):\n",
    "        # print(n[i][j])\n",
    "        valor = n[i][j] + d\n",
    "        cc.append(valor)\n",
    "    c.append(cc)\n",
    "c\n",
    "        "
   ]
  },
  {
   "cell_type": "code",
   "execution_count": 38,
   "id": "6781aa17-bac2-4eb0-bb32-d54cdebc7dc9",
   "metadata": {},
   "outputs": [],
   "source": [
    "n =  [\n",
    "        [3, 4, 5, 6, 6],\n",
    "        [3, 4, 4, 2, 1],\n",
    "        [0, 0, 8, 0, 0]\n",
    "] #5x3\n",
    "\n",
    "c = []\n",
    "d = [[3, 1], [0, 5]]\n",
    "\n",
    "# d * n"
   ]
  },
  {
   "cell_type": "markdown",
   "id": "f38589b8-2dfd-4e6f-9a3c-f1fdadc4c1e4",
   "metadata": {},
   "source": [
    "# $d = \\prod_{i=1}^N\\Pi_{j=1}^{N_i}$\n",
    "# $n = \\Pi_{k=1}^N\\Pi_{m=1}^{N_k}$\n",
    "# $cc = d_{ij} * n_{km}$\n",
    "# $c <- cc$"
   ]
  },
  {
   "cell_type": "code",
   "execution_count": 40,
   "id": "e682f621-9310-4cf1-8235-9913b796416c",
   "metadata": {},
   "outputs": [
    {
     "data": {
      "text/plain": [
       "[[[9, 12, 15, 18, 18], [9, 12, 12, 6, 3], [0, 0, 24, 0, 0]],\n",
       " [[3, 4, 5, 6, 6], [3, 4, 4, 2, 1], [0, 0, 8, 0, 0]],\n",
       " [[0, 0, 0, 0, 0], [0, 0, 0, 0, 0], [0, 0, 0, 0, 0]],\n",
       " [[15, 20, 25, 30, 30], [15, 20, 20, 10, 5], [0, 0, 40, 0, 0]]]"
      ]
     },
     "execution_count": 40,
     "metadata": {},
     "output_type": "execute_result"
    }
   ],
   "source": [
    "c = []\n",
    "for i in range(len(d)):\n",
    "    for j in range(len(d[i])):\n",
    "        ccc = []\n",
    "        for k in range(len(n)):\n",
    "            cc = []\n",
    "            ccc.append(cc)\n",
    "            for m in range(len(n[k])):\n",
    "                valor =  n[k][m] * d[i][j] \n",
    "                cc.append(valor)\n",
    "        c.append(ccc)\n",
    "c"
   ]
  },
  {
   "cell_type": "code",
   "execution_count": null,
   "id": "1bcc00e2-f99e-46f1-b26c-e627c91c61a4",
   "metadata": {},
   "outputs": [],
   "source": [
    "n =  [\n",
    "        [3, 4, 5, 6, 6],\n",
    "        [3, 4, 4, 2, 1],\n",
    "        [0, 0, 0, 0, 0]\n",
    "] #\n",
    "\n",
    "[[3, 1], [0, 5]]"
   ]
  },
  {
   "cell_type": "code",
   "execution_count": null,
   "id": "6ffb8e96-02b8-456e-ab86-16dbf9f3e936",
   "metadata": {},
   "outputs": [],
   "source": []
  }
 ],
 "metadata": {
  "kernelspec": {
   "display_name": "Python 3 (ipykernel)",
   "language": "python",
   "name": "python3"
  },
  "language_info": {
   "codemirror_mode": {
    "name": "ipython",
    "version": 3
   },
   "file_extension": ".py",
   "mimetype": "text/x-python",
   "name": "python",
   "nbconvert_exporter": "python",
   "pygments_lexer": "ipython3",
   "version": "3.11.0"
  }
 },
 "nbformat": 4,
 "nbformat_minor": 5
}
