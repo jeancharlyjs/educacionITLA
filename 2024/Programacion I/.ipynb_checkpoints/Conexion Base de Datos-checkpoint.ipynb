{
 "cells": [
  {
   "cell_type": "markdown",
   "id": "9da9ff00-a972-4b32-bca5-3f06e413eae5",
   "metadata": {},
   "source": [
    "###### Elabora por: Jean Charly Ph. Joseph S."
   ]
  },
  {
   "cell_type": "markdown",
   "id": "4979d22a-2b87-40f9-8d51-8625ac9b1011",
   "metadata": {},
   "source": [
    "# Conexion de Base "
   ]
  },
  {
   "cell_type": "markdown",
   "id": "a2b2365d-6473-4d25-a564-8847a4cdd297",
   "metadata": {},
   "source": [
    "## SQLite"
   ]
  },
  {
   "cell_type": "code",
   "execution_count": 1,
   "id": "0f494ecd-ffdd-44c1-a1eb-284f47954f83",
   "metadata": {},
   "outputs": [],
   "source": [
    "import sqlite3 as s"
   ]
  },
  {
   "cell_type": "code",
   "execution_count": 2,
   "id": "3f1cf7f6-edef-4909-8c4e-f7f014215647",
   "metadata": {},
   "outputs": [],
   "source": [
    "#Pythonista\n",
    "with open(\"PruebaDB1.db\", \"w\", encoding=\"UTF-8\") as f:\n",
    "    f.close()\n",
    "    \n",
    "#Liberria\n",
    "conn = s.connect(\"PruebaDB1.db\")"
   ]
  },
  {
   "cell_type": "code",
   "execution_count": 3,
   "id": "1ba8386c-9da2-4edf-abcc-19f7d8503b50",
   "metadata": {},
   "outputs": [],
   "source": [
    "cursor = conn.cursor()"
   ]
  },
  {
   "cell_type": "code",
   "execution_count": 4,
   "id": "9a7c054b-1155-40af-95fe-57ea9cc6a3b4",
   "metadata": {},
   "outputs": [
    {
     "data": {
      "text/plain": [
       "<sqlite3.Cursor at 0x1b8da1ef640>"
      ]
     },
     "execution_count": 4,
     "metadata": {},
     "output_type": "execute_result"
    }
   ],
   "source": [
    "cursor.execute(\"\"\"CREATE TABLE estudiantes(\n",
    "            id INTEGER  PRIMARY KEY AUTOINCREMENT,\n",
    "            nombre VARCHAR(50), \n",
    "            apellidos VARCHAR(75), \n",
    "            edad REAL, \n",
    "            sexo VARCHAR(10))\"\"\")"
   ]
  },
  {
   "cell_type": "code",
   "execution_count": 7,
   "id": "c24bb245-8ed4-4803-a3a9-d0b7e0f85f31",
   "metadata": {},
   "outputs": [],
   "source": [
    "conn.commit()"
   ]
  },
  {
   "cell_type": "code",
   "execution_count": 5,
   "id": "b9f87240-d692-4d30-af61-e7b67af319c1",
   "metadata": {},
   "outputs": [],
   "source": [
    "listaRegistro = [\n",
    "    (1, \"Jean Charly\", \"Joseph\", 32, \"Masculino\"),\n",
    "    (2, \"Nikola\", \"Tesla\", 30, \"Masculino\"),\n",
    "    (3, \"Marie\", \"Curie\", 20, \"Femenino\"),\n",
    "    (4, \"Hipatia\", \"De Alejandria\", 18, \"Femenino\")\n",
    "]"
   ]
  },
  {
   "cell_type": "code",
   "execution_count": 6,
   "id": "aab5b817-9c5e-4d7f-b0bb-93b0b68deff6",
   "metadata": {},
   "outputs": [
    {
     "data": {
      "text/plain": [
       "<sqlite3.Cursor at 0x1b8da1ef640>"
      ]
     },
     "execution_count": 6,
     "metadata": {},
     "output_type": "execute_result"
    }
   ],
   "source": [
    "cursor.executemany(\"\"\"INSERT INTO estudiantes VALUES(?, ?, ?, ?, ?)\"\"\", listaRegistro)"
   ]
  },
  {
   "cell_type": "code",
   "execution_count": 7,
   "id": "3effe746-0840-425f-a7d2-4b5c9351efcc",
   "metadata": {},
   "outputs": [],
   "source": [
    "conn.commit()"
   ]
  },
  {
   "cell_type": "code",
   "execution_count": 16,
   "id": "630d71ee-aecd-404e-a9b6-de0344a516e0",
   "metadata": {},
   "outputs": [],
   "source": [
    "class Estudiante:\n",
    "    def __init__(self, ids, nombre, apellido, edad, sexo):\n",
    "        self.ids = None\n",
    "        self.nombre = nombre\n",
    "        self.apellido = apellido\n",
    "        self.edad = edad\n",
    "        self.sexo = sexo\n",
    "    def CambiarSexo(self):\n",
    "        if self.sexo == 1:\n",
    "            self.sexo = \"Femenino\"\n",
    "        else:\n",
    "            self.sexo = \"Masculino\"\n",
    "        return self.sexo\n",
    "    def save(self):\n",
    "        import os\n",
    "        import sqlite3 as s\n",
    "        FILE = input(\"Ingrese la base de datos: \")\n",
    "        if not os.path.exists(FILE+\".db\"):\n",
    "            with open(\"PruebaDB.db\", 'w', encoding=\"UTF-8\") as f:\n",
    "                f.close()\n",
    "            conn = s.connect(FILE+'.db')\n",
    "            curso = conn.cursor()\n",
    "            cursor.execute(\"\"\"CREATE TABLE estudiantes(\n",
    "                            id INTEGER  PRIMARY KEY AUTOINCREMENT,\n",
    "                            nombre VARCHAR(50), \n",
    "                            apellidos VARCHAR(75), \n",
    "                            edad REAL, \n",
    "                            sexo VARCHAR(10))\"\"\")\n",
    "        else:\n",
    "            REGISTRO = (self.ids, self.nombre, self.apellido, self.edad, self.sexo)\n",
    "            conn = s.connect(FILE+\".db\")\n",
    "            curso = conn.cursor()\n",
    "            curso.execute(\"\"\"INSERT INTO estudiantes VALUES(?, ?, ?, ?, ?)\"\"\", REGISTRO)\n",
    "            conn.commit()\n",
    "            return \"%s ha sido registrado satisfactoriamente!!! :)\"%self.nombre\n",
    "            \n",
    "        "
   ]
  },
  {
   "cell_type": "code",
   "execution_count": 17,
   "id": "abe380fb-d8cf-4bfd-a8a5-3c2eca1f7e3a",
   "metadata": {},
   "outputs": [],
   "source": [
    "ids = 5"
   ]
  },
  {
   "cell_type": "code",
   "execution_count": 21,
   "id": "fb66dc32-0e17-407e-b393-6f42014a8395",
   "metadata": {},
   "outputs": [],
   "source": [
    "e1 = Estudiante(ids, \"Carl F.\", \"Gauss\", 3182, 0)\n",
    "ids += 1"
   ]
  },
  {
   "cell_type": "code",
   "execution_count": 22,
   "id": "7faa3ec3-a514-469b-ba6c-0f495c1c8a1f",
   "metadata": {},
   "outputs": [
    {
     "data": {
      "text/plain": [
       "'Masculino'"
      ]
     },
     "execution_count": 22,
     "metadata": {},
     "output_type": "execute_result"
    }
   ],
   "source": [
    "e1.CambiarSexo()"
   ]
  },
  {
   "cell_type": "code",
   "execution_count": null,
   "id": "aa01d34b-91c2-4c65-b313-02f5e7fe8fe5",
   "metadata": {},
   "outputs": [],
   "source": [
    "e1.save()"
   ]
  },
  {
   "cell_type": "code",
   "execution_count": null,
   "id": "b11d03bf-9120-46bd-9238-56417dc757df",
   "metadata": {},
   "outputs": [],
   "source": []
  },
  {
   "cell_type": "markdown",
   "id": "6d34a3ed-572c-4a42-aee1-c1e0c0e37b31",
   "metadata": {},
   "source": [
    "# PostgreSQL"
   ]
  },
  {
   "cell_type": "code",
   "execution_count": 29,
   "id": "c6baa5da-8f14-4c54-97f4-42c2674954fd",
   "metadata": {},
   "outputs": [],
   "source": [
    "import psycopg2 as pgsql\n",
    "import os"
   ]
  },
  {
   "cell_type": "code",
   "execution_count": 110,
   "id": "eaa2c975-454a-47f4-b908-046a3a6d1959",
   "metadata": {},
   "outputs": [],
   "source": [
    "conn = pgsql.connect(\n",
    "                host=\"localhost\",\n",
    "                port=5432,\n",
    "                database=\"dvdrental\",\n",
    "                user=\"postgres\",\n",
    "                password=os.environ[\"PASSWORD\"] #Estoy utilizando una varaible de entorno\n",
    ")"
   ]
  },
  {
   "cell_type": "markdown",
   "id": "f107d0b1-3456-4d05-a42f-ccb50c6c6fa1",
   "metadata": {},
   "source": [
    "#### Crear el Cursor"
   ]
  },
  {
   "cell_type": "code",
   "execution_count": 111,
   "id": "72471b9b-00b5-45ff-a618-88a1d45e40c3",
   "metadata": {},
   "outputs": [],
   "source": [
    "cursor = conn.cursor()"
   ]
  },
  {
   "cell_type": "markdown",
   "id": "8d0b5932-1bc7-4372-8213-b01f6ea167af",
   "metadata": {},
   "source": [
    "#### Cunsulta a Base de Datos"
   ]
  },
  {
   "cell_type": "code",
   "execution_count": 147,
   "id": "7d878e0c-0932-4e33-873e-e2f10e4d8d0e",
   "metadata": {},
   "outputs": [],
   "source": [
    "cursor.execute(\"SELECT * FROM actor\")\n",
    "for i in cursor.fetchall():\n",
    "    print(i)"
   ]
  },
  {
   "cell_type": "code",
   "execution_count": null,
   "id": "d4fadca8-fdef-4fe6-ad29-8a01f5e6df66",
   "metadata": {},
   "outputs": [],
   "source": [
    "existentes = cursor.fetchmany()"
   ]
  },
  {
   "cell_type": "code",
   "execution_count": 119,
   "id": "0fd942ff-feba-42e9-b654-73d244ac4308",
   "metadata": {},
   "outputs": [],
   "source": [
    "from datetime import datetime"
   ]
  },
  {
   "cell_type": "code",
   "execution_count": 125,
   "id": "dd7c2d80-6b78-4f33-b7ef-c37bc99ae14f",
   "metadata": {},
   "outputs": [],
   "source": [
    "fecha = datetime.now()"
   ]
  },
  {
   "cell_type": "code",
   "execution_count": 130,
   "id": "cbed4455-eef3-471b-a704-bd03364fb2a9",
   "metadata": {},
   "outputs": [
    {
     "data": {
      "text/plain": [
       "'15/03/2023'"
      ]
     },
     "execution_count": 130,
     "metadata": {},
     "output_type": "execute_result"
    }
   ],
   "source": [
    "fecha.strftime(\"%d/%m/%Y\")"
   ]
  },
  {
   "cell_type": "code",
   "execution_count": 136,
   "id": "c347bef3-875e-4274-9d1d-9f701c7f64d7",
   "metadata": {},
   "outputs": [
    {
     "data": {
      "text/plain": [
       "'03-15-2023 09H:23:21'"
      ]
     },
     "execution_count": 136,
     "metadata": {},
     "output_type": "execute_result"
    }
   ],
   "source": [
    "fecha.strftime(\"%m-%d-%Y %H:%M:%S\")"
   ]
  }
 ],
 "metadata": {
  "kernelspec": {
   "display_name": "Python 3 (ipykernel)",
   "language": "python",
   "name": "python3"
  },
  "language_info": {
   "codemirror_mode": {
    "name": "ipython",
    "version": 3
   },
   "file_extension": ".py",
   "mimetype": "text/x-python",
   "name": "python",
   "nbconvert_exporter": "python",
   "pygments_lexer": "ipython3",
   "version": "3.11.0"
  }
 },
 "nbformat": 4,
 "nbformat_minor": 5
}
