{
 "cells": [
  {
   "cell_type": "markdown",
   "id": "2afb4bd0-c00b-4427-bbd4-9b8ec7139158",
   "metadata": {},
   "source": [
    "# Estrucutras de Datos\n",
    "\n",
    " - Lista [] - Mutable\n",
    " - Tuple () - Inmutable\n",
    " - Diccionario {} - Mutable\n",
    " - Conjuntos ({}) - Inmutable"
   ]
  },
  {
   "cell_type": "markdown",
   "id": "6e0fb3e4-0508-494f-bcc6-09606bfe42f4",
   "metadata": {},
   "source": [
    "## Lista"
   ]
  },
  {
   "cell_type": "code",
   "execution_count": 26,
   "id": "8a773e33-7d7f-47d0-972a-a1aba0d34857",
   "metadata": {},
   "outputs": [
    {
     "data": {
      "text/plain": [
       "['Jean Charly', 'Joseph', 32, False, 3.14, 4j]"
      ]
     },
     "execution_count": 26,
     "metadata": {},
     "output_type": "execute_result"
    }
   ],
   "source": [
    "elemento = [\"Jean Charly\", \"Joseph\", 32, False, 3.14, 4j]\n",
    "elemento"
   ]
  },
  {
   "cell_type": "code",
   "execution_count": 4,
   "id": "a3aa222c-0c3f-47ff-b95b-ffed3766d22d",
   "metadata": {},
   "outputs": [
    {
     "data": {
      "text/plain": [
       "list"
      ]
     },
     "execution_count": 4,
     "metadata": {},
     "output_type": "execute_result"
    }
   ],
   "source": [
    "type(elemento)"
   ]
  },
  {
   "cell_type": "code",
   "execution_count": 6,
   "id": "60457c46-a4b0-4a23-8e13-616dcab8b835",
   "metadata": {},
   "outputs": [
    {
     "data": {
      "text/plain": [
       "'Jean Charly'"
      ]
     },
     "execution_count": 6,
     "metadata": {},
     "output_type": "execute_result"
    }
   ],
   "source": [
    "elemento[0]"
   ]
  },
  {
   "cell_type": "code",
   "execution_count": 8,
   "id": "a270039e-da01-49b0-aa82-4accdee29ac7",
   "metadata": {},
   "outputs": [
    {
     "data": {
      "text/plain": [
       "4j"
      ]
     },
     "execution_count": 8,
     "metadata": {},
     "output_type": "execute_result"
    }
   ],
   "source": [
    "elemento[-1]"
   ]
  },
  {
   "cell_type": "code",
   "execution_count": 9,
   "id": "efdd019e-14b0-4024-85d8-6665d488574f",
   "metadata": {},
   "outputs": [],
   "source": [
    "elemento[0] = \"Nikola Tesla\""
   ]
  },
  {
   "cell_type": "code",
   "execution_count": 11,
   "id": "7bed26fd-d111-4648-b435-0eec65c164e7",
   "metadata": {},
   "outputs": [
    {
     "data": {
      "text/plain": [
       "['Nikola Tesla', 'Joseph', 32, False, 3.14, 4j]"
      ]
     },
     "execution_count": 11,
     "metadata": {},
     "output_type": "execute_result"
    }
   ],
   "source": [
    "elemento"
   ]
  },
  {
   "cell_type": "code",
   "execution_count": 14,
   "id": "b10cfbd2-516a-4252-95e7-c78ffe977f5c",
   "metadata": {},
   "outputs": [
    {
     "data": {
      "text/plain": [
       "['Nikola Tesla', 'Joseph']"
      ]
     },
     "execution_count": 14,
     "metadata": {},
     "output_type": "execute_result"
    }
   ],
   "source": [
    "elemento[0:2]"
   ]
  },
  {
   "cell_type": "code",
   "execution_count": 16,
   "id": "0273940a-b27f-4be5-ae12-46575a7b670b",
   "metadata": {},
   "outputs": [],
   "source": [
    "elemento[0:3] = \"Hola\""
   ]
  },
  {
   "cell_type": "code",
   "execution_count": 18,
   "id": "5eec48ed-f62f-414a-9ea5-62299ce50675",
   "metadata": {},
   "outputs": [],
   "source": [
    "elemento[0:3] = \"Prueba\""
   ]
  },
  {
   "cell_type": "code",
   "execution_count": 20,
   "id": "76232f8b-c9de-4296-a4d4-c766f54f9ca5",
   "metadata": {},
   "outputs": [
    {
     "data": {
      "text/plain": [
       "['P', 'r', 'u', 'e', 'b', 'a', 'a', 'a', False, 3.14, 4j]"
      ]
     },
     "execution_count": 20,
     "metadata": {},
     "output_type": "execute_result"
    }
   ],
   "source": [
    "elemento"
   ]
  },
  {
   "cell_type": "code",
   "execution_count": 24,
   "id": "d2127522-e2bb-48ee-bf01-56b59d7435f6",
   "metadata": {},
   "outputs": [],
   "source": [
    "elemento[0:7] = \"Gaussss\""
   ]
  },
  {
   "cell_type": "code",
   "execution_count": 28,
   "id": "bfd181f1-7c04-41fb-83e1-cfd2e67e4e70",
   "metadata": {},
   "outputs": [
    {
     "data": {
      "text/plain": [
       "['Jean Charly', 'Joseph', 32, False, 3.14, 4j]"
      ]
     },
     "execution_count": 28,
     "metadata": {},
     "output_type": "execute_result"
    }
   ],
   "source": [
    "elemento"
   ]
  },
  {
   "cell_type": "markdown",
   "id": "ce8e7f10-b5f7-4394-96dc-56ae0cc628fc",
   "metadata": {},
   "source": [
    "# Vectores"
   ]
  },
  {
   "cell_type": "code",
   "execution_count": 29,
   "id": "bee7559a-f302-4b73-bb43-941e5b3e8fa7",
   "metadata": {},
   "outputs": [],
   "source": [
    "elemento1 = [1, 2, 23, 4, 5]"
   ]
  },
  {
   "cell_type": "markdown",
   "id": "e71be30c-db25-499f-a223-d82bf68c2af6",
   "metadata": {},
   "source": [
    "# Matriz"
   ]
  },
  {
   "cell_type": "code",
   "execution_count": 30,
   "id": "2ef7a007-e435-45f1-85ef-b81d71904732",
   "metadata": {},
   "outputs": [],
   "source": [
    "elemento2 = [[1, 3, 4], [1, 4, 5], [1, 2, 3]]"
   ]
  },
  {
   "cell_type": "code",
   "execution_count": 31,
   "id": "41ab8438-fa2a-475f-b50a-3fe2922ccb01",
   "metadata": {},
   "outputs": [
    {
     "data": {
      "text/plain": [
       "[[1, 3, 4], [1, 4, 5], [1, 2, 3]]"
      ]
     },
     "execution_count": 31,
     "metadata": {},
     "output_type": "execute_result"
    }
   ],
   "source": [
    "elemento2"
   ]
  },
  {
   "cell_type": "code",
   "execution_count": 47,
   "id": "8ff1fb09-8574-4f92-8e96-297139a96252",
   "metadata": {},
   "outputs": [
    {
     "data": {
      "text/plain": [
       "3"
      ]
     },
     "execution_count": 47,
     "metadata": {},
     "output_type": "execute_result"
    }
   ],
   "source": [
    "elemento2[-1][2]"
   ]
  },
  {
   "cell_type": "markdown",
   "id": "2d83723b-81a2-4eb9-918c-4eff4eee3a43",
   "metadata": {},
   "source": [
    "# Tuplas"
   ]
  },
  {
   "cell_type": "code",
   "execution_count": 48,
   "id": "4aedebef-8050-4ed6-adb2-c51af4c436ea",
   "metadata": {},
   "outputs": [],
   "source": [
    "elementoTupla = tuple(elemento)"
   ]
  },
  {
   "cell_type": "code",
   "execution_count": 50,
   "id": "a465d3a5-17b1-405b-9a49-51eaaf6420e0",
   "metadata": {},
   "outputs": [
    {
     "data": {
      "text/plain": [
       "('Jean Charly', 'Joseph', 32, False, 3.14, 4j)"
      ]
     },
     "execution_count": 50,
     "metadata": {},
     "output_type": "execute_result"
    }
   ],
   "source": [
    "elementoTupla"
   ]
  },
  {
   "cell_type": "code",
   "execution_count": 52,
   "id": "2a7847f8-9218-42aa-a758-5fd1343b3105",
   "metadata": {},
   "outputs": [
    {
     "data": {
      "text/plain": [
       "'Jean Charly'"
      ]
     },
     "execution_count": 52,
     "metadata": {},
     "output_type": "execute_result"
    }
   ],
   "source": [
    "elementoTupla[0]"
   ]
  },
  {
   "cell_type": "code",
   "execution_count": 53,
   "id": "4a47f756-de6e-42b6-b6d0-d89bae1bf68a",
   "metadata": {},
   "outputs": [
    {
     "ename": "TypeError",
     "evalue": "'tuple' object does not support item assignment",
     "output_type": "error",
     "traceback": [
      "\u001b[1;31m---------------------------------------------------------------------------\u001b[0m",
      "\u001b[1;31mTypeError\u001b[0m                                 Traceback (most recent call last)",
      "Cell \u001b[1;32mIn [53], line 1\u001b[0m\n\u001b[1;32m----> 1\u001b[0m \u001b[43melementoTupla\u001b[49m\u001b[43m[\u001b[49m\u001b[38;5;241;43m0\u001b[39;49m\u001b[43m]\u001b[49m \u001b[38;5;241m=\u001b[39m \u001b[38;5;124m\"\u001b[39m\u001b[38;5;124mNikola Tesla\u001b[39m\u001b[38;5;124m\"\u001b[39m\n",
      "\u001b[1;31mTypeError\u001b[0m: 'tuple' object does not support item assignment"
     ]
    }
   ],
   "source": [
    "elementoTupla[0] = \"Nikola Tesla\""
   ]
  },
  {
   "cell_type": "code",
   "execution_count": 54,
   "id": "647200c7-377b-4fab-9c01-4b469f314a83",
   "metadata": {},
   "outputs": [],
   "source": [
    "elementoTupla2 = ('Jean Charly', 'Joseph', 32, False, 3.14, 4j, [])"
   ]
  },
  {
   "cell_type": "code",
   "execution_count": 56,
   "id": "d1c73334-a143-4a24-9127-0a3e86f09f24",
   "metadata": {},
   "outputs": [],
   "source": [
    "elementoTupla2[-1].append(\"Marie\")"
   ]
  },
  {
   "cell_type": "code",
   "execution_count": 57,
   "id": "41593571-6639-4519-8092-0483c7fb7e4f",
   "metadata": {},
   "outputs": [
    {
     "data": {
      "text/plain": [
       "('Jean Charly', 'Joseph', 32, False, 3.14, 4j, ['Marie'])"
      ]
     },
     "execution_count": 57,
     "metadata": {},
     "output_type": "execute_result"
    }
   ],
   "source": [
    "elementoTupla2"
   ]
  },
  {
   "cell_type": "code",
   "execution_count": 62,
   "id": "fc22159c-73d3-47e5-ab0a-0102649717f5",
   "metadata": {},
   "outputs": [
    {
     "name": "stdin",
     "output_type": "stream",
     "text": [
      "Ingrese una pass:  Jean\n"
     ]
    },
    {
     "name": "stdout",
     "output_type": "stream",
     "text": [
      "Haz utilizado esta pass\n"
     ]
    }
   ],
   "source": [
    "pass_ = input(\"Ingrese una pass: \")\n",
    "\n",
    "if pass_ in elementoTupla2[-1]:\n",
    "    print(\"Haz utilizado esta pass\")\n",
    "    \n",
    "else:\n",
    "    print(\"Excelente, nueva pass\")\n",
    "    elementoTupla2[-1].append(pass_)"
   ]
  },
  {
   "cell_type": "markdown",
   "id": "6ed510e1-f096-448f-aaf4-52333b3ef8ef",
   "metadata": {},
   "source": [
    "# Diccionario\n",
    "\n",
    "## Key : Value -> { }\n",
    "### {key: value)"
   ]
  },
  {
   "cell_type": "code",
   "execution_count": 64,
   "id": "86e848e2-0645-4ef2-b213-1280dfc4f906",
   "metadata": {},
   "outputs": [],
   "source": [
    "elementoDicc = {\"Nombre\": \"Jean Charly\", \"Apellido\": \"Joseph\", \"Edad\": 32, \"Sexo\": False}"
   ]
  },
  {
   "cell_type": "code",
   "execution_count": 65,
   "id": "1839bd02-acf5-4388-9051-f7ec93a186c3",
   "metadata": {},
   "outputs": [
    {
     "data": {
      "text/plain": [
       "{'Nombre': 'Jean Charly', 'Apellido': 'Joseph', 'Edad': 32, 'Sexo': False}"
      ]
     },
     "execution_count": 65,
     "metadata": {},
     "output_type": "execute_result"
    }
   ],
   "source": [
    "elementoDicc"
   ]
  },
  {
   "cell_type": "code",
   "execution_count": 66,
   "id": "36f14f49-a374-4638-99d3-ba85b7143d79",
   "metadata": {},
   "outputs": [
    {
     "data": {
      "text/plain": [
       "'Jean Charly'"
      ]
     },
     "execution_count": 66,
     "metadata": {},
     "output_type": "execute_result"
    }
   ],
   "source": [
    "elementoDicc['Nombre']"
   ]
  },
  {
   "cell_type": "code",
   "execution_count": 67,
   "id": "1337db4c-a8b6-4096-8eac-3c8e2d1b177d",
   "metadata": {},
   "outputs": [
    {
     "data": {
      "text/plain": [
       "32"
      ]
     },
     "execution_count": 67,
     "metadata": {},
     "output_type": "execute_result"
    }
   ],
   "source": [
    "elementoDicc[\"Edad\"]"
   ]
  },
  {
   "cell_type": "code",
   "execution_count": 69,
   "id": "c0174916-5435-4d5c-8a4e-550611e236d6",
   "metadata": {},
   "outputs": [],
   "source": [
    "columnas = [\"Nombres\", \"Apellidos\", \"Edad\", \"Sexo\"]\n",
    "\n",
    "elementoDicc1 = {}\n",
    "for i in range(len(columnas)):\n",
    "    elementoDicc1[columnas[i]] = []\n",
    "    "
   ]
  },
  {
   "cell_type": "code",
   "execution_count": 71,
   "id": "da75ac46-14b5-4ade-aa8c-478cee0f4b19",
   "metadata": {},
   "outputs": [],
   "source": [
    "elementoDicc1\n",
    "elementoDicc1[\"Nombres\"].append(\"Jean Charly\")"
   ]
  },
  {
   "cell_type": "code",
   "execution_count": 73,
   "id": "a53557a8-5a2e-460e-abdb-efe6e10be9d6",
   "metadata": {},
   "outputs": [
    {
     "data": {
      "text/plain": [
       "{'Nombres': ['Jean Charly'], 'Apellidos': [], 'Edad': [], 'Sexo': []}"
      ]
     },
     "execution_count": 73,
     "metadata": {},
     "output_type": "execute_result"
    }
   ],
   "source": [
    "elementoDicc1"
   ]
  },
  {
   "cell_type": "code",
   "execution_count": 74,
   "id": "b0764a10-01e2-48e5-ac77-05fa49baae47",
   "metadata": {},
   "outputs": [],
   "source": [
    "elementoDicc2 = {\"Nombres\": [], \"Apellidos\": [], \"Edad\": [], \"Sexo\":[]}"
   ]
  },
  {
   "cell_type": "markdown",
   "id": "3b76de27-9f1e-4169-8c06-640836bbe201",
   "metadata": {},
   "source": [
    "# Conjuntos - Set \n",
    "## ({})"
   ]
  },
  {
   "cell_type": "code",
   "execution_count": 75,
   "id": "1c58e34f-cb7e-4a55-97c2-1ac85b3e0a64",
   "metadata": {},
   "outputs": [],
   "source": [
    "A = ({1, 2, 3, 3, 5})\n",
    "B = ({1, 5, 9, 8})\n",
    "C = ({3, 5,  22})"
   ]
  },
  {
   "cell_type": "code",
   "execution_count": 79,
   "id": "2290af1b-a9af-453c-bf15-b4da115898ea",
   "metadata": {},
   "outputs": [
    {
     "data": {
      "text/plain": [
       "{3, 5, 22}"
      ]
     },
     "execution_count": 79,
     "metadata": {},
     "output_type": "execute_result"
    }
   ],
   "source": [
    "C"
   ]
  },
  {
   "cell_type": "code",
   "execution_count": 83,
   "id": "565e5921-8294-498d-8b1b-e96c1dfd6305",
   "metadata": {},
   "outputs": [],
   "source": [
    "d = A.union(B)"
   ]
  },
  {
   "cell_type": "code",
   "execution_count": 89,
   "id": "600bd1ea-d375-48ff-a2e0-e2bd7fdb71a5",
   "metadata": {},
   "outputs": [],
   "source": [
    "elemento3 = list(d.union(C))"
   ]
  },
  {
   "cell_type": "code",
   "execution_count": 90,
   "id": "03baabf1-53a5-4e9d-9c4c-3aae116e1cd5",
   "metadata": {},
   "outputs": [
    {
     "data": {
      "text/plain": [
       "[1, 2, 3, 5, 8, 9, 22]"
      ]
     },
     "execution_count": 90,
     "metadata": {},
     "output_type": "execute_result"
    }
   ],
   "source": [
    "elemento3"
   ]
  },
  {
   "cell_type": "code",
   "execution_count": 91,
   "id": "fd92f72b-ac31-4000-9473-2303f401a703",
   "metadata": {},
   "outputs": [],
   "source": [
    "db = {}\n",
    "for i in range(len(elemento3)):\n",
    "    db[elemento3[i]] = []"
   ]
  },
  {
   "cell_type": "code",
   "execution_count": 92,
   "id": "ada87cc3-9a5e-4b94-97f9-2a1d4551ab6b",
   "metadata": {},
   "outputs": [
    {
     "data": {
      "text/plain": [
       "{1: [], 2: [], 3: [], 5: [], 8: [], 9: [], 22: []}"
      ]
     },
     "execution_count": 92,
     "metadata": {},
     "output_type": "execute_result"
    }
   ],
   "source": [
    "db"
   ]
  },
  {
   "cell_type": "markdown",
   "id": "9f603a96-616c-406f-ba2b-c78d9d1cc1e8",
   "metadata": {},
   "source": [
    "# Matrices"
   ]
  },
  {
   "cell_type": "code",
   "execution_count": 33,
   "id": "6f41d689-d3ff-4a3e-b56c-658a76f375ee",
   "metadata": {},
   "outputs": [],
   "source": [
    "a = [\n",
    "        [1, 5, 2, 5],\n",
    "        [0, 0, 0, 0],\n",
    "        [2, 4, 5, 1,],\n",
    "]\n",
    "\n",
    "b = [[2, 3], [4, 5]]"
   ]
  },
  {
   "cell_type": "code",
   "execution_count": 9,
   "id": "da5a48ff-69b9-4e34-bf64-d959f3afd24d",
   "metadata": {},
   "outputs": [
    {
     "data": {
      "text/plain": [
       "[[0, 0, 0, 0], [2, 4, 5, 1]]"
      ]
     },
     "execution_count": 9,
     "metadata": {},
     "output_type": "execute_result"
    }
   ],
   "source": [
    "a[0:][1:3]"
   ]
  },
  {
   "cell_type": "code",
   "execution_count": 32,
   "id": "8e0efe87-da9b-4216-a3fd-1da8ac2c65f3",
   "metadata": {},
   "outputs": [
    {
     "data": {
      "text/plain": [
       "[[1, 5, 2, 5], [0, 0, 0, 0], [2, 4, 5, 1]]"
      ]
     },
     "execution_count": 32,
     "metadata": {},
     "output_type": "execute_result"
    }
   ],
   "source": [
    "a "
   ]
  },
  {
   "cell_type": "code",
   "execution_count": 35,
   "id": "15eabb58-3326-4c25-8ab8-41acb9f75e29",
   "metadata": {},
   "outputs": [],
   "source": [
    "# valor = []\n",
    "# for i in range(len(a)):\n",
    "#     valor1 = []\n",
    "#     for j in range(len(a[i])):\n",
    "#         valor1.append(a[i][j]*b)\n",
    "#     valor.append(valor1)\n",
    "# valor"
   ]
  },
  {
   "cell_type": "code",
   "execution_count": 36,
   "id": "5496d10a-ad56-4fb3-abe6-3e5defb1b8f7",
   "metadata": {},
   "outputs": [],
   "source": [
    "a = [\n",
    "        [1, 5, 2, 5],\n",
    "        [0, 0, 0, 0],\n",
    "        [2, 4, 5, 1,],\n",
    "]\n",
    "\n",
    "b = [[2, 3], [4, 5]]"
   ]
  },
  {
   "cell_type": "code",
   "execution_count": 43,
   "id": "bee57506-fd0a-45f5-95c5-a5b6a4643956",
   "metadata": {},
   "outputs": [
    {
     "data": {
      "text/plain": [
       "[[2, 10, 4, 10],\n",
       " [0, 0, 0, 0],\n",
       " [4, 8, 10, 2],\n",
       " [3, 15, 6, 15],\n",
       " [0, 0, 0, 0],\n",
       " [6, 12, 15, 3],\n",
       " [4, 20, 8, 20],\n",
       " [0, 0, 0, 0],\n",
       " [8, 16, 20, 4],\n",
       " [5, 25, 10, 25],\n",
       " [0, 0, 0, 0],\n",
       " [10, 20, 25, 5]]"
      ]
     },
     "execution_count": 43,
     "metadata": {},
     "output_type": "execute_result"
    }
   ],
   "source": [
    "valor = []\n",
    "for i in range(len(b)):\n",
    "    for j in range(len(b[i])):\n",
    "        for m in range(len(a)):\n",
    "            valor1 = []\n",
    "            for n in range(len(a[m])):\n",
    "                c = a[m][n] * b[i][j]\n",
    "                valor1.append(c)\n",
    "            valor.append(valor1)\n",
    "valor"
   ]
  }
 ],
 "metadata": {
  "kernelspec": {
   "display_name": "Python 3 (ipykernel)",
   "language": "python",
   "name": "python3"
  },
  "language_info": {
   "codemirror_mode": {
    "name": "ipython",
    "version": 3
   },
   "file_extension": ".py",
   "mimetype": "text/x-python",
   "name": "python",
   "nbconvert_exporter": "python",
   "pygments_lexer": "ipython3",
   "version": "3.11.0"
  }
 },
 "nbformat": 4,
 "nbformat_minor": 5
}
