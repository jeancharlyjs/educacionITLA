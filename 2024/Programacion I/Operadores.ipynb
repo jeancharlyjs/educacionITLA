{
 "cells": [
  {
   "cell_type": "markdown",
   "id": "1d0ba460-38a5-41a8-bf7a-ccb810197358",
   "metadata": {},
   "source": [
    "# Operadores Aritmeticos\n",
    "Esta se encarga de realizar operaciones aritmeticas de cara a valores numericos, ya sea enteros, flotante y complejos.\n",
    "\n",
    "- Suma -> + _Cuando es un String este se concatena_\n",
    "- Resta -> -\n",
    "- Multiplicacion -> *\n",
    "- Division -> /\n",
    "- Modulo -> // %\n",
    "- Exponente -> **\n"
   ]
  },
  {
   "cell_type": "code",
   "execution_count": 2,
   "id": "1cec3bb3-3fc7-46cd-bf4b-0aba3e4a3184",
   "metadata": {},
   "outputs": [
    {
     "name": "stdin",
     "output_type": "stream",
     "text": [
      "Ingrese un valor:  25\n",
      "Ingrese otro valor:  25\n"
     ]
    }
   ],
   "source": [
    "# String\n",
    "#Signo +, -\n",
    "n1 = input(\"Ingrese un valor: \")\n",
    "n2 = input(\"Ingrese otro valor: \")\n",
    "resultado = n1 + n2\n"
   ]
  },
  {
   "cell_type": "code",
   "execution_count": 3,
   "id": "f6f926ca-eed3-4c2c-bb1b-f235eecce3e2",
   "metadata": {},
   "outputs": [
    {
     "data": {
      "text/plain": [
       "'2525'"
      ]
     },
     "execution_count": 3,
     "metadata": {},
     "output_type": "execute_result"
    }
   ],
   "source": [
    "resultado"
   ]
  },
  {
   "cell_type": "code",
   "execution_count": 5,
   "id": "937900fb-50aa-4657-84e3-8a89f394393d",
   "metadata": {},
   "outputs": [
    {
     "data": {
      "text/plain": [
       "'Hola estudiante Hola estudiante '"
      ]
     },
     "execution_count": 5,
     "metadata": {},
     "output_type": "execute_result"
    }
   ],
   "source": [
    "# String\n",
    "# *, /\n",
    "\"Hola estudiante \" * 2 #Multplicar los string\n",
    "# \"Hola estudiante \" / 2 #ERROR"
   ]
  },
  {
   "cell_type": "code",
   "execution_count": 6,
   "id": "e0d4f497-0c55-42b3-839d-4c866b95f3a9",
   "metadata": {},
   "outputs": [
    {
     "data": {
      "text/plain": [
       "(1+4j)"
      ]
     },
     "execution_count": 6,
     "metadata": {},
     "output_type": "execute_result"
    }
   ],
   "source": [
    "# Numerico\n",
    "\n",
    "2 + 4j - True"
   ]
  },
  {
   "cell_type": "code",
   "execution_count": 7,
   "id": "27aad2c1-9450-431e-a623-52b7c90f462b",
   "metadata": {},
   "outputs": [
    {
     "data": {
      "text/plain": [
       "6"
      ]
     },
     "execution_count": 7,
     "metadata": {},
     "output_type": "execute_result"
    }
   ],
   "source": [
    "2 + 4"
   ]
  },
  {
   "cell_type": "code",
   "execution_count": 8,
   "id": "3073b873-2bd8-4b21-9f68-12661bdd8f3c",
   "metadata": {},
   "outputs": [
    {
     "data": {
      "text/plain": [
       "-1"
      ]
     },
     "execution_count": 8,
     "metadata": {},
     "output_type": "execute_result"
    }
   ],
   "source": [
    "4 - 5"
   ]
  },
  {
   "cell_type": "code",
   "execution_count": 9,
   "id": "ef2fea1d-35ab-4285-ae6c-946a880ac8d8",
   "metadata": {},
   "outputs": [
    {
     "data": {
      "text/plain": [
       "16"
      ]
     },
     "execution_count": 9,
     "metadata": {},
     "output_type": "execute_result"
    }
   ],
   "source": [
    "4 ** 2"
   ]
  },
  {
   "cell_type": "code",
   "execution_count": 10,
   "id": "3afb9065-c231-4f04-8685-1b44475cf6f4",
   "metadata": {},
   "outputs": [
    {
     "data": {
      "text/plain": [
       "15"
      ]
     },
     "execution_count": 10,
     "metadata": {},
     "output_type": "execute_result"
    }
   ],
   "source": [
    "(1 + 2)*5"
   ]
  },
  {
   "cell_type": "code",
   "execution_count": 11,
   "id": "cb011373-2788-4134-979c-27349be274d3",
   "metadata": {},
   "outputs": [
    {
     "data": {
      "text/plain": [
       "64"
      ]
     },
     "execution_count": 11,
     "metadata": {},
     "output_type": "execute_result"
    }
   ],
   "source": [
    "(((5)+6-(3))**2)"
   ]
  },
  {
   "cell_type": "markdown",
   "id": "ced98e4b-4c40-4db3-89d6-cc80bd168db4",
   "metadata": {},
   "source": [
    "## Operaciones con Estructura de Datos"
   ]
  },
  {
   "cell_type": "code",
   "execution_count": 12,
   "id": "fc0f5977-04ad-4ae6-9ae6-4eed547665e0",
   "metadata": {},
   "outputs": [],
   "source": [
    "lista1 = [1, 2, 3]\n",
    "lista2 = [2, 3]"
   ]
  },
  {
   "cell_type": "code",
   "execution_count": 52,
   "id": "95056586-5377-411e-9f63-5dcabdb5cbc1",
   "metadata": {},
   "outputs": [
    {
     "ename": "TypeError",
     "evalue": "unsupported operand type(s) for -: 'list' and 'list'",
     "output_type": "error",
     "traceback": [
      "\u001b[1;31m---------------------------------------------------------------------------\u001b[0m",
      "\u001b[1;31mTypeError\u001b[0m                                 Traceback (most recent call last)",
      "Cell \u001b[1;32mIn [52], line 1\u001b[0m\n\u001b[1;32m----> 1\u001b[0m \u001b[43mlista2\u001b[49m\u001b[43m \u001b[49m\u001b[38;5;241;43m-\u001b[39;49m\u001b[43m \u001b[49m\u001b[43mlista2\u001b[49m\n",
      "\u001b[1;31mTypeError\u001b[0m: unsupported operand type(s) for -: 'list' and 'list'"
     ]
    }
   ],
   "source": [
    "lista2 - lista2"
   ]
  },
  {
   "cell_type": "code",
   "execution_count": 26,
   "id": "7441eb99-ea81-4364-81f5-e52329b404c3",
   "metadata": {},
   "outputs": [
    {
     "data": {
      "text/plain": [
       "[1, 2, 3, 2, 3]"
      ]
     },
     "execution_count": 26,
     "metadata": {},
     "output_type": "execute_result"
    }
   ],
   "source": [
    "lista1  + lista2\n"
   ]
  },
  {
   "cell_type": "code",
   "execution_count": 58,
   "id": "ae6104c7-67d9-4966-9b82-ab06f799ed85",
   "metadata": {},
   "outputs": [
    {
     "ename": "TypeError",
     "evalue": "can't multiply sequence by non-int of type 'list'",
     "output_type": "error",
     "traceback": [
      "\u001b[1;31m---------------------------------------------------------------------------\u001b[0m",
      "\u001b[1;31mTypeError\u001b[0m                                 Traceback (most recent call last)",
      "Cell \u001b[1;32mIn [58], line 1\u001b[0m\n\u001b[1;32m----> 1\u001b[0m \u001b[43mlista1\u001b[49m\u001b[43m  \u001b[49m\u001b[38;5;241;43m*\u001b[39;49m\u001b[43m \u001b[49m\u001b[43mlista2\u001b[49m\n",
      "\u001b[1;31mTypeError\u001b[0m: can't multiply sequence by non-int of type 'list'"
     ]
    }
   ],
   "source": [
    "lista1  * lista2"
   ]
  },
  {
   "cell_type": "code",
   "execution_count": 28,
   "id": "3d9ee0ed-85d9-4c51-9ac6-ea2535224d31",
   "metadata": {},
   "outputs": [
    {
     "data": {
      "text/plain": [
       "[1, 2, 3, 1, 2, 3, 1, 2, 3, 1, 2, 3, 1, 2, 3]"
      ]
     },
     "execution_count": 28,
     "metadata": {},
     "output_type": "execute_result"
    }
   ],
   "source": [
    "lista3 =  lista1 * 5\n",
    "lista3"
   ]
  },
  {
   "cell_type": "code",
   "execution_count": 31,
   "id": "9d2d7c8f-08b3-4b4f-a1de-b1b16258ec1b",
   "metadata": {},
   "outputs": [
    {
     "data": {
      "text/plain": [
       "[66, 49, 71, 22, 97, 70, 13, 87, 68]"
      ]
     },
     "execution_count": 31,
     "metadata": {},
     "output_type": "execute_result"
    }
   ],
   "source": [
    "from random import randint\n",
    "lista3 = [randint(1, 100) for i in range(9)]\n",
    "lista3"
   ]
  },
  {
   "cell_type": "code",
   "execution_count": 32,
   "id": "4588f7fd-e54e-452a-9d7f-020f32a19a12",
   "metadata": {},
   "outputs": [
    {
     "data": {
      "text/plain": [
       "[66, 49, 71, 22, 97]"
      ]
     },
     "execution_count": 32,
     "metadata": {},
     "output_type": "execute_result"
    }
   ],
   "source": [
    "lista3[:5]"
   ]
  },
  {
   "cell_type": "code",
   "execution_count": 33,
   "id": "3ad12a3c-05b1-46ea-a9f5-58154ad1fb89",
   "metadata": {},
   "outputs": [],
   "source": [
    "izq = lista3[:len(lista3)//2]\n",
    "der = lista3[len(lista3)//2:]"
   ]
  },
  {
   "cell_type": "code",
   "execution_count": 34,
   "id": "859b3d03-b08c-4591-9186-8afb90c4793e",
   "metadata": {},
   "outputs": [
    {
     "data": {
      "text/plain": [
       "[66, 49, 71, 22]"
      ]
     },
     "execution_count": 34,
     "metadata": {},
     "output_type": "execute_result"
    }
   ],
   "source": [
    "izq"
   ]
  },
  {
   "cell_type": "code",
   "execution_count": 36,
   "id": "285392c2-c945-4b15-bfa5-ab0dd684a278",
   "metadata": {},
   "outputs": [
    {
     "data": {
      "text/plain": [
       "[97, 70, 13, 87, 68]"
      ]
     },
     "execution_count": 36,
     "metadata": {},
     "output_type": "execute_result"
    }
   ],
   "source": [
    "der"
   ]
  },
  {
   "cell_type": "markdown",
   "id": "aee0d4bb-6c29-4bd7-aad2-ce845bd5bf0b",
   "metadata": {},
   "source": [
    "# Operadores de Asignacion o Relacionales\n",
    "Estos operadores devuelve un valor ya sea Verdadero o un valor Falso, segun el enunciado.\n",
    "\n",
    "* Comparacion -> ==\n",
    "* Comparacion JavaScript -> ===\n",
    "* Menor que -> <\n",
    "* Menor igual que -> <=\n",
    "* Mayor igual -> >\n",
    "* Mayor igual que >=\n",
    "* Diferencia de != <>\n",
    "\n",
    "### Tipos de Proposiciones\n",
    "\n",
    "- Proposicion Simple\n",
    "- Proposicion Compuesta\n",
    "```\n",
    "    - Y && AND\n",
    "        -- Sera verdadero cuando ambas proposiciones sean verdaderas de lo contrario sera falsa.\n",
    "    - O || OR\n",
    "        -- Sera verdadero cuando tan siquiera una sea verdadera.\n",
    "    - NO NOT\n",
    "        -- Niega cualquier verdad o falsedad.\n",
    "```"
   ]
  },
  {
   "cell_type": "markdown",
   "id": "25dce639-e3ad-4cea-b1e4-fc3b09cf2d51",
   "metadata": {},
   "source": [
    "# Proposicion Simple"
   ]
  },
  {
   "cell_type": "code",
   "execution_count": 86,
   "id": "712f32e4-a27c-439a-aeb8-046e89706f24",
   "metadata": {},
   "outputs": [
    {
     "data": {
      "text/plain": [
       "False"
      ]
     },
     "execution_count": 86,
     "metadata": {},
     "output_type": "execute_result"
    }
   ],
   "source": [
    "# Comparacion\n",
    "\n",
    "(1 + 4) == (3+ 1)"
   ]
  },
  {
   "cell_type": "code",
   "execution_count": 88,
   "id": "63fd6bff-6004-4a52-8891-9ab1c786de3f",
   "metadata": {},
   "outputs": [
    {
     "data": {
      "text/plain": [
       "True"
      ]
     },
     "execution_count": 88,
     "metadata": {},
     "output_type": "execute_result"
    }
   ],
   "source": [
    "(1 + 4) > (3+ 1)"
   ]
  },
  {
   "cell_type": "code",
   "execution_count": 37,
   "id": "77c6904e-7b2e-44ec-858d-7672fbe6732e",
   "metadata": {},
   "outputs": [
    {
     "data": {
      "text/plain": [
       "False"
      ]
     },
     "execution_count": 37,
     "metadata": {},
     "output_type": "execute_result"
    }
   ],
   "source": [
    "(1 + 4) < (3+ 1)"
   ]
  },
  {
   "cell_type": "code",
   "execution_count": 38,
   "id": "8e366e23-9615-490e-9ffe-950c260ad6c6",
   "metadata": {},
   "outputs": [
    {
     "data": {
      "text/plain": [
       "False"
      ]
     },
     "execution_count": 38,
     "metadata": {},
     "output_type": "execute_result"
    }
   ],
   "source": [
    "5 < 5 "
   ]
  },
  {
   "cell_type": "code",
   "execution_count": 93,
   "id": "01824d35-b467-4e80-aab4-5918024c432b",
   "metadata": {},
   "outputs": [
    {
     "data": {
      "text/plain": [
       "False"
      ]
     },
     "execution_count": 93,
     "metadata": {},
     "output_type": "execute_result"
    }
   ],
   "source": [
    "(1 + 4) <= (3+ 1)"
   ]
  },
  {
   "cell_type": "markdown",
   "id": "fe2efe7a-2654-447b-87e7-0d1c9717e4ec",
   "metadata": {},
   "source": [
    "# Proposicion Compuestas\n",
    "- Y\n",
    "        -- Sera verdadero cuando ambas proposiciones sean verdaderas de lo contrario sera falsa.\n"
   ]
  },
  {
   "cell_type": "code",
   "execution_count": 39,
   "id": "12e02bad-3cb3-463d-b767-6c8de0a9672c",
   "metadata": {},
   "outputs": [
    {
     "data": {
      "text/plain": [
       "False"
      ]
     },
     "execution_count": 39,
     "metadata": {},
     "output_type": "execute_result"
    }
   ],
   "source": [
    "(1 + 4) <= (3+ 1) and (5 + 3) >= 4\n",
    "\n",
    "# (1 + 4) <= (3+ 1) \n",
    "# 5 <= 4 False\n",
    "\n",
    "# False and (5 + 3) >= 4\n",
    "\n",
    "# (5 + 3) >= 4\n",
    "# 8 >= 4 True\n",
    "\n",
    "# False and True = False\n"
   ]
  },
  {
   "cell_type": "code",
   "execution_count": 97,
   "id": "0c261b9d-ef1e-44b6-971f-a324f6871529",
   "metadata": {},
   "outputs": [
    {
     "data": {
      "text/plain": [
       "True"
      ]
     },
     "execution_count": 97,
     "metadata": {},
     "output_type": "execute_result"
    }
   ],
   "source": [
    "# O -- Sera verdadero cuando tan siquiera una sea verdadera.\n",
    "(1 + 4) <= (3+ 1) or (5 + 3) >= 4\n",
    "# (1 + 4) <= (3+ 1) \n",
    "# 5 <= 4 False\n",
    "\n",
    "# False or (5 + 3) >= 4\n",
    "\n",
    "# (5 + 3) >= 4\n",
    "# 8 >= 4 True\n",
    "\n",
    "# False or True = True"
   ]
  },
  {
   "cell_type": "code",
   "execution_count": 102,
   "id": "a55f4c6c-18e2-4577-9a71-c0ecf322c841",
   "metadata": {},
   "outputs": [
    {
     "data": {
      "text/plain": [
       "False"
      ]
     },
     "execution_count": 102,
     "metadata": {},
     "output_type": "execute_result"
    }
   ],
   "source": [
    "# - NO\n",
    "        # -- Niega cualquier verdad o falsedad.\n",
    "(1 + 4) <= (3+ 1) or not(5 + 3) >= 4\n",
    "# (1 + 4) <= (3+ 1) \n",
    "# 5 <= 4 False\n",
    "\n",
    "# False or not (5 + 3) >= 4\n",
    "\n",
    "# not (5 + 3) >= 4\n",
    "# 8 >= 4 False\n",
    "\n",
    "# False or False = False\n",
    "\n",
    "\n",
    "(1 + 4) <= (3+ 1) and not(5 + 3) >= 4\n",
    "# (1 + 4) <= (3+ 1) \n",
    "# 5 <= 4 False\n",
    "\n",
    "# False and not (5 + 3) >= 4\n",
    "\n",
    "# not (5 + 3) >= 4\n",
    "# 8 >= 4 False\n",
    "\n",
    "# False or False = False"
   ]
  },
  {
   "cell_type": "code",
   "execution_count": 110,
   "id": "fb9be95f-b599-4e2c-982b-53115de0a71a",
   "metadata": {},
   "outputs": [
    {
     "data": {
      "text/plain": [
       "True"
      ]
     },
     "execution_count": 110,
     "metadata": {},
     "output_type": "execute_result"
    }
   ],
   "source": [
    "#Estructura de Datos - Listas\n",
    "\n",
    "lista1 = [1, 2, 4, 1]\n",
    "lista2 = [2, 4, 5]\n",
    "\n",
    "lista1 < lista2"
   ]
  },
  {
   "cell_type": "markdown",
   "id": "72888315-abff-4a74-a865-3fbd3ee47102",
   "metadata": {},
   "source": [
    "# Operadores de Incrementos\n",
    "\n",
    "* += \n",
    "* -=\n",
    "* *=\n",
    "* **=\n",
    "* /=\n",
    "* //=\n"
   ]
  },
  {
   "cell_type": "code",
   "execution_count": 40,
   "id": "06c57541-8c11-4097-a9f0-6d6b158c26e3",
   "metadata": {},
   "outputs": [],
   "source": [
    "total = 0\n"
   ]
  },
  {
   "cell_type": "code",
   "execution_count": 43,
   "id": "07194ee3-f17d-4527-9fed-b8325dc8248e",
   "metadata": {},
   "outputs": [
    {
     "name": "stdin",
     "output_type": "stream",
     "text": [
      "Ingrese el monto de la recarga:  500\n"
     ]
    }
   ],
   "source": [
    "recarga = int(input(\"Ingrese el monto de la recarga: \"))\n",
    "total += recarga"
   ]
  },
  {
   "cell_type": "code",
   "execution_count": 44,
   "id": "05c0ab85-2f59-4fd2-99ff-60afdbf8271a",
   "metadata": {},
   "outputs": [
    {
     "data": {
      "text/plain": [
       "650"
      ]
     },
     "execution_count": 44,
     "metadata": {},
     "output_type": "execute_result"
    }
   ],
   "source": [
    "total"
   ]
  },
  {
   "cell_type": "code",
   "execution_count": 60,
   "id": "ba1d1fe5-d056-465b-b991-b6450fe0c3fa",
   "metadata": {},
   "outputs": [
    {
     "data": {
      "text/plain": [
       "50"
      ]
     },
     "execution_count": 60,
     "metadata": {},
     "output_type": "execute_result"
    }
   ],
   "source": [
    "if total >= 100:\n",
    "    total -= 50\n",
    "total"
   ]
  },
  {
   "cell_type": "markdown",
   "id": "25b9575e-ba48-489e-9c53-e26e46ecc269",
   "metadata": {},
   "source": [
    "# Operadores de Binarios\n",
    "* Mover bits hacia la derecha >>\n",
    "* Mover bits hacia la izquierda <<"
   ]
  },
  {
   "cell_type": "code",
   "execution_count": 64,
   "id": "2be1599e-d0cd-40a3-9309-a206fa0992a8",
   "metadata": {},
   "outputs": [
    {
     "data": {
      "text/plain": [
       "17014118346046923173168730371588410572800"
      ]
     },
     "execution_count": 64,
     "metadata": {},
     "output_type": "execute_result"
    }
   ],
   "source": [
    "total << 128"
   ]
  },
  {
   "cell_type": "code",
   "execution_count": null,
   "id": "48bae1d6-6871-4594-b0e1-3fe9afc55e40",
   "metadata": {},
   "outputs": [],
   "source": []
  },
  {
   "cell_type": "markdown",
   "id": "824b7f20-9bed-4701-9f04-1da06f06afc2",
   "metadata": {},
   "source": [
    "# Control de Flujo\n",
    "Devolvera en primera instancia un valor verdadero siempre y cuando la primera sea verdadera.\n",
    "\n",
    "```\n",
    "si compracion entonces{\n",
    "    proceso\n",
    "}de lo contrario{\n",
    "    proceso\n",
    "}```\n"
   ]
  },
  {
   "cell_type": "markdown",
   "id": "1690a1cd-3b9e-47bd-a5ab-1887b1cb507f",
   "metadata": {},
   "source": [
    "### Preposicion Simple"
   ]
  },
  {
   "cell_type": "code",
   "execution_count": 65,
   "id": "2d427d6a-7324-4c43-98b2-bb98caa33cb7",
   "metadata": {},
   "outputs": [
    {
     "name": "stdout",
     "output_type": "stream",
     "text": [
      "Lo siento por usted, calcule bien su problema... jejejejej\n"
     ]
    }
   ],
   "source": [
    "if 2 >= 3:\n",
    "    print(\"Excelente\")\n",
    "else:\n",
    "    print(\"Lo siento por usted, calcule bien su problema... jejejejej\")"
   ]
  },
  {
   "cell_type": "markdown",
   "id": "f8342175-4ff4-470e-94fc-aca272eadf5a",
   "metadata": {},
   "source": [
    "### Preposicion Compuesta"
   ]
  },
  {
   "cell_type": "code",
   "execution_count": 119,
   "id": "636fdbf9-b780-43fd-9f58-4edb261d27bb",
   "metadata": {},
   "outputs": [
    {
     "name": "stdout",
     "output_type": "stream",
     "text": [
      "Excelente\n"
     ]
    }
   ],
   "source": [
    "if (1 + 4) >= (3+ 1) and (5 + 3) >= 4:\n",
    "    print(\"Excelente\")\n",
    "else:\n",
    "    print(\"Verifique mejor...\")"
   ]
  },
  {
   "cell_type": "markdown",
   "id": "3347f3d1-fc0e-4c9f-9058-0e07c2e9ad37",
   "metadata": {},
   "source": [
    "# Ejericio propuesto 1\n",
    "\n",
    "```\n",
    "Escriba un programa que pida al usuario dos o mas numeros y que relice las siguientes operaciones:\n",
    "1 - sumar los numemros\n",
    "2 - reste los numeros\n",
    "3 - multiplique al menos un numero con otro\n",
    "4 - division al menos un numero con otro\n",
    "5 - divida entre cero  y diga que fue lo que ocurrio\n",
    "6 - Sacar el modulo de un numero -OJO-\n",
    "7 - Realizar comparaciones entre los numeros ingresado por el usuario\n",
    "8 - Elabora una lista de numeros de lo cual identifique de la lista cuales son pares y crear una variable de incremento \n",
    "    si el numero es par de lo contrario disminuir e indicar cual es el valor final.\n",
    "```"
   ]
  },
  {
   "cell_type": "code",
   "execution_count": null,
   "id": "5be8cfae-41e7-479b-9c9f-7a0d3ba18978",
   "metadata": {},
   "outputs": [],
   "source": []
  }
 ],
 "metadata": {
  "kernelspec": {
   "display_name": "Python 3 (ipykernel)",
   "language": "python",
   "name": "python3"
  },
  "language_info": {
   "codemirror_mode": {
    "name": "ipython",
    "version": 3
   },
   "file_extension": ".py",
   "mimetype": "text/x-python",
   "name": "python",
   "nbconvert_exporter": "python",
   "pygments_lexer": "ipython3",
   "version": "3.11.0"
  }
 },
 "nbformat": 4,
 "nbformat_minor": 5
}
