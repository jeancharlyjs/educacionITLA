{
 "cells": [
  {
   "cell_type": "markdown",
   "id": "4c862500-4c0d-44ac-b063-548c89ee2b51",
   "metadata": {},
   "source": [
    "# Control de Flujo\n",
    "\n",
    "\n",
    "- Control Simple\n",
    "```\n",
    "if (condicion){\n",
    "    True\n",
    "}else{\n",
    "    False\n",
    "}\n",
    "```\n",
    "- Anidado\n",
    "```\n",
    "if (condicion){\n",
    "    True\n",
    "    if (condicion){\n",
    "        True\n",
    "    }else{\n",
    "        False\n",
    "    }\n",
    "}else{\n",
    "    False\n",
    "}\n",
    "```\n",
    "- Cascada\n",
    "```\n",
    "if (condicion){\n",
    "    True\n",
    "}elif (condicion){\n",
    "    True\n",
    "}elif (condicion){\n",
    "    True\n",
    "}else{\n",
    "    False\n",
    "}\n",
    "```\n",
    "\n",
    "\n",
    "### __No es lo mismo__\n",
    "```\n",
    "if (condicion){\n",
    "    True\n",
    "}else{\n",
    "    False\n",
    "}\n",
    "if (condicon){\n",
    "    True\n",
    "}else{\n",
    "    False\n",
    "}\n",
    "```"
   ]
  },
  {
   "cell_type": "code",
   "execution_count": 4,
   "id": "5a66aa48-8c1f-442c-ab60-18975d01229d",
   "metadata": {},
   "outputs": [
    {
     "name": "stdout",
     "output_type": "stream",
     "text": [
      "25 45\n"
     ]
    }
   ],
   "source": [
    "# Simple\n",
    "from random import randint\n",
    "num1 = randint(1, 100)\n",
    "num2 = randint(1, 100)\n",
    "print(num1, num2)\n"
   ]
  },
  {
   "cell_type": "code",
   "execution_count": 5,
   "id": "cdf4477e-11e0-4f0e-b984-241c38f6e34d",
   "metadata": {},
   "outputs": [
    {
     "name": "stdout",
     "output_type": "stream",
     "text": [
      "Numero 2 es mayor\n"
     ]
    }
   ],
   "source": [
    "if num1 > num2:\n",
    "    print(\"Numero 1 es mayor\")\n",
    "else:\n",
    "    print(\"Numero 2 es mayor\")"
   ]
  },
  {
   "cell_type": "code",
   "execution_count": 8,
   "id": "02f1b0e9-5cd3-4e5f-aeeb-c95ffe7738e6",
   "metadata": {},
   "outputs": [
    {
     "name": "stdout",
     "output_type": "stream",
     "text": [
      "Excelente 1\n"
     ]
    }
   ],
   "source": [
    "if (num1 <= num2) or not (num2 %2==0):\n",
    "    print(\"Excelente\", num2 %2)\n",
    "else:\n",
    "    print(\"Verifique nuevamente... jejejej\")"
   ]
  },
  {
   "cell_type": "code",
   "execution_count": null,
   "id": "1ac8114d-2a13-47a4-af62-d9560f2386a6",
   "metadata": {},
   "outputs": [],
   "source": [
    "#(num1 <= num2) or not (num2 %2==0)\n",
    "# V or not F\n",
    "# V or not -> V\n",
    "# V or V\n",
    "# V"
   ]
  },
  {
   "cell_type": "code",
   "execution_count": 19,
   "id": "ef1b4fa1-390c-4ae4-b1ad-366e2f129fea",
   "metadata": {},
   "outputs": [
    {
     "name": "stdout",
     "output_type": "stream",
     "text": [
      "Nada es verdad ni mentira, es segun con el prisma con que se mire\n"
     ]
    }
   ],
   "source": [
    "# Anidados \n",
    "if (num1 <=num2) and  (num2 %2==0):\n",
    "    usuario = input(\"Ingrese su usuario: \")\n",
    "    if usuario == \"Jean Charly\":\n",
    "        print(\"Excelente, estas dentro.\")\n",
    "    else:\n",
    "        usuario1 = input(\"Ingrese otro nombre: \")\n",
    "        if usuario1 == \"Nikola Tesla\":\n",
    "            print(\"Si\")\n",
    "        else:\n",
    "            print(\"Amigo, usted tiene problema\")\n",
    "else:\n",
    "    print(\"Nada es verdad ni mentira, es segun con el prisma con que se mire\")"
   ]
  },
  {
   "cell_type": "code",
   "execution_count": null,
   "id": "54e740f9-1ca9-4190-a110-1e2fbb22ade1",
   "metadata": {},
   "outputs": [],
   "source": []
  },
  {
   "cell_type": "code",
   "execution_count": null,
   "id": "3f6a8f6d-34e9-4738-89a3-b34a56964ab1",
   "metadata": {},
   "outputs": [],
   "source": []
  },
  {
   "cell_type": "markdown",
   "id": "b43832ed-e8d6-4d5b-95bb-c72bb7dcd55c",
   "metadata": {},
   "source": [
    "# Control de Seleccion\n",
    "-  for -> desde - hasta\n",
    "for(i=1, i<cantidadElemento, i++)\n",
    "-  while True -> Continue - Break"
   ]
  },
  {
   "cell_type": "code",
   "execution_count": 25,
   "id": "09e5f23f-aedc-4c23-b4bf-f29e7aca405f",
   "metadata": {},
   "outputs": [
    {
     "name": "stdout",
     "output_type": "stream",
     "text": [
      "0\n",
      "1\n",
      "2\n",
      "3\n",
      "4\n",
      "5\n",
      "6\n",
      "7\n",
      "8\n",
      "9\n"
     ]
    }
   ],
   "source": [
    "#For Simple\n",
    "for i in range(10):\n",
    "    print(i)"
   ]
  },
  {
   "cell_type": "code",
   "execution_count": 26,
   "id": "8e0160af-ef2f-49e2-af31-c441ef0cfa7e",
   "metadata": {},
   "outputs": [
    {
     "name": "stdout",
     "output_type": "stream",
     "text": [
      "1\n",
      "2\n",
      "3\n",
      "4\n",
      "5\n",
      "6\n",
      "7\n",
      "8\n",
      "9\n",
      "10\n"
     ]
    }
   ],
   "source": [
    "for i in range(1, 10+1):\n",
    "    print(i)"
   ]
  },
  {
   "cell_type": "code",
   "execution_count": 27,
   "id": "c80d5826-b99a-4fcd-96e4-94faf87a73b0",
   "metadata": {},
   "outputs": [
    {
     "name": "stdout",
     "output_type": "stream",
     "text": [
      "1 1\n",
      "1 2\n",
      "1 3\n",
      "2 1\n",
      "2 2\n",
      "2 3\n",
      "3 1\n",
      "3 2\n",
      "3 3\n",
      "4 1\n",
      "4 2\n",
      "4 3\n",
      "5 1\n",
      "5 2\n",
      "5 3\n",
      "6 1\n",
      "6 2\n",
      "6 3\n",
      "7 1\n",
      "7 2\n",
      "7 3\n",
      "8 1\n",
      "8 2\n",
      "8 3\n",
      "9 1\n",
      "9 2\n",
      "9 3\n"
     ]
    }
   ],
   "source": [
    "#For Anidado\n",
    "for i in range(1, 10):\n",
    "    for j in range(1, 4):\n",
    "        print(i, j)"
   ]
  },
  {
   "cell_type": "code",
   "execution_count": 31,
   "id": "c866dead-a363-43b4-8d09-1cd85bee4b55",
   "metadata": {},
   "outputs": [],
   "source": [
    "n = [\"Jean Charly\", 32, False, \"Leer\"]"
   ]
  },
  {
   "cell_type": "code",
   "execution_count": 33,
   "id": "c9177c03-71ec-4f1f-a1b4-e2d993033f9f",
   "metadata": {},
   "outputs": [
    {
     "data": {
      "text/plain": [
       "4"
      ]
     },
     "execution_count": 33,
     "metadata": {},
     "output_type": "execute_result"
    }
   ],
   "source": [
    "#Identificar el tamaño\n",
    "len(n)"
   ]
  },
  {
   "cell_type": "code",
   "execution_count": 30,
   "id": "a98f9cf1-635c-43fd-965a-e3b2ebae49f1",
   "metadata": {},
   "outputs": [
    {
     "name": "stdout",
     "output_type": "stream",
     "text": [
      "<class 'str'>  <>  Jean Charly\n",
      "<class 'int'>  <>  32\n",
      "<class 'bool'>  <>  False\n",
      "<class 'str'>  <>  Leer\n"
     ]
    }
   ],
   "source": [
    "for i in n:\n",
    "    print(type(i), \" <> \", i)"
   ]
  },
  {
   "cell_type": "code",
   "execution_count": 34,
   "id": "364954d2-79ee-4e83-87b3-6b99f82a2169",
   "metadata": {},
   "outputs": [
    {
     "name": "stdout",
     "output_type": "stream",
     "text": [
      "0\n",
      "1\n",
      "2\n",
      "3\n"
     ]
    }
   ],
   "source": [
    "for i in range(len(n)):\n",
    "    print(i)\n",
    "    "
   ]
  },
  {
   "cell_type": "code",
   "execution_count": 35,
   "id": "d87097dd-36d0-4f4e-843c-2af4f8b12732",
   "metadata": {},
   "outputs": [
    {
     "name": "stdout",
     "output_type": "stream",
     "text": [
      "0 Jean Charly\n",
      "1 32\n",
      "2 False\n",
      "3 Leer\n"
     ]
    }
   ],
   "source": [
    "for i in range(len(n)):\n",
    "    print(i, n[i])"
   ]
  },
  {
   "cell_type": "code",
   "execution_count": 37,
   "id": "a12d2ace-0adf-47ea-abe8-654169665014",
   "metadata": {},
   "outputs": [
    {
     "name": "stdout",
     "output_type": "stream",
     "text": [
      "False\n"
     ]
    }
   ],
   "source": [
    "for i in range(len(n)):\n",
    "    if type(n[i]) == bool:\n",
    "        print(n[i])"
   ]
  },
  {
   "cell_type": "markdown",
   "id": "f29041f4-6366-4415-9204-44582289e96a",
   "metadata": {},
   "source": []
  }
 ],
 "metadata": {
  "kernelspec": {
   "display_name": "Python 3 (ipykernel)",
   "language": "python",
   "name": "python3"
  },
  "language_info": {
   "codemirror_mode": {
    "name": "ipython",
    "version": 3
   },
   "file_extension": ".py",
   "mimetype": "text/x-python",
   "name": "python",
   "nbconvert_exporter": "python",
   "pygments_lexer": "ipython3",
   "version": "3.11.0"
  }
 },
 "nbformat": 4,
 "nbformat_minor": 5
}
