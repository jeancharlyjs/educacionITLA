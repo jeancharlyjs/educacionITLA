{
 "cells": [
  {
   "cell_type": "markdown",
   "metadata": {},
   "source": [
    "# Introducción Python\n",
    "###### by: Jean Charly Ph. Joseph S.\n",
    "\n"
   ]
  },
  {
   "cell_type": "markdown",
   "metadata": {},
   "source": [
    "# Tipos de Variables\n",
    "* Primitiva\n",
    "    Son primitivas todas aquellas que solo puede almacenar un unico tipo de dato.\n",
    "\n",
    "    - String ' ', \" \"\n",
    "    - Integer $\\mathbb{R}$\n",
    "    - Float\n",
    "    - Complejos\n",
    "    - Booleanos\n",
    "\n",
    "* Colectora\n",
    "    Son colectores todas las estructuras que puede almacenar mas de un tipo de datos en si mismo\\\n",
    "    e incluso la misma estructura.\n",
    "    \n",
    "    ##### _Mutables_\n",
    "    Son mutables las estructuras que su valor puede modificarse\\\n",
    "    despues de haber sido creada, mediante su indice.\n",
    "    - Listas\n",
    "        - Vectores (Arreglo)\n",
    "            - Vector Columnas [[[], [], []]]\n",
    "            - Vector Filas [[]]\n",
    "        - Matrices [[[ ] [ ] [ ] ], \n",
    "                    [[ ] [ ] [ ] ], \n",
    "                    [[ ] [ ] [ ] ]]\n",
    "    - Diccionarios {key: valor}\n",
    "\n",
    "    ##### _Inmutables_\n",
    "    Son todas aquellas que despues de haber sido creada\\\n",
    "    no puede ser modificada en ningua aspecto.\n",
    "\n",
    "    - Tuplas ()\n",
    "    - Conjuntos {}"
   ]
  },
  {
   "cell_type": "markdown",
   "metadata": {},
   "source": [
    "##### Palabras Reservadas del Lenguaje - Python"
   ]
  },
  {
   "cell_type": "code",
   "execution_count": 3,
   "metadata": {},
   "outputs": [
    {
     "name": "stdout",
     "output_type": "stream",
     "text": [
      "['False', 'None', 'True', 'and', 'as', 'assert', 'async', 'await', 'break', 'class', 'continue', 'def', 'del', 'elif', 'else', 'except', 'finally', 'for', 'from', 'global', 'if', 'import', 'in', 'is', 'lambda', 'nonlocal', 'not', 'or', 'pass', 'raise', 'return', 'try', 'while', 'with', 'yield']\n"
     ]
    }
   ],
   "source": [
    "from keyword import kwlist\n",
    "\n",
    "print(kwlist)"
   ]
  },
  {
   "cell_type": "markdown",
   "metadata": {},
   "source": [
    "##### Creacion de variables - Buenas practicas.\n",
    "\n",
    "\n",
    "* Buenas Practicas\n",
    "    - _ejemplo \n",
    "    - ejemplo\n",
    "    - ejemploEjemplo\n",
    "    - ejemplo_ejemplo\n",
    "\n",
    "* Mala Practica\n",
    "\n",
    "   - 1ejemplo\n",
    "   - $ejemplo\n",
    "   - PALABRAS RESERVAS."
   ]
  },
  {
   "cell_type": "code",
   "execution_count": 2,
   "metadata": {},
   "outputs": [
    {
     "name": "stdout",
     "output_type": "stream",
     "text": [
      "Jean Charly Joseph S\n"
     ]
    }
   ],
   "source": [
    "nombre = \"Jean Charly\"\n",
    "apellido = 'Joseph S'\n",
    "\n",
    "edad = 24\n",
    "pi = 3.14\n",
    "\n",
    "sexo = False\n",
    "print(nombre, apellido)"
   ]
  },
  {
   "cell_type": "code",
   "execution_count": null,
   "metadata": {},
   "outputs": [
    {
     "name": "stdout",
     "output_type": "stream",
     "text": [
      "Jean Charly Joseph S\n"
     ]
    }
   ],
   "source": [
    "print(f'{nombre} {apellido}')"
   ]
  },
  {
   "cell_type": "code",
   "execution_count": 6,
   "metadata": {},
   "outputs": [
    {
     "name": "stdout",
     "output_type": "stream",
     "text": [
      "Jean Charly  Joseph S\n"
     ]
    }
   ],
   "source": [
    "print(nombre + \" \",apellido)"
   ]
  },
  {
   "cell_type": "code",
   "execution_count": null,
   "metadata": {},
   "outputs": [
    {
     "name": "stdout",
     "output_type": "stream",
     "text": [
      "Joseph S Jean Charly\n"
     ]
    }
   ],
   "source": [
    "print(\"%s %s\"%(apellido, nombre))"
   ]
  },
  {
   "cell_type": "code",
   "execution_count": 2,
   "metadata": {},
   "outputs": [
    {
     "name": "stdout",
     "output_type": "stream",
     "text": [
      "Jean Charly Joseph S\n"
     ]
    }
   ],
   "source": [
    "print(\"{} {}\".format(nombre, apellido))"
   ]
  },
  {
   "cell_type": "code",
   "execution_count": 13,
   "metadata": {},
   "outputs": [
    {
     "data": {
      "text/plain": [
       "'Jean Charly Joseph S'"
      ]
     },
     "execution_count": 13,
     "metadata": {},
     "output_type": "execute_result"
    }
   ],
   "source": [
    "nombreCompleto = \" \".join([nombre, apellido])\n",
    "nombreCompleto"
   ]
  },
  {
   "cell_type": "code",
   "execution_count": 52,
   "metadata": {},
   "outputs": [
    {
     "data": {
      "text/plain": [
       "'Nikola Joseph S'"
      ]
     },
     "execution_count": 52,
     "metadata": {},
     "output_type": "execute_result"
    }
   ],
   "source": [
    "nombreCompleto.replace(\"Jean Charly \", \"Nikola \")\n"
   ]
  },
  {
   "cell_type": "code",
   "execution_count": 14,
   "metadata": {},
   "outputs": [],
   "source": [
    "#Factores Numericos\n",
    "## Metodo 1\n",
    "\n",
    "a = 24\n",
    "b = 49\n",
    "c = 42\n",
    "\n",
    "## Metodo 2\n",
    "a = 24; b = 49;  c = 42\n",
    "\n",
    "## Metodo 3\n",
    "\n",
    "a, b, c = 24, 49, 42"
   ]
  },
  {
   "cell_type": "code",
   "execution_count": 61,
   "metadata": {},
   "outputs": [
    {
     "name": "stdout",
     "output_type": "stream",
     "text": [
      "Suma:  73\n",
      "Resta:  -18\n",
      "Mult:  1218\n",
      "Division:  0.5714285714285714\n",
      "Division Res:  0\n",
      "Exponente:  576\n",
      "Complejos:  (24+43j)\n",
      "10j\n",
      "10\n"
     ]
    }
   ],
   "source": [
    "# Operaciones Aritemicas\n",
    "\n",
    "print(\"Suma: \", a + b)\n",
    "print(\"Resta: \", a - c)\n",
    "print(\"Mult: \", (a * b) + c )\n",
    "print(\"Division: \", a / c)\n",
    "print(\"Division Res: \", a // c)\n",
    "print(\"Exponente: \", a ** 2)\n",
    "print(\"Complejos: \", a + 43j)\n"
   ]
  },
  {
   "cell_type": "markdown",
   "metadata": {},
   "source": [
    "# Colectoras\n",
    "```\n",
    "Tamaño\tlen\n",
    "Indice\tnombre[n] > 0\n",
    "Slices\t[a:b], [:a], [a:], [:]\n",
    "Iterable\tnombre[i]> 0\n",
    "\n",
    "```"
   ]
  },
  {
   "cell_type": "code",
   "execution_count": 16,
   "metadata": {},
   "outputs": [
    {
     "name": "stdout",
     "output_type": "stream",
     "text": [
      "['Jean Charly', 'Joseph S', 24, 4j, 73, None, [331776]]\n",
      "Tamaño:  7\n",
      "73\n",
      "73\n"
     ]
    }
   ],
   "source": [
    "elementos = [nombre, apellido, edad, 4j, a+b, None, [a**4]]\n",
    "print(elementos)\n",
    "\n",
    "#Tamaño\n",
    "print(\"Tamaño: \", len(elementos))\n",
    "\n",
    "#Indice\n",
    "print(elementos[4])\n",
    "print(elementos[-3])"
   ]
  },
  {
   "cell_type": "markdown",
   "metadata": {},
   "source": [
    "#### Slice"
   ]
  },
  {
   "cell_type": "code",
   "execution_count": 17,
   "metadata": {},
   "outputs": [
    {
     "name": "stdout",
     "output_type": "stream",
     "text": [
      "['Jean Charly', 'Joseph S', 24]\n",
      "[4j, 73, None, [331776]]\n",
      "[73, None]\n",
      "['Jean Charly', 'Joseph S', 24, 4j, 73, None, [331776]]\n"
     ]
    }
   ],
   "source": [
    "#[:a]\n",
    "print(elementos[:3])\n",
    "\n",
    "#[a:]\n",
    "print(elementos[3:])\n",
    "\n",
    "#[a:b]\n",
    "print(elementos[4:6])\n",
    "\n",
    "#[:]\n",
    "print(elementos)"
   ]
  },
  {
   "cell_type": "markdown",
   "metadata": {},
   "source": [
    "### Matrices"
   ]
  },
  {
   "cell_type": "code",
   "execution_count": 19,
   "metadata": {},
   "outputs": [
    {
     "data": {
      "text/plain": [
       "array([[ 3,  4,  5,  6],\n",
       "       [ 2,  3,  4,  5],\n",
       "       [33,  2,  1,  3]])"
      ]
     },
     "execution_count": 19,
     "metadata": {},
     "output_type": "execute_result"
    }
   ],
   "source": [
    "import numpy as np\n",
    "\n",
    "elemento1 = np.array([[3, 4, 5, 6], [2, 3, 4, 5], [33, 2, 1, 3]])\n",
    "elemento1\n"
   ]
  },
  {
   "cell_type": "code",
   "execution_count": null,
   "metadata": {},
   "outputs": [
    {
     "name": "stdout",
     "output_type": "stream",
     "text": [
      "[[ 3  4  5  6  2  3  4  5 33  2  1  3]]\n",
      "[[ 3]\n",
      " [ 4]\n",
      " [ 5]\n",
      " [ 6]\n",
      " [ 2]\n",
      " [ 3]\n",
      " [ 4]\n",
      " [ 5]\n",
      " [33]\n",
      " [ 2]\n",
      " [ 1]\n",
      " [ 3]]\n"
     ]
    }
   ],
   "source": [
    "#Reshape\n",
    "\n",
    "#Vector Fila (Columna, Fila)\n",
    "print(elemento1.reshape(1, -1))\n",
    "\n",
    "#Vector Columna\n",
    "print(elemento1.reshape(-1, 1))"
   ]
  },
  {
   "cell_type": "code",
   "execution_count": 120,
   "metadata": {},
   "outputs": [
    {
     "data": {
      "image/png": "[encoded data removed]",
      "text/plain": [
       "<Figure size 640x480 with 1 Axes>"
      ]
     },
     "metadata": {},
     "output_type": "display_data"
    }
   ],
   "source": [
    "import matplotlib.pyplot as plt\n",
    "\n",
    "\n",
    "plt.imshow(elemento1, cmap='grey'); plt.show()"
   ]
  },
  {
   "cell_type": "code",
   "execution_count": 91,
   "metadata": {},
   "outputs": [
    {
     "data": {
      "text/plain": [
       "array([2, 3, 4, 5])"
      ]
     },
     "execution_count": 91,
     "metadata": {},
     "output_type": "execute_result"
    }
   ],
   "source": [
    "elemento1[1, :]"
   ]
  },
  {
   "cell_type": "markdown",
   "metadata": {},
   "source": [
    "# Iteración\n",
    "## $\\sum^{n}_{i=2} i$\n",
    "```\n",
    "- ALGORITMO -\n",
    "PARA I EN RANGO(N) ENTONCES\n",
    "     IMPRIMIR(I)\n",
    "```"
   ]
  },
  {
   "cell_type": "code",
   "execution_count": 46,
   "metadata": {},
   "outputs": [
    {
     "name": "stdout",
     "output_type": "stream",
     "text": [
      "0\n",
      "1\n",
      "2\n",
      "3\n",
      "4\n",
      "5\n",
      "6\n",
      "7\n",
      "8\n",
      "9\n"
     ]
    }
   ],
   "source": [
    "n = 10\n",
    "for i in range(n):\n",
    "    print(i)"
   ]
  },
  {
   "cell_type": "code",
   "execution_count": 47,
   "metadata": {},
   "outputs": [
    {
     "name": "stdout",
     "output_type": "stream",
     "text": [
      "0 * 8 \t = 0\n",
      "1 * 8 \t = 8\n",
      "2 * 8 \t = 16\n",
      "3 * 8 \t = 24\n",
      "4 * 8 \t = 32\n",
      "5 * 8 \t = 40\n",
      "6 * 8 \t = 48\n",
      "7 * 8 \t = 56\n",
      "8 * 8 \t = 64\n",
      "9 * 8 \t = 72\n",
      "10 * 8 \t = 80\n"
     ]
    }
   ],
   "source": [
    "n = 11\n",
    "numeroMultplica = int(input(\"Ingrese un numero: \"))\n",
    "\n",
    "for i in range(n):\n",
    "    print(\"%s * %s \\t = %s\"%(i, numeroMultplica, (i*numeroMultplica)))\n"
   ]
  },
  {
   "cell_type": "code",
   "execution_count": 102,
   "metadata": {},
   "outputs": [
    {
     "name": "stdout",
     "output_type": "stream",
     "text": [
      "Jean Charly\n",
      "Joseph S\n",
      "24\n",
      "4j\n",
      "73\n",
      "None\n",
      "[331776]\n"
     ]
    }
   ],
   "source": [
    "#Mala practica\n",
    "for i in elementos:\n",
    "    print(i)"
   ]
  },
  {
   "cell_type": "code",
   "execution_count": null,
   "metadata": {},
   "outputs": [
    {
     "name": "stdout",
     "output_type": "stream",
     "text": [
      "Jean Charly\n",
      "Joseph S\n",
      "24\n",
      "4j\n",
      "73\n",
      "None\n",
      "[331776]\n"
     ]
    }
   ],
   "source": [
    "# Buena practica\n",
    "\n",
    "for i in range(len(elementos)):\n",
    "    print(elementos[i])"
   ]
  },
  {
   "cell_type": "code",
   "execution_count": 104,
   "metadata": {},
   "outputs": [
    {
     "name": "stdout",
     "output_type": "stream",
     "text": [
      "<class 'str'>\n",
      "<class 'str'>\n",
      "<class 'int'>\n",
      "<class 'complex'>\n",
      "<class 'int'>\n",
      "<class 'NoneType'>\n",
      "<class 'list'>\n"
     ]
    }
   ],
   "source": [
    "for i in range(len(elementos)):\n",
    "    print(type(elementos[i]))"
   ]
  },
  {
   "cell_type": "markdown",
   "metadata": {},
   "source": [
    "### Control de Flujo\n",
    "\n",
    "```\n",
    "SI (CONDICION) ENTONCES:\n",
    "     SENTENCIA\n",
    "SINO\n",
    "    SENTENCIA\n",
    "```\n",
    "\n",
    "Siempre será un valor booleanos\n",
    "\n",
    "Enunciados\n",
    "\n",
    "- Simple -> Son todas aquellas que no tienen conectores\n",
    "- Compuesta -> Son aquellas que tiene dos o mas proposiciones y a la misma vez debe estas\\ \n",
    "adherida a un o varios conectores logicos\n"
   ]
  },
  {
   "cell_type": "markdown",
   "metadata": {},
   "source": [
    "### Operadores Logicos\n",
    "\n",
    "```\n",
    "    AND  -> Y -> && -> V = VV\n",
    "    OR   -> O -> || -> V = VF\n",
    "    NOT  -> NO ->   -> V = F; F = V\n",
    "\n",
    "```"
   ]
  },
  {
   "cell_type": "markdown",
   "metadata": {},
   "source": [
    "# Operadores -\n",
    "\n",
    "```\n",
    "is\n",
    "in\n",
    "```"
   ]
  },
  {
   "cell_type": "markdown",
   "metadata": {},
   "source": [
    "### Operadores Comparacion\n",
    "\n",
    "Son factores booleanos\n",
    "```\n",
    "== Igual\n",
    "<  Menor que\n",
    ">  Mayor que\n",
    "<= Menor igual\n",
    ">= Mayor igual\n",
    "!= <> Diferencia\n",
    "```"
   ]
  },
  {
   "cell_type": "code",
   "execution_count": null,
   "metadata": {},
   "outputs": [
    {
     "data": {
      "text/plain": [
       "True"
      ]
     },
     "execution_count": 50,
     "metadata": {},
     "output_type": "execute_result"
    }
   ],
   "source": [
    "#Simple\n",
    "a = 5; b = 20; c = 30\n",
    "(a <= b)"
   ]
  },
  {
   "cell_type": "code",
   "execution_count": 56,
   "metadata": {},
   "outputs": [
    {
     "data": {
      "text/plain": [
       "True"
      ]
     },
     "execution_count": 56,
     "metadata": {},
     "output_type": "execute_result"
    }
   ],
   "source": [
    "#Compuesta\n",
    "\n",
    "not(a == b) and (c != a)\n",
    "#  V            V\n",
    "#        V"
   ]
  },
  {
   "cell_type": "code",
   "execution_count": 58,
   "metadata": {},
   "outputs": [
    {
     "name": "stdout",
     "output_type": "stream",
     "text": [
      "Algo paso aqui... :(\n"
     ]
    }
   ],
   "source": [
    "if (a == b) and (c != a):\n",
    "    print(\"Excelente\")\n",
    "else:\n",
    "    print(\"Algo paso aqui... :(\")"
   ]
  },
  {
   "cell_type": "code",
   "execution_count": 26,
   "metadata": {},
   "outputs": [
    {
     "name": "stdout",
     "output_type": "stream",
     "text": [
      "['Jean Charly', 'Joseph S', 24, 4j, 25, None, [625]]\n",
      "[[625]]\n"
     ]
    }
   ],
   "source": [
    "nuevaLista = []\n",
    "print(elementos)\n",
    "for i in range(len(elementos)):\n",
    "    if type(elementos[i]) is list:\n",
    "        nuevaLista.append(elementos[i])\n",
    "\n",
    "print(nuevaLista)"
   ]
  },
  {
   "cell_type": "code",
   "execution_count": 2,
   "metadata": {},
   "outputs": [
    {
     "name": "stdout",
     "output_type": "stream",
     "text": [
      "<class 'tuple'>\n",
      "138339891993344\n"
     ]
    }
   ],
   "source": [
    "prueba = ('Jean Charly', [24])\n",
    "print(type(prueba))\n",
    "print(id(prueba))"
   ]
  },
  {
   "cell_type": "code",
   "execution_count": 4,
   "metadata": {},
   "outputs": [],
   "source": [
    "prueba[1].append(\"Nikola Tesla\")"
   ]
  },
  {
   "cell_type": "code",
   "execution_count": 6,
   "metadata": {},
   "outputs": [
    {
     "name": "stdout",
     "output_type": "stream",
     "text": [
      "('Jean Charly', [24, 'Nikola Tesla'])\n",
      "<class 'tuple'>\n",
      "138339891993344\n"
     ]
    }
   ],
   "source": [
    "print(prueba)\n",
    "print(type(prueba))\n",
    "print(id(prueba))"
   ]
  },
  {
   "cell_type": "code",
   "execution_count": 30,
   "metadata": {},
   "outputs": [],
   "source": [
    "elemento = [1, 24, 3, 3]\n",
    "elemento1 = [3, 4, 5, 1]"
   ]
  },
  {
   "cell_type": "code",
   "execution_count": 12,
   "metadata": {},
   "outputs": [
    {
     "data": {
      "text/plain": [
       "[True, None]"
      ]
     },
     "execution_count": 12,
     "metadata": {},
     "output_type": "execute_result"
    }
   ],
   "source": [
    "elemento[int(len(elemento)/2):]"
   ]
  },
  {
   "cell_type": "code",
   "execution_count": 32,
   "metadata": {},
   "outputs": [
    {
     "ename": "ValueError",
     "evalue": "invalid literal for int() with base 10: 'j'",
     "output_type": "error",
     "traceback": [
      "\u001b[0;31m---------------------------------------------------------------------------\u001b[0m",
      "\u001b[0;31mValueError\u001b[0m                                Traceback (most recent call last)",
      "Cell \u001b[0;32mIn[32], line 5\u001b[0m\n\u001b[1;32m      3\u001b[0m a \u001b[38;5;241m=\u001b[39m np\u001b[38;5;241m.\u001b[39marray(elemento)\n\u001b[1;32m      4\u001b[0m b \u001b[38;5;241m=\u001b[39m np\u001b[38;5;241m.\u001b[39marray(elemento1)\n\u001b[0;32m----> 5\u001b[0m \u001b[43ma\u001b[49m\u001b[43m[\u001b[49m\u001b[38;5;241;43m0\u001b[39;49m\u001b[43m]\u001b[49m \u001b[38;5;241m=\u001b[39m \u001b[38;5;124m'\u001b[39m\u001b[38;5;124mj\u001b[39m\u001b[38;5;124m'\u001b[39m\n\u001b[1;32m      6\u001b[0m \u001b[38;5;28mprint\u001b[39m(a)\n",
      "\u001b[0;31mValueError\u001b[0m: invalid literal for int() with base 10: 'j'"
     ]
    }
   ],
   "source": [
    "import numpy as np\n",
    "\n",
    "a = np.array(elemento)\n",
    "b = np.array(elemento1)\n",
    "a[0] = 'j'\n",
    "print(a)"
   ]
  },
  {
   "cell_type": "code",
   "execution_count": 24,
   "metadata": {},
   "outputs": [
    {
     "name": "stdout",
     "output_type": "stream",
     "text": [
      "[3, 96, 'jjjjj', 3]\n"
     ]
    }
   ],
   "source": [
    "\n",
    "elemento2 = []\n",
    "\n",
    "for i in range(len(elemento)):\n",
    "    elemento2.append(elemento[i] * elemento1[i])\n",
    "print(elemento2)"
   ]
  },
  {
   "cell_type": "code",
   "execution_count": 35,
   "metadata": {},
   "outputs": [
    {
     "name": "stdout",
     "output_type": "stream",
     "text": [
      "No puede dividir entre cero :(\n"
     ]
    }
   ],
   "source": [
    "n = int(input(\"Ingrese un numero: \"))\n",
    "\n",
    "try:\n",
    "    print(234 /n)\n",
    "except ZeroDivisionError:\n",
    "    print(\"No puede dividir entre cero :(\")"
   ]
  },
  {
   "cell_type": "markdown",
   "metadata": {},
   "source": [
    "# Diccionarios\n",
    "\n",
    "{key: value}\n",
    "\n",
    "nombreSemana = {'semana': ['Lunes', 'Marte', ...], 'finSemana': ['Sabado', 'Domingo']}"
   ]
  },
  {
   "cell_type": "code",
   "execution_count": null,
   "metadata": {},
   "outputs": [
    {
     "data": {
      "text/plain": [
       "{'semana': ['Lunes', 'Marte', 'Miercoles', 'Jueves', 'Viernes']}"
      ]
     },
     "execution_count": 2,
     "metadata": {},
     "output_type": "execute_result"
    }
   ],
   "source": [
    "diasSemanas = {'semana': ['Lunes', 'Marte', 'Miercoles', 'Jueves', 'Viernes'],}\n",
    "diasSemanas"
   ]
  },
  {
   "cell_type": "code",
   "execution_count": 40,
   "metadata": {},
   "outputs": [
    {
     "name": "stdout",
     "output_type": "stream",
     "text": [
      "['Lunes', 'Marte', 'Miercoles', 'Jueves', 'Viernes']\n"
     ]
    }
   ],
   "source": [
    "print(diasSemanas['semana'])"
   ]
  },
  {
   "cell_type": "code",
   "execution_count": 3,
   "metadata": {},
   "outputs": [
    {
     "name": "stdout",
     "output_type": "stream",
     "text": [
      "{'semana': ['Lunes', 'Marte', 'Miercoles', 'Jueves', 'Viernes'], 'finSemana': ['Sabado', 'Domingo']}\n"
     ]
    }
   ],
   "source": [
    "diasSemanas['finSemana'] = ['Sabado', 'Domingo']\n",
    "print(diasSemanas)"
   ]
  },
  {
   "cell_type": "code",
   "execution_count": 4,
   "metadata": {},
   "outputs": [
    {
     "data": {
      "text/plain": [
       "{'nombre': ['Jean', 'Nikola', 'Marie'],\n",
       " 'apellidos': ['Joseph', 'Tesla', 'Curie'],\n",
       " 'edad': [32, 44, 22],\n",
       " 'sexo': ['M', 'M', 'F']}"
      ]
     },
     "execution_count": 4,
     "metadata": {},
     "output_type": "execute_result"
    }
   ],
   "source": [
    "#Diccionario como una Base de datos\n",
    "\n",
    "\n",
    "columnas = ['nombre', 'apellidos', 'edad', 'sexo']\n",
    "datos = [['Jean', \"Nikola\", \"Marie\"], ['Joseph', 'Tesla', 'Curie'], [32, 44, 22], ['M', 'M', 'F']]\n",
    "#Incomoda  - Estupida\n",
    "#{nombre: [], apellido: []}\n",
    "dataset = {}\n",
    "\n",
    "for i in range(len(columnas)):\n",
    "    dataset[columnas[i]] = datos[i]\n",
    "dataset"
   ]
  },
  {
   "cell_type": "code",
   "execution_count": 5,
   "metadata": {},
   "outputs": [
    {
     "name": "stdout",
     "output_type": "stream",
     "text": [
      "{'nombre': [], 'apellidos': [], 'edad': [], 'sexo': []}\n"
     ]
    }
   ],
   "source": [
    "#Forma elegante\n",
    "\n",
    "dataset1 = {columnas[i]: [] for i in range(len(columnas))}\n",
    "print(dataset1)"
   ]
  },
  {
   "cell_type": "code",
   "execution_count": 7,
   "metadata": {},
   "outputs": [],
   "source": [
    "#Funciones Aleatorias\n",
    "from random import randint"
   ]
  },
  {
   "cell_type": "code",
   "execution_count": 8,
   "metadata": {},
   "outputs": [
    {
     "data": {
      "text/plain": [
       "'080-912-32344'"
      ]
     },
     "execution_count": 8,
     "metadata": {},
     "output_type": "execute_result"
    }
   ],
   "source": [
    "telefono = '08091232344'\n",
    "\"%s-%s-%s\"%(telefono[:3], telefono[3:6], telefono[6:])"
   ]
  },
  {
   "cell_type": "code",
   "execution_count": 8,
   "metadata": {},
   "outputs": [
    {
     "data": {
      "text/plain": [
       "{'nombre': ['nombre_35',\n",
       "  'nombre_6',\n",
       "  'nombre_24',\n",
       "  'nombre_50',\n",
       "  'nombre_48',\n",
       "  'nombre_1',\n",
       "  'nombre_20',\n",
       "  'nombre_16',\n",
       "  'nombre_25',\n",
       "  'nombre_30',\n",
       "  'nombre_28',\n",
       "  'nombre_50',\n",
       "  'nombre_19',\n",
       "  'nombre_15',\n",
       "  'nombre_47',\n",
       "  'nombre_6',\n",
       "  'nombre_22',\n",
       "  'nombre_46',\n",
       "  'nombre_26',\n",
       "  'nombre_47',\n",
       "  'nombre_49'],\n",
       " 'apellidos': ['apellidos_46',\n",
       "  'apellidos_36',\n",
       "  'apellidos_47',\n",
       "  'apellidos_24',\n",
       "  'apellidos_33',\n",
       "  'apellidos_37',\n",
       "  'apellidos_4',\n",
       "  'apellidos_47',\n",
       "  'apellidos_33',\n",
       "  'apellidos_11',\n",
       "  'apellidos_37',\n",
       "  'apellidos_17',\n",
       "  'apellidos_36',\n",
       "  'apellidos_50',\n",
       "  'apellidos_28',\n",
       "  'apellidos_26',\n",
       "  'apellidos_13',\n",
       "  'apellidos_2',\n",
       "  'apellidos_5',\n",
       "  'apellidos_33',\n",
       "  'apellidos_46'],\n",
       " 'edad': [44,\n",
       "  31,\n",
       "  43,\n",
       "  44,\n",
       "  30,\n",
       "  33,\n",
       "  43,\n",
       "  23,\n",
       "  42,\n",
       "  22,\n",
       "  34,\n",
       "  48,\n",
       "  37,\n",
       "  44,\n",
       "  19,\n",
       "  24,\n",
       "  50,\n",
       "  34,\n",
       "  31,\n",
       "  25,\n",
       "  42],\n",
       " 'sexo': [0, 1, 0, 1, 0, 0, 0, 1, 1, 1, 0, 1, 0, 1, 0, 1, 0, 0, 0, 0, 1],\n",
       " 'ids': [0,\n",
       "  1,\n",
       "  2,\n",
       "  3,\n",
       "  4,\n",
       "  5,\n",
       "  6,\n",
       "  7,\n",
       "  8,\n",
       "  9,\n",
       "  10,\n",
       "  11,\n",
       "  12,\n",
       "  13,\n",
       "  14,\n",
       "  15,\n",
       "  16,\n",
       "  17,\n",
       "  18,\n",
       "  19,\n",
       "  20]}"
      ]
     },
     "execution_count": 8,
     "metadata": {},
     "output_type": "execute_result"
    }
   ],
   "source": [
    "dataset1['ids'] = []\n",
    "for i in range(21):\n",
    "    dataset1['ids'].append(i)\n",
    "    dataset1['nombre'].append(\"nombre_%s\"%randint(1, 50))\n",
    "    dataset1['apellidos'].append(\"apellidos_%s\"%randint(1, 50))\n",
    "    dataset1['edad'].append(randint(18, 50))\n",
    "    dataset1['sexo'].append(randint(0, 1))\n",
    "dataset1"
   ]
  },
  {
   "cell_type": "code",
   "execution_count": 34,
   "metadata": {},
   "outputs": [],
   "source": [
    "dataset1['apellidos'][4] = None\n",
    "dataset1['nombre'][2] = None\n",
    "dataset1['sexo'][5] = None"
   ]
  },
  {
   "cell_type": "code",
   "execution_count": 71,
   "metadata": {},
   "outputs": [
    {
     "name": "stdout",
     "output_type": "stream",
     "text": [
      "nombre\n",
      "nombre_25\n",
      "nombre_26\n",
      "Jean Charly\n",
      "nombre_7\n",
      "nombre_27\n",
      "nombre_48\n",
      "apellidos\n",
      "apellidos_6\n",
      "apellidos_5\n",
      "apellidos_25\n",
      "apellidos_8\n",
      "Joseph\n",
      "apellidos_23\n",
      "apellidos_38\n",
      "apellidos_17\n",
      "apellidos_44\n",
      "edad\n",
      "40\n",
      "19\n",
      "24\n",
      "46\n",
      "sexo\n",
      "1\n",
      "0\n",
      "0\n",
      "1\n",
      "ids\n",
      "0\n",
      "1\n",
      "2\n"
     ]
    }
   ],
   "source": [
    "\n",
    "for i in range(len(list(dataset1.keys()))):\n",
    "    col = list(dataset1.keys())[i]\n",
    "    print(col)\n",
    "    for j in range(len(col)):\n",
    "        print(dataset1[col][j])\n",
    "        if dataset1[col][j] is None:\n",
    "            count += 1\n",
    "            ingresarApellido = input(\"Ingrese su %s: \"%col)\n",
    "            dataset1[col][j] = ingresarApellido"
   ]
  },
  {
   "cell_type": "code",
   "execution_count": 70,
   "metadata": {},
   "outputs": [
    {
     "name": "stdout",
     "output_type": "stream",
     "text": [
      "0\n",
      "0\n",
      "0\n",
      "0\n",
      "1\n",
      "1\n",
      "1\n",
      "1\n",
      "2\n",
      "2\n",
      "2\n",
      "2\n",
      "3\n",
      "3\n",
      "3\n",
      "3\n",
      "4\n",
      "4\n",
      "4\n",
      "4\n",
      "5\n",
      "5\n",
      "5\n",
      "5\n",
      "6\n",
      "6\n",
      "6\n",
      "6\n",
      "7\n",
      "7\n",
      "7\n",
      "7\n",
      "8\n",
      "8\n",
      "8\n",
      "8\n",
      "9\n",
      "9\n",
      "9\n",
      "9\n",
      "10\n",
      "10\n",
      "10\n",
      "10\n",
      "11\n",
      "11\n",
      "11\n",
      "11\n",
      "12\n",
      "12\n",
      "12\n",
      "12\n",
      "13\n",
      "13\n",
      "13\n",
      "13\n",
      "14\n",
      "14\n",
      "14\n",
      "14\n",
      "15\n",
      "15\n",
      "15\n",
      "15\n",
      "16\n",
      "16\n",
      "16\n",
      "16\n",
      "17\n",
      "17\n",
      "17\n",
      "17\n",
      "18\n",
      "18\n",
      "18\n",
      "18\n",
      "19\n",
      "19\n",
      "19\n",
      "19\n"
     ]
    },
    {
     "data": {
      "text/plain": [
       "{'nombre': 19, 'apellidos': 19, 'edad': 19, 'sexo': 19}"
      ]
     },
     "execution_count": 70,
     "metadata": {},
     "output_type": "execute_result"
    }
   ],
   "source": [
    "count = 0\n",
    "\n",
    "for j in range(20):\n",
    "    for i in range(len(list(contabilizarColumnasValorFaltante.keys()))):\n",
    "        col = list(contabilizarColumnasValorFaltante.keys())[i]\n",
    "        print(count)\n",
    "        contabilizarColumnasValorFaltante[col] = count\n",
    "    count += 1\n",
    "contabilizarColumnasValorFaltante\n",
    "    "
   ]
  },
  {
   "cell_type": "code",
   "execution_count": 37,
   "metadata": {},
   "outputs": [
    {
     "data": {
      "text/plain": [
       "{'nombre': ['nombre_25',\n",
       "  'nombre_26',\n",
       "  'Jean Charly',\n",
       "  'nombre_7',\n",
       "  'nombre_27',\n",
       "  'nombre_48',\n",
       "  'nombre_48',\n",
       "  'nombre_42',\n",
       "  'nombre_17',\n",
       "  'nombre_41',\n",
       "  'nombre_3',\n",
       "  'nombre_32',\n",
       "  'nombre_8',\n",
       "  'nombre_39',\n",
       "  'nombre_11',\n",
       "  'nombre_24',\n",
       "  'nombre_42',\n",
       "  'nombre_38',\n",
       "  'nombre_43',\n",
       "  'nombre_34',\n",
       "  'nombre_26',\n",
       "  'nombre_32',\n",
       "  'nombre_33',\n",
       "  'nombre_34',\n",
       "  'nombre_22',\n",
       "  'nombre_40',\n",
       "  'nombre_44',\n",
       "  'nombre_44',\n",
       "  'nombre_4',\n",
       "  'nombre_29',\n",
       "  'nombre_28',\n",
       "  'nombre_17',\n",
       "  'nombre_29',\n",
       "  'nombre_32',\n",
       "  'nombre_42',\n",
       "  'nombre_10',\n",
       "  'nombre_1',\n",
       "  'nombre_43',\n",
       "  'nombre_25',\n",
       "  'nombre_41',\n",
       "  'nombre_42',\n",
       "  'nombre_21',\n",
       "  'nombre_26',\n",
       "  'nombre_31',\n",
       "  'nombre_38',\n",
       "  'nombre_12',\n",
       "  'nombre_33',\n",
       "  'nombre_20',\n",
       "  'nombre_27',\n",
       "  'nombre_35',\n",
       "  'nombre_11',\n",
       "  'nombre_39',\n",
       "  'nombre_44',\n",
       "  'nombre_33',\n",
       "  'nombre_8',\n",
       "  'nombre_32',\n",
       "  'nombre_26',\n",
       "  'nombre_25',\n",
       "  'nombre_32',\n",
       "  'nombre_2',\n",
       "  'nombre_21',\n",
       "  'nombre_33',\n",
       "  'nombre_14',\n",
       "  'nombre_16',\n",
       "  'nombre_38',\n",
       "  'nombre_45',\n",
       "  'nombre_44',\n",
       "  'nombre_22',\n",
       "  'nombre_37',\n",
       "  'nombre_29',\n",
       "  'nombre_29',\n",
       "  'nombre_42',\n",
       "  'nombre_3',\n",
       "  'nombre_5',\n",
       "  'nombre_46',\n",
       "  'nombre_26',\n",
       "  'nombre_24',\n",
       "  'nombre_28',\n",
       "  'nombre_13',\n",
       "  'nombre_8',\n",
       "  'nombre_22',\n",
       "  'nombre_18',\n",
       "  'nombre_19',\n",
       "  'nombre_21'],\n",
       " 'apellidos': ['apellidos_6',\n",
       "  'apellidos_5',\n",
       "  'apellidos_25',\n",
       "  'apellidos_8',\n",
       "  'Joseph',\n",
       "  'apellidos_23',\n",
       "  'apellidos_38',\n",
       "  'apellidos_17',\n",
       "  'apellidos_44',\n",
       "  'apellidos_6',\n",
       "  'apellidos_36',\n",
       "  'apellidos_29',\n",
       "  'apellidos_45',\n",
       "  'apellidos_37',\n",
       "  'apellidos_30',\n",
       "  'apellidos_42',\n",
       "  'apellidos_39',\n",
       "  'apellidos_14',\n",
       "  'apellidos_22',\n",
       "  'apellidos_11',\n",
       "  'apellidos_14',\n",
       "  'apellidos_45',\n",
       "  'apellidos_45',\n",
       "  'apellidos_45',\n",
       "  'apellidos_33',\n",
       "  'apellidos_37',\n",
       "  'apellidos_16',\n",
       "  'apellidos_18',\n",
       "  'apellidos_39',\n",
       "  'apellidos_43',\n",
       "  'apellidos_3',\n",
       "  'apellidos_42',\n",
       "  'apellidos_16',\n",
       "  'apellidos_3',\n",
       "  'apellidos_7',\n",
       "  'apellidos_34',\n",
       "  'apellidos_31',\n",
       "  'apellidos_11',\n",
       "  'apellidos_37',\n",
       "  'apellidos_36',\n",
       "  'apellidos_1',\n",
       "  'apellidos_44',\n",
       "  'apellidos_38',\n",
       "  'apellidos_24',\n",
       "  'apellidos_19',\n",
       "  'apellidos_3',\n",
       "  'apellidos_47',\n",
       "  'apellidos_35',\n",
       "  'apellidos_20',\n",
       "  'apellidos_34',\n",
       "  'apellidos_13',\n",
       "  'apellidos_18',\n",
       "  'apellidos_22',\n",
       "  'apellidos_3',\n",
       "  'apellidos_28',\n",
       "  'apellidos_7',\n",
       "  'apellidos_37',\n",
       "  'apellidos_36',\n",
       "  'apellidos_35',\n",
       "  'apellidos_4',\n",
       "  'apellidos_43',\n",
       "  'apellidos_11',\n",
       "  'apellidos_21',\n",
       "  'apellidos_38',\n",
       "  'apellidos_47',\n",
       "  'apellidos_44',\n",
       "  'apellidos_14',\n",
       "  'apellidos_38',\n",
       "  'apellidos_24',\n",
       "  'apellidos_30',\n",
       "  'apellidos_7',\n",
       "  'apellidos_9',\n",
       "  'apellidos_29',\n",
       "  'apellidos_40',\n",
       "  'apellidos_23',\n",
       "  'apellidos_48',\n",
       "  'apellidos_35',\n",
       "  'apellidos_22',\n",
       "  'apellidos_3',\n",
       "  'apellidos_46',\n",
       "  'apellidos_26',\n",
       "  'apellidos_43',\n",
       "  'apellidos_14',\n",
       "  'apellidos_17'],\n",
       " 'edad': [40,\n",
       "  19,\n",
       "  24,\n",
       "  46,\n",
       "  45,\n",
       "  39,\n",
       "  40,\n",
       "  24,\n",
       "  20,\n",
       "  29,\n",
       "  19,\n",
       "  50,\n",
       "  22,\n",
       "  25,\n",
       "  44,\n",
       "  49,\n",
       "  37,\n",
       "  36,\n",
       "  33,\n",
       "  41,\n",
       "  22,\n",
       "  31,\n",
       "  26,\n",
       "  40,\n",
       "  39,\n",
       "  26,\n",
       "  31,\n",
       "  49,\n",
       "  50,\n",
       "  43,\n",
       "  48,\n",
       "  20,\n",
       "  38,\n",
       "  21,\n",
       "  44,\n",
       "  20,\n",
       "  31,\n",
       "  19,\n",
       "  50,\n",
       "  25,\n",
       "  43,\n",
       "  20,\n",
       "  38,\n",
       "  24,\n",
       "  20,\n",
       "  30,\n",
       "  23,\n",
       "  43,\n",
       "  29,\n",
       "  40,\n",
       "  30,\n",
       "  18,\n",
       "  20,\n",
       "  49,\n",
       "  34,\n",
       "  48,\n",
       "  26,\n",
       "  19,\n",
       "  31,\n",
       "  35,\n",
       "  25,\n",
       "  47,\n",
       "  33,\n",
       "  40,\n",
       "  29,\n",
       "  34,\n",
       "  46,\n",
       "  46,\n",
       "  18,\n",
       "  29,\n",
       "  44,\n",
       "  39,\n",
       "  23,\n",
       "  38,\n",
       "  32,\n",
       "  37,\n",
       "  35,\n",
       "  43,\n",
       "  27,\n",
       "  41,\n",
       "  39,\n",
       "  37,\n",
       "  41,\n",
       "  35],\n",
       " 'sexo': [1,\n",
       "  0,\n",
       "  0,\n",
       "  1,\n",
       "  1,\n",
       "  None,\n",
       "  1,\n",
       "  1,\n",
       "  1,\n",
       "  0,\n",
       "  0,\n",
       "  1,\n",
       "  1,\n",
       "  0,\n",
       "  0,\n",
       "  1,\n",
       "  0,\n",
       "  0,\n",
       "  0,\n",
       "  1,\n",
       "  0,\n",
       "  1,\n",
       "  0,\n",
       "  1,\n",
       "  0,\n",
       "  1,\n",
       "  0,\n",
       "  0,\n",
       "  1,\n",
       "  0,\n",
       "  0,\n",
       "  1,\n",
       "  0,\n",
       "  1,\n",
       "  1,\n",
       "  1,\n",
       "  0,\n",
       "  1,\n",
       "  0,\n",
       "  1,\n",
       "  1,\n",
       "  1,\n",
       "  0,\n",
       "  1,\n",
       "  0,\n",
       "  0,\n",
       "  0,\n",
       "  1,\n",
       "  1,\n",
       "  1,\n",
       "  0,\n",
       "  1,\n",
       "  1,\n",
       "  1,\n",
       "  0,\n",
       "  0,\n",
       "  1,\n",
       "  1,\n",
       "  0,\n",
       "  0,\n",
       "  0,\n",
       "  1,\n",
       "  1,\n",
       "  1,\n",
       "  0,\n",
       "  1,\n",
       "  0,\n",
       "  0,\n",
       "  1,\n",
       "  1,\n",
       "  0,\n",
       "  0,\n",
       "  1,\n",
       "  0,\n",
       "  1,\n",
       "  1,\n",
       "  1,\n",
       "  1,\n",
       "  1,\n",
       "  1,\n",
       "  0,\n",
       "  1,\n",
       "  1,\n",
       "  0],\n",
       " 'ids': [0,\n",
       "  1,\n",
       "  2,\n",
       "  3,\n",
       "  4,\n",
       "  5,\n",
       "  6,\n",
       "  7,\n",
       "  8,\n",
       "  9,\n",
       "  10,\n",
       "  11,\n",
       "  12,\n",
       "  13,\n",
       "  14,\n",
       "  15,\n",
       "  16,\n",
       "  17,\n",
       "  18,\n",
       "  19,\n",
       "  20]}"
      ]
     },
     "execution_count": 37,
     "metadata": {},
     "output_type": "execute_result"
    }
   ],
   "source": [
    "dataset1"
   ]
  },
  {
   "cell_type": "code",
   "execution_count": 20,
   "metadata": {},
   "outputs": [
    {
     "data": {
      "text/plain": [
       "['apellidos_6',\n",
       " 'apellidos_5',\n",
       " 'apellidos_25',\n",
       " 'apellidos_8',\n",
       " 'Joseph',\n",
       " 'apellidos_23',\n",
       " 'apellidos_38',\n",
       " 'apellidos_17',\n",
       " 'apellidos_44',\n",
       " 'apellidos_6',\n",
       " 'apellidos_36',\n",
       " 'apellidos_29',\n",
       " 'apellidos_45',\n",
       " 'apellidos_37',\n",
       " 'apellidos_30',\n",
       " 'apellidos_42',\n",
       " 'apellidos_39',\n",
       " 'apellidos_14',\n",
       " 'apellidos_22',\n",
       " 'apellidos_11',\n",
       " 'apellidos_14',\n",
       " 'apellidos_45',\n",
       " 'apellidos_45',\n",
       " 'apellidos_45',\n",
       " 'apellidos_33',\n",
       " 'apellidos_37',\n",
       " 'apellidos_16',\n",
       " 'apellidos_18',\n",
       " 'apellidos_39',\n",
       " 'apellidos_43',\n",
       " 'apellidos_3',\n",
       " 'apellidos_42',\n",
       " 'apellidos_16',\n",
       " 'apellidos_3',\n",
       " 'apellidos_7',\n",
       " 'apellidos_34',\n",
       " 'apellidos_31',\n",
       " 'apellidos_11',\n",
       " 'apellidos_37',\n",
       " 'apellidos_36',\n",
       " 'apellidos_1',\n",
       " 'apellidos_44',\n",
       " 'apellidos_38',\n",
       " 'apellidos_24',\n",
       " 'apellidos_19',\n",
       " 'apellidos_3',\n",
       " 'apellidos_47',\n",
       " 'apellidos_35',\n",
       " 'apellidos_20',\n",
       " 'apellidos_34',\n",
       " 'apellidos_13',\n",
       " 'apellidos_18',\n",
       " 'apellidos_22',\n",
       " 'apellidos_3',\n",
       " 'apellidos_28',\n",
       " 'apellidos_7',\n",
       " 'apellidos_37',\n",
       " 'apellidos_36',\n",
       " 'apellidos_35',\n",
       " 'apellidos_4',\n",
       " 'apellidos_43',\n",
       " 'apellidos_11',\n",
       " 'apellidos_21',\n",
       " 'apellidos_38',\n",
       " 'apellidos_47',\n",
       " 'apellidos_44',\n",
       " 'apellidos_14',\n",
       " 'apellidos_38',\n",
       " 'apellidos_24',\n",
       " 'apellidos_30',\n",
       " 'apellidos_7',\n",
       " 'apellidos_9',\n",
       " 'apellidos_29',\n",
       " 'apellidos_40',\n",
       " 'apellidos_23',\n",
       " 'apellidos_48',\n",
       " 'apellidos_35',\n",
       " 'apellidos_22',\n",
       " 'apellidos_3',\n",
       " 'apellidos_46',\n",
       " 'apellidos_26',\n",
       " 'apellidos_43',\n",
       " 'apellidos_14',\n",
       " 'apellidos_17']"
      ]
     },
     "execution_count": 20,
     "metadata": {},
     "output_type": "execute_result"
    }
   ],
   "source": [
    "dataset1['apellidos']"
   ]
  },
  {
   "cell_type": "code",
   "execution_count": 73,
   "metadata": {},
   "outputs": [],
   "source": [
    "#Pandas\n",
    "\n",
    "# import pandas as pd\n",
    "from pandas import DataFrame"
   ]
  },
  {
   "cell_type": "code",
   "execution_count": 82,
   "metadata": {},
   "outputs": [],
   "source": [
    "df = DataFrame(dataset1)\n",
    "df.to_excel(\"DatosElementoPrueba.xlsx\", index=False)"
   ]
  },
  {
   "cell_type": "markdown",
   "metadata": {},
   "source": [
    "# Funcion\n",
    "\n",
    "$$f(x) = y$$\n",
    "$$y = f(x)$$\n",
    "\n",
    "* Tipos de Variables\n",
    "    - Variables independiente $x$\n",
    "    - Variables dependientes $y$\n",
    "\n",
    "\n",
    "```\n",
    "FUNCION <NOMBRE>(P1, P2, P3, PN) {\n",
    "    VALOR = (P1 + PN * (P3 / P2))\n",
    "    RETORNAR VALOR\n",
    "}\n",
    "NOMBRE(23, 43, 22, 0)\n",
    "```\n",
    "* Tipos de Funciones\n",
    "    - Funciones Definida\n",
    "    - Funciones Lenguaje (Sintaxis o Palabras Resevas)\n",
    "    - Funciones Anonimas\n",
    "    - Funciones Recursiva"
   ]
  },
  {
   "cell_type": "code",
   "execution_count": 78,
   "metadata": {},
   "outputs": [
    {
     "name": "stdout",
     "output_type": "stream",
     "text": [
      "338.3333333333333\n"
     ]
    },
    {
     "data": {
      "text/plain": [
       "181008.3333333333"
      ]
     },
     "execution_count": 78,
     "metadata": {},
     "output_type": "execute_result"
    }
   ],
   "source": [
    "#Funciones Definida\n",
    "def operacion(p1, pn, p3, p2):\n",
    "    valor = (p1 + pn * (p3 / p2))\n",
    "    print(valor)\n",
    "    return valor\n",
    "a = operacion(23, 43, 22, 3)\n",
    "a * 535"
   ]
  },
  {
   "cell_type": "code",
   "execution_count": 79,
   "metadata": {},
   "outputs": [
    {
     "name": "stdout",
     "output_type": "stream",
     "text": [
      "['False', 'None', 'True', 'and', 'as', 'assert', 'async', 'await', 'break', 'class', 'continue', 'def', 'del', 'elif', 'else', 'except', 'finally', 'for', 'from', 'global', 'if', 'import', 'in', 'is', 'lambda', 'nonlocal', 'not', 'or', 'pass', 'raise', 'return', 'try', 'while', 'with', 'yield']\n"
     ]
    }
   ],
   "source": [
    "#Funciones del Lenguaje\n",
    "from keyword import kwlist\n",
    "\n",
    "print(kwlist)"
   ]
  },
  {
   "cell_type": "markdown",
   "metadata": {},
   "source": [
    "### Funcion Anonima\n",
    "## $$x(n) = \\lambda x:x * \\mathbb{R}$$"
   ]
  },
  {
   "cell_type": "code",
   "execution_count": 80,
   "metadata": {},
   "outputs": [
    {
     "data": {
      "text/plain": [
       "265"
      ]
     },
     "execution_count": 80,
     "metadata": {},
     "output_type": "execute_result"
    }
   ],
   "source": [
    "#Funciones Anonimas\n",
    "\n",
    "a = lambda x: x * 5\n",
    "a(53)"
   ]
  },
  {
   "cell_type": "markdown",
   "metadata": {},
   "source": [
    "### Funcion Recursiva\n",
    "\n",
    "# $$f(f(x))$$"
   ]
  },
  {
   "cell_type": "code",
   "execution_count": 91,
   "metadata": {},
   "outputs": [
    {
     "name": "stdout",
     "output_type": "stream",
     "text": [
      "Aun debes seguir trabajo... porque es semana laboral.... jejeje 5\n",
      "Aun debes seguir trabajo... porque es semana laboral.... jejeje 4\n",
      "Aun debes seguir trabajo... porque es semana laboral.... jejeje 3\n",
      "Aun debes seguir trabajo... porque es semana laboral.... jejeje 2\n",
      "Aun debes seguir trabajo... porque es semana laboral.... jejeje 1\n"
     ]
    },
    {
     "data": {
      "text/plain": [
       "'Feliz fin de semana'"
      ]
     },
     "execution_count": 91,
     "metadata": {},
     "output_type": "execute_result"
    }
   ],
   "source": [
    "# Funcion Recursivas\n",
    "\n",
    "def recursion(n):\n",
    "    if n == 0:\n",
    "        return \"Feliz fin de semana\"\n",
    "    else:\n",
    "        print(\"Aun debes seguir trabajo... porque es semana laboral.... jejeje %s\"%n)\n",
    "        return recursion(n -1)\n",
    "recursion(5)"
   ]
  },
  {
   "cell_type": "code",
   "execution_count": 9,
   "metadata": {},
   "outputs": [
    {
     "data": {
      "text/html": [
       "<div>\n",
       "<style scoped>\n",
       "    .dataframe tbody tr th:only-of-type {\n",
       "        vertical-align: middle;\n",
       "    }\n",
       "\n",
       "    .dataframe tbody tr th {\n",
       "        vertical-align: top;\n",
       "    }\n",
       "\n",
       "    .dataframe thead th {\n",
       "        text-align: right;\n",
       "    }\n",
       "</style>\n",
       "<table border=\"1\" class=\"dataframe\">\n",
       "  <thead>\n",
       "    <tr style=\"text-align: right;\">\n",
       "      <th></th>\n",
       "      <th>nombre</th>\n",
       "      <th>apellidos</th>\n",
       "      <th>edad</th>\n",
       "      <th>sexo</th>\n",
       "      <th>ids</th>\n",
       "    </tr>\n",
       "  </thead>\n",
       "  <tbody>\n",
       "    <tr>\n",
       "      <th>0</th>\n",
       "      <td>nombre_35</td>\n",
       "      <td>apellidos_46</td>\n",
       "      <td>44</td>\n",
       "      <td>0</td>\n",
       "      <td>0</td>\n",
       "    </tr>\n",
       "    <tr>\n",
       "      <th>1</th>\n",
       "      <td>nombre_6</td>\n",
       "      <td>apellidos_36</td>\n",
       "      <td>31</td>\n",
       "      <td>1</td>\n",
       "      <td>1</td>\n",
       "    </tr>\n",
       "    <tr>\n",
       "      <th>2</th>\n",
       "      <td>nombre_24</td>\n",
       "      <td>apellidos_47</td>\n",
       "      <td>43</td>\n",
       "      <td>0</td>\n",
       "      <td>2</td>\n",
       "    </tr>\n",
       "    <tr>\n",
       "      <th>3</th>\n",
       "      <td>nombre_50</td>\n",
       "      <td>apellidos_24</td>\n",
       "      <td>44</td>\n",
       "      <td>1</td>\n",
       "      <td>3</td>\n",
       "    </tr>\n",
       "    <tr>\n",
       "      <th>4</th>\n",
       "      <td>nombre_48</td>\n",
       "      <td>apellidos_33</td>\n",
       "      <td>30</td>\n",
       "      <td>0</td>\n",
       "      <td>4</td>\n",
       "    </tr>\n",
       "    <tr>\n",
       "      <th>5</th>\n",
       "      <td>nombre_1</td>\n",
       "      <td>apellidos_37</td>\n",
       "      <td>33</td>\n",
       "      <td>0</td>\n",
       "      <td>5</td>\n",
       "    </tr>\n",
       "    <tr>\n",
       "      <th>6</th>\n",
       "      <td>nombre_20</td>\n",
       "      <td>apellidos_4</td>\n",
       "      <td>43</td>\n",
       "      <td>0</td>\n",
       "      <td>6</td>\n",
       "    </tr>\n",
       "    <tr>\n",
       "      <th>7</th>\n",
       "      <td>nombre_16</td>\n",
       "      <td>apellidos_47</td>\n",
       "      <td>23</td>\n",
       "      <td>1</td>\n",
       "      <td>7</td>\n",
       "    </tr>\n",
       "    <tr>\n",
       "      <th>8</th>\n",
       "      <td>nombre_25</td>\n",
       "      <td>apellidos_33</td>\n",
       "      <td>42</td>\n",
       "      <td>1</td>\n",
       "      <td>8</td>\n",
       "    </tr>\n",
       "    <tr>\n",
       "      <th>9</th>\n",
       "      <td>nombre_30</td>\n",
       "      <td>apellidos_11</td>\n",
       "      <td>22</td>\n",
       "      <td>1</td>\n",
       "      <td>9</td>\n",
       "    </tr>\n",
       "    <tr>\n",
       "      <th>10</th>\n",
       "      <td>nombre_28</td>\n",
       "      <td>apellidos_37</td>\n",
       "      <td>34</td>\n",
       "      <td>0</td>\n",
       "      <td>10</td>\n",
       "    </tr>\n",
       "    <tr>\n",
       "      <th>11</th>\n",
       "      <td>nombre_50</td>\n",
       "      <td>apellidos_17</td>\n",
       "      <td>48</td>\n",
       "      <td>1</td>\n",
       "      <td>11</td>\n",
       "    </tr>\n",
       "    <tr>\n",
       "      <th>12</th>\n",
       "      <td>nombre_19</td>\n",
       "      <td>apellidos_36</td>\n",
       "      <td>37</td>\n",
       "      <td>0</td>\n",
       "      <td>12</td>\n",
       "    </tr>\n",
       "    <tr>\n",
       "      <th>13</th>\n",
       "      <td>nombre_15</td>\n",
       "      <td>apellidos_50</td>\n",
       "      <td>44</td>\n",
       "      <td>1</td>\n",
       "      <td>13</td>\n",
       "    </tr>\n",
       "    <tr>\n",
       "      <th>14</th>\n",
       "      <td>nombre_47</td>\n",
       "      <td>apellidos_28</td>\n",
       "      <td>19</td>\n",
       "      <td>0</td>\n",
       "      <td>14</td>\n",
       "    </tr>\n",
       "    <tr>\n",
       "      <th>15</th>\n",
       "      <td>nombre_6</td>\n",
       "      <td>apellidos_26</td>\n",
       "      <td>24</td>\n",
       "      <td>1</td>\n",
       "      <td>15</td>\n",
       "    </tr>\n",
       "    <tr>\n",
       "      <th>16</th>\n",
       "      <td>nombre_22</td>\n",
       "      <td>apellidos_13</td>\n",
       "      <td>50</td>\n",
       "      <td>0</td>\n",
       "      <td>16</td>\n",
       "    </tr>\n",
       "    <tr>\n",
       "      <th>17</th>\n",
       "      <td>nombre_46</td>\n",
       "      <td>apellidos_2</td>\n",
       "      <td>34</td>\n",
       "      <td>0</td>\n",
       "      <td>17</td>\n",
       "    </tr>\n",
       "    <tr>\n",
       "      <th>18</th>\n",
       "      <td>nombre_26</td>\n",
       "      <td>apellidos_5</td>\n",
       "      <td>31</td>\n",
       "      <td>0</td>\n",
       "      <td>18</td>\n",
       "    </tr>\n",
       "    <tr>\n",
       "      <th>19</th>\n",
       "      <td>nombre_47</td>\n",
       "      <td>apellidos_33</td>\n",
       "      <td>25</td>\n",
       "      <td>0</td>\n",
       "      <td>19</td>\n",
       "    </tr>\n",
       "    <tr>\n",
       "      <th>20</th>\n",
       "      <td>nombre_49</td>\n",
       "      <td>apellidos_46</td>\n",
       "      <td>42</td>\n",
       "      <td>1</td>\n",
       "      <td>20</td>\n",
       "    </tr>\n",
       "  </tbody>\n",
       "</table>\n",
       "</div>"
      ],
      "text/plain": [
       "       nombre     apellidos  edad  sexo  ids\n",
       "0   nombre_35  apellidos_46    44     0    0\n",
       "1    nombre_6  apellidos_36    31     1    1\n",
       "2   nombre_24  apellidos_47    43     0    2\n",
       "3   nombre_50  apellidos_24    44     1    3\n",
       "4   nombre_48  apellidos_33    30     0    4\n",
       "5    nombre_1  apellidos_37    33     0    5\n",
       "6   nombre_20   apellidos_4    43     0    6\n",
       "7   nombre_16  apellidos_47    23     1    7\n",
       "8   nombre_25  apellidos_33    42     1    8\n",
       "9   nombre_30  apellidos_11    22     1    9\n",
       "10  nombre_28  apellidos_37    34     0   10\n",
       "11  nombre_50  apellidos_17    48     1   11\n",
       "12  nombre_19  apellidos_36    37     0   12\n",
       "13  nombre_15  apellidos_50    44     1   13\n",
       "14  nombre_47  apellidos_28    19     0   14\n",
       "15   nombre_6  apellidos_26    24     1   15\n",
       "16  nombre_22  apellidos_13    50     0   16\n",
       "17  nombre_46   apellidos_2    34     0   17\n",
       "18  nombre_26   apellidos_5    31     0   18\n",
       "19  nombre_47  apellidos_33    25     0   19\n",
       "20  nombre_49  apellidos_46    42     1   20"
      ]
     },
     "execution_count": 9,
     "metadata": {},
     "output_type": "execute_result"
    }
   ],
   "source": [
    "from pandas import DataFrame\n",
    "df = DataFrame(dataset1)\n",
    "df"
   ]
  },
  {
   "cell_type": "code",
   "execution_count": null,
   "metadata": {},
   "outputs": [],
   "source": [
    "#Metodo de Funcion Creada\n",
    "def modificarSexo(x):\n",
    "    if x == 1:\n",
    "        return \"Femenino\"\n",
    "    return \"Masculino\""
   ]
  },
  {
   "cell_type": "code",
   "execution_count": 18,
   "metadata": {},
   "outputs": [
    {
     "data": {
      "text/html": [
       "<div>\n",
       "<style scoped>\n",
       "    .dataframe tbody tr th:only-of-type {\n",
       "        vertical-align: middle;\n",
       "    }\n",
       "\n",
       "    .dataframe tbody tr th {\n",
       "        vertical-align: top;\n",
       "    }\n",
       "\n",
       "    .dataframe thead th {\n",
       "        text-align: right;\n",
       "    }\n",
       "</style>\n",
       "<table border=\"1\" class=\"dataframe\">\n",
       "  <thead>\n",
       "    <tr style=\"text-align: right;\">\n",
       "      <th></th>\n",
       "      <th>nombre</th>\n",
       "      <th>apellidos</th>\n",
       "      <th>edad</th>\n",
       "      <th>sexo</th>\n",
       "      <th>ids</th>\n",
       "      <th>SexoModificado1</th>\n",
       "      <th>SexoMetodoVectorial</th>\n",
       "    </tr>\n",
       "  </thead>\n",
       "  <tbody>\n",
       "    <tr>\n",
       "      <th>0</th>\n",
       "      <td>nombre_35</td>\n",
       "      <td>apellidos_46</td>\n",
       "      <td>44</td>\n",
       "      <td>0</td>\n",
       "      <td>0</td>\n",
       "      <td>Masculino</td>\n",
       "      <td>Masculino</td>\n",
       "    </tr>\n",
       "    <tr>\n",
       "      <th>1</th>\n",
       "      <td>nombre_6</td>\n",
       "      <td>apellidos_36</td>\n",
       "      <td>31</td>\n",
       "      <td>1</td>\n",
       "      <td>1</td>\n",
       "      <td>Femenino</td>\n",
       "      <td>Femenino</td>\n",
       "    </tr>\n",
       "    <tr>\n",
       "      <th>2</th>\n",
       "      <td>nombre_24</td>\n",
       "      <td>apellidos_47</td>\n",
       "      <td>43</td>\n",
       "      <td>0</td>\n",
       "      <td>2</td>\n",
       "      <td>Masculino</td>\n",
       "      <td>Masculino</td>\n",
       "    </tr>\n",
       "    <tr>\n",
       "      <th>3</th>\n",
       "      <td>nombre_50</td>\n",
       "      <td>apellidos_24</td>\n",
       "      <td>44</td>\n",
       "      <td>1</td>\n",
       "      <td>3</td>\n",
       "      <td>Femenino</td>\n",
       "      <td>Femenino</td>\n",
       "    </tr>\n",
       "    <tr>\n",
       "      <th>4</th>\n",
       "      <td>nombre_48</td>\n",
       "      <td>apellidos_33</td>\n",
       "      <td>30</td>\n",
       "      <td>0</td>\n",
       "      <td>4</td>\n",
       "      <td>Masculino</td>\n",
       "      <td>Masculino</td>\n",
       "    </tr>\n",
       "    <tr>\n",
       "      <th>5</th>\n",
       "      <td>nombre_1</td>\n",
       "      <td>apellidos_37</td>\n",
       "      <td>33</td>\n",
       "      <td>0</td>\n",
       "      <td>5</td>\n",
       "      <td>Masculino</td>\n",
       "      <td>Masculino</td>\n",
       "    </tr>\n",
       "    <tr>\n",
       "      <th>6</th>\n",
       "      <td>nombre_20</td>\n",
       "      <td>apellidos_4</td>\n",
       "      <td>43</td>\n",
       "      <td>0</td>\n",
       "      <td>6</td>\n",
       "      <td>Masculino</td>\n",
       "      <td>Masculino</td>\n",
       "    </tr>\n",
       "    <tr>\n",
       "      <th>7</th>\n",
       "      <td>nombre_16</td>\n",
       "      <td>apellidos_47</td>\n",
       "      <td>23</td>\n",
       "      <td>1</td>\n",
       "      <td>7</td>\n",
       "      <td>Femenino</td>\n",
       "      <td>Femenino</td>\n",
       "    </tr>\n",
       "    <tr>\n",
       "      <th>8</th>\n",
       "      <td>nombre_25</td>\n",
       "      <td>apellidos_33</td>\n",
       "      <td>42</td>\n",
       "      <td>1</td>\n",
       "      <td>8</td>\n",
       "      <td>Femenino</td>\n",
       "      <td>Femenino</td>\n",
       "    </tr>\n",
       "    <tr>\n",
       "      <th>9</th>\n",
       "      <td>nombre_30</td>\n",
       "      <td>apellidos_11</td>\n",
       "      <td>22</td>\n",
       "      <td>1</td>\n",
       "      <td>9</td>\n",
       "      <td>Femenino</td>\n",
       "      <td>Femenino</td>\n",
       "    </tr>\n",
       "    <tr>\n",
       "      <th>10</th>\n",
       "      <td>nombre_28</td>\n",
       "      <td>apellidos_37</td>\n",
       "      <td>34</td>\n",
       "      <td>0</td>\n",
       "      <td>10</td>\n",
       "      <td>Masculino</td>\n",
       "      <td>Masculino</td>\n",
       "    </tr>\n",
       "    <tr>\n",
       "      <th>11</th>\n",
       "      <td>nombre_50</td>\n",
       "      <td>apellidos_17</td>\n",
       "      <td>48</td>\n",
       "      <td>1</td>\n",
       "      <td>11</td>\n",
       "      <td>Femenino</td>\n",
       "      <td>Femenino</td>\n",
       "    </tr>\n",
       "    <tr>\n",
       "      <th>12</th>\n",
       "      <td>nombre_19</td>\n",
       "      <td>apellidos_36</td>\n",
       "      <td>37</td>\n",
       "      <td>0</td>\n",
       "      <td>12</td>\n",
       "      <td>Masculino</td>\n",
       "      <td>Masculino</td>\n",
       "    </tr>\n",
       "    <tr>\n",
       "      <th>13</th>\n",
       "      <td>nombre_15</td>\n",
       "      <td>apellidos_50</td>\n",
       "      <td>44</td>\n",
       "      <td>1</td>\n",
       "      <td>13</td>\n",
       "      <td>Femenino</td>\n",
       "      <td>Femenino</td>\n",
       "    </tr>\n",
       "    <tr>\n",
       "      <th>14</th>\n",
       "      <td>nombre_47</td>\n",
       "      <td>apellidos_28</td>\n",
       "      <td>19</td>\n",
       "      <td>0</td>\n",
       "      <td>14</td>\n",
       "      <td>Masculino</td>\n",
       "      <td>Masculino</td>\n",
       "    </tr>\n",
       "    <tr>\n",
       "      <th>15</th>\n",
       "      <td>nombre_6</td>\n",
       "      <td>apellidos_26</td>\n",
       "      <td>24</td>\n",
       "      <td>1</td>\n",
       "      <td>15</td>\n",
       "      <td>Femenino</td>\n",
       "      <td>Femenino</td>\n",
       "    </tr>\n",
       "    <tr>\n",
       "      <th>16</th>\n",
       "      <td>nombre_22</td>\n",
       "      <td>apellidos_13</td>\n",
       "      <td>50</td>\n",
       "      <td>0</td>\n",
       "      <td>16</td>\n",
       "      <td>Masculino</td>\n",
       "      <td>Masculino</td>\n",
       "    </tr>\n",
       "    <tr>\n",
       "      <th>17</th>\n",
       "      <td>nombre_46</td>\n",
       "      <td>apellidos_2</td>\n",
       "      <td>34</td>\n",
       "      <td>0</td>\n",
       "      <td>17</td>\n",
       "      <td>Masculino</td>\n",
       "      <td>Masculino</td>\n",
       "    </tr>\n",
       "    <tr>\n",
       "      <th>18</th>\n",
       "      <td>nombre_26</td>\n",
       "      <td>apellidos_5</td>\n",
       "      <td>31</td>\n",
       "      <td>0</td>\n",
       "      <td>18</td>\n",
       "      <td>Masculino</td>\n",
       "      <td>Masculino</td>\n",
       "    </tr>\n",
       "    <tr>\n",
       "      <th>19</th>\n",
       "      <td>nombre_47</td>\n",
       "      <td>apellidos_33</td>\n",
       "      <td>25</td>\n",
       "      <td>0</td>\n",
       "      <td>19</td>\n",
       "      <td>Masculino</td>\n",
       "      <td>Masculino</td>\n",
       "    </tr>\n",
       "    <tr>\n",
       "      <th>20</th>\n",
       "      <td>nombre_49</td>\n",
       "      <td>apellidos_46</td>\n",
       "      <td>42</td>\n",
       "      <td>1</td>\n",
       "      <td>20</td>\n",
       "      <td>Femenino</td>\n",
       "      <td>Femenino</td>\n",
       "    </tr>\n",
       "  </tbody>\n",
       "</table>\n",
       "</div>"
      ],
      "text/plain": [
       "       nombre     apellidos  edad  ...  ids  SexoModificado1 SexoMetodoVectorial\n",
       "0   nombre_35  apellidos_46    44  ...    0        Masculino           Masculino\n",
       "1    nombre_6  apellidos_36    31  ...    1         Femenino            Femenino\n",
       "2   nombre_24  apellidos_47    43  ...    2        Masculino           Masculino\n",
       "3   nombre_50  apellidos_24    44  ...    3         Femenino            Femenino\n",
       "4   nombre_48  apellidos_33    30  ...    4        Masculino           Masculino\n",
       "5    nombre_1  apellidos_37    33  ...    5        Masculino           Masculino\n",
       "6   nombre_20   apellidos_4    43  ...    6        Masculino           Masculino\n",
       "7   nombre_16  apellidos_47    23  ...    7         Femenino            Femenino\n",
       "8   nombre_25  apellidos_33    42  ...    8         Femenino            Femenino\n",
       "9   nombre_30  apellidos_11    22  ...    9         Femenino            Femenino\n",
       "10  nombre_28  apellidos_37    34  ...   10        Masculino           Masculino\n",
       "11  nombre_50  apellidos_17    48  ...   11         Femenino            Femenino\n",
       "12  nombre_19  apellidos_36    37  ...   12        Masculino           Masculino\n",
       "13  nombre_15  apellidos_50    44  ...   13         Femenino            Femenino\n",
       "14  nombre_47  apellidos_28    19  ...   14        Masculino           Masculino\n",
       "15   nombre_6  apellidos_26    24  ...   15         Femenino            Femenino\n",
       "16  nombre_22  apellidos_13    50  ...   16        Masculino           Masculino\n",
       "17  nombre_46   apellidos_2    34  ...   17        Masculino           Masculino\n",
       "18  nombre_26   apellidos_5    31  ...   18        Masculino           Masculino\n",
       "19  nombre_47  apellidos_33    25  ...   19        Masculino           Masculino\n",
       "20  nombre_49  apellidos_46    42  ...   20         Femenino            Femenino\n",
       "\n",
       "[21 rows x 7 columns]"
      ]
     },
     "execution_count": 18,
     "metadata": {},
     "output_type": "execute_result"
    }
   ],
   "source": [
    "#Metodo de Vectorizacion\n",
    "import numpy as np\n",
    "\n",
    "sexoM = df['sexo']\n",
    "df['SexoMetodoVectorial'] = np.vectorize(modificarSexo)(sexoM.tolist())\n",
    "df\n",
    "\n",
    "\n"
   ]
  },
  {
   "cell_type": "code",
   "execution_count": 19,
   "metadata": {},
   "outputs": [
    {
     "data": {
      "text/html": [
       "<div>\n",
       "<style scoped>\n",
       "    .dataframe tbody tr th:only-of-type {\n",
       "        vertical-align: middle;\n",
       "    }\n",
       "\n",
       "    .dataframe tbody tr th {\n",
       "        vertical-align: top;\n",
       "    }\n",
       "\n",
       "    .dataframe thead th {\n",
       "        text-align: right;\n",
       "    }\n",
       "</style>\n",
       "<table border=\"1\" class=\"dataframe\">\n",
       "  <thead>\n",
       "    <tr style=\"text-align: right;\">\n",
       "      <th></th>\n",
       "      <th>nombre</th>\n",
       "      <th>apellidos</th>\n",
       "      <th>edad</th>\n",
       "      <th>sexo</th>\n",
       "      <th>ids</th>\n",
       "      <th>SexoModificado1</th>\n",
       "      <th>SexoMetodoVectorial</th>\n",
       "    </tr>\n",
       "  </thead>\n",
       "  <tbody>\n",
       "    <tr>\n",
       "      <th>0</th>\n",
       "      <td>nombre_35</td>\n",
       "      <td>apellidos_46</td>\n",
       "      <td>44</td>\n",
       "      <td>0</td>\n",
       "      <td>0</td>\n",
       "      <td>Masculino</td>\n",
       "      <td>Masculino</td>\n",
       "    </tr>\n",
       "    <tr>\n",
       "      <th>1</th>\n",
       "      <td>nombre_6</td>\n",
       "      <td>apellidos_36</td>\n",
       "      <td>31</td>\n",
       "      <td>1</td>\n",
       "      <td>1</td>\n",
       "      <td>Femenino</td>\n",
       "      <td>Femenino</td>\n",
       "    </tr>\n",
       "    <tr>\n",
       "      <th>2</th>\n",
       "      <td>nombre_24</td>\n",
       "      <td>apellidos_47</td>\n",
       "      <td>43</td>\n",
       "      <td>0</td>\n",
       "      <td>2</td>\n",
       "      <td>Masculino</td>\n",
       "      <td>Masculino</td>\n",
       "    </tr>\n",
       "    <tr>\n",
       "      <th>3</th>\n",
       "      <td>nombre_50</td>\n",
       "      <td>apellidos_24</td>\n",
       "      <td>44</td>\n",
       "      <td>1</td>\n",
       "      <td>3</td>\n",
       "      <td>Femenino</td>\n",
       "      <td>Femenino</td>\n",
       "    </tr>\n",
       "    <tr>\n",
       "      <th>4</th>\n",
       "      <td>nombre_48</td>\n",
       "      <td>apellidos_33</td>\n",
       "      <td>30</td>\n",
       "      <td>0</td>\n",
       "      <td>4</td>\n",
       "      <td>Masculino</td>\n",
       "      <td>Masculino</td>\n",
       "    </tr>\n",
       "    <tr>\n",
       "      <th>5</th>\n",
       "      <td>nombre_1</td>\n",
       "      <td>apellidos_37</td>\n",
       "      <td>33</td>\n",
       "      <td>0</td>\n",
       "      <td>5</td>\n",
       "      <td>Masculino</td>\n",
       "      <td>Masculino</td>\n",
       "    </tr>\n",
       "    <tr>\n",
       "      <th>6</th>\n",
       "      <td>nombre_20</td>\n",
       "      <td>apellidos_4</td>\n",
       "      <td>43</td>\n",
       "      <td>0</td>\n",
       "      <td>6</td>\n",
       "      <td>Masculino</td>\n",
       "      <td>Masculino</td>\n",
       "    </tr>\n",
       "    <tr>\n",
       "      <th>7</th>\n",
       "      <td>nombre_16</td>\n",
       "      <td>apellidos_47</td>\n",
       "      <td>23</td>\n",
       "      <td>1</td>\n",
       "      <td>7</td>\n",
       "      <td>Femenino</td>\n",
       "      <td>Femenino</td>\n",
       "    </tr>\n",
       "    <tr>\n",
       "      <th>8</th>\n",
       "      <td>nombre_25</td>\n",
       "      <td>apellidos_33</td>\n",
       "      <td>42</td>\n",
       "      <td>1</td>\n",
       "      <td>8</td>\n",
       "      <td>Femenino</td>\n",
       "      <td>Femenino</td>\n",
       "    </tr>\n",
       "    <tr>\n",
       "      <th>9</th>\n",
       "      <td>nombre_30</td>\n",
       "      <td>apellidos_11</td>\n",
       "      <td>22</td>\n",
       "      <td>1</td>\n",
       "      <td>9</td>\n",
       "      <td>Femenino</td>\n",
       "      <td>Femenino</td>\n",
       "    </tr>\n",
       "    <tr>\n",
       "      <th>10</th>\n",
       "      <td>nombre_28</td>\n",
       "      <td>apellidos_37</td>\n",
       "      <td>34</td>\n",
       "      <td>0</td>\n",
       "      <td>10</td>\n",
       "      <td>Masculino</td>\n",
       "      <td>Masculino</td>\n",
       "    </tr>\n",
       "    <tr>\n",
       "      <th>11</th>\n",
       "      <td>nombre_50</td>\n",
       "      <td>apellidos_17</td>\n",
       "      <td>48</td>\n",
       "      <td>1</td>\n",
       "      <td>11</td>\n",
       "      <td>Femenino</td>\n",
       "      <td>Femenino</td>\n",
       "    </tr>\n",
       "    <tr>\n",
       "      <th>12</th>\n",
       "      <td>nombre_19</td>\n",
       "      <td>apellidos_36</td>\n",
       "      <td>37</td>\n",
       "      <td>0</td>\n",
       "      <td>12</td>\n",
       "      <td>Masculino</td>\n",
       "      <td>Masculino</td>\n",
       "    </tr>\n",
       "    <tr>\n",
       "      <th>13</th>\n",
       "      <td>nombre_15</td>\n",
       "      <td>apellidos_50</td>\n",
       "      <td>44</td>\n",
       "      <td>1</td>\n",
       "      <td>13</td>\n",
       "      <td>Femenino</td>\n",
       "      <td>Femenino</td>\n",
       "    </tr>\n",
       "    <tr>\n",
       "      <th>14</th>\n",
       "      <td>nombre_47</td>\n",
       "      <td>apellidos_28</td>\n",
       "      <td>19</td>\n",
       "      <td>0</td>\n",
       "      <td>14</td>\n",
       "      <td>Masculino</td>\n",
       "      <td>Masculino</td>\n",
       "    </tr>\n",
       "    <tr>\n",
       "      <th>15</th>\n",
       "      <td>nombre_6</td>\n",
       "      <td>apellidos_26</td>\n",
       "      <td>24</td>\n",
       "      <td>1</td>\n",
       "      <td>15</td>\n",
       "      <td>Femenino</td>\n",
       "      <td>Femenino</td>\n",
       "    </tr>\n",
       "    <tr>\n",
       "      <th>16</th>\n",
       "      <td>nombre_22</td>\n",
       "      <td>apellidos_13</td>\n",
       "      <td>50</td>\n",
       "      <td>0</td>\n",
       "      <td>16</td>\n",
       "      <td>Masculino</td>\n",
       "      <td>Masculino</td>\n",
       "    </tr>\n",
       "    <tr>\n",
       "      <th>17</th>\n",
       "      <td>nombre_46</td>\n",
       "      <td>apellidos_2</td>\n",
       "      <td>34</td>\n",
       "      <td>0</td>\n",
       "      <td>17</td>\n",
       "      <td>Masculino</td>\n",
       "      <td>Masculino</td>\n",
       "    </tr>\n",
       "    <tr>\n",
       "      <th>18</th>\n",
       "      <td>nombre_26</td>\n",
       "      <td>apellidos_5</td>\n",
       "      <td>31</td>\n",
       "      <td>0</td>\n",
       "      <td>18</td>\n",
       "      <td>Masculino</td>\n",
       "      <td>Masculino</td>\n",
       "    </tr>\n",
       "    <tr>\n",
       "      <th>19</th>\n",
       "      <td>nombre_47</td>\n",
       "      <td>apellidos_33</td>\n",
       "      <td>25</td>\n",
       "      <td>0</td>\n",
       "      <td>19</td>\n",
       "      <td>Masculino</td>\n",
       "      <td>Masculino</td>\n",
       "    </tr>\n",
       "    <tr>\n",
       "      <th>20</th>\n",
       "      <td>nombre_49</td>\n",
       "      <td>apellidos_46</td>\n",
       "      <td>42</td>\n",
       "      <td>1</td>\n",
       "      <td>20</td>\n",
       "      <td>Femenino</td>\n",
       "      <td>Femenino</td>\n",
       "    </tr>\n",
       "  </tbody>\n",
       "</table>\n",
       "</div>"
      ],
      "text/plain": [
       "       nombre     apellidos  edad  ...  ids  SexoModificado1 SexoMetodoVectorial\n",
       "0   nombre_35  apellidos_46    44  ...    0        Masculino           Masculino\n",
       "1    nombre_6  apellidos_36    31  ...    1         Femenino            Femenino\n",
       "2   nombre_24  apellidos_47    43  ...    2        Masculino           Masculino\n",
       "3   nombre_50  apellidos_24    44  ...    3         Femenino            Femenino\n",
       "4   nombre_48  apellidos_33    30  ...    4        Masculino           Masculino\n",
       "5    nombre_1  apellidos_37    33  ...    5        Masculino           Masculino\n",
       "6   nombre_20   apellidos_4    43  ...    6        Masculino           Masculino\n",
       "7   nombre_16  apellidos_47    23  ...    7         Femenino            Femenino\n",
       "8   nombre_25  apellidos_33    42  ...    8         Femenino            Femenino\n",
       "9   nombre_30  apellidos_11    22  ...    9         Femenino            Femenino\n",
       "10  nombre_28  apellidos_37    34  ...   10        Masculino           Masculino\n",
       "11  nombre_50  apellidos_17    48  ...   11         Femenino            Femenino\n",
       "12  nombre_19  apellidos_36    37  ...   12        Masculino           Masculino\n",
       "13  nombre_15  apellidos_50    44  ...   13         Femenino            Femenino\n",
       "14  nombre_47  apellidos_28    19  ...   14        Masculino           Masculino\n",
       "15   nombre_6  apellidos_26    24  ...   15         Femenino            Femenino\n",
       "16  nombre_22  apellidos_13    50  ...   16        Masculino           Masculino\n",
       "17  nombre_46   apellidos_2    34  ...   17        Masculino           Masculino\n",
       "18  nombre_26   apellidos_5    31  ...   18        Masculino           Masculino\n",
       "19  nombre_47  apellidos_33    25  ...   19        Masculino           Masculino\n",
       "20  nombre_49  apellidos_46    42  ...   20         Femenino            Femenino\n",
       "\n",
       "[21 rows x 7 columns]"
      ]
     },
     "execution_count": 19,
     "metadata": {},
     "output_type": "execute_result"
    }
   ],
   "source": [
    "#Metodo de Lambda + Funcion Creada\n",
    "df['SexoModificado1'] = df['sexo'].apply(lambda x: modificarSexo(x))\n",
    "df"
   ]
  },
  {
   "cell_type": "code",
   "execution_count": null,
   "metadata": {},
   "outputs": [
    {
     "data": {
      "text/html": [
       "<div>\n",
       "<style scoped>\n",
       "    .dataframe tbody tr th:only-of-type {\n",
       "        vertical-align: middle;\n",
       "    }\n",
       "\n",
       "    .dataframe tbody tr th {\n",
       "        vertical-align: top;\n",
       "    }\n",
       "\n",
       "    .dataframe thead th {\n",
       "        text-align: right;\n",
       "    }\n",
       "</style>\n",
       "<table border=\"1\" class=\"dataframe\">\n",
       "  <thead>\n",
       "    <tr style=\"text-align: right;\">\n",
       "      <th></th>\n",
       "      <th>nombre</th>\n",
       "      <th>apellidos</th>\n",
       "      <th>edad</th>\n",
       "      <th>sexo</th>\n",
       "      <th>SexoModificado1</th>\n",
       "      <th>SexoModificado2</th>\n",
       "    </tr>\n",
       "  </thead>\n",
       "  <tbody>\n",
       "    <tr>\n",
       "      <th>0</th>\n",
       "      <td>nombre_45</td>\n",
       "      <td>apellidos_36</td>\n",
       "      <td>22</td>\n",
       "      <td>1</td>\n",
       "      <td>Femenino</td>\n",
       "      <td>Femenio</td>\n",
       "    </tr>\n",
       "    <tr>\n",
       "      <th>1</th>\n",
       "      <td>nombre_18</td>\n",
       "      <td>apellidos_26</td>\n",
       "      <td>39</td>\n",
       "      <td>0</td>\n",
       "      <td>Masculino</td>\n",
       "      <td>Masculino</td>\n",
       "    </tr>\n",
       "    <tr>\n",
       "      <th>2</th>\n",
       "      <td>nombre_25</td>\n",
       "      <td>apellidos_2</td>\n",
       "      <td>19</td>\n",
       "      <td>0</td>\n",
       "      <td>Masculino</td>\n",
       "      <td>Masculino</td>\n",
       "    </tr>\n",
       "    <tr>\n",
       "      <th>3</th>\n",
       "      <td>nombre_6</td>\n",
       "      <td>apellidos_15</td>\n",
       "      <td>47</td>\n",
       "      <td>1</td>\n",
       "      <td>Femenino</td>\n",
       "      <td>Femenio</td>\n",
       "    </tr>\n",
       "    <tr>\n",
       "      <th>4</th>\n",
       "      <td>nombre_35</td>\n",
       "      <td>apellidos_14</td>\n",
       "      <td>36</td>\n",
       "      <td>0</td>\n",
       "      <td>Masculino</td>\n",
       "      <td>Masculino</td>\n",
       "    </tr>\n",
       "    <tr>\n",
       "      <th>5</th>\n",
       "      <td>nombre_35</td>\n",
       "      <td>apellidos_35</td>\n",
       "      <td>46</td>\n",
       "      <td>1</td>\n",
       "      <td>Femenino</td>\n",
       "      <td>Femenio</td>\n",
       "    </tr>\n",
       "    <tr>\n",
       "      <th>6</th>\n",
       "      <td>nombre_36</td>\n",
       "      <td>apellidos_27</td>\n",
       "      <td>19</td>\n",
       "      <td>1</td>\n",
       "      <td>Femenino</td>\n",
       "      <td>Femenio</td>\n",
       "    </tr>\n",
       "    <tr>\n",
       "      <th>7</th>\n",
       "      <td>nombre_2</td>\n",
       "      <td>apellidos_27</td>\n",
       "      <td>50</td>\n",
       "      <td>1</td>\n",
       "      <td>Femenino</td>\n",
       "      <td>Femenio</td>\n",
       "    </tr>\n",
       "    <tr>\n",
       "      <th>8</th>\n",
       "      <td>nombre_27</td>\n",
       "      <td>apellidos_37</td>\n",
       "      <td>28</td>\n",
       "      <td>0</td>\n",
       "      <td>Masculino</td>\n",
       "      <td>Masculino</td>\n",
       "    </tr>\n",
       "    <tr>\n",
       "      <th>9</th>\n",
       "      <td>nombre_30</td>\n",
       "      <td>apellidos_31</td>\n",
       "      <td>18</td>\n",
       "      <td>1</td>\n",
       "      <td>Femenino</td>\n",
       "      <td>Femenio</td>\n",
       "    </tr>\n",
       "    <tr>\n",
       "      <th>10</th>\n",
       "      <td>nombre_5</td>\n",
       "      <td>apellidos_35</td>\n",
       "      <td>35</td>\n",
       "      <td>0</td>\n",
       "      <td>Masculino</td>\n",
       "      <td>Masculino</td>\n",
       "    </tr>\n",
       "    <tr>\n",
       "      <th>11</th>\n",
       "      <td>nombre_47</td>\n",
       "      <td>apellidos_4</td>\n",
       "      <td>19</td>\n",
       "      <td>0</td>\n",
       "      <td>Masculino</td>\n",
       "      <td>Masculino</td>\n",
       "    </tr>\n",
       "    <tr>\n",
       "      <th>12</th>\n",
       "      <td>nombre_22</td>\n",
       "      <td>apellidos_18</td>\n",
       "      <td>18</td>\n",
       "      <td>1</td>\n",
       "      <td>Femenino</td>\n",
       "      <td>Femenio</td>\n",
       "    </tr>\n",
       "    <tr>\n",
       "      <th>13</th>\n",
       "      <td>nombre_43</td>\n",
       "      <td>apellidos_7</td>\n",
       "      <td>50</td>\n",
       "      <td>0</td>\n",
       "      <td>Masculino</td>\n",
       "      <td>Masculino</td>\n",
       "    </tr>\n",
       "    <tr>\n",
       "      <th>14</th>\n",
       "      <td>nombre_47</td>\n",
       "      <td>apellidos_3</td>\n",
       "      <td>33</td>\n",
       "      <td>0</td>\n",
       "      <td>Masculino</td>\n",
       "      <td>Masculino</td>\n",
       "    </tr>\n",
       "    <tr>\n",
       "      <th>15</th>\n",
       "      <td>nombre_21</td>\n",
       "      <td>apellidos_24</td>\n",
       "      <td>30</td>\n",
       "      <td>1</td>\n",
       "      <td>Femenino</td>\n",
       "      <td>Femenio</td>\n",
       "    </tr>\n",
       "    <tr>\n",
       "      <th>16</th>\n",
       "      <td>nombre_15</td>\n",
       "      <td>apellidos_49</td>\n",
       "      <td>27</td>\n",
       "      <td>0</td>\n",
       "      <td>Masculino</td>\n",
       "      <td>Masculino</td>\n",
       "    </tr>\n",
       "    <tr>\n",
       "      <th>17</th>\n",
       "      <td>nombre_32</td>\n",
       "      <td>apellidos_35</td>\n",
       "      <td>29</td>\n",
       "      <td>1</td>\n",
       "      <td>Femenino</td>\n",
       "      <td>Femenio</td>\n",
       "    </tr>\n",
       "    <tr>\n",
       "      <th>18</th>\n",
       "      <td>nombre_27</td>\n",
       "      <td>apellidos_43</td>\n",
       "      <td>39</td>\n",
       "      <td>1</td>\n",
       "      <td>Femenino</td>\n",
       "      <td>Femenio</td>\n",
       "    </tr>\n",
       "    <tr>\n",
       "      <th>19</th>\n",
       "      <td>nombre_49</td>\n",
       "      <td>apellidos_25</td>\n",
       "      <td>28</td>\n",
       "      <td>0</td>\n",
       "      <td>Masculino</td>\n",
       "      <td>Masculino</td>\n",
       "    </tr>\n",
       "    <tr>\n",
       "      <th>20</th>\n",
       "      <td>nombre_45</td>\n",
       "      <td>apellidos_50</td>\n",
       "      <td>33</td>\n",
       "      <td>1</td>\n",
       "      <td>Femenino</td>\n",
       "      <td>Femenio</td>\n",
       "    </tr>\n",
       "  </tbody>\n",
       "</table>\n",
       "</div>"
      ],
      "text/plain": [
       "       nombre     apellidos  edad  sexo SexoModificado1 SexoModificado2\n",
       "0   nombre_45  apellidos_36    22     1        Femenino         Femenio\n",
       "1   nombre_18  apellidos_26    39     0       Masculino       Masculino\n",
       "2   nombre_25   apellidos_2    19     0       Masculino       Masculino\n",
       "3    nombre_6  apellidos_15    47     1        Femenino         Femenio\n",
       "4   nombre_35  apellidos_14    36     0       Masculino       Masculino\n",
       "5   nombre_35  apellidos_35    46     1        Femenino         Femenio\n",
       "6   nombre_36  apellidos_27    19     1        Femenino         Femenio\n",
       "7    nombre_2  apellidos_27    50     1        Femenino         Femenio\n",
       "8   nombre_27  apellidos_37    28     0       Masculino       Masculino\n",
       "9   nombre_30  apellidos_31    18     1        Femenino         Femenio\n",
       "10   nombre_5  apellidos_35    35     0       Masculino       Masculino\n",
       "11  nombre_47   apellidos_4    19     0       Masculino       Masculino\n",
       "12  nombre_22  apellidos_18    18     1        Femenino         Femenio\n",
       "13  nombre_43   apellidos_7    50     0       Masculino       Masculino\n",
       "14  nombre_47   apellidos_3    33     0       Masculino       Masculino\n",
       "15  nombre_21  apellidos_24    30     1        Femenino         Femenio\n",
       "16  nombre_15  apellidos_49    27     0       Masculino       Masculino\n",
       "17  nombre_32  apellidos_35    29     1        Femenino         Femenio\n",
       "18  nombre_27  apellidos_43    39     1        Femenino         Femenio\n",
       "19  nombre_49  apellidos_25    28     0       Masculino       Masculino\n",
       "20  nombre_45  apellidos_50    33     1        Femenino         Femenio"
      ]
     },
     "execution_count": 97,
     "metadata": {},
     "output_type": "execute_result"
    }
   ],
   "source": [
    "#Metodo Lambda\n",
    "df['SexoModificado2'] = df['sexo'].apply(lambda x: \"Femenio\" if x ==1 else \"Masculino\")\n",
    "df"
   ]
  },
  {
   "cell_type": "code",
   "execution_count": null,
   "metadata": {},
   "outputs": [],
   "source": [
    "df.to_  "
   ]
  },
  {
   "cell_type": "code",
   "execution_count": 99,
   "metadata": {},
   "outputs": [],
   "source": [
    "df.to_excel(\"DataDeEncuesta.xlsx\", index=False)"
   ]
  },
  {
   "cell_type": "markdown",
   "metadata": {},
   "source": [
    "# Conjuntos - set\n",
    "\n",
    "- Union ( | )\n",
    "- Interserccion ( & )\n",
    "- Diferencia ( - )\n",
    "- Diferencia Simetrica ( ^ )"
   ]
  },
  {
   "cell_type": "code",
   "execution_count": 2,
   "metadata": {},
   "outputs": [
    {
     "name": "stdout",
     "output_type": "stream",
     "text": [
      "{3, 4, 5, 6, 7, 23}\n",
      "{1, 3, 4, 5, 22}\n"
     ]
    }
   ],
   "source": [
    "conjuntos = {23, 3, 4, 5, 6, 7, 5}\n",
    "conjuntos1 = {3, 4, 22, 5, 1}\n",
    "\n",
    "\n",
    "print(conjuntos)\n",
    "print(conjuntos1)"
   ]
  },
  {
   "cell_type": "code",
   "execution_count": 3,
   "metadata": {},
   "outputs": [
    {
     "name": "stdout",
     "output_type": "stream",
     "text": [
      "{1, 3, 4, 5, 22, 55}\n"
     ]
    }
   ],
   "source": [
    "#add\n",
    "\n",
    "conjuntos1.add(55)\n",
    "print(conjuntos1)"
   ]
  },
  {
   "cell_type": "code",
   "execution_count": 5,
   "metadata": {},
   "outputs": [
    {
     "name": "stdout",
     "output_type": "stream",
     "text": [
      "{3, 4, 5, 7, 23}\n"
     ]
    }
   ],
   "source": [
    "#Remove\n",
    "\n",
    "conjuntos.remove(6)\n",
    "print(conjuntos)"
   ]
  },
  {
   "cell_type": "code",
   "execution_count": 5,
   "metadata": {},
   "outputs": [
    {
     "name": "stdout",
     "output_type": "stream",
     "text": [
      "{1, 3, 4, 5, 7, 23, 22, 55}\n"
     ]
    }
   ],
   "source": [
    "#Union\n",
    "print(conjuntos1 | conjuntos)"
   ]
  },
  {
   "cell_type": "code",
   "execution_count": null,
   "metadata": {},
   "outputs": [
    {
     "name": "stdout",
     "output_type": "stream",
     "text": [
      "{3, 4, 5}\n",
      "{3, 4, 5}\n"
     ]
    }
   ],
   "source": [
    "#Interserccion \n",
    "\n",
    "print(conjuntos1 & conjuntos)\n",
    "print(conjuntos & conjuntos1)"
   ]
  },
  {
   "cell_type": "code",
   "execution_count": 107,
   "metadata": {},
   "outputs": [
    {
     "name": "stdout",
     "output_type": "stream",
     "text": [
      "{1, 22, 55}\n",
      "{23, 7}\n"
     ]
    }
   ],
   "source": [
    "#Diferencia \n",
    "print(conjuntos1 - conjuntos)\n",
    "print(conjuntos -  conjuntos1)"
   ]
  },
  {
   "cell_type": "code",
   "execution_count": 6,
   "metadata": {},
   "outputs": [
    {
     "data": {
      "text/plain": [
       "{1, 7, 22, 23, 55}"
      ]
     },
     "execution_count": 6,
     "metadata": {},
     "output_type": "execute_result"
    }
   ],
   "source": [
    "(conjuntos1 - conjuntos) | (conjuntos -  conjuntos1)"
   ]
  },
  {
   "cell_type": "code",
   "execution_count": null,
   "metadata": {},
   "outputs": [
    {
     "name": "stdout",
     "output_type": "stream",
     "text": [
      "{1, 55, 23, 7, 22}\n"
     ]
    }
   ],
   "source": [
    "#Diferencia Simetrica\n",
    "\n",
    "conjuntos = {23, 3, 4, 5, 6, 7, 5}\n",
    "conjuntos1 = {3, 4, 22, 5, 1, 55}\n",
    "\n",
    "print(conjuntos1 ^ conjuntos)\n"
   ]
  },
  {
   "cell_type": "code",
   "execution_count": 7,
   "metadata": {},
   "outputs": [],
   "source": [
    "# Bases de datos\n",
    "\n",
    "\n",
    "A = {\"Nombre\", \"Apellidos\", \"Edad\"}\n",
    "B = {\"Nombre\", \"Edad\", \"Telefono\"}\n",
    "C = {\"Edad\", \"Apellidos\"}"
   ]
  },
  {
   "cell_type": "code",
   "execution_count": 112,
   "metadata": {},
   "outputs": [
    {
     "data": {
      "text/plain": [
       "{'Nombre', 'Telefono'}"
      ]
     },
     "execution_count": 112,
     "metadata": {},
     "output_type": "execute_result"
    }
   ],
   "source": [
    "B - C"
   ]
  },
  {
   "cell_type": "code",
   "execution_count": 113,
   "metadata": {},
   "outputs": [
    {
     "data": {
      "text/plain": [
       "{'Apellidos'}"
      ]
     },
     "execution_count": 113,
     "metadata": {},
     "output_type": "execute_result"
    }
   ],
   "source": [
    "C - B"
   ]
  },
  {
   "cell_type": "code",
   "execution_count": 118,
   "metadata": {},
   "outputs": [
    {
     "data": {
      "text/plain": [
       "{'Apellidos', 'Edad', 'Nombre', 'Telefono'}"
      ]
     },
     "execution_count": 118,
     "metadata": {},
     "output_type": "execute_result"
    }
   ],
   "source": [
    "(B | A) | (C - B)"
   ]
  },
  {
   "cell_type": "code",
   "execution_count": 123,
   "metadata": {},
   "outputs": [
    {
     "data": {
      "text/html": [
       "<div>\n",
       "<style scoped>\n",
       "    .dataframe tbody tr th:only-of-type {\n",
       "        vertical-align: middle;\n",
       "    }\n",
       "\n",
       "    .dataframe tbody tr th {\n",
       "        vertical-align: top;\n",
       "    }\n",
       "\n",
       "    .dataframe thead th {\n",
       "        text-align: right;\n",
       "    }\n",
       "</style>\n",
       "<table border=\"1\" class=\"dataframe\">\n",
       "  <thead>\n",
       "    <tr style=\"text-align: right;\">\n",
       "      <th></th>\n",
       "      <th>id</th>\n",
       "      <th>nombre_x</th>\n",
       "      <th>nombre_y</th>\n",
       "    </tr>\n",
       "  </thead>\n",
       "  <tbody>\n",
       "    <tr>\n",
       "      <th>0</th>\n",
       "      <td>3</td>\n",
       "      <td>df2</td>\n",
       "      <td>df3</td>\n",
       "    </tr>\n",
       "    <tr>\n",
       "      <th>1</th>\n",
       "      <td>4</td>\n",
       "      <td>df2-1</td>\n",
       "      <td>df3-1</td>\n",
       "    </tr>\n",
       "  </tbody>\n",
       "</table>\n",
       "</div>"
      ],
      "text/plain": [
       "   id nombre_x nombre_y\n",
       "0   3      df2      df3\n",
       "1   4    df2-1    df3-1"
      ]
     },
     "execution_count": 123,
     "metadata": {},
     "output_type": "execute_result"
    }
   ],
   "source": [
    "df2 = DataFrame({\"id\": [3, 4, 5, 6], \"nombre\": ['df2', 'df2-1', 'c', 'd']})\n",
    "df3 = DataFrame({\"id\": [3, 4, 7, 8], \"nombre\": ['df3', 'df3-1', 'f', 'g']})\n",
    "\n",
    "\n",
    "df2.merge(df3, on='id')"
   ]
  },
  {
   "cell_type": "code",
   "execution_count": null,
   "metadata": {},
   "outputs": [
    {
     "data": {
      "text/html": [
       "<div>\n",
       "<style scoped>\n",
       "    .dataframe tbody tr th:only-of-type {\n",
       "        vertical-align: middle;\n",
       "    }\n",
       "\n",
       "    .dataframe tbody tr th {\n",
       "        vertical-align: top;\n",
       "    }\n",
       "\n",
       "    .dataframe thead th {\n",
       "        text-align: right;\n",
       "    }\n",
       "</style>\n",
       "<table border=\"1\" class=\"dataframe\">\n",
       "  <thead>\n",
       "    <tr style=\"text-align: right;\">\n",
       "      <th></th>\n",
       "      <th>id</th>\n",
       "      <th>nombre_x</th>\n",
       "      <th>nombre_y</th>\n",
       "    </tr>\n",
       "  </thead>\n",
       "  <tbody>\n",
       "    <tr>\n",
       "      <th>0</th>\n",
       "      <td>3</td>\n",
       "      <td>df3</td>\n",
       "      <td>df2</td>\n",
       "    </tr>\n",
       "    <tr>\n",
       "      <th>1</th>\n",
       "      <td>4</td>\n",
       "      <td>df3-1</td>\n",
       "      <td>df2-1</td>\n",
       "    </tr>\n",
       "    <tr>\n",
       "      <th>2</th>\n",
       "      <td>7</td>\n",
       "      <td>f</td>\n",
       "      <td>NaN</td>\n",
       "    </tr>\n",
       "    <tr>\n",
       "      <th>3</th>\n",
       "      <td>8</td>\n",
       "      <td>g</td>\n",
       "      <td>NaN</td>\n",
       "    </tr>\n",
       "  </tbody>\n",
       "</table>\n",
       "</div>"
      ],
      "text/plain": [
       "   id nombre_x nombre_y\n",
       "0   3      df3      df2\n",
       "1   4    df3-1    df2-1\n",
       "2   7        f      NaN\n",
       "3   8        g      NaN"
      ]
     },
     "execution_count": 126,
     "metadata": {},
     "output_type": "execute_result"
    }
   ],
   "source": [
    "df3.merge(df2, on='id', how='left')"
   ]
  },
  {
   "cell_type": "code",
   "execution_count": 127,
   "metadata": {},
   "outputs": [],
   "source": [
    "import numpy as np\n",
    "import pandas as pd"
   ]
  },
  {
   "cell_type": "code",
   "execution_count": 131,
   "metadata": {},
   "outputs": [
    {
     "data": {
      "text/plain": [
       "0     1.0\n",
       "1     2.0\n",
       "2     3.0\n",
       "3     NaN\n",
       "4     6.0\n",
       "5     7.0\n",
       "6     8.0\n",
       "7    10.0\n",
       "dtype: float64"
      ]
     },
     "execution_count": 131,
     "metadata": {},
     "output_type": "execute_result"
    }
   ],
   "source": [
    "s = pd.Series([1, 2, 3, np.nan, 6, 7, 8, 10])\n",
    "s\n",
    "#Esta funcion Series, es diferente a la Datafreme\n",
    "#La diferencia es que solo esta admite una sola columan.\n",
    "#En la misma, se incluyo valor faltante como lo es np.nan (None, null)"
   ]
  },
  {
   "cell_type": "markdown",
   "metadata": {},
   "source": [
    "# HTTPs"
   ]
  },
  {
   "cell_type": "code",
   "execution_count": 19,
   "metadata": {},
   "outputs": [],
   "source": [
    "import urllib3\n",
    "import pandas as pd\n",
    "\n",
    "ruta = 'https://raw.githubusercontent.com/pandas-dev/pandas/main/doc/data/titanic.csv'\n",
    "HTTPS = urllib3.PoolManager()\n",
    "URL = HTTPS.request(\"GET\", ruta)\n",
    "# dir(URL)"
   ]
  },
  {
   "cell_type": "code",
   "execution_count": 5,
   "metadata": {},
   "outputs": [
    {
     "data": {
      "text/plain": [
       "HTTPHeaderDict({'Connection': 'keep-alive', 'Content-Length': '14', 'Content-Security-Policy': \"default-src 'none'; style-src 'unsafe-inline'; sandbox\", 'Strict-Transport-Security': 'max-age=31536000', 'X-Content-Type-Options': 'nosniff', 'X-Frame-Options': 'deny', 'X-XSS-Protection': '1; mode=block', 'Content-Type': 'text/plain; charset=utf-8', 'X-GitHub-Request-Id': '28B6:317547:7162F7:8A77CA:67EED6D7', 'Accept-Ranges': 'bytes', 'Date': 'Thu, 03 Apr 2025 18:43:36 GMT', 'Via': '1.1 varnish', 'X-Served-By': 'cache-iad-kcgs7200167-IAD', 'X-Cache': 'MISS', 'X-Cache-Hits': '0', 'X-Timer': 'S1743705816.993179,VS0,VE57', 'Vary': 'Authorization,Accept-Encoding,Origin', 'Access-Control-Allow-Origin': '*', 'Cross-Origin-Resource-Policy': 'cross-origin', 'X-Fastly-Request-ID': '308c03321fc0ff9b455e5bcaed9375caab78126e', 'Expires': 'Thu, 03 Apr 2025 18:48:36 GMT', 'Source-Age': '0'})"
      ]
     },
     "execution_count": 5,
     "metadata": {},
     "output_type": "execute_result"
    }
   ],
   "source": [
    "#HEADER\n",
    "\n",
    "URL.headers"
   ]
  },
  {
   "cell_type": "code",
   "execution_count": 6,
   "metadata": {},
   "outputs": [
    {
     "data": {
      "text/plain": [
       "404"
      ]
     },
     "execution_count": 6,
     "metadata": {},
     "output_type": "execute_result"
    }
   ],
   "source": [
    "#STATUS\n",
    "URL.status"
   ]
  },
  {
   "cell_type": "code",
   "execution_count": null,
   "metadata": {},
   "outputs": [],
   "source": [
    "#ejemplo\n",
    "\n",
    "\"localhost:3000/cedula\" #API"
   ]
  },
  {
   "cell_type": "code",
   "execution_count": 8,
   "metadata": {},
   "outputs": [],
   "source": [
    "def consultaCedula(cedula: str) -> str:\n",
    "    URL = urllib3.PoolManager()\n",
    "    url = f'localhost:3000/{cedula}'\n",
    "    # https = URL.request('GET', url)\n",
    "    if url == 200:\n",
    "        return \"Cedula valida\"\n",
    "    return \"Esta cedula no existe!!! \""
   ]
  },
  {
   "cell_type": "code",
   "execution_count": 5,
   "metadata": {},
   "outputs": [],
   "source": [
    "from random import randint\n",
    "\n",
    "ListaCedulas = [str(randint(000000000000, 999999999999)) for i in range(20)]"
   ]
  },
  {
   "cell_type": "code",
   "execution_count": 19,
   "metadata": {},
   "outputs": [],
   "source": [
    "def validacionCedula(cedula):\n",
    "    # 000-0000000-0\n",
    "    cedula_no_validas = []\n",
    "    if len(cedula) != 11:\n",
    "        cedula_no_validas.append(cedula)\n",
    "    modificacionCedula = f\"{cedula[0:3]}-{cedula[3:10]}-{cedula[-1]}\"\n",
    "    print(f\"localhost:3000/api_validacion/{modificacionCedula}\")\n",
    "    # print(modificacionCedula)\n",
    "\n",
    "# for i in range(len(ListaCedulas)):\n",
    "#     validacionCedula(ListaCedulas[i])"
   ]
  },
  {
   "cell_type": "code",
   "execution_count": 20,
   "metadata": {},
   "outputs": [
    {
     "name": "stdout",
     "output_type": "stream",
     "text": [
      "localhost:3000/api_validacion/359-6334543-7\n",
      "localhost:3000/api_validacion/359-6334543-7\n",
      "localhost:3000/api_validacion/307-9872587-8\n",
      "localhost:3000/api_validacion/490-3864814-3\n",
      "localhost:3000/api_validacion/441-9373607-2\n",
      "localhost:3000/api_validacion/541-3519537-2\n",
      "localhost:3000/api_validacion/254-7611225-2\n",
      "localhost:3000/api_validacion/967-1342290-2\n",
      "localhost:3000/api_validacion/362-5372950-4\n",
      "localhost:3000/api_validacion/775-6638816-6\n",
      "localhost:3000/api_validacion/220-5646274-6\n",
      "localhost:3000/api_validacion/551-5521714-1\n",
      "localhost:3000/api_validacion/488-4067276-4\n",
      "localhost:3000/api_validacion/849-0457378-8\n",
      "localhost:3000/api_validacion/197-9716133-2\n",
      "localhost:3000/api_validacion/955-6229709-0\n",
      "localhost:3000/api_validacion/935-8643245-4\n",
      "localhost:3000/api_validacion/387-6730361-3\n",
      "localhost:3000/api_validacion/455-0791424-6\n",
      "localhost:3000/api_validacion/543-3798202-6\n",
      "localhost:3000/api_validacion/365-5649625-3\n"
     ]
    },
    {
     "data": {
      "text/plain": [
       "array([None, None, None, None, None, None, None, None, None, None, None,\n",
       "       None, None, None, None, None, None, None, None, None], dtype=object)"
      ]
     },
     "execution_count": 20,
     "metadata": {},
     "output_type": "execute_result"
    }
   ],
   "source": [
    "import numpy as np\n",
    "\n",
    "np.vectorize(validacionCedula)(ListaCedulas)"
   ]
  },
  {
   "cell_type": "code",
   "execution_count": 5,
   "metadata": {},
   "outputs": [
    {
     "data": {
      "text/plain": [
       "array([1, 1, 1, 1, 0, 0, 0])"
      ]
     },
     "execution_count": 5,
     "metadata": {},
     "output_type": "execute_result"
    }
   ],
   "source": [
    "import numpy as np\n",
    "\n",
    "funcion = 5\n",
    "def elemento(n):\n",
    "    if n <= 5:\n",
    "        return 1\n",
    "    return 0\n",
    "a = np.array([2, 3, 4, 5, 6, 98, 10])\n",
    "\n",
    "np.vectorize(elemento)(a)"
   ]
  },
  {
   "cell_type": "code",
   "execution_count": 9,
   "metadata": {},
   "outputs": [
    {
     "ename": "SyntaxError",
     "evalue": "'return' outside function (2123141312.py, line 4)",
     "output_type": "error",
     "traceback": [
      "\u001b[0;36m  Cell \u001b[0;32mIn[9], line 4\u001b[0;36m\u001b[0m\n\u001b[0;31m    return \"Ok\"\u001b[0m\n\u001b[0m    ^\u001b[0m\n\u001b[0;31mSyntaxError\u001b[0m\u001b[0;31m:\u001b[0m 'return' outside function\n"
     ]
    }
   ],
   "source": [
    "#Condicion IF\n",
    "\n",
    "if URL.status == 200:\n",
    "    return \"Ok\"\n",
    "elif URL.status == 404:\n",
    "    return 'Page not Found'\n"
   ]
  },
  {
   "cell_type": "code",
   "execution_count": 30,
   "metadata": {},
   "outputs": [
    {
     "data": {
      "text/html": [
       "<div>\n",
       "<style scoped>\n",
       "    .dataframe tbody tr th:only-of-type {\n",
       "        vertical-align: middle;\n",
       "    }\n",
       "\n",
       "    .dataframe tbody tr th {\n",
       "        vertical-align: top;\n",
       "    }\n",
       "\n",
       "    .dataframe thead th {\n",
       "        text-align: right;\n",
       "    }\n",
       "</style>\n",
       "<table border=\"1\" class=\"dataframe\">\n",
       "  <thead>\n",
       "    <tr style=\"text-align: right;\">\n",
       "      <th></th>\n",
       "      <th>PassengerId</th>\n",
       "      <th>Survived</th>\n",
       "      <th>Pclass</th>\n",
       "      <th>Name</th>\n",
       "      <th>Sex</th>\n",
       "      <th>Age</th>\n",
       "      <th>SibSp</th>\n",
       "      <th>Parch</th>\n",
       "      <th>Ticket</th>\n",
       "      <th>Fare</th>\n",
       "      <th>Cabin</th>\n",
       "      <th>Embarked</th>\n",
       "    </tr>\n",
       "  </thead>\n",
       "  <tbody>\n",
       "    <tr>\n",
       "      <th>0</th>\n",
       "      <td>1</td>\n",
       "      <td>0</td>\n",
       "      <td>3</td>\n",
       "      <td>Braund, Mr. Owen Harris</td>\n",
       "      <td>male</td>\n",
       "      <td>22.0</td>\n",
       "      <td>1</td>\n",
       "      <td>0</td>\n",
       "      <td>A/5 21171</td>\n",
       "      <td>7.2500</td>\n",
       "      <td>NaN</td>\n",
       "      <td>S</td>\n",
       "    </tr>\n",
       "    <tr>\n",
       "      <th>1</th>\n",
       "      <td>2</td>\n",
       "      <td>1</td>\n",
       "      <td>1</td>\n",
       "      <td>Cumings, Mrs. John Bradley (Florence Briggs Th...</td>\n",
       "      <td>female</td>\n",
       "      <td>38.0</td>\n",
       "      <td>1</td>\n",
       "      <td>0</td>\n",
       "      <td>PC 17599</td>\n",
       "      <td>71.2833</td>\n",
       "      <td>C85</td>\n",
       "      <td>C</td>\n",
       "    </tr>\n",
       "    <tr>\n",
       "      <th>2</th>\n",
       "      <td>3</td>\n",
       "      <td>1</td>\n",
       "      <td>3</td>\n",
       "      <td>Heikkinen, Miss Laina</td>\n",
       "      <td>female</td>\n",
       "      <td>26.0</td>\n",
       "      <td>0</td>\n",
       "      <td>0</td>\n",
       "      <td>STON/O2. 3101282</td>\n",
       "      <td>7.9250</td>\n",
       "      <td>NaN</td>\n",
       "      <td>S</td>\n",
       "    </tr>\n",
       "    <tr>\n",
       "      <th>3</th>\n",
       "      <td>4</td>\n",
       "      <td>1</td>\n",
       "      <td>1</td>\n",
       "      <td>Futrelle, Mrs. Jacques Heath (Lily May Peel)</td>\n",
       "      <td>female</td>\n",
       "      <td>35.0</td>\n",
       "      <td>1</td>\n",
       "      <td>0</td>\n",
       "      <td>113803</td>\n",
       "      <td>53.1000</td>\n",
       "      <td>C123</td>\n",
       "      <td>S</td>\n",
       "    </tr>\n",
       "    <tr>\n",
       "      <th>4</th>\n",
       "      <td>5</td>\n",
       "      <td>0</td>\n",
       "      <td>3</td>\n",
       "      <td>Allen, Mr. William Henry</td>\n",
       "      <td>male</td>\n",
       "      <td>35.0</td>\n",
       "      <td>0</td>\n",
       "      <td>0</td>\n",
       "      <td>373450</td>\n",
       "      <td>8.0500</td>\n",
       "      <td>NaN</td>\n",
       "      <td>S</td>\n",
       "    </tr>\n",
       "    <tr>\n",
       "      <th>...</th>\n",
       "      <td>...</td>\n",
       "      <td>...</td>\n",
       "      <td>...</td>\n",
       "      <td>...</td>\n",
       "      <td>...</td>\n",
       "      <td>...</td>\n",
       "      <td>...</td>\n",
       "      <td>...</td>\n",
       "      <td>...</td>\n",
       "      <td>...</td>\n",
       "      <td>...</td>\n",
       "      <td>...</td>\n",
       "    </tr>\n",
       "    <tr>\n",
       "      <th>886</th>\n",
       "      <td>887</td>\n",
       "      <td>0</td>\n",
       "      <td>2</td>\n",
       "      <td>Montvila, Rev. Juozas</td>\n",
       "      <td>male</td>\n",
       "      <td>27.0</td>\n",
       "      <td>0</td>\n",
       "      <td>0</td>\n",
       "      <td>211536</td>\n",
       "      <td>13.0000</td>\n",
       "      <td>NaN</td>\n",
       "      <td>S</td>\n",
       "    </tr>\n",
       "    <tr>\n",
       "      <th>887</th>\n",
       "      <td>888</td>\n",
       "      <td>1</td>\n",
       "      <td>1</td>\n",
       "      <td>Graham, Miss Margaret Edith</td>\n",
       "      <td>female</td>\n",
       "      <td>19.0</td>\n",
       "      <td>0</td>\n",
       "      <td>0</td>\n",
       "      <td>112053</td>\n",
       "      <td>30.0000</td>\n",
       "      <td>B42</td>\n",
       "      <td>S</td>\n",
       "    </tr>\n",
       "    <tr>\n",
       "      <th>888</th>\n",
       "      <td>889</td>\n",
       "      <td>0</td>\n",
       "      <td>3</td>\n",
       "      <td>Johnston, Miss Catherine Helen \"Carrie\"</td>\n",
       "      <td>female</td>\n",
       "      <td>NaN</td>\n",
       "      <td>1</td>\n",
       "      <td>2</td>\n",
       "      <td>W./C. 6607</td>\n",
       "      <td>23.4500</td>\n",
       "      <td>NaN</td>\n",
       "      <td>S</td>\n",
       "    </tr>\n",
       "    <tr>\n",
       "      <th>889</th>\n",
       "      <td>890</td>\n",
       "      <td>1</td>\n",
       "      <td>1</td>\n",
       "      <td>Behr, Mr. Karl Howell</td>\n",
       "      <td>male</td>\n",
       "      <td>26.0</td>\n",
       "      <td>0</td>\n",
       "      <td>0</td>\n",
       "      <td>111369</td>\n",
       "      <td>30.0000</td>\n",
       "      <td>C148</td>\n",
       "      <td>C</td>\n",
       "    </tr>\n",
       "    <tr>\n",
       "      <th>890</th>\n",
       "      <td>891</td>\n",
       "      <td>0</td>\n",
       "      <td>3</td>\n",
       "      <td>Dooley, Mr. Patrick</td>\n",
       "      <td>male</td>\n",
       "      <td>32.0</td>\n",
       "      <td>0</td>\n",
       "      <td>0</td>\n",
       "      <td>370376</td>\n",
       "      <td>7.7500</td>\n",
       "      <td>NaN</td>\n",
       "      <td>Q</td>\n",
       "    </tr>\n",
       "  </tbody>\n",
       "</table>\n",
       "<p>891 rows × 12 columns</p>\n",
       "</div>"
      ],
      "text/plain": [
       "     PassengerId  Survived  Pclass  \\\n",
       "0              1         0       3   \n",
       "1              2         1       1   \n",
       "2              3         1       3   \n",
       "3              4         1       1   \n",
       "4              5         0       3   \n",
       "..           ...       ...     ...   \n",
       "886          887         0       2   \n",
       "887          888         1       1   \n",
       "888          889         0       3   \n",
       "889          890         1       1   \n",
       "890          891         0       3   \n",
       "\n",
       "                                                  Name     Sex   Age  SibSp  \\\n",
       "0                              Braund, Mr. Owen Harris    male  22.0      1   \n",
       "1    Cumings, Mrs. John Bradley (Florence Briggs Th...  female  38.0      1   \n",
       "2                                Heikkinen, Miss Laina  female  26.0      0   \n",
       "3         Futrelle, Mrs. Jacques Heath (Lily May Peel)  female  35.0      1   \n",
       "4                             Allen, Mr. William Henry    male  35.0      0   \n",
       "..                                                 ...     ...   ...    ...   \n",
       "886                              Montvila, Rev. Juozas    male  27.0      0   \n",
       "887                        Graham, Miss Margaret Edith  female  19.0      0   \n",
       "888            Johnston, Miss Catherine Helen \"Carrie\"  female   NaN      1   \n",
       "889                              Behr, Mr. Karl Howell    male  26.0      0   \n",
       "890                                Dooley, Mr. Patrick    male  32.0      0   \n",
       "\n",
       "     Parch            Ticket     Fare Cabin Embarked  \n",
       "0        0         A/5 21171   7.2500   NaN        S  \n",
       "1        0          PC 17599  71.2833   C85        C  \n",
       "2        0  STON/O2. 3101282   7.9250   NaN        S  \n",
       "3        0            113803  53.1000  C123        S  \n",
       "4        0            373450   8.0500   NaN        S  \n",
       "..     ...               ...      ...   ...      ...  \n",
       "886      0            211536  13.0000   NaN        S  \n",
       "887      0            112053  30.0000   B42        S  \n",
       "888      2        W./C. 6607  23.4500   NaN        S  \n",
       "889      0            111369  30.0000  C148        C  \n",
       "890      0            370376   7.7500   NaN        Q  \n",
       "\n",
       "[891 rows x 12 columns]"
      ]
     },
     "execution_count": 30,
     "metadata": {},
     "output_type": "execute_result"
    }
   ],
   "source": [
    "#Match - Case\n",
    "def prueba(ruta):\n",
    "    match URL.status:\n",
    "        case 200:\n",
    "            df = pd.read_csv(ruta)\n",
    "            return df\n",
    "        case 404 | 303 | 403:\n",
    "            return \"Algo se encuentra mal\"\n",
    "prueba(ruta)"
   ]
  },
  {
   "cell_type": "code",
   "execution_count": 16,
   "metadata": {},
   "outputs": [
    {
     "data": {
      "text/plain": [
       "b'PassengerId,Survived,Pclass,Name,Sex,Age,SibSp,Parch,Ticket,Fare,Cabin,Embarked\\n1,0,3,\"Braund, Mr. Owen Harris\",male,22,1,0,A/5 21171,7.25,,S\\n2,1,1,\"Cumings, Mrs. John Bradley (Florence Briggs Thayer)\",female,38,1,0,PC 17599,71.2833,C85,C\\n3,1,3,\"Heikkinen, Miss Laina\",female,26,0,0,STON/O2. 3101282,7.925,,S\\n4,1,1,\"Futrelle, Mrs. Jacques Heath (Lily May Peel)\",female,35,1,0,113803,53.1,C123,S\\n5,0,3,\"Allen, Mr. William Henry\",male,35,0,0,373450,8.05,,S\\n6,0,3,\"Moran, Mr. James\",male,,0,0,330877,8.4583,,Q\\n7,0,1,\"McCarthy, Mr. Timothy J\",male,54,0,0,17463,51.8625,E46,S\\n8,0,3,\"Palsson, Master Gosta Leonard\",male,2,3,1,349909,21.075,,S\\n9,1,3,\"Johnson, Mrs. Oscar W (Elisabeth Vilhelmina Berg)\",female,27,0,2,347742,11.1333,,S\\n10,1,2,\"Nasser, Mrs. Nicholas (Adele Achem)\",female,14,1,0,237736,30.0708,,C\\n11,1,3,\"Sandstrom, Miss Marguerite Rut\",female,4,1,1,PP 9549,16.7,G6,S\\n12,1,1,\"Bonnell, Miss Elizabeth\",female,58,0,0,113783,26.55,C103,S\\n13,0,3,\"Saundercock, Mr. William Henry\",male,20,0,0,A/5. 2151,8.05,,S\\n14,0,3,\"Andersson, Mr. Anders Johan\",male,39,1,5,347082,31.275,,S\\n15,0,3,\"Vestrom, Miss Hulda Amanda Adolfina\",female,14,0,0,350406,7.8542,,S\\n16,1,2,\"Hewlett, Mrs. (Mary D Kingcome) \",female,55,0,0,248706,16,,S\\n17,0,3,\"Rice, Master Eugene\",male,2,4,1,382652,29.125,,Q\\n18,1,2,\"Williams, Mr. Charles Eugene\",male,,0,0,244373,13,,S\\n19,0,3,\"Vander Planke, Mrs. Julius (Emelia Maria Vandemoortele)\",female,31,1,0,345763,18,,S\\n20,1,3,\"Masselmani, Mrs. Fatima\",female,,0,0,2649,7.225,,C\\n21,0,2,\"Fynney, Mr. Joseph J\",male,35,0,0,239865,26,,S\\n22,1,2,\"Beesley, Mr. Lawrence\",male,34,0,0,248698,13,D56,S\\n23,1,3,\"McGowan, Miss Anna \"\"Annie\"\"\",female,15,0,0,330923,8.0292,,Q\\n24,1,1,\"Sloper, Mr. William Thompson\",male,28,0,0,113788,35.5,A6,S\\n25,0,3,\"Palsson, Miss Torborg Danira\",female,8,3,1,349909,21.075,,S\\n26,1,3,\"Asplund, Mrs. Carl Oscar (Selma Augusta Emilia Johansson)\",female,38,1,5,347077,31.3875,,S\\n27,0,3,\"Emir, Mr. Farred Chehab\",male,,0,0,2631,7.225,,C\\n28,0,1,\"Fortune, Mr. Charles Alexander\",male,19,3,2,19950,263,C23 C25 C27,S\\n29,1,3,\"O\\'Dwyer, Miss Ellen \"\"Nellie\"\"\",female,,0,0,330959,7.8792,,Q\\n30,0,3,\"Todoroff, Mr. Lalio\",male,,0,0,349216,7.8958,,S\\n31,0,1,\"Uruchurtu, Don. Manuel E\",male,40,0,0,PC 17601,27.7208,,C\\n32,1,1,\"Spencer, Mrs. William Augustus (Marie Eugenie)\",female,,1,0,PC 17569,146.5208,B78,C\\n33,1,3,\"Glynn, Miss Mary Agatha\",female,,0,0,335677,7.75,,Q\\n34,0,2,\"Wheadon, Mr. Edward H\",male,66,0,0,C.A. 24579,10.5,,S\\n35,0,1,\"Meyer, Mr. Edgar Joseph\",male,28,1,0,PC 17604,82.1708,,C\\n36,0,1,\"Holverson, Mr. Alexander Oskar\",male,42,1,0,113789,52,,S\\n37,1,3,\"Mamee, Mr. Hanna\",male,,0,0,2677,7.2292,,C\\n38,0,3,\"Cann, Mr. Ernest Charles\",male,21,0,0,A./5. 2152,8.05,,S\\n39,0,3,\"Vander Planke, Miss Augusta Maria\",female,18,2,0,345764,18,,S\\n40,1,3,\"Nicola-Yarred, Miss Jamila\",female,14,1,0,2651,11.2417,,C\\n41,0,3,\"Ahlin, Mrs. Johan (Johanna Persdotter Larsson)\",female,40,1,0,7546,9.475,,S\\n42,0,2,\"Turpin, Mrs. William John Robert (Dorothy Ann Wonnacott)\",female,27,1,0,11668,21,,S\\n43,0,3,\"Kraeff, Mr. Theodor\",male,,0,0,349253,7.8958,,C\\n44,1,2,\"Laroche, Miss Simonne Marie Anne Andree\",female,3,1,2,SC/Paris 2123,41.5792,,C\\n45,1,3,\"Devaney, Miss Margaret Delia\",female,19,0,0,330958,7.8792,,Q\\n46,0,3,\"Rogers, Mr. William John\",male,,0,0,S.C./A.4. 23567,8.05,,S\\n47,0,3,\"Lennon, Mr. Denis\",male,,1,0,370371,15.5,,Q\\n48,1,3,\"O\\'Driscoll, Miss Bridget\",female,,0,0,14311,7.75,,Q\\n49,0,3,\"Samaan, Mr. Youssef\",male,,2,0,2662,21.6792,,C\\n50,0,3,\"Arnold-Franchi, Mrs. Josef (Josefine Franchi)\",female,18,1,0,349237,17.8,,S\\n51,0,3,\"Panula, Master Juha Niilo\",male,7,4,1,3101295,39.6875,,S\\n52,0,3,\"Nosworthy, Mr. Richard Cater\",male,21,0,0,A/4. 39886,7.8,,S\\n53,1,1,\"Harper, Mrs. Henry Sleeper (Myna Haxtun)\",female,49,1,0,PC 17572,76.7292,D33,C\\n54,1,2,\"Faunthorpe, Mrs. Lizzie (Elizabeth Anne Wilkinson)\",female,29,1,0,2926,26,,S\\n55,0,1,\"Ostby, Mr. Engelhart Cornelius\",male,65,0,1,113509,61.9792,B30,C\\n56,1,1,\"Woolner, Mr. Hugh\",male,,0,0,19947,35.5,C52,S\\n57,1,2,\"Rugg, Miss Emily\",female,21,0,0,C.A. 31026,10.5,,S\\n58,0,3,\"Novel, Mr. Mansouer\",male,28.5,0,0,2697,7.2292,,C\\n59,1,2,\"West, Miss Constance Mirium\",female,5,1,2,C.A. 34651,27.75,,S\\n60,0,3,\"Goodwin, Master William Frederick\",male,11,5,2,CA 2144,46.9,,S\\n61,0,3,\"Sirayanian, Mr. Orsen\",male,22,0,0,2669,7.2292,,C\\n62,1,1,\"Icard, Miss Amelie\",female,38,0,0,113572,80,B28,\\n63,0,1,\"Harris, Mr. Henry Birkhardt\",male,45,1,0,36973,83.475,C83,S\\n64,0,3,\"Skoog, Master Harald\",male,4,3,2,347088,27.9,,S\\n65,0,1,\"Stewart, Mr. Albert A\",male,,0,0,PC 17605,27.7208,,C\\n66,1,3,\"Moubarek, Master Gerios\",male,,1,1,2661,15.2458,,C\\n67,1,2,\"Nye, Mrs. (Elizabeth Ramell)\",female,29,0,0,C.A. 29395,10.5,F33,S\\n68,0,3,\"Crease, Mr. Ernest James\",male,19,0,0,S.P. 3464,8.1583,,S\\n69,1,3,\"Andersson, Miss Erna Alexandra\",female,17,4,2,3101281,7.925,,S\\n70,0,3,\"Kink, Mr. Vincenz\",male,26,2,0,315151,8.6625,,S\\n71,0,2,\"Jenkin, Mr. Stephen Curnow\",male,32,0,0,C.A. 33111,10.5,,S\\n72,0,3,\"Goodwin, Miss Lillian Amy\",female,16,5,2,CA 2144,46.9,,S\\n73,0,2,\"Hood, Mr. Ambrose Jr\",male,21,0,0,S.O.C. 14879,73.5,,S\\n74,0,3,\"Chronopoulos, Mr. Apostolos\",male,26,1,0,2680,14.4542,,C\\n75,1,3,\"Bing, Mr. Lee\",male,32,0,0,1601,56.4958,,S\\n76,0,3,\"Moen, Mr. Sigurd Hansen\",male,25,0,0,348123,7.65,F G73,S\\n77,0,3,\"Staneff, Mr. Ivan\",male,,0,0,349208,7.8958,,S\\n78,0,3,\"Moutal, Mr. Rahamin Haim\",male,,0,0,374746,8.05,,S\\n79,1,2,\"Caldwell, Master Alden Gates\",male,0.83,0,2,248738,29,,S\\n80,1,3,\"Dowdell, Miss Elizabeth\",female,30,0,0,364516,12.475,,S\\n81,0,3,\"Waelens, Mr. Achille\",male,22,0,0,345767,9,,S\\n82,1,3,\"Sheerlinck, Mr. Jan Baptist\",male,29,0,0,345779,9.5,,S\\n83,1,3,\"McDermott, Miss Brigdet Delia\",female,,0,0,330932,7.7875,,Q\\n84,0,1,\"Carrau, Mr. Francisco M\",male,28,0,0,113059,47.1,,S\\n85,1,2,\"Ilett, Miss Bertha\",female,17,0,0,SO/C 14885,10.5,,S\\n86,1,3,\"Backstrom, Mrs. Karl Alfred (Maria Mathilda Gustafsson)\",female,33,3,0,3101278,15.85,,S\\n87,0,3,\"Ford, Mr. William Neal\",male,16,1,3,W./C. 6608,34.375,,S\\n88,0,3,\"Slocovski, Mr. Selman Francis\",male,,0,0,SOTON/OQ 392086,8.05,,S\\n89,1,1,\"Fortune, Miss Mabel Helen\",female,23,3,2,19950,263,C23 C25 C27,S\\n90,0,3,\"Celotti, Mr. Francesco\",male,24,0,0,343275,8.05,,S\\n91,0,3,\"Christmann, Mr. Emil\",male,29,0,0,343276,8.05,,S\\n92,0,3,\"Andreasson, Mr. Paul Edvin\",male,20,0,0,347466,7.8542,,S\\n93,0,1,\"Chaffee, Mr. Herbert Fuller\",male,46,1,0,W.E.P. 5734,61.175,E31,S\\n94,0,3,\"Dean, Mr. Bertram Frank\",male,26,1,2,C.A. 2315,20.575,,S\\n95,0,3,\"Coxon, Mr. Daniel\",male,59,0,0,364500,7.25,,S\\n96,0,3,\"Shorney, Mr. Charles Joseph\",male,,0,0,374910,8.05,,S\\n97,0,1,\"Goldschmidt, Mr. George B\",male,71,0,0,PC 17754,34.6542,A5,C\\n98,1,1,\"Greenfield, Mr. William Bertram\",male,23,0,1,PC 17759,63.3583,D10 D12,C\\n99,1,2,\"Doling, Mrs. John T (Ada Julia Bone)\",female,34,0,1,231919,23,,S\\n100,0,2,\"Kantor, Mr. Sinai\",male,34,1,0,244367,26,,S\\n101,0,3,\"Petranec, Miss Matilda\",female,28,0,0,349245,7.8958,,S\\n102,0,3,\"Petroff, Mr. Pastcho (\"\"Pentcho\"\")\",male,,0,0,349215,7.8958,,S\\n103,0,1,\"White, Mr. Richard Frasar\",male,21,0,1,35281,77.2875,D26,S\\n104,0,3,\"Johansson, Mr. Gustaf Joel\",male,33,0,0,7540,8.6542,,S\\n105,0,3,\"Gustafsson, Mr. Anders Vilhelm\",male,37,2,0,3101276,7.925,,S\\n106,0,3,\"Mionoff, Mr. Stoytcho\",male,28,0,0,349207,7.8958,,S\\n107,1,3,\"Salkjelsvik, Miss Anna Kristine\",female,21,0,0,343120,7.65,,S\\n108,1,3,\"Moss, Mr. Albert Johan\",male,,0,0,312991,7.775,,S\\n109,0,3,\"Rekic, Mr. Tido\",male,38,0,0,349249,7.8958,,S\\n110,1,3,\"Moran, Miss Bertha\",female,,1,0,371110,24.15,,Q\\n111,0,1,\"Porter, Mr. Walter Chamberlain\",male,47,0,0,110465,52,C110,S\\n112,0,3,\"Zabour, Miss Hileni\",female,14.5,1,0,2665,14.4542,,C\\n113,0,3,\"Barton, Mr. David John\",male,22,0,0,324669,8.05,,S\\n114,0,3,\"Jussila, Miss Katriina\",female,20,1,0,4136,9.825,,S\\n115,0,3,\"Attalah, Miss Malake\",female,17,0,0,2627,14.4583,,C\\n116,0,3,\"Pekoniemi, Mr. Edvard\",male,21,0,0,STON/O 2. 3101294,7.925,,S\\n117,0,3,\"Connors, Mr. Patrick\",male,70.5,0,0,370369,7.75,,Q\\n118,0,2,\"Turpin, Mr. William John Robert\",male,29,1,0,11668,21,,S\\n119,0,1,\"Baxter, Mr. Quigg Edmond\",male,24,0,1,PC 17558,247.5208,B58 B60,C\\n120,0,3,\"Andersson, Miss Ellis Anna Maria\",female,2,4,2,347082,31.275,,S\\n121,0,2,\"Hickman, Mr. Stanley George\",male,21,2,0,S.O.C. 14879,73.5,,S\\n122,0,3,\"Moore, Mr. Leonard Charles\",male,,0,0,A4. 54510,8.05,,S\\n123,0,2,\"Nasser, Mr. Nicholas\",male,32.5,1,0,237736,30.0708,,C\\n124,1,2,\"Webber, Miss Susan\",female,32.5,0,0,27267,13,E101,S\\n125,0,1,\"White, Mr. Percival Wayland\",male,54,0,1,35281,77.2875,D26,S\\n126,1,3,\"Nicola-Yarred, Master Elias\",male,12,1,0,2651,11.2417,,C\\n127,0,3,\"McMahon, Mr. Martin\",male,,0,0,370372,7.75,,Q\\n128,1,3,\"Madsen, Mr. Fridtjof Arne\",male,24,0,0,C 17369,7.1417,,S\\n129,1,3,\"Peter, Miss Anna\",female,,1,1,2668,22.3583,F E69,C\\n130,0,3,\"Ekstrom, Mr. Johan\",male,45,0,0,347061,6.975,,S\\n131,0,3,\"Drazenoic, Mr. Jozef\",male,33,0,0,349241,7.8958,,C\\n132,0,3,\"Coelho, Mr. Domingos Fernandeo\",male,20,0,0,SOTON/O.Q. 3101307,7.05,,S\\n133,0,3,\"Robins, Mrs. Alexander A (Grace Charity Laury)\",female,47,1,0,A/5. 3337,14.5,,S\\n134,1,2,\"Weisz, Mrs. Leopold (Mathilde Francoise Pede)\",female,29,1,0,228414,26,,S\\n135,0,2,\"Sobey, Mr. Samuel James Hayden\",male,25,0,0,C.A. 29178,13,,S\\n136,0,2,\"Richard, Mr. Emile\",male,23,0,0,SC/PARIS 2133,15.0458,,C\\n137,1,1,\"Newsom, Miss Helen Monypeny\",female,19,0,2,11752,26.2833,D47,S\\n138,0,1,\"Futrelle, Mr. Jacques Heath\",male,37,1,0,113803,53.1,C123,S\\n139,0,3,\"Osen, Mr. Olaf Elon\",male,16,0,0,7534,9.2167,,S\\n140,0,1,\"Giglio, Mr. Victor\",male,24,0,0,PC 17593,79.2,B86,C\\n141,0,3,\"Boulos, Mrs. Joseph (Sultana)\",female,,0,2,2678,15.2458,,C\\n142,1,3,\"Nysten, Miss Anna Sofia\",female,22,0,0,347081,7.75,,S\\n143,1,3,\"Hakkarainen, Mrs. Pekka Pietari (Elin Matilda Dolck)\",female,24,1,0,STON/O2. 3101279,15.85,,S\\n144,0,3,\"Burke, Mr. Jeremiah\",male,19,0,0,365222,6.75,,Q\\n145,0,2,\"Andrew, Mr. Edgardo Samuel\",male,18,0,0,231945,11.5,,S\\n146,0,2,\"Nicholls, Mr. Joseph Charles\",male,19,1,1,C.A. 33112,36.75,,S\\n147,1,3,\"Andersson, Mr. August Edvard (\"\"Wennerstrom\"\")\",male,27,0,0,350043,7.7958,,S\\n148,0,3,\"Ford, Miss Robina Maggie \"\"Ruby\"\"\",female,9,2,2,W./C. 6608,34.375,,S\\n149,0,2,\"Navratil, Mr. Michel (\"\"Louis M Hoffman\"\")\",male,36.5,0,2,230080,26,F2,S\\n150,0,2,\"Byles, Rev. Thomas Roussel Davids\",male,42,0,0,244310,13,,S\\n151,0,2,\"Bateman, Rev. Robert James\",male,51,0,0,S.O.P. 1166,12.525,,S\\n152,1,1,\"Pears, Mrs. Thomas (Edith Wearne)\",female,22,1,0,113776,66.6,C2,S\\n153,0,3,\"Meo, Mr. Alfonzo\",male,55.5,0,0,A.5. 11206,8.05,,S\\n154,0,3,\"van Billiard, Mr. Austin Blyler\",male,40.5,0,2,A/5. 851,14.5,,S\\n155,0,3,\"Olsen, Mr. Ole Martin\",male,,0,0,Fa 265302,7.3125,,S\\n156,0,1,\"Williams, Mr. Charles Duane\",male,51,0,1,PC 17597,61.3792,,C\\n157,1,3,\"Gilnagh, Miss Katherine \"\"Katie\"\"\",female,16,0,0,35851,7.7333,,Q\\n158,0,3,\"Corn, Mr. Harry\",male,30,0,0,SOTON/OQ 392090,8.05,,S\\n159,0,3,\"Smiljanic, Mr. Mile\",male,,0,0,315037,8.6625,,S\\n160,0,3,\"Sage, Master Thomas Henry\",male,,8,2,CA. 2343,69.55,,S\\n161,0,3,\"Cribb, Mr. John Hatfield\",male,44,0,1,371362,16.1,,S\\n162,1,2,\"Watt, Mrs. James (Elizabeth \"\"Bessie\"\" Inglis Milne)\",female,40,0,0,C.A. 33595,15.75,,S\\n163,0,3,\"Bengtsson, Mr. John Viktor\",male,26,0,0,347068,7.775,,S\\n164,0,3,\"Calic, Mr. Jovo\",male,17,0,0,315093,8.6625,,S\\n165,0,3,\"Panula, Master Eino Viljami\",male,1,4,1,3101295,39.6875,,S\\n166,1,3,\"Goldsmith, Master Frank John William \"\"Frankie\"\"\",male,9,0,2,363291,20.525,,S\\n167,1,1,\"Chibnall, Mrs. (Edith Martha Bowerman)\",female,,0,1,113505,55,E33,S\\n168,0,3,\"Skoog, Mrs. William (Anna Bernhardina Karlsson)\",female,45,1,4,347088,27.9,,S\\n169,0,1,\"Baumann, Mr. John D\",male,,0,0,PC 17318,25.925,,S\\n170,0,3,\"Ling, Mr. Lee\",male,28,0,0,1601,56.4958,,S\\n171,0,1,\"Van der hoef, Mr. Wyckoff\",male,61,0,0,111240,33.5,B19,S\\n172,0,3,\"Rice, Master Arthur\",male,4,4,1,382652,29.125,,Q\\n173,1,3,\"Johnson, Miss Eleanor Ileen\",female,1,1,1,347742,11.1333,,S\\n174,0,3,\"Sivola, Mr. Antti Wilhelm\",male,21,0,0,STON/O 2. 3101280,7.925,,S\\n175,0,1,\"Smith, Mr. James Clinch\",male,56,0,0,17764,30.6958,A7,C\\n176,0,3,\"Klasen, Mr. Klas Albin\",male,18,1,1,350404,7.8542,,S\\n177,0,3,\"Lefebre, Master Henry Forbes\",male,,3,1,4133,25.4667,,S\\n178,0,1,\"Isham, Miss Ann Elizabeth\",female,50,0,0,PC 17595,28.7125,C49,C\\n179,0,2,\"Hale, Mr. Reginald\",male,30,0,0,250653,13,,S\\n180,0,3,\"Leonard, Mr. Lionel\",male,36,0,0,LINE,0,,S\\n181,0,3,\"Sage, Miss Constance Gladys\",female,,8,2,CA. 2343,69.55,,S\\n182,0,2,\"Pernot, Mr. Rene\",male,,0,0,SC/PARIS 2131,15.05,,C\\n183,0,3,\"Asplund, Master Clarence Gustaf Hugo\",male,9,4,2,347077,31.3875,,S\\n184,1,2,\"Becker, Master Richard F\",male,1,2,1,230136,39,F4,S\\n185,1,3,\"Kink-Heilmann, Miss Luise Gretchen\",female,4,0,2,315153,22.025,,S\\n186,0,1,\"Rood, Mr. Hugh Roscoe\",male,,0,0,113767,50,A32,S\\n187,1,3,\"O\\'Brien, Mrs. Thomas (Johanna \"\"Hannah\"\" Godfrey)\",female,,1,0,370365,15.5,,Q\\n188,1,1,\"Romaine, Mr. Charles Hallace (\"\"Mr C Rolmane\"\")\",male,45,0,0,111428,26.55,,S\\n189,0,3,\"Bourke, Mr. John\",male,40,1,1,364849,15.5,,Q\\n190,0,3,\"Turcin, Mr. Stjepan\",male,36,0,0,349247,7.8958,,S\\n191,1,2,\"Pinsky, Mrs. (Rosa)\",female,32,0,0,234604,13,,S\\n192,0,2,\"Carbines, Mr. William\",male,19,0,0,28424,13,,S\\n193,1,3,\"Andersen-Jensen, Miss Carla Christine Nielsine\",female,19,1,0,350046,7.8542,,S\\n194,1,2,\"Navratil, Master Michel M\",male,3,1,1,230080,26,F2,S\\n195,1,1,\"Brown, Mrs. James Joseph (Margaret Tobin)\",female,44,0,0,PC 17610,27.7208,B4,C\\n196,1,1,\"Lurette, Miss Elise\",female,58,0,0,PC 17569,146.5208,B80,C\\n197,0,3,\"Mernagh, Mr. Robert\",male,,0,0,368703,7.75,,Q\\n198,0,3,\"Olsen, Mr. Karl Siegwart Andreas\",male,42,0,1,4579,8.4042,,S\\n199,1,3,\"Madigan, Miss Margaret \"\"Maggie\"\"\",female,,0,0,370370,7.75,,Q\\n200,0,2,\"Yrois, Miss Henriette (\"\"Mrs Harbeck\"\")\",female,24,0,0,248747,13,,S\\n201,0,3,\"Vande Walle, Mr. Nestor Cyriel\",male,28,0,0,345770,9.5,,S\\n202,0,3,\"Sage, Mr. Frederick\",male,,8,2,CA. 2343,69.55,,S\\n203,0,3,\"Johanson, Mr. Jakob Alfred\",male,34,0,0,3101264,6.4958,,S\\n204,0,3,\"Youseff, Mr. Gerious\",male,45.5,0,0,2628,7.225,,C\\n205,1,3,\"Cohen, Mr. Gurshon \"\"Gus\"\"\",male,18,0,0,A/5 3540,8.05,,S\\n206,0,3,\"Strom, Miss Telma Matilda\",female,2,0,1,347054,10.4625,G6,S\\n207,0,3,\"Backstrom, Mr. Karl Alfred\",male,32,1,0,3101278,15.85,,S\\n208,1,3,\"Albimona, Mr. Nassef Cassem\",male,26,0,0,2699,18.7875,,C\\n209,1,3,\"Carr, Miss Helen \"\"Ellen\"\"\",female,16,0,0,367231,7.75,,Q\\n210,1,1,\"Blank, Mr. Henry\",male,40,0,0,112277,31,A31,C\\n211,0,3,\"Ali, Mr. Ahmed\",male,24,0,0,SOTON/O.Q. 3101311,7.05,,S\\n212,1,2,\"Cameron, Miss Clear Annie\",female,35,0,0,F.C.C. 13528,21,,S\\n213,0,3,\"Perkin, Mr. John Henry\",male,22,0,0,A/5 21174,7.25,,S\\n214,0,2,\"Givard, Mr. Hans Kristensen\",male,30,0,0,250646,13,,S\\n215,0,3,\"Kiernan, Mr. Philip\",male,,1,0,367229,7.75,,Q\\n216,1,1,\"Newell, Miss Madeleine\",female,31,1,0,35273,113.275,D36,C\\n217,1,3,\"Honkanen, Miss Eliina\",female,27,0,0,STON/O2. 3101283,7.925,,S\\n218,0,2,\"Jacobsohn, Mr. Sidney Samuel\",male,42,1,0,243847,27,,S\\n219,1,1,\"Bazzani, Miss Albina\",female,32,0,0,11813,76.2917,D15,C\\n220,0,2,\"Harris, Mr. Walter\",male,30,0,0,W/C 14208,10.5,,S\\n221,1,3,\"Sunderland, Mr. Victor Francis\",male,16,0,0,SOTON/OQ 392089,8.05,,S\\n222,0,2,\"Bracken, Mr. James H\",male,27,0,0,220367,13,,S\\n223,0,3,\"Green, Mr. George Henry\",male,51,0,0,21440,8.05,,S\\n224,0,3,\"Nenkoff, Mr. Christo\",male,,0,0,349234,7.8958,,S\\n225,1,1,\"Hoyt, Mr. Frederick Maxfield\",male,38,1,0,19943,90,C93,S\\n226,0,3,\"Berglund, Mr. Karl Ivar Sven\",male,22,0,0,PP 4348,9.35,,S\\n227,1,2,\"Mellors, Mr. William John\",male,19,0,0,SW/PP 751,10.5,,S\\n228,0,3,\"Lovell, Mr. John Hall (\"\"Henry\"\")\",male,20.5,0,0,A/5 21173,7.25,,S\\n229,0,2,\"Fahlstrom, Mr. Arne Jonas\",male,18,0,0,236171,13,,S\\n230,0,3,\"Lefebre, Miss Mathilde\",female,,3,1,4133,25.4667,,S\\n231,1,1,\"Harris, Mrs. Henry Birkhardt (Irene Wallach)\",female,35,1,0,36973,83.475,C83,S\\n232,0,3,\"Larsson, Mr. Bengt Edvin\",male,29,0,0,347067,7.775,,S\\n233,0,2,\"Sjostedt, Mr. Ernst Adolf\",male,59,0,0,237442,13.5,,S\\n234,1,3,\"Asplund, Miss Lillian Gertrud\",female,5,4,2,347077,31.3875,,S\\n235,0,2,\"Leyson, Mr. Robert William Norman\",male,24,0,0,C.A. 29566,10.5,,S\\n236,0,3,\"Harknett, Miss Alice Phoebe\",female,,0,0,W./C. 6609,7.55,,S\\n237,0,2,\"Hold, Mr. Stephen\",male,44,1,0,26707,26,,S\\n238,1,2,\"Collyer, Miss Marjorie \"\"Lottie\"\"\",female,8,0,2,C.A. 31921,26.25,,S\\n239,0,2,\"Pengelly, Mr. Frederick William\",male,19,0,0,28665,10.5,,S\\n240,0,2,\"Hunt, Mr. George Henry\",male,33,0,0,SCO/W 1585,12.275,,S\\n241,0,3,\"Zabour, Miss Thamine\",female,,1,0,2665,14.4542,,C\\n242,1,3,\"Murphy, Miss Katherine \"\"Kate\"\"\",female,,1,0,367230,15.5,,Q\\n243,0,2,\"Coleridge, Mr. Reginald Charles\",male,29,0,0,W./C. 14263,10.5,,S\\n244,0,3,\"Maenpaa, Mr. Matti Alexanteri\",male,22,0,0,STON/O 2. 3101275,7.125,,S\\n245,0,3,\"Attalah, Mr. Sleiman\",male,30,0,0,2694,7.225,,C\\n246,0,1,\"Minahan, Dr. William Edward\",male,44,2,0,19928,90,C78,Q\\n247,0,3,\"Lindahl, Miss Agda Thorilda Viktoria\",female,25,0,0,347071,7.775,,S\\n248,1,2,\"Hamalainen, Mrs. William (Anna)\",female,24,0,2,250649,14.5,,S\\n249,1,1,\"Beckwith, Mr. Richard Leonard\",male,37,1,1,11751,52.5542,D35,S\\n250,0,2,\"Carter, Rev. Ernest Courtenay\",male,54,1,0,244252,26,,S\\n251,0,3,\"Reed, Mr. James George\",male,,0,0,362316,7.25,,S\\n252,0,3,\"Strom, Mrs. Wilhelm (Elna Matilda Persson)\",female,29,1,1,347054,10.4625,G6,S\\n253,0,1,\"Stead, Mr. William Thomas\",male,62,0,0,113514,26.55,C87,S\\n254,0,3,\"Lobb, Mr. William Arthur\",male,30,1,0,A/5. 3336,16.1,,S\\n255,0,3,\"Rosblom, Mrs. Viktor (Helena Wilhelmina)\",female,41,0,2,370129,20.2125,,S\\n256,1,3,\"Touma, Mrs. Darwis (Hanne Youssef Razi)\",female,29,0,2,2650,15.2458,,C\\n257,1,1,\"Thorne, Mrs. Gertrude Maybelle\",female,,0,0,PC 17585,79.2,,C\\n258,1,1,\"Cherry, Miss Gladys\",female,30,0,0,110152,86.5,B77,S\\n259,1,1,\"Ward, Miss Anna\",female,35,0,0,PC 17755,512.3292,,C\\n260,1,2,\"Parrish, Mrs. (Lutie Davis)\",female,50,0,1,230433,26,,S\\n261,0,3,\"Smith, Mr. Thomas\",male,,0,0,384461,7.75,,Q\\n262,1,3,\"Asplund, Master Edvin Rojj Felix\",male,3,4,2,347077,31.3875,,S\\n263,0,1,\"Taussig, Mr. Emil\",male,52,1,1,110413,79.65,E67,S\\n264,0,1,\"Harrison, Mr. William\",male,40,0,0,112059,0,B94,S\\n265,0,3,\"Henry, Miss Delia\",female,,0,0,382649,7.75,,Q\\n266,0,2,\"Reeves, Mr. David\",male,36,0,0,C.A. 17248,10.5,,S\\n267,0,3,\"Panula, Mr. Ernesti Arvid\",male,16,4,1,3101295,39.6875,,S\\n268,1,3,\"Persson, Mr. Ernst Ulrik\",male,25,1,0,347083,7.775,,S\\n269,1,1,\"Graham, Mrs. William Thompson (Edith Junkins)\",female,58,0,1,PC 17582,153.4625,C125,S\\n270,1,1,\"Bissette, Miss Amelia\",female,35,0,0,PC 17760,135.6333,C99,S\\n271,0,1,\"Cairns, Mr. Alexander\",male,,0,0,113798,31,,S\\n272,1,3,\"Tornquist, Mr. William Henry\",male,25,0,0,LINE,0,,S\\n273,1,2,\"Mellinger, Mrs. (Elizabeth Anne Maidment)\",female,41,0,1,250644,19.5,,S\\n274,0,1,\"Natsch, Mr. Charles H\",male,37,0,1,PC 17596,29.7,C118,C\\n275,1,3,\"Healy, Miss Hanora \"\"Nora\"\"\",female,,0,0,370375,7.75,,Q\\n276,1,1,\"Andrews, Miss Kornelia Theodosia\",female,63,1,0,13502,77.9583,D7,S\\n277,0,3,\"Lindblom, Miss Augusta Charlotta\",female,45,0,0,347073,7.75,,S\\n278,0,2,\"Parkes, Mr. Francis \"\"Frank\"\"\",male,,0,0,239853,0,,S\\n279,0,3,\"Rice, Master Eric\",male,7,4,1,382652,29.125,,Q\\n280,1,3,\"Abbott, Mrs. Stanton (Rosa Hunt)\",female,35,1,1,C.A. 2673,20.25,,S\\n281,0,3,\"Duane, Mr. Frank\",male,65,0,0,336439,7.75,,Q\\n282,0,3,\"Olsson, Mr. Nils Johan Goransson\",male,28,0,0,347464,7.8542,,S\\n283,0,3,\"de Pelsmaeker, Mr. Alfons\",male,16,0,0,345778,9.5,,S\\n284,1,3,\"Dorking, Mr. Edward Arthur\",male,19,0,0,A/5. 10482,8.05,,S\\n285,0,1,\"Smith, Mr. Richard William\",male,,0,0,113056,26,A19,S\\n286,0,3,\"Stankovic, Mr. Ivan\",male,33,0,0,349239,8.6625,,C\\n287,1,3,\"de Mulder, Mr. Theodore\",male,30,0,0,345774,9.5,,S\\n288,0,3,\"Naidenoff, Mr. Penko\",male,22,0,0,349206,7.8958,,S\\n289,1,2,\"Hosono, Mr. Masabumi\",male,42,0,0,237798,13,,S\\n290,1,3,\"Connolly, Miss Kate\",female,22,0,0,370373,7.75,,Q\\n291,1,1,\"Barber, Miss Ellen \"\"Nellie\"\"\",female,26,0,0,19877,78.85,,S\\n292,1,1,\"Bishop, Mrs. Dickinson H (Helen Walton)\",female,19,1,0,11967,91.0792,B49,C\\n293,0,2,\"Levy, Mr. Rene Jacques\",male,36,0,0,SC/Paris 2163,12.875,D,C\\n294,0,3,\"Haas, Miss Aloisia\",female,24,0,0,349236,8.85,,S\\n295,0,3,\"Mineff, Mr. Ivan\",male,24,0,0,349233,7.8958,,S\\n296,0,1,\"Lewy, Mr. Ervin G\",male,,0,0,PC 17612,27.7208,,C\\n297,0,3,\"Hanna, Mr. Mansour\",male,23.5,0,0,2693,7.2292,,C\\n298,0,1,\"Allison, Miss Helen Loraine\",female,2,1,2,113781,151.55,C22 C26,S\\n299,1,1,\"Saalfeld, Mr. Adolphe\",male,,0,0,19988,30.5,C106,S\\n300,1,1,\"Baxter, Mrs. James (Helene DeLaudeniere Chaput)\",female,50,0,1,PC 17558,247.5208,B58 B60,C\\n301,1,3,\"Kelly, Miss Anna Katherine \"\"Annie Kate\"\"\",female,,0,0,9234,7.75,,Q\\n302,1,3,\"McCoy, Mr. Bernard\",male,,2,0,367226,23.25,,Q\\n303,0,3,\"Johnson, Mr. William Cahoone Jr\",male,19,0,0,LINE,0,,S\\n304,1,2,\"Keane, Miss Nora A\",female,,0,0,226593,12.35,E101,Q\\n305,0,3,\"Williams, Mr. Howard Hugh \"\"Harry\"\"\",male,,0,0,A/5 2466,8.05,,S\\n306,1,1,\"Allison, Master Hudson Trevor\",male,0.92,1,2,113781,151.55,C22 C26,S\\n307,1,1,\"Fleming, Miss Margaret\",female,,0,0,17421,110.8833,,C\\n308,1,1,\"Penasco y Castellana, Mrs. Victor de Satode (Maria Josefa Perez de Soto y Vallejo)\",female,17,1,0,PC 17758,108.9,C65,C\\n309,0,2,\"Abelson, Mr. Samuel\",male,30,1,0,P/PP 3381,24,,C\\n310,1,1,\"Francatelli, Miss Laura Mabel\",female,30,0,0,PC 17485,56.9292,E36,C\\n311,1,1,\"Hays, Miss Margaret Bechstein\",female,24,0,0,11767,83.1583,C54,C\\n312,1,1,\"Ryerson, Miss Emily Borie\",female,18,2,2,PC 17608,262.375,B57 B59 B63 B66,C\\n313,0,2,\"Lahtinen, Mrs. William (Anna Sylfven)\",female,26,1,1,250651,26,,S\\n314,0,3,\"Hendekovic, Mr. Ignjac\",male,28,0,0,349243,7.8958,,S\\n315,0,2,\"Hart, Mr. Benjamin\",male,43,1,1,F.C.C. 13529,26.25,,S\\n316,1,3,\"Nilsson, Miss Helmina Josefina\",female,26,0,0,347470,7.8542,,S\\n317,1,2,\"Kantor, Mrs. Sinai (Miriam Sternin)\",female,24,1,0,244367,26,,S\\n318,0,2,\"Moraweck, Dr. Ernest\",male,54,0,0,29011,14,,S\\n319,1,1,\"Wick, Miss Mary Natalie\",female,31,0,2,36928,164.8667,C7,S\\n320,1,1,\"Spedden, Mrs. Frederic Oakley (Margaretta Corning Stone)\",female,40,1,1,16966,134.5,E34,C\\n321,0,3,\"Dennis, Mr. Samuel\",male,22,0,0,A/5 21172,7.25,,S\\n322,0,3,\"Danoff, Mr. Yoto\",male,27,0,0,349219,7.8958,,S\\n323,1,2,\"Slayter, Miss Hilda Mary\",female,30,0,0,234818,12.35,,Q\\n324,1,2,\"Caldwell, Mrs. Albert Francis (Sylvia Mae Harbaugh)\",female,22,1,1,248738,29,,S\\n325,0,3,\"Sage, Mr. George John Jr\",male,,8,2,CA. 2343,69.55,,S\\n326,1,1,\"Young, Miss Marie Grice\",female,36,0,0,PC 17760,135.6333,C32,C\\n327,0,3,\"Nysveen, Mr. Johan Hansen\",male,61,0,0,345364,6.2375,,S\\n328,1,2,\"Ball, Mrs. (Ada E Hall)\",female,36,0,0,28551,13,D,S\\n329,1,3,\"Goldsmith, Mrs. Frank John (Emily Alice Brown)\",female,31,1,1,363291,20.525,,S\\n330,1,1,\"Hippach, Miss Jean Gertrude\",female,16,0,1,111361,57.9792,B18,C\\n331,1,3,\"McCoy, Miss Agnes\",female,,2,0,367226,23.25,,Q\\n332,0,1,\"Partner, Mr. Austen\",male,45.5,0,0,113043,28.5,C124,S\\n333,0,1,\"Graham, Mr. George Edward\",male,38,0,1,PC 17582,153.4625,C91,S\\n334,0,3,\"Vander Planke, Mr. Leo Edmondus\",male,16,2,0,345764,18,,S\\n335,1,1,\"Frauenthal, Mrs. Henry William (Clara Heinsheimer)\",female,,1,0,PC 17611,133.65,,S\\n336,0,3,\"Denkoff, Mr. Mitto\",male,,0,0,349225,7.8958,,S\\n337,0,1,\"Pears, Mr. Thomas Clinton\",male,29,1,0,113776,66.6,C2,S\\n338,1,1,\"Burns, Miss Elizabeth Margaret\",female,41,0,0,16966,134.5,E40,C\\n339,1,3,\"Dahl, Mr. Karl Edwart\",male,45,0,0,7598,8.05,,S\\n340,0,1,\"Blackwell, Mr. Stephen Weart\",male,45,0,0,113784,35.5,T,S\\n341,1,2,\"Navratil, Master Edmond Roger\",male,2,1,1,230080,26,F2,S\\n342,1,1,\"Fortune, Miss Alice Elizabeth\",female,24,3,2,19950,263,C23 C25 C27,S\\n343,0,2,\"Collander, Mr. Erik Gustaf\",male,28,0,0,248740,13,,S\\n344,0,2,\"Sedgwick, Mr. Charles Frederick Waddington\",male,25,0,0,244361,13,,S\\n345,0,2,\"Fox, Mr. Stanley Hubert\",male,36,0,0,229236,13,,S\\n346,1,2,\"Brown, Miss Amelia \"\"Mildred\"\"\",female,24,0,0,248733,13,F33,S\\n347,1,2,\"Smith, Miss Marion Elsie\",female,40,0,0,31418,13,,S\\n348,1,3,\"Davison, Mrs. Thomas Henry (Mary E Finck)\",female,,1,0,386525,16.1,,S\\n349,1,3,\"Coutts, Master William Loch \"\"William\"\"\",male,3,1,1,C.A. 37671,15.9,,S\\n350,0,3,\"Dimic, Mr. Jovan\",male,42,0,0,315088,8.6625,,S\\n351,0,3,\"Odahl, Mr. Nils Martin\",male,23,0,0,7267,9.225,,S\\n352,0,1,\"Williams-Lambert, Mr. Fletcher Fellows\",male,,0,0,113510,35,C128,S\\n353,0,3,\"Elias, Mr. Tannous\",male,15,1,1,2695,7.2292,,C\\n354,0,3,\"Arnold-Franchi, Mr. Josef\",male,25,1,0,349237,17.8,,S\\n355,0,3,\"Yousif, Mr. Wazli\",male,,0,0,2647,7.225,,C\\n356,0,3,\"Vanden Steen, Mr. Leo Peter\",male,28,0,0,345783,9.5,,S\\n357,1,1,\"Bowerman, Miss Elsie Edith\",female,22,0,1,113505,55,E33,S\\n358,0,2,\"Funk, Miss Annie Clemmer\",female,38,0,0,237671,13,,S\\n359,1,3,\"McGovern, Miss Mary\",female,,0,0,330931,7.8792,,Q\\n360,1,3,\"Mockler, Miss Helen Mary \"\"Ellie\"\"\",female,,0,0,330980,7.8792,,Q\\n361,0,3,\"Skoog, Mr. Wilhelm\",male,40,1,4,347088,27.9,,S\\n362,0,2,\"del Carlo, Mr. Sebastiano\",male,29,1,0,SC/PARIS 2167,27.7208,,C\\n363,0,3,\"Barbara, Mrs. (Catherine David)\",female,45,0,1,2691,14.4542,,C\\n364,0,3,\"Asim, Mr. Adola\",male,35,0,0,SOTON/O.Q. 3101310,7.05,,S\\n365,0,3,\"O\\'Brien, Mr. Thomas\",male,,1,0,370365,15.5,,Q\\n366,0,3,\"Adahl, Mr. Mauritz Nils Martin\",male,30,0,0,C 7076,7.25,,S\\n367,1,1,\"Warren, Mrs. Frank Manley (Anna Sophia Atkinson)\",female,60,1,0,110813,75.25,D37,C\\n368,1,3,\"Moussa, Mrs. (Mantoura Boulos)\",female,,0,0,2626,7.2292,,C\\n369,1,3,\"Jermyn, Miss Annie\",female,,0,0,14313,7.75,,Q\\n370,1,1,\"Aubart, Mme. Leontine Pauline\",female,24,0,0,PC 17477,69.3,B35,C\\n371,1,1,\"Harder, Mr. George Achilles\",male,25,1,0,11765,55.4417,E50,C\\n372,0,3,\"Wiklund, Mr. Jakob Alfred\",male,18,1,0,3101267,6.4958,,S\\n373,0,3,\"Beavan, Mr. William Thomas\",male,19,0,0,323951,8.05,,S\\n374,0,1,\"Ringhini, Mr. Sante\",male,22,0,0,PC 17760,135.6333,,C\\n375,0,3,\"Palsson, Miss Stina Viola\",female,3,3,1,349909,21.075,,S\\n376,1,1,\"Meyer, Mrs. Edgar Joseph (Leila Saks)\",female,,1,0,PC 17604,82.1708,,C\\n377,1,3,\"Landergren, Miss Aurora Adelia\",female,22,0,0,C 7077,7.25,,S\\n378,0,1,\"Widener, Mr. Harry Elkins\",male,27,0,2,113503,211.5,C82,C\\n379,0,3,\"Betros, Mr. Tannous\",male,20,0,0,2648,4.0125,,C\\n380,0,3,\"Gustafsson, Mr. Karl Gideon\",male,19,0,0,347069,7.775,,S\\n381,1,1,\"Bidois, Miss Rosalie\",female,42,0,0,PC 17757,227.525,,C\\n382,1,3,\"Nakid, Miss Maria (\"\"Mary\"\")\",female,1,0,2,2653,15.7417,,C\\n383,0,3,\"Tikkanen, Mr. Juho\",male,32,0,0,STON/O 2. 3101293,7.925,,S\\n384,1,1,\"Holverson, Mrs. Alexander Oskar (Mary Aline Towner)\",female,35,1,0,113789,52,,S\\n385,0,3,\"Plotcharsky, Mr. Vasil\",male,,0,0,349227,7.8958,,S\\n386,0,2,\"Davies, Mr. Charles Henry\",male,18,0,0,S.O.C. 14879,73.5,,S\\n387,0,3,\"Goodwin, Master Sidney Leonard\",male,1,5,2,CA 2144,46.9,,S\\n388,1,2,\"Buss, Miss Kate\",female,36,0,0,27849,13,,S\\n389,0,3,\"Sadlier, Mr. Matthew\",male,,0,0,367655,7.7292,,Q\\n390,1,2,\"Lehmann, Miss Bertha\",female,17,0,0,SC 1748,12,,C\\n391,1,1,\"Carter, Mr. William Ernest\",male,36,1,2,113760,120,B96 B98,S\\n392,1,3,\"Jansson, Mr. Carl Olof\",male,21,0,0,350034,7.7958,,S\\n393,0,3,\"Gustafsson, Mr. Johan Birger\",male,28,2,0,3101277,7.925,,S\\n394,1,1,\"Newell, Miss Marjorie\",female,23,1,0,35273,113.275,D36,C\\n395,1,3,\"Sandstrom, Mrs. Hjalmar (Agnes Charlotta Bengtsson)\",female,24,0,2,PP 9549,16.7,G6,S\\n396,0,3,\"Johansson, Mr. Erik\",male,22,0,0,350052,7.7958,,S\\n397,0,3,\"Olsson, Miss Elina\",female,31,0,0,350407,7.8542,,S\\n398,0,2,\"McKane, Mr. Peter David\",male,46,0,0,28403,26,,S\\n399,0,2,\"Pain, Dr. Alfred\",male,23,0,0,244278,10.5,,S\\n400,1,2,\"Trout, Mrs. William H (Jessie L)\",female,28,0,0,240929,12.65,,S\\n401,1,3,\"Niskanen, Mr. Juha\",male,39,0,0,STON/O 2. 3101289,7.925,,S\\n402,0,3,\"Adams, Mr. John\",male,26,0,0,341826,8.05,,S\\n403,0,3,\"Jussila, Miss Mari Aina\",female,21,1,0,4137,9.825,,S\\n404,0,3,\"Hakkarainen, Mr. Pekka Pietari\",male,28,1,0,STON/O2. 3101279,15.85,,S\\n405,0,3,\"Oreskovic, Miss Marija\",female,20,0,0,315096,8.6625,,S\\n406,0,2,\"Gale, Mr. Shadrach\",male,34,1,0,28664,21,,S\\n407,0,3,\"Widegren, Mr. Carl/Charles Peter\",male,51,0,0,347064,7.75,,S\\n408,1,2,\"Richards, Master William Rowe\",male,3,1,1,29106,18.75,,S\\n409,0,3,\"Birkeland, Mr. Hans Martin Monsen\",male,21,0,0,312992,7.775,,S\\n410,0,3,\"Lefebre, Miss Ida\",female,,3,1,4133,25.4667,,S\\n411,0,3,\"Sdycoff, Mr. Todor\",male,,0,0,349222,7.8958,,S\\n412,0,3,\"Hart, Mr. Henry\",male,,0,0,394140,6.8583,,Q\\n413,1,1,\"Minahan, Miss Daisy E\",female,33,1,0,19928,90,C78,Q\\n414,0,2,\"Cunningham, Mr. Alfred Fleming\",male,,0,0,239853,0,,S\\n415,1,3,\"Sundman, Mr. Johan Julian\",male,44,0,0,STON/O 2. 3101269,7.925,,S\\n416,0,3,\"Meek, Mrs. Thomas (Annie Louise Rowley)\",female,,0,0,343095,8.05,,S\\n417,1,2,\"Drew, Mrs. James Vivian (Lulu Thorne Christian)\",female,34,1,1,28220,32.5,,S\\n418,1,2,\"Silven, Miss Lyyli Karoliina\",female,18,0,2,250652,13,,S\\n419,0,2,\"Matthews, Mr. William John\",male,30,0,0,28228,13,,S\\n420,0,3,\"Van Impe, Miss Catharina\",female,10,0,2,345773,24.15,,S\\n421,0,3,\"Gheorgheff, Mr. Stanio\",male,,0,0,349254,7.8958,,C\\n422,0,3,\"Charters, Mr. David\",male,21,0,0,A/5. 13032,7.7333,,Q\\n423,0,3,\"Zimmerman, Mr. Leo\",male,29,0,0,315082,7.875,,S\\n424,0,3,\"Danbom, Mrs. Ernst Gilbert (Anna Sigrid Maria Brogren)\",female,28,1,1,347080,14.4,,S\\n425,0,3,\"Rosblom, Mr. Viktor Richard\",male,18,1,1,370129,20.2125,,S\\n426,0,3,\"Wiseman, Mr. Phillippe\",male,,0,0,A/4. 34244,7.25,,S\\n427,1,2,\"Clarke, Mrs. Charles V (Ada Maria Winfield)\",female,28,1,0,2003,26,,S\\n428,1,2,\"Phillips, Miss Kate Florence (\"\"Mrs Kate Louise Phillips Marshall\"\")\",female,19,0,0,250655,26,,S\\n429,0,3,\"Flynn, Mr. James\",male,,0,0,364851,7.75,,Q\\n430,1,3,\"Pickard, Mr. Berk (Berk Trembisky)\",male,32,0,0,SOTON/O.Q. 392078,8.05,E10,S\\n431,1,1,\"Bjornstrom-Steffansson, Mr. Mauritz Hakan\",male,28,0,0,110564,26.55,C52,S\\n432,1,3,\"Thorneycroft, Mrs. Percival (Florence Kate White)\",female,,1,0,376564,16.1,,S\\n433,1,2,\"Louch, Mrs. Charles Alexander (Alice Adelaide Slow)\",female,42,1,0,SC/AH 3085,26,,S\\n434,0,3,\"Kallio, Mr. Nikolai Erland\",male,17,0,0,STON/O 2. 3101274,7.125,,S\\n435,0,1,\"Silvey, Mr. William Baird\",male,50,1,0,13507,55.9,E44,S\\n436,1,1,\"Carter, Miss Lucile Polk\",female,14,1,2,113760,120,B96 B98,S\\n437,0,3,\"Ford, Miss Doolina Margaret \"\"Daisy\"\"\",female,21,2,2,W./C. 6608,34.375,,S\\n438,1,2,\"Richards, Mrs. Sidney (Emily Hocking)\",female,24,2,3,29106,18.75,,S\\n439,0,1,\"Fortune, Mr. Mark\",male,64,1,4,19950,263,C23 C25 C27,S\\n440,0,2,\"Kvillner, Mr. Johan Henrik Johannesson\",male,31,0,0,C.A. 18723,10.5,,S\\n441,1,2,\"Hart, Mrs. Benjamin (Esther Ada Bloomfield)\",female,45,1,1,F.C.C. 13529,26.25,,S\\n442,0,3,\"Hampe, Mr. Leon\",male,20,0,0,345769,9.5,,S\\n443,0,3,\"Petterson, Mr. Johan Emil\",male,25,1,0,347076,7.775,,S\\n444,1,2,\"Reynaldo, Ms. Encarnacion\",female,28,0,0,230434,13,,S\\n445,1,3,\"Johannesen-Bratthammer, Mr. Bernt\",male,,0,0,65306,8.1125,,S\\n446,1,1,\"Dodge, Master Washington\",male,4,0,2,33638,81.8583,A34,S\\n447,1,2,\"Mellinger, Miss Madeleine Violet\",female,13,0,1,250644,19.5,,S\\n448,1,1,\"Seward, Mr. Frederic Kimber\",male,34,0,0,113794,26.55,,S\\n449,1,3,\"Baclini, Miss Marie Catherine\",female,5,2,1,2666,19.2583,,C\\n450,1,1,\"Peuchen, Major. Arthur Godfrey\",male,52,0,0,113786,30.5,C104,S\\n451,0,2,\"West, Mr. Edwy Arthur\",male,36,1,2,C.A. 34651,27.75,,S\\n452,0,3,\"Hagland, Mr. Ingvald Olai Olsen\",male,,1,0,65303,19.9667,,S\\n453,0,1,\"Foreman, Mr. Benjamin Laventall\",male,30,0,0,113051,27.75,C111,C\\n454,1,1,\"Goldenberg, Mr. Samuel L\",male,49,1,0,17453,89.1042,C92,C\\n455,0,3,\"Peduzzi, Mr. Joseph\",male,,0,0,A/5 2817,8.05,,S\\n456,1,3,\"Jalsevac, Mr. Ivan\",male,29,0,0,349240,7.8958,,C\\n457,0,1,\"Millet, Mr. Francis Davis\",male,65,0,0,13509,26.55,E38,S\\n458,1,1,\"Kenyon, Mrs. Frederick R (Marion)\",female,,1,0,17464,51.8625,D21,S\\n459,1,2,\"Toomey, Miss Ellen\",female,50,0,0,F.C.C. 13531,10.5,,S\\n460,0,3,\"O\\'Connor, Mr. Maurice\",male,,0,0,371060,7.75,,Q\\n461,1,1,\"Anderson, Mr. Harry\",male,48,0,0,19952,26.55,E12,S\\n462,0,3,\"Morley, Mr. William\",male,34,0,0,364506,8.05,,S\\n463,0,1,\"Gee, Mr. Arthur H\",male,47,0,0,111320,38.5,E63,S\\n464,0,2,\"Milling, Mr. Jacob Christian\",male,48,0,0,234360,13,,S\\n465,0,3,\"Maisner, Mr. Simon\",male,,0,0,A/S 2816,8.05,,S\\n466,0,3,\"Goncalves, Mr. Manuel Estanslas\",male,38,0,0,SOTON/O.Q. 3101306,7.05,,S\\n467,0,2,\"Campbell, Mr. William\",male,,0,0,239853,0,,S\\n468,0,1,\"Smart, Mr. John Montgomery\",male,56,0,0,113792,26.55,,S\\n469,0,3,\"Scanlan, Mr. James\",male,,0,0,36209,7.725,,Q\\n470,1,3,\"Baclini, Miss Helene Barbara\",female,0.75,2,1,2666,19.2583,,C\\n471,0,3,\"Keefe, Mr. Arthur\",male,,0,0,323592,7.25,,S\\n472,0,3,\"Cacic, Mr. Luka\",male,38,0,0,315089,8.6625,,S\\n473,1,2,\"West, Mrs. Edwy Arthur (Ada Mary Worth)\",female,33,1,2,C.A. 34651,27.75,,S\\n474,1,2,\"Jerwan, Mrs. Amin S (Marie Marthe Thuillard)\",female,23,0,0,SC/AH Basle 541,13.7917,D,C\\n475,0,3,\"Strandberg, Miss Ida Sofia\",female,22,0,0,7553,9.8375,,S\\n476,0,1,\"Clifford, Mr. George Quincy\",male,,0,0,110465,52,A14,S\\n477,0,2,\"Renouf, Mr. Peter Henry\",male,34,1,0,31027,21,,S\\n478,0,3,\"Braund, Mr. Lewis Richard\",male,29,1,0,3460,7.0458,,S\\n479,0,3,\"Karlsson, Mr. Nils August\",male,22,0,0,350060,7.5208,,S\\n480,1,3,\"Hirvonen, Miss Hildur E\",female,2,0,1,3101298,12.2875,,S\\n481,0,3,\"Goodwin, Master Harold Victor\",male,9,5,2,CA 2144,46.9,,S\\n482,0,2,\"Frost, Mr. Anthony Wood \"\"Archie\"\"\",male,,0,0,239854,0,,S\\n483,0,3,\"Rouse, Mr. Richard Henry\",male,50,0,0,A/5 3594,8.05,,S\\n484,1,3,\"Turkula, Mrs. (Hedwig)\",female,63,0,0,4134,9.5875,,S\\n485,1,1,\"Bishop, Mr. Dickinson H\",male,25,1,0,11967,91.0792,B49,C\\n486,0,3,\"Lefebre, Miss Jeannie\",female,,3,1,4133,25.4667,,S\\n487,1,1,\"Hoyt, Mrs. Frederick Maxfield (Jane Anne Forby)\",female,35,1,0,19943,90,C93,S\\n488,0,1,\"Kent, Mr. Edward Austin\",male,58,0,0,11771,29.7,B37,C\\n489,0,3,\"Somerton, Mr. Francis William\",male,30,0,0,A.5. 18509,8.05,,S\\n490,1,3,\"Coutts, Master Eden Leslie \"\"Neville\"\"\",male,9,1,1,C.A. 37671,15.9,,S\\n491,0,3,\"Hagland, Mr. Konrad Mathias Reiersen\",male,,1,0,65304,19.9667,,S\\n492,0,3,\"Windelov, Mr. Einar\",male,21,0,0,SOTON/OQ 3101317,7.25,,S\\n493,0,1,\"Molson, Mr. Harry Markland\",male,55,0,0,113787,30.5,C30,S\\n494,0,1,\"Artagaveytia, Mr. Ramon\",male,71,0,0,PC 17609,49.5042,,C\\n495,0,3,\"Stanley, Mr. Edward Roland\",male,21,0,0,A/4 45380,8.05,,S\\n496,0,3,\"Yousseff, Mr. Gerious\",male,,0,0,2627,14.4583,,C\\n497,1,1,\"Eustis, Miss Elizabeth Mussey\",female,54,1,0,36947,78.2667,D20,C\\n498,0,3,\"Shellard, Mr. Frederick William\",male,,0,0,C.A. 6212,15.1,,S\\n499,0,1,\"Allison, Mrs. Hudson J C (Bessie Waldo Daniels)\",female,25,1,2,113781,151.55,C22 C26,S\\n500,0,3,\"Svensson, Mr. Olof\",male,24,0,0,350035,7.7958,,S\\n501,0,3,\"Calic, Mr. Petar\",male,17,0,0,315086,8.6625,,S\\n502,0,3,\"Canavan, Miss Mary\",female,21,0,0,364846,7.75,,Q\\n503,0,3,\"O\\'Sullivan, Miss Bridget Mary\",female,,0,0,330909,7.6292,,Q\\n504,0,3,\"Laitinen, Miss Kristina Sofia\",female,37,0,0,4135,9.5875,,S\\n505,1,1,\"Maioni, Miss Roberta\",female,16,0,0,110152,86.5,B79,S\\n506,0,1,\"Penasco y Castellana, Mr. Victor de Satode\",male,18,1,0,PC 17758,108.9,C65,C\\n507,1,2,\"Quick, Mrs. Frederick Charles (Jane Richards)\",female,33,0,2,26360,26,,S\\n508,1,1,\"Bradley, Mr. George (\"\"George Arthur Brayton\"\")\",male,,0,0,111427,26.55,,S\\n509,0,3,\"Olsen, Mr. Henry Margido\",male,28,0,0,C 4001,22.525,,S\\n510,1,3,\"Lang, Mr. Fang\",male,26,0,0,1601,56.4958,,S\\n511,1,3,\"Daly, Mr. Eugene Patrick\",male,29,0,0,382651,7.75,,Q\\n512,0,3,\"Webber, Mr. James\",male,,0,0,SOTON/OQ 3101316,8.05,,S\\n513,1,1,\"McGough, Mr. James Robert\",male,36,0,0,PC 17473,26.2875,E25,S\\n514,1,1,\"Rothschild, Mrs. Martin (Elizabeth L. Barrett)\",female,54,1,0,PC 17603,59.4,,C\\n515,0,3,\"Coleff, Mr. Satio\",male,24,0,0,349209,7.4958,,S\\n516,0,1,\"Walker, Mr. William Anderson\",male,47,0,0,36967,34.0208,D46,S\\n517,1,2,\"Lemore, Mrs. (Amelia Milley)\",female,34,0,0,C.A. 34260,10.5,F33,S\\n518,0,3,\"Ryan, Mr. Patrick\",male,,0,0,371110,24.15,,Q\\n519,1,2,\"Angle, Mrs. William A (Florence \"\"Mary\"\" Agnes Hughes)\",female,36,1,0,226875,26,,S\\n520,0,3,\"Pavlovic, Mr. Stefo\",male,32,0,0,349242,7.8958,,S\\n521,1,1,\"Perreault, Miss Anne\",female,30,0,0,12749,93.5,B73,S\\n522,0,3,\"Vovk, Mr. Janko\",male,22,0,0,349252,7.8958,,S\\n523,0,3,\"Lahoud, Mr. Sarkis\",male,,0,0,2624,7.225,,C\\n524,1,1,\"Hippach, Mrs. Louis Albert (Ida Sophia Fischer)\",female,44,0,1,111361,57.9792,B18,C\\n525,0,3,\"Kassem, Mr. Fared\",male,,0,0,2700,7.2292,,C\\n526,0,3,\"Farrell, Mr. James\",male,40.5,0,0,367232,7.75,,Q\\n527,1,2,\"Ridsdale, Miss Lucy\",female,50,0,0,W./C. 14258,10.5,,S\\n528,0,1,\"Farthing, Mr. John\",male,,0,0,PC 17483,221.7792,C95,S\\n529,0,3,\"Salonen, Mr. Johan Werner\",male,39,0,0,3101296,7.925,,S\\n530,0,2,\"Hocking, Mr. Richard George\",male,23,2,1,29104,11.5,,S\\n531,1,2,\"Quick, Miss Phyllis May\",female,2,1,1,26360,26,,S\\n532,0,3,\"Toufik, Mr. Nakli\",male,,0,0,2641,7.2292,,C\\n533,0,3,\"Elias, Mr. Joseph Jr\",male,17,1,1,2690,7.2292,,C\\n534,1,3,\"Peter, Mrs. Catherine (Catherine Rizk)\",female,,0,2,2668,22.3583,,C\\n535,0,3,\"Cacic, Miss Marija\",female,30,0,0,315084,8.6625,,S\\n536,1,2,\"Hart, Miss Eva Miriam\",female,7,0,2,F.C.C. 13529,26.25,,S\\n537,0,1,\"Butt, Major. Archibald Willingham\",male,45,0,0,113050,26.55,B38,S\\n538,1,1,\"LeRoy, Miss Bertha\",female,30,0,0,PC 17761,106.425,,C\\n539,0,3,\"Risien, Mr. Samuel Beard\",male,,0,0,364498,14.5,,S\\n540,1,1,\"Frolicher, Miss Hedwig Margaritha\",female,22,0,2,13568,49.5,B39,C\\n541,1,1,\"Crosby, Miss Harriet R\",female,36,0,2,WE/P 5735,71,B22,S\\n542,0,3,\"Andersson, Miss Ingeborg Constanzia\",female,9,4,2,347082,31.275,,S\\n543,0,3,\"Andersson, Miss Sigrid Elisabeth\",female,11,4,2,347082,31.275,,S\\n544,1,2,\"Beane, Mr. Edward\",male,32,1,0,2908,26,,S\\n545,0,1,\"Douglas, Mr. Walter Donald\",male,50,1,0,PC 17761,106.425,C86,C\\n546,0,1,\"Nicholson, Mr. Arthur Ernest\",male,64,0,0,693,26,,S\\n547,1,2,\"Beane, Mrs. Edward (Ethel Clarke)\",female,19,1,0,2908,26,,S\\n548,1,2,\"Padro y Manent, Mr. Julian\",male,,0,0,SC/PARIS 2146,13.8625,,C\\n549,0,3,\"Goldsmith, Mr. Frank John\",male,33,1,1,363291,20.525,,S\\n550,1,2,\"Davies, Master John Morgan Jr\",male,8,1,1,C.A. 33112,36.75,,S\\n551,1,1,\"Thayer, Mr. John Borland Jr\",male,17,0,2,17421,110.8833,C70,C\\n552,0,2,\"Sharp, Mr. Percival James R\",male,27,0,0,244358,26,,S\\n553,0,3,\"O\\'Brien, Mr. Timothy\",male,,0,0,330979,7.8292,,Q\\n554,1,3,\"Leeni, Mr. Fahim (\"\"Philip Zenni\"\")\",male,22,0,0,2620,7.225,,C\\n555,1,3,\"Ohman, Miss Velin\",female,22,0,0,347085,7.775,,S\\n556,0,1,\"Wright, Mr. George\",male,62,0,0,113807,26.55,,S\\n557,1,1,\"Duff Gordon, Lady. (Lucille Christiana Sutherland) (\"\"Mrs Morgan\"\")\",female,48,1,0,11755,39.6,A16,C\\n558,0,1,\"Robbins, Mr. Victor\",male,,0,0,PC 17757,227.525,,C\\n559,1,1,\"Taussig, Mrs. Emil (Tillie Mandelbaum)\",female,39,1,1,110413,79.65,E67,S\\n560,1,3,\"de Messemaeker, Mrs. Guillaume Joseph (Emma)\",female,36,1,0,345572,17.4,,S\\n561,0,3,\"Morrow, Mr. Thomas Rowan\",male,,0,0,372622,7.75,,Q\\n562,0,3,\"Sivic, Mr. Husein\",male,40,0,0,349251,7.8958,,S\\n563,0,2,\"Norman, Mr. Robert Douglas\",male,28,0,0,218629,13.5,,S\\n564,0,3,\"Simmons, Mr. John\",male,,0,0,SOTON/OQ 392082,8.05,,S\\n565,0,3,\"Meanwell, Miss (Marion Ogden)\",female,,0,0,SOTON/O.Q. 392087,8.05,,S\\n566,0,3,\"Davies, Mr. Alfred J\",male,24,2,0,A/4 48871,24.15,,S\\n567,0,3,\"Stoytcheff, Mr. Ilia\",male,19,0,0,349205,7.8958,,S\\n568,0,3,\"Palsson, Mrs. Nils (Alma Cornelia Berglund)\",female,29,0,4,349909,21.075,,S\\n569,0,3,\"Doharr, Mr. Tannous\",male,,0,0,2686,7.2292,,C\\n570,1,3,\"Jonsson, Mr. Carl\",male,32,0,0,350417,7.8542,,S\\n571,1,2,\"Harris, Mr. George\",male,62,0,0,S.W./PP 752,10.5,,S\\n572,1,1,\"Appleton, Mrs. Edward Dale (Charlotte Lamson)\",female,53,2,0,11769,51.4792,C101,S\\n573,1,1,\"Flynn, Mr. John Irwin (\"\"Irving\"\")\",male,36,0,0,PC 17474,26.3875,E25,S\\n574,1,3,\"Kelly, Miss Mary\",female,,0,0,14312,7.75,,Q\\n575,0,3,\"Rush, Mr. Alfred George John\",male,16,0,0,A/4. 20589,8.05,,S\\n576,0,3,\"Patchett, Mr. George\",male,19,0,0,358585,14.5,,S\\n577,1,2,\"Garside, Miss Ethel\",female,34,0,0,243880,13,,S\\n578,1,1,\"Silvey, Mrs. William Baird (Alice Munger)\",female,39,1,0,13507,55.9,E44,S\\n579,0,3,\"Caram, Mrs. Joseph (Maria Elias)\",female,,1,0,2689,14.4583,,C\\n580,1,3,\"Jussila, Mr. Eiriik\",male,32,0,0,STON/O 2. 3101286,7.925,,S\\n581,1,2,\"Christy, Miss Julie Rachel\",female,25,1,1,237789,30,,S\\n582,1,1,\"Thayer, Mrs. John Borland (Marian Longstreth Morris)\",female,39,1,1,17421,110.8833,C68,C\\n583,0,2,\"Downton, Mr. William James\",male,54,0,0,28403,26,,S\\n584,0,1,\"Ross, Mr. John Hugo\",male,36,0,0,13049,40.125,A10,C\\n585,0,3,\"Paulner, Mr. Uscher\",male,,0,0,3411,8.7125,,C\\n586,1,1,\"Taussig, Miss Ruth\",female,18,0,2,110413,79.65,E68,S\\n587,0,2,\"Jarvis, Mr. John Denzil\",male,47,0,0,237565,15,,S\\n588,1,1,\"Frolicher-Stehli, Mr. Maxmillian\",male,60,1,1,13567,79.2,B41,C\\n589,0,3,\"Gilinski, Mr. Eliezer\",male,22,0,0,14973,8.05,,S\\n590,0,3,\"Murdlin, Mr. Joseph\",male,,0,0,A./5. 3235,8.05,,S\\n591,0,3,\"Rintamaki, Mr. Matti\",male,35,0,0,STON/O 2. 3101273,7.125,,S\\n592,1,1,\"Stephenson, Mrs. Walter Bertram (Martha Eustis)\",female,52,1,0,36947,78.2667,D20,C\\n593,0,3,\"Elsbury, Mr. William James\",male,47,0,0,A/5 3902,7.25,,S\\n594,0,3,\"Bourke, Miss Mary\",female,,0,2,364848,7.75,,Q\\n595,0,2,\"Chapman, Mr. John Henry\",male,37,1,0,SC/AH 29037,26,,S\\n596,0,3,\"Van Impe, Mr. Jean Baptiste\",male,36,1,1,345773,24.15,,S\\n597,1,2,\"Leitch, Miss Jessie Wills\",female,,0,0,248727,33,,S\\n598,0,3,\"Johnson, Mr. Alfred\",male,49,0,0,LINE,0,,S\\n599,0,3,\"Boulos, Mr. Hanna\",male,,0,0,2664,7.225,,C\\n600,1,1,\"Duff Gordon, Sir. Cosmo Edmund (\"\"Mr Morgan\"\")\",male,49,1,0,PC 17485,56.9292,A20,C\\n601,1,2,\"Jacobsohn, Mrs. Sidney Samuel (Amy Frances Christy)\",female,24,2,1,243847,27,,S\\n602,0,3,\"Slabenoff, Mr. Petco\",male,,0,0,349214,7.8958,,S\\n603,0,1,\"Harrington, Mr. Charles H\",male,,0,0,113796,42.4,,S\\n604,0,3,\"Torber, Mr. Ernst William\",male,44,0,0,364511,8.05,,S\\n605,1,1,\"Homer, Mr. Harry (\"\"Mr E Haven\"\")\",male,35,0,0,111426,26.55,,C\\n606,0,3,\"Lindell, Mr. Edvard Bengtsson\",male,36,1,0,349910,15.55,,S\\n607,0,3,\"Karaic, Mr. Milan\",male,30,0,0,349246,7.8958,,S\\n608,1,1,\"Daniel, Mr. Robert Williams\",male,27,0,0,113804,30.5,,S\\n609,1,2,\"Laroche, Mrs. Joseph (Juliette Marie Louise Lafargue)\",female,22,1,2,SC/Paris 2123,41.5792,,C\\n610,1,1,\"Shutes, Miss Elizabeth W\",female,40,0,0,PC 17582,153.4625,C125,S\\n611,0,3,\"Andersson, Mrs. Anders Johan (Alfrida Konstantia Brogren)\",female,39,1,5,347082,31.275,,S\\n612,0,3,\"Jardin, Mr. Jose Neto\",male,,0,0,SOTON/O.Q. 3101305,7.05,,S\\n613,1,3,\"Murphy, Miss Margaret Jane\",female,,1,0,367230,15.5,,Q\\n614,0,3,\"Horgan, Mr. John\",male,,0,0,370377,7.75,,Q\\n615,0,3,\"Brocklebank, Mr. William Alfred\",male,35,0,0,364512,8.05,,S\\n616,1,2,\"Herman, Miss Alice\",female,24,1,2,220845,65,,S\\n617,0,3,\"Danbom, Mr. Ernst Gilbert\",male,34,1,1,347080,14.4,,S\\n618,0,3,\"Lobb, Mrs. William Arthur (Cordelia K Stanlick)\",female,26,1,0,A/5. 3336,16.1,,S\\n619,1,2,\"Becker, Miss Marion Louise\",female,4,2,1,230136,39,F4,S\\n620,0,2,\"Gavey, Mr. Lawrence\",male,26,0,0,31028,10.5,,S\\n621,0,3,\"Yasbeck, Mr. Antoni\",male,27,1,0,2659,14.4542,,C\\n622,1,1,\"Kimball, Mr. Edwin Nelson Jr\",male,42,1,0,11753,52.5542,D19,S\\n623,1,3,\"Nakid, Mr. Sahid\",male,20,1,1,2653,15.7417,,C\\n624,0,3,\"Hansen, Mr. Henry Damsgaard\",male,21,0,0,350029,7.8542,,S\\n625,0,3,\"Bowen, Mr. David John \"\"Dai\"\"\",male,21,0,0,54636,16.1,,S\\n626,0,1,\"Sutton, Mr. Frederick\",male,61,0,0,36963,32.3208,D50,S\\n627,0,2,\"Kirkland, Rev. Charles Leonard\",male,57,0,0,219533,12.35,,Q\\n628,1,1,\"Longley, Miss Gretchen Fiske\",female,21,0,0,13502,77.9583,D9,S\\n629,0,3,\"Bostandyeff, Mr. Guentcho\",male,26,0,0,349224,7.8958,,S\\n630,0,3,\"O\\'Connell, Mr. Patrick D\",male,,0,0,334912,7.7333,,Q\\n631,1,1,\"Barkworth, Mr. Algernon Henry Wilson\",male,80,0,0,27042,30,A23,S\\n632,0,3,\"Lundahl, Mr. Johan Svensson\",male,51,0,0,347743,7.0542,,S\\n633,1,1,\"Stahelin-Maeglin, Dr. Max\",male,32,0,0,13214,30.5,B50,C\\n634,0,1,\"Parr, Mr. William Henry Marsh\",male,,0,0,112052,0,,S\\n635,0,3,\"Skoog, Miss Mabel\",female,9,3,2,347088,27.9,,S\\n636,1,2,\"Davis, Miss Mary\",female,28,0,0,237668,13,,S\\n637,0,3,\"Leinonen, Mr. Antti Gustaf\",male,32,0,0,STON/O 2. 3101292,7.925,,S\\n638,0,2,\"Collyer, Mr. Harvey\",male,31,1,1,C.A. 31921,26.25,,S\\n639,0,3,\"Panula, Mrs. Juha (Maria Emilia Ojala)\",female,41,0,5,3101295,39.6875,,S\\n640,0,3,\"Thorneycroft, Mr. Percival\",male,,1,0,376564,16.1,,S\\n641,0,3,\"Jensen, Mr. Hans Peder\",male,20,0,0,350050,7.8542,,S\\n642,1,1,\"Sagesser, Mlle. Emma\",female,24,0,0,PC 17477,69.3,B35,C\\n643,0,3,\"Skoog, Miss Margit Elizabeth\",female,2,3,2,347088,27.9,,S\\n644,1,3,\"Foo, Mr. Choong\",male,,0,0,1601,56.4958,,S\\n645,1,3,\"Baclini, Miss Eugenie\",female,0.75,2,1,2666,19.2583,,C\\n646,1,1,\"Harper, Mr. Henry Sleeper\",male,48,1,0,PC 17572,76.7292,D33,C\\n647,0,3,\"Cor, Mr. Liudevit\",male,19,0,0,349231,7.8958,,S\\n648,1,1,\"Simonius-Blumer, Col. Oberst Alfons\",male,56,0,0,13213,35.5,A26,C\\n649,0,3,\"Willey, Mr. Edward\",male,,0,0,S.O./P.P. 751,7.55,,S\\n650,1,3,\"Stanley, Miss Amy Zillah Elsie\",female,23,0,0,CA. 2314,7.55,,S\\n651,0,3,\"Mitkoff, Mr. Mito\",male,,0,0,349221,7.8958,,S\\n652,1,2,\"Doling, Miss Elsie\",female,18,0,1,231919,23,,S\\n653,0,3,\"Kalvik, Mr. Johannes Halvorsen\",male,21,0,0,8475,8.4333,,S\\n654,1,3,\"O\\'Leary, Miss Hanora \"\"Norah\"\"\",female,,0,0,330919,7.8292,,Q\\n655,0,3,\"Hegarty, Miss Hanora \"\"Nora\"\"\",female,18,0,0,365226,6.75,,Q\\n656,0,2,\"Hickman, Mr. Leonard Mark\",male,24,2,0,S.O.C. 14879,73.5,,S\\n657,0,3,\"Radeff, Mr. Alexander\",male,,0,0,349223,7.8958,,S\\n658,0,3,\"Bourke, Mrs. John (Catherine)\",female,32,1,1,364849,15.5,,Q\\n659,0,2,\"Eitemiller, Mr. George Floyd\",male,23,0,0,29751,13,,S\\n660,0,1,\"Newell, Mr. Arthur Webster\",male,58,0,2,35273,113.275,D48,C\\n661,1,1,\"Frauenthal, Dr. Henry William\",male,50,2,0,PC 17611,133.65,,S\\n662,0,3,\"Badt, Mr. Mohamed\",male,40,0,0,2623,7.225,,C\\n663,0,1,\"Colley, Mr. Edward Pomeroy\",male,47,0,0,5727,25.5875,E58,S\\n664,0,3,\"Coleff, Mr. Peju\",male,36,0,0,349210,7.4958,,S\\n665,1,3,\"Lindqvist, Mr. Eino William\",male,20,1,0,STON/O 2. 3101285,7.925,,S\\n666,0,2,\"Hickman, Mr. Lewis\",male,32,2,0,S.O.C. 14879,73.5,,S\\n667,0,2,\"Butler, Mr. Reginald Fenton\",male,25,0,0,234686,13,,S\\n668,0,3,\"Rommetvedt, Mr. Knud Paust\",male,,0,0,312993,7.775,,S\\n669,0,3,\"Cook, Mr. Jacob\",male,43,0,0,A/5 3536,8.05,,S\\n670,1,1,\"Taylor, Mrs. Elmer Zebley (Juliet Cummins Wright)\",female,,1,0,19996,52,C126,S\\n671,1,2,\"Brown, Mrs. Thomas William Solomon (Elizabeth Catherine Ford)\",female,40,1,1,29750,39,,S\\n672,0,1,\"Davidson, Mr. Thornton\",male,31,1,0,F.C. 12750,52,B71,S\\n673,0,2,\"Mitchell, Mr. Henry Michael\",male,70,0,0,C.A. 24580,10.5,,S\\n674,1,2,\"Wilhelms, Mr. Charles\",male,31,0,0,244270,13,,S\\n675,0,2,\"Watson, Mr. Ennis Hastings\",male,,0,0,239856,0,,S\\n676,0,3,\"Edvardsson, Mr. Gustaf Hjalmar\",male,18,0,0,349912,7.775,,S\\n677,0,3,\"Sawyer, Mr. Frederick Charles\",male,24.5,0,0,342826,8.05,,S\\n678,1,3,\"Turja, Miss Anna Sofia\",female,18,0,0,4138,9.8417,,S\\n679,0,3,\"Goodwin, Mrs. Frederick (Augusta Tyler)\",female,43,1,6,CA 2144,46.9,,S\\n680,1,1,\"Cardeza, Mr. Thomas Drake Martinez\",male,36,0,1,PC 17755,512.3292,B51 B53 B55,C\\n681,0,3,\"Peters, Miss Katie\",female,,0,0,330935,8.1375,,Q\\n682,1,1,\"Hassab, Mr. Hammad\",male,27,0,0,PC 17572,76.7292,D49,C\\n683,0,3,\"Olsvigen, Mr. Thor Anderson\",male,20,0,0,6563,9.225,,S\\n684,0,3,\"Goodwin, Mr. Charles Edward\",male,14,5,2,CA 2144,46.9,,S\\n685,0,2,\"Brown, Mr. Thomas William Solomon\",male,60,1,1,29750,39,,S\\n686,0,2,\"Laroche, Mr. Joseph Philippe Lemercier\",male,25,1,2,SC/Paris 2123,41.5792,,C\\n687,0,3,\"Panula, Mr. Jaako Arnold\",male,14,4,1,3101295,39.6875,,S\\n688,0,3,\"Dakic, Mr. Branko\",male,19,0,0,349228,10.1708,,S\\n689,0,3,\"Fischer, Mr. Eberhard Thelander\",male,18,0,0,350036,7.7958,,S\\n690,1,1,\"Madill, Miss Georgette Alexandra\",female,15,0,1,24160,211.3375,B5,S\\n691,1,1,\"Dick, Mr. Albert Adrian\",male,31,1,0,17474,57,B20,S\\n692,1,3,\"Karun, Miss Manca\",female,4,0,1,349256,13.4167,,C\\n693,1,3,\"Lam, Mr. Ali\",male,,0,0,1601,56.4958,,S\\n694,0,3,\"Saad, Mr. Khalil\",male,25,0,0,2672,7.225,,C\\n695,0,1,\"Weir, Col. John\",male,60,0,0,113800,26.55,,S\\n696,0,2,\"Chapman, Mr. Charles Henry\",male,52,0,0,248731,13.5,,S\\n697,0,3,\"Kelly, Mr. James\",male,44,0,0,363592,8.05,,S\\n698,1,3,\"Mullens, Miss Katherine \"\"Katie\"\"\",female,,0,0,35852,7.7333,,Q\\n699,0,1,\"Thayer, Mr. John Borland\",male,49,1,1,17421,110.8833,C68,C\\n700,0,3,\"Humblen, Mr. Adolf Mathias Nicolai Olsen\",male,42,0,0,348121,7.65,F G63,S\\n701,1,1,\"Astor, Mrs. John Jacob (Madeleine Talmadge Force)\",female,18,1,0,PC 17757,227.525,C62 C64,C\\n702,1,1,\"Silverthorne, Mr. Spencer Victor\",male,35,0,0,PC 17475,26.2875,E24,S\\n703,0,3,\"Barbara, Miss Saiide\",female,18,0,1,2691,14.4542,,C\\n704,0,3,\"Gallagher, Mr. Martin\",male,25,0,0,36864,7.7417,,Q\\n705,0,3,\"Hansen, Mr. Henrik Juul\",male,26,1,0,350025,7.8542,,S\\n706,0,2,\"Morley, Mr. Henry Samuel (\"\"Mr Henry Marshall\"\")\",male,39,0,0,250655,26,,S\\n707,1,2,\"Kelly, Mrs. Florence \"\"Fannie\"\"\",female,45,0,0,223596,13.5,,S\\n708,1,1,\"Calderhead, Mr. Edward Pennington\",male,42,0,0,PC 17476,26.2875,E24,S\\n709,1,1,\"Cleaver, Miss Alice\",female,22,0,0,113781,151.55,,S\\n710,1,3,\"Moubarek, Master Halim Gonios (\"\"William George\"\")\",male,,1,1,2661,15.2458,,C\\n711,1,1,\"Mayne, Mlle. Berthe Antonine (\"\"Mrs de Villiers\"\")\",female,24,0,0,PC 17482,49.5042,C90,C\\n712,0,1,\"Klaber, Mr. Herman\",male,,0,0,113028,26.55,C124,S\\n713,1,1,\"Taylor, Mr. Elmer Zebley\",male,48,1,0,19996,52,C126,S\\n714,0,3,\"Larsson, Mr. August Viktor\",male,29,0,0,7545,9.4833,,S\\n715,0,2,\"Greenberg, Mr. Samuel\",male,52,0,0,250647,13,,S\\n716,0,3,\"Soholt, Mr. Peter Andreas Lauritz Andersen\",male,19,0,0,348124,7.65,F G73,S\\n717,1,1,\"Endres, Miss Caroline Louise\",female,38,0,0,PC 17757,227.525,C45,C\\n718,1,2,\"Troutt, Miss Edwina Celia \"\"Winnie\"\"\",female,27,0,0,34218,10.5,E101,S\\n719,0,3,\"McEvoy, Mr. Michael\",male,,0,0,36568,15.5,,Q\\n720,0,3,\"Johnson, Mr. Malkolm Joackim\",male,33,0,0,347062,7.775,,S\\n721,1,2,\"Harper, Miss Annie Jessie \"\"Nina\"\"\",female,6,0,1,248727,33,,S\\n722,0,3,\"Jensen, Mr. Svend Lauritz\",male,17,1,0,350048,7.0542,,S\\n723,0,2,\"Gillespie, Mr. William Henry\",male,34,0,0,12233,13,,S\\n724,0,2,\"Hodges, Mr. Henry Price\",male,50,0,0,250643,13,,S\\n725,1,1,\"Chambers, Mr. Norman Campbell\",male,27,1,0,113806,53.1,E8,S\\n726,0,3,\"Oreskovic, Mr. Luka\",male,20,0,0,315094,8.6625,,S\\n727,1,2,\"Renouf, Mrs. Peter Henry (Lillian Jefferys)\",female,30,3,0,31027,21,,S\\n728,1,3,\"Mannion, Miss Margareth\",female,,0,0,36866,7.7375,,Q\\n729,0,2,\"Bryhl, Mr. Kurt Arnold Gottfrid\",male,25,1,0,236853,26,,S\\n730,0,3,\"Ilmakangas, Miss Pieta Sofia\",female,25,1,0,STON/O2. 3101271,7.925,,S\\n731,1,1,\"Allen, Miss Elisabeth Walton\",female,29,0,0,24160,211.3375,B5,S\\n732,0,3,\"Hassan, Mr. Houssein G N\",male,11,0,0,2699,18.7875,,C\\n733,0,2,\"Knight, Mr. Robert J\",male,,0,0,239855,0,,S\\n734,0,2,\"Berriman, Mr. William John\",male,23,0,0,28425,13,,S\\n735,0,2,\"Troupiansky, Mr. Moses Aaron\",male,23,0,0,233639,13,,S\\n736,0,3,\"Williams, Mr. Leslie\",male,28.5,0,0,54636,16.1,,S\\n737,0,3,\"Ford, Mrs. Edward (Margaret Ann Watson)\",female,48,1,3,W./C. 6608,34.375,,S\\n738,1,1,\"Lesurer, Mr. Gustave J\",male,35,0,0,PC 17755,512.3292,B101,C\\n739,0,3,\"Ivanoff, Mr. Kanio\",male,,0,0,349201,7.8958,,S\\n740,0,3,\"Nankoff, Mr. Minko\",male,,0,0,349218,7.8958,,S\\n741,1,1,\"Hawksford, Mr. Walter James\",male,,0,0,16988,30,D45,S\\n742,0,1,\"Cavendish, Mr. Tyrell William\",male,36,1,0,19877,78.85,C46,S\\n743,1,1,\"Ryerson, Miss Susan Parker \"\"Suzette\"\"\",female,21,2,2,PC 17608,262.375,B57 B59 B63 B66,C\\n744,0,3,\"McNamee, Mr. Neal\",male,24,1,0,376566,16.1,,S\\n745,1,3,\"Stranden, Mr. Juho\",male,31,0,0,STON/O 2. 3101288,7.925,,S\\n746,0,1,\"Crosby, Capt. Edward Gifford\",male,70,1,1,WE/P 5735,71,B22,S\\n747,0,3,\"Abbott, Mr. Rossmore Edward\",male,16,1,1,C.A. 2673,20.25,,S\\n748,1,2,\"Sinkkonen, Miss Anna\",female,30,0,0,250648,13,,S\\n749,0,1,\"Marvin, Mr. Daniel Warner\",male,19,1,0,113773,53.1,D30,S\\n750,0,3,\"Connaghton, Mr. Michael\",male,31,0,0,335097,7.75,,Q\\n751,1,2,\"Wells, Miss Joan\",female,4,1,1,29103,23,,S\\n752,1,3,\"Moor, Master Meier\",male,6,0,1,392096,12.475,E121,S\\n753,0,3,\"Vande Velde, Mr. Johannes Joseph\",male,33,0,0,345780,9.5,,S\\n754,0,3,\"Jonkoff, Mr. Lalio\",male,23,0,0,349204,7.8958,,S\\n755,1,2,\"Herman, Mrs. Samuel (Jane Laver)\",female,48,1,2,220845,65,,S\\n756,1,2,\"Hamalainen, Master Viljo\",male,0.67,1,1,250649,14.5,,S\\n757,0,3,\"Carlsson, Mr. August Sigfrid\",male,28,0,0,350042,7.7958,,S\\n758,0,2,\"Bailey, Mr. Percy Andrew\",male,18,0,0,29108,11.5,,S\\n759,0,3,\"Theobald, Mr. Thomas Leonard\",male,34,0,0,363294,8.05,,S\\n760,1,1,\"Rothes, the Countess. of (Lucy Noel Martha Dyer-Edwards)\",female,33,0,0,110152,86.5,B77,S\\n761,0,3,\"Garfirth, Mr. John\",male,,0,0,358585,14.5,,S\\n762,0,3,\"Nirva, Mr. Iisakki Antino Aijo\",male,41,0,0,SOTON/O2 3101272,7.125,,S\\n763,1,3,\"Barah, Mr. Hanna Assi\",male,20,0,0,2663,7.2292,,C\\n764,1,1,\"Carter, Mrs. William Ernest (Lucile Polk)\",female,36,1,2,113760,120,B96 B98,S\\n765,0,3,\"Eklund, Mr. Hans Linus\",male,16,0,0,347074,7.775,,S\\n766,1,1,\"Hogeboom, Mrs. John C (Anna Andrews)\",female,51,1,0,13502,77.9583,D11,S\\n767,0,1,\"Brewe, Dr. Arthur Jackson\",male,,0,0,112379,39.6,,C\\n768,0,3,\"Mangan, Miss Mary\",female,30.5,0,0,364850,7.75,,Q\\n769,0,3,\"Moran, Mr. Daniel J\",male,,1,0,371110,24.15,,Q\\n770,0,3,\"Gronnestad, Mr. Daniel Danielsen\",male,32,0,0,8471,8.3625,,S\\n771,0,3,\"Lievens, Mr. Rene Aime\",male,24,0,0,345781,9.5,,S\\n772,0,3,\"Jensen, Mr. Niels Peder\",male,48,0,0,350047,7.8542,,S\\n773,0,2,\"Mack, Mrs. (Mary)\",female,57,0,0,S.O./P.P. 3,10.5,E77,S\\n774,0,3,\"Elias, Mr. Dibo\",male,,0,0,2674,7.225,,C\\n775,1,2,\"Hocking, Mrs. Elizabeth (Eliza Needs)\",female,54,1,3,29105,23,,S\\n776,0,3,\"Myhrman, Mr. Pehr Fabian Oliver Malkolm\",male,18,0,0,347078,7.75,,S\\n777,0,3,\"Tobin, Mr. Roger\",male,,0,0,383121,7.75,F38,Q\\n778,1,3,\"Emanuel, Miss Virginia Ethel\",female,5,0,0,364516,12.475,,S\\n779,0,3,\"Kilgannon, Mr. Thomas J\",male,,0,0,36865,7.7375,,Q\\n780,1,1,\"Robert, Mrs. Edward Scott (Elisabeth Walton McMillan)\",female,43,0,1,24160,211.3375,B3,S\\n781,1,3,\"Ayoub, Miss Banoura\",female,13,0,0,2687,7.2292,,C\\n782,1,1,\"Dick, Mrs. Albert Adrian (Vera Gillespie)\",female,17,1,0,17474,57,B20,S\\n783,0,1,\"Long, Mr. Milton Clyde\",male,29,0,0,113501,30,D6,S\\n784,0,3,\"Johnston, Mr. Andrew G\",male,,1,2,W./C. 6607,23.45,,S\\n785,0,3,\"Ali, Mr. William\",male,25,0,0,SOTON/O.Q. 3101312,7.05,,S\\n786,0,3,\"Harmer, Mr. Abraham (David Lishin)\",male,25,0,0,374887,7.25,,S\\n787,1,3,\"Sjoblom, Miss Anna Sofia\",female,18,0,0,3101265,7.4958,,S\\n788,0,3,\"Rice, Master George Hugh\",male,8,4,1,382652,29.125,,Q\\n789,1,3,\"Dean, Master Bertram Vere\",male,1,1,2,C.A. 2315,20.575,,S\\n790,0,1,\"Guggenheim, Mr. Benjamin\",male,46,0,0,PC 17593,79.2,B82 B84,C\\n791,0,3,\"Keane, Mr. Andrew \"\"Andy\"\"\",male,,0,0,12460,7.75,,Q\\n792,0,2,\"Gaskell, Mr. Alfred\",male,16,0,0,239865,26,,S\\n793,0,3,\"Sage, Miss Stella Anna\",female,,8,2,CA. 2343,69.55,,S\\n794,0,1,\"Hoyt, Mr. William Fisher\",male,,0,0,PC 17600,30.6958,,C\\n795,0,3,\"Dantcheff, Mr. Ristiu\",male,25,0,0,349203,7.8958,,S\\n796,0,2,\"Otter, Mr. Richard\",male,39,0,0,28213,13,,S\\n797,1,1,\"Leader, Dr. Alice (Farnham)\",female,49,0,0,17465,25.9292,D17,S\\n798,1,3,\"Osman, Mrs. Mara\",female,31,0,0,349244,8.6833,,S\\n799,0,3,\"Ibrahim Shawah, Mr. Yousseff\",male,30,0,0,2685,7.2292,,C\\n800,0,3,\"Van Impe, Mrs. Jean Baptiste (Rosalie Paula Govaert)\",female,30,1,1,345773,24.15,,S\\n801,0,2,\"Ponesell, Mr. Martin\",male,34,0,0,250647,13,,S\\n802,1,2,\"Collyer, Mrs. Harvey (Charlotte Annie Tate)\",female,31,1,1,C.A. 31921,26.25,,S\\n803,1,1,\"Carter, Master William Thornton II\",male,11,1,2,113760,120,B96 B98,S\\n804,1,3,\"Thomas, Master Assad Alexander\",male,0.42,0,1,2625,8.5167,,C\\n805,1,3,\"Hedman, Mr. Oskar Arvid\",male,27,0,0,347089,6.975,,S\\n806,0,3,\"Johansson, Mr. Karl Johan\",male,31,0,0,347063,7.775,,S\\n807,0,1,\"Andrews, Mr. Thomas Jr\",male,39,0,0,112050,0,A36,S\\n808,0,3,\"Pettersson, Miss Ellen Natalia\",female,18,0,0,347087,7.775,,S\\n809,0,2,\"Meyer, Mr. August\",male,39,0,0,248723,13,,S\\n810,1,1,\"Chambers, Mrs. Norman Campbell (Bertha Griggs)\",female,33,1,0,113806,53.1,E8,S\\n811,0,3,\"Alexander, Mr. William\",male,26,0,0,3474,7.8875,,S\\n812,0,3,\"Lester, Mr. James\",male,39,0,0,A/4 48871,24.15,,S\\n813,0,2,\"Slemen, Mr. Richard James\",male,35,0,0,28206,10.5,,S\\n814,0,3,\"Andersson, Miss Ebba Iris Alfrida\",female,6,4,2,347082,31.275,,S\\n815,0,3,\"Tomlin, Mr. Ernest Portage\",male,30.5,0,0,364499,8.05,,S\\n816,0,1,\"Fry, Mr. Richard\",male,,0,0,112058,0,B102,S\\n817,0,3,\"Heininen, Miss Wendla Maria\",female,23,0,0,STON/O2. 3101290,7.925,,S\\n818,0,2,\"Mallet, Mr. Albert\",male,31,1,1,S.C./PARIS 2079,37.0042,,C\\n819,0,3,\"Holm, Mr. John Fredrik Alexander\",male,43,0,0,C 7075,6.45,,S\\n820,0,3,\"Skoog, Master Karl Thorsten\",male,10,3,2,347088,27.9,,S\\n821,1,1,\"Hays, Mrs. Charles Melville (Clara Jennings Gregg)\",female,52,1,1,12749,93.5,B69,S\\n822,1,3,\"Lulic, Mr. Nikola\",male,27,0,0,315098,8.6625,,S\\n823,0,1,\"Reuchlin, Jonkheer. John George\",male,38,0,0,19972,0,,S\\n824,1,3,\"Moor, Mrs. (Beila)\",female,27,0,1,392096,12.475,E121,S\\n825,0,3,\"Panula, Master Urho Abraham\",male,2,4,1,3101295,39.6875,,S\\n826,0,3,\"Flynn, Mr. John\",male,,0,0,368323,6.95,,Q\\n827,0,3,\"Lam, Mr. Len\",male,,0,0,1601,56.4958,,S\\n828,1,2,\"Mallet, Master Andre\",male,1,0,2,S.C./PARIS 2079,37.0042,,C\\n829,1,3,\"McCormack, Mr. Thomas Joseph\",male,,0,0,367228,7.75,,Q\\n830,1,1,\"Stone, Mrs. George Nelson (Martha Evelyn)\",female,62,0,0,113572,80,B28,\\n831,1,3,\"Yasbeck, Mrs. Antoni (Selini Alexander)\",female,15,1,0,2659,14.4542,,C\\n832,1,2,\"Richards, Master George Sibley\",male,0.83,1,1,29106,18.75,,S\\n833,0,3,\"Saad, Mr. Amin\",male,,0,0,2671,7.2292,,C\\n834,0,3,\"Augustsson, Mr. Albert\",male,23,0,0,347468,7.8542,,S\\n835,0,3,\"Allum, Mr. Owen George\",male,18,0,0,2223,8.3,,S\\n836,1,1,\"Compton, Miss Sara Rebecca\",female,39,1,1,PC 17756,83.1583,E49,C\\n837,0,3,\"Pasic, Mr. Jakob\",male,21,0,0,315097,8.6625,,S\\n838,0,3,\"Sirota, Mr. Maurice\",male,,0,0,392092,8.05,,S\\n839,1,3,\"Chip, Mr. Chang\",male,32,0,0,1601,56.4958,,S\\n840,1,1,\"Marechal, Mr. Pierre\",male,,0,0,11774,29.7,C47,C\\n841,0,3,\"Alhomaki, Mr. Ilmari Rudolf\",male,20,0,0,SOTON/O2 3101287,7.925,,S\\n842,0,2,\"Mudd, Mr. Thomas Charles\",male,16,0,0,S.O./P.P. 3,10.5,,S\\n843,1,1,\"Serepeca, Miss Augusta\",female,30,0,0,113798,31,,C\\n844,0,3,\"Lemberopolous, Mr. Peter L\",male,34.5,0,0,2683,6.4375,,C\\n845,0,3,\"Culumovic, Mr. Jeso\",male,17,0,0,315090,8.6625,,S\\n846,0,3,\"Abbing, Mr. Anthony\",male,42,0,0,C.A. 5547,7.55,,S\\n847,0,3,\"Sage, Mr. Douglas Bullen\",male,,8,2,CA. 2343,69.55,,S\\n848,0,3,\"Markoff, Mr. Marin\",male,35,0,0,349213,7.8958,,C\\n849,0,2,\"Harper, Rev. John\",male,28,0,1,248727,33,,S\\n850,1,1,\"Goldenberg, Mrs. Samuel L (Edwiga Grabowska)\",female,,1,0,17453,89.1042,C92,C\\n851,0,3,\"Andersson, Master Sigvard Harald Elias\",male,4,4,2,347082,31.275,,S\\n852,0,3,\"Svensson, Mr. Johan\",male,74,0,0,347060,7.775,,S\\n853,0,3,\"Boulos, Miss Nourelain\",female,9,1,1,2678,15.2458,,C\\n854,1,1,\"Lines, Miss Mary Conover\",female,16,0,1,PC 17592,39.4,D28,S\\n855,0,2,\"Carter, Mrs. Ernest Courtenay (Lilian Hughes)\",female,44,1,0,244252,26,,S\\n856,1,3,\"Aks, Mrs. Sam (Leah Rosen)\",female,18,0,1,392091,9.35,,S\\n857,1,1,\"Wick, Mrs. George Dennick (Mary Hitchcock)\",female,45,1,1,36928,164.8667,,S\\n858,1,1,\"Daly, Mr. Peter Denis \",male,51,0,0,113055,26.55,E17,S\\n859,1,3,\"Baclini, Mrs. Solomon (Latifa Qurban)\",female,24,0,3,2666,19.2583,,C\\n860,0,3,\"Razi, Mr. Raihed\",male,,0,0,2629,7.2292,,C\\n861,0,3,\"Hansen, Mr. Claus Peter\",male,41,2,0,350026,14.1083,,S\\n862,0,2,\"Giles, Mr. Frederick Edward\",male,21,1,0,28134,11.5,,S\\n863,1,1,\"Swift, Mrs. Frederick Joel (Margaret Welles Barron)\",female,48,0,0,17466,25.9292,D17,S\\n864,0,3,\"Sage, Miss Dorothy Edith \"\"Dolly\"\"\",female,,8,2,CA. 2343,69.55,,S\\n865,0,2,\"Gill, Mr. John William\",male,24,0,0,233866,13,,S\\n866,1,2,\"Bystrom, Mrs. (Karolina)\",female,42,0,0,236852,13,,S\\n867,1,2,\"Duran y More, Miss Asuncion\",female,27,1,0,SC/PARIS 2149,13.8583,,C\\n868,0,1,\"Roebling, Mr. Washington Augustus II\",male,31,0,0,PC 17590,50.4958,A24,S\\n869,0,3,\"van Melkebeke, Mr. Philemon\",male,,0,0,345777,9.5,,S\\n870,1,3,\"Johnson, Master Harold Theodor\",male,4,1,1,347742,11.1333,,S\\n871,0,3,\"Balkic, Mr. Cerin\",male,26,0,0,349248,7.8958,,S\\n872,1,1,\"Beckwith, Mrs. Richard Leonard (Sallie Monypeny)\",female,47,1,1,11751,52.5542,D35,S\\n873,0,1,\"Carlsson, Mr. Frans Olof\",male,33,0,0,695,5,B51 B53 B55,S\\n874,0,3,\"Vander Cruyssen, Mr. Victor\",male,47,0,0,345765,9,,S\\n875,1,2,\"Abelson, Mrs. Samuel (Hannah Wizosky)\",female,28,1,0,P/PP 3381,24,,C\\n876,1,3,\"Najib, Miss Adele Kiamie \"\"Jane\"\"\",female,15,0,0,2667,7.225,,C\\n877,0,3,\"Gustafsson, Mr. Alfred Ossian\",male,20,0,0,7534,9.8458,,S\\n878,0,3,\"Petroff, Mr. Nedelio\",male,19,0,0,349212,7.8958,,S\\n879,0,3,\"Laleff, Mr. Kristo\",male,,0,0,349217,7.8958,,S\\n880,1,1,\"Potter, Mrs. Thomas Jr (Lily Alexenia Wilson)\",female,56,0,1,11767,83.1583,C50,C\\n881,1,2,\"Shelley, Mrs. William (Imanita Parrish Hall)\",female,25,0,1,230433,26,,S\\n882,0,3,\"Markun, Mr. Johann\",male,33,0,0,349257,7.8958,,S\\n883,0,3,\"Dahlberg, Miss Gerda Ulrika\",female,22,0,0,7552,10.5167,,S\\n884,0,2,\"Banfield, Mr. Frederick James\",male,28,0,0,C.A./SOTON 34068,10.5,,S\\n885,0,3,\"Sutehall, Mr. Henry Jr\",male,25,0,0,SOTON/OQ 392076,7.05,,S\\n886,0,3,\"Rice, Mrs. William (Margaret Norton)\",female,39,0,5,382652,29.125,,Q\\n887,0,2,\"Montvila, Rev. Juozas\",male,27,0,0,211536,13,,S\\n888,1,1,\"Graham, Miss Margaret Edith\",female,19,0,0,112053,30,B42,S\\n889,0,3,\"Johnston, Miss Catherine Helen \"\"Carrie\"\"\",female,,1,2,W./C. 6607,23.45,,S\\n890,1,1,\"Behr, Mr. Karl Howell\",male,26,0,0,111369,30,C148,C\\n891,0,3,\"Dooley, Mr. Patrick\",male,32,0,0,370376,7.75,,Q\\n'"
      ]
     },
     "execution_count": 16,
     "metadata": {},
     "output_type": "execute_result"
    }
   ],
   "source": [
    "#Data\n",
    "URL.data"
   ]
  },
  {
   "cell_type": "code",
   "execution_count": 13,
   "metadata": {},
   "outputs": [
    {
     "data": {
      "text/plain": [
       "'PassengerId,Survived,Pclass,Name,Sex,Age,SibSp,Parch,Ticket,Fare,Cabin,Embarked\\n1,0,3,\"Braund, Mr. Owen Harris\",male,22,1,0,A/5 21171,7.25,,S\\n2,1,1,\"Cumings, Mrs. John Bradley (Florence Briggs Thayer)\",female,38,1,0,PC 17599,71.2833,C85,C\\n3,1,3,\"Heikkinen, Miss Laina\",female,26,0,0,STON/O2. 3101282,7.925,,S\\n4,1,1,\"Futrelle, Mrs. Jacques Heath (Lily May Peel)\",female,35,1,0,113803,53.1,C123,S\\n5,0,3,\"Allen, Mr. William Henry\",male,35,0,0,373450,8.05,,S\\n6,0,3,\"Moran, Mr. James\",male,,0,0,330877,8.4583,,Q\\n7,0,1,\"McCarthy, Mr. Timothy J\",male,54,0,0,17463,51.8625,E46,S\\n8,0,3,\"Palsson, Master Gosta Leonard\",male,2,3,1,349909,21.075,,S\\n9,1,3,\"Johnson, Mrs. Oscar W (Elisabeth Vilhelmina Berg)\",female,27,0,2,347742,11.1333,,S\\n10,1,2,\"Nasser, Mrs. Nicholas (Adele Achem)\",female,14,1,0,237736,30.0708,,C\\n11,1,3,\"Sandstrom, Miss Marguerite Rut\",female,4,1,1,PP 9549,16.7,G6,S\\n12,1,1,\"Bonnell, Miss Elizabeth\",female,58,0,0,113783,26.55,C103,S\\n13,0,3,\"Saundercock, Mr. William Henry\",male,20,0,0,A/5. 2151,8.05,,S\\n14,0,3,\"Andersson, Mr. Anders Johan\",male,39,1,5,347082,31.275,,S\\n15,0,3,\"Vestrom, Miss Hulda Amanda Adolfina\",female,14,0,0,350406,7.8542,,S\\n16,1,2,\"Hewlett, Mrs. (Mary D Kingcome) \",female,55,0,0,248706,16,,S\\n17,0,3,\"Rice, Master Eugene\",male,2,4,1,382652,29.125,,Q\\n18,1,2,\"Williams, Mr. Charles Eugene\",male,,0,0,244373,13,,S\\n19,0,3,\"Vander Planke, Mrs. Julius (Emelia Maria Vandemoortele)\",female,31,1,0,345763,18,,S\\n20,1,3,\"Masselmani, Mrs. Fatima\",female,,0,0,2649,7.225,,C\\n21,0,2,\"Fynney, Mr. Joseph J\",male,35,0,0,239865,26,,S\\n22,1,2,\"Beesley, Mr. Lawrence\",male,34,0,0,248698,13,D56,S\\n23,1,3,\"McGowan, Miss Anna \"\"Annie\"\"\",female,15,0,0,330923,8.0292,,Q\\n24,1,1,\"Sloper, Mr. William Thompson\",male,28,0,0,113788,35.5,A6,S\\n25,0,3,\"Palsson, Miss Torborg Danira\",female,8,3,1,349909,21.075,,S\\n26,1,3,\"Asplund, Mrs. Carl Oscar (Selma Augusta Emilia Johansson)\",female,38,1,5,347077,31.3875,,S\\n27,0,3,\"Emir, Mr. Farred Chehab\",male,,0,0,2631,7.225,,C\\n28,0,1,\"Fortune, Mr. Charles Alexander\",male,19,3,2,19950,263,C23 C25 C27,S\\n29,1,3,\"O\\'Dwyer, Miss Ellen \"\"Nellie\"\"\",female,,0,0,330959,7.8792,,Q\\n30,0,3,\"Todoroff, Mr. Lalio\",male,,0,0,349216,7.8958,,S\\n31,0,1,\"Uruchurtu, Don. Manuel E\",male,40,0,0,PC 17601,27.7208,,C\\n32,1,1,\"Spencer, Mrs. William Augustus (Marie Eugenie)\",female,,1,0,PC 17569,146.5208,B78,C\\n33,1,3,\"Glynn, Miss Mary Agatha\",female,,0,0,335677,7.75,,Q\\n34,0,2,\"Wheadon, Mr. Edward H\",male,66,0,0,C.A. 24579,10.5,,S\\n35,0,1,\"Meyer, Mr. Edgar Joseph\",male,28,1,0,PC 17604,82.1708,,C\\n36,0,1,\"Holverson, Mr. Alexander Oskar\",male,42,1,0,113789,52,,S\\n37,1,3,\"Mamee, Mr. Hanna\",male,,0,0,2677,7.2292,,C\\n38,0,3,\"Cann, Mr. Ernest Charles\",male,21,0,0,A./5. 2152,8.05,,S\\n39,0,3,\"Vander Planke, Miss Augusta Maria\",female,18,2,0,345764,18,,S\\n40,1,3,\"Nicola-Yarred, Miss Jamila\",female,14,1,0,2651,11.2417,,C\\n41,0,3,\"Ahlin, Mrs. Johan (Johanna Persdotter Larsson)\",female,40,1,0,7546,9.475,,S\\n42,0,2,\"Turpin, Mrs. William John Robert (Dorothy Ann Wonnacott)\",female,27,1,0,11668,21,,S\\n43,0,3,\"Kraeff, Mr. Theodor\",male,,0,0,349253,7.8958,,C\\n44,1,2,\"Laroche, Miss Simonne Marie Anne Andree\",female,3,1,2,SC/Paris 2123,41.5792,,C\\n45,1,3,\"Devaney, Miss Margaret Delia\",female,19,0,0,330958,7.8792,,Q\\n46,0,3,\"Rogers, Mr. William John\",male,,0,0,S.C./A.4. 23567,8.05,,S\\n47,0,3,\"Lennon, Mr. Denis\",male,,1,0,370371,15.5,,Q\\n48,1,3,\"O\\'Driscoll, Miss Bridget\",female,,0,0,14311,7.75,,Q\\n49,0,3,\"Samaan, Mr. Youssef\",male,,2,0,2662,21.6792,,C\\n50,0,3,\"Arnold-Franchi, Mrs. Josef (Josefine Franchi)\",female,18,1,0,349237,17.8,,S\\n51,0,3,\"Panula, Master Juha Niilo\",male,7,4,1,3101295,39.6875,,S\\n52,0,3,\"Nosworthy, Mr. Richard Cater\",male,21,0,0,A/4. 39886,7.8,,S\\n53,1,1,\"Harper, Mrs. Henry Sleeper (Myna Haxtun)\",female,49,1,0,PC 17572,76.7292,D33,C\\n54,1,2,\"Faunthorpe, Mrs. Lizzie (Elizabeth Anne Wilkinson)\",female,29,1,0,2926,26,,S\\n55,0,1,\"Ostby, Mr. Engelhart Cornelius\",male,65,0,1,113509,61.9792,B30,C\\n56,1,1,\"Woolner, Mr. Hugh\",male,,0,0,19947,35.5,C52,S\\n57,1,2,\"Rugg, Miss Emily\",female,21,0,0,C.A. 31026,10.5,,S\\n58,0,3,\"Novel, Mr. Mansouer\",male,28.5,0,0,2697,7.2292,,C\\n59,1,2,\"West, Miss Constance Mirium\",female,5,1,2,C.A. 34651,27.75,,S\\n60,0,3,\"Goodwin, Master William Frederick\",male,11,5,2,CA 2144,46.9,,S\\n61,0,3,\"Sirayanian, Mr. Orsen\",male,22,0,0,2669,7.2292,,C\\n62,1,1,\"Icard, Miss Amelie\",female,38,0,0,113572,80,B28,\\n63,0,1,\"Harris, Mr. Henry Birkhardt\",male,45,1,0,36973,83.475,C83,S\\n64,0,3,\"Skoog, Master Harald\",male,4,3,2,347088,27.9,,S\\n65,0,1,\"Stewart, Mr. Albert A\",male,,0,0,PC 17605,27.7208,,C\\n66,1,3,\"Moubarek, Master Gerios\",male,,1,1,2661,15.2458,,C\\n67,1,2,\"Nye, Mrs. (Elizabeth Ramell)\",female,29,0,0,C.A. 29395,10.5,F33,S\\n68,0,3,\"Crease, Mr. Ernest James\",male,19,0,0,S.P. 3464,8.1583,,S\\n69,1,3,\"Andersson, Miss Erna Alexandra\",female,17,4,2,3101281,7.925,,S\\n70,0,3,\"Kink, Mr. Vincenz\",male,26,2,0,315151,8.6625,,S\\n71,0,2,\"Jenkin, Mr. Stephen Curnow\",male,32,0,0,C.A. 33111,10.5,,S\\n72,0,3,\"Goodwin, Miss Lillian Amy\",female,16,5,2,CA 2144,46.9,,S\\n73,0,2,\"Hood, Mr. Ambrose Jr\",male,21,0,0,S.O.C. 14879,73.5,,S\\n74,0,3,\"Chronopoulos, Mr. Apostolos\",male,26,1,0,2680,14.4542,,C\\n75,1,3,\"Bing, Mr. Lee\",male,32,0,0,1601,56.4958,,S\\n76,0,3,\"Moen, Mr. Sigurd Hansen\",male,25,0,0,348123,7.65,F G73,S\\n77,0,3,\"Staneff, Mr. Ivan\",male,,0,0,349208,7.8958,,S\\n78,0,3,\"Moutal, Mr. Rahamin Haim\",male,,0,0,374746,8.05,,S\\n79,1,2,\"Caldwell, Master Alden Gates\",male,0.83,0,2,248738,29,,S\\n80,1,3,\"Dowdell, Miss Elizabeth\",female,30,0,0,364516,12.475,,S\\n81,0,3,\"Waelens, Mr. Achille\",male,22,0,0,345767,9,,S\\n82,1,3,\"Sheerlinck, Mr. Jan Baptist\",male,29,0,0,345779,9.5,,S\\n83,1,3,\"McDermott, Miss Brigdet Delia\",female,,0,0,330932,7.7875,,Q\\n84,0,1,\"Carrau, Mr. Francisco M\",male,28,0,0,113059,47.1,,S\\n85,1,2,\"Ilett, Miss Bertha\",female,17,0,0,SO/C 14885,10.5,,S\\n86,1,3,\"Backstrom, Mrs. Karl Alfred (Maria Mathilda Gustafsson)\",female,33,3,0,3101278,15.85,,S\\n87,0,3,\"Ford, Mr. William Neal\",male,16,1,3,W./C. 6608,34.375,,S\\n88,0,3,\"Slocovski, Mr. Selman Francis\",male,,0,0,SOTON/OQ 392086,8.05,,S\\n89,1,1,\"Fortune, Miss Mabel Helen\",female,23,3,2,19950,263,C23 C25 C27,S\\n90,0,3,\"Celotti, Mr. Francesco\",male,24,0,0,343275,8.05,,S\\n91,0,3,\"Christmann, Mr. Emil\",male,29,0,0,343276,8.05,,S\\n92,0,3,\"Andreasson, Mr. Paul Edvin\",male,20,0,0,347466,7.8542,,S\\n93,0,1,\"Chaffee, Mr. Herbert Fuller\",male,46,1,0,W.E.P. 5734,61.175,E31,S\\n94,0,3,\"Dean, Mr. Bertram Frank\",male,26,1,2,C.A. 2315,20.575,,S\\n95,0,3,\"Coxon, Mr. Daniel\",male,59,0,0,364500,7.25,,S\\n96,0,3,\"Shorney, Mr. Charles Joseph\",male,,0,0,374910,8.05,,S\\n97,0,1,\"Goldschmidt, Mr. George B\",male,71,0,0,PC 17754,34.6542,A5,C\\n98,1,1,\"Greenfield, Mr. William Bertram\",male,23,0,1,PC 17759,63.3583,D10 D12,C\\n99,1,2,\"Doling, Mrs. John T (Ada Julia Bone)\",female,34,0,1,231919,23,,S\\n100,0,2,\"Kantor, Mr. Sinai\",male,34,1,0,244367,26,,S\\n101,0,3,\"Petranec, Miss Matilda\",female,28,0,0,349245,7.8958,,S\\n102,0,3,\"Petroff, Mr. Pastcho (\"\"Pentcho\"\")\",male,,0,0,349215,7.8958,,S\\n103,0,1,\"White, Mr. Richard Frasar\",male,21,0,1,35281,77.2875,D26,S\\n104,0,3,\"Johansson, Mr. Gustaf Joel\",male,33,0,0,7540,8.6542,,S\\n105,0,3,\"Gustafsson, Mr. Anders Vilhelm\",male,37,2,0,3101276,7.925,,S\\n106,0,3,\"Mionoff, Mr. Stoytcho\",male,28,0,0,349207,7.8958,,S\\n107,1,3,\"Salkjelsvik, Miss Anna Kristine\",female,21,0,0,343120,7.65,,S\\n108,1,3,\"Moss, Mr. Albert Johan\",male,,0,0,312991,7.775,,S\\n109,0,3,\"Rekic, Mr. Tido\",male,38,0,0,349249,7.8958,,S\\n110,1,3,\"Moran, Miss Bertha\",female,,1,0,371110,24.15,,Q\\n111,0,1,\"Porter, Mr. Walter Chamberlain\",male,47,0,0,110465,52,C110,S\\n112,0,3,\"Zabour, Miss Hileni\",female,14.5,1,0,2665,14.4542,,C\\n113,0,3,\"Barton, Mr. David John\",male,22,0,0,324669,8.05,,S\\n114,0,3,\"Jussila, Miss Katriina\",female,20,1,0,4136,9.825,,S\\n115,0,3,\"Attalah, Miss Malake\",female,17,0,0,2627,14.4583,,C\\n116,0,3,\"Pekoniemi, Mr. Edvard\",male,21,0,0,STON/O 2. 3101294,7.925,,S\\n117,0,3,\"Connors, Mr. Patrick\",male,70.5,0,0,370369,7.75,,Q\\n118,0,2,\"Turpin, Mr. William John Robert\",male,29,1,0,11668,21,,S\\n119,0,1,\"Baxter, Mr. Quigg Edmond\",male,24,0,1,PC 17558,247.5208,B58 B60,C\\n120,0,3,\"Andersson, Miss Ellis Anna Maria\",female,2,4,2,347082,31.275,,S\\n121,0,2,\"Hickman, Mr. Stanley George\",male,21,2,0,S.O.C. 14879,73.5,,S\\n122,0,3,\"Moore, Mr. Leonard Charles\",male,,0,0,A4. 54510,8.05,,S\\n123,0,2,\"Nasser, Mr. Nicholas\",male,32.5,1,0,237736,30.0708,,C\\n124,1,2,\"Webber, Miss Susan\",female,32.5,0,0,27267,13,E101,S\\n125,0,1,\"White, Mr. Percival Wayland\",male,54,0,1,35281,77.2875,D26,S\\n126,1,3,\"Nicola-Yarred, Master Elias\",male,12,1,0,2651,11.2417,,C\\n127,0,3,\"McMahon, Mr. Martin\",male,,0,0,370372,7.75,,Q\\n128,1,3,\"Madsen, Mr. Fridtjof Arne\",male,24,0,0,C 17369,7.1417,,S\\n129,1,3,\"Peter, Miss Anna\",female,,1,1,2668,22.3583,F E69,C\\n130,0,3,\"Ekstrom, Mr. Johan\",male,45,0,0,347061,6.975,,S\\n131,0,3,\"Drazenoic, Mr. Jozef\",male,33,0,0,349241,7.8958,,C\\n132,0,3,\"Coelho, Mr. Domingos Fernandeo\",male,20,0,0,SOTON/O.Q. 3101307,7.05,,S\\n133,0,3,\"Robins, Mrs. Alexander A (Grace Charity Laury)\",female,47,1,0,A/5. 3337,14.5,,S\\n134,1,2,\"Weisz, Mrs. Leopold (Mathilde Francoise Pede)\",female,29,1,0,228414,26,,S\\n135,0,2,\"Sobey, Mr. Samuel James Hayden\",male,25,0,0,C.A. 29178,13,,S\\n136,0,2,\"Richard, Mr. Emile\",male,23,0,0,SC/PARIS 2133,15.0458,,C\\n137,1,1,\"Newsom, Miss Helen Monypeny\",female,19,0,2,11752,26.2833,D47,S\\n138,0,1,\"Futrelle, Mr. Jacques Heath\",male,37,1,0,113803,53.1,C123,S\\n139,0,3,\"Osen, Mr. Olaf Elon\",male,16,0,0,7534,9.2167,,S\\n140,0,1,\"Giglio, Mr. Victor\",male,24,0,0,PC 17593,79.2,B86,C\\n141,0,3,\"Boulos, Mrs. Joseph (Sultana)\",female,,0,2,2678,15.2458,,C\\n142,1,3,\"Nysten, Miss Anna Sofia\",female,22,0,0,347081,7.75,,S\\n143,1,3,\"Hakkarainen, Mrs. Pekka Pietari (Elin Matilda Dolck)\",female,24,1,0,STON/O2. 3101279,15.85,,S\\n144,0,3,\"Burke, Mr. Jeremiah\",male,19,0,0,365222,6.75,,Q\\n145,0,2,\"Andrew, Mr. Edgardo Samuel\",male,18,0,0,231945,11.5,,S\\n146,0,2,\"Nicholls, Mr. Joseph Charles\",male,19,1,1,C.A. 33112,36.75,,S\\n147,1,3,\"Andersson, Mr. August Edvard (\"\"Wennerstrom\"\")\",male,27,0,0,350043,7.7958,,S\\n148,0,3,\"Ford, Miss Robina Maggie \"\"Ruby\"\"\",female,9,2,2,W./C. 6608,34.375,,S\\n149,0,2,\"Navratil, Mr. Michel (\"\"Louis M Hoffman\"\")\",male,36.5,0,2,230080,26,F2,S\\n150,0,2,\"Byles, Rev. Thomas Roussel Davids\",male,42,0,0,244310,13,,S\\n151,0,2,\"Bateman, Rev. Robert James\",male,51,0,0,S.O.P. 1166,12.525,,S\\n152,1,1,\"Pears, Mrs. Thomas (Edith Wearne)\",female,22,1,0,113776,66.6,C2,S\\n153,0,3,\"Meo, Mr. Alfonzo\",male,55.5,0,0,A.5. 11206,8.05,,S\\n154,0,3,\"van Billiard, Mr. Austin Blyler\",male,40.5,0,2,A/5. 851,14.5,,S\\n155,0,3,\"Olsen, Mr. Ole Martin\",male,,0,0,Fa 265302,7.3125,,S\\n156,0,1,\"Williams, Mr. Charles Duane\",male,51,0,1,PC 17597,61.3792,,C\\n157,1,3,\"Gilnagh, Miss Katherine \"\"Katie\"\"\",female,16,0,0,35851,7.7333,,Q\\n158,0,3,\"Corn, Mr. Harry\",male,30,0,0,SOTON/OQ 392090,8.05,,S\\n159,0,3,\"Smiljanic, Mr. Mile\",male,,0,0,315037,8.6625,,S\\n160,0,3,\"Sage, Master Thomas Henry\",male,,8,2,CA. 2343,69.55,,S\\n161,0,3,\"Cribb, Mr. John Hatfield\",male,44,0,1,371362,16.1,,S\\n162,1,2,\"Watt, Mrs. James (Elizabeth \"\"Bessie\"\" Inglis Milne)\",female,40,0,0,C.A. 33595,15.75,,S\\n163,0,3,\"Bengtsson, Mr. John Viktor\",male,26,0,0,347068,7.775,,S\\n164,0,3,\"Calic, Mr. Jovo\",male,17,0,0,315093,8.6625,,S\\n165,0,3,\"Panula, Master Eino Viljami\",male,1,4,1,3101295,39.6875,,S\\n166,1,3,\"Goldsmith, Master Frank John William \"\"Frankie\"\"\",male,9,0,2,363291,20.525,,S\\n167,1,1,\"Chibnall, Mrs. (Edith Martha Bowerman)\",female,,0,1,113505,55,E33,S\\n168,0,3,\"Skoog, Mrs. William (Anna Bernhardina Karlsson)\",female,45,1,4,347088,27.9,,S\\n169,0,1,\"Baumann, Mr. John D\",male,,0,0,PC 17318,25.925,,S\\n170,0,3,\"Ling, Mr. Lee\",male,28,0,0,1601,56.4958,,S\\n171,0,1,\"Van der hoef, Mr. Wyckoff\",male,61,0,0,111240,33.5,B19,S\\n172,0,3,\"Rice, Master Arthur\",male,4,4,1,382652,29.125,,Q\\n173,1,3,\"Johnson, Miss Eleanor Ileen\",female,1,1,1,347742,11.1333,,S\\n174,0,3,\"Sivola, Mr. Antti Wilhelm\",male,21,0,0,STON/O 2. 3101280,7.925,,S\\n175,0,1,\"Smith, Mr. James Clinch\",male,56,0,0,17764,30.6958,A7,C\\n176,0,3,\"Klasen, Mr. Klas Albin\",male,18,1,1,350404,7.8542,,S\\n177,0,3,\"Lefebre, Master Henry Forbes\",male,,3,1,4133,25.4667,,S\\n178,0,1,\"Isham, Miss Ann Elizabeth\",female,50,0,0,PC 17595,28.7125,C49,C\\n179,0,2,\"Hale, Mr. Reginald\",male,30,0,0,250653,13,,S\\n180,0,3,\"Leonard, Mr. Lionel\",male,36,0,0,LINE,0,,S\\n181,0,3,\"Sage, Miss Constance Gladys\",female,,8,2,CA. 2343,69.55,,S\\n182,0,2,\"Pernot, Mr. Rene\",male,,0,0,SC/PARIS 2131,15.05,,C\\n183,0,3,\"Asplund, Master Clarence Gustaf Hugo\",male,9,4,2,347077,31.3875,,S\\n184,1,2,\"Becker, Master Richard F\",male,1,2,1,230136,39,F4,S\\n185,1,3,\"Kink-Heilmann, Miss Luise Gretchen\",female,4,0,2,315153,22.025,,S\\n186,0,1,\"Rood, Mr. Hugh Roscoe\",male,,0,0,113767,50,A32,S\\n187,1,3,\"O\\'Brien, Mrs. Thomas (Johanna \"\"Hannah\"\" Godfrey)\",female,,1,0,370365,15.5,,Q\\n188,1,1,\"Romaine, Mr. Charles Hallace (\"\"Mr C Rolmane\"\")\",male,45,0,0,111428,26.55,,S\\n189,0,3,\"Bourke, Mr. John\",male,40,1,1,364849,15.5,,Q\\n190,0,3,\"Turcin, Mr. Stjepan\",male,36,0,0,349247,7.8958,,S\\n191,1,2,\"Pinsky, Mrs. (Rosa)\",female,32,0,0,234604,13,,S\\n192,0,2,\"Carbines, Mr. William\",male,19,0,0,28424,13,,S\\n193,1,3,\"Andersen-Jensen, Miss Carla Christine Nielsine\",female,19,1,0,350046,7.8542,,S\\n194,1,2,\"Navratil, Master Michel M\",male,3,1,1,230080,26,F2,S\\n195,1,1,\"Brown, Mrs. James Joseph (Margaret Tobin)\",female,44,0,0,PC 17610,27.7208,B4,C\\n196,1,1,\"Lurette, Miss Elise\",female,58,0,0,PC 17569,146.5208,B80,C\\n197,0,3,\"Mernagh, Mr. Robert\",male,,0,0,368703,7.75,,Q\\n198,0,3,\"Olsen, Mr. Karl Siegwart Andreas\",male,42,0,1,4579,8.4042,,S\\n199,1,3,\"Madigan, Miss Margaret \"\"Maggie\"\"\",female,,0,0,370370,7.75,,Q\\n200,0,2,\"Yrois, Miss Henriette (\"\"Mrs Harbeck\"\")\",female,24,0,0,248747,13,,S\\n201,0,3,\"Vande Walle, Mr. Nestor Cyriel\",male,28,0,0,345770,9.5,,S\\n202,0,3,\"Sage, Mr. Frederick\",male,,8,2,CA. 2343,69.55,,S\\n203,0,3,\"Johanson, Mr. Jakob Alfred\",male,34,0,0,3101264,6.4958,,S\\n204,0,3,\"Youseff, Mr. Gerious\",male,45.5,0,0,2628,7.225,,C\\n205,1,3,\"Cohen, Mr. Gurshon \"\"Gus\"\"\",male,18,0,0,A/5 3540,8.05,,S\\n206,0,3,\"Strom, Miss Telma Matilda\",female,2,0,1,347054,10.4625,G6,S\\n207,0,3,\"Backstrom, Mr. Karl Alfred\",male,32,1,0,3101278,15.85,,S\\n208,1,3,\"Albimona, Mr. Nassef Cassem\",male,26,0,0,2699,18.7875,,C\\n209,1,3,\"Carr, Miss Helen \"\"Ellen\"\"\",female,16,0,0,367231,7.75,,Q\\n210,1,1,\"Blank, Mr. Henry\",male,40,0,0,112277,31,A31,C\\n211,0,3,\"Ali, Mr. Ahmed\",male,24,0,0,SOTON/O.Q. 3101311,7.05,,S\\n212,1,2,\"Cameron, Miss Clear Annie\",female,35,0,0,F.C.C. 13528,21,,S\\n213,0,3,\"Perkin, Mr. John Henry\",male,22,0,0,A/5 21174,7.25,,S\\n214,0,2,\"Givard, Mr. Hans Kristensen\",male,30,0,0,250646,13,,S\\n215,0,3,\"Kiernan, Mr. Philip\",male,,1,0,367229,7.75,,Q\\n216,1,1,\"Newell, Miss Madeleine\",female,31,1,0,35273,113.275,D36,C\\n217,1,3,\"Honkanen, Miss Eliina\",female,27,0,0,STON/O2. 3101283,7.925,,S\\n218,0,2,\"Jacobsohn, Mr. Sidney Samuel\",male,42,1,0,243847,27,,S\\n219,1,1,\"Bazzani, Miss Albina\",female,32,0,0,11813,76.2917,D15,C\\n220,0,2,\"Harris, Mr. Walter\",male,30,0,0,W/C 14208,10.5,,S\\n221,1,3,\"Sunderland, Mr. Victor Francis\",male,16,0,0,SOTON/OQ 392089,8.05,,S\\n222,0,2,\"Bracken, Mr. James H\",male,27,0,0,220367,13,,S\\n223,0,3,\"Green, Mr. George Henry\",male,51,0,0,21440,8.05,,S\\n224,0,3,\"Nenkoff, Mr. Christo\",male,,0,0,349234,7.8958,,S\\n225,1,1,\"Hoyt, Mr. Frederick Maxfield\",male,38,1,0,19943,90,C93,S\\n226,0,3,\"Berglund, Mr. Karl Ivar Sven\",male,22,0,0,PP 4348,9.35,,S\\n227,1,2,\"Mellors, Mr. William John\",male,19,0,0,SW/PP 751,10.5,,S\\n228,0,3,\"Lovell, Mr. John Hall (\"\"Henry\"\")\",male,20.5,0,0,A/5 21173,7.25,,S\\n229,0,2,\"Fahlstrom, Mr. Arne Jonas\",male,18,0,0,236171,13,,S\\n230,0,3,\"Lefebre, Miss Mathilde\",female,,3,1,4133,25.4667,,S\\n231,1,1,\"Harris, Mrs. Henry Birkhardt (Irene Wallach)\",female,35,1,0,36973,83.475,C83,S\\n232,0,3,\"Larsson, Mr. Bengt Edvin\",male,29,0,0,347067,7.775,,S\\n233,0,2,\"Sjostedt, Mr. Ernst Adolf\",male,59,0,0,237442,13.5,,S\\n234,1,3,\"Asplund, Miss Lillian Gertrud\",female,5,4,2,347077,31.3875,,S\\n235,0,2,\"Leyson, Mr. Robert William Norman\",male,24,0,0,C.A. 29566,10.5,,S\\n236,0,3,\"Harknett, Miss Alice Phoebe\",female,,0,0,W./C. 6609,7.55,,S\\n237,0,2,\"Hold, Mr. Stephen\",male,44,1,0,26707,26,,S\\n238,1,2,\"Collyer, Miss Marjorie \"\"Lottie\"\"\",female,8,0,2,C.A. 31921,26.25,,S\\n239,0,2,\"Pengelly, Mr. Frederick William\",male,19,0,0,28665,10.5,,S\\n240,0,2,\"Hunt, Mr. George Henry\",male,33,0,0,SCO/W 1585,12.275,,S\\n241,0,3,\"Zabour, Miss Thamine\",female,,1,0,2665,14.4542,,C\\n242,1,3,\"Murphy, Miss Katherine \"\"Kate\"\"\",female,,1,0,367230,15.5,,Q\\n243,0,2,\"Coleridge, Mr. Reginald Charles\",male,29,0,0,W./C. 14263,10.5,,S\\n244,0,3,\"Maenpaa, Mr. Matti Alexanteri\",male,22,0,0,STON/O 2. 3101275,7.125,,S\\n245,0,3,\"Attalah, Mr. Sleiman\",male,30,0,0,2694,7.225,,C\\n246,0,1,\"Minahan, Dr. William Edward\",male,44,2,0,19928,90,C78,Q\\n247,0,3,\"Lindahl, Miss Agda Thorilda Viktoria\",female,25,0,0,347071,7.775,,S\\n248,1,2,\"Hamalainen, Mrs. William (Anna)\",female,24,0,2,250649,14.5,,S\\n249,1,1,\"Beckwith, Mr. Richard Leonard\",male,37,1,1,11751,52.5542,D35,S\\n250,0,2,\"Carter, Rev. Ernest Courtenay\",male,54,1,0,244252,26,,S\\n251,0,3,\"Reed, Mr. James George\",male,,0,0,362316,7.25,,S\\n252,0,3,\"Strom, Mrs. Wilhelm (Elna Matilda Persson)\",female,29,1,1,347054,10.4625,G6,S\\n253,0,1,\"Stead, Mr. William Thomas\",male,62,0,0,113514,26.55,C87,S\\n254,0,3,\"Lobb, Mr. William Arthur\",male,30,1,0,A/5. 3336,16.1,,S\\n255,0,3,\"Rosblom, Mrs. Viktor (Helena Wilhelmina)\",female,41,0,2,370129,20.2125,,S\\n256,1,3,\"Touma, Mrs. Darwis (Hanne Youssef Razi)\",female,29,0,2,2650,15.2458,,C\\n257,1,1,\"Thorne, Mrs. Gertrude Maybelle\",female,,0,0,PC 17585,79.2,,C\\n258,1,1,\"Cherry, Miss Gladys\",female,30,0,0,110152,86.5,B77,S\\n259,1,1,\"Ward, Miss Anna\",female,35,0,0,PC 17755,512.3292,,C\\n260,1,2,\"Parrish, Mrs. (Lutie Davis)\",female,50,0,1,230433,26,,S\\n261,0,3,\"Smith, Mr. Thomas\",male,,0,0,384461,7.75,,Q\\n262,1,3,\"Asplund, Master Edvin Rojj Felix\",male,3,4,2,347077,31.3875,,S\\n263,0,1,\"Taussig, Mr. Emil\",male,52,1,1,110413,79.65,E67,S\\n264,0,1,\"Harrison, Mr. William\",male,40,0,0,112059,0,B94,S\\n265,0,3,\"Henry, Miss Delia\",female,,0,0,382649,7.75,,Q\\n266,0,2,\"Reeves, Mr. David\",male,36,0,0,C.A. 17248,10.5,,S\\n267,0,3,\"Panula, Mr. Ernesti Arvid\",male,16,4,1,3101295,39.6875,,S\\n268,1,3,\"Persson, Mr. Ernst Ulrik\",male,25,1,0,347083,7.775,,S\\n269,1,1,\"Graham, Mrs. William Thompson (Edith Junkins)\",female,58,0,1,PC 17582,153.4625,C125,S\\n270,1,1,\"Bissette, Miss Amelia\",female,35,0,0,PC 17760,135.6333,C99,S\\n271,0,1,\"Cairns, Mr. Alexander\",male,,0,0,113798,31,,S\\n272,1,3,\"Tornquist, Mr. William Henry\",male,25,0,0,LINE,0,,S\\n273,1,2,\"Mellinger, Mrs. (Elizabeth Anne Maidment)\",female,41,0,1,250644,19.5,,S\\n274,0,1,\"Natsch, Mr. Charles H\",male,37,0,1,PC 17596,29.7,C118,C\\n275,1,3,\"Healy, Miss Hanora \"\"Nora\"\"\",female,,0,0,370375,7.75,,Q\\n276,1,1,\"Andrews, Miss Kornelia Theodosia\",female,63,1,0,13502,77.9583,D7,S\\n277,0,3,\"Lindblom, Miss Augusta Charlotta\",female,45,0,0,347073,7.75,,S\\n278,0,2,\"Parkes, Mr. Francis \"\"Frank\"\"\",male,,0,0,239853,0,,S\\n279,0,3,\"Rice, Master Eric\",male,7,4,1,382652,29.125,,Q\\n280,1,3,\"Abbott, Mrs. Stanton (Rosa Hunt)\",female,35,1,1,C.A. 2673,20.25,,S\\n281,0,3,\"Duane, Mr. Frank\",male,65,0,0,336439,7.75,,Q\\n282,0,3,\"Olsson, Mr. Nils Johan Goransson\",male,28,0,0,347464,7.8542,,S\\n283,0,3,\"de Pelsmaeker, Mr. Alfons\",male,16,0,0,345778,9.5,,S\\n284,1,3,\"Dorking, Mr. Edward Arthur\",male,19,0,0,A/5. 10482,8.05,,S\\n285,0,1,\"Smith, Mr. Richard William\",male,,0,0,113056,26,A19,S\\n286,0,3,\"Stankovic, Mr. Ivan\",male,33,0,0,349239,8.6625,,C\\n287,1,3,\"de Mulder, Mr. Theodore\",male,30,0,0,345774,9.5,,S\\n288,0,3,\"Naidenoff, Mr. Penko\",male,22,0,0,349206,7.8958,,S\\n289,1,2,\"Hosono, Mr. Masabumi\",male,42,0,0,237798,13,,S\\n290,1,3,\"Connolly, Miss Kate\",female,22,0,0,370373,7.75,,Q\\n291,1,1,\"Barber, Miss Ellen \"\"Nellie\"\"\",female,26,0,0,19877,78.85,,S\\n292,1,1,\"Bishop, Mrs. Dickinson H (Helen Walton)\",female,19,1,0,11967,91.0792,B49,C\\n293,0,2,\"Levy, Mr. Rene Jacques\",male,36,0,0,SC/Paris 2163,12.875,D,C\\n294,0,3,\"Haas, Miss Aloisia\",female,24,0,0,349236,8.85,,S\\n295,0,3,\"Mineff, Mr. Ivan\",male,24,0,0,349233,7.8958,,S\\n296,0,1,\"Lewy, Mr. Ervin G\",male,,0,0,PC 17612,27.7208,,C\\n297,0,3,\"Hanna, Mr. Mansour\",male,23.5,0,0,2693,7.2292,,C\\n298,0,1,\"Allison, Miss Helen Loraine\",female,2,1,2,113781,151.55,C22 C26,S\\n299,1,1,\"Saalfeld, Mr. Adolphe\",male,,0,0,19988,30.5,C106,S\\n300,1,1,\"Baxter, Mrs. James (Helene DeLaudeniere Chaput)\",female,50,0,1,PC 17558,247.5208,B58 B60,C\\n301,1,3,\"Kelly, Miss Anna Katherine \"\"Annie Kate\"\"\",female,,0,0,9234,7.75,,Q\\n302,1,3,\"McCoy, Mr. Bernard\",male,,2,0,367226,23.25,,Q\\n303,0,3,\"Johnson, Mr. William Cahoone Jr\",male,19,0,0,LINE,0,,S\\n304,1,2,\"Keane, Miss Nora A\",female,,0,0,226593,12.35,E101,Q\\n305,0,3,\"Williams, Mr. Howard Hugh \"\"Harry\"\"\",male,,0,0,A/5 2466,8.05,,S\\n306,1,1,\"Allison, Master Hudson Trevor\",male,0.92,1,2,113781,151.55,C22 C26,S\\n307,1,1,\"Fleming, Miss Margaret\",female,,0,0,17421,110.8833,,C\\n308,1,1,\"Penasco y Castellana, Mrs. Victor de Satode (Maria Josefa Perez de Soto y Vallejo)\",female,17,1,0,PC 17758,108.9,C65,C\\n309,0,2,\"Abelson, Mr. Samuel\",male,30,1,0,P/PP 3381,24,,C\\n310,1,1,\"Francatelli, Miss Laura Mabel\",female,30,0,0,PC 17485,56.9292,E36,C\\n311,1,1,\"Hays, Miss Margaret Bechstein\",female,24,0,0,11767,83.1583,C54,C\\n312,1,1,\"Ryerson, Miss Emily Borie\",female,18,2,2,PC 17608,262.375,B57 B59 B63 B66,C\\n313,0,2,\"Lahtinen, Mrs. William (Anna Sylfven)\",female,26,1,1,250651,26,,S\\n314,0,3,\"Hendekovic, Mr. Ignjac\",male,28,0,0,349243,7.8958,,S\\n315,0,2,\"Hart, Mr. Benjamin\",male,43,1,1,F.C.C. 13529,26.25,,S\\n316,1,3,\"Nilsson, Miss Helmina Josefina\",female,26,0,0,347470,7.8542,,S\\n317,1,2,\"Kantor, Mrs. Sinai (Miriam Sternin)\",female,24,1,0,244367,26,,S\\n318,0,2,\"Moraweck, Dr. Ernest\",male,54,0,0,29011,14,,S\\n319,1,1,\"Wick, Miss Mary Natalie\",female,31,0,2,36928,164.8667,C7,S\\n320,1,1,\"Spedden, Mrs. Frederic Oakley (Margaretta Corning Stone)\",female,40,1,1,16966,134.5,E34,C\\n321,0,3,\"Dennis, Mr. Samuel\",male,22,0,0,A/5 21172,7.25,,S\\n322,0,3,\"Danoff, Mr. Yoto\",male,27,0,0,349219,7.8958,,S\\n323,1,2,\"Slayter, Miss Hilda Mary\",female,30,0,0,234818,12.35,,Q\\n324,1,2,\"Caldwell, Mrs. Albert Francis (Sylvia Mae Harbaugh)\",female,22,1,1,248738,29,,S\\n325,0,3,\"Sage, Mr. George John Jr\",male,,8,2,CA. 2343,69.55,,S\\n326,1,1,\"Young, Miss Marie Grice\",female,36,0,0,PC 17760,135.6333,C32,C\\n327,0,3,\"Nysveen, Mr. Johan Hansen\",male,61,0,0,345364,6.2375,,S\\n328,1,2,\"Ball, Mrs. (Ada E Hall)\",female,36,0,0,28551,13,D,S\\n329,1,3,\"Goldsmith, Mrs. Frank John (Emily Alice Brown)\",female,31,1,1,363291,20.525,,S\\n330,1,1,\"Hippach, Miss Jean Gertrude\",female,16,0,1,111361,57.9792,B18,C\\n331,1,3,\"McCoy, Miss Agnes\",female,,2,0,367226,23.25,,Q\\n332,0,1,\"Partner, Mr. Austen\",male,45.5,0,0,113043,28.5,C124,S\\n333,0,1,\"Graham, Mr. George Edward\",male,38,0,1,PC 17582,153.4625,C91,S\\n334,0,3,\"Vander Planke, Mr. Leo Edmondus\",male,16,2,0,345764,18,,S\\n335,1,1,\"Frauenthal, Mrs. Henry William (Clara Heinsheimer)\",female,,1,0,PC 17611,133.65,,S\\n336,0,3,\"Denkoff, Mr. Mitto\",male,,0,0,349225,7.8958,,S\\n337,0,1,\"Pears, Mr. Thomas Clinton\",male,29,1,0,113776,66.6,C2,S\\n338,1,1,\"Burns, Miss Elizabeth Margaret\",female,41,0,0,16966,134.5,E40,C\\n339,1,3,\"Dahl, Mr. Karl Edwart\",male,45,0,0,7598,8.05,,S\\n340,0,1,\"Blackwell, Mr. Stephen Weart\",male,45,0,0,113784,35.5,T,S\\n341,1,2,\"Navratil, Master Edmond Roger\",male,2,1,1,230080,26,F2,S\\n342,1,1,\"Fortune, Miss Alice Elizabeth\",female,24,3,2,19950,263,C23 C25 C27,S\\n343,0,2,\"Collander, Mr. Erik Gustaf\",male,28,0,0,248740,13,,S\\n344,0,2,\"Sedgwick, Mr. Charles Frederick Waddington\",male,25,0,0,244361,13,,S\\n345,0,2,\"Fox, Mr. Stanley Hubert\",male,36,0,0,229236,13,,S\\n346,1,2,\"Brown, Miss Amelia \"\"Mildred\"\"\",female,24,0,0,248733,13,F33,S\\n347,1,2,\"Smith, Miss Marion Elsie\",female,40,0,0,31418,13,,S\\n348,1,3,\"Davison, Mrs. Thomas Henry (Mary E Finck)\",female,,1,0,386525,16.1,,S\\n349,1,3,\"Coutts, Master William Loch \"\"William\"\"\",male,3,1,1,C.A. 37671,15.9,,S\\n350,0,3,\"Dimic, Mr. Jovan\",male,42,0,0,315088,8.6625,,S\\n351,0,3,\"Odahl, Mr. Nils Martin\",male,23,0,0,7267,9.225,,S\\n352,0,1,\"Williams-Lambert, Mr. Fletcher Fellows\",male,,0,0,113510,35,C128,S\\n353,0,3,\"Elias, Mr. Tannous\",male,15,1,1,2695,7.2292,,C\\n354,0,3,\"Arnold-Franchi, Mr. Josef\",male,25,1,0,349237,17.8,,S\\n355,0,3,\"Yousif, Mr. Wazli\",male,,0,0,2647,7.225,,C\\n356,0,3,\"Vanden Steen, Mr. Leo Peter\",male,28,0,0,345783,9.5,,S\\n357,1,1,\"Bowerman, Miss Elsie Edith\",female,22,0,1,113505,55,E33,S\\n358,0,2,\"Funk, Miss Annie Clemmer\",female,38,0,0,237671,13,,S\\n359,1,3,\"McGovern, Miss Mary\",female,,0,0,330931,7.8792,,Q\\n360,1,3,\"Mockler, Miss Helen Mary \"\"Ellie\"\"\",female,,0,0,330980,7.8792,,Q\\n361,0,3,\"Skoog, Mr. Wilhelm\",male,40,1,4,347088,27.9,,S\\n362,0,2,\"del Carlo, Mr. Sebastiano\",male,29,1,0,SC/PARIS 2167,27.7208,,C\\n363,0,3,\"Barbara, Mrs. (Catherine David)\",female,45,0,1,2691,14.4542,,C\\n364,0,3,\"Asim, Mr. Adola\",male,35,0,0,SOTON/O.Q. 3101310,7.05,,S\\n365,0,3,\"O\\'Brien, Mr. Thomas\",male,,1,0,370365,15.5,,Q\\n366,0,3,\"Adahl, Mr. Mauritz Nils Martin\",male,30,0,0,C 7076,7.25,,S\\n367,1,1,\"Warren, Mrs. Frank Manley (Anna Sophia Atkinson)\",female,60,1,0,110813,75.25,D37,C\\n368,1,3,\"Moussa, Mrs. (Mantoura Boulos)\",female,,0,0,2626,7.2292,,C\\n369,1,3,\"Jermyn, Miss Annie\",female,,0,0,14313,7.75,,Q\\n370,1,1,\"Aubart, Mme. Leontine Pauline\",female,24,0,0,PC 17477,69.3,B35,C\\n371,1,1,\"Harder, Mr. George Achilles\",male,25,1,0,11765,55.4417,E50,C\\n372,0,3,\"Wiklund, Mr. Jakob Alfred\",male,18,1,0,3101267,6.4958,,S\\n373,0,3,\"Beavan, Mr. William Thomas\",male,19,0,0,323951,8.05,,S\\n374,0,1,\"Ringhini, Mr. Sante\",male,22,0,0,PC 17760,135.6333,,C\\n375,0,3,\"Palsson, Miss Stina Viola\",female,3,3,1,349909,21.075,,S\\n376,1,1,\"Meyer, Mrs. Edgar Joseph (Leila Saks)\",female,,1,0,PC 17604,82.1708,,C\\n377,1,3,\"Landergren, Miss Aurora Adelia\",female,22,0,0,C 7077,7.25,,S\\n378,0,1,\"Widener, Mr. Harry Elkins\",male,27,0,2,113503,211.5,C82,C\\n379,0,3,\"Betros, Mr. Tannous\",male,20,0,0,2648,4.0125,,C\\n380,0,3,\"Gustafsson, Mr. Karl Gideon\",male,19,0,0,347069,7.775,,S\\n381,1,1,\"Bidois, Miss Rosalie\",female,42,0,0,PC 17757,227.525,,C\\n382,1,3,\"Nakid, Miss Maria (\"\"Mary\"\")\",female,1,0,2,2653,15.7417,,C\\n383,0,3,\"Tikkanen, Mr. Juho\",male,32,0,0,STON/O 2. 3101293,7.925,,S\\n384,1,1,\"Holverson, Mrs. Alexander Oskar (Mary Aline Towner)\",female,35,1,0,113789,52,,S\\n385,0,3,\"Plotcharsky, Mr. Vasil\",male,,0,0,349227,7.8958,,S\\n386,0,2,\"Davies, Mr. Charles Henry\",male,18,0,0,S.O.C. 14879,73.5,,S\\n387,0,3,\"Goodwin, Master Sidney Leonard\",male,1,5,2,CA 2144,46.9,,S\\n388,1,2,\"Buss, Miss Kate\",female,36,0,0,27849,13,,S\\n389,0,3,\"Sadlier, Mr. Matthew\",male,,0,0,367655,7.7292,,Q\\n390,1,2,\"Lehmann, Miss Bertha\",female,17,0,0,SC 1748,12,,C\\n391,1,1,\"Carter, Mr. William Ernest\",male,36,1,2,113760,120,B96 B98,S\\n392,1,3,\"Jansson, Mr. Carl Olof\",male,21,0,0,350034,7.7958,,S\\n393,0,3,\"Gustafsson, Mr. Johan Birger\",male,28,2,0,3101277,7.925,,S\\n394,1,1,\"Newell, Miss Marjorie\",female,23,1,0,35273,113.275,D36,C\\n395,1,3,\"Sandstrom, Mrs. Hjalmar (Agnes Charlotta Bengtsson)\",female,24,0,2,PP 9549,16.7,G6,S\\n396,0,3,\"Johansson, Mr. Erik\",male,22,0,0,350052,7.7958,,S\\n397,0,3,\"Olsson, Miss Elina\",female,31,0,0,350407,7.8542,,S\\n398,0,2,\"McKane, Mr. Peter David\",male,46,0,0,28403,26,,S\\n399,0,2,\"Pain, Dr. Alfred\",male,23,0,0,244278,10.5,,S\\n400,1,2,\"Trout, Mrs. William H (Jessie L)\",female,28,0,0,240929,12.65,,S\\n401,1,3,\"Niskanen, Mr. Juha\",male,39,0,0,STON/O 2. 3101289,7.925,,S\\n402,0,3,\"Adams, Mr. John\",male,26,0,0,341826,8.05,,S\\n403,0,3,\"Jussila, Miss Mari Aina\",female,21,1,0,4137,9.825,,S\\n404,0,3,\"Hakkarainen, Mr. Pekka Pietari\",male,28,1,0,STON/O2. 3101279,15.85,,S\\n405,0,3,\"Oreskovic, Miss Marija\",female,20,0,0,315096,8.6625,,S\\n406,0,2,\"Gale, Mr. Shadrach\",male,34,1,0,28664,21,,S\\n407,0,3,\"Widegren, Mr. Carl/Charles Peter\",male,51,0,0,347064,7.75,,S\\n408,1,2,\"Richards, Master William Rowe\",male,3,1,1,29106,18.75,,S\\n409,0,3,\"Birkeland, Mr. Hans Martin Monsen\",male,21,0,0,312992,7.775,,S\\n410,0,3,\"Lefebre, Miss Ida\",female,,3,1,4133,25.4667,,S\\n411,0,3,\"Sdycoff, Mr. Todor\",male,,0,0,349222,7.8958,,S\\n412,0,3,\"Hart, Mr. Henry\",male,,0,0,394140,6.8583,,Q\\n413,1,1,\"Minahan, Miss Daisy E\",female,33,1,0,19928,90,C78,Q\\n414,0,2,\"Cunningham, Mr. Alfred Fleming\",male,,0,0,239853,0,,S\\n415,1,3,\"Sundman, Mr. Johan Julian\",male,44,0,0,STON/O 2. 3101269,7.925,,S\\n416,0,3,\"Meek, Mrs. Thomas (Annie Louise Rowley)\",female,,0,0,343095,8.05,,S\\n417,1,2,\"Drew, Mrs. James Vivian (Lulu Thorne Christian)\",female,34,1,1,28220,32.5,,S\\n418,1,2,\"Silven, Miss Lyyli Karoliina\",female,18,0,2,250652,13,,S\\n419,0,2,\"Matthews, Mr. William John\",male,30,0,0,28228,13,,S\\n420,0,3,\"Van Impe, Miss Catharina\",female,10,0,2,345773,24.15,,S\\n421,0,3,\"Gheorgheff, Mr. Stanio\",male,,0,0,349254,7.8958,,C\\n422,0,3,\"Charters, Mr. David\",male,21,0,0,A/5. 13032,7.7333,,Q\\n423,0,3,\"Zimmerman, Mr. Leo\",male,29,0,0,315082,7.875,,S\\n424,0,3,\"Danbom, Mrs. Ernst Gilbert (Anna Sigrid Maria Brogren)\",female,28,1,1,347080,14.4,,S\\n425,0,3,\"Rosblom, Mr. Viktor Richard\",male,18,1,1,370129,20.2125,,S\\n426,0,3,\"Wiseman, Mr. Phillippe\",male,,0,0,A/4. 34244,7.25,,S\\n427,1,2,\"Clarke, Mrs. Charles V (Ada Maria Winfield)\",female,28,1,0,2003,26,,S\\n428,1,2,\"Phillips, Miss Kate Florence (\"\"Mrs Kate Louise Phillips Marshall\"\")\",female,19,0,0,250655,26,,S\\n429,0,3,\"Flynn, Mr. James\",male,,0,0,364851,7.75,,Q\\n430,1,3,\"Pickard, Mr. Berk (Berk Trembisky)\",male,32,0,0,SOTON/O.Q. 392078,8.05,E10,S\\n431,1,1,\"Bjornstrom-Steffansson, Mr. Mauritz Hakan\",male,28,0,0,110564,26.55,C52,S\\n432,1,3,\"Thorneycroft, Mrs. Percival (Florence Kate White)\",female,,1,0,376564,16.1,,S\\n433,1,2,\"Louch, Mrs. Charles Alexander (Alice Adelaide Slow)\",female,42,1,0,SC/AH 3085,26,,S\\n434,0,3,\"Kallio, Mr. Nikolai Erland\",male,17,0,0,STON/O 2. 3101274,7.125,,S\\n435,0,1,\"Silvey, Mr. William Baird\",male,50,1,0,13507,55.9,E44,S\\n436,1,1,\"Carter, Miss Lucile Polk\",female,14,1,2,113760,120,B96 B98,S\\n437,0,3,\"Ford, Miss Doolina Margaret \"\"Daisy\"\"\",female,21,2,2,W./C. 6608,34.375,,S\\n438,1,2,\"Richards, Mrs. Sidney (Emily Hocking)\",female,24,2,3,29106,18.75,,S\\n439,0,1,\"Fortune, Mr. Mark\",male,64,1,4,19950,263,C23 C25 C27,S\\n440,0,2,\"Kvillner, Mr. Johan Henrik Johannesson\",male,31,0,0,C.A. 18723,10.5,,S\\n441,1,2,\"Hart, Mrs. Benjamin (Esther Ada Bloomfield)\",female,45,1,1,F.C.C. 13529,26.25,,S\\n442,0,3,\"Hampe, Mr. Leon\",male,20,0,0,345769,9.5,,S\\n443,0,3,\"Petterson, Mr. Johan Emil\",male,25,1,0,347076,7.775,,S\\n444,1,2,\"Reynaldo, Ms. Encarnacion\",female,28,0,0,230434,13,,S\\n445,1,3,\"Johannesen-Bratthammer, Mr. Bernt\",male,,0,0,65306,8.1125,,S\\n446,1,1,\"Dodge, Master Washington\",male,4,0,2,33638,81.8583,A34,S\\n447,1,2,\"Mellinger, Miss Madeleine Violet\",female,13,0,1,250644,19.5,,S\\n448,1,1,\"Seward, Mr. Frederic Kimber\",male,34,0,0,113794,26.55,,S\\n449,1,3,\"Baclini, Miss Marie Catherine\",female,5,2,1,2666,19.2583,,C\\n450,1,1,\"Peuchen, Major. Arthur Godfrey\",male,52,0,0,113786,30.5,C104,S\\n451,0,2,\"West, Mr. Edwy Arthur\",male,36,1,2,C.A. 34651,27.75,,S\\n452,0,3,\"Hagland, Mr. Ingvald Olai Olsen\",male,,1,0,65303,19.9667,,S\\n453,0,1,\"Foreman, Mr. Benjamin Laventall\",male,30,0,0,113051,27.75,C111,C\\n454,1,1,\"Goldenberg, Mr. Samuel L\",male,49,1,0,17453,89.1042,C92,C\\n455,0,3,\"Peduzzi, Mr. Joseph\",male,,0,0,A/5 2817,8.05,,S\\n456,1,3,\"Jalsevac, Mr. Ivan\",male,29,0,0,349240,7.8958,,C\\n457,0,1,\"Millet, Mr. Francis Davis\",male,65,0,0,13509,26.55,E38,S\\n458,1,1,\"Kenyon, Mrs. Frederick R (Marion)\",female,,1,0,17464,51.8625,D21,S\\n459,1,2,\"Toomey, Miss Ellen\",female,50,0,0,F.C.C. 13531,10.5,,S\\n460,0,3,\"O\\'Connor, Mr. Maurice\",male,,0,0,371060,7.75,,Q\\n461,1,1,\"Anderson, Mr. Harry\",male,48,0,0,19952,26.55,E12,S\\n462,0,3,\"Morley, Mr. William\",male,34,0,0,364506,8.05,,S\\n463,0,1,\"Gee, Mr. Arthur H\",male,47,0,0,111320,38.5,E63,S\\n464,0,2,\"Milling, Mr. Jacob Christian\",male,48,0,0,234360,13,,S\\n465,0,3,\"Maisner, Mr. Simon\",male,,0,0,A/S 2816,8.05,,S\\n466,0,3,\"Goncalves, Mr. Manuel Estanslas\",male,38,0,0,SOTON/O.Q. 3101306,7.05,,S\\n467,0,2,\"Campbell, Mr. William\",male,,0,0,239853,0,,S\\n468,0,1,\"Smart, Mr. John Montgomery\",male,56,0,0,113792,26.55,,S\\n469,0,3,\"Scanlan, Mr. James\",male,,0,0,36209,7.725,,Q\\n470,1,3,\"Baclini, Miss Helene Barbara\",female,0.75,2,1,2666,19.2583,,C\\n471,0,3,\"Keefe, Mr. Arthur\",male,,0,0,323592,7.25,,S\\n472,0,3,\"Cacic, Mr. Luka\",male,38,0,0,315089,8.6625,,S\\n473,1,2,\"West, Mrs. Edwy Arthur (Ada Mary Worth)\",female,33,1,2,C.A. 34651,27.75,,S\\n474,1,2,\"Jerwan, Mrs. Amin S (Marie Marthe Thuillard)\",female,23,0,0,SC/AH Basle 541,13.7917,D,C\\n475,0,3,\"Strandberg, Miss Ida Sofia\",female,22,0,0,7553,9.8375,,S\\n476,0,1,\"Clifford, Mr. George Quincy\",male,,0,0,110465,52,A14,S\\n477,0,2,\"Renouf, Mr. Peter Henry\",male,34,1,0,31027,21,,S\\n478,0,3,\"Braund, Mr. Lewis Richard\",male,29,1,0,3460,7.0458,,S\\n479,0,3,\"Karlsson, Mr. Nils August\",male,22,0,0,350060,7.5208,,S\\n480,1,3,\"Hirvonen, Miss Hildur E\",female,2,0,1,3101298,12.2875,,S\\n481,0,3,\"Goodwin, Master Harold Victor\",male,9,5,2,CA 2144,46.9,,S\\n482,0,2,\"Frost, Mr. Anthony Wood \"\"Archie\"\"\",male,,0,0,239854,0,,S\\n483,0,3,\"Rouse, Mr. Richard Henry\",male,50,0,0,A/5 3594,8.05,,S\\n484,1,3,\"Turkula, Mrs. (Hedwig)\",female,63,0,0,4134,9.5875,,S\\n485,1,1,\"Bishop, Mr. Dickinson H\",male,25,1,0,11967,91.0792,B49,C\\n486,0,3,\"Lefebre, Miss Jeannie\",female,,3,1,4133,25.4667,,S\\n487,1,1,\"Hoyt, Mrs. Frederick Maxfield (Jane Anne Forby)\",female,35,1,0,19943,90,C93,S\\n488,0,1,\"Kent, Mr. Edward Austin\",male,58,0,0,11771,29.7,B37,C\\n489,0,3,\"Somerton, Mr. Francis William\",male,30,0,0,A.5. 18509,8.05,,S\\n490,1,3,\"Coutts, Master Eden Leslie \"\"Neville\"\"\",male,9,1,1,C.A. 37671,15.9,,S\\n491,0,3,\"Hagland, Mr. Konrad Mathias Reiersen\",male,,1,0,65304,19.9667,,S\\n492,0,3,\"Windelov, Mr. Einar\",male,21,0,0,SOTON/OQ 3101317,7.25,,S\\n493,0,1,\"Molson, Mr. Harry Markland\",male,55,0,0,113787,30.5,C30,S\\n494,0,1,\"Artagaveytia, Mr. Ramon\",male,71,0,0,PC 17609,49.5042,,C\\n495,0,3,\"Stanley, Mr. Edward Roland\",male,21,0,0,A/4 45380,8.05,,S\\n496,0,3,\"Yousseff, Mr. Gerious\",male,,0,0,2627,14.4583,,C\\n497,1,1,\"Eustis, Miss Elizabeth Mussey\",female,54,1,0,36947,78.2667,D20,C\\n498,0,3,\"Shellard, Mr. Frederick William\",male,,0,0,C.A. 6212,15.1,,S\\n499,0,1,\"Allison, Mrs. Hudson J C (Bessie Waldo Daniels)\",female,25,1,2,113781,151.55,C22 C26,S\\n500,0,3,\"Svensson, Mr. Olof\",male,24,0,0,350035,7.7958,,S\\n501,0,3,\"Calic, Mr. Petar\",male,17,0,0,315086,8.6625,,S\\n502,0,3,\"Canavan, Miss Mary\",female,21,0,0,364846,7.75,,Q\\n503,0,3,\"O\\'Sullivan, Miss Bridget Mary\",female,,0,0,330909,7.6292,,Q\\n504,0,3,\"Laitinen, Miss Kristina Sofia\",female,37,0,0,4135,9.5875,,S\\n505,1,1,\"Maioni, Miss Roberta\",female,16,0,0,110152,86.5,B79,S\\n506,0,1,\"Penasco y Castellana, Mr. Victor de Satode\",male,18,1,0,PC 17758,108.9,C65,C\\n507,1,2,\"Quick, Mrs. Frederick Charles (Jane Richards)\",female,33,0,2,26360,26,,S\\n508,1,1,\"Bradley, Mr. George (\"\"George Arthur Brayton\"\")\",male,,0,0,111427,26.55,,S\\n509,0,3,\"Olsen, Mr. Henry Margido\",male,28,0,0,C 4001,22.525,,S\\n510,1,3,\"Lang, Mr. Fang\",male,26,0,0,1601,56.4958,,S\\n511,1,3,\"Daly, Mr. Eugene Patrick\",male,29,0,0,382651,7.75,,Q\\n512,0,3,\"Webber, Mr. James\",male,,0,0,SOTON/OQ 3101316,8.05,,S\\n513,1,1,\"McGough, Mr. James Robert\",male,36,0,0,PC 17473,26.2875,E25,S\\n514,1,1,\"Rothschild, Mrs. Martin (Elizabeth L. Barrett)\",female,54,1,0,PC 17603,59.4,,C\\n515,0,3,\"Coleff, Mr. Satio\",male,24,0,0,349209,7.4958,,S\\n516,0,1,\"Walker, Mr. William Anderson\",male,47,0,0,36967,34.0208,D46,S\\n517,1,2,\"Lemore, Mrs. (Amelia Milley)\",female,34,0,0,C.A. 34260,10.5,F33,S\\n518,0,3,\"Ryan, Mr. Patrick\",male,,0,0,371110,24.15,,Q\\n519,1,2,\"Angle, Mrs. William A (Florence \"\"Mary\"\" Agnes Hughes)\",female,36,1,0,226875,26,,S\\n520,0,3,\"Pavlovic, Mr. Stefo\",male,32,0,0,349242,7.8958,,S\\n521,1,1,\"Perreault, Miss Anne\",female,30,0,0,12749,93.5,B73,S\\n522,0,3,\"Vovk, Mr. Janko\",male,22,0,0,349252,7.8958,,S\\n523,0,3,\"Lahoud, Mr. Sarkis\",male,,0,0,2624,7.225,,C\\n524,1,1,\"Hippach, Mrs. Louis Albert (Ida Sophia Fischer)\",female,44,0,1,111361,57.9792,B18,C\\n525,0,3,\"Kassem, Mr. Fared\",male,,0,0,2700,7.2292,,C\\n526,0,3,\"Farrell, Mr. James\",male,40.5,0,0,367232,7.75,,Q\\n527,1,2,\"Ridsdale, Miss Lucy\",female,50,0,0,W./C. 14258,10.5,,S\\n528,0,1,\"Farthing, Mr. John\",male,,0,0,PC 17483,221.7792,C95,S\\n529,0,3,\"Salonen, Mr. Johan Werner\",male,39,0,0,3101296,7.925,,S\\n530,0,2,\"Hocking, Mr. Richard George\",male,23,2,1,29104,11.5,,S\\n531,1,2,\"Quick, Miss Phyllis May\",female,2,1,1,26360,26,,S\\n532,0,3,\"Toufik, Mr. Nakli\",male,,0,0,2641,7.2292,,C\\n533,0,3,\"Elias, Mr. Joseph Jr\",male,17,1,1,2690,7.2292,,C\\n534,1,3,\"Peter, Mrs. Catherine (Catherine Rizk)\",female,,0,2,2668,22.3583,,C\\n535,0,3,\"Cacic, Miss Marija\",female,30,0,0,315084,8.6625,,S\\n536,1,2,\"Hart, Miss Eva Miriam\",female,7,0,2,F.C.C. 13529,26.25,,S\\n537,0,1,\"Butt, Major. Archibald Willingham\",male,45,0,0,113050,26.55,B38,S\\n538,1,1,\"LeRoy, Miss Bertha\",female,30,0,0,PC 17761,106.425,,C\\n539,0,3,\"Risien, Mr. Samuel Beard\",male,,0,0,364498,14.5,,S\\n540,1,1,\"Frolicher, Miss Hedwig Margaritha\",female,22,0,2,13568,49.5,B39,C\\n541,1,1,\"Crosby, Miss Harriet R\",female,36,0,2,WE/P 5735,71,B22,S\\n542,0,3,\"Andersson, Miss Ingeborg Constanzia\",female,9,4,2,347082,31.275,,S\\n543,0,3,\"Andersson, Miss Sigrid Elisabeth\",female,11,4,2,347082,31.275,,S\\n544,1,2,\"Beane, Mr. Edward\",male,32,1,0,2908,26,,S\\n545,0,1,\"Douglas, Mr. Walter Donald\",male,50,1,0,PC 17761,106.425,C86,C\\n546,0,1,\"Nicholson, Mr. Arthur Ernest\",male,64,0,0,693,26,,S\\n547,1,2,\"Beane, Mrs. Edward (Ethel Clarke)\",female,19,1,0,2908,26,,S\\n548,1,2,\"Padro y Manent, Mr. Julian\",male,,0,0,SC/PARIS 2146,13.8625,,C\\n549,0,3,\"Goldsmith, Mr. Frank John\",male,33,1,1,363291,20.525,,S\\n550,1,2,\"Davies, Master John Morgan Jr\",male,8,1,1,C.A. 33112,36.75,,S\\n551,1,1,\"Thayer, Mr. John Borland Jr\",male,17,0,2,17421,110.8833,C70,C\\n552,0,2,\"Sharp, Mr. Percival James R\",male,27,0,0,244358,26,,S\\n553,0,3,\"O\\'Brien, Mr. Timothy\",male,,0,0,330979,7.8292,,Q\\n554,1,3,\"Leeni, Mr. Fahim (\"\"Philip Zenni\"\")\",male,22,0,0,2620,7.225,,C\\n555,1,3,\"Ohman, Miss Velin\",female,22,0,0,347085,7.775,,S\\n556,0,1,\"Wright, Mr. George\",male,62,0,0,113807,26.55,,S\\n557,1,1,\"Duff Gordon, Lady. (Lucille Christiana Sutherland) (\"\"Mrs Morgan\"\")\",female,48,1,0,11755,39.6,A16,C\\n558,0,1,\"Robbins, Mr. Victor\",male,,0,0,PC 17757,227.525,,C\\n559,1,1,\"Taussig, Mrs. Emil (Tillie Mandelbaum)\",female,39,1,1,110413,79.65,E67,S\\n560,1,3,\"de Messemaeker, Mrs. Guillaume Joseph (Emma)\",female,36,1,0,345572,17.4,,S\\n561,0,3,\"Morrow, Mr. Thomas Rowan\",male,,0,0,372622,7.75,,Q\\n562,0,3,\"Sivic, Mr. Husein\",male,40,0,0,349251,7.8958,,S\\n563,0,2,\"Norman, Mr. Robert Douglas\",male,28,0,0,218629,13.5,,S\\n564,0,3,\"Simmons, Mr. John\",male,,0,0,SOTON/OQ 392082,8.05,,S\\n565,0,3,\"Meanwell, Miss (Marion Ogden)\",female,,0,0,SOTON/O.Q. 392087,8.05,,S\\n566,0,3,\"Davies, Mr. Alfred J\",male,24,2,0,A/4 48871,24.15,,S\\n567,0,3,\"Stoytcheff, Mr. Ilia\",male,19,0,0,349205,7.8958,,S\\n568,0,3,\"Palsson, Mrs. Nils (Alma Cornelia Berglund)\",female,29,0,4,349909,21.075,,S\\n569,0,3,\"Doharr, Mr. Tannous\",male,,0,0,2686,7.2292,,C\\n570,1,3,\"Jonsson, Mr. Carl\",male,32,0,0,350417,7.8542,,S\\n571,1,2,\"Harris, Mr. George\",male,62,0,0,S.W./PP 752,10.5,,S\\n572,1,1,\"Appleton, Mrs. Edward Dale (Charlotte Lamson)\",female,53,2,0,11769,51.4792,C101,S\\n573,1,1,\"Flynn, Mr. John Irwin (\"\"Irving\"\")\",male,36,0,0,PC 17474,26.3875,E25,S\\n574,1,3,\"Kelly, Miss Mary\",female,,0,0,14312,7.75,,Q\\n575,0,3,\"Rush, Mr. Alfred George John\",male,16,0,0,A/4. 20589,8.05,,S\\n576,0,3,\"Patchett, Mr. George\",male,19,0,0,358585,14.5,,S\\n577,1,2,\"Garside, Miss Ethel\",female,34,0,0,243880,13,,S\\n578,1,1,\"Silvey, Mrs. William Baird (Alice Munger)\",female,39,1,0,13507,55.9,E44,S\\n579,0,3,\"Caram, Mrs. Joseph (Maria Elias)\",female,,1,0,2689,14.4583,,C\\n580,1,3,\"Jussila, Mr. Eiriik\",male,32,0,0,STON/O 2. 3101286,7.925,,S\\n581,1,2,\"Christy, Miss Julie Rachel\",female,25,1,1,237789,30,,S\\n582,1,1,\"Thayer, Mrs. John Borland (Marian Longstreth Morris)\",female,39,1,1,17421,110.8833,C68,C\\n583,0,2,\"Downton, Mr. William James\",male,54,0,0,28403,26,,S\\n584,0,1,\"Ross, Mr. John Hugo\",male,36,0,0,13049,40.125,A10,C\\n585,0,3,\"Paulner, Mr. Uscher\",male,,0,0,3411,8.7125,,C\\n586,1,1,\"Taussig, Miss Ruth\",female,18,0,2,110413,79.65,E68,S\\n587,0,2,\"Jarvis, Mr. John Denzil\",male,47,0,0,237565,15,,S\\n588,1,1,\"Frolicher-Stehli, Mr. Maxmillian\",male,60,1,1,13567,79.2,B41,C\\n589,0,3,\"Gilinski, Mr. Eliezer\",male,22,0,0,14973,8.05,,S\\n590,0,3,\"Murdlin, Mr. Joseph\",male,,0,0,A./5. 3235,8.05,,S\\n591,0,3,\"Rintamaki, Mr. Matti\",male,35,0,0,STON/O 2. 3101273,7.125,,S\\n592,1,1,\"Stephenson, Mrs. Walter Bertram (Martha Eustis)\",female,52,1,0,36947,78.2667,D20,C\\n593,0,3,\"Elsbury, Mr. William James\",male,47,0,0,A/5 3902,7.25,,S\\n594,0,3,\"Bourke, Miss Mary\",female,,0,2,364848,7.75,,Q\\n595,0,2,\"Chapman, Mr. John Henry\",male,37,1,0,SC/AH 29037,26,,S\\n596,0,3,\"Van Impe, Mr. Jean Baptiste\",male,36,1,1,345773,24.15,,S\\n597,1,2,\"Leitch, Miss Jessie Wills\",female,,0,0,248727,33,,S\\n598,0,3,\"Johnson, Mr. Alfred\",male,49,0,0,LINE,0,,S\\n599,0,3,\"Boulos, Mr. Hanna\",male,,0,0,2664,7.225,,C\\n600,1,1,\"Duff Gordon, Sir. Cosmo Edmund (\"\"Mr Morgan\"\")\",male,49,1,0,PC 17485,56.9292,A20,C\\n601,1,2,\"Jacobsohn, Mrs. Sidney Samuel (Amy Frances Christy)\",female,24,2,1,243847,27,,S\\n602,0,3,\"Slabenoff, Mr. Petco\",male,,0,0,349214,7.8958,,S\\n603,0,1,\"Harrington, Mr. Charles H\",male,,0,0,113796,42.4,,S\\n604,0,3,\"Torber, Mr. Ernst William\",male,44,0,0,364511,8.05,,S\\n605,1,1,\"Homer, Mr. Harry (\"\"Mr E Haven\"\")\",male,35,0,0,111426,26.55,,C\\n606,0,3,\"Lindell, Mr. Edvard Bengtsson\",male,36,1,0,349910,15.55,,S\\n607,0,3,\"Karaic, Mr. Milan\",male,30,0,0,349246,7.8958,,S\\n608,1,1,\"Daniel, Mr. Robert Williams\",male,27,0,0,113804,30.5,,S\\n609,1,2,\"Laroche, Mrs. Joseph (Juliette Marie Louise Lafargue)\",female,22,1,2,SC/Paris 2123,41.5792,,C\\n610,1,1,\"Shutes, Miss Elizabeth W\",female,40,0,0,PC 17582,153.4625,C125,S\\n611,0,3,\"Andersson, Mrs. Anders Johan (Alfrida Konstantia Brogren)\",female,39,1,5,347082,31.275,,S\\n612,0,3,\"Jardin, Mr. Jose Neto\",male,,0,0,SOTON/O.Q. 3101305,7.05,,S\\n613,1,3,\"Murphy, Miss Margaret Jane\",female,,1,0,367230,15.5,,Q\\n614,0,3,\"Horgan, Mr. John\",male,,0,0,370377,7.75,,Q\\n615,0,3,\"Brocklebank, Mr. William Alfred\",male,35,0,0,364512,8.05,,S\\n616,1,2,\"Herman, Miss Alice\",female,24,1,2,220845,65,,S\\n617,0,3,\"Danbom, Mr. Ernst Gilbert\",male,34,1,1,347080,14.4,,S\\n618,0,3,\"Lobb, Mrs. William Arthur (Cordelia K Stanlick)\",female,26,1,0,A/5. 3336,16.1,,S\\n619,1,2,\"Becker, Miss Marion Louise\",female,4,2,1,230136,39,F4,S\\n620,0,2,\"Gavey, Mr. Lawrence\",male,26,0,0,31028,10.5,,S\\n621,0,3,\"Yasbeck, Mr. Antoni\",male,27,1,0,2659,14.4542,,C\\n622,1,1,\"Kimball, Mr. Edwin Nelson Jr\",male,42,1,0,11753,52.5542,D19,S\\n623,1,3,\"Nakid, Mr. Sahid\",male,20,1,1,2653,15.7417,,C\\n624,0,3,\"Hansen, Mr. Henry Damsgaard\",male,21,0,0,350029,7.8542,,S\\n625,0,3,\"Bowen, Mr. David John \"\"Dai\"\"\",male,21,0,0,54636,16.1,,S\\n626,0,1,\"Sutton, Mr. Frederick\",male,61,0,0,36963,32.3208,D50,S\\n627,0,2,\"Kirkland, Rev. Charles Leonard\",male,57,0,0,219533,12.35,,Q\\n628,1,1,\"Longley, Miss Gretchen Fiske\",female,21,0,0,13502,77.9583,D9,S\\n629,0,3,\"Bostandyeff, Mr. Guentcho\",male,26,0,0,349224,7.8958,,S\\n630,0,3,\"O\\'Connell, Mr. Patrick D\",male,,0,0,334912,7.7333,,Q\\n631,1,1,\"Barkworth, Mr. Algernon Henry Wilson\",male,80,0,0,27042,30,A23,S\\n632,0,3,\"Lundahl, Mr. Johan Svensson\",male,51,0,0,347743,7.0542,,S\\n633,1,1,\"Stahelin-Maeglin, Dr. Max\",male,32,0,0,13214,30.5,B50,C\\n634,0,1,\"Parr, Mr. William Henry Marsh\",male,,0,0,112052,0,,S\\n635,0,3,\"Skoog, Miss Mabel\",female,9,3,2,347088,27.9,,S\\n636,1,2,\"Davis, Miss Mary\",female,28,0,0,237668,13,,S\\n637,0,3,\"Leinonen, Mr. Antti Gustaf\",male,32,0,0,STON/O 2. 3101292,7.925,,S\\n638,0,2,\"Collyer, Mr. Harvey\",male,31,1,1,C.A. 31921,26.25,,S\\n639,0,3,\"Panula, Mrs. Juha (Maria Emilia Ojala)\",female,41,0,5,3101295,39.6875,,S\\n640,0,3,\"Thorneycroft, Mr. Percival\",male,,1,0,376564,16.1,,S\\n641,0,3,\"Jensen, Mr. Hans Peder\",male,20,0,0,350050,7.8542,,S\\n642,1,1,\"Sagesser, Mlle. Emma\",female,24,0,0,PC 17477,69.3,B35,C\\n643,0,3,\"Skoog, Miss Margit Elizabeth\",female,2,3,2,347088,27.9,,S\\n644,1,3,\"Foo, Mr. Choong\",male,,0,0,1601,56.4958,,S\\n645,1,3,\"Baclini, Miss Eugenie\",female,0.75,2,1,2666,19.2583,,C\\n646,1,1,\"Harper, Mr. Henry Sleeper\",male,48,1,0,PC 17572,76.7292,D33,C\\n647,0,3,\"Cor, Mr. Liudevit\",male,19,0,0,349231,7.8958,,S\\n648,1,1,\"Simonius-Blumer, Col. Oberst Alfons\",male,56,0,0,13213,35.5,A26,C\\n649,0,3,\"Willey, Mr. Edward\",male,,0,0,S.O./P.P. 751,7.55,,S\\n650,1,3,\"Stanley, Miss Amy Zillah Elsie\",female,23,0,0,CA. 2314,7.55,,S\\n651,0,3,\"Mitkoff, Mr. Mito\",male,,0,0,349221,7.8958,,S\\n652,1,2,\"Doling, Miss Elsie\",female,18,0,1,231919,23,,S\\n653,0,3,\"Kalvik, Mr. Johannes Halvorsen\",male,21,0,0,8475,8.4333,,S\\n654,1,3,\"O\\'Leary, Miss Hanora \"\"Norah\"\"\",female,,0,0,330919,7.8292,,Q\\n655,0,3,\"Hegarty, Miss Hanora \"\"Nora\"\"\",female,18,0,0,365226,6.75,,Q\\n656,0,2,\"Hickman, Mr. Leonard Mark\",male,24,2,0,S.O.C. 14879,73.5,,S\\n657,0,3,\"Radeff, Mr. Alexander\",male,,0,0,349223,7.8958,,S\\n658,0,3,\"Bourke, Mrs. John (Catherine)\",female,32,1,1,364849,15.5,,Q\\n659,0,2,\"Eitemiller, Mr. George Floyd\",male,23,0,0,29751,13,,S\\n660,0,1,\"Newell, Mr. Arthur Webster\",male,58,0,2,35273,113.275,D48,C\\n661,1,1,\"Frauenthal, Dr. Henry William\",male,50,2,0,PC 17611,133.65,,S\\n662,0,3,\"Badt, Mr. Mohamed\",male,40,0,0,2623,7.225,,C\\n663,0,1,\"Colley, Mr. Edward Pomeroy\",male,47,0,0,5727,25.5875,E58,S\\n664,0,3,\"Coleff, Mr. Peju\",male,36,0,0,349210,7.4958,,S\\n665,1,3,\"Lindqvist, Mr. Eino William\",male,20,1,0,STON/O 2. 3101285,7.925,,S\\n666,0,2,\"Hickman, Mr. Lewis\",male,32,2,0,S.O.C. 14879,73.5,,S\\n667,0,2,\"Butler, Mr. Reginald Fenton\",male,25,0,0,234686,13,,S\\n668,0,3,\"Rommetvedt, Mr. Knud Paust\",male,,0,0,312993,7.775,,S\\n669,0,3,\"Cook, Mr. Jacob\",male,43,0,0,A/5 3536,8.05,,S\\n670,1,1,\"Taylor, Mrs. Elmer Zebley (Juliet Cummins Wright)\",female,,1,0,19996,52,C126,S\\n671,1,2,\"Brown, Mrs. Thomas William Solomon (Elizabeth Catherine Ford)\",female,40,1,1,29750,39,,S\\n672,0,1,\"Davidson, Mr. Thornton\",male,31,1,0,F.C. 12750,52,B71,S\\n673,0,2,\"Mitchell, Mr. Henry Michael\",male,70,0,0,C.A. 24580,10.5,,S\\n674,1,2,\"Wilhelms, Mr. Charles\",male,31,0,0,244270,13,,S\\n675,0,2,\"Watson, Mr. Ennis Hastings\",male,,0,0,239856,0,,S\\n676,0,3,\"Edvardsson, Mr. Gustaf Hjalmar\",male,18,0,0,349912,7.775,,S\\n677,0,3,\"Sawyer, Mr. Frederick Charles\",male,24.5,0,0,342826,8.05,,S\\n678,1,3,\"Turja, Miss Anna Sofia\",female,18,0,0,4138,9.8417,,S\\n679,0,3,\"Goodwin, Mrs. Frederick (Augusta Tyler)\",female,43,1,6,CA 2144,46.9,,S\\n680,1,1,\"Cardeza, Mr. Thomas Drake Martinez\",male,36,0,1,PC 17755,512.3292,B51 B53 B55,C\\n681,0,3,\"Peters, Miss Katie\",female,,0,0,330935,8.1375,,Q\\n682,1,1,\"Hassab, Mr. Hammad\",male,27,0,0,PC 17572,76.7292,D49,C\\n683,0,3,\"Olsvigen, Mr. Thor Anderson\",male,20,0,0,6563,9.225,,S\\n684,0,3,\"Goodwin, Mr. Charles Edward\",male,14,5,2,CA 2144,46.9,,S\\n685,0,2,\"Brown, Mr. Thomas William Solomon\",male,60,1,1,29750,39,,S\\n686,0,2,\"Laroche, Mr. Joseph Philippe Lemercier\",male,25,1,2,SC/Paris 2123,41.5792,,C\\n687,0,3,\"Panula, Mr. Jaako Arnold\",male,14,4,1,3101295,39.6875,,S\\n688,0,3,\"Dakic, Mr. Branko\",male,19,0,0,349228,10.1708,,S\\n689,0,3,\"Fischer, Mr. Eberhard Thelander\",male,18,0,0,350036,7.7958,,S\\n690,1,1,\"Madill, Miss Georgette Alexandra\",female,15,0,1,24160,211.3375,B5,S\\n691,1,1,\"Dick, Mr. Albert Adrian\",male,31,1,0,17474,57,B20,S\\n692,1,3,\"Karun, Miss Manca\",female,4,0,1,349256,13.4167,,C\\n693,1,3,\"Lam, Mr. Ali\",male,,0,0,1601,56.4958,,S\\n694,0,3,\"Saad, Mr. Khalil\",male,25,0,0,2672,7.225,,C\\n695,0,1,\"Weir, Col. John\",male,60,0,0,113800,26.55,,S\\n696,0,2,\"Chapman, Mr. Charles Henry\",male,52,0,0,248731,13.5,,S\\n697,0,3,\"Kelly, Mr. James\",male,44,0,0,363592,8.05,,S\\n698,1,3,\"Mullens, Miss Katherine \"\"Katie\"\"\",female,,0,0,35852,7.7333,,Q\\n699,0,1,\"Thayer, Mr. John Borland\",male,49,1,1,17421,110.8833,C68,C\\n700,0,3,\"Humblen, Mr. Adolf Mathias Nicolai Olsen\",male,42,0,0,348121,7.65,F G63,S\\n701,1,1,\"Astor, Mrs. John Jacob (Madeleine Talmadge Force)\",female,18,1,0,PC 17757,227.525,C62 C64,C\\n702,1,1,\"Silverthorne, Mr. Spencer Victor\",male,35,0,0,PC 17475,26.2875,E24,S\\n703,0,3,\"Barbara, Miss Saiide\",female,18,0,1,2691,14.4542,,C\\n704,0,3,\"Gallagher, Mr. Martin\",male,25,0,0,36864,7.7417,,Q\\n705,0,3,\"Hansen, Mr. Henrik Juul\",male,26,1,0,350025,7.8542,,S\\n706,0,2,\"Morley, Mr. Henry Samuel (\"\"Mr Henry Marshall\"\")\",male,39,0,0,250655,26,,S\\n707,1,2,\"Kelly, Mrs. Florence \"\"Fannie\"\"\",female,45,0,0,223596,13.5,,S\\n708,1,1,\"Calderhead, Mr. Edward Pennington\",male,42,0,0,PC 17476,26.2875,E24,S\\n709,1,1,\"Cleaver, Miss Alice\",female,22,0,0,113781,151.55,,S\\n710,1,3,\"Moubarek, Master Halim Gonios (\"\"William George\"\")\",male,,1,1,2661,15.2458,,C\\n711,1,1,\"Mayne, Mlle. Berthe Antonine (\"\"Mrs de Villiers\"\")\",female,24,0,0,PC 17482,49.5042,C90,C\\n712,0,1,\"Klaber, Mr. Herman\",male,,0,0,113028,26.55,C124,S\\n713,1,1,\"Taylor, Mr. Elmer Zebley\",male,48,1,0,19996,52,C126,S\\n714,0,3,\"Larsson, Mr. August Viktor\",male,29,0,0,7545,9.4833,,S\\n715,0,2,\"Greenberg, Mr. Samuel\",male,52,0,0,250647,13,,S\\n716,0,3,\"Soholt, Mr. Peter Andreas Lauritz Andersen\",male,19,0,0,348124,7.65,F G73,S\\n717,1,1,\"Endres, Miss Caroline Louise\",female,38,0,0,PC 17757,227.525,C45,C\\n718,1,2,\"Troutt, Miss Edwina Celia \"\"Winnie\"\"\",female,27,0,0,34218,10.5,E101,S\\n719,0,3,\"McEvoy, Mr. Michael\",male,,0,0,36568,15.5,,Q\\n720,0,3,\"Johnson, Mr. Malkolm Joackim\",male,33,0,0,347062,7.775,,S\\n721,1,2,\"Harper, Miss Annie Jessie \"\"Nina\"\"\",female,6,0,1,248727,33,,S\\n722,0,3,\"Jensen, Mr. Svend Lauritz\",male,17,1,0,350048,7.0542,,S\\n723,0,2,\"Gillespie, Mr. William Henry\",male,34,0,0,12233,13,,S\\n724,0,2,\"Hodges, Mr. Henry Price\",male,50,0,0,250643,13,,S\\n725,1,1,\"Chambers, Mr. Norman Campbell\",male,27,1,0,113806,53.1,E8,S\\n726,0,3,\"Oreskovic, Mr. Luka\",male,20,0,0,315094,8.6625,,S\\n727,1,2,\"Renouf, Mrs. Peter Henry (Lillian Jefferys)\",female,30,3,0,31027,21,,S\\n728,1,3,\"Mannion, Miss Margareth\",female,,0,0,36866,7.7375,,Q\\n729,0,2,\"Bryhl, Mr. Kurt Arnold Gottfrid\",male,25,1,0,236853,26,,S\\n730,0,3,\"Ilmakangas, Miss Pieta Sofia\",female,25,1,0,STON/O2. 3101271,7.925,,S\\n731,1,1,\"Allen, Miss Elisabeth Walton\",female,29,0,0,24160,211.3375,B5,S\\n732,0,3,\"Hassan, Mr. Houssein G N\",male,11,0,0,2699,18.7875,,C\\n733,0,2,\"Knight, Mr. Robert J\",male,,0,0,239855,0,,S\\n734,0,2,\"Berriman, Mr. William John\",male,23,0,0,28425,13,,S\\n735,0,2,\"Troupiansky, Mr. Moses Aaron\",male,23,0,0,233639,13,,S\\n736,0,3,\"Williams, Mr. Leslie\",male,28.5,0,0,54636,16.1,,S\\n737,0,3,\"Ford, Mrs. Edward (Margaret Ann Watson)\",female,48,1,3,W./C. 6608,34.375,,S\\n738,1,1,\"Lesurer, Mr. Gustave J\",male,35,0,0,PC 17755,512.3292,B101,C\\n739,0,3,\"Ivanoff, Mr. Kanio\",male,,0,0,349201,7.8958,,S\\n740,0,3,\"Nankoff, Mr. Minko\",male,,0,0,349218,7.8958,,S\\n741,1,1,\"Hawksford, Mr. Walter James\",male,,0,0,16988,30,D45,S\\n742,0,1,\"Cavendish, Mr. Tyrell William\",male,36,1,0,19877,78.85,C46,S\\n743,1,1,\"Ryerson, Miss Susan Parker \"\"Suzette\"\"\",female,21,2,2,PC 17608,262.375,B57 B59 B63 B66,C\\n744,0,3,\"McNamee, Mr. Neal\",male,24,1,0,376566,16.1,,S\\n745,1,3,\"Stranden, Mr. Juho\",male,31,0,0,STON/O 2. 3101288,7.925,,S\\n746,0,1,\"Crosby, Capt. Edward Gifford\",male,70,1,1,WE/P 5735,71,B22,S\\n747,0,3,\"Abbott, Mr. Rossmore Edward\",male,16,1,1,C.A. 2673,20.25,,S\\n748,1,2,\"Sinkkonen, Miss Anna\",female,30,0,0,250648,13,,S\\n749,0,1,\"Marvin, Mr. Daniel Warner\",male,19,1,0,113773,53.1,D30,S\\n750,0,3,\"Connaghton, Mr. Michael\",male,31,0,0,335097,7.75,,Q\\n751,1,2,\"Wells, Miss Joan\",female,4,1,1,29103,23,,S\\n752,1,3,\"Moor, Master Meier\",male,6,0,1,392096,12.475,E121,S\\n753,0,3,\"Vande Velde, Mr. Johannes Joseph\",male,33,0,0,345780,9.5,,S\\n754,0,3,\"Jonkoff, Mr. Lalio\",male,23,0,0,349204,7.8958,,S\\n755,1,2,\"Herman, Mrs. Samuel (Jane Laver)\",female,48,1,2,220845,65,,S\\n756,1,2,\"Hamalainen, Master Viljo\",male,0.67,1,1,250649,14.5,,S\\n757,0,3,\"Carlsson, Mr. August Sigfrid\",male,28,0,0,350042,7.7958,,S\\n758,0,2,\"Bailey, Mr. Percy Andrew\",male,18,0,0,29108,11.5,,S\\n759,0,3,\"Theobald, Mr. Thomas Leonard\",male,34,0,0,363294,8.05,,S\\n760,1,1,\"Rothes, the Countess. of (Lucy Noel Martha Dyer-Edwards)\",female,33,0,0,110152,86.5,B77,S\\n761,0,3,\"Garfirth, Mr. John\",male,,0,0,358585,14.5,,S\\n762,0,3,\"Nirva, Mr. Iisakki Antino Aijo\",male,41,0,0,SOTON/O2 3101272,7.125,,S\\n763,1,3,\"Barah, Mr. Hanna Assi\",male,20,0,0,2663,7.2292,,C\\n764,1,1,\"Carter, Mrs. William Ernest (Lucile Polk)\",female,36,1,2,113760,120,B96 B98,S\\n765,0,3,\"Eklund, Mr. Hans Linus\",male,16,0,0,347074,7.775,,S\\n766,1,1,\"Hogeboom, Mrs. John C (Anna Andrews)\",female,51,1,0,13502,77.9583,D11,S\\n767,0,1,\"Brewe, Dr. Arthur Jackson\",male,,0,0,112379,39.6,,C\\n768,0,3,\"Mangan, Miss Mary\",female,30.5,0,0,364850,7.75,,Q\\n769,0,3,\"Moran, Mr. Daniel J\",male,,1,0,371110,24.15,,Q\\n770,0,3,\"Gronnestad, Mr. Daniel Danielsen\",male,32,0,0,8471,8.3625,,S\\n771,0,3,\"Lievens, Mr. Rene Aime\",male,24,0,0,345781,9.5,,S\\n772,0,3,\"Jensen, Mr. Niels Peder\",male,48,0,0,350047,7.8542,,S\\n773,0,2,\"Mack, Mrs. (Mary)\",female,57,0,0,S.O./P.P. 3,10.5,E77,S\\n774,0,3,\"Elias, Mr. Dibo\",male,,0,0,2674,7.225,,C\\n775,1,2,\"Hocking, Mrs. Elizabeth (Eliza Needs)\",female,54,1,3,29105,23,,S\\n776,0,3,\"Myhrman, Mr. Pehr Fabian Oliver Malkolm\",male,18,0,0,347078,7.75,,S\\n777,0,3,\"Tobin, Mr. Roger\",male,,0,0,383121,7.75,F38,Q\\n778,1,3,\"Emanuel, Miss Virginia Ethel\",female,5,0,0,364516,12.475,,S\\n779,0,3,\"Kilgannon, Mr. Thomas J\",male,,0,0,36865,7.7375,,Q\\n780,1,1,\"Robert, Mrs. Edward Scott (Elisabeth Walton McMillan)\",female,43,0,1,24160,211.3375,B3,S\\n781,1,3,\"Ayoub, Miss Banoura\",female,13,0,0,2687,7.2292,,C\\n782,1,1,\"Dick, Mrs. Albert Adrian (Vera Gillespie)\",female,17,1,0,17474,57,B20,S\\n783,0,1,\"Long, Mr. Milton Clyde\",male,29,0,0,113501,30,D6,S\\n784,0,3,\"Johnston, Mr. Andrew G\",male,,1,2,W./C. 6607,23.45,,S\\n785,0,3,\"Ali, Mr. William\",male,25,0,0,SOTON/O.Q. 3101312,7.05,,S\\n786,0,3,\"Harmer, Mr. Abraham (David Lishin)\",male,25,0,0,374887,7.25,,S\\n787,1,3,\"Sjoblom, Miss Anna Sofia\",female,18,0,0,3101265,7.4958,,S\\n788,0,3,\"Rice, Master George Hugh\",male,8,4,1,382652,29.125,,Q\\n789,1,3,\"Dean, Master Bertram Vere\",male,1,1,2,C.A. 2315,20.575,,S\\n790,0,1,\"Guggenheim, Mr. Benjamin\",male,46,0,0,PC 17593,79.2,B82 B84,C\\n791,0,3,\"Keane, Mr. Andrew \"\"Andy\"\"\",male,,0,0,12460,7.75,,Q\\n792,0,2,\"Gaskell, Mr. Alfred\",male,16,0,0,239865,26,,S\\n793,0,3,\"Sage, Miss Stella Anna\",female,,8,2,CA. 2343,69.55,,S\\n794,0,1,\"Hoyt, Mr. William Fisher\",male,,0,0,PC 17600,30.6958,,C\\n795,0,3,\"Dantcheff, Mr. Ristiu\",male,25,0,0,349203,7.8958,,S\\n796,0,2,\"Otter, Mr. Richard\",male,39,0,0,28213,13,,S\\n797,1,1,\"Leader, Dr. Alice (Farnham)\",female,49,0,0,17465,25.9292,D17,S\\n798,1,3,\"Osman, Mrs. Mara\",female,31,0,0,349244,8.6833,,S\\n799,0,3,\"Ibrahim Shawah, Mr. Yousseff\",male,30,0,0,2685,7.2292,,C\\n800,0,3,\"Van Impe, Mrs. Jean Baptiste (Rosalie Paula Govaert)\",female,30,1,1,345773,24.15,,S\\n801,0,2,\"Ponesell, Mr. Martin\",male,34,0,0,250647,13,,S\\n802,1,2,\"Collyer, Mrs. Harvey (Charlotte Annie Tate)\",female,31,1,1,C.A. 31921,26.25,,S\\n803,1,1,\"Carter, Master William Thornton II\",male,11,1,2,113760,120,B96 B98,S\\n804,1,3,\"Thomas, Master Assad Alexander\",male,0.42,0,1,2625,8.5167,,C\\n805,1,3,\"Hedman, Mr. Oskar Arvid\",male,27,0,0,347089,6.975,,S\\n806,0,3,\"Johansson, Mr. Karl Johan\",male,31,0,0,347063,7.775,,S\\n807,0,1,\"Andrews, Mr. Thomas Jr\",male,39,0,0,112050,0,A36,S\\n808,0,3,\"Pettersson, Miss Ellen Natalia\",female,18,0,0,347087,7.775,,S\\n809,0,2,\"Meyer, Mr. August\",male,39,0,0,248723,13,,S\\n810,1,1,\"Chambers, Mrs. Norman Campbell (Bertha Griggs)\",female,33,1,0,113806,53.1,E8,S\\n811,0,3,\"Alexander, Mr. William\",male,26,0,0,3474,7.8875,,S\\n812,0,3,\"Lester, Mr. James\",male,39,0,0,A/4 48871,24.15,,S\\n813,0,2,\"Slemen, Mr. Richard James\",male,35,0,0,28206,10.5,,S\\n814,0,3,\"Andersson, Miss Ebba Iris Alfrida\",female,6,4,2,347082,31.275,,S\\n815,0,3,\"Tomlin, Mr. Ernest Portage\",male,30.5,0,0,364499,8.05,,S\\n816,0,1,\"Fry, Mr. Richard\",male,,0,0,112058,0,B102,S\\n817,0,3,\"Heininen, Miss Wendla Maria\",female,23,0,0,STON/O2. 3101290,7.925,,S\\n818,0,2,\"Mallet, Mr. Albert\",male,31,1,1,S.C./PARIS 2079,37.0042,,C\\n819,0,3,\"Holm, Mr. John Fredrik Alexander\",male,43,0,0,C 7075,6.45,,S\\n820,0,3,\"Skoog, Master Karl Thorsten\",male,10,3,2,347088,27.9,,S\\n821,1,1,\"Hays, Mrs. Charles Melville (Clara Jennings Gregg)\",female,52,1,1,12749,93.5,B69,S\\n822,1,3,\"Lulic, Mr. Nikola\",male,27,0,0,315098,8.6625,,S\\n823,0,1,\"Reuchlin, Jonkheer. John George\",male,38,0,0,19972,0,,S\\n824,1,3,\"Moor, Mrs. (Beila)\",female,27,0,1,392096,12.475,E121,S\\n825,0,3,\"Panula, Master Urho Abraham\",male,2,4,1,3101295,39.6875,,S\\n826,0,3,\"Flynn, Mr. John\",male,,0,0,368323,6.95,,Q\\n827,0,3,\"Lam, Mr. Len\",male,,0,0,1601,56.4958,,S\\n828,1,2,\"Mallet, Master Andre\",male,1,0,2,S.C./PARIS 2079,37.0042,,C\\n829,1,3,\"McCormack, Mr. Thomas Joseph\",male,,0,0,367228,7.75,,Q\\n830,1,1,\"Stone, Mrs. George Nelson (Martha Evelyn)\",female,62,0,0,113572,80,B28,\\n831,1,3,\"Yasbeck, Mrs. Antoni (Selini Alexander)\",female,15,1,0,2659,14.4542,,C\\n832,1,2,\"Richards, Master George Sibley\",male,0.83,1,1,29106,18.75,,S\\n833,0,3,\"Saad, Mr. Amin\",male,,0,0,2671,7.2292,,C\\n834,0,3,\"Augustsson, Mr. Albert\",male,23,0,0,347468,7.8542,,S\\n835,0,3,\"Allum, Mr. Owen George\",male,18,0,0,2223,8.3,,S\\n836,1,1,\"Compton, Miss Sara Rebecca\",female,39,1,1,PC 17756,83.1583,E49,C\\n837,0,3,\"Pasic, Mr. Jakob\",male,21,0,0,315097,8.6625,,S\\n838,0,3,\"Sirota, Mr. Maurice\",male,,0,0,392092,8.05,,S\\n839,1,3,\"Chip, Mr. Chang\",male,32,0,0,1601,56.4958,,S\\n840,1,1,\"Marechal, Mr. Pierre\",male,,0,0,11774,29.7,C47,C\\n841,0,3,\"Alhomaki, Mr. Ilmari Rudolf\",male,20,0,0,SOTON/O2 3101287,7.925,,S\\n842,0,2,\"Mudd, Mr. Thomas Charles\",male,16,0,0,S.O./P.P. 3,10.5,,S\\n843,1,1,\"Serepeca, Miss Augusta\",female,30,0,0,113798,31,,C\\n844,0,3,\"Lemberopolous, Mr. Peter L\",male,34.5,0,0,2683,6.4375,,C\\n845,0,3,\"Culumovic, Mr. Jeso\",male,17,0,0,315090,8.6625,,S\\n846,0,3,\"Abbing, Mr. Anthony\",male,42,0,0,C.A. 5547,7.55,,S\\n847,0,3,\"Sage, Mr. Douglas Bullen\",male,,8,2,CA. 2343,69.55,,S\\n848,0,3,\"Markoff, Mr. Marin\",male,35,0,0,349213,7.8958,,C\\n849,0,2,\"Harper, Rev. John\",male,28,0,1,248727,33,,S\\n850,1,1,\"Goldenberg, Mrs. Samuel L (Edwiga Grabowska)\",female,,1,0,17453,89.1042,C92,C\\n851,0,3,\"Andersson, Master Sigvard Harald Elias\",male,4,4,2,347082,31.275,,S\\n852,0,3,\"Svensson, Mr. Johan\",male,74,0,0,347060,7.775,,S\\n853,0,3,\"Boulos, Miss Nourelain\",female,9,1,1,2678,15.2458,,C\\n854,1,1,\"Lines, Miss Mary Conover\",female,16,0,1,PC 17592,39.4,D28,S\\n855,0,2,\"Carter, Mrs. Ernest Courtenay (Lilian Hughes)\",female,44,1,0,244252,26,,S\\n856,1,3,\"Aks, Mrs. Sam (Leah Rosen)\",female,18,0,1,392091,9.35,,S\\n857,1,1,\"Wick, Mrs. George Dennick (Mary Hitchcock)\",female,45,1,1,36928,164.8667,,S\\n858,1,1,\"Daly, Mr. Peter Denis \",male,51,0,0,113055,26.55,E17,S\\n859,1,3,\"Baclini, Mrs. Solomon (Latifa Qurban)\",female,24,0,3,2666,19.2583,,C\\n860,0,3,\"Razi, Mr. Raihed\",male,,0,0,2629,7.2292,,C\\n861,0,3,\"Hansen, Mr. Claus Peter\",male,41,2,0,350026,14.1083,,S\\n862,0,2,\"Giles, Mr. Frederick Edward\",male,21,1,0,28134,11.5,,S\\n863,1,1,\"Swift, Mrs. Frederick Joel (Margaret Welles Barron)\",female,48,0,0,17466,25.9292,D17,S\\n864,0,3,\"Sage, Miss Dorothy Edith \"\"Dolly\"\"\",female,,8,2,CA. 2343,69.55,,S\\n865,0,2,\"Gill, Mr. John William\",male,24,0,0,233866,13,,S\\n866,1,2,\"Bystrom, Mrs. (Karolina)\",female,42,0,0,236852,13,,S\\n867,1,2,\"Duran y More, Miss Asuncion\",female,27,1,0,SC/PARIS 2149,13.8583,,C\\n868,0,1,\"Roebling, Mr. Washington Augustus II\",male,31,0,0,PC 17590,50.4958,A24,S\\n869,0,3,\"van Melkebeke, Mr. Philemon\",male,,0,0,345777,9.5,,S\\n870,1,3,\"Johnson, Master Harold Theodor\",male,4,1,1,347742,11.1333,,S\\n871,0,3,\"Balkic, Mr. Cerin\",male,26,0,0,349248,7.8958,,S\\n872,1,1,\"Beckwith, Mrs. Richard Leonard (Sallie Monypeny)\",female,47,1,1,11751,52.5542,D35,S\\n873,0,1,\"Carlsson, Mr. Frans Olof\",male,33,0,0,695,5,B51 B53 B55,S\\n874,0,3,\"Vander Cruyssen, Mr. Victor\",male,47,0,0,345765,9,,S\\n875,1,2,\"Abelson, Mrs. Samuel (Hannah Wizosky)\",female,28,1,0,P/PP 3381,24,,C\\n876,1,3,\"Najib, Miss Adele Kiamie \"\"Jane\"\"\",female,15,0,0,2667,7.225,,C\\n877,0,3,\"Gustafsson, Mr. Alfred Ossian\",male,20,0,0,7534,9.8458,,S\\n878,0,3,\"Petroff, Mr. Nedelio\",male,19,0,0,349212,7.8958,,S\\n879,0,3,\"Laleff, Mr. Kristo\",male,,0,0,349217,7.8958,,S\\n880,1,1,\"Potter, Mrs. Thomas Jr (Lily Alexenia Wilson)\",female,56,0,1,11767,83.1583,C50,C\\n881,1,2,\"Shelley, Mrs. William (Imanita Parrish Hall)\",female,25,0,1,230433,26,,S\\n882,0,3,\"Markun, Mr. Johann\",male,33,0,0,349257,7.8958,,S\\n883,0,3,\"Dahlberg, Miss Gerda Ulrika\",female,22,0,0,7552,10.5167,,S\\n884,0,2,\"Banfield, Mr. Frederick James\",male,28,0,0,C.A./SOTON 34068,10.5,,S\\n885,0,3,\"Sutehall, Mr. Henry Jr\",male,25,0,0,SOTON/OQ 392076,7.05,,S\\n886,0,3,\"Rice, Mrs. William (Margaret Norton)\",female,39,0,5,382652,29.125,,Q\\n887,0,2,\"Montvila, Rev. Juozas\",male,27,0,0,211536,13,,S\\n888,1,1,\"Graham, Miss Margaret Edith\",female,19,0,0,112053,30,B42,S\\n889,0,3,\"Johnston, Miss Catherine Helen \"\"Carrie\"\"\",female,,1,2,W./C. 6607,23.45,,S\\n890,1,1,\"Behr, Mr. Karl Howell\",male,26,0,0,111369,30,C148,C\\n891,0,3,\"Dooley, Mr. Patrick\",male,32,0,0,370376,7.75,,Q\\n'"
      ]
     },
     "execution_count": 13,
     "metadata": {},
     "output_type": "execute_result"
    }
   ],
   "source": [
    "#Utilizando el metodo Request\n",
    "import requests\n",
    "url1 = 'https://raw.githubusercontent.com/pandas-dev/pandas/main/doc/data/titanic.csv'\n",
    "HTTPS1 = requests.get(url1, headers={'Content-Type': \"application/json\"})\n",
    "HTTPS1.content.decode(\"UTF-8\")"
   ]
  },
  {
   "cell_type": "code",
   "execution_count": 26,
   "metadata": {},
   "outputs": [
    {
     "name": "stdout",
     "output_type": "stream",
     "text": [
      "2024-09-26 00:31:16.592372\n"
     ]
    },
    {
     "data": {
      "text/plain": [
       "'26/09/2024 00:31:16'"
      ]
     },
     "execution_count": 26,
     "metadata": {},
     "output_type": "execute_result"
    }
   ],
   "source": [
    "from datetime import datetime\n",
    "\n",
    "print(datetime.now())\n",
    "\n",
    "datetime.now().strftime(\"%d/%m/%Y %H:%M:%S\")"
   ]
  },
  {
   "cell_type": "code",
   "execution_count": 34,
   "metadata": {},
   "outputs": [
    {
     "data": {
      "text/html": [
       "<div>\n",
       "<style scoped>\n",
       "    .dataframe tbody tr th:only-of-type {\n",
       "        vertical-align: middle;\n",
       "    }\n",
       "\n",
       "    .dataframe tbody tr th {\n",
       "        vertical-align: top;\n",
       "    }\n",
       "\n",
       "    .dataframe thead th {\n",
       "        text-align: right;\n",
       "    }\n",
       "</style>\n",
       "<table border=\"1\" class=\"dataframe\">\n",
       "  <thead>\n",
       "    <tr style=\"text-align: right;\">\n",
       "      <th></th>\n",
       "      <th>fecha</th>\n",
       "      <th>valor</th>\n",
       "    </tr>\n",
       "  </thead>\n",
       "  <tbody>\n",
       "    <tr>\n",
       "      <th>0</th>\n",
       "      <td>2020-01-01</td>\n",
       "      <td>1419</td>\n",
       "    </tr>\n",
       "    <tr>\n",
       "      <th>1</th>\n",
       "      <td>2020-01-02</td>\n",
       "      <td>1610</td>\n",
       "    </tr>\n",
       "    <tr>\n",
       "      <th>2</th>\n",
       "      <td>2020-01-03</td>\n",
       "      <td>17345</td>\n",
       "    </tr>\n",
       "    <tr>\n",
       "      <th>3</th>\n",
       "      <td>2020-01-04</td>\n",
       "      <td>30892</td>\n",
       "    </tr>\n",
       "    <tr>\n",
       "      <th>4</th>\n",
       "      <td>2020-01-05</td>\n",
       "      <td>56123</td>\n",
       "    </tr>\n",
       "    <tr>\n",
       "      <th>...</th>\n",
       "      <td>...</td>\n",
       "      <td>...</td>\n",
       "    </tr>\n",
       "    <tr>\n",
       "      <th>2187</th>\n",
       "      <td>2025-12-27</td>\n",
       "      <td>38089</td>\n",
       "    </tr>\n",
       "    <tr>\n",
       "      <th>2188</th>\n",
       "      <td>2025-12-28</td>\n",
       "      <td>24575</td>\n",
       "    </tr>\n",
       "    <tr>\n",
       "      <th>2189</th>\n",
       "      <td>2025-12-29</td>\n",
       "      <td>60016</td>\n",
       "    </tr>\n",
       "    <tr>\n",
       "      <th>2190</th>\n",
       "      <td>2025-12-30</td>\n",
       "      <td>18264</td>\n",
       "    </tr>\n",
       "    <tr>\n",
       "      <th>2191</th>\n",
       "      <td>2025-12-31</td>\n",
       "      <td>74049</td>\n",
       "    </tr>\n",
       "  </tbody>\n",
       "</table>\n",
       "<p>2192 rows × 2 columns</p>\n",
       "</div>"
      ],
      "text/plain": [
       "          fecha  valor\n",
       "0    2020-01-01   1419\n",
       "1    2020-01-02   1610\n",
       "2    2020-01-03  17345\n",
       "3    2020-01-04  30892\n",
       "4    2020-01-05  56123\n",
       "...         ...    ...\n",
       "2187 2025-12-27  38089\n",
       "2188 2025-12-28  24575\n",
       "2189 2025-12-29  60016\n",
       "2190 2025-12-30  18264\n",
       "2191 2025-12-31  74049\n",
       "\n",
       "[2192 rows x 2 columns]"
      ]
     },
     "execution_count": 34,
     "metadata": {},
     "output_type": "execute_result"
    }
   ],
   "source": [
    "import pandas as pd\n",
    "from random import randint\n",
    "import numpy as np\n",
    "\n",
    "\n",
    "fecha = pd.date_range('2020-01-01', '2025-12-31')\n",
    "valor = [randint(1000, 100000) for i in range(len(fecha))]\n",
    "\n",
    "dataset = {'fecha': fecha, 'valor': valor}\n",
    "df = pd.DataFrame(dataset)\n",
    "df"
   ]
  },
  {
   "cell_type": "code",
   "execution_count": 43,
   "metadata": {},
   "outputs": [
    {
     "data": {
      "text/html": [
       "<div>\n",
       "<style scoped>\n",
       "    .dataframe tbody tr th:only-of-type {\n",
       "        vertical-align: middle;\n",
       "    }\n",
       "\n",
       "    .dataframe tbody tr th {\n",
       "        vertical-align: top;\n",
       "    }\n",
       "\n",
       "    .dataframe thead th {\n",
       "        text-align: right;\n",
       "    }\n",
       "</style>\n",
       "<table border=\"1\" class=\"dataframe\">\n",
       "  <thead>\n",
       "    <tr style=\"text-align: right;\">\n",
       "      <th></th>\n",
       "      <th>valor</th>\n",
       "    </tr>\n",
       "    <tr>\n",
       "      <th>fecha</th>\n",
       "      <th></th>\n",
       "    </tr>\n",
       "  </thead>\n",
       "  <tbody>\n",
       "    <tr>\n",
       "      <th>2020-01-05</th>\n",
       "      <td>107389</td>\n",
       "    </tr>\n",
       "    <tr>\n",
       "      <th>2020-12-20</th>\n",
       "      <td>19132261</td>\n",
       "    </tr>\n",
       "    <tr>\n",
       "      <th>2021-12-05</th>\n",
       "      <td>18213841</td>\n",
       "    </tr>\n",
       "    <tr>\n",
       "      <th>2022-11-20</th>\n",
       "      <td>17158017</td>\n",
       "    </tr>\n",
       "    <tr>\n",
       "      <th>2023-11-05</th>\n",
       "      <td>17455037</td>\n",
       "    </tr>\n",
       "    <tr>\n",
       "      <th>2024-10-20</th>\n",
       "      <td>18111720</td>\n",
       "    </tr>\n",
       "    <tr>\n",
       "      <th>2025-10-05</th>\n",
       "      <td>18276226</td>\n",
       "    </tr>\n",
       "    <tr>\n",
       "      <th>2026-09-20</th>\n",
       "      <td>3910652</td>\n",
       "    </tr>\n",
       "  </tbody>\n",
       "</table>\n",
       "</div>"
      ],
      "text/plain": [
       "               valor\n",
       "fecha               \n",
       "2020-01-05    107389\n",
       "2020-12-20  19132261\n",
       "2021-12-05  18213841\n",
       "2022-11-20  17158017\n",
       "2023-11-05  17455037\n",
       "2024-10-20  18111720\n",
       "2025-10-05  18276226\n",
       "2026-09-20   3910652"
      ]
     },
     "execution_count": 43,
     "metadata": {},
     "output_type": "execute_result"
    }
   ],
   "source": [
    "df.groupby(pd.Grouper(key='fecha', freq='50W')).sum()"
   ]
  },
  {
   "cell_type": "code",
   "execution_count": null,
   "metadata": {},
   "outputs": [],
   "source": [
    "ayudantes = ['Laury', 'Letizia']"
   ]
  },
  {
   "cell_type": "code",
   "execution_count": 44,
   "metadata": {},
   "outputs": [
    {
     "data": {
      "text/plain": [
       "['dataset/yob2022.txt',\n",
       " 'dataset/yob1999.txt',\n",
       " 'dataset/yob1903.txt',\n",
       " 'dataset/yob1955.txt',\n",
       " 'dataset/yob1997.txt',\n",
       " 'dataset/yob2005.txt',\n",
       " 'dataset/yob1909.txt',\n",
       " 'dataset/yob1989.txt',\n",
       " 'dataset/yob1964.txt',\n",
       " 'dataset/yob2001.txt',\n",
       " 'dataset/yob2013.txt',\n",
       " 'dataset/yob1895.txt',\n",
       " 'dataset/yob2017.txt',\n",
       " 'dataset/yob2010.txt',\n",
       " 'dataset/yob1935.txt',\n",
       " 'dataset/yob1887.txt',\n",
       " 'dataset/yob2023.txt',\n",
       " 'dataset/yob1975.txt',\n",
       " 'dataset/yob1918.txt',\n",
       " 'dataset/yob1962.txt',\n",
       " 'dataset/yob1924.txt',\n",
       " 'dataset/yob1990.txt',\n",
       " 'dataset/yob1971.txt',\n",
       " 'dataset/yob1942.txt',\n",
       " 'dataset/yob1901.txt',\n",
       " 'dataset/yob1984.txt',\n",
       " 'dataset/yob1972.txt',\n",
       " 'dataset/yob1940.txt',\n",
       " 'dataset/yob1927.txt',\n",
       " 'dataset/yob1978.txt',\n",
       " 'dataset/yob1992.txt',\n",
       " 'dataset/yob2000.txt',\n",
       " 'dataset/yob1889.txt',\n",
       " 'dataset/yob1928.txt',\n",
       " 'dataset/yob1945.txt',\n",
       " 'dataset/yob1994.txt',\n",
       " 'dataset/yob1977.txt',\n",
       " 'dataset/yob1893.txt',\n",
       " 'dataset/yob1931.txt',\n",
       " 'dataset/yob1930.txt',\n",
       " 'dataset/yob1937.txt',\n",
       " 'dataset/yob1919.txt',\n",
       " 'dataset/yob1966.txt',\n",
       " 'dataset/yob1933.txt',\n",
       " 'dataset/yob1890.txt',\n",
       " 'dataset/yob1912.txt',\n",
       " 'dataset/yob2012.txt',\n",
       " 'dataset/yob1898.txt',\n",
       " 'dataset/yob1907.txt',\n",
       " 'dataset/yob2021.txt',\n",
       " 'dataset/yob1950.txt',\n",
       " 'dataset/yob1910.txt',\n",
       " 'dataset/yob2019.txt',\n",
       " 'dataset/yob1908.txt',\n",
       " 'dataset/yob1970.txt',\n",
       " 'dataset/yob1929.txt',\n",
       " 'dataset/yob1968.txt',\n",
       " 'dataset/yob1916.txt',\n",
       " 'dataset/yob1979.txt',\n",
       " 'dataset/yob1904.txt',\n",
       " 'dataset/yob1958.txt',\n",
       " 'dataset/yob2007.txt',\n",
       " 'dataset/yob1969.txt',\n",
       " 'dataset/yob1963.txt',\n",
       " 'dataset/yob1899.txt',\n",
       " 'dataset/yob1888.txt',\n",
       " 'dataset/yob1998.txt',\n",
       " 'dataset/yob1953.txt',\n",
       " 'dataset/yob1967.txt',\n",
       " 'dataset/yob1943.txt',\n",
       " 'dataset/yob1993.txt',\n",
       " 'dataset/yob1883.txt',\n",
       " 'dataset/yob1917.txt',\n",
       " 'dataset/yob1926.txt',\n",
       " 'dataset/yob1973.txt',\n",
       " 'dataset/yob1947.txt',\n",
       " 'dataset/yob1934.txt',\n",
       " 'dataset/yob1996.txt',\n",
       " 'dataset/yob1884.txt',\n",
       " 'dataset/yob1948.txt',\n",
       " 'dataset/yob1982.txt',\n",
       " 'dataset/yob2009.txt',\n",
       " 'dataset/yob1936.txt',\n",
       " 'dataset/yob1995.txt',\n",
       " 'dataset/yob1902.txt',\n",
       " 'dataset/yob1980.txt',\n",
       " 'dataset/yob1897.txt',\n",
       " 'dataset/yob1986.txt',\n",
       " 'dataset/yob1925.txt',\n",
       " 'dataset/yob1915.txt',\n",
       " 'dataset/yob2018.txt',\n",
       " 'dataset/yob1957.txt',\n",
       " 'dataset/yob2011.txt',\n",
       " 'dataset/yob1944.txt',\n",
       " 'dataset/yob2003.txt',\n",
       " 'dataset/yob1894.txt',\n",
       " 'dataset/yob1961.txt',\n",
       " 'dataset/yob1881.txt',\n",
       " 'dataset/yob1938.txt',\n",
       " 'dataset/yob1913.txt',\n",
       " 'dataset/yob1886.txt',\n",
       " 'dataset/yob1946.txt',\n",
       " 'dataset/yob2008.txt',\n",
       " 'dataset/yob2002.txt',\n",
       " 'dataset/yob1922.txt',\n",
       " 'dataset/yob1991.txt',\n",
       " 'dataset/yob1965.txt',\n",
       " 'dataset/yob1906.txt',\n",
       " 'dataset/yob1905.txt',\n",
       " 'dataset/yob1921.txt',\n",
       " 'dataset/yob1920.txt',\n",
       " 'dataset/yob1896.txt',\n",
       " 'dataset/yob1923.txt',\n",
       " 'dataset/yob2006.txt',\n",
       " 'dataset/yob1981.txt',\n",
       " 'dataset/yob1952.txt',\n",
       " 'dataset/yob1882.txt',\n",
       " 'dataset/yob1911.txt',\n",
       " 'dataset/yob1932.txt',\n",
       " 'dataset/yob1891.txt',\n",
       " 'dataset/yob1976.txt',\n",
       " 'dataset/yob1939.txt',\n",
       " 'dataset/yob2020.txt',\n",
       " 'dataset/yob1960.txt',\n",
       " 'dataset/yob1988.txt',\n",
       " 'dataset/yob2016.txt',\n",
       " 'dataset/yob1951.txt',\n",
       " 'dataset/yob1985.txt',\n",
       " 'dataset/yob1892.txt',\n",
       " 'dataset/yob2014.txt',\n",
       " 'dataset/yob1900.txt',\n",
       " 'dataset/yob1987.txt',\n",
       " 'dataset/yob1914.txt',\n",
       " 'dataset/yob2015.txt',\n",
       " 'dataset/yob2004.txt',\n",
       " 'dataset/yob1959.txt',\n",
       " 'dataset/yob1880.txt',\n",
       " 'dataset/yob1885.txt',\n",
       " 'dataset/yob1954.txt',\n",
       " 'dataset/yob1983.txt',\n",
       " 'dataset/yob1941.txt',\n",
       " 'dataset/yob1949.txt',\n",
       " 'dataset/yob1974.txt',\n",
       " 'dataset/yob1956.txt']"
      ]
     },
     "execution_count": 44,
     "metadata": {},
     "output_type": "execute_result"
    }
   ],
   "source": [
    "#Primera etapa\n",
    "from glob import glob as gl\n",
    "ruta = gl('dataset/*.txt')\n",
    "ruta\n"
   ]
  },
  {
   "cell_type": "code",
   "execution_count": 46,
   "metadata": {},
   "outputs": [
    {
     "data": {
      "text/html": [
       "<div>\n",
       "<style scoped>\n",
       "    .dataframe tbody tr th:only-of-type {\n",
       "        vertical-align: middle;\n",
       "    }\n",
       "\n",
       "    .dataframe tbody tr th {\n",
       "        vertical-align: top;\n",
       "    }\n",
       "\n",
       "    .dataframe thead th {\n",
       "        text-align: right;\n",
       "    }\n",
       "</style>\n",
       "<table border=\"1\" class=\"dataframe\">\n",
       "  <thead>\n",
       "    <tr style=\"text-align: right;\">\n",
       "      <th></th>\n",
       "      <th>Nombre</th>\n",
       "      <th>Sexo</th>\n",
       "      <th>Nacimiento</th>\n",
       "      <th>Year</th>\n",
       "    </tr>\n",
       "  </thead>\n",
       "  <tbody>\n",
       "    <tr>\n",
       "      <th>0</th>\n",
       "      <td>Mary</td>\n",
       "      <td>F</td>\n",
       "      <td>7065</td>\n",
       "      <td>1880</td>\n",
       "    </tr>\n",
       "    <tr>\n",
       "      <th>1</th>\n",
       "      <td>Anna</td>\n",
       "      <td>F</td>\n",
       "      <td>2604</td>\n",
       "      <td>1880</td>\n",
       "    </tr>\n",
       "    <tr>\n",
       "      <th>2</th>\n",
       "      <td>Emma</td>\n",
       "      <td>F</td>\n",
       "      <td>2003</td>\n",
       "      <td>1880</td>\n",
       "    </tr>\n",
       "    <tr>\n",
       "      <th>3</th>\n",
       "      <td>Elizabeth</td>\n",
       "      <td>F</td>\n",
       "      <td>1939</td>\n",
       "      <td>1880</td>\n",
       "    </tr>\n",
       "    <tr>\n",
       "      <th>4</th>\n",
       "      <td>Minnie</td>\n",
       "      <td>F</td>\n",
       "      <td>1746</td>\n",
       "      <td>1880</td>\n",
       "    </tr>\n",
       "    <tr>\n",
       "      <th>...</th>\n",
       "      <td>...</td>\n",
       "      <td>...</td>\n",
       "      <td>...</td>\n",
       "      <td>...</td>\n",
       "    </tr>\n",
       "    <tr>\n",
       "      <th>2117214</th>\n",
       "      <td>Zyell</td>\n",
       "      <td>M</td>\n",
       "      <td>5</td>\n",
       "      <td>2023</td>\n",
       "    </tr>\n",
       "    <tr>\n",
       "      <th>2117215</th>\n",
       "      <td>Zyen</td>\n",
       "      <td>M</td>\n",
       "      <td>5</td>\n",
       "      <td>2023</td>\n",
       "    </tr>\n",
       "    <tr>\n",
       "      <th>2117216</th>\n",
       "      <td>Zymirr</td>\n",
       "      <td>M</td>\n",
       "      <td>5</td>\n",
       "      <td>2023</td>\n",
       "    </tr>\n",
       "    <tr>\n",
       "      <th>2117217</th>\n",
       "      <td>Zyquan</td>\n",
       "      <td>M</td>\n",
       "      <td>5</td>\n",
       "      <td>2023</td>\n",
       "    </tr>\n",
       "    <tr>\n",
       "      <th>2117218</th>\n",
       "      <td>Zyrin</td>\n",
       "      <td>M</td>\n",
       "      <td>5</td>\n",
       "      <td>2023</td>\n",
       "    </tr>\n",
       "  </tbody>\n",
       "</table>\n",
       "<p>2117219 rows × 4 columns</p>\n",
       "</div>"
      ],
      "text/plain": [
       "            Nombre Sexo  Nacimiento  Year\n",
       "0             Mary    F        7065  1880\n",
       "1             Anna    F        2604  1880\n",
       "2             Emma    F        2003  1880\n",
       "3        Elizabeth    F        1939  1880\n",
       "4           Minnie    F        1746  1880\n",
       "...            ...  ...         ...   ...\n",
       "2117214      Zyell    M           5  2023\n",
       "2117215       Zyen    M           5  2023\n",
       "2117216     Zymirr    M           5  2023\n",
       "2117217     Zyquan    M           5  2023\n",
       "2117218      Zyrin    M           5  2023\n",
       "\n",
       "[2117219 rows x 4 columns]"
      ]
     },
     "execution_count": 46,
     "metadata": {},
     "output_type": "execute_result"
    }
   ],
   "source": [
    "#Segunda Etapa\n",
    "import pandas as pd\n",
    "dataframe = []\n",
    "for i in range(1880, 2024):\n",
    "    dfT = pd.read_csv(f'dataset/yob{i}.txt', names=['Nombre', \"Sexo\", \"Nacimiento\"])\n",
    "    dfT['Year'] = i\n",
    "    # print(dfT)\n",
    "    dataframe.append(dfT)\n",
    "\n",
    "df = pd.concat(dataframe, ignore_index=True)\n",
    "df"
   ]
  },
  {
   "cell_type": "code",
   "execution_count": 49,
   "metadata": {},
   "outputs": [
    {
     "name": "stderr",
     "output_type": "stream",
     "text": [
      "/tmp/ipykernel_1866/298103001.py:2: FutureWarning: The provided callable <built-in function sum> is currently using DataFrameGroupBy.sum. In a future version of pandas, the provided callable will be used directly. To keep current behavior pass the string \"sum\" instead.\n",
      "  df1 = df.pivot_table('Nacimiento', index=\"Year\", columns='Sexo', aggfunc=sum)\n"
     ]
    },
    {
     "data": {
      "text/html": [
       "<div>\n",
       "<style scoped>\n",
       "    .dataframe tbody tr th:only-of-type {\n",
       "        vertical-align: middle;\n",
       "    }\n",
       "\n",
       "    .dataframe tbody tr th {\n",
       "        vertical-align: top;\n",
       "    }\n",
       "\n",
       "    .dataframe thead th {\n",
       "        text-align: right;\n",
       "    }\n",
       "</style>\n",
       "<table border=\"1\" class=\"dataframe\">\n",
       "  <thead>\n",
       "    <tr style=\"text-align: right;\">\n",
       "      <th>Sexo</th>\n",
       "      <th>F</th>\n",
       "      <th>M</th>\n",
       "    </tr>\n",
       "    <tr>\n",
       "      <th>Year</th>\n",
       "      <th></th>\n",
       "      <th></th>\n",
       "    </tr>\n",
       "  </thead>\n",
       "  <tbody>\n",
       "    <tr>\n",
       "      <th>1880</th>\n",
       "      <td>90994</td>\n",
       "      <td>110490</td>\n",
       "    </tr>\n",
       "    <tr>\n",
       "      <th>1881</th>\n",
       "      <td>91953</td>\n",
       "      <td>100735</td>\n",
       "    </tr>\n",
       "    <tr>\n",
       "      <th>1882</th>\n",
       "      <td>107847</td>\n",
       "      <td>113686</td>\n",
       "    </tr>\n",
       "    <tr>\n",
       "      <th>1883</th>\n",
       "      <td>112320</td>\n",
       "      <td>104625</td>\n",
       "    </tr>\n",
       "    <tr>\n",
       "      <th>1884</th>\n",
       "      <td>129019</td>\n",
       "      <td>114442</td>\n",
       "    </tr>\n",
       "    <tr>\n",
       "      <th>...</th>\n",
       "      <td>...</td>\n",
       "      <td>...</td>\n",
       "    </tr>\n",
       "    <tr>\n",
       "      <th>2019</th>\n",
       "      <td>1676568</td>\n",
       "      <td>1792223</td>\n",
       "    </tr>\n",
       "    <tr>\n",
       "      <th>2020</th>\n",
       "      <td>1614196</td>\n",
       "      <td>1723649</td>\n",
       "    </tr>\n",
       "    <tr>\n",
       "      <th>2021</th>\n",
       "      <td>1638188</td>\n",
       "      <td>1746499</td>\n",
       "    </tr>\n",
       "    <tr>\n",
       "      <th>2022</th>\n",
       "      <td>1636657</td>\n",
       "      <td>1741954</td>\n",
       "    </tr>\n",
       "    <tr>\n",
       "      <th>2023</th>\n",
       "      <td>1596022</td>\n",
       "      <td>1701224</td>\n",
       "    </tr>\n",
       "  </tbody>\n",
       "</table>\n",
       "<p>144 rows × 2 columns</p>\n",
       "</div>"
      ],
      "text/plain": [
       "Sexo        F        M\n",
       "Year                  \n",
       "1880    90994   110490\n",
       "1881    91953   100735\n",
       "1882   107847   113686\n",
       "1883   112320   104625\n",
       "1884   129019   114442\n",
       "...       ...      ...\n",
       "2019  1676568  1792223\n",
       "2020  1614196  1723649\n",
       "2021  1638188  1746499\n",
       "2022  1636657  1741954\n",
       "2023  1596022  1701224\n",
       "\n",
       "[144 rows x 2 columns]"
      ]
     },
     "execution_count": 49,
     "metadata": {},
     "output_type": "execute_result"
    }
   ],
   "source": [
    "#Saber la cantidad por sexo y años\n",
    "df1 = df.pivot_table('Nacimiento', index=\"Year\", columns='Sexo', aggfunc=sum)\n",
    "df1"
   ]
  },
  {
   "cell_type": "code",
   "execution_count": 51,
   "metadata": {},
   "outputs": [
    {
     "data": {
      "image/png": "[encoded data removed]",
      "text/plain": [
       "<Figure size 640x480 with 1 Axes>"
      ]
     },
     "metadata": {},
     "output_type": "display_data"
    }
   ],
   "source": [
    "import matplotlib.pyplot as plt\n",
    "\n",
    "plt.title(\"Analisis de Nacidos en los Estados Unidos\\n Desde 1880 - 2023 by: Jean Charly Ph. Joseph :)\")\n",
    "plt.plot(df1.index.tolist(), df1[['F', 'M']], label=['Femenino', 'Masculino'])\n",
    "plt.legend()\n",
    "plt.show()"
   ]
  },
  {
   "cell_type": "code",
   "execution_count": 52,
   "metadata": {},
   "outputs": [
    {
     "data": {
      "text/html": [
       "<div>\n",
       "<style scoped>\n",
       "    .dataframe tbody tr th:only-of-type {\n",
       "        vertical-align: middle;\n",
       "    }\n",
       "\n",
       "    .dataframe tbody tr th {\n",
       "        vertical-align: top;\n",
       "    }\n",
       "\n",
       "    .dataframe thead th {\n",
       "        text-align: right;\n",
       "    }\n",
       "</style>\n",
       "<table border=\"1\" class=\"dataframe\">\n",
       "  <thead>\n",
       "    <tr style=\"text-align: right;\">\n",
       "      <th></th>\n",
       "      <th>Sexo</th>\n",
       "      <th>Nacimiento</th>\n",
       "    </tr>\n",
       "    <tr>\n",
       "      <th>Year</th>\n",
       "      <th></th>\n",
       "      <th></th>\n",
       "    </tr>\n",
       "  </thead>\n",
       "  <tbody>\n",
       "    <tr>\n",
       "      <th>1880</th>\n",
       "      <td>FFFFFFFFFFFFFFFFFFFFFFFFFFFFFFFFFFFFFFFFFFFFFF...</td>\n",
       "      <td>201484</td>\n",
       "    </tr>\n",
       "    <tr>\n",
       "      <th>1881</th>\n",
       "      <td>FFFFFFFFFFFFFFFFFFFFFFFFFFFFFFFFFFFFFFFFFFFFFF...</td>\n",
       "      <td>192688</td>\n",
       "    </tr>\n",
       "    <tr>\n",
       "      <th>1882</th>\n",
       "      <td>FFFFFFFFFFFFFFFFFFFFFFFFFFFFFFFFFFFFFFFFFFFFFF...</td>\n",
       "      <td>221533</td>\n",
       "    </tr>\n",
       "    <tr>\n",
       "      <th>1883</th>\n",
       "      <td>FFFFFFFFFFFFFFFFFFFFFFFFFFFFFFFFFFFFFFFFFFFFFF...</td>\n",
       "      <td>216945</td>\n",
       "    </tr>\n",
       "    <tr>\n",
       "      <th>1884</th>\n",
       "      <td>FFFFFFFFFFFFFFFFFFFFFFFFFFFFFFFFFFFFFFFFFFFFFF...</td>\n",
       "      <td>243461</td>\n",
       "    </tr>\n",
       "    <tr>\n",
       "      <th>...</th>\n",
       "      <td>...</td>\n",
       "      <td>...</td>\n",
       "    </tr>\n",
       "    <tr>\n",
       "      <th>2019</th>\n",
       "      <td>FFFFFFFFFFFFFFFFFFFFFFFFFFFFFFFFFFFFFFFFFFFFFF...</td>\n",
       "      <td>3468791</td>\n",
       "    </tr>\n",
       "    <tr>\n",
       "      <th>2020</th>\n",
       "      <td>FFFFFFFFFFFFFFFFFFFFFFFFFFFFFFFFFFFFFFFFFFFFFF...</td>\n",
       "      <td>3337845</td>\n",
       "    </tr>\n",
       "    <tr>\n",
       "      <th>2021</th>\n",
       "      <td>FFFFFFFFFFFFFFFFFFFFFFFFFFFFFFFFFFFFFFFFFFFFFF...</td>\n",
       "      <td>3384687</td>\n",
       "    </tr>\n",
       "    <tr>\n",
       "      <th>2022</th>\n",
       "      <td>FFFFFFFFFFFFFFFFFFFFFFFFFFFFFFFFFFFFFFFFFFFFFF...</td>\n",
       "      <td>3378611</td>\n",
       "    </tr>\n",
       "    <tr>\n",
       "      <th>2023</th>\n",
       "      <td>FFFFFFFFFFFFFFFFFFFFFFFFFFFFFFFFFFFFFFFFFFFFFF...</td>\n",
       "      <td>3297246</td>\n",
       "    </tr>\n",
       "  </tbody>\n",
       "</table>\n",
       "<p>144 rows × 2 columns</p>\n",
       "</div>"
      ],
      "text/plain": [
       "                                                   Sexo  Nacimiento\n",
       "Year                                                               \n",
       "1880  FFFFFFFFFFFFFFFFFFFFFFFFFFFFFFFFFFFFFFFFFFFFFF...      201484\n",
       "1881  FFFFFFFFFFFFFFFFFFFFFFFFFFFFFFFFFFFFFFFFFFFFFF...      192688\n",
       "1882  FFFFFFFFFFFFFFFFFFFFFFFFFFFFFFFFFFFFFFFFFFFFFF...      221533\n",
       "1883  FFFFFFFFFFFFFFFFFFFFFFFFFFFFFFFFFFFFFFFFFFFFFF...      216945\n",
       "1884  FFFFFFFFFFFFFFFFFFFFFFFFFFFFFFFFFFFFFFFFFFFFFF...      243461\n",
       "...                                                 ...         ...\n",
       "2019  FFFFFFFFFFFFFFFFFFFFFFFFFFFFFFFFFFFFFFFFFFFFFF...     3468791\n",
       "2020  FFFFFFFFFFFFFFFFFFFFFFFFFFFFFFFFFFFFFFFFFFFFFF...     3337845\n",
       "2021  FFFFFFFFFFFFFFFFFFFFFFFFFFFFFFFFFFFFFFFFFFFFFF...     3384687\n",
       "2022  FFFFFFFFFFFFFFFFFFFFFFFFFFFFFFFFFFFFFFFFFFFFFF...     3378611\n",
       "2023  FFFFFFFFFFFFFFFFFFFFFFFFFFFFFFFFFFFFFFFFFFFFFF...     3297246\n",
       "\n",
       "[144 rows x 2 columns]"
      ]
     },
     "execution_count": 52,
     "metadata": {},
     "output_type": "execute_result"
    }
   ],
   "source": [
    "df.groupby(\"Year\")[['Sexo', \"Nacimiento\"]].sum()"
   ]
  },
  {
   "cell_type": "code",
   "execution_count": 67,
   "metadata": {},
   "outputs": [
    {
     "name": "stdout",
     "output_type": "stream",
     "text": [
      "Archive:  dataset/names.zip\n",
      "  inflating: yob1880.txt             \n",
      "  inflating: yob1881.txt             \n",
      "  inflating: yob1882.txt             \n",
      "  inflating: yob1883.txt             \n",
      "  inflating: yob1884.txt             \n",
      "  inflating: yob1885.txt             \n",
      "  inflating: yob1886.txt             \n",
      "  inflating: yob1887.txt             \n",
      "  inflating: yob1888.txt             \n",
      "  inflating: yob1889.txt             \n",
      "  inflating: yob1890.txt             \n",
      "  inflating: yob1891.txt             \n",
      "  inflating: yob1892.txt             \n",
      "  inflating: yob1893.txt             \n",
      "  inflating: yob1894.txt             \n",
      "  inflating: yob1895.txt             \n",
      "  inflating: yob1896.txt             \n",
      "  inflating: yob1897.txt             \n",
      "  inflating: yob1898.txt             \n",
      "  inflating: yob1899.txt             \n",
      "  inflating: yob1900.txt             \n",
      "  inflating: yob1901.txt             \n",
      "  inflating: yob1902.txt             \n",
      "  inflating: yob1903.txt             \n",
      "  inflating: yob1904.txt             \n",
      "  inflating: yob1905.txt             \n",
      "  inflating: yob1906.txt             \n",
      "  inflating: yob1907.txt             \n",
      "  inflating: yob1908.txt             \n",
      "  inflating: yob1909.txt             \n",
      "  inflating: yob1910.txt             \n",
      "  inflating: yob1911.txt             \n",
      "  inflating: yob1912.txt             \n",
      "  inflating: yob1913.txt             \n",
      "  inflating: yob1914.txt             \n",
      "  inflating: yob1915.txt             \n",
      "  inflating: yob1916.txt             \n",
      "  inflating: yob1917.txt             \n",
      "  inflating: yob1918.txt             \n",
      "  inflating: yob1919.txt             \n",
      "  inflating: yob1920.txt             \n",
      "  inflating: yob1921.txt             \n",
      "  inflating: yob1922.txt             \n",
      "  inflating: yob1923.txt             \n",
      "  inflating: yob1924.txt             \n",
      "  inflating: yob1925.txt             \n",
      "  inflating: yob1926.txt             \n",
      "  inflating: yob1927.txt             \n",
      "  inflating: yob1928.txt             \n",
      "  inflating: yob1929.txt             \n",
      "  inflating: yob1930.txt             \n",
      "  inflating: yob1931.txt             \n",
      "  inflating: yob1932.txt             \n",
      "  inflating: yob1933.txt             \n",
      "  inflating: yob1934.txt             \n",
      "  inflating: yob1935.txt             \n",
      "  inflating: yob1936.txt             \n",
      "  inflating: yob1937.txt             \n",
      "  inflating: yob1938.txt             \n",
      "  inflating: yob1939.txt             \n",
      "  inflating: yob1940.txt             \n",
      "  inflating: yob1941.txt             \n",
      "  inflating: yob1942.txt             \n",
      "  inflating: yob1943.txt             \n",
      "  inflating: yob1944.txt             \n",
      "  inflating: yob1945.txt             \n",
      "  inflating: yob1946.txt             \n",
      "  inflating: yob1947.txt             \n",
      "  inflating: yob1948.txt             \n",
      "  inflating: yob1949.txt             \n",
      "  inflating: yob1950.txt             \n",
      "  inflating: yob1951.txt             \n",
      "  inflating: yob1952.txt             \n",
      "  inflating: yob1953.txt             \n",
      "  inflating: yob1954.txt             \n",
      "  inflating: yob1955.txt             \n",
      "  inflating: yob1956.txt             \n",
      "  inflating: yob1957.txt             \n",
      "  inflating: yob1958.txt             \n",
      "  inflating: yob1959.txt             \n",
      "  inflating: yob1960.txt             \n",
      "  inflating: yob1961.txt             \n",
      "  inflating: yob1962.txt             \n",
      "  inflating: yob1963.txt             \n",
      "  inflating: yob1964.txt             \n",
      "  inflating: yob1965.txt             \n",
      "  inflating: yob1966.txt             \n",
      "  inflating: yob1967.txt             \n",
      "  inflating: yob1968.txt             \n",
      "  inflating: yob1969.txt             \n",
      "  inflating: yob1970.txt             \n",
      "  inflating: yob1971.txt             \n",
      "  inflating: yob1972.txt             \n",
      "  inflating: yob1973.txt             \n",
      "  inflating: yob1974.txt             \n",
      "  inflating: yob1975.txt             \n",
      "  inflating: yob1976.txt             \n",
      "  inflating: yob1977.txt             \n",
      "  inflating: yob1978.txt             \n",
      "  inflating: yob1979.txt             \n",
      "  inflating: yob1980.txt             \n",
      "  inflating: yob1981.txt             \n",
      "  inflating: yob1982.txt             \n",
      "  inflating: yob1983.txt             \n",
      "  inflating: yob1984.txt             \n",
      "  inflating: yob1985.txt             \n",
      "  inflating: yob1986.txt             \n",
      "  inflating: yob1987.txt             \n",
      "  inflating: yob1988.txt             \n",
      "  inflating: yob1989.txt             \n",
      "  inflating: yob1990.txt             \n",
      "  inflating: yob1991.txt             \n",
      "  inflating: yob1992.txt             \n",
      "  inflating: yob1993.txt             \n",
      "  inflating: yob1994.txt             \n",
      "  inflating: yob1995.txt             \n",
      "  inflating: yob1996.txt             \n",
      "  inflating: yob1997.txt             \n",
      "  inflating: yob1998.txt             \n",
      "  inflating: yob1999.txt             \n",
      "  inflating: yob2000.txt             \n",
      "  inflating: yob2001.txt             \n",
      "  inflating: yob2002.txt             \n",
      "  inflating: yob2003.txt             \n",
      "  inflating: yob2004.txt             \n",
      "  inflating: yob2005.txt             \n",
      "  inflating: yob2006.txt             \n",
      "  inflating: yob2007.txt             \n",
      "  inflating: yob2008.txt             \n",
      "  inflating: yob2009.txt             \n",
      "  inflating: yob2010.txt             \n",
      "  inflating: yob2011.txt             \n",
      "  inflating: yob2012.txt             \n",
      "  inflating: yob2013.txt             \n",
      "  inflating: yob2014.txt             \n",
      "  inflating: yob2015.txt             \n",
      "  inflating: yob2016.txt             \n",
      "  inflating: yob2017.txt             \n",
      "  inflating: yob2018.txt             \n",
      "  inflating: yob2019.txt             \n",
      "  inflating: yob2020.txt             \n",
      "  inflating: yob2021.txt             \n",
      "  inflating: yob2022.txt             \n",
      "  inflating: yob2023.txt             \n",
      "  inflating: NationalReadMe.pdf      \n"
     ]
    },
    {
     "data": {
      "text/plain": [
       "CompletedProcess(args=['unzip', 'dataset/names.zip'], returncode=0)"
      ]
     },
     "execution_count": 67,
     "metadata": {},
     "output_type": "execute_result"
    }
   ],
   "source": [
    "def descargaDocumento(archivo):\n",
    "    from subprocess import run\n",
    "    return run(['unzip', archivo])\n",
    "\n",
    "descargaDocumento('dataset/names.zip')\n"
   ]
  },
  {
   "cell_type": "markdown",
   "metadata": {},
   "source": [
    "# Segunda Temporada"
   ]
  },
  {
   "cell_type": "markdown",
   "metadata": {},
   "source": [
    "### Programación Orientada a Objeto \n",
    "### Patrones de Diseños\n",
    "\n",
    "\n",
    "```\n",
    "CLASE <OBJE>:\n",
    "    INICIALIZAR(YO_MISMO, P_ATRIBUTO1, P_ATRITUBO2, P_ATRIBUTO_N, ESTADO) {\n",
    "        YO_MISMO.P_ATRIBUTO1 = P_ATRIBUTO1\n",
    "        YO_MISMO.P_ATRIBUTO2 = P_ATRIBUTO1\n",
    "        YO_MISMO.ESTADO = NONE\n",
    "    }\n",
    "    FUNCTION <CAMINAR>(YO_MISMO){\n",
    "        \n",
    "    }RETURN YO_MISMO.ESTADO = \"ESTUDIANDO\"\n",
    "\n",
    "\n",
    "```"
   ]
  },
  {
   "cell_type": "code",
   "execution_count": null,
   "metadata": {},
   "outputs": [],
   "source": [
    "from datetime import datetime\n",
    "\n",
    "class Estudiante:\n",
    "    def __init__(self, nombre: str, apellido: str, edad: int, estado):\n",
    "        self.nombre = nombre\n",
    "        self.apellido = apellido\n",
    "        self.edad = edad\n",
    "        self.estado = estado\n",
    "    def __str__(self):\n",
    "        return \"Bienvenido seas %s\"%self.nombre\n",
    "    # def cambiarEstado(self, e):\n",
    "    #     if self.estado is not None: #O(1)\n",
    "    #         return \"Esta ocupado!!!!, no molestar. \\t %s\"%e #O(1)\n",
    "    #     return \"Actualmente no esta haciendo nada. %s\"%e #O(1)\n",
    "    "
   ]
  },
  {
   "cell_type": "code",
   "execution_count": 2,
   "metadata": {},
   "outputs": [
    {
     "name": "stdout",
     "output_type": "stream",
     "text": [
      "17-10-2024\n"
     ]
    }
   ],
   "source": [
    "fecha = datetime.now().strftime(\"%d-%m-%Y\")\n",
    "print(fecha)\n",
    "\n",
    "e1 = Estudiante(\"Jean Charly\", \"Joseph\", 32, \"Estudiando\")\n",
    "e2 = Estudiante(\"Nikola\", \"Tesla\", 53, \"Trabajando\")\n",
    "e3 = Estudiante(\"Marie\", \"Curie\", 20, \"Invesetigando\")\n",
    "e4 = Estudiante(\"Thomas\", \"Edison\", 40, None)"
   ]
  },
  {
   "cell_type": "code",
   "execution_count": 4,
   "metadata": {},
   "outputs": [
    {
     "data": {
      "text/plain": [
       "'Nikola'"
      ]
     },
     "execution_count": 4,
     "metadata": {},
     "output_type": "execute_result"
    }
   ],
   "source": [
    "e2.nombre"
   ]
  },
  {
   "cell_type": "code",
   "execution_count": 3,
   "metadata": {},
   "outputs": [
    {
     "name": "stdout",
     "output_type": "stream",
     "text": [
      "Actualmente no esta haciendo nada. 10-10-2024\n"
     ]
    }
   ],
   "source": [
    "print(e4.cambiarEstado(fecha))"
   ]
  },
  {
   "cell_type": "markdown",
   "metadata": {},
   "source": [
    "# Registros\n",
    "\n",
    "Nos permiten almacenar la información de forma persistente, para cualquier dipositivo de entreda de almacenamiento.\n",
    "\n",
    "Tipos de Extensiones\n",
    "\n",
    "- CVS\n",
    "- TXT\n",
    "- XLSX\n",
    "- DOCS\n",
    "- entre otros\n",
    "\n",
    "Tipos de permisos:\n",
    "\n",
    "- Read -> Lectura -> r 4\n",
    "- Write -> Escritura -> w 2\n",
    "- Ejecuter -> Ejucucion -> x 1\n",
    "\n",
    "```\n",
    "OPEN (<nombreArchivo.[csv, txt, xlsx]>, <PERMISO[r, w, a]>, <CODIFICADOR>='UTF-8') COMO ALIAS f{\n",
    "\n",
    "}f.cerrar\n",
    "```"
   ]
  },
  {
   "cell_type": "code",
   "execution_count": 7,
   "metadata": {},
   "outputs": [],
   "source": [
    "with open('CienciasMatematicas.csv', 'w', encoding='UTF-8') as f:\n",
    "    f.writelines(\"nombre|apellido|edad|estatus\\n\")\n",
    "    f.close()"
   ]
  },
  {
   "cell_type": "code",
   "execution_count": 8,
   "metadata": {},
   "outputs": [],
   "source": [
    "with open('CienciasMatematicas.csv', 'a', encoding='UTF-8') as f:\n",
    "    f.writelines(\"Marie|Curie|20|Pensando\\n\")\n",
    "    f.close()"
   ]
  },
  {
   "cell_type": "code",
   "execution_count": 9,
   "metadata": {},
   "outputs": [],
   "source": [
    "#Parte 1, solicitar la informacion\n",
    "\n",
    "nombre = input(\"Ingrese su nombre: \")\n",
    "apellido = input(\"Ingrese su apellido: \")\n",
    "edad = int(input(\"Ingrese su edad: \"))\n",
    "estado = input(\"Que haces hora? \")\n",
    "\n",
    "instaGeneral = Estudiante(nombre, apellido, edad, estado)\n",
    "\n",
    "with open('CienciasMatematicas.csv', 'a', encoding='UTF-8') as f:\n",
    "    f.writelines(f\"{instaGeneral.nombre}|{instaGeneral.apellido}|{instaGeneral.edad}|{instaGeneral.estado}\\n\")\n",
    "    f.close()"
   ]
  },
  {
   "cell_type": "code",
   "execution_count": 10,
   "metadata": {},
   "outputs": [],
   "source": [
    "import pandas as pd\n"
   ]
  },
  {
   "cell_type": "code",
   "execution_count": 12,
   "metadata": {},
   "outputs": [
    {
     "data": {
      "text/html": [
       "<div>\n",
       "<style scoped>\n",
       "    .dataframe tbody tr th:only-of-type {\n",
       "        vertical-align: middle;\n",
       "    }\n",
       "\n",
       "    .dataframe tbody tr th {\n",
       "        vertical-align: top;\n",
       "    }\n",
       "\n",
       "    .dataframe thead th {\n",
       "        text-align: right;\n",
       "    }\n",
       "</style>\n",
       "<table border=\"1\" class=\"dataframe\">\n",
       "  <thead>\n",
       "    <tr style=\"text-align: right;\">\n",
       "      <th></th>\n",
       "      <th>nombre</th>\n",
       "      <th>apellido</th>\n",
       "      <th>edad</th>\n",
       "      <th>estatus</th>\n",
       "    </tr>\n",
       "  </thead>\n",
       "  <tbody>\n",
       "    <tr>\n",
       "      <th>0</th>\n",
       "      <td>Marie</td>\n",
       "      <td>Curie</td>\n",
       "      <td>20</td>\n",
       "      <td>Pensando</td>\n",
       "    </tr>\n",
       "    <tr>\n",
       "      <th>1</th>\n",
       "      <td>Nikola</td>\n",
       "      <td>Tesla</td>\n",
       "      <td>40</td>\n",
       "      <td>Trabajando siempre</td>\n",
       "    </tr>\n",
       "  </tbody>\n",
       "</table>\n",
       "</div>"
      ],
      "text/plain": [
       "   nombre apellido  edad             estatus\n",
       "0   Marie    Curie    20            Pensando\n",
       "1  Nikola    Tesla    40  Trabajando siempre"
      ]
     },
     "execution_count": 12,
     "metadata": {},
     "output_type": "execute_result"
    }
   ],
   "source": [
    "pd.read_csv(\"CienciasMatematicas.csv\", delimiter=\"|\")"
   ]
  },
  {
   "cell_type": "markdown",
   "metadata": {},
   "source": [
    "# Introducción a la Base de Datos\n",
    "### Motores DB - SQL \n",
    "- PostgreSQL\n",
    "- MySQL\n",
    "- MongoDB\n",
    "- Cassandra\n",
    "- SQLite3\n",
    "\n",
    "\n",
    "```\n",
    "Programacion                 Base de Datos\n",
    "\n",
    "clases                         Tablas\n",
    "Atributos                      Campos\n",
    "Instancia                      Registros\n",
    "```\n"
   ]
  },
  {
   "cell_type": "markdown",
   "metadata": {},
   "source": [
    "## Metodologia\n",
    "- Tema de Investigacion\n",
    "- Describir las variables - Variables Descriptivas\n",
    "- Levantamiento de la Informacion\n",
    "- Construccion del Modelo\n",
    "- Crear el Formulario - Captura del Dato\n",
    "- Analisis\n"
   ]
  },
  {
   "cell_type": "code",
   "execution_count": 1,
   "metadata": {},
   "outputs": [],
   "source": [
    "#Importaciones\n",
    "\n",
    "import sqlite3 as s\n",
    "import re"
   ]
  },
  {
   "cell_type": "markdown",
   "metadata": {},
   "source": [
    "### Creacion de archivo de Base de Datos"
   ]
  },
  {
   "cell_type": "code",
   "execution_count": 2,
   "metadata": {},
   "outputs": [
    {
     "name": "stdout",
     "output_type": "stream",
     "text": [
      "La base de dato se ha creado... :)\n"
     ]
    }
   ],
   "source": [
    "with open(\"RegitroDB.db\", 'w', encoding='UTF-8') as f:\n",
    "    f.close()\n",
    "print(\"La base de dato se ha creado... :)\")"
   ]
  },
  {
   "cell_type": "markdown",
   "metadata": {},
   "source": [
    "### Conexion\n",
    "\n",
    "```\n",
    "conn = MOTORDB(user, password, db, host, port)\n",
    "```"
   ]
  },
  {
   "cell_type": "code",
   "execution_count": 3,
   "metadata": {},
   "outputs": [
    {
     "name": "stdout",
     "output_type": "stream",
     "text": [
      "Estas conectado!!!!\n"
     ]
    }
   ],
   "source": [
    "#Primera parte\n",
    "conn = s.connect(\"RegitroDB.db\")\n",
    "print(\"Estas conectado!!!!\")"
   ]
  },
  {
   "cell_type": "code",
   "execution_count": 4,
   "metadata": {},
   "outputs": [],
   "source": [
    "#Segunda parte\n",
    "curso = conn.cursor()"
   ]
  },
  {
   "cell_type": "code",
   "execution_count": 5,
   "metadata": {},
   "outputs": [
    {
     "data": {
      "text/plain": [
       "<sqlite3.Cursor at 0x7bd0e81cf1c0>"
      ]
     },
     "execution_count": 5,
     "metadata": {},
     "output_type": "execute_result"
    }
   ],
   "source": [
    "#Tercera Parte\n",
    "### Crear la tabla con los campos requeridos\n",
    "### Campos (Nombre, Apellido, Edad, Estado)\n",
    "\n",
    "curso.execute(\"\"\"CREATE TABLE estudiantes(id PRIMERY KEY, nombre VARCHAR(30), apellidos VARCHAR(50),  edad REAL, estado TEXT)\"\"\")"
   ]
  },
  {
   "cell_type": "code",
   "execution_count": 6,
   "metadata": {},
   "outputs": [],
   "source": [
    "##Cambios\n",
    "conn.commit()\n"
   ]
  },
  {
   "cell_type": "markdown",
   "metadata": {},
   "source": [
    "### MVC - Modelo Vista Controlador\n"
   ]
  },
  {
   "cell_type": "markdown",
   "metadata": {},
   "source": [
    "#### Creacion de Modelo"
   ]
  },
  {
   "cell_type": "code",
   "execution_count": 7,
   "metadata": {},
   "outputs": [],
   "source": [
    "#Modelo\n",
    "class Estudiante:\n",
    "    contar = 0\n",
    "    def __init__(self, ids, nombre, apellido, edad, estado):\n",
    "        self.ids = ids\n",
    "        self.nombre = nombre\n",
    "        self.apellido = apellido\n",
    "        self.edad = edad\n",
    "        self.estado = estado\n",
    "    def __repr__(self):\n",
    "        self.contar += 1\n",
    "        return \"Bienvenido %s\"%self.nombre\n",
    "    "
   ]
  },
  {
   "cell_type": "code",
   "execution_count": 8,
   "metadata": {},
   "outputs": [],
   "source": [
    "#Vista\n",
    "ids = input(\"Ingrese su cedula de identidad [0000000000]: \")\n",
    "if len(ids) != 11 and ids.isdigit() == True:\n",
    "    print(\"Esto esto no es una cedula valida, debe tener 11 digitos\")\n",
    "ids = f\"{ids[:3]}-{ids[3:10]}-{ids[-1]}\"\n",
    "nombre = input(\"Ingrese su nombre: \")\n",
    "apellido = input(\"Ingrese su apellido: \")\n",
    "edad = int(input(\"Ingrese su edad: \"))\n",
    "estado = input(\"Ingrese su estado: \")"
   ]
  },
  {
   "cell_type": "code",
   "execution_count": 9,
   "metadata": {},
   "outputs": [],
   "source": [
    "e1 = Estudiante(ids, nombre, apellido, edad, estado)"
   ]
  },
  {
   "cell_type": "code",
   "execution_count": 10,
   "metadata": {},
   "outputs": [
    {
     "name": "stdout",
     "output_type": "stream",
     "text": [
      "Bienvenido Jean Charly\n"
     ]
    }
   ],
   "source": [
    "print(e1)"
   ]
  },
  {
   "cell_type": "code",
   "execution_count": 11,
   "metadata": {},
   "outputs": [
    {
     "data": {
      "text/plain": [
       "1"
      ]
     },
     "execution_count": 11,
     "metadata": {},
     "output_type": "execute_result"
    }
   ],
   "source": [
    "e1.contar"
   ]
  },
  {
   "cell_type": "code",
   "execution_count": 12,
   "metadata": {},
   "outputs": [],
   "source": [
    "#Registro\n",
    "reg = [(e1.ids, e1.nombre, e1.apellido, e1.edad, 0), ('00987654321', \"Nikola\", \"Tesla\", 40, 1)]"
   ]
  },
  {
   "cell_type": "code",
   "execution_count": 13,
   "metadata": {},
   "outputs": [
    {
     "data": {
      "text/plain": [
       "<sqlite3.Cursor at 0x7bd0e81cf1c0>"
      ]
     },
     "execution_count": 13,
     "metadata": {},
     "output_type": "execute_result"
    }
   ],
   "source": [
    "curso.executemany(\"INSERT INTO estudiantes VALUES(?,?,?,?,?)\", reg)"
   ]
  },
  {
   "cell_type": "code",
   "execution_count": 14,
   "metadata": {},
   "outputs": [],
   "source": [
    "conn.commit()\n",
    "conn.close()"
   ]
  },
  {
   "cell_type": "markdown",
   "metadata": {},
   "source": [
    "# Programación Orientada a Objeto - Herencia"
   ]
  },
  {
   "cell_type": "code",
   "execution_count": null,
   "metadata": {},
   "outputs": [],
   "source": [
    "class A:\n",
    "    \"\"\"\n",
    "        Esta clase es creada con la finalidad de \n",
    "        ser instanciada a partir de la data capturada\n",
    "        de un una fuente de datos externa... jejeje\n",
    "    \"\"\"\n",
    "    pass\n",
    "    def elemento1():\n",
    "        \"\"\"\n",
    "            Esta funcion es creada con el proposito\n",
    "            de ser llamada en algun momento de su vida\n",
    "            para que pueda modificar un atributo del objeto.\n",
    "        \"\"\"\n",
    "        pass"
   ]
  },
  {
   "cell_type": "code",
   "execution_count": 2,
   "metadata": {},
   "outputs": [
    {
     "name": "stdout",
     "output_type": "stream",
     "text": [
      "Help on class A in module __main__:\n",
      "\n",
      "class A(builtins.object)\n",
      " |  Esta clase es creada con la finalidad de\n",
      " |  ser instanciada a partir de la data capturada\n",
      " |  de un una fuente de datos externa... jejeje\n",
      " |\n",
      " |  Methods defined here:\n",
      " |\n",
      " |  elemento1()\n",
      " |      Esta funcion es creada con el proposito\n",
      " |      de ser llamada en algun momento de su vida\n",
      " |      para que pueda modificar un atributo del objeto.\n",
      " |\n",
      " |  ----------------------------------------------------------------------\n",
      " |  Data descriptors defined here:\n",
      " |\n",
      " |  __dict__\n",
      " |      dictionary for instance variables\n",
      " |\n",
      " |  __weakref__\n",
      " |      list of weak references to the object\n",
      "\n"
     ]
    }
   ],
   "source": [
    "help(A)"
   ]
  },
  {
   "cell_type": "code",
   "execution_count": 5,
   "metadata": {},
   "outputs": [
    {
     "name": "stdout",
     "output_type": "stream",
     "text": [
      "\n",
      "        Esta clase es creada con la finalidad de \n",
      "        ser instanciada a partir de la data capturada\n",
      "        de un una fuente de datos externa... jejeje\n",
      "    \n",
      "\n",
      "            Esta funcion es creada con el proposito\n",
      "            de ser llamada en algun momento de su vida\n",
      "            para que pueda modificar un atributo del objeto.\n",
      "        \n"
     ]
    }
   ],
   "source": [
    "a = A()\n",
    "print(a.__doc__)\n",
    "print(a.elemento1.__doc__)"
   ]
  },
  {
   "cell_type": "markdown",
   "metadata": {},
   "source": [
    "#### Persona\n",
    "    - Cedula\n",
    "    - Nombre\n",
    "    - Apellidos\n",
    "    - Edad\n",
    "    - Sexo\n",
    "#### Estudiantes\n",
    "    - Persona - Herencia\n",
    "    - Matricula\n",
    "#### Maestro\n",
    "    - Persona - Herencia\n",
    "    - Materia\n",
    "#### Aula\n",
    "    - Aula\n",
    "    - Estudiantes\n",
    "    - Maestro"
   ]
  },
  {
   "cell_type": "code",
   "execution_count": null,
   "metadata": {},
   "outputs": [],
   "source": [
    "class Persona:\n",
    "    \"\"\"\n",
    "        Esta clase es creada para obtener las informaciones\n",
    "        principales,tales:\n",
    "        - Cedula ->   str\n",
    "        - Nombre ->   str\n",
    "        - Apellido->  str\n",
    "        - Edad -> int\n",
    "        - Sexo -> bool\n",
    "\n",
    "    \"\"\"\n",
    "\n",
    "    def __init__(self, cedula, nombre, apellido, edad, sexo):\n",
    "        self.cedula = cedula\n",
    "        self.nombre = nombre\n",
    "        self.apellido = apellido\n",
    "        self.edad = edad\n",
    "        self.sexo = sexo\n",
    "\n",
    "        \n",
    "class Estudiante(Persona):\n",
    "    \"\"\"\n",
    "        Esta clase  es para crear el perfil\n",
    "        del un estudiante a partir de la clase\n",
    "        Persona\n",
    "    \"\"\"\n",
    "    def __init__(self, cedula, nombre, apellido, edad, sexo, matricula):\n",
    "        super().__init__(cedula, nombre, apellido, edad, sexo)\n",
    "\n",
    "        self.matricula = matricula\n",
    "    \n",
    "    def __str__(self):\n",
    "        return \"Bienvenido estudiante %s\"%self.nombre\n",
    "\n",
    "class Maestro(Persona):\n",
    "    \"\"\"\n",
    "        Esta clase  es para crear el perfil\n",
    "        del maestro a partir de la clase\n",
    "        Persona\n",
    "    \"\"\"\n",
    "    def __init__(self, cedula, nombre, apellido, edad, sexo, materia):\n",
    "        super().__init__(cedula, nombre, apellido, edad, sexo)\n",
    "\n",
    "        self.materia = materia\n",
    "    \n",
    "    def __str__(self):\n",
    "        return \"Bienvenido maestro %s\"%self.nombre\n",
    "\n",
    "class Aula:\n",
    "    \"\"\" \n",
    "        Clase para poder registrar a Estudiantes y Maestros.\n",
    "    \"\"\"\n",
    "    def __init__(self, aula, estudiante, maestro):\n",
    "        self.aula = aula\n",
    "        self.estudiante = estudiante\n",
    "        self.maestro = maestro\n",
    "    def __str__(self):\n",
    "        return f\"{self.aula}\\n{self.estudiante}\\n{self.maestro}\""
   ]
  },
  {
   "cell_type": "markdown",
   "metadata": {},
   "source": [
    "## Registro"
   ]
  },
  {
   "cell_type": "code",
   "execution_count": 36,
   "metadata": {},
   "outputs": [],
   "source": [
    "### Personas\n",
    "\n",
    "p1 = Persona(\"2342342342\", \"Nikola\", \"Tesla\", 32, False)\n",
    "p2 = Persona(\"2384234232\", \"Marie\", \"Curie\", 40, True)"
   ]
  },
  {
   "cell_type": "code",
   "execution_count": 37,
   "metadata": {},
   "outputs": [
    {
     "name": "stdout",
     "output_type": "stream",
     "text": [
      "Bienvenido estudiante Nikola\n"
     ]
    }
   ],
   "source": [
    "e1 = Estudiante(p1.cedula, p1.nombre, p1.apellido, p1.edad, p1.sexo, \"M-2342342\")\n",
    "print(e1)"
   ]
  },
  {
   "cell_type": "code",
   "execution_count": 38,
   "metadata": {},
   "outputs": [
    {
     "name": "stdout",
     "output_type": "stream",
     "text": [
      "Bienvenido maestro Marie\n"
     ]
    }
   ],
   "source": [
    "m1 = Maestro(p2.cedula, p2.nombre, p2.apellido, p2.edad, p2.sexo, \"Quimica\")\n",
    "print(m1)"
   ]
  },
  {
   "cell_type": "code",
   "execution_count": 39,
   "metadata": {},
   "outputs": [
    {
     "name": "stdout",
     "output_type": "stream",
     "text": [
      "Aula1\n",
      "Bienvenido estudiante Nikola\n",
      "Bienvenido maestro Marie\n"
     ]
    }
   ],
   "source": [
    "a1 = Aula(\"Aula1\", e1, m1)\n",
    "print(a1)"
   ]
  },
  {
   "cell_type": "code",
   "execution_count": 43,
   "metadata": {},
   "outputs": [
    {
     "data": {
      "text/plain": [
       "40"
      ]
     },
     "execution_count": 43,
     "metadata": {},
     "output_type": "execute_result"
    }
   ],
   "source": [
    "a1.maestro.edad"
   ]
  }
 ],
 "metadata": {
  "kernelspec": {
   "display_name": "Python 3",
   "language": "python",
   "name": "python3"
  },
  "language_info": {
   "codemirror_mode": {
    "name": "ipython",
    "version": 3
   },
   "file_extension": ".py",
   "mimetype": "text/x-python",
   "name": "python",
   "nbconvert_exporter": "python",
   "pygments_lexer": "ipython3",
   "version": "3.12.1"
  }
 },
 "nbformat": 4,
 "nbformat_minor": 2
}
