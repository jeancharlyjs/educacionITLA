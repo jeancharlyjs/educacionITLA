{
 "cells": [
  {
   "cell_type": "markdown",
   "metadata": {},
   "source": [
    "## Tipos de Variables\n",
    "```\n",
    "* Variables Primitivas\n",
    "    * String    \" \", ' '\n",
    "    * Integer   23\n",
    "    * Booleanos True, False\n",
    "    * Complejos  234j\n",
    "    * Flotantes  3.14\n",
    "* Variables Colectoras\n",
    "    * Mutables\n",
    "        * Listas\n",
    "            Arreglos:\n",
    "                Vectores\n",
    "                    Vectores Filas [2, 3 4, 5, 6, 7]\n",
    "                    Vectores Columnas [[3], [2], [4], [5]]\n",
    "        * Matrices\n",
    "            [\n",
    "                [\n",
    "                    [], [], []\n",
    "                ], \n",
    "                [\n",
    "                    [], [], []\n",
    "                ], \n",
    "            \n",
    "            ]\n",
    "        * Diccionarios\n",
    "            {key: valor}\n",
    "    * Inmutables\n",
    "        * Tuplas ()\n",
    "        * Conjuntos {12, 234, Jean Charly,}\n",
    "```"
   ]
  },
  {
   "cell_type": "markdown",
   "metadata": {},
   "source": [
    "# Palabras Reservadas"
   ]
  },
  {
   "cell_type": "code",
   "execution_count": 3,
   "metadata": {},
   "outputs": [
    {
     "data": {
      "text/plain": [
       "['False',\n",
       " 'None',\n",
       " 'True',\n",
       " 'and',\n",
       " 'as',\n",
       " 'assert',\n",
       " 'async',\n",
       " 'await',\n",
       " 'break',\n",
       " 'class',\n",
       " 'continue',\n",
       " 'def',\n",
       " 'del',\n",
       " 'elif',\n",
       " 'else',\n",
       " 'except',\n",
       " 'finally',\n",
       " 'for',\n",
       " 'from',\n",
       " 'global',\n",
       " 'if',\n",
       " 'import',\n",
       " 'in',\n",
       " 'is',\n",
       " 'lambda',\n",
       " 'nonlocal',\n",
       " 'not',\n",
       " 'or',\n",
       " 'pass',\n",
       " 'raise',\n",
       " 'return',\n",
       " 'try',\n",
       " 'while',\n",
       " 'with',\n",
       " 'yield']"
      ]
     },
     "execution_count": 3,
     "metadata": {},
     "output_type": "execute_result"
    }
   ],
   "source": [
    "import keyword\n",
    "\n",
    "keyword.kwlist"
   ]
  },
  {
   "cell_type": "code",
   "execution_count": 21,
   "metadata": {},
   "outputs": [
    {
     "name": "stdout",
     "output_type": "stream",
     "text": [
      "Jean Charly Joseph\n",
      "Forma 1\n",
      "Jean Charly Joseph\n",
      "Forma 2\n",
      "Joseph Joseph Joseph\n",
      "Forma 3\n",
      "Jean Charly Joseph\n",
      "Forma 4\n",
      "Jean Charly Joseph\n"
     ]
    }
   ],
   "source": [
    "#Variables Primitivas\n",
    "\n",
    "nombre = \"Jean Charly\"\n",
    "apellidos = 'Joseph'\n",
    "print(nombre, apellidos)\n",
    "\n",
    "\n",
    "#Concatenar\n",
    "\n",
    "print(\"Forma 1\")\n",
    "nombreCompleto = nombre + \" \" + apellidos\n",
    "print(nombreCompleto)\n",
    "\n",
    "print(\"Forma 2\")\n",
    "nombreCompleto1 = \"%s %s %s\"%(apellidos, apellidos, apellidos)\n",
    "print(nombreCompleto1)\n",
    "\n",
    "print(\"Forma 3\")\n",
    "nombreCompleto2 = '{} {}'.format(nombre, apellidos)\n",
    "print(nombreCompleto2)\n",
    "\n",
    "print(\"Forma 4\")\n",
    "nombreCompleto3 = f\"{nombre} {apellidos}\"\n",
    "print(nombreCompleto3)"
   ]
  },
  {
   "cell_type": "code",
   "execution_count": 26,
   "metadata": {},
   "outputs": [
    {
     "name": "stdout",
     "output_type": "stream",
     "text": [
      "23423\n",
      "<class 'int'>\n"
     ]
    }
   ],
   "source": [
    "solicitudNombre = int(input(\"Ingrese su numero: \"))\n",
    "\n",
    "print(solicitudNombre)\n",
    "print(type(solicitudNombre))"
   ]
  },
  {
   "cell_type": "code",
   "execution_count": 28,
   "metadata": {},
   "outputs": [
    {
     "name": "stdout",
     "output_type": "stream",
     "text": [
      "23423Jean Charly Joseph\n"
     ]
    }
   ],
   "source": [
    "print(str(solicitudNombre) + nombreCompleto)"
   ]
  },
  {
   "cell_type": "code",
   "execution_count": 29,
   "metadata": {},
   "outputs": [],
   "source": [
    "#Numericos\n",
    "\n",
    "a = 50     #Entero\n",
    "b = 3.14   #Float\n",
    "c = 4j     #Complex"
   ]
  },
  {
   "cell_type": "code",
   "execution_count": 34,
   "metadata": {},
   "outputs": [
    {
     "name": "stdout",
     "output_type": "stream",
     "text": [
      "Suma\n",
      "\n",
      "(50+4j)\n",
      "100\n",
      "53.14\n",
      "Resta\n",
      "\n",
      "(50-4j)\n",
      "0\n",
      "46.86\n",
      "Multiplicar\n",
      "\n",
      "(100+8j)\n",
      "100\n",
      "53.14\n"
     ]
    }
   ],
   "source": [
    "#Operaciones\n",
    "\n",
    "print(\"Suma\\n\")\n",
    "print(a + c)\n",
    "print(a + a)\n",
    "print(a + b)\n",
    "\n",
    "print(\"Resta\\n\")\n",
    "print(a - c)\n",
    "print(a - a)\n",
    "print(a - b)\n",
    "\n",
    "\n",
    "print(\"Multiplicar\\n\")\n",
    "print((a + c) * 2)\n",
    "print(a + a)\n",
    "print(a + b)"
   ]
  },
  {
   "cell_type": "markdown",
   "metadata": {},
   "source": [
    "# Estructuras Colectoras\n",
    "\n",
    "### Listas\n",
    "\n",
    "\n",
    "```\n",
    "                -5          -4    -3  -2        -1\n",
    "elementos = ['JEAN CHARLY', 24, True, 3j, [\"Nikola Tesla']]\n",
    "                0           1     2   3        4\n",
    "elementos[INDICE]\n",
    "```\n"
   ]
  },
  {
   "cell_type": "code",
   "execution_count": 3,
   "metadata": {},
   "outputs": [],
   "source": [
    "#Listas\n",
    "elementos = [\"Jean Charly\", 23, True, 4j, 3.14, ['Nikola', \"Tesla\", 32]]\n"
   ]
  },
  {
   "cell_type": "code",
   "execution_count": 6,
   "metadata": {},
   "outputs": [
    {
     "name": "stdout",
     "output_type": "stream",
     "text": [
      "11\n",
      "Listas\n",
      "['Jean Charly', 23, True, 4j, 3.14, ['Nikola', 'Tesla', 32]] <<>> 6\n"
     ]
    }
   ],
   "source": [
    "#Tamañ0\n",
    "\n",
    "nombre = \"Jean Charly\"\n",
    "print(len(nombre))\n",
    "\n",
    "print(\"Listas\")\n",
    "print(elementos, \"<<>>\", len(elementos))"
   ]
  },
  {
   "cell_type": "markdown",
   "metadata": {},
   "source": [
    "### Indice\n",
    "#### elemento[$\\real$]"
   ]
  },
  {
   "cell_type": "code",
   "execution_count": 9,
   "metadata": {},
   "outputs": [
    {
     "name": "stdout",
     "output_type": "stream",
     "text": [
      "Jean Charly\n"
     ]
    }
   ],
   "source": [
    "print(elementos[-6])"
   ]
  },
  {
   "cell_type": "code",
   "execution_count": 13,
   "metadata": {},
   "outputs": [
    {
     "name": "stdout",
     "output_type": "stream",
     "text": [
      "32\n"
     ]
    }
   ],
   "source": [
    "print(elementos[5][-1])"
   ]
  },
  {
   "cell_type": "code",
   "execution_count": 15,
   "metadata": {},
   "outputs": [
    {
     "name": "stdout",
     "output_type": "stream",
     "text": [
      "<class 'list'>\n"
     ]
    }
   ],
   "source": [
    "print(type(elementos))"
   ]
  },
  {
   "cell_type": "markdown",
   "metadata": {},
   "source": [
    "### Slice\n"
   ]
  },
  {
   "cell_type": "code",
   "execution_count": 95,
   "metadata": {},
   "outputs": [
    {
     "name": "stdout",
     "output_type": "stream",
     "text": [
      "['Jean Charly', 23, True]\n",
      "['Marie Curie', 4j, True, 'Nikola', 'Tesla', 'Jean Charly']\n"
     ]
    }
   ],
   "source": [
    "#Parte 1\n",
    "\n",
    "elementos1 = elementos[0:3]\n",
    "print(elementos1)\n",
    "\n",
    "elemento4 = ['Marie Curie', 4j, True,\"Nikola\", \"Tesla\", 'Jean Charly']\n",
    "print(elemento4)"
   ]
  },
  {
   "cell_type": "code",
   "execution_count": 99,
   "metadata": {},
   "outputs": [
    {
     "data": {
      "text/plain": [
       "[4j, True, 'Nikola', 'Tesla', 'Jean Charly']"
      ]
     },
     "execution_count": 99,
     "metadata": {},
     "output_type": "execute_result"
    }
   ],
   "source": [
    "#Parte 2\n",
    "elemento4[1:]"
   ]
  },
  {
   "cell_type": "code",
   "execution_count": 100,
   "metadata": {},
   "outputs": [
    {
     "data": {
      "text/plain": [
       "['Marie Curie', 4j, True, 'Nikola']"
      ]
     },
     "execution_count": 100,
     "metadata": {},
     "output_type": "execute_result"
    }
   ],
   "source": [
    "#Parte 3\n",
    "elemento4[:4]"
   ]
  },
  {
   "cell_type": "code",
   "execution_count": 116,
   "metadata": {},
   "outputs": [
    {
     "data": {
      "text/plain": [
       "['Marie Curie', 4j, True, 'Nikola', 'Tesla', 'Jean Charly']"
      ]
     },
     "execution_count": 116,
     "metadata": {},
     "output_type": "execute_result"
    }
   ],
   "source": [
    "#Parte 4\n",
    "elemento4[:]"
   ]
  },
  {
   "cell_type": "code",
   "execution_count": 114,
   "metadata": {},
   "outputs": [
    {
     "data": {
      "text/plain": [
       "['Marie Curie', 'Nikola']"
      ]
     },
     "execution_count": 114,
     "metadata": {},
     "output_type": "execute_result"
    }
   ],
   "source": [
    "#Parte 4\n",
    "elemento4[0:5:3]"
   ]
  },
  {
   "cell_type": "code",
   "execution_count": 19,
   "metadata": {},
   "outputs": [
    {
     "data": {
      "text/plain": [
       "['Jean Charly',\n",
       " 23,\n",
       " True,\n",
       " 4j,\n",
       " 3.14,\n",
       " ['Nikola', 'Tesla', 32],\n",
       " 'Jean Charly',\n",
       " 23,\n",
       " True]"
      ]
     },
     "execution_count": 19,
     "metadata": {},
     "output_type": "execute_result"
    }
   ],
   "source": [
    "elementos + elementos1"
   ]
  },
  {
   "cell_type": "code",
   "execution_count": 20,
   "metadata": {},
   "outputs": [
    {
     "data": {
      "text/plain": [
       "['Jean Charly',\n",
       " 23,\n",
       " True,\n",
       " 4j,\n",
       " 3.14,\n",
       " ['Nikola', 'Tesla', 32],\n",
       " 'Jean Charly',\n",
       " 23,\n",
       " True,\n",
       " 4j,\n",
       " 3.14,\n",
       " ['Nikola', 'Tesla', 32],\n",
       " 'Jean Charly',\n",
       " 23,\n",
       " True,\n",
       " 4j,\n",
       " 3.14,\n",
       " ['Nikola', 'Tesla', 32]]"
      ]
     },
     "execution_count": 20,
     "metadata": {},
     "output_type": "execute_result"
    }
   ],
   "source": [
    "elementos * 3"
   ]
  },
  {
   "cell_type": "code",
   "execution_count": 23,
   "metadata": {},
   "outputs": [],
   "source": [
    "elementos += elementos"
   ]
  },
  {
   "cell_type": "code",
   "execution_count": 24,
   "metadata": {},
   "outputs": [
    {
     "data": {
      "text/plain": [
       "['Jean Charly',\n",
       " 23,\n",
       " True,\n",
       " 4j,\n",
       " 3.14,\n",
       " ['Nikola', 'Tesla', 32],\n",
       " 'Jean Charly',\n",
       " 23,\n",
       " True,\n",
       " 4j,\n",
       " 3.14,\n",
       " ['Nikola', 'Tesla', 32]]"
      ]
     },
     "execution_count": 24,
     "metadata": {},
     "output_type": "execute_result"
    }
   ],
   "source": [
    "elementos"
   ]
  },
  {
   "cell_type": "code",
   "execution_count": 56,
   "metadata": {},
   "outputs": [
    {
     "name": "stdout",
     "output_type": "stream",
     "text": [
      "[]\n"
     ]
    }
   ],
   "source": [
    "elementos2 = []\n",
    "print(elementos2)\n"
   ]
  },
  {
   "cell_type": "code",
   "execution_count": 57,
   "metadata": {},
   "outputs": [
    {
     "name": "stdout",
     "output_type": "stream",
     "text": [
      "['Marie Curie']\n"
     ]
    }
   ],
   "source": [
    "#Append\n",
    "\n",
    "elementos2.append(\"Marie Curie\")\n",
    "print(elementos2)"
   ]
  },
  {
   "cell_type": "code",
   "execution_count": 58,
   "metadata": {},
   "outputs": [],
   "source": [
    "elementos3 = elementos2\n"
   ]
  },
  {
   "cell_type": "code",
   "execution_count": 83,
   "metadata": {},
   "outputs": [
    {
     "name": "stdout",
     "output_type": "stream",
     "text": [
      "Elementos3:  124242400999488 \n",
      "Elementos2 : 124242400999488 \n",
      "Elementos4 : 124242399063872\n"
     ]
    }
   ],
   "source": [
    "print(\"Elementos3: \", id(elementos3), \"\\n\" \"Elementos2 :\", id(elementos2),  \"\\n\" \"Elementos4 :\", id(elementos4))"
   ]
  },
  {
   "cell_type": "code",
   "execution_count": 67,
   "metadata": {},
   "outputs": [
    {
     "name": "stdout",
     "output_type": "stream",
     "text": [
      "['Marie Curie', 34, 34, 34, 34, 34]\n",
      "['Marie Curie', 34, 34, 34, 34, 34]\n"
     ]
    }
   ],
   "source": [
    "elementos3.append(34)\n",
    "print(elementos2)\n",
    "print(elementos3)"
   ]
  },
  {
   "cell_type": "code",
   "execution_count": 70,
   "metadata": {},
   "outputs": [
    {
     "name": "stdout",
     "output_type": "stream",
     "text": [
      "['Marie Curie', 34, 34, 34, 34, 34]\n",
      "['Marie Curie', 34, 34, 34, 34, 34]\n",
      "['Marie Curie', 34, 34, 34, 34, 34]\n"
     ]
    }
   ],
   "source": [
    "elementos4 = elementos3.copy()\n",
    "print(elementos2)\n",
    "print(elementos3)\n",
    "print(elementos4)"
   ]
  },
  {
   "cell_type": "code",
   "execution_count": 71,
   "metadata": {},
   "outputs": [
    {
     "name": "stdout",
     "output_type": "stream",
     "text": [
      "['Marie Curie', 34, 34, 34, 34, 34]\n",
      "['Marie Curie', 34, 34, 34, 34, 34]\n",
      "['Marie Curie', 34, 34, 34, 34, 34, 'Jean Charly']\n"
     ]
    }
   ],
   "source": [
    "elementos4.append(\"Jean Charly\")\n",
    "print(elementos2)\n",
    "print(elementos3)\n",
    "print(elementos4)"
   ]
  },
  {
   "cell_type": "code",
   "execution_count": 80,
   "metadata": {},
   "outputs": [
    {
     "name": "stdout",
     "output_type": "stream",
     "text": [
      "[]\n",
      "[]\n"
     ]
    }
   ],
   "source": [
    "elementos2.pop()\n",
    "print(elementos2)\n",
    "print(elementos3)"
   ]
  },
  {
   "cell_type": "markdown",
   "metadata": {},
   "source": [
    "### Iterar\n",
    "\n",
    "# $$\\sum^{n}_{i=1} x_i$$\n",
    "\n",
    "```\n",
    "PARA i EN EL RANGO(n){\n",
    "    IMPRIMI(x_i)\n",
    "}\n",
    "```"
   ]
  },
  {
   "cell_type": "code",
   "execution_count": 118,
   "metadata": {},
   "outputs": [
    {
     "name": "stdout",
     "output_type": "stream",
     "text": [
      "0 Marie Curie\n",
      "1 4j\n",
      "2 True\n",
      "3 Nikola\n",
      "4 Tesla\n",
      "5 Jean Charly\n"
     ]
    }
   ],
   "source": [
    "for i in range(len(elemento4)):\n",
    "    print(i, elemento4[i])"
   ]
  },
  {
   "cell_type": "code",
   "execution_count": 120,
   "metadata": {},
   "outputs": [
    {
     "name": "stdout",
     "output_type": "stream",
     "text": [
      "Marie Curie\n",
      "4j\n",
      "True\n",
      "Nikola\n",
      "Tesla\n",
      "Jean Charly\n"
     ]
    }
   ],
   "source": [
    "for i in elemento4:\n",
    "    print(i)"
   ]
  },
  {
   "cell_type": "code",
   "execution_count": 126,
   "metadata": {},
   "outputs": [
    {
     "name": "stdout",
     "output_type": "stream",
     "text": [
      "True\n",
      "Nikola\n",
      "[True, 'Nikola']\n",
      "['Marie Curie', 4j, True, 'Nikola', 'Tesla', 'Jean Charly']\n"
     ]
    }
   ],
   "source": [
    "nuevaLista = []\n",
    "for i in range(len(elemento4)):\n",
    "    if elemento4[i] not in [\"Marie Curie\", 'Jean Charly', 4j, \"Tesla\"]:\n",
    "        print(elemento4[i])\n",
    "        nuevaLista.append(elemento4[i])\n",
    "print(nuevaLista)\n",
    "print(elemento4)"
   ]
  }
 ],
 "metadata": {
  "kernelspec": {
   "display_name": "Python 3",
   "language": "python",
   "name": "python3"
  },
  "language_info": {
   "codemirror_mode": {
    "name": "ipython",
    "version": 3
   },
   "file_extension": ".py",
   "mimetype": "text/x-python",
   "name": "python",
   "nbconvert_exporter": "python",
   "pygments_lexer": "ipython3",
   "version": "3.12.1"
  }
 },
 "nbformat": 4,
 "nbformat_minor": 2
}
