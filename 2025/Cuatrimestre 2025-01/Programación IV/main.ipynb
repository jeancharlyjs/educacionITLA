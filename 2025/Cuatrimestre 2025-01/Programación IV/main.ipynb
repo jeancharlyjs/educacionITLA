{
 "cells": [
  {
   "cell_type": "code",
   "execution_count": 19,
   "metadata": {},
   "outputs": [],
   "source": [
    "#Perfil de Objeto\n",
    "#Nombre\n",
    "#Apellido\n",
    "#Edad\n",
    "#Sexo\n",
    "\n",
    "class perfilEstudiante:\n",
    "    def __init__(self, cedula, nombre, apellido, edad, sexo):\n",
    "        self.cedula = cedula\n",
    "        self.nombre = nombre\n",
    "        self.apellido = apellido\n",
    "        self.edad = edad\n",
    "        self.sexo = sexo\n",
    "    def __str__(self):\n",
    "        if self.sexo == 1:\n",
    "            return \"Bienvenida sea %s\"%self.nombre\n",
    "        return \"Bienvenido sea %s\"%self.nombre\n",
    "    \n",
    "class prestamoSolicitud:\n",
    "    def __init__(self, cedula, cantidadPrestamo, tiempo, tasa):\n",
    "        self.cedula = cedula\n",
    "        self.cantidadPrestamo = cantidadPrestamo\n",
    "        self.tiempo = tiempo\n",
    "        self.tasa = tasa\n",
    "        self.amortizacion = []\n",
    "    def pagoPrestamo(self, cantidadApagar):\n",
    "        self.amortizacion.append(cantidadApagar)\n",
    "        balancePrestamo = self.cantidadPrestamo - sum(self.amortizacion)\n",
    "        print(self.amortizacion)\n",
    "        return balancePrestamo\n"
   ]
  },
  {
   "cell_type": "code",
   "execution_count": null,
   "metadata": {},
   "outputs": [],
   "source": []
  },
  {
   "cell_type": "code",
   "execution_count": 3,
   "metadata": {},
   "outputs": [
    {
     "name": "stdout",
     "output_type": "stream",
     "text": [
      "Bienvenido sea Jean Charly\n",
      "Bienvenida sea Marie\n"
     ]
    }
   ],
   "source": [
    "#Instancia del Objeto\n",
    "\n",
    "p1 = perfilEstudiante(\"Jean Charly\", \"Joseph\", 34, 0)\n",
    "print(p1)\n",
    "p2 = perfilEstudiante(\"Marie\", \"Curie\", 29, 1)\n",
    "print(p2)"
   ]
  },
  {
   "cell_type": "code",
   "execution_count": 6,
   "metadata": {},
   "outputs": [],
   "source": [
    "nombre = input(\"Ingrese su nombre: \")\n",
    "apellidos = input(\"Ingrese su apellidos: \")\n",
    "edad = int(input(\"Ingrese su edad: \"))\n",
    "sexo = int(input(\"Ingrese su sexo: [1=F, 0=M]\"))\n",
    "if sexo < 0 or sexo > 1:\n",
    "    print(\"Estas digitando algo mal, intente nuevamente...\")\n",
    "p3 = perfilEstudiante(nombre, apellidos, edad, sexo)\n"
   ]
  },
  {
   "cell_type": "code",
   "execution_count": 10,
   "metadata": {},
   "outputs": [],
   "source": [
    "p3.nombre = \"Jean Charly\""
   ]
  },
  {
   "cell_type": "code",
   "execution_count": 11,
   "metadata": {},
   "outputs": [
    {
     "name": "stdout",
     "output_type": "stream",
     "text": [
      "Bienvenido sea Jean Charly\n"
     ]
    }
   ],
   "source": [
    "print(p3)"
   ]
  },
  {
   "cell_type": "markdown",
   "metadata": {},
   "source": [
    "# Segunda Parte"
   ]
  },
  {
   "cell_type": "code",
   "execution_count": 20,
   "metadata": {},
   "outputs": [],
   "source": [
    "p4 = perfilEstudiante(\"01\", \"Jean Charly\", \"Joseph\", 34, 0)\n",
    "pm = prestamoSolicitud(p4.cedula, 10000, 12, 3.5)\n"
   ]
  },
  {
   "cell_type": "code",
   "execution_count": 22,
   "metadata": {},
   "outputs": [
    {
     "name": "stdout",
     "output_type": "stream",
     "text": [
      "[1500, 2000]\n"
     ]
    },
    {
     "data": {
      "text/plain": [
       "6500"
      ]
     },
     "execution_count": 22,
     "metadata": {},
     "output_type": "execute_result"
    }
   ],
   "source": [
    "pm.pagoPrestamo(2000)"
   ]
  },
  {
   "cell_type": "code",
   "execution_count": 32,
   "metadata": {},
   "outputs": [],
   "source": [
    "import sys\n",
    "import os\n",
    "\n",
    "cedula = input(\"Ingrese su cedula: \")\n",
    "nombre = input(\"Ingrese su nombre: \")\n",
    "apellidos = input(\"Ingrese su apellidos: \")\n",
    "edad = int(input(\"Ingrese su edad: \"))\n",
    "sexo = int(input(\"Ingrese su sexo: [1=F, 0=M]\"))\n",
    "if sexo < 0 or sexo > 1:\n",
    "    print(\"Estas digitando algo mal, intente nuevamente...\")\n",
    "datos = perfilEstudiante(cedula, nombre, apellidos, edad, sexo)\n",
    "\n",
    "\n",
    "if os.path.exists(\"Registro.csv\") == True:\n",
    "    with open(\"Registro.csv\", 'a', encoding='UTF-8') as f:\n",
    "         f.writelines(\"%s|%s|%s|%s|%s\\n\"%(datos.cedula, datos.nombre, datos.apellido, datos.edad, datos.sexo))\n",
    "else:\n",
    "    with open(\"Registro.csv\", 'w', encoding='UTF-8') as f:\n",
    "        f.writelines(\"Cedula|Nombre|Apellido|Edad|Sexo\\n\")\n",
    "        f.close()"
   ]
  },
  {
   "cell_type": "code",
   "execution_count": 35,
   "metadata": {},
   "outputs": [
    {
     "data": {
      "text/html": [
       "<div>\n",
       "<style scoped>\n",
       "    .dataframe tbody tr th:only-of-type {\n",
       "        vertical-align: middle;\n",
       "    }\n",
       "\n",
       "    .dataframe tbody tr th {\n",
       "        vertical-align: top;\n",
       "    }\n",
       "\n",
       "    .dataframe thead th {\n",
       "        text-align: right;\n",
       "    }\n",
       "</style>\n",
       "<table border=\"1\" class=\"dataframe\">\n",
       "  <thead>\n",
       "    <tr style=\"text-align: right;\">\n",
       "      <th></th>\n",
       "      <th>Cedula</th>\n",
       "      <th>Nombre</th>\n",
       "      <th>Apellido</th>\n",
       "      <th>Edad</th>\n",
       "      <th>Sexo</th>\n",
       "      <th>SexoModificado</th>\n",
       "    </tr>\n",
       "  </thead>\n",
       "  <tbody>\n",
       "    <tr>\n",
       "      <th>0</th>\n",
       "      <td>1</td>\n",
       "      <td>Jean Charly</td>\n",
       "      <td>Joseph</td>\n",
       "      <td>34</td>\n",
       "      <td>0</td>\n",
       "      <td>Masculino</td>\n",
       "    </tr>\n",
       "    <tr>\n",
       "      <th>1</th>\n",
       "      <td>2034234</td>\n",
       "      <td>Nikola</td>\n",
       "      <td>Tesla</td>\n",
       "      <td>32</td>\n",
       "      <td>0</td>\n",
       "      <td>Masculino</td>\n",
       "    </tr>\n",
       "    <tr>\n",
       "      <th>2</th>\n",
       "      <td>2342</td>\n",
       "      <td>Hipatia</td>\n",
       "      <td>Alejandria</td>\n",
       "      <td>20</td>\n",
       "      <td>1</td>\n",
       "      <td>Femenino</td>\n",
       "    </tr>\n",
       "    <tr>\n",
       "      <th>3</th>\n",
       "      <td>23423</td>\n",
       "      <td>Marie</td>\n",
       "      <td>Curie</td>\n",
       "      <td>49</td>\n",
       "      <td>1</td>\n",
       "      <td>Femenino</td>\n",
       "    </tr>\n",
       "  </tbody>\n",
       "</table>\n",
       "</div>"
      ],
      "text/plain": [
       "    Cedula       Nombre    Apellido  Edad  Sexo SexoModificado\n",
       "0        1  Jean Charly      Joseph    34     0      Masculino\n",
       "1  2034234       Nikola       Tesla    32     0      Masculino\n",
       "2     2342      Hipatia  Alejandria    20     1       Femenino\n",
       "3    23423        Marie       Curie    49     1       Femenino"
      ]
     },
     "execution_count": 35,
     "metadata": {},
     "output_type": "execute_result"
    }
   ],
   "source": [
    "import pandas as pd\n",
    "\n",
    "df = pd.read_csv('Registro.csv', delimiter=\"|\")\n",
    "df['SexoModificado'] = df['Sexo'].apply(lambda x: \"Femenino\" if x == 1 else \"Masculino\")\n",
    "df"
   ]
  }
 ],
 "metadata": {
  "kernelspec": {
   "display_name": "Python 3",
   "language": "python",
   "name": "python3"
  },
  "language_info": {
   "codemirror_mode": {
    "name": "ipython",
    "version": 3
   },
   "file_extension": ".py",
   "mimetype": "text/x-python",
   "name": "python",
   "nbconvert_exporter": "python",
   "pygments_lexer": "ipython3",
   "version": "3.12.1"
  }
 },
 "nbformat": 4,
 "nbformat_minor": 2
}
