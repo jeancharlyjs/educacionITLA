{
 "cells": [
  {
   "cell_type": "markdown",
   "metadata": {},
   "source": [
    "# Programación Orientada a Objeto\n"
   ]
  },
  {
   "cell_type": "code",
   "execution_count": 5,
   "metadata": {},
   "outputs": [],
   "source": [
    "\"\"\"\n",
    "Perfil\n",
    "    - cedula\n",
    "    - nombre\n",
    "    - apellido\n",
    "    - edad\n",
    "    - sexo\n",
    "\"\"\"\n",
    "\n",
    "class PerfilUsuario:\n",
    "    def __init__(self, cedula, nombre, apellido, edad, sexo):\n",
    "        self.cedula = cedula\n",
    "        self.nombre = nombre\n",
    "        self.apellido = apellido\n",
    "        self.edad = edad \n",
    "        self.sexo = sexo\n",
    "    def __str__(self):\n",
    "        return \"Bienvenido %s\"%self.nombre\n",
    "    \n"
   ]
  },
  {
   "cell_type": "code",
   "execution_count": 9,
   "metadata": {},
   "outputs": [
    {
     "name": "stdout",
     "output_type": "stream",
     "text": [
      "Bienvenido Jean Charly\n",
      "Bienvenido Nikola\n"
     ]
    }
   ],
   "source": [
    "p1 = PerfilUsuario(\"123498u234234\", \"Jean Charly\", \"Joseph\", 43, False)\n",
    "print(p1)\n",
    "\n",
    "p2 = PerfilUsuario(\"29384u2342\", \"Nikola\", \"Tesla\", 50, False)\n",
    "print(p2)"
   ]
  },
  {
   "cell_type": "code",
   "execution_count": 11,
   "metadata": {},
   "outputs": [
    {
     "name": "stdout",
     "output_type": "stream",
     "text": [
      "Jean Charly\n",
      "Nikola\n"
     ]
    }
   ],
   "source": [
    "print(p1.nombre)\n",
    "print(p2.nombre)"
   ]
  },
  {
   "cell_type": "markdown",
   "metadata": {},
   "source": [
    "# Ficheros\n",
    "\n",
    "```<open>(nombre.<extension>, [Lectura, Escritura, Edicion], Codificador)```"
   ]
  },
  {
   "cell_type": "code",
   "execution_count": 16,
   "metadata": {},
   "outputs": [],
   "source": [
    "with open(\"BaseDatosPerfil.csv\", 'w', encoding='UTF-8') as f:\n",
    "    f.writelines(\"cedula;nombre;apellido;edad;sexo\\n\")\n",
    "    f.close()"
   ]
  },
  {
   "cell_type": "code",
   "execution_count": 18,
   "metadata": {},
   "outputs": [],
   "source": [
    "with open(\"BaseDatosPerfil.csv\", 'a', encoding='UTF-8') as f:\n",
    "    f.writelines(\"%s;%s;%s;%s;%s\\n\"%(p2.cedula, p2.nombre, p2.apellido, p2.edad, p2.sexo))\n",
    "    f.close()"
   ]
  },
  {
   "cell_type": "code",
   "execution_count": 19,
   "metadata": {},
   "outputs": [],
   "source": [
    "import re\n",
    "\n",
    "regla = re.compile(r\"^[a-zA-Z\\s]+$\")"
   ]
  },
  {
   "cell_type": "code",
   "execution_count": 24,
   "metadata": {},
   "outputs": [
    {
     "name": "stdout",
     "output_type": "stream",
     "text": [
      "Excelente, tu nombre esta correctamente escrito\n"
     ]
    }
   ],
   "source": [
    "nombre = \"Jean\"\n",
    "\n",
    "if bool(regla.match(nombre)) is True:\n",
    "    print(\"Excelente, tu nombre esta correctamente escrito\")\n",
    "else:\n",
    "    print(\"El nombre que ingresaste, tiene numero a algun caracter.\")"
   ]
  },
  {
   "cell_type": "code",
   "execution_count": 27,
   "metadata": {},
   "outputs": [
    {
     "data": {
      "text/html": [
       "<div>\n",
       "<style scoped>\n",
       "    .dataframe tbody tr th:only-of-type {\n",
       "        vertical-align: middle;\n",
       "    }\n",
       "\n",
       "    .dataframe tbody tr th {\n",
       "        vertical-align: top;\n",
       "    }\n",
       "\n",
       "    .dataframe thead th {\n",
       "        text-align: right;\n",
       "    }\n",
       "</style>\n",
       "<table border=\"1\" class=\"dataframe\">\n",
       "  <thead>\n",
       "    <tr style=\"text-align: right;\">\n",
       "      <th></th>\n",
       "      <th>Nombre</th>\n",
       "      <th>Apellidos</th>\n",
       "    </tr>\n",
       "  </thead>\n",
       "  <tbody>\n",
       "    <tr>\n",
       "      <th>0</th>\n",
       "      <td>Jean Chalry</td>\n",
       "      <td>Joseph</td>\n",
       "    </tr>\n",
       "    <tr>\n",
       "      <th>1</th>\n",
       "      <td>Nikola</td>\n",
       "      <td>Tesla</td>\n",
       "    </tr>\n",
       "    <tr>\n",
       "      <th>2</th>\n",
       "      <td>Isaac234</td>\n",
       "      <td>Newton</td>\n",
       "    </tr>\n",
       "    <tr>\n",
       "      <th>3</th>\n",
       "      <td>Mari234</td>\n",
       "      <td>Curie</td>\n",
       "    </tr>\n",
       "  </tbody>\n",
       "</table>\n",
       "</div>"
      ],
      "text/plain": [
       "        Nombre Apellidos\n",
       "0  Jean Chalry    Joseph\n",
       "1       Nikola     Tesla\n",
       "2     Isaac234    Newton\n",
       "3      Mari234     Curie"
      ]
     },
     "execution_count": 27,
     "metadata": {},
     "output_type": "execute_result"
    }
   ],
   "source": [
    "nombre1 = [\"Jean Chalry\", \"Nikola\", \"Isaac234\", \"Mari234\"]\n",
    "apellidos = [\"Joseph\", \"Tesla\", \"Newton\", \"Curie\"]\n",
    "\n",
    "import pandas as pd\n",
    "\n",
    "df = pd.DataFrame({\"Nombre\": nombre1, \"Apellidos\": apellidos})\n",
    "df"
   ]
  },
  {
   "cell_type": "code",
   "execution_count": 28,
   "metadata": {},
   "outputs": [],
   "source": [
    "def validacion(n):\n",
    "    regla = re.compile(r\"^[a-zA-Z\\s]+$\")\n",
    "    if bool(regla.match(n)) is True:\n",
    "        return n\n",
    "    else:\n",
    "        return \"No aplica\"\n",
    "    \n"
   ]
  },
  {
   "cell_type": "code",
   "execution_count": 31,
   "metadata": {},
   "outputs": [
    {
     "data": {
      "text/plain": [
       "array(['Jean Chalry', 'Nikola', 'No aplica', 'No aplica'], dtype='<U11')"
      ]
     },
     "execution_count": 31,
     "metadata": {},
     "output_type": "execute_result"
    }
   ],
   "source": [
    "import numpy as np\n",
    "\n",
    "df1 = np.vectorize(validacion)(df[\"Nombre\"].tolist())\n",
    "df1"
   ]
  },
  {
   "cell_type": "code",
   "execution_count": 33,
   "metadata": {},
   "outputs": [
    {
     "data": {
      "text/plain": [
       "array(['Jean Chalry', 'Nikola'], dtype='<U11')"
      ]
     },
     "execution_count": 33,
     "metadata": {},
     "output_type": "execute_result"
    }
   ],
   "source": [
    "df1[df1 !=\"No aplica\"]"
   ]
  }
 ],
 "metadata": {
  "kernelspec": {
   "display_name": "Python 3",
   "language": "python",
   "name": "python3"
  },
  "language_info": {
   "codemirror_mode": {
    "name": "ipython",
    "version": 3
   },
   "file_extension": ".py",
   "mimetype": "text/x-python",
   "name": "python",
   "nbconvert_exporter": "python",
   "pygments_lexer": "ipython3",
   "version": "3.10.13"
  }
 },
 "nbformat": 4,
 "nbformat_minor": 2
}
