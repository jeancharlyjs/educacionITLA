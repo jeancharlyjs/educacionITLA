{
 "cells": [
  {
   "cell_type": "markdown",
   "id": "7fa562db-08b9-4060-9580-81cb389321e0",
   "metadata": {},
   "source": [
    "# Variables \n",
    "* Primitiva\n",
    "* Colectora\n",
    "* Sistema Operativo"
   ]
  },
  {
   "cell_type": "markdown",
   "id": "1185ca59-2f48-460e-baa3-cdf7258f32d5",
   "metadata": {},
   "source": [
    "### Primitivas\n",
    "* String\n",
    "* Integer\n",
    "* Boolean\n",
    "* Float\n",
    "* Complex"
   ]
  },
  {
   "cell_type": "code",
   "execution_count": 1,
   "id": "370c0abd-5406-40b8-a8f0-6966f8c257ed",
   "metadata": {},
   "outputs": [],
   "source": [
    "nombre = \"Jean Charly\""
   ]
  },
  {
   "cell_type": "code",
   "execution_count": 4,
   "id": "09c1ac9b-f0d5-4311-bd92-c2723acecd6b",
   "metadata": {},
   "outputs": [
    {
     "name": "stdout",
     "output_type": "stream",
     "text": [
      "<class 'str'>\n"
     ]
    }
   ],
   "source": [
    "print(type(nombre))"
   ]
  },
  {
   "cell_type": "code",
   "execution_count": 5,
   "id": "5167a2d6-f8c3-475c-9ca0-a57798194107",
   "metadata": {},
   "outputs": [
    {
     "name": "stdout",
     "output_type": "stream",
     "text": [
      "jean cHarLy\n"
     ]
    }
   ],
   "source": [
    "nombre1 = \"jean cHarLy\"\n",
    "print(nombre1)"
   ]
  }
 ],
 "metadata": {
  "kernelspec": {
   "display_name": "Python 3 (ipykernel)",
   "language": "python",
   "name": "python3"
  },
  "language_info": {
   "codemirror_mode": {
    "name": "ipython",
    "version": 3
   },
   "file_extension": ".py",
   "mimetype": "text/x-python",
   "name": "python",
   "nbconvert_exporter": "python",
   "pygments_lexer": "ipython3",
   "version": "3.10.8"
  }
 },
 "nbformat": 4,
 "nbformat_minor": 5
}
