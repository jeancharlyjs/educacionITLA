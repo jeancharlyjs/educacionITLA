{
 "cells": [
  {
   "cell_type": "code",
   "execution_count": 6,
   "metadata": {},
   "outputs": [],
   "source": [
    "import urllib3\n",
    "\n",
    "path = 'https://raw.githubusercontent.com/curran/data/gh-pages/airbnb/airbnb_session_data.txt'\n",
    "\n",
    "HTTPS = urllib3.PoolManager()\n",
    "URL = HTTPS.request(\"GET\", path)\n",
    "datosNormal = URL.data.decode(\"UTF-8\")\n",
    "\n"
   ]
  },
  {
   "cell_type": "code",
   "execution_count": 14,
   "metadata": {},
   "outputs": [],
   "source": [
    "#Creacion de Columnas\n",
    "columnas = datosNormal.split(\"\\n\")[0].split(\"|\")\n",
    "dataset = {}\n",
    "for i in range(len(columnas)):\n",
    "    dataset[columnas[i]] = []"
   ]
  },
  {
   "cell_type": "code",
   "execution_count": 10,
   "metadata": {},
   "outputs": [],
   "source": [
    "#Creacion de Filas\n",
    "elementosFilas = []\n",
    "def cargaDatosLista(n):\n",
    "    return datosNormal.split(\"\\n\")[1:][n].split(\"|\")\n",
    "for i in range(1000):\n",
    "    elementosFilas.append(cargaDatosLista(i))"
   ]
  },
  {
   "cell_type": "code",
   "execution_count": null,
   "metadata": {},
   "outputs": [],
   "source": [
    "for i in range(1000):\n",
    "    print(elementosFilas[i])"
   ]
  },
  {
   "cell_type": "code",
   "execution_count": null,
   "metadata": {},
   "outputs": [],
   "source": [
    "for filas in range(len(elementosFilas)):\n",
    "    for i in range(len(elementosFilas[filas])):\n",
    "        valor = elementosFilas[filas]\n",
    "        for col in range(len(dataset)):\n",
    "           dataset[columnas[col]].append(valor[col])"
   ]
  }
 ],
 "metadata": {
  "kernelspec": {
   "display_name": "Python 3",
   "language": "python",
   "name": "python3"
  },
  "language_info": {
   "codemirror_mode": {
    "name": "ipython",
    "version": 3
   },
   "file_extension": ".py",
   "mimetype": "text/x-python",
   "name": "python",
   "nbconvert_exporter": "python",
   "pygments_lexer": "ipython3",
   "version": "3.10.8"
  }
 },
 "nbformat": 4,
 "nbformat_minor": 2
}
