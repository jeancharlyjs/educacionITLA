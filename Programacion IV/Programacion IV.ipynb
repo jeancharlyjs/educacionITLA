{
 "cells": [
  {
   "cell_type": "markdown",
   "metadata": {},
   "source": [
    "# Fichero"
   ]
  },
  {
   "cell_type": "code",
   "execution_count": 1,
   "metadata": {},
   "outputs": [],
   "source": [
    "with open(\"ArchivoDB.txt\", \"w\", encoding='UTF-8') as f:\n",
    "    f.close()"
   ]
  },
  {
   "cell_type": "markdown",
   "metadata": {},
   "source": [
    "# Modelo"
   ]
  },
  {
   "cell_type": "code",
   "execution_count": 36,
   "metadata": {},
   "outputs": [],
   "source": [
    "class Persona:\n",
    "    \n",
    "    def __init__(self, cedula, nombre, apellido, edad, sexo, estadocivil):\n",
    "        \"\"\"\n",
    "        Esta metodo es el inicializado de los siguientes paramentros de entrada\n",
    "        de la clase Persona que debera ser instanciada de lugar paracada registro.\n",
    "        \"\"\"\n",
    "        self.cedula = cedula\n",
    "        self.nombre = nombre\n",
    "        self.apellido = apellido\n",
    "        self.edad = edad\n",
    "        self.sexo = sexo\n",
    "        self.estadocivil = None\n",
    "    \n",
    "    def modoficarEstadoCivil(self, estado):\n",
    "        \"\"\"\n",
    "        Esta metodo funciona para modificar o conocer el estado civil\n",
    "        de la instancia del objeto.\n",
    "        \"\"\"\n",
    "        if estado is None:\n",
    "            self.estadocivil = input(\"Desea agragar su estado civil? [s/n]\".title())\n",
    "            if self.estadocivil == \"s\".title():\n",
    "                resp = int(input(\"Selecione su estad:\\n1 - Casado/a\\n2 - Soltero\\n 3 - Union Libre\\n>>> \"))\n",
    "                match resp:\n",
    "                    case  1:\n",
    "                        self.estadocivil = \"Casado/a\"\n",
    "                        return self.estadocivil\n",
    "                    case  2:\n",
    "                        self.estadocivil = \"Soltero\"\n",
    "                        return self.estadocivil\n",
    "                    case  3:\n",
    "                        self.estadocivil = \"Union Libre\"\n",
    "        return self.estadocivil\n",
    "\n",
    "    "
   ]
  },
  {
   "cell_type": "code",
   "execution_count": 37,
   "metadata": {},
   "outputs": [],
   "source": [
    "p1 = Persona(\"234234234\", \"Jean Charly\", \"Joseph\", 32, 0, None)"
   ]
  },
  {
   "cell_type": "code",
   "execution_count": 38,
   "metadata": {},
   "outputs": [
    {
     "data": {
      "text/plain": [
       "'Casado/a'"
      ]
     },
     "execution_count": 38,
     "metadata": {},
     "output_type": "execute_result"
    }
   ],
   "source": [
    "p1.modoficarEstadoCivil(None)"
   ]
  },
  {
   "cell_type": "code",
   "execution_count": 39,
   "metadata": {},
   "outputs": [
    {
     "data": {
      "text/plain": [
       "'Casado/a'"
      ]
     },
     "execution_count": 39,
     "metadata": {},
     "output_type": "execute_result"
    }
   ],
   "source": [
    "p1.estadocivil"
   ]
  },
  {
   "cell_type": "code",
   "execution_count": 22,
   "metadata": {},
   "outputs": [
    {
     "name": "stdout",
     "output_type": "stream",
     "text": [
      "<class 'str'>\n"
     ]
    }
   ],
   "source": [
    "print(type(\"Hola\"))"
   ]
  },
  {
   "cell_type": "code",
   "execution_count": 31,
   "metadata": {},
   "outputs": [
    {
     "data": {
      "text/plain": [
       "['hola', 'como', 'estas']"
      ]
     },
     "execution_count": 31,
     "metadata": {},
     "output_type": "execute_result"
    }
   ],
   "source": [
    "elemento = \"hola como estas\".split()\n",
    "elemento\n"
   ]
  },
  {
   "cell_type": "code",
   "execution_count": 32,
   "metadata": {},
   "outputs": [
    {
     "data": {
      "text/plain": [
       "'hola como estas'"
      ]
     },
     "execution_count": 32,
     "metadata": {},
     "output_type": "execute_result"
    }
   ],
   "source": [
    "\" \".join(elemento)"
   ]
  },
  {
   "cell_type": "code",
   "execution_count": 1,
   "metadata": {},
   "outputs": [],
   "source": [
    "import urllib3 \n",
    "\n",
    "ruta = 'https://gist.githubusercontent.com/rnirmal/e01acfdaf54a6f9b24e91ba4cae63518/raw/6b589a5c5a851711e20c5eb28f9d54742d1fe2dc/datasets.csv'\n",
    "URL = urllib3.PoolManager()\n",
    "\n",
    "HTTPS = URL.request(\"GET\", ruta)"
   ]
  },
  {
   "cell_type": "code",
   "execution_count": 2,
   "metadata": {},
   "outputs": [],
   "source": [
    "datos = HTTPS.data.decode(\"UTF-8\")"
   ]
  },
  {
   "cell_type": "code",
   "execution_count": 18,
   "metadata": {},
   "outputs": [],
   "source": [
    "data1 = datos.split(\"\\n\")"
   ]
  },
  {
   "cell_type": "code",
   "execution_count": 19,
   "metadata": {},
   "outputs": [
    {
     "data": {
      "text/html": [
       "<div>\n",
       "<style scoped>\n",
       "    .dataframe tbody tr th:only-of-type {\n",
       "        vertical-align: middle;\n",
       "    }\n",
       "\n",
       "    .dataframe tbody tr th {\n",
       "        vertical-align: top;\n",
       "    }\n",
       "\n",
       "    .dataframe thead th {\n",
       "        text-align: right;\n",
       "    }\n",
       "</style>\n",
       "<table border=\"1\" class=\"dataframe\">\n",
       "  <thead>\n",
       "    <tr style=\"text-align: right;\">\n",
       "      <th></th>\n",
       "      <th>0</th>\n",
       "    </tr>\n",
       "  </thead>\n",
       "  <tbody>\n",
       "    <tr>\n",
       "      <th>0</th>\n",
       "      <td>datasetName,about,link,categoryName,cloud,vintage</td>\n",
       "    </tr>\n",
       "    <tr>\n",
       "      <th>1</th>\n",
       "      <td>Microbiome Project,American Gut (Microbiome Pr...</td>\n",
       "    </tr>\n",
       "    <tr>\n",
       "      <th>2</th>\n",
       "      <td>GloBI,Global Biotic Interactions (GloBI),https...</td>\n",
       "    </tr>\n",
       "    <tr>\n",
       "      <th>3</th>\n",
       "      <td>Global Climate,Global Climate Data Since 1929,...</td>\n",
       "    </tr>\n",
       "    <tr>\n",
       "      <th>4</th>\n",
       "      <td>CommonCraw 2012,3.5B Web Pages from CommonCraw...</td>\n",
       "    </tr>\n",
       "    <tr>\n",
       "      <th>...</th>\n",
       "      <td>...</td>\n",
       "    </tr>\n",
       "    <tr>\n",
       "      <th>57</th>\n",
       "      <td>ClueWeb12 FACC,ClueWeb12 FACC,http://lemurproj...</td>\n",
       "    </tr>\n",
       "    <tr>\n",
       "      <th>58</th>\n",
       "      <td>Google Ngrams,Google Books Ngrams (2.2TB),http...</td>\n",
       "    </tr>\n",
       "    <tr>\n",
       "      <th>59</th>\n",
       "      <td>EDRM Enron,\"EDRM Enron EMail of 151 users, hos...</td>\n",
       "    </tr>\n",
       "    <tr>\n",
       "      <th>60</th>\n",
       "      <td>GetGlue,GetGlue - users rating TV shows,http:/...</td>\n",
       "    </tr>\n",
       "    <tr>\n",
       "      <th>61</th>\n",
       "      <td>Twitter RepLab,Twitter Data for Online Reputat...</td>\n",
       "    </tr>\n",
       "  </tbody>\n",
       "</table>\n",
       "<p>62 rows × 1 columns</p>\n",
       "</div>"
      ],
      "text/plain": [
       "                                                    0\n",
       "0   datasetName,about,link,categoryName,cloud,vintage\n",
       "1   Microbiome Project,American Gut (Microbiome Pr...\n",
       "2   GloBI,Global Biotic Interactions (GloBI),https...\n",
       "3   Global Climate,Global Climate Data Since 1929,...\n",
       "4   CommonCraw 2012,3.5B Web Pages from CommonCraw...\n",
       "..                                                ...\n",
       "57  ClueWeb12 FACC,ClueWeb12 FACC,http://lemurproj...\n",
       "58  Google Ngrams,Google Books Ngrams (2.2TB),http...\n",
       "59  EDRM Enron,\"EDRM Enron EMail of 151 users, hos...\n",
       "60  GetGlue,GetGlue - users rating TV shows,http:/...\n",
       "61  Twitter RepLab,Twitter Data for Online Reputat...\n",
       "\n",
       "[62 rows x 1 columns]"
      ]
     },
     "execution_count": 19,
     "metadata": {},
     "output_type": "execute_result"
    }
   ],
   "source": [
    "import pandas as pd\n",
    "\n",
    "pd.DataFrame(data1)"
   ]
  },
  {
   "cell_type": "markdown",
   "metadata": {},
   "source": [
    "# Programacion Orientada a Objeto - Herencia"
   ]
  },
  {
   "cell_type": "code",
   "execution_count": 131,
   "metadata": {},
   "outputs": [],
   "source": [
    "# Persona\n",
    "# Estudiante\n",
    "# Aula\n",
    "# Maestro\n",
    "\n",
    "### __docstring__\n",
    "\n",
    "class Persona:\n",
    "    \"\"\"\n",
    "    Esta clase será utilizada para otras posibles clasese que pueda\n",
    "    requerir de los atributos de lugar.\n",
    "    \"\"\"\n",
    "    def __init__(self, cedula, nombre, apellidos, edad, sexo, altura):\n",
    "\n",
    "        \"\"\"\n",
    "        Esta funcion es para inicializar los atributos de lugar para ser\n",
    "        utilizado en clases posteriores.\n",
    "        \"\"\"\n",
    "        self.cedula = cedula\n",
    "        self.nombre = nombre\n",
    "        self.apellidos = apellidos\n",
    "        self.edad = edad\n",
    "        self.sexo = sexo\n",
    "        self.altura = altura\n",
    "\n",
    "class Estudiantes(Persona):\n",
    "    CONTADOR = 0\n",
    "    \"\"\"\n",
    "    Clase creada para obtener los datos de los estudiantes\n",
    "    mediante un formulario... \n",
    "    \"\"\"\n",
    "    def __init__(self, cedula, nombre, apellidos, edad, sexo, altura):\n",
    "        super().__init__(cedula, nombre, apellidos, edad, sexo, altura)\n",
    "    def __str__(self):\n",
    "        return (\"Bienvenido %s %s\"%(self.nombre, self.apellidos))\n",
    "    def incremento(self):\n",
    "        self.CONTADOR += 1\n",
    "    \n",
    "class Maestro(Persona):\n",
    "    _CONTADOR = 0\n",
    "    \"\"\"\n",
    "    Clase creada para registrar los maestros que\n",
    "    imparten clase en la institucion ITLA.\n",
    "    \"\"\"\n",
    "    def __init__(self, cedula, nombre, apellidos, edad, sexo, altura, materia):\n",
    "        super().__init__(cedula, nombre, apellidos, edad, sexo, altura)\n",
    "        self.materia = materia\n",
    "    def incremento(self):\n",
    "        _CONTAR += 1\n",
    "\n",
    "class Aula:\n",
    "    \"\"\"\n",
    "    Clase creada para unificar los Estudiantes y un maestro.\n",
    "    \"\"\"\n",
    "    REGISTRO = []\n",
    "    def __init__(self, aula, estudiantes, maestro):\n",
    "        self.aula = aula\n",
    "        self.estudiantes = estudiantes\n",
    "        self.maestro = maestro\n",
    "    def __str__(self, materia):\n",
    "        return \"Bienvenido a su clase de %s\"%self.materia\n",
    "    def registros(self, nombre):\n",
    "        if nombre in Aula.REGISTRO:\n",
    "            return \"El nombre %s, ya esta registrado\"%nombre\n",
    "        return Aula.REGISTRO.append(nombre)\n",
    "    def __len__(self):\n",
    "        return len(Aula.REGISTRO)\n",
    "        \n",
    "\n",
    "\n"
   ]
  },
  {
   "cell_type": "markdown",
   "metadata": {},
   "source": [
    "### Estudiantes"
   ]
  },
  {
   "cell_type": "code",
   "execution_count": 132,
   "metadata": {},
   "outputs": [],
   "source": [
    "e1 = Estudiantes(\"2134234\", \"Jean Charly\", \"Joseph\", 32, False, 1.0)\n",
    "e2 = Estudiantes(\"2893429\", \"Johan\", \"Lugo\", 23, False, 1.4)\n",
    "e3 = Estudiantes(\"2983423\", \"Marie\", \"Curie\", 39, True, 2.8)\n",
    "e1.__str__()\n",
    "e1.incremento()"
   ]
  },
  {
   "cell_type": "markdown",
   "metadata": {},
   "source": [
    "### Maestros"
   ]
  },
  {
   "cell_type": "code",
   "execution_count": 86,
   "metadata": {},
   "outputs": [],
   "source": [
    "m1 = Maestro(\"M2983742\", \"Nikola\", \"Tesla\", 20, False, 1.2, \"Fisica Nuclear\")\n"
   ]
  },
  {
   "cell_type": "markdown",
   "metadata": {},
   "source": [
    "### Aulas"
   ]
  },
  {
   "cell_type": "code",
   "execution_count": 133,
   "metadata": {},
   "outputs": [],
   "source": [
    "aula1 = Aula(\"A1\", e1, m1)\n",
    "aula2 = Aula(\"A1\", e2, m1)\n",
    "aula3 = Aula(\"A1\", e3, m1)"
   ]
  },
  {
   "cell_type": "code",
   "execution_count": 105,
   "metadata": {},
   "outputs": [
    {
     "data": {
      "text/plain": [
       "'Jean Charly'"
      ]
     },
     "execution_count": 105,
     "metadata": {},
     "output_type": "execute_result"
    }
   ],
   "source": [
    "aula1.estudiantes.nombre"
   ]
  },
  {
   "cell_type": "code",
   "execution_count": 106,
   "metadata": {},
   "outputs": [
    {
     "data": {
      "text/plain": [
       "'Nikola'"
      ]
     },
     "execution_count": 106,
     "metadata": {},
     "output_type": "execute_result"
    }
   ],
   "source": [
    "aula1.maestro.nombre"
   ]
  },
  {
   "cell_type": "code",
   "execution_count": 134,
   "metadata": {},
   "outputs": [
    {
     "name": "stdout",
     "output_type": "stream",
     "text": [
      "['Jean Charly', 'Johan', 'Marie']\n"
     ]
    }
   ],
   "source": [
    "aula1.registros(aula1.estudiantes.nombre)\n",
    "aula2.registros(aula2.estudiantes.nombre)\n",
    "aula3.registros(aula3.estudiantes.nombre)\n",
    "print(Aula.REGISTRO)"
   ]
  },
  {
   "cell_type": "code",
   "execution_count": 135,
   "metadata": {},
   "outputs": [
    {
     "data": {
      "text/plain": [
       "'El nombre Jean Charly, ya esta registrado'"
      ]
     },
     "execution_count": 135,
     "metadata": {},
     "output_type": "execute_result"
    }
   ],
   "source": [
    "aula1.registros(aula1.estudiantes.nombre)\n"
   ]
  }
 ],
 "metadata": {
  "kernelspec": {
   "display_name": "Python 3",
   "language": "python",
   "name": "python3"
  },
  "language_info": {
   "codemirror_mode": {
    "name": "ipython",
    "version": 3
   },
   "file_extension": ".py",
   "mimetype": "text/x-python",
   "name": "python",
   "nbconvert_exporter": "python",
   "pygments_lexer": "ipython3",
   "version": "3.10.8"
  },
  "orig_nbformat": 4
 },
 "nbformat": 4,
 "nbformat_minor": 2
}
