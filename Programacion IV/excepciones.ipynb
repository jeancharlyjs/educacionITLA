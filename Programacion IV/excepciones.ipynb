{
 "cells": [
  {
   "cell_type": "code",
   "execution_count": 22,
   "metadata": {},
   "outputs": [
    {
     "name": "stdout",
     "output_type": "stream",
     "text": [
      "Se esta tratando de dividir entre cero, al parecer el dataset no tiene regitros\n"
     ]
    }
   ],
   "source": [
    "import math \n",
    "import statistics as st\n",
    "from pandas import DataFrame, Series\n",
    "try:\n",
    "    from random import randint\n",
    "except ImportError:\n",
    "    print(\"Algo paso con la importacion\")\n",
    "\n",
    "listaElemento1 = []\n",
    "listaElemento2 = [randint(1, 100) for i in range(100)]\n",
    "listaElementoSexo = [randint(0, 2) for i in range(100)]\n",
    "\n",
    "df = {\"Elemento1\": listaElemento2, \"listaElementoSexo\": listaElementoSexo}\n",
    "\n",
    "listaElemento1 = []\n",
    "listaElemento2 = [randint(1, 100) for i in range(100)]\n",
    "listaElementoSexo = [randint(0, 1) for i in range(100)]\n",
    "\n",
    "df = {\"Elemento1\": listaElemento2, \"listaElementoSexo\": listaElementoSexo}\n",
    "df1 = DataFrame(df)\n",
    "try:\n",
    "    prom = sum(df1[\"Elemento1\"].to_list()) / len(listaElemento1)\n",
    "    pro\n",
    "except ZeroDivisionError:\n",
    "    print(\"Se esta tratando de dividir entre cero, al parecer el dataset no tiene regitros\")"
   ]
  },
  {
   "cell_type": "code",
   "execution_count": 10,
   "metadata": {},
   "outputs": [
    {
     "data": {
      "text/plain": [
       "49.54"
      ]
     },
     "execution_count": 10,
     "metadata": {},
     "output_type": "execute_result"
    }
   ],
   "source": [
    "st.mean(df1[\"Elemento1\"].to_list())"
   ]
  },
  {
   "cell_type": "code",
   "execution_count": 36,
   "metadata": {},
   "outputs": [
    {
     "name": "stdout",
     "output_type": "stream",
     "text": [
      "Error list index out of range\n"
     ]
    }
   ],
   "source": [
    "lista = [randint(1, 100) for i in range(10)]\n",
    "numero = int(input(\"Ingrese un indice: \"))\n",
    "len(lista) - 1\n",
    "# lista[15]\n",
    "try:\n",
    "    numero <= len(lista) -1\n",
    "    print(lista[numero])\n",
    "    \n",
    "except IndexError as e:\n",
    "    print(f\"Error {e}\")\n",
    "        "
   ]
  },
  {
   "cell_type": "code",
   "execution_count": 39,
   "metadata": {},
   "outputs": [
    {
     "name": "stdout",
     "output_type": "stream",
     "text": [
      "Bueno, alguien elimino el archivo [Errno 2] No such file or directory: 'elemento.db'\n"
     ]
    }
   ],
   "source": [
    "try:\n",
    "    with open(\"elemento.db\", 'r') as f:\n",
    "        f.close()\n",
    "except FileNotFoundError as e:\n",
    "    print(f\"Bueno, alguien elimino el archivo {e}\")"
   ]
  },
  {
   "cell_type": "code",
   "execution_count": 44,
   "metadata": {},
   "outputs": [],
   "source": [
    "import requests"
   ]
  },
  {
   "cell_type": "code",
   "execution_count": 46,
   "metadata": {},
   "outputs": [
    {
     "data": {
      "text/plain": [
       "['BaseHTTPError',\n",
       " 'ChunkedEncodingError',\n",
       " 'CompatJSONDecodeError',\n",
       " 'ConnectTimeout',\n",
       " 'ConnectionError',\n",
       " 'ContentDecodingError',\n",
       " 'FileModeWarning',\n",
       " 'HTTPError',\n",
       " 'InvalidHeader',\n",
       " 'InvalidJSONError',\n",
       " 'InvalidProxyURL',\n",
       " 'InvalidSchema',\n",
       " 'InvalidURL',\n",
       " 'JSONDecodeError',\n",
       " 'MissingSchema',\n",
       " 'ProxyError',\n",
       " 'ReadTimeout',\n",
       " 'RequestException',\n",
       " 'RequestsDependencyWarning',\n",
       " 'RequestsWarning',\n",
       " 'RetryError',\n",
       " 'SSLError',\n",
       " 'StreamConsumedError',\n",
       " 'Timeout',\n",
       " 'TooManyRedirects',\n",
       " 'URLRequired',\n",
       " 'UnrewindableBodyError',\n",
       " '__builtins__',\n",
       " '__cached__',\n",
       " '__doc__',\n",
       " '__file__',\n",
       " '__loader__',\n",
       " '__name__',\n",
       " '__package__',\n",
       " '__spec__']"
      ]
     },
     "execution_count": 46,
     "metadata": {},
     "output_type": "execute_result"
    }
   ],
   "source": [
    "dir(requests.exceptions)"
   ]
  },
  {
   "cell_type": "code",
   "execution_count": 53,
   "metadata": {},
   "outputs": [],
   "source": [
    "class Estudiante:\n",
    "    def __init__(self, nombre, apellido, edad):\n",
    "        self.nombre = nombre\n",
    "        self.apellido = apellido\n",
    "        self.edad = edad\n",
    "\n",
    "    def elemento(self, n):\n",
    "        return f\"Bienvenido {self.nombre}, {n}\""
   ]
  },
  {
   "cell_type": "code",
   "execution_count": 54,
   "metadata": {},
   "outputs": [
    {
     "name": "stdout",
     "output_type": "stream",
     "text": [
      "Falta un argumento en la instancia\n"
     ]
    }
   ],
   "source": [
    "try:\n",
    "    p1 = Estudiante(\"Jean Charly\", \"Joseph\")\n",
    "\n",
    "except TypeError:\n",
    "    print(\"Falta un argumento en la instancia\")"
   ]
  },
  {
   "cell_type": "code",
   "execution_count": 58,
   "metadata": {},
   "outputs": [
    {
     "data": {
      "text/plain": [
       "'Bienvenido Jean Charly, Prueba'"
      ]
     },
     "execution_count": 58,
     "metadata": {},
     "output_type": "execute_result"
    }
   ],
   "source": [
    "p1 = Estudiante(\"Jean Charly\", \"Joseph\", 32)\n",
    "p1.elemento(\"Prueba\")"
   ]
  },
  {
   "cell_type": "code",
   "execution_count": null,
   "metadata": {},
   "outputs": [],
   "source": []
  }
 ],
 "metadata": {
  "kernelspec": {
   "display_name": "Python 3",
   "language": "python",
   "name": "python3"
  },
  "language_info": {
   "codemirror_mode": {
    "name": "ipython",
    "version": 3
   },
   "file_extension": ".py",
   "mimetype": "text/x-python",
   "name": "python",
   "nbconvert_exporter": "python",
   "pygments_lexer": "ipython3",
   "version": "3.10.8"
  }
 },
 "nbformat": 4,
 "nbformat_minor": 2
}
