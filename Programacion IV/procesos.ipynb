{
 "cells": [
  {
   "cell_type": "code",
   "execution_count": 1,
   "metadata": {},
   "outputs": [],
   "source": [
    "import multiprocessing\n",
    "import time"
   ]
  },
  {
   "cell_type": "code",
   "execution_count": null,
   "metadata": {},
   "outputs": [],
   "source": [
    "# Declaracion de Funciones\n",
    "\n",
    "def elemento2():\n",
    "    \n",
    "    for i in range(1, 20):\n",
    "        time.sleep(12)\n",
    "        print(\"Soy Elemento2 Proceso 2 >>>>> \", i)\n",
    "    \n",
    "\n",
    "def elemento3():    \n",
    "    \n",
    "    for i in range(1, 20):\n",
    "        time.sleep(15)\n",
    "        print(\"Soy Elemento3 Proceso 3 >>>>> \", i)\n",
    "\n",
    "    print(\"Esto es el P3\")\n",
    "   \n",
    "def elemento1():\n",
    "    \n",
    "    for i in range(1, 20):\n",
    "        time.sleep(10)\n",
    "        print(\"Soy Elemento1 Proceso 1 >>>>> \", i)\n",
    "    \n",
    "\n",
    "def elemento4():\n",
    "    \n",
    "    for i in range(1, 20):\n",
    "        time.sleep(2)\n",
    "        print(\"Soy Elemento4 Proceso 4 >>>>> \", i)\n",
    "    \n",
    "\n",
    "if __name__ == \"__main__\":\n",
    "    procesos = []\n",
    "\n",
    "    procesos.append(multiprocessing.Process(target=elemento1))\n",
    "\n",
    "    procesos.append(multiprocessing.Process(target=elemento2))\n",
    "    procesos.append(multiprocessing.Process(target=elemento3))\n",
    "    procesos.append(multiprocessing.Process(target=elemento4))\n",
    "\n",
    "    for proc in  procesos:\n",
    "        proc.start()\n",
    "    for pro in procesos:\n",
    "        proc.join()\n",
    "    print(\"Fin de los procesos... jejejej\")"
   ]
  },
  {
   "cell_type": "code",
   "execution_count": null,
   "metadata": {},
   "outputs": [],
   "source": []
  }
 ],
 "metadata": {
  "kernelspec": {
   "display_name": "Python 3",
   "language": "python",
   "name": "python3"
  },
  "language_info": {
   "codemirror_mode": {
    "name": "ipython",
    "version": 3
   },
   "file_extension": ".py",
   "mimetype": "text/x-python",
   "name": "python",
   "nbconvert_exporter": "python",
   "pygments_lexer": "ipython3",
   "version": "3.10.8"
  }
 },
 "nbformat": 4,
 "nbformat_minor": 2
}
